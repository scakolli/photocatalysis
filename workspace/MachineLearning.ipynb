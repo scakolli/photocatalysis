{
 "cells": [
  {
   "cell_type": "code",
   "execution_count": 1,
   "metadata": {},
   "outputs": [],
   "source": [
    "import os\n",
    "os.environ['OMP_NUM_THREADS']='32'\n",
    "# os.environ['MKL_NUM_THREADS']='32'"
   ]
  },
  {
   "cell_type": "code",
   "execution_count": 2,
   "metadata": {},
   "outputs": [],
   "source": [
    "import numpy as np\n",
    "import pandas as pd\n",
    "import subprocess\n",
    "import time\n",
    "import matplotlib.pyplot as plt\n",
    "import itertools\n",
    "from copy import deepcopy\n",
    "import sys\n",
    "\n",
    "from rdkit import Chem\n",
    "from rdkit.Chem import AllChem\n",
    "import ase\n",
    "from ase.io import read, write\n",
    "from ase.units import Hartree\n",
    "from ase.visualize import view\n",
    "\n",
    "from ase.io.trajectory import Trajectory\n",
    "import glob\n",
    "import pickle\n",
    "\n",
    "from rdkit.Chem.Draw import IPythonConsole\n",
    "IPythonConsole.drawOptions.addAtomIndices = True\n",
    "\n",
    "from photocatalysis.learners_treesearch import get_population_completed"
   ]
  },
  {
   "cell_type": "code",
   "execution_count": 3,
   "metadata": {},
   "outputs": [],
   "source": [
    "### For automatically reloading import modules... allows you to run changes to code in jupyter without having to reload\n",
    "%load_ext autoreload\n",
    "%autoreload 2"
   ]
  },
  {
   "cell_type": "code",
   "execution_count": 4,
   "metadata": {},
   "outputs": [],
   "source": [
    "### LOCAL\n",
    "# local_path = os.path.join('/home/scakolli/Thesis/photocatalysis/workspace', 'DF_COMPLETE.json')\n",
    "# df = pd.read_json(local_path, orient='split')\n",
    "\n",
    "### REMOTE\n",
    "df = pd.read_json('/home/btpq/bt308495/Thesis/frames/DF_COMPLETE.json', orient='split')"
   ]
  },
  {
   "cell_type": "code",
   "execution_count": 5,
   "metadata": {},
   "outputs": [
    {
     "name": "stdout",
     "output_type": "stream",
     "text": [
      "Fizzled / Total\n",
      "1410 / 65552\n"
     ]
    }
   ],
   "source": [
    "print(\"Fizzled / Total\")\n",
    "print(\"{} / {}\".format(df.loc[df.calc_status == 'fizzled'].shape[0], df.shape[0]))"
   ]
  },
  {
   "cell_type": "code",
   "execution_count": 6,
   "metadata": {},
   "outputs": [],
   "source": [
    "# Get succesfully completed\n",
    "df = get_population_completed(df)"
   ]
  },
  {
   "cell_type": "markdown",
   "metadata": {},
   "source": [
    "---"
   ]
  },
  {
   "cell_type": "code",
   "execution_count": null,
   "metadata": {},
   "outputs": [],
   "source": [
    "from photocatalysis.cheminformatics_fingerprint import get_tanimoto_distmat, get_tanimoto_distmat_multiprocessing\n",
    "from photocatalysis.gpr_model import GPR_tanimoto\n",
    "from photocatalysis.learners_treesearch import generate_ml_vectors\n"
   ]
  },
  {
   "cell_type": "code",
   "execution_count": null,
   "metadata": {},
   "outputs": [],
   "source": [
    "df = generate_ml_vectors(df)"
   ]
  },
  {
   "cell_type": "code",
   "execution_count": null,
   "metadata": {},
   "outputs": [],
   "source": [
    "X = df.morgan_fp_bitvect.values.tolist()"
   ]
  },
  {
   "cell_type": "code",
   "execution_count": null,
   "metadata": {},
   "outputs": [],
   "source": [
    "n = 6000\n",
    "X1 = X.copy()[:n]\n",
    "Y1 = df.IP.values.copy()[:n]"
   ]
  },
  {
   "cell_type": "code",
   "execution_count": null,
   "metadata": {},
   "outputs": [],
   "source": [
    "gpr_test_sp = GPR_tanimoto(multiprocess=1, D_scratch_dir='/localdisk/bt308495/testing')"
   ]
  },
  {
   "cell_type": "code",
   "execution_count": null,
   "metadata": {},
   "outputs": [],
   "source": [
    "gpr_test_sp.fit(X1, Y1)"
   ]
  },
  {
   "cell_type": "code",
   "execution_count": null,
   "metadata": {},
   "outputs": [],
   "source": [
    "y_sp = gpr_test_sp.predict(X1)"
   ]
  },
  {
   "cell_type": "code",
   "execution_count": null,
   "metadata": {},
   "outputs": [],
   "source": [
    "gpr_test_mp = GPR_tanimoto(multiprocess=16, D_scratch_dir='/localdisk/bt308495/testing_mp')"
   ]
  },
  {
   "cell_type": "code",
   "execution_count": null,
   "metadata": {},
   "outputs": [],
   "source": [
    "gpr_test_mp.fit(X1, Y1)"
   ]
  },
  {
   "cell_type": "code",
   "execution_count": null,
   "metadata": {},
   "outputs": [],
   "source": [
    "y1_mp = gpr_test_mp.predict(X1)"
   ]
  },
  {
   "cell_type": "markdown",
   "metadata": {},
   "source": [
    "----"
   ]
  },
  {
   "cell_type": "markdown",
   "metadata": {},
   "source": [
    "# ML"
   ]
  },
  {
   "cell_type": "code",
   "execution_count": 7,
   "metadata": {},
   "outputs": [],
   "source": [
    "from photocatalysis.learners_treesearch import ML_model, generate_ml_vectors\n",
    "from sklearn.metrics import mean_absolute_error, explained_variance_score, r2_score, PredictionErrorDisplay"
   ]
  },
  {
   "cell_type": "code",
   "execution_count": 8,
   "metadata": {},
   "outputs": [],
   "source": [
    "scratch_dir = '/localdisk/bt308495/'\n",
    "scratch_fname = 'scratch_distance_matrix_80_20'\n",
    "\n",
    "# Load Models\n",
    "with open(os.path.join(scratch_dir, 'ML_IP_70_30.pckl'), 'rb') as f:\n",
    "    df_training, df_test, kip = pickle.load(f)\n",
    "\n",
    "with open(os.path.join(scratch_dir,'ML_dGmax_70_30.pckl'), 'rb') as f:\n",
    "    _, _, krdg = pickle.load(f)\n",
    "\n",
    "df_test = generate_ml_vectors(df_test)\n"
   ]
  },
  {
   "cell_type": "code",
   "execution_count": 14,
   "metadata": {},
   "outputs": [],
   "source": [
    "X_test = df_test.morgan_fp_bitvect.values\n",
    "y_test_rdg, y_test_pred_rdgy_test_ip = df_test.IP.values"
   ]
  },
  {
   "cell_type": "code",
   "execution_count": null,
   "metadata": {},
   "outputs": [],
   "source": [
    "gpr_ip = ML_model(df_training, 'IP', kip, multiprocess=16, D_scratch_dir=os.path.join(scratch_dir, scratch_fname))"
   ]
  },
  {
   "cell_type": "code",
   "execution_count": null,
   "metadata": {},
   "outputs": [],
   "source": [
    "# Save\n",
    "# with open(os.path.join(scratch_dir, 'gpr_ip_70_30.pckl'), 'wb') as f:\n",
    "#     pickle.dump(gpr_ip, f)\n",
    "\n",
    "# Load\n",
    "with open(os.path.join(scratch_dir, 'gpr_ip_70_30.pckl'), 'rb') as f:\n",
    "    gpr_ip = pickle.load(f)"
   ]
  },
  {
   "cell_type": "code",
   "execution_count": null,
   "metadata": {},
   "outputs": [],
   "source": [
    "# y_test_pred_ip, std_test_pred_ip = gpr_ip.predict(X_test, return_std=True) **** SLOW (70mins)\n",
    "y_test_pred_ip = gpr_ip.predict(X_test)"
   ]
  },
  {
   "cell_type": "code",
   "execution_count": null,
   "metadata": {},
   "outputs": [],
   "source": [
    "mae_ip = mean_absolute_error(y_test_ip, y_test_pred_ip) # mae\n",
    "evs_ip = explained_variance_score(y_test_ip, y_test_pred_ip) # explained variance\n",
    "r2_ip = r2_score(y_test_ip, y_test_pred_ip) # pearson r2 score"
   ]
  },
  {
   "cell_type": "code",
   "execution_count": null,
   "metadata": {},
   "outputs": [],
   "source": [
    "print(r2_ip)"
   ]
  },
  {
   "cell_type": "code",
   "execution_count": null,
   "metadata": {},
   "outputs": [],
   "source": [
    "display = PredictionErrorDisplay(y_true=y_test_ip, y_pred=y_test_pred_ip)\n",
    "display.plot()"
   ]
  },
  {
   "cell_type": "code",
   "execution_count": null,
   "metadata": {},
   "outputs": [],
   "source": [
    "fig, ax = plt.subplots()\n",
    "ax.scatter(y_test_ip, y_test_pred_ip, label='IP', alpha=0.7)\n",
    "ax.plot(y_test_ip, y_test_ip, 'k')\n",
    "ax.set_xlabel('True')\n",
    "ax.set_ylabel('Predicted')"
   ]
  },
  {
   "cell_type": "code",
   "execution_count": null,
   "metadata": {},
   "outputs": [],
   "source": [
    "# D = np.load('/localdisk/bt308495/D.npy')"
   ]
  },
  {
   "cell_type": "code",
   "execution_count": null,
   "metadata": {},
   "outputs": [],
   "source": [
    "# plt.title('Normalized model uncertainty, $\\sigma / \\sigma_{population}$ ')\n",
    "# plt.hist(std_test_pred_ip/np.nanstd(df_test.IP.values), label='IP', density=True, bins=20)\n",
    "# # plt.hist(stdrdg/np.nanstd(main_frame.dGmax.values), label='dGmax', density=True)\n",
    "# plt.legend()"
   ]
  },
  {
   "cell_type": "markdown",
   "metadata": {},
   "source": [
    "RDG"
   ]
  },
  {
   "cell_type": "code",
   "execution_count": 13,
   "metadata": {},
   "outputs": [],
   "source": [
    "X_test = df_test.morgan_fp_bitvect.values\n",
    "y_test_rdg = df_test.dGmax.values"
   ]
  },
  {
   "cell_type": "code",
   "execution_count": 9,
   "metadata": {},
   "outputs": [
    {
     "name": "stdout",
     "output_type": "stream",
     "text": [
      "Number of cores to be used: 1\n",
      "######### Fitting GPR Model #########\n",
      "Reading distance matrix\n",
      "Constructing kernel\n",
      "Cholesky decomposition\n",
      "Cholesky inverse triangular solve\n",
      "######### Finished Fitting GPR Model. Took 5.034250343365906 mins #########\n"
     ]
    }
   ],
   "source": [
    "gpr_rdg = ML_model(df_training, 'dGmax', krdg, multiprocess=16, D_scratch_dir=os.path.join(scratch_dir, scratch_fname))"
   ]
  },
  {
   "cell_type": "code",
   "execution_count": 12,
   "metadata": {},
   "outputs": [
    {
     "name": "stdout",
     "output_type": "stream",
     "text": [
      "######### Predicting GPR Model #########\n",
      "Reading distance matrix\n",
      "Constructing kernel\n",
      "ystar\n",
      "######### Finished Predicting GPR Model. Took 0.8814074849331519 mins #########\n"
     ]
    }
   ],
   "source": [
    "y_test_pred_rdg = gpr_rdg.predict(X_test)"
   ]
  },
  {
   "cell_type": "code",
   "execution_count": 58,
   "metadata": {},
   "outputs": [
    {
     "data": {
      "text/plain": [
       "Text(0, 0.5, 'Predicted')"
      ]
     },
     "execution_count": 58,
     "metadata": {},
     "output_type": "execute_result"
    },
    {
     "data": {
      "image/png": "[encoded data removed]",
      "text/plain": [
       "<Figure size 640x480 with 1 Axes>"
      ]
     },
     "metadata": {},
     "output_type": "display_data"
    }
   ],
   "source": [
    "fig, ax = plt.subplots()\n",
    "ax.scatter(y_test_rdg, y_test_pred_rdg, label='IP', alpha=0.7, c=D_test_sorted_mean)\n",
    "ax.plot(y_test_rdg, y_test_rdg, 'k')\n",
    "ax.set_xlabel('True')\n",
    "ax.set_ylabel('Predicted')"
   ]
  },
  {
   "cell_type": "code",
   "execution_count": 59,
   "metadata": {},
   "outputs": [
    {
     "data": {
      "text/html": [
       "<div>\n",
       "<style scoped>\n",
       "    .dataframe tbody tr th:only-of-type {\n",
       "        vertical-align: middle;\n",
       "    }\n",
       "\n",
       "    .dataframe tbody tr th {\n",
       "        vertical-align: top;\n",
       "    }\n",
       "\n",
       "    .dataframe thead th {\n",
       "        text-align: right;\n",
       "    }\n",
       "</style>\n",
       "<table border=\"1\" class=\"dataframe\">\n",
       "  <thead>\n",
       "    <tr style=\"text-align: right;\">\n",
       "      <th></th>\n",
       "      <th>molecule_smiles</th>\n",
       "      <th>operation</th>\n",
       "      <th>molecule_last_gen</th>\n",
       "      <th>generation</th>\n",
       "      <th>IP</th>\n",
       "      <th>dGmax</th>\n",
       "      <th>symmetry</th>\n",
       "      <th>added_in_round</th>\n",
       "      <th>calc_status</th>\n",
       "      <th>morgan_fp_bitvect</th>\n",
       "      <th>finished_in_round</th>\n",
       "      <th>utility_function</th>\n",
       "    </tr>\n",
       "  </thead>\n",
       "  <tbody>\n",
       "    <tr>\n",
       "      <th>0</th>\n",
       "      <td>c1ccccc1</td>\n",
       "      <td>none</td>\n",
       "      <td>c1ccccc1</td>\n",
       "      <td>0</td>\n",
       "      <td>2.9277</td>\n",
       "      <td>2.917136</td>\n",
       "      <td>True</td>\n",
       "      <td>0</td>\n",
       "      <td>completed</td>\n",
       "      <td>{}</td>\n",
       "      <td>0</td>\n",
       "      <td>0.010564</td>\n",
       "    </tr>\n",
       "    <tr>\n",
       "      <th>1</th>\n",
       "      <td>c1ccc(-c2ccccc2)cc1</td>\n",
       "      <td>[cH&amp;r6,CH&amp;r5:1]&gt;&gt;[#6:1](-[c]1[ch]ccc[ch]1)</td>\n",
       "      <td>c1ccccc1</td>\n",
       "      <td>1</td>\n",
       "      <td>2.1982</td>\n",
       "      <td>2.897454</td>\n",
       "      <td>True</td>\n",
       "      <td>1</td>\n",
       "      <td>completed</td>\n",
       "      <td>{}</td>\n",
       "      <td>1</td>\n",
       "      <td>-0.699254</td>\n",
       "    </tr>\n",
       "    <tr>\n",
       "      <th>2</th>\n",
       "      <td>c1ccc2ccccc2c1</td>\n",
       "      <td>[cH&amp;r6:1][cH&amp;r6:2]&gt;&gt;[c:1]2cccc[c:2]2</td>\n",
       "      <td>c1ccccc1</td>\n",
       "      <td>1</td>\n",
       "      <td>1.9595</td>\n",
       "      <td>2.937996</td>\n",
       "      <td>True</td>\n",
       "      <td>1</td>\n",
       "      <td>completed</td>\n",
       "      <td>{}</td>\n",
       "      <td>1</td>\n",
       "      <td>-0.978496</td>\n",
       "    </tr>\n",
       "    <tr>\n",
       "      <th>3</th>\n",
       "      <td>C1=CCC=C1</td>\n",
       "      <td>[c:0]1[ch:1][ch][c:3][c!r5:4][c!r5:5]1&gt;&gt;[c:0]1...</td>\n",
       "      <td>c1ccccc1</td>\n",
       "      <td>1</td>\n",
       "      <td>2.1231</td>\n",
       "      <td>3.019702</td>\n",
       "      <td>True</td>\n",
       "      <td>1</td>\n",
       "      <td>completed</td>\n",
       "      <td>{}</td>\n",
       "      <td>1</td>\n",
       "      <td>-0.896602</td>\n",
       "    </tr>\n",
       "    <tr>\n",
       "      <th>4</th>\n",
       "      <td>C(=Cc1ccccc1)c1ccccc1</td>\n",
       "      <td>[ch&amp;r6,CH1&amp;r5:1]&gt;&gt;[*:1](-C=C-c1ccccc1)</td>\n",
       "      <td>c1ccccc1</td>\n",
       "      <td>1</td>\n",
       "      <td>1.6129</td>\n",
       "      <td>3.317615</td>\n",
       "      <td>True</td>\n",
       "      <td>1</td>\n",
       "      <td>completed</td>\n",
       "      <td>{}</td>\n",
       "      <td>1</td>\n",
       "      <td>-1.704715</td>\n",
       "    </tr>\n",
       "    <tr>\n",
       "      <th>...</th>\n",
       "      <td>...</td>\n",
       "      <td>...</td>\n",
       "      <td>...</td>\n",
       "      <td>...</td>\n",
       "      <td>...</td>\n",
       "      <td>...</td>\n",
       "      <td>...</td>\n",
       "      <td>...</td>\n",
       "      <td>...</td>\n",
       "      <td>...</td>\n",
       "      <td>...</td>\n",
       "      <td>...</td>\n",
       "    </tr>\n",
       "    <tr>\n",
       "      <th>315050</th>\n",
       "      <td>C1=CC(=C2Nc3cc4cnoc4cc3N2)C=C1</td>\n",
       "      <td>[chr5,CH1r5:1]&gt;&gt;[n:1]</td>\n",
       "      <td>C1=CC(=C2Nc3cc4ccoc4cc3N2)C=C1</td>\n",
       "      <td>14</td>\n",
       "      <td>0.8816</td>\n",
       "      <td>2.550215</td>\n",
       "      <td>True</td>\n",
       "      <td>14</td>\n",
       "      <td>completed</td>\n",
       "      <td>{}</td>\n",
       "      <td>14</td>\n",
       "      <td>-1.668615</td>\n",
       "    </tr>\n",
       "    <tr>\n",
       "      <th>315063</th>\n",
       "      <td>C1=CC(=C2Nc3ccc4nscc4c3N2)C=C1</td>\n",
       "      <td>[chr5,CH1r5:1]&gt;&gt;[n:1]</td>\n",
       "      <td>C1=CC(=C2Nc3ccc4cscc4c3N2)C=C1</td>\n",
       "      <td>14</td>\n",
       "      <td>0.6107</td>\n",
       "      <td>2.332208</td>\n",
       "      <td>True</td>\n",
       "      <td>14</td>\n",
       "      <td>completed</td>\n",
       "      <td>{}</td>\n",
       "      <td>14</td>\n",
       "      <td>-1.721508</td>\n",
       "    </tr>\n",
       "    <tr>\n",
       "      <th>315100</th>\n",
       "      <td>C1=CC(=C2Nc3cc4c[nH]cc4cc3N2)C=N1</td>\n",
       "      <td>[chr5,CH1r5:1]&gt;&gt;[n:1]</td>\n",
       "      <td>C1=CC(=C2Nc3cc4c[nH]cc4cc3N2)C=C1</td>\n",
       "      <td>14</td>\n",
       "      <td>0.6928</td>\n",
       "      <td>2.612220</td>\n",
       "      <td>True</td>\n",
       "      <td>14</td>\n",
       "      <td>completed</td>\n",
       "      <td>{}</td>\n",
       "      <td>14</td>\n",
       "      <td>-1.919420</td>\n",
       "    </tr>\n",
       "    <tr>\n",
       "      <th>315106</th>\n",
       "      <td>C1=CC(=C2Nc3ccc4n[nH]cc4c3N2)C=C1</td>\n",
       "      <td>[chr5,CH1r5:1]&gt;&gt;[n:1]</td>\n",
       "      <td>C1=CC(=C2Nc3ccc4c[nH]cc4c3N2)C=C1</td>\n",
       "      <td>14</td>\n",
       "      <td>0.5327</td>\n",
       "      <td>2.615735</td>\n",
       "      <td>True</td>\n",
       "      <td>14</td>\n",
       "      <td>completed</td>\n",
       "      <td>{}</td>\n",
       "      <td>14</td>\n",
       "      <td>-2.083035</td>\n",
       "    </tr>\n",
       "    <tr>\n",
       "      <th>315154</th>\n",
       "      <td>C1=CC(=C2Nc3ncc4sccc4c3N2)C=C1</td>\n",
       "      <td>[#6H2r5:1]&gt;&gt;[S:1]</td>\n",
       "      <td>C1=CC(=C2Nc3ncc4c(c3N2)C=CC4)C=C1</td>\n",
       "      <td>14</td>\n",
       "      <td>0.7798</td>\n",
       "      <td>2.589047</td>\n",
       "      <td>True</td>\n",
       "      <td>14</td>\n",
       "      <td>completed</td>\n",
       "      <td>{}</td>\n",
       "      <td>14</td>\n",
       "      <td>-1.809247</td>\n",
       "    </tr>\n",
       "  </tbody>\n",
       "</table>\n",
       "<p>64142 rows × 12 columns</p>\n",
       "</div>"
      ],
      "text/plain": [
       "                          molecule_smiles  \\\n",
       "0                                c1ccccc1   \n",
       "1                     c1ccc(-c2ccccc2)cc1   \n",
       "2                          c1ccc2ccccc2c1   \n",
       "3                               C1=CCC=C1   \n",
       "4                   C(=Cc1ccccc1)c1ccccc1   \n",
       "...                                   ...   \n",
       "315050     C1=CC(=C2Nc3cc4cnoc4cc3N2)C=C1   \n",
       "315063     C1=CC(=C2Nc3ccc4nscc4c3N2)C=C1   \n",
       "315100  C1=CC(=C2Nc3cc4c[nH]cc4cc3N2)C=N1   \n",
       "315106  C1=CC(=C2Nc3ccc4n[nH]cc4c3N2)C=C1   \n",
       "315154     C1=CC(=C2Nc3ncc4sccc4c3N2)C=C1   \n",
       "\n",
       "                                                operation  \\\n",
       "0                                                    none   \n",
       "1              [cH&r6,CH&r5:1]>>[#6:1](-[c]1[ch]ccc[ch]1)   \n",
       "2                    [cH&r6:1][cH&r6:2]>>[c:1]2cccc[c:2]2   \n",
       "3       [c:0]1[ch:1][ch][c:3][c!r5:4][c!r5:5]1>>[c:0]1...   \n",
       "4                  [ch&r6,CH1&r5:1]>>[*:1](-C=C-c1ccccc1)   \n",
       "...                                                   ...   \n",
       "315050                              [chr5,CH1r5:1]>>[n:1]   \n",
       "315063                              [chr5,CH1r5:1]>>[n:1]   \n",
       "315100                              [chr5,CH1r5:1]>>[n:1]   \n",
       "315106                              [chr5,CH1r5:1]>>[n:1]   \n",
       "315154                                  [#6H2r5:1]>>[S:1]   \n",
       "\n",
       "                        molecule_last_gen  generation      IP     dGmax  \\\n",
       "0                                c1ccccc1           0  2.9277  2.917136   \n",
       "1                                c1ccccc1           1  2.1982  2.897454   \n",
       "2                                c1ccccc1           1  1.9595  2.937996   \n",
       "3                                c1ccccc1           1  2.1231  3.019702   \n",
       "4                                c1ccccc1           1  1.6129  3.317615   \n",
       "...                                   ...         ...     ...       ...   \n",
       "315050     C1=CC(=C2Nc3cc4ccoc4cc3N2)C=C1          14  0.8816  2.550215   \n",
       "315063     C1=CC(=C2Nc3ccc4cscc4c3N2)C=C1          14  0.6107  2.332208   \n",
       "315100  C1=CC(=C2Nc3cc4c[nH]cc4cc3N2)C=C1          14  0.6928  2.612220   \n",
       "315106  C1=CC(=C2Nc3ccc4c[nH]cc4c3N2)C=C1          14  0.5327  2.615735   \n",
       "315154  C1=CC(=C2Nc3ncc4c(c3N2)C=CC4)C=C1          14  0.7798  2.589047   \n",
       "\n",
       "        symmetry  added_in_round calc_status morgan_fp_bitvect  \\\n",
       "0           True               0   completed                {}   \n",
       "1           True               1   completed                {}   \n",
       "2           True               1   completed                {}   \n",
       "3           True               1   completed                {}   \n",
       "4           True               1   completed                {}   \n",
       "...          ...             ...         ...               ...   \n",
       "315050      True              14   completed                {}   \n",
       "315063      True              14   completed                {}   \n",
       "315100      True              14   completed                {}   \n",
       "315106      True              14   completed                {}   \n",
       "315154      True              14   completed                {}   \n",
       "\n",
       "        finished_in_round  utility_function  \n",
       "0                       0          0.010564  \n",
       "1                       1         -0.699254  \n",
       "2                       1         -0.978496  \n",
       "3                       1         -0.896602  \n",
       "4                       1         -1.704715  \n",
       "...                   ...               ...  \n",
       "315050                 14         -1.668615  \n",
       "315063                 14         -1.721508  \n",
       "315100                 14         -1.919420  \n",
       "315106                 14         -2.083035  \n",
       "315154                 14         -1.809247  \n",
       "\n",
       "[64142 rows x 12 columns]"
      ]
     },
     "execution_count": 59,
     "metadata": {},
     "output_type": "execute_result"
    }
   ],
   "source": [
    "df"
   ]
  },
  {
   "cell_type": "code",
   "execution_count": 36,
   "metadata": {},
   "outputs": [],
   "source": [
    "from photocatalysis.cheminformatics_fingerprint import get_tanimoto_distmat, get_tanimoto_distmat_multiprocessing"
   ]
  },
  {
   "cell_type": "code",
   "execution_count": 22,
   "metadata": {},
   "outputs": [],
   "source": [
    "resid = y_test_pred_rdg - y_test_rdg\n",
    "indx = np.argsort(resid)"
   ]
  },
  {
   "cell_type": "code",
   "execution_count": 37,
   "metadata": {},
   "outputs": [
    {
     "name": "stderr",
     "output_type": "stream",
     "text": [
      "100%|██████████| 19243/19243 [09:23<00:00, 34.16it/s]\n"
     ]
    }
   ],
   "source": [
    "X_test_sorted = X_test[indx].copy()\n",
    "D_test_sorted = get_tanimoto_distmat(X_test_sorted, X_test_sorted)"
   ]
  },
  {
   "cell_type": "code",
   "execution_count": 38,
   "metadata": {},
   "outputs": [],
   "source": [
    "D_test_sorted_mean = D_test_sorted.mean(axis=1)"
   ]
  },
  {
   "cell_type": "code",
   "execution_count": 60,
   "metadata": {},
   "outputs": [
    {
     "data": {
      "text/plain": [
       "(array([[1.0000e+00, 0.0000e+00, 0.0000e+00, ..., 2.2650e+03, 1.4143e+04,\n",
       "         2.6140e+03],\n",
       "        [1.0000e+00, 0.0000e+00, 3.0000e+00, ..., 3.7240e+03, 1.4620e+04,\n",
       "         2.0600e+02],\n",
       "        [1.0000e+00, 0.0000e+00, 1.5000e+01, ..., 4.5430e+03, 1.1670e+04,\n",
       "         1.2230e+03],\n",
       "        ...,\n",
       "        [1.0000e+00, 0.0000e+00, 3.0000e+00, ..., 4.4740e+03, 1.3528e+04,\n",
       "         3.9100e+02],\n",
       "        [1.0000e+00, 0.0000e+00, 2.0000e+00, ..., 4.8570e+03, 1.3532e+04,\n",
       "         2.0400e+02],\n",
       "        [1.0000e+00, 2.0000e+00, 1.3000e+01, ..., 4.0600e+03, 1.1519e+04,\n",
       "         1.3730e+03]]),\n",
       " array([0.        , 0.0980198 , 0.1960396 , 0.29405941, 0.39207921,\n",
       "        0.49009901, 0.58811881, 0.68613861, 0.78415842, 0.88217822,\n",
       "        0.98019802]),\n",
       " <a list of 19243 BarContainer objects>)"
      ]
     },
     "execution_count": 60,
     "metadata": {},
     "output_type": "execute_result"
    },
    {
     "data": {
      "image/png": "[encoded data removed]",
      "text/plain": [
       "<Figure size 640x480 with 1 Axes>"
      ]
     },
     "metadata": {},
     "output_type": "display_data"
    }
   ],
   "source": [
    "plt.hist(D_test_sorted, bins=20)"
   ]
  },
  {
   "cell_type": "markdown",
   "metadata": {},
   "source": []
  },
  {
   "cell_type": "code",
   "execution_count": 16,
   "metadata": {},
   "outputs": [],
   "source": [
    "mae_rdg = mean_absolute_error(y_test_rdg, y_test_pred_rdg) # mae\n",
    "evs_rdg = explained_variance_score(y_test_rdg, y_test_pred_rdg) # explained variance\n",
    "r2_rdg = r2_score(y_test_rdg, y_test_pred_rdg) # pearson r2 score"
   ]
  },
  {
   "cell_type": "code",
   "execution_count": 47,
   "metadata": {},
   "outputs": [
    {
     "data": {
      "text/plain": [
       "0.9130008569196497"
      ]
     },
     "execution_count": 47,
     "metadata": {},
     "output_type": "execute_result"
    }
   ],
   "source": [
    "r2_rdg"
   ]
  },
  {
   "cell_type": "markdown",
   "metadata": {},
   "source": [
    "---"
   ]
  },
  {
   "cell_type": "markdown",
   "metadata": {},
   "source": [
    "### Fitting GPR using gpr_model.py"
   ]
  },
  {
   "cell_type": "code",
   "execution_count": null,
   "metadata": {},
   "outputs": [],
   "source": [
    "from photocatalysis.learners_treesearch import generate_ml_vectors\n",
    "from sklearn.model_selection import train_test_split\n",
    "\n",
    "from scipy.linalg import cholesky, cho_solve, solve_triangular"
   ]
  },
  {
   "cell_type": "code",
   "execution_count": null,
   "metadata": {},
   "outputs": [],
   "source": [
    "df = generate_ml_vectors(df)\n",
    "df_training, df_test = train_test_split(df, test_size=0.3, random_state=42)\n",
    "\n",
    "X_train = df_training.morgan_fp_bitvect.values\n",
    "y_train = df_training.IP.values"
   ]
  },
  {
   "cell_type": "code",
   "execution_count": null,
   "metadata": {},
   "outputs": [],
   "source": [
    "# Prep data\n",
    "_y_train_mean = np.mean(y_train, axis=0)\n",
    "_y_train_std = np.std(y_train, axis=0)\n",
    "y_train = (y_train - _y_train_mean) / _y_train_std\n",
    "y_train = np.array(y_train, ndmin=2).T"
   ]
  },
  {
   "cell_type": "code",
   "execution_count": null,
   "metadata": {},
   "outputs": [],
   "source": [
    "kernel_params = {'C':1., 'length_scale':1., 'sigma_n':0.1}"
   ]
  },
  {
   "cell_type": "code",
   "execution_count": null,
   "metadata": {},
   "outputs": [],
   "source": [
    "#### 1m3s (16 core)\n",
    "#### 59s (42 core)\n",
    "# Load distance matrix\n",
    "D = np.load('/localdisk/bt308495/scratch_distance_matrix_80_20/D_mat.npy')\n",
    "\n",
    "# construct kernel with noise\n",
    "white_noise = np.eye(len(X_train),len(X_train)) * kernel_params['sigma_n']**2\n",
    "K = kernel_params['C']**2*(1.-D)\n",
    "K += white_noise\n",
    "\n",
    "# Cholesky decomposition\n",
    "L = cholesky(K, lower=True)"
   ]
  },
  {
   "cell_type": "code",
   "execution_count": null,
   "metadata": {},
   "outputs": [],
   "source": [
    "### 1m28s (16 core)\n",
    "### 1m5s (42 core)\n",
    "alpha = cho_solve((L, True), y_train)\n",
    "L_inv = solve_triangular(L.T, np.eye(L.shape[0]))"
   ]
  },
  {
   "cell_type": "code",
   "execution_count": null,
   "metadata": {},
   "outputs": [],
   "source": [
    "# np.save('/localdisk/bt308495/D.npy', D)\n",
    "# np.save('/localdisk/bt308495/K.npy', K)\n",
    "# np.save('/localdisk/bt308495/L.npy', L)\n",
    "# np.save('/localdisk/bt308495/L_inv.npy', L_inv)\n",
    "\n",
    "D = np.load('/localdisk/bt308495/D.npy')\n",
    "K = np.load('/localdisk/bt308495/K.npy')\n",
    "L = np.load('/localdisk/bt308495/L.npy')\n",
    "L_inv = np.load('/localdisk/bt308495/L_inv.npy')"
   ]
  },
  {
   "cell_type": "code",
   "execution_count": null,
   "metadata": {},
   "outputs": [],
   "source": [
    "alpha = cho_solve((L, True), y_train)"
   ]
  },
  {
   "cell_type": "code",
   "execution_count": null,
   "metadata": {},
   "outputs": [],
   "source": [
    "K_gradient = np.dstack(( (np.full((K.shape[0], K.shape[1]), 2*kernel_params['C'],\n",
    "                            dtype=np.array(kernel_params['C']).dtype)*K)[:, :, np.newaxis],\n",
    "                           ( kernel_params['C']**2* np.zeros(K.shape) )[:, :, np.newaxis], \n",
    "                           (np.eye(len(X_train), len(X_train)) * 2*kernel_params['sigma_n'])[:, :, np.newaxis]\n",
    "                        ))"
   ]
  },
  {
   "cell_type": "code",
   "execution_count": null,
   "metadata": {},
   "outputs": [],
   "source": [
    "### 1m53s (32 core)\n",
    "### 1m45.7 (42 core)\n",
    "L_inv_T = L_inv.copy().T\n",
    "K_inv = L_inv.dot(L_inv_T)"
   ]
  },
  {
   "cell_type": "code",
   "execution_count": null,
   "metadata": {},
   "outputs": [],
   "source": [
    "print('Log Marginal Likehood determination')\n",
    "log_likelihood_dims = -0.5 * np.einsum(\"ik,ik->k\", y_train, alpha)\n",
    "log_likelihood_dims -= np.log(np.diag(L)).sum()\n",
    "log_likelihood_dims -= len(X_train) / 2 * np.log(2 * np.pi)\n",
    "log_likelihood = log_likelihood_dims.sum(-1)  # sum over dimensions\n",
    "\n",
    "\n",
    "tmp = np.einsum(\"ik,jk->ijk\", alpha, alpha)  # k: output-dimension\n",
    "tmp -= cho_solve((L, True), np.eye(len(X_train)))[:, :, np.newaxis]"
   ]
  },
  {
   "cell_type": "code",
   "execution_count": null,
   "metadata": {},
   "outputs": [],
   "source": [
    "log_likelihood_gradient_dims = 0.5 * np.einsum(\"ijl,jik->kl\", tmp, K_gradient)\n",
    "log_likelihood_gradient = log_likelihood_gradient_dims.sum(-1)\n",
    "output = float(log_likelihood), log_likelihood_gradient"
   ]
  },
  {
   "cell_type": "markdown",
   "metadata": {},
   "source": [
    "------"
   ]
  },
  {
   "cell_type": "markdown",
   "metadata": {},
   "source": [
    "# GPR MODEL"
   ]
  },
  {
   "cell_type": "code",
   "execution_count": null,
   "metadata": {},
   "outputs": [],
   "source": [
    "test_size = 0.95\n",
    "random_state = 42"
   ]
  },
  {
   "cell_type": "code",
   "execution_count": null,
   "metadata": {},
   "outputs": [],
   "source": [
    "from photocatalysis.learners_treesearch import generate_ml_vectors, get_ML_model\n",
    "from sklearn.metrics import mean_absolute_error\n",
    "\n",
    "from sklearn.model_selection import train_test_split"
   ]
  },
  {
   "cell_type": "code",
   "execution_count": null,
   "metadata": {},
   "outputs": [],
   "source": [
    "### With np.arrays()\n",
    "# X = generate_ml_vectors(df).morgan_fp_bitvect.values\n",
    "\n",
    "# Y_IP = df.IP.values\n",
    "# Y_dGmax = df.dGmax.values\n",
    "\n",
    "# X_train_IP, X_test_IP, y_train_IP, y_test_IP = train_test_split(X, Y_IP, test_size=test_size, random_state=random_state)\n",
    "# X_train_dGmax, X_test_dGmax, y_train_dGmax, y_test_dGmax = train_test_split(X, Y_dGmax, test_size=test_size, random_state=random_state)"
   ]
  },
  {
   "cell_type": "code",
   "execution_count": null,
   "metadata": {},
   "outputs": [],
   "source": [
    "### With pd.DataFrames()\n",
    "df_training, df_test = train_test_split(df, test_size=test_size, random_state=random_state)\n",
    "df_test = generate_ml_vectors(df_test)"
   ]
  },
  {
   "cell_type": "code",
   "execution_count": null,
   "metadata": {},
   "outputs": [],
   "source": [
    "df.plot(y='utility_function', kind='hist', bins=40)"
   ]
  },
  {
   "cell_type": "markdown",
   "metadata": {},
   "source": [
    "----"
   ]
  },
  {
   "cell_type": "code",
   "execution_count": null,
   "metadata": {},
   "outputs": [],
   "source": [
    "start = time.perf_counter()\n",
    "gpr_ip, xtrain_ip, kip = get_ML_model(df_training, 'IP', multiprocess=1, D_scratch_dir='/run/user/1308495/scratch_distance_matrix', niter_local=1)\n",
    "print('IP Fitting Took:', time.perf_counter() - start)"
   ]
  },
  {
   "cell_type": "code",
   "execution_count": null,
   "metadata": {},
   "outputs": [],
   "source": [
    "main_scratch = '/run/user/1308495'\n",
    "save_path = os.path.join(main_scratch, 'ML_IP_95_1.pckl')"
   ]
  },
  {
   "cell_type": "code",
   "execution_count": null,
   "metadata": {},
   "outputs": [],
   "source": [
    "with open(save_path, 'wb') as p:\n",
    "    pickle.dump([gpr_ip, xtrain_ip, kip], p)"
   ]
  },
  {
   "cell_type": "code",
   "execution_count": null,
   "metadata": {},
   "outputs": [],
   "source": [
    "with open(save_path, 'rb') as p:\n",
    "    out = pickle.load(p)"
   ]
  },
  {
   "cell_type": "code",
   "execution_count": null,
   "metadata": {},
   "outputs": [],
   "source": [
    "X_test = df_test.morgan_fp_bitvect.values"
   ]
  },
  {
   "cell_type": "code",
   "execution_count": null,
   "metadata": {},
   "outputs": [],
   "source": [
    "yip, stdip = gpr_ip.predict(X_test, return_std=True)"
   ]
  },
  {
   "cell_type": "markdown",
   "metadata": {},
   "source": [
    "---"
   ]
  },
  {
   "cell_type": "code",
   "execution_count": null,
   "metadata": {},
   "outputs": [],
   "source": [
    "start = time.perf_counter()\n",
    "gpr_rdg, xtrain_rdg, krdg = get_ML_model(df_training, 'dGmax', multiprocess=1, D_scratch_dir='/run/user/1308495/scratch_distance_matrix', niter_local=1)\n",
    "print('RDG Fitting Took:', time.perf_counter() - start)"
   ]
  },
  {
   "cell_type": "code",
   "execution_count": null,
   "metadata": {},
   "outputs": [],
   "source": []
  }
 ],
 "metadata": {
  "kernelspec": {
   "display_name": "osc",
   "language": "python",
   "name": "python3"
  },
  "language_info": {
   "codemirror_mode": {
    "name": "ipython",
    "version": 3
   },
   "file_extension": ".py",
   "mimetype": "text/x-python",
   "name": "python",
   "nbconvert_exporter": "python",
   "pygments_lexer": "ipython3",
   "version": "3.11.4"
  },
  "orig_nbformat": 4
 },
 "nbformat": 4,
 "nbformat_minor": 2
}
