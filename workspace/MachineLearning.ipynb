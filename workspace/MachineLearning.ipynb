{
 "cells": [
  {
   "cell_type": "code",
   "execution_count": 1,
   "metadata": {},
   "outputs": [],
   "source": [
    "import numpy as np\n",
    "import pandas as pd\n",
    "import os\n",
    "import subprocess\n",
    "import time\n",
    "import matplotlib.pyplot as plt\n",
    "import itertools\n",
    "from copy import deepcopy\n",
    "import sys\n",
    "\n",
    "from rdkit import Chem\n",
    "from rdkit.Chem import AllChem\n",
    "import ase\n",
    "from ase.io import read, write\n",
    "from ase.units import Hartree\n",
    "from ase.visualize import view\n",
    "\n",
    "from ase.io.trajectory import Trajectory\n",
    "import glob\n",
    "import pickle\n",
    "\n",
    "from rdkit.Chem.Draw import IPythonConsole\n",
    "IPythonConsole.drawOptions.addAtomIndices = True"
   ]
  },
  {
   "cell_type": "code",
   "execution_count": 82,
   "metadata": {},
   "outputs": [],
   "source": [
    "import multiprocessing"
   ]
  },
  {
   "cell_type": "code",
   "execution_count": 2,
   "metadata": {},
   "outputs": [],
   "source": [
    "from photocatalysis.learners_treesearch import get_population_completed"
   ]
  },
  {
   "cell_type": "code",
   "execution_count": 3,
   "metadata": {},
   "outputs": [],
   "source": [
    "### For automatically reloading import modules... allows you to run changes to code in jupyter without having to reload\n",
    "%load_ext autoreload\n",
    "%autoreload 2"
   ]
  },
  {
   "cell_type": "code",
   "execution_count": 4,
   "metadata": {},
   "outputs": [
    {
     "data": {
      "text/plain": [
       "(32.97690420864071, 51.32511478407276)"
      ]
     },
     "execution_count": 4,
     "metadata": {},
     "output_type": "execute_result"
    }
   ],
   "source": [
    "### PIZZA\n",
    "r = 50\n",
    "c = 25.9\n",
    "r2 = 26\n",
    "c2 = 10.9\n",
    "\n",
    "A = np.pi * (r ** 2)\n",
    "A2 = np.pi * (r2 ** 2)\n",
    "\n",
    "c/A*100**2, c2/A2*100**2"
   ]
  },
  {
   "cell_type": "code",
   "execution_count": 5,
   "metadata": {},
   "outputs": [],
   "source": [
    "### LOCAL\n",
    "# local_path = os.path.join('/home/scakolli/Thesis/photocatalysis/workspace', 'DF_COMPLETE.json')\n",
    "# df = pd.read_json(local_path, orient='split')\n",
    "\n",
    "### REMOTE\n",
    "df = pd.read_json('/home/btpq/bt308495/Thesis/DF_COMPLETE.json', orient='split')"
   ]
  },
  {
   "cell_type": "code",
   "execution_count": 6,
   "metadata": {},
   "outputs": [
    {
     "name": "stdout",
     "output_type": "stream",
     "text": [
      "Fizzled / Total\n",
      "1410 / 65552\n"
     ]
    }
   ],
   "source": [
    "print(\"Fizzled / Total\")\n",
    "print(\"{} / {}\".format(df.loc[df.calc_status == 'fizzled'].shape[0], df.shape[0]))"
   ]
  },
  {
   "cell_type": "code",
   "execution_count": 7,
   "metadata": {},
   "outputs": [],
   "source": [
    "# Get succesfully completed\n",
    "df = get_population_completed(df)"
   ]
  },
  {
   "cell_type": "markdown",
   "metadata": {},
   "source": [
    "------"
   ]
  },
  {
   "cell_type": "markdown",
   "metadata": {},
   "source": [
    "# GPR MODEL"
   ]
  },
  {
   "cell_type": "code",
   "execution_count": 8,
   "metadata": {},
   "outputs": [],
   "source": [
    "test_size = 0.3\n",
    "random_state = 42"
   ]
  },
  {
   "cell_type": "code",
   "execution_count": 9,
   "metadata": {},
   "outputs": [],
   "source": [
    "from photocatalysis.learners_treesearch import generate_ml_vectors, get_ML_model\n",
    "from sklearn.metrics import mean_absolute_error\n",
    "\n",
    "from sklearn.model_selection import train_test_split"
   ]
  },
  {
   "cell_type": "code",
   "execution_count": 10,
   "metadata": {},
   "outputs": [],
   "source": [
    "### With np.arrays()\n",
    "# X = generate_ml_vectors(df).morgan_fp_bitvect.values\n",
    "\n",
    "# Y_IP = df.IP.values\n",
    "# Y_dGmax = df.dGmax.values\n",
    "\n",
    "# X_train_IP, X_test_IP, y_train_IP, y_test_IP = train_test_split(X, Y_IP, test_size=test_size, random_state=random_state)\n",
    "# X_train_dGmax, X_test_dGmax, y_train_dGmax, y_test_dGmax = train_test_split(X, Y_dGmax, test_size=test_size, random_state=random_state)"
   ]
  },
  {
   "cell_type": "code",
   "execution_count": 11,
   "metadata": {},
   "outputs": [],
   "source": [
    "### With pd.DataFrames()\n",
    "df_training, df_test = train_test_split(df, test_size=test_size, random_state=random_state)"
   ]
  },
  {
   "cell_type": "code",
   "execution_count": 12,
   "metadata": {},
   "outputs": [
    {
     "data": {
      "text/plain": [
       "<Axes: ylabel='Frequency'>"
      ]
     },
     "execution_count": 12,
     "metadata": {},
     "output_type": "execute_result"
    },
    {
     "data": {
      "image/png": "[encoded data removed]",
      "text/plain": [
       "<Figure size 640x480 with 1 Axes>"
      ]
     },
     "metadata": {},
     "output_type": "display_data"
    }
   ],
   "source": [
    "df.plot(y='utility_function', kind='hist', bins=40)"
   ]
  },
  {
   "cell_type": "code",
   "execution_count": 212,
   "metadata": {},
   "outputs": [],
   "source": [
    "from photocatalysis.cheminformatics_fingerprint import get_tanimoto_distmat, BulkTanimotoSimilarity_worker, get_tanimoto_distmat_multiprocessing\n",
    "from rdkit.DataStructs.cDataStructs import BulkTanimotoSimilarity\n",
    "from itertools import chain, repeat"
   ]
  },
  {
   "cell_type": "code",
   "execution_count": 20,
   "metadata": {},
   "outputs": [],
   "source": [
    "X = generate_ml_vectors(df).morgan_fp_bitvect.values"
   ]
  },
  {
   "cell_type": "code",
   "execution_count": 86,
   "metadata": {},
   "outputs": [],
   "source": [
    "with open('X.pckl', 'wb') as p:\n",
    "    pickle.dump(X, p)"
   ]
  },
  {
   "cell_type": "code",
   "execution_count": 240,
   "metadata": {},
   "outputs": [],
   "source": [
    "x = X[:12000].copy().tolist()"
   ]
  },
  {
   "cell_type": "markdown",
   "metadata": {},
   "source": [
    "----"
   ]
  },
  {
   "cell_type": "code",
   "execution_count": 13,
   "metadata": {},
   "outputs": [
    {
     "name": "stdout",
     "output_type": "stream",
     "text": [
      "\n",
      "Fitting property: IP\n",
      "Size of fitting set for ML model (get_ML_model): 44899\n",
      "Pbounds {'c': (0.1, 3.0), 'rbf': (1.0, 1.0), 'alpha': (0.001, 1.0)}\n",
      "\n",
      "initial guess [1.0, 1.0, 0.1]\n",
      "FITTING\n",
      "DISTANCE MATRIX\n"
     ]
    },
    {
     "ename": "KeyboardInterrupt",
     "evalue": "",
     "output_type": "error",
     "traceback": [
      "\u001b[0;31m---------------------------------------------------------------------------\u001b[0m",
      "\u001b[0;31mKeyboardInterrupt\u001b[0m                         Traceback (most recent call last)",
      "Cell \u001b[0;32mIn[13], line 2\u001b[0m\n\u001b[1;32m      1\u001b[0m start \u001b[39m=\u001b[39m time\u001b[39m.\u001b[39mperf_counter()\n\u001b[0;32m----> 2\u001b[0m gpr_ip, xtrain_ip, kip \u001b[39m=\u001b[39m get_ML_model(df_training, \u001b[39m'\u001b[39;49m\u001b[39mIP\u001b[39;49m\u001b[39m'\u001b[39;49m)\n\u001b[1;32m      3\u001b[0m \u001b[39mprint\u001b[39m(\u001b[39m'\u001b[39m\u001b[39mIP Fitting Took:\u001b[39m\u001b[39m'\u001b[39m, time\u001b[39m.\u001b[39mperf_counter() \u001b[39m-\u001b[39m start)\n",
      "File \u001b[0;32m~/Thesis/photocatalysis/workspace/photocatalysis/learners_treesearch.py:1066\u001b[0m, in \u001b[0;36mget_ML_model\u001b[0;34m(dframe, prop_name, ml_rep_field)\u001b[0m\n\u001b[1;32m   1063\u001b[0m niter_local\u001b[39m=\u001b[39m\u001b[39m5\u001b[39m\n\u001b[1;32m   1065\u001b[0m gpr \u001b[39m=\u001b[39m GPR_tanimoto()\n\u001b[0;32m-> 1066\u001b[0m gpr \u001b[39m=\u001b[39m _run_gpr_fit_bayesian_opt(X_train, y_train, gpr, \n\u001b[1;32m   1067\u001b[0m                                 starting_values\u001b[39m=\u001b[39;49m[kernel_params[\u001b[39m'\u001b[39;49m\u001b[39mC\u001b[39;49m\u001b[39m'\u001b[39;49m], \n\u001b[1;32m   1068\u001b[0m                                                 kernel_params[\u001b[39m'\u001b[39;49m\u001b[39mlength_scale\u001b[39;49m\u001b[39m'\u001b[39;49m],\n\u001b[1;32m   1069\u001b[0m                                                 kernel_params[\u001b[39m'\u001b[39;49m\u001b[39msigma_n\u001b[39;49m\u001b[39m'\u001b[39;49m]], niter_local\u001b[39m=\u001b[39;49mniter_local)\n\u001b[1;32m   1071\u001b[0m kernel_params[\u001b[39m'\u001b[39m\u001b[39mC\u001b[39m\u001b[39m'\u001b[39m] \u001b[39m=\u001b[39m gpr\u001b[39m.\u001b[39mconstant_kernel\n\u001b[1;32m   1072\u001b[0m kernel_params[\u001b[39m'\u001b[39m\u001b[39mlength_scale\u001b[39m\u001b[39m'\u001b[39m] \u001b[39m=\u001b[39m gpr\u001b[39m.\u001b[39mgamma_kernel\n",
      "File \u001b[0;32m~/Thesis/photocatalysis/workspace/photocatalysis/gpr_model.py:214\u001b[0m, in \u001b[0;36m_run_gpr_fit_bayesian_opt\u001b[0;34m(X_train, y_train, gprx, starting_values, pbounds, niter_local, random_state)\u001b[0m\n\u001b[1;32m    212\u001b[0m \u001b[39mprint\u001b[39m(\u001b[39m'\u001b[39m\u001b[39m'\u001b[39m)\n\u001b[1;32m    213\u001b[0m \u001b[39mprint\u001b[39m(\u001b[39m'\u001b[39m\u001b[39minitial guess\u001b[39m\u001b[39m'\u001b[39m,starting_values)\n\u001b[0;32m--> 214\u001b[0m res \u001b[39m=\u001b[39m minimize(log_marginal_likelihood_target_localopt, \n\u001b[1;32m    215\u001b[0m            starting_values, \n\u001b[1;32m    216\u001b[0m            method\u001b[39m=\u001b[39;49m\u001b[39m\"\u001b[39;49m\u001b[39mL-BFGS-B\u001b[39;49m\u001b[39m\"\u001b[39;49m, jac\u001b[39m=\u001b[39;49m\u001b[39mTrue\u001b[39;49;00m, options\u001b[39m=\u001b[39;49m{\u001b[39m'\u001b[39;49m\u001b[39meps\u001b[39;49m\u001b[39m'\u001b[39;49m:\u001b[39m1e-5\u001b[39;49m}, \n\u001b[1;32m    217\u001b[0m            bounds\u001b[39m=\u001b[39;49m[pbounds[\u001b[39m\"\u001b[39;49m\u001b[39mc\u001b[39;49m\u001b[39m\"\u001b[39;49m], pbounds[\u001b[39m\"\u001b[39;49m\u001b[39mrbf\u001b[39;49m\u001b[39m\"\u001b[39;49m], pbounds[\u001b[39m\"\u001b[39;49m\u001b[39malpha\u001b[39;49m\u001b[39m\"\u001b[39;49m]])\n\u001b[1;32m    218\u001b[0m \u001b[39mprint\u001b[39m(\u001b[39m'\u001b[39m\u001b[39mLocal (L-BFGS-B) opt \u001b[39m\u001b[39m{}\u001b[39;00m\u001b[39m finished\u001b[39m\u001b[39m'\u001b[39m\u001b[39m.\u001b[39mformat(nit), res[\u001b[39m'\u001b[39m\u001b[39mfun\u001b[39m\u001b[39m'\u001b[39m], res[\u001b[39m'\u001b[39m\u001b[39mx\u001b[39m\u001b[39m'\u001b[39m])\n\u001b[1;32m    219\u001b[0m res_dicts\u001b[39m.\u001b[39mappend(res)\n",
      "File \u001b[0;32m~/miniconda3/envs/osc/lib/python3.11/site-packages/scipy/optimize/_minimize.py:696\u001b[0m, in \u001b[0;36mminimize\u001b[0;34m(fun, x0, args, method, jac, hess, hessp, bounds, constraints, tol, callback, options)\u001b[0m\n\u001b[1;32m    693\u001b[0m     res \u001b[39m=\u001b[39m _minimize_newtoncg(fun, x0, args, jac, hess, hessp, callback,\n\u001b[1;32m    694\u001b[0m                              \u001b[39m*\u001b[39m\u001b[39m*\u001b[39moptions)\n\u001b[1;32m    695\u001b[0m \u001b[39melif\u001b[39;00m meth \u001b[39m==\u001b[39m \u001b[39m'\u001b[39m\u001b[39ml-bfgs-b\u001b[39m\u001b[39m'\u001b[39m:\n\u001b[0;32m--> 696\u001b[0m     res \u001b[39m=\u001b[39m _minimize_lbfgsb(fun, x0, args, jac, bounds,\n\u001b[1;32m    697\u001b[0m                            callback\u001b[39m=\u001b[39;49mcallback, \u001b[39m*\u001b[39;49m\u001b[39m*\u001b[39;49moptions)\n\u001b[1;32m    698\u001b[0m \u001b[39melif\u001b[39;00m meth \u001b[39m==\u001b[39m \u001b[39m'\u001b[39m\u001b[39mtnc\u001b[39m\u001b[39m'\u001b[39m:\n\u001b[1;32m    699\u001b[0m     res \u001b[39m=\u001b[39m _minimize_tnc(fun, x0, args, jac, bounds, callback\u001b[39m=\u001b[39mcallback,\n\u001b[1;32m    700\u001b[0m                         \u001b[39m*\u001b[39m\u001b[39m*\u001b[39moptions)\n",
      "File \u001b[0;32m~/miniconda3/envs/osc/lib/python3.11/site-packages/scipy/optimize/_lbfgsb_py.py:305\u001b[0m, in \u001b[0;36m_minimize_lbfgsb\u001b[0;34m(fun, x0, args, jac, bounds, disp, maxcor, ftol, gtol, eps, maxfun, maxiter, iprint, callback, maxls, finite_diff_rel_step, **unknown_options)\u001b[0m\n\u001b[1;32m    302\u001b[0m     \u001b[39melse\u001b[39;00m:\n\u001b[1;32m    303\u001b[0m         iprint \u001b[39m=\u001b[39m disp\n\u001b[0;32m--> 305\u001b[0m sf \u001b[39m=\u001b[39m _prepare_scalar_function(fun, x0, jac\u001b[39m=\u001b[39;49mjac, args\u001b[39m=\u001b[39;49margs, epsilon\u001b[39m=\u001b[39;49meps,\n\u001b[1;32m    306\u001b[0m                               bounds\u001b[39m=\u001b[39;49mnew_bounds,\n\u001b[1;32m    307\u001b[0m                               finite_diff_rel_step\u001b[39m=\u001b[39;49mfinite_diff_rel_step)\n\u001b[1;32m    309\u001b[0m func_and_grad \u001b[39m=\u001b[39m sf\u001b[39m.\u001b[39mfun_and_grad\n\u001b[1;32m    311\u001b[0m fortran_int \u001b[39m=\u001b[39m _lbfgsb\u001b[39m.\u001b[39mtypes\u001b[39m.\u001b[39mintvar\u001b[39m.\u001b[39mdtype\n",
      "File \u001b[0;32m~/miniconda3/envs/osc/lib/python3.11/site-packages/scipy/optimize/_optimize.py:332\u001b[0m, in \u001b[0;36m_prepare_scalar_function\u001b[0;34m(fun, x0, jac, args, bounds, epsilon, finite_diff_rel_step, hess)\u001b[0m\n\u001b[1;32m    328\u001b[0m     bounds \u001b[39m=\u001b[39m (\u001b[39m-\u001b[39mnp\u001b[39m.\u001b[39minf, np\u001b[39m.\u001b[39minf)\n\u001b[1;32m    330\u001b[0m \u001b[39m# ScalarFunction caches. Reuse of fun(x) during grad\u001b[39;00m\n\u001b[1;32m    331\u001b[0m \u001b[39m# calculation reduces overall function evaluations.\u001b[39;00m\n\u001b[0;32m--> 332\u001b[0m sf \u001b[39m=\u001b[39m ScalarFunction(fun, x0, args, grad, hess,\n\u001b[1;32m    333\u001b[0m                     finite_diff_rel_step, bounds, epsilon\u001b[39m=\u001b[39;49mepsilon)\n\u001b[1;32m    335\u001b[0m \u001b[39mreturn\u001b[39;00m sf\n",
      "File \u001b[0;32m~/miniconda3/envs/osc/lib/python3.11/site-packages/scipy/optimize/_differentiable_functions.py:158\u001b[0m, in \u001b[0;36mScalarFunction.__init__\u001b[0;34m(self, fun, x0, args, grad, hess, finite_diff_rel_step, finite_diff_bounds, epsilon)\u001b[0m\n\u001b[1;32m    155\u001b[0m     \u001b[39mself\u001b[39m\u001b[39m.\u001b[39mf \u001b[39m=\u001b[39m fun_wrapped(\u001b[39mself\u001b[39m\u001b[39m.\u001b[39mx)\n\u001b[1;32m    157\u001b[0m \u001b[39mself\u001b[39m\u001b[39m.\u001b[39m_update_fun_impl \u001b[39m=\u001b[39m update_fun\n\u001b[0;32m--> 158\u001b[0m \u001b[39mself\u001b[39;49m\u001b[39m.\u001b[39;49m_update_fun()\n\u001b[1;32m    160\u001b[0m \u001b[39m# Gradient evaluation\u001b[39;00m\n\u001b[1;32m    161\u001b[0m \u001b[39mif\u001b[39;00m \u001b[39mcallable\u001b[39m(grad):\n",
      "File \u001b[0;32m~/miniconda3/envs/osc/lib/python3.11/site-packages/scipy/optimize/_differentiable_functions.py:251\u001b[0m, in \u001b[0;36mScalarFunction._update_fun\u001b[0;34m(self)\u001b[0m\n\u001b[1;32m    249\u001b[0m \u001b[39mdef\u001b[39;00m \u001b[39m_update_fun\u001b[39m(\u001b[39mself\u001b[39m):\n\u001b[1;32m    250\u001b[0m     \u001b[39mif\u001b[39;00m \u001b[39mnot\u001b[39;00m \u001b[39mself\u001b[39m\u001b[39m.\u001b[39mf_updated:\n\u001b[0;32m--> 251\u001b[0m         \u001b[39mself\u001b[39;49m\u001b[39m.\u001b[39;49m_update_fun_impl()\n\u001b[1;32m    252\u001b[0m         \u001b[39mself\u001b[39m\u001b[39m.\u001b[39mf_updated \u001b[39m=\u001b[39m \u001b[39mTrue\u001b[39;00m\n",
      "File \u001b[0;32m~/miniconda3/envs/osc/lib/python3.11/site-packages/scipy/optimize/_differentiable_functions.py:155\u001b[0m, in \u001b[0;36mScalarFunction.__init__.<locals>.update_fun\u001b[0;34m()\u001b[0m\n\u001b[1;32m    154\u001b[0m \u001b[39mdef\u001b[39;00m \u001b[39mupdate_fun\u001b[39m():\n\u001b[0;32m--> 155\u001b[0m     \u001b[39mself\u001b[39m\u001b[39m.\u001b[39mf \u001b[39m=\u001b[39m fun_wrapped(\u001b[39mself\u001b[39;49m\u001b[39m.\u001b[39;49mx)\n",
      "File \u001b[0;32m~/miniconda3/envs/osc/lib/python3.11/site-packages/scipy/optimize/_differentiable_functions.py:137\u001b[0m, in \u001b[0;36mScalarFunction.__init__.<locals>.fun_wrapped\u001b[0;34m(x)\u001b[0m\n\u001b[1;32m    133\u001b[0m \u001b[39mself\u001b[39m\u001b[39m.\u001b[39mnfev \u001b[39m+\u001b[39m\u001b[39m=\u001b[39m \u001b[39m1\u001b[39m\n\u001b[1;32m    134\u001b[0m \u001b[39m# Send a copy because the user may overwrite it.\u001b[39;00m\n\u001b[1;32m    135\u001b[0m \u001b[39m# Overwriting results in undefined behaviour because\u001b[39;00m\n\u001b[1;32m    136\u001b[0m \u001b[39m# fun(self.x) will change self.x, with the two no longer linked.\u001b[39;00m\n\u001b[0;32m--> 137\u001b[0m fx \u001b[39m=\u001b[39m fun(np\u001b[39m.\u001b[39;49mcopy(x), \u001b[39m*\u001b[39;49margs)\n\u001b[1;32m    138\u001b[0m \u001b[39m# Make sure the function returns a true scalar\u001b[39;00m\n\u001b[1;32m    139\u001b[0m \u001b[39mif\u001b[39;00m \u001b[39mnot\u001b[39;00m np\u001b[39m.\u001b[39misscalar(fx):\n",
      "File \u001b[0;32m~/miniconda3/envs/osc/lib/python3.11/site-packages/scipy/optimize/_optimize.py:76\u001b[0m, in \u001b[0;36mMemoizeJac.__call__\u001b[0;34m(self, x, *args)\u001b[0m\n\u001b[1;32m     74\u001b[0m \u001b[39mdef\u001b[39;00m \u001b[39m__call__\u001b[39m(\u001b[39mself\u001b[39m, x, \u001b[39m*\u001b[39margs):\n\u001b[1;32m     75\u001b[0m \u001b[39m    \u001b[39m\u001b[39m\"\"\" returns the function value \"\"\"\u001b[39;00m\n\u001b[0;32m---> 76\u001b[0m     \u001b[39mself\u001b[39;49m\u001b[39m.\u001b[39;49m_compute_if_needed(x, \u001b[39m*\u001b[39;49margs)\n\u001b[1;32m     77\u001b[0m     \u001b[39mreturn\u001b[39;00m \u001b[39mself\u001b[39m\u001b[39m.\u001b[39m_value\n",
      "File \u001b[0;32m~/miniconda3/envs/osc/lib/python3.11/site-packages/scipy/optimize/_optimize.py:70\u001b[0m, in \u001b[0;36mMemoizeJac._compute_if_needed\u001b[0;34m(self, x, *args)\u001b[0m\n\u001b[1;32m     68\u001b[0m \u001b[39mif\u001b[39;00m \u001b[39mnot\u001b[39;00m np\u001b[39m.\u001b[39mall(x \u001b[39m==\u001b[39m \u001b[39mself\u001b[39m\u001b[39m.\u001b[39mx) \u001b[39mor\u001b[39;00m \u001b[39mself\u001b[39m\u001b[39m.\u001b[39m_value \u001b[39mis\u001b[39;00m \u001b[39mNone\u001b[39;00m \u001b[39mor\u001b[39;00m \u001b[39mself\u001b[39m\u001b[39m.\u001b[39mjac \u001b[39mis\u001b[39;00m \u001b[39mNone\u001b[39;00m:\n\u001b[1;32m     69\u001b[0m     \u001b[39mself\u001b[39m\u001b[39m.\u001b[39mx \u001b[39m=\u001b[39m np\u001b[39m.\u001b[39masarray(x)\u001b[39m.\u001b[39mcopy()\n\u001b[0;32m---> 70\u001b[0m     fg \u001b[39m=\u001b[39m \u001b[39mself\u001b[39;49m\u001b[39m.\u001b[39;49mfun(x, \u001b[39m*\u001b[39;49margs)\n\u001b[1;32m     71\u001b[0m     \u001b[39mself\u001b[39m\u001b[39m.\u001b[39mjac \u001b[39m=\u001b[39m fg[\u001b[39m1\u001b[39m]\n\u001b[1;32m     72\u001b[0m     \u001b[39mself\u001b[39m\u001b[39m.\u001b[39m_value \u001b[39m=\u001b[39m fg[\u001b[39m0\u001b[39m]\n",
      "File \u001b[0;32m~/Thesis/photocatalysis/workspace/photocatalysis/gpr_model.py:201\u001b[0m, in \u001b[0;36m_run_gpr_fit_bayesian_opt.<locals>.log_marginal_likelihood_target_localopt\u001b[0;34m(x, verbose)\u001b[0m\n\u001b[1;32m    199\u001b[0m gprx\u001b[39m.\u001b[39mset_kernel_params(x[\u001b[39m0\u001b[39m], x[\u001b[39m1\u001b[39m], x[\u001b[39m2\u001b[39m])\n\u001b[1;32m    200\u001b[0m \u001b[39mprint\u001b[39m(\u001b[39m'\u001b[39m\u001b[39mFITTING\u001b[39m\u001b[39m'\u001b[39m)\n\u001b[0;32m--> 201\u001b[0m gprx\u001b[39m.\u001b[39;49mfit(X_train,y_train)\n\u001b[1;32m    202\u001b[0m \u001b[39mprint\u001b[39m(\u001b[39m'\u001b[39m\u001b[39mLOGMARGLIKELIHOOD\u001b[39m\u001b[39m'\u001b[39m)\n\u001b[1;32m    203\u001b[0m log,gradlog\u001b[39m=\u001b[39mgprx\u001b[39m.\u001b[39mlog_marginal_likelihood(eval_gradient\u001b[39m=\u001b[39m\u001b[39mTrue\u001b[39;00m)\n",
      "File \u001b[0;32m~/Thesis/photocatalysis/workspace/photocatalysis/gpr_model.py:48\u001b[0m, in \u001b[0;36mKernel_method.fit\u001b[0;34m(self, X_train, y_train, refit)\u001b[0m\n\u001b[1;32m     46\u001b[0m     \u001b[39mprint\u001b[39m(\u001b[39m'\u001b[39m\u001b[39mDISTANCE MATRIX\u001b[39m\u001b[39m'\u001b[39m)\n\u001b[1;32m     47\u001b[0m     D \u001b[39m=\u001b[39m \u001b[39mself\u001b[39m\u001b[39m.\u001b[39mdistance_matrix(X_train)\n\u001b[0;32m---> 48\u001b[0m     \u001b[39mprint\u001b[39m(\u001b[39m'\u001b[39m\u001b[39mDISTANCE MATRIX DONE\u001b[39m\u001b[39m'\u001b[39m)\n\u001b[1;32m     49\u001b[0m     np\u001b[39m.\u001b[39msave(dmat_loc,D)\n\u001b[1;32m     51\u001b[0m \u001b[39mself\u001b[39m\u001b[39m.\u001b[39mX_train \u001b[39m=\u001b[39m X_train\n",
      "File \u001b[0;32m~/Thesis/photocatalysis/workspace/photocatalysis/gpr_model.py:159\u001b[0m, in \u001b[0;36mGPR_tanimoto.distance_matrix\u001b[0;34m(self, X1, X2)\u001b[0m\n\u001b[1;32m    158\u001b[0m \u001b[39mdef\u001b[39;00m \u001b[39mdistance_matrix\u001b[39m(\u001b[39mself\u001b[39m, X1, X2\u001b[39m=\u001b[39m[]):       \n\u001b[0;32m--> 159\u001b[0m     \u001b[39mreturn\u001b[39;00m get_tanimoto_distmat(X1, X2)\n",
      "File \u001b[0;32m~/Thesis/photocatalysis/workspace/photocatalysis/cheminformatics_fingerprint.py:20\u001b[0m, in \u001b[0;36mget_tanimoto_distmat\u001b[0;34m(X1, X2)\u001b[0m\n\u001b[1;32m     18\u001b[0m \u001b[39mif\u001b[39;00m \u001b[39mnot\u001b[39;00m \u001b[39mlen\u001b[39m(X2):\n\u001b[1;32m     19\u001b[0m     \u001b[39mfor\u001b[39;00m  i,x \u001b[39min\u001b[39;00m \u001b[39menumerate\u001b[39m(X1):\n\u001b[0;32m---> 20\u001b[0m         sims  \u001b[39m=\u001b[39m  BulkTanimotoSimilarity(x,\u001b[39mlist\u001b[39;49m(X1[i\u001b[39m+\u001b[39;49m\u001b[39m1\u001b[39;49m:]))\n\u001b[1;32m     21\u001b[0m         sim_mat\u001b[39m.\u001b[39mextend(sims)\n\u001b[1;32m     22\u001b[0m     sim_mat \u001b[39m=\u001b[39m squareform(sim_mat)\n",
      "\u001b[0;31mKeyboardInterrupt\u001b[0m: "
     ]
    }
   ],
   "source": [
    "start = time.perf_counter()\n",
    "gpr_ip, xtrain_ip, kip = get_ML_model(df_training, 'IP', multiprocess=8)\n",
    "print('IP Fitting Took:', time.perf_counter() - start)"
   ]
  },
  {
   "cell_type": "code",
   "execution_count": null,
   "metadata": {},
   "outputs": [],
   "source": [
    "start = time.perf_counter()\n",
    "gpr_rdg, xtrain_rdg, krdg = get_ML_model(df_training, 'dGmax', multiprocess=8)\n",
    "print('RDG Fitting Took:', time.perf_counter() - start)"
   ]
  }
 ],
 "metadata": {
  "kernelspec": {
   "display_name": "osc",
   "language": "python",
   "name": "python3"
  },
  "language_info": {
   "codemirror_mode": {
    "name": "ipython",
    "version": 3
   },
   "file_extension": ".py",
   "mimetype": "text/x-python",
   "name": "python",
   "nbconvert_exporter": "python",
   "pygments_lexer": "ipython3",
   "version": "3.11.4"
  },
  "orig_nbformat": 4
 },
 "nbformat": 4,
 "nbformat_minor": 2
}
