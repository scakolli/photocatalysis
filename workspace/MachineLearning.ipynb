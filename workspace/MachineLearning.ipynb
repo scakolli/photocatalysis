{
 "cells": [
  {
   "cell_type": "code",
   "execution_count": 1,
   "metadata": {},
   "outputs": [],
   "source": [
    "import numpy as np\n",
    "import pandas as pd\n",
    "import os\n",
    "import subprocess\n",
    "import time\n",
    "import matplotlib.pyplot as plt\n",
    "import itertools\n",
    "from copy import deepcopy\n",
    "import sys\n",
    "\n",
    "from rdkit import Chem\n",
    "from rdkit.Chem import AllChem\n",
    "import ase\n",
    "from ase.io import read, write\n",
    "from ase.units import Hartree\n",
    "from ase.visualize import view\n",
    "\n",
    "from ase.io.trajectory import Trajectory\n",
    "import glob\n",
    "import pickle\n",
    "\n",
    "from rdkit.Chem.Draw import IPythonConsole\n",
    "IPythonConsole.drawOptions.addAtomIndices = True\n",
    "\n",
    "from photocatalysis.learners_treesearch import get_population_completed"
   ]
  },
  {
   "cell_type": "code",
   "execution_count": 2,
   "metadata": {},
   "outputs": [],
   "source": [
    "### For automatically reloading import modules... allows you to run changes to code in jupyter without having to reload\n",
    "%load_ext autoreload\n",
    "%autoreload 2"
   ]
  },
  {
   "cell_type": "code",
   "execution_count": 3,
   "metadata": {},
   "outputs": [],
   "source": [
    "### LOCAL\n",
    "# local_path = os.path.join('/home/scakolli/Thesis/photocatalysis/workspace', 'DF_COMPLETE.json')\n",
    "# df = pd.read_json(local_path, orient='split')\n",
    "\n",
    "### REMOTE\n",
    "df = pd.read_json('/home/btpq/bt308495/Thesis/DF_COMPLETE.json', orient='split')"
   ]
  },
  {
   "cell_type": "code",
   "execution_count": 4,
   "metadata": {},
   "outputs": [
    {
     "name": "stdout",
     "output_type": "stream",
     "text": [
      "Fizzled / Total\n",
      "1410 / 65552\n"
     ]
    }
   ],
   "source": [
    "print(\"Fizzled / Total\")\n",
    "print(\"{} / {}\".format(df.loc[df.calc_status == 'fizzled'].shape[0], df.shape[0]))"
   ]
  },
  {
   "cell_type": "code",
   "execution_count": 5,
   "metadata": {},
   "outputs": [],
   "source": [
    "# Get succesfully completed\n",
    "df = get_population_completed(df)"
   ]
  },
  {
   "cell_type": "markdown",
   "metadata": {},
   "source": [
    "------"
   ]
  },
  {
   "cell_type": "markdown",
   "metadata": {},
   "source": [
    "# GPR MODEL"
   ]
  },
  {
   "cell_type": "code",
   "execution_count": 6,
   "metadata": {},
   "outputs": [],
   "source": [
    "test_size = 0.95\n",
    "random_state = 42"
   ]
  },
  {
   "cell_type": "code",
   "execution_count": 7,
   "metadata": {},
   "outputs": [],
   "source": [
    "from photocatalysis.learners_treesearch import generate_ml_vectors, get_ML_model\n",
    "from sklearn.metrics import mean_absolute_error\n",
    "\n",
    "from sklearn.model_selection import train_test_split"
   ]
  },
  {
   "cell_type": "code",
   "execution_count": null,
   "metadata": {},
   "outputs": [],
   "source": [
    "### With np.arrays()\n",
    "# X = generate_ml_vectors(df).morgan_fp_bitvect.values\n",
    "\n",
    "# Y_IP = df.IP.values\n",
    "# Y_dGmax = df.dGmax.values\n",
    "\n",
    "# X_train_IP, X_test_IP, y_train_IP, y_test_IP = train_test_split(X, Y_IP, test_size=test_size, random_state=random_state)\n",
    "# X_train_dGmax, X_test_dGmax, y_train_dGmax, y_test_dGmax = train_test_split(X, Y_dGmax, test_size=test_size, random_state=random_state)"
   ]
  },
  {
   "cell_type": "code",
   "execution_count": 8,
   "metadata": {},
   "outputs": [],
   "source": [
    "### With pd.DataFrames()\n",
    "df_training, df_test = train_test_split(df, test_size=test_size, random_state=random_state)\n",
    "df_test = generate_ml_vectors(df_test)"
   ]
  },
  {
   "cell_type": "code",
   "execution_count": null,
   "metadata": {},
   "outputs": [],
   "source": [
    "df.plot(y='utility_function', kind='hist', bins=40)"
   ]
  },
  {
   "cell_type": "markdown",
   "metadata": {},
   "source": [
    "----"
   ]
  },
  {
   "cell_type": "code",
   "execution_count": 9,
   "metadata": {},
   "outputs": [
    {
     "name": "stdout",
     "output_type": "stream",
     "text": [
      "\n",
      "Fitting property: IP\n",
      "Size of fitting set for ML model (get_ML_model): 3207\n",
      "Number of cores to be used: 1\n",
      "Pbounds {'c': (0.1, 3.0), 'rbf': (1.0, 1.0), 'alpha': (0.001, 1.0)}\n",
      "\n",
      "initial guess [1.0, 1.0, 0.1]\n",
      "localopt 1 [1.  1.  0.1] -1856.724615042311 [-2117.35270942     0.          -984.08100701]\n",
      "localopt 2 [0.1   1.    0.001] -51049.948691713405 [  11116.44073025       0.         3184027.558594  ]\n",
      "localopt 3 [0.75694191 1.         0.07326361] -1367.1587168856922 [ -986.09436665     0.         -1047.18707977]\n",
      "localopt 4 [0.5371002 1.        0.001    ] -2762.0835318967083 [2.04701496e+03 0.00000000e+00 3.16137511e+06]\n",
      "localopt 5 [0.67461149 1.         0.04620099] -1227.62197604435 [-529.95722157    0.         -727.97773579]\n",
      "localopt 6 [0.58178001 1.         0.001     ] -2733.514208276787 [1.88597625e+03 0.00000000e+00 3.16137373e+06]\n",
      "localopt 7 [0.64280506 1.         0.03071398] -1187.843811789411 [-337.30912305    0.         -430.42844902]\n",
      "localopt 8 [0.58765782 1.         0.001     ] -2733.036260706488 [1.86659097e+03 0.00000000e+00 3.16137365e+06]\n",
      "localopt 9 [0.62446206 1.         0.02083055] -1172.651857810148 [-221.08222154    0.          -45.82693144]\n",
      "localopt 10 [0.59152079 1.         0.01906359] -1162.1953400737523 [-15.58601312   0.          87.22233561]\n",
      "localopt 11 [0.58727924 1.         0.02291418] -1162.3414045372533 [   8.0076266     0.         -160.01744713]\n",
      "localopt 12 [0.59002177 1.         0.02042444] -1162.0991281365389 [ -7.32761162   0.         -16.73412785]\n",
      "localopt 13 [0.5888368  1.         0.02021691] -1162.0857802419941 [ 0.41827562  0.         -2.0169381 ]\n",
      "localopt 14 [0.58889995 1.         0.02018891] -1162.0857073219381 [ 0.04097867  0.         -0.04359423]\n",
      "localopt 15 [0.58890657 1.         0.02018824] -1162.0857069187039 [-0.00067403  0.          0.00218225]\n",
      "Local (L-BFGS-B) opt 0 finished 1162.0857069187039 [0.58890657 1.         0.02018824]\n",
      "Best solution after local opt: 1162.0857069187039 [0.58890657 1.         0.02018824]\n",
      "{'c': (0.1, 3.0), 'rbf': (1.0, 1.0), 'alpha': (0.001, 1.0)}\n",
      "Fitted Kernel c 0.5889065727072873 rbf 1.0 sigma 0.020188241943587138 Round: 14\n",
      "IP Fitting Took: 49.60599415800243\n"
     ]
    }
   ],
   "source": [
    "start = time.perf_counter()\n",
    "gpr_ip, xtrain_ip, kip = get_ML_model(df_training, 'IP', multiprocess=1, D_scratch_dir='/run/user/1308495/scratch_distance_matrix', niter_local=1)\n",
    "print('IP Fitting Took:', time.perf_counter() - start)"
   ]
  },
  {
   "cell_type": "code",
   "execution_count": 20,
   "metadata": {},
   "outputs": [],
   "source": [
    "main_scratch = '/run/user/1308495'\n",
    "save_path = os.path.join(main_scratch, 'ML_IP_95_1.pckl')"
   ]
  },
  {
   "cell_type": "code",
   "execution_count": 22,
   "metadata": {},
   "outputs": [],
   "source": [
    "with open(save_path, 'wb') as p:\n",
    "    pickle.dump([gpr_ip, xtrain_ip, kip], p)"
   ]
  },
  {
   "cell_type": "code",
   "execution_count": 23,
   "metadata": {},
   "outputs": [],
   "source": [
    "with open(save_path, 'rb') as p:\n",
    "    out = pickle.load(p)"
   ]
  },
  {
   "cell_type": "code",
   "execution_count": 26,
   "metadata": {},
   "outputs": [],
   "source": [
    "X_test = df_test.morgan_fp_bitvect.values"
   ]
  },
  {
   "cell_type": "code",
   "execution_count": 27,
   "metadata": {},
   "outputs": [],
   "source": [
    "yip, stdip = gpr_ip.predict(X_test, return_std=True)"
   ]
  },
  {
   "cell_type": "markdown",
   "metadata": {},
   "source": [
    "---"
   ]
  },
  {
   "cell_type": "code",
   "execution_count": 35,
   "metadata": {},
   "outputs": [
    {
     "name": "stdout",
     "output_type": "stream",
     "text": [
      "\n",
      "Fitting property: dGmax\n",
      "Size of fitting set for ML model (get_ML_model): 3207\n",
      "Number of cores to be used: 1\n",
      "Pbounds {'c': (0.1, 3.0), 'rbf': (1.0, 1.0), 'alpha': (0.001, 1.0)}\n",
      "\n",
      "initial guess [1.0, 1.0, 0.1]\n",
      "localopt 1 [1.  1.  0.1] -2656.1921271330734 [-518.41768524    0.         -279.07466735]\n",
      "localopt 2 [0.1   1.    0.001] -141274.25658232556 [   29161.30230839        0.         16701678.86625968]\n",
      "localopt 3 [0.7288803  1.         0.07017683] -2830.049902060685 [1360.4850591    0.         731.1134981]\n"
     ]
    },
    {
     "ename": "KeyboardInterrupt",
     "evalue": "",
     "output_type": "error",
     "traceback": [
      "\u001b[0;31m---------------------------------------------------------------------------\u001b[0m",
      "\u001b[0;31mKeyboardInterrupt\u001b[0m                         Traceback (most recent call last)",
      "Cell \u001b[0;32mIn[35], line 2\u001b[0m\n\u001b[1;32m      1\u001b[0m start \u001b[39m=\u001b[39m time\u001b[39m.\u001b[39mperf_counter()\n\u001b[0;32m----> 2\u001b[0m gpr_rdg, xtrain_rdg, krdg \u001b[39m=\u001b[39m get_ML_model(df_training, \u001b[39m'\u001b[39;49m\u001b[39mdGmax\u001b[39;49m\u001b[39m'\u001b[39;49m, multiprocess\u001b[39m=\u001b[39;49m\u001b[39m1\u001b[39;49m, D_scratch_dir\u001b[39m=\u001b[39;49m\u001b[39m'\u001b[39;49m\u001b[39m/run/user/1308495/scratch_distance_matrix\u001b[39;49m\u001b[39m'\u001b[39;49m, niter_local\u001b[39m=\u001b[39;49m\u001b[39m1\u001b[39;49m)\n\u001b[1;32m      3\u001b[0m \u001b[39mprint\u001b[39m(\u001b[39m'\u001b[39m\u001b[39mRDG Fitting Took:\u001b[39m\u001b[39m'\u001b[39m, time\u001b[39m.\u001b[39mperf_counter() \u001b[39m-\u001b[39m start)\n",
      "File \u001b[0;32m~/Thesis/photocatalysis/workspace/photocatalysis/learners_treesearch.py:1066\u001b[0m, in \u001b[0;36mget_ML_model\u001b[0;34m(dframe, prop_name, ml_rep_field, multiprocess, D_scratch_dir, niter_local)\u001b[0m\n\u001b[1;32m   1063\u001b[0m kernel_params \u001b[39m=\u001b[39m {\u001b[39m'\u001b[39m\u001b[39mC\u001b[39m\u001b[39m'\u001b[39m:\u001b[39m1.\u001b[39m, \u001b[39m'\u001b[39m\u001b[39mlength_scale\u001b[39m\u001b[39m'\u001b[39m:\u001b[39m1.\u001b[39m, \u001b[39m'\u001b[39m\u001b[39msigma_n\u001b[39m\u001b[39m'\u001b[39m:\u001b[39m0.1\u001b[39m}\n\u001b[1;32m   1065\u001b[0m gpr \u001b[39m=\u001b[39m GPR_tanimoto(multiprocess\u001b[39m=\u001b[39mmultiprocess, D_scratch_dir\u001b[39m=\u001b[39mD_scratch_dir)\n\u001b[0;32m-> 1066\u001b[0m gpr \u001b[39m=\u001b[39m _run_gpr_fit_bayesian_opt(X_train, y_train, gpr, \n\u001b[1;32m   1067\u001b[0m                                 starting_values\u001b[39m=\u001b[39;49m[kernel_params[\u001b[39m'\u001b[39;49m\u001b[39mC\u001b[39;49m\u001b[39m'\u001b[39;49m], \n\u001b[1;32m   1068\u001b[0m                                                 kernel_params[\u001b[39m'\u001b[39;49m\u001b[39mlength_scale\u001b[39;49m\u001b[39m'\u001b[39;49m],\n\u001b[1;32m   1069\u001b[0m                                                 kernel_params[\u001b[39m'\u001b[39;49m\u001b[39msigma_n\u001b[39;49m\u001b[39m'\u001b[39;49m]], niter_local\u001b[39m=\u001b[39;49mniter_local)\n\u001b[1;32m   1071\u001b[0m kernel_params[\u001b[39m'\u001b[39m\u001b[39mC\u001b[39m\u001b[39m'\u001b[39m] \u001b[39m=\u001b[39m gpr\u001b[39m.\u001b[39mconstant_kernel\n\u001b[1;32m   1072\u001b[0m kernel_params[\u001b[39m'\u001b[39m\u001b[39mlength_scale\u001b[39m\u001b[39m'\u001b[39m] \u001b[39m=\u001b[39m gpr\u001b[39m.\u001b[39mgamma_kernel\n",
      "File \u001b[0;32m~/Thesis/photocatalysis/workspace/photocatalysis/gpr_model.py:218\u001b[0m, in \u001b[0;36m_run_gpr_fit_bayesian_opt\u001b[0;34m(X_train, y_train, gprx, starting_values, pbounds, niter_local, random_state)\u001b[0m\n\u001b[1;32m    216\u001b[0m \u001b[39mprint\u001b[39m(\u001b[39m'\u001b[39m\u001b[39m'\u001b[39m)\n\u001b[1;32m    217\u001b[0m \u001b[39mprint\u001b[39m(\u001b[39m'\u001b[39m\u001b[39minitial guess\u001b[39m\u001b[39m'\u001b[39m,starting_values)\n\u001b[0;32m--> 218\u001b[0m res \u001b[39m=\u001b[39m minimize(log_marginal_likelihood_target_localopt, \n\u001b[1;32m    219\u001b[0m            starting_values, \n\u001b[1;32m    220\u001b[0m            method\u001b[39m=\u001b[39;49m\u001b[39m\"\u001b[39;49m\u001b[39mL-BFGS-B\u001b[39;49m\u001b[39m\"\u001b[39;49m, jac\u001b[39m=\u001b[39;49m\u001b[39mTrue\u001b[39;49;00m, options\u001b[39m=\u001b[39;49m{\u001b[39m'\u001b[39;49m\u001b[39meps\u001b[39;49m\u001b[39m'\u001b[39;49m:\u001b[39m1e-5\u001b[39;49m}, \n\u001b[1;32m    221\u001b[0m            bounds\u001b[39m=\u001b[39;49m[pbounds[\u001b[39m\"\u001b[39;49m\u001b[39mc\u001b[39;49m\u001b[39m\"\u001b[39;49m], pbounds[\u001b[39m\"\u001b[39;49m\u001b[39mrbf\u001b[39;49m\u001b[39m\"\u001b[39;49m], pbounds[\u001b[39m\"\u001b[39;49m\u001b[39malpha\u001b[39;49m\u001b[39m\"\u001b[39;49m]])\n\u001b[1;32m    222\u001b[0m \u001b[39mprint\u001b[39m(\u001b[39m'\u001b[39m\u001b[39mLocal (L-BFGS-B) opt \u001b[39m\u001b[39m{}\u001b[39;00m\u001b[39m finished\u001b[39m\u001b[39m'\u001b[39m\u001b[39m.\u001b[39mformat(nit), res[\u001b[39m'\u001b[39m\u001b[39mfun\u001b[39m\u001b[39m'\u001b[39m], res[\u001b[39m'\u001b[39m\u001b[39mx\u001b[39m\u001b[39m'\u001b[39m])\n\u001b[1;32m    223\u001b[0m res_dicts\u001b[39m.\u001b[39mappend(res)\n",
      "File \u001b[0;32m~/miniconda3/envs/osc/lib/python3.11/site-packages/scipy/optimize/_minimize.py:696\u001b[0m, in \u001b[0;36mminimize\u001b[0;34m(fun, x0, args, method, jac, hess, hessp, bounds, constraints, tol, callback, options)\u001b[0m\n\u001b[1;32m    693\u001b[0m     res \u001b[39m=\u001b[39m _minimize_newtoncg(fun, x0, args, jac, hess, hessp, callback,\n\u001b[1;32m    694\u001b[0m                              \u001b[39m*\u001b[39m\u001b[39m*\u001b[39moptions)\n\u001b[1;32m    695\u001b[0m \u001b[39melif\u001b[39;00m meth \u001b[39m==\u001b[39m \u001b[39m'\u001b[39m\u001b[39ml-bfgs-b\u001b[39m\u001b[39m'\u001b[39m:\n\u001b[0;32m--> 696\u001b[0m     res \u001b[39m=\u001b[39m _minimize_lbfgsb(fun, x0, args, jac, bounds,\n\u001b[1;32m    697\u001b[0m                            callback\u001b[39m=\u001b[39;49mcallback, \u001b[39m*\u001b[39;49m\u001b[39m*\u001b[39;49moptions)\n\u001b[1;32m    698\u001b[0m \u001b[39melif\u001b[39;00m meth \u001b[39m==\u001b[39m \u001b[39m'\u001b[39m\u001b[39mtnc\u001b[39m\u001b[39m'\u001b[39m:\n\u001b[1;32m    699\u001b[0m     res \u001b[39m=\u001b[39m _minimize_tnc(fun, x0, args, jac, bounds, callback\u001b[39m=\u001b[39mcallback,\n\u001b[1;32m    700\u001b[0m                         \u001b[39m*\u001b[39m\u001b[39m*\u001b[39moptions)\n",
      "File \u001b[0;32m~/miniconda3/envs/osc/lib/python3.11/site-packages/scipy/optimize/_lbfgsb_py.py:359\u001b[0m, in \u001b[0;36m_minimize_lbfgsb\u001b[0;34m(fun, x0, args, jac, bounds, disp, maxcor, ftol, gtol, eps, maxfun, maxiter, iprint, callback, maxls, finite_diff_rel_step, **unknown_options)\u001b[0m\n\u001b[1;32m    353\u001b[0m task_str \u001b[39m=\u001b[39m task\u001b[39m.\u001b[39mtobytes()\n\u001b[1;32m    354\u001b[0m \u001b[39mif\u001b[39;00m task_str\u001b[39m.\u001b[39mstartswith(\u001b[39mb\u001b[39m\u001b[39m'\u001b[39m\u001b[39mFG\u001b[39m\u001b[39m'\u001b[39m):\n\u001b[1;32m    355\u001b[0m     \u001b[39m# The minimization routine wants f and g at the current x.\u001b[39;00m\n\u001b[1;32m    356\u001b[0m     \u001b[39m# Note that interruptions due to maxfun are postponed\u001b[39;00m\n\u001b[1;32m    357\u001b[0m     \u001b[39m# until the completion of the current minimization iteration.\u001b[39;00m\n\u001b[1;32m    358\u001b[0m     \u001b[39m# Overwrite f and g:\u001b[39;00m\n\u001b[0;32m--> 359\u001b[0m     f, g \u001b[39m=\u001b[39m func_and_grad(x)\n\u001b[1;32m    360\u001b[0m \u001b[39melif\u001b[39;00m task_str\u001b[39m.\u001b[39mstartswith(\u001b[39mb\u001b[39m\u001b[39m'\u001b[39m\u001b[39mNEW_X\u001b[39m\u001b[39m'\u001b[39m):\n\u001b[1;32m    361\u001b[0m     \u001b[39m# new iteration\u001b[39;00m\n\u001b[1;32m    362\u001b[0m     n_iterations \u001b[39m+\u001b[39m\u001b[39m=\u001b[39m \u001b[39m1\u001b[39m\n",
      "File \u001b[0;32m~/miniconda3/envs/osc/lib/python3.11/site-packages/scipy/optimize/_differentiable_functions.py:285\u001b[0m, in \u001b[0;36mScalarFunction.fun_and_grad\u001b[0;34m(self, x)\u001b[0m\n\u001b[1;32m    283\u001b[0m \u001b[39mif\u001b[39;00m \u001b[39mnot\u001b[39;00m np\u001b[39m.\u001b[39marray_equal(x, \u001b[39mself\u001b[39m\u001b[39m.\u001b[39mx):\n\u001b[1;32m    284\u001b[0m     \u001b[39mself\u001b[39m\u001b[39m.\u001b[39m_update_x_impl(x)\n\u001b[0;32m--> 285\u001b[0m \u001b[39mself\u001b[39;49m\u001b[39m.\u001b[39;49m_update_fun()\n\u001b[1;32m    286\u001b[0m \u001b[39mself\u001b[39m\u001b[39m.\u001b[39m_update_grad()\n\u001b[1;32m    287\u001b[0m \u001b[39mreturn\u001b[39;00m \u001b[39mself\u001b[39m\u001b[39m.\u001b[39mf, \u001b[39mself\u001b[39m\u001b[39m.\u001b[39mg\n",
      "File \u001b[0;32m~/miniconda3/envs/osc/lib/python3.11/site-packages/scipy/optimize/_differentiable_functions.py:251\u001b[0m, in \u001b[0;36mScalarFunction._update_fun\u001b[0;34m(self)\u001b[0m\n\u001b[1;32m    249\u001b[0m \u001b[39mdef\u001b[39;00m \u001b[39m_update_fun\u001b[39m(\u001b[39mself\u001b[39m):\n\u001b[1;32m    250\u001b[0m     \u001b[39mif\u001b[39;00m \u001b[39mnot\u001b[39;00m \u001b[39mself\u001b[39m\u001b[39m.\u001b[39mf_updated:\n\u001b[0;32m--> 251\u001b[0m         \u001b[39mself\u001b[39;49m\u001b[39m.\u001b[39;49m_update_fun_impl()\n\u001b[1;32m    252\u001b[0m         \u001b[39mself\u001b[39m\u001b[39m.\u001b[39mf_updated \u001b[39m=\u001b[39m \u001b[39mTrue\u001b[39;00m\n",
      "File \u001b[0;32m~/miniconda3/envs/osc/lib/python3.11/site-packages/scipy/optimize/_differentiable_functions.py:155\u001b[0m, in \u001b[0;36mScalarFunction.__init__.<locals>.update_fun\u001b[0;34m()\u001b[0m\n\u001b[1;32m    154\u001b[0m \u001b[39mdef\u001b[39;00m \u001b[39mupdate_fun\u001b[39m():\n\u001b[0;32m--> 155\u001b[0m     \u001b[39mself\u001b[39m\u001b[39m.\u001b[39mf \u001b[39m=\u001b[39m fun_wrapped(\u001b[39mself\u001b[39;49m\u001b[39m.\u001b[39;49mx)\n",
      "File \u001b[0;32m~/miniconda3/envs/osc/lib/python3.11/site-packages/scipy/optimize/_differentiable_functions.py:137\u001b[0m, in \u001b[0;36mScalarFunction.__init__.<locals>.fun_wrapped\u001b[0;34m(x)\u001b[0m\n\u001b[1;32m    133\u001b[0m \u001b[39mself\u001b[39m\u001b[39m.\u001b[39mnfev \u001b[39m+\u001b[39m\u001b[39m=\u001b[39m \u001b[39m1\u001b[39m\n\u001b[1;32m    134\u001b[0m \u001b[39m# Send a copy because the user may overwrite it.\u001b[39;00m\n\u001b[1;32m    135\u001b[0m \u001b[39m# Overwriting results in undefined behaviour because\u001b[39;00m\n\u001b[1;32m    136\u001b[0m \u001b[39m# fun(self.x) will change self.x, with the two no longer linked.\u001b[39;00m\n\u001b[0;32m--> 137\u001b[0m fx \u001b[39m=\u001b[39m fun(np\u001b[39m.\u001b[39;49mcopy(x), \u001b[39m*\u001b[39;49margs)\n\u001b[1;32m    138\u001b[0m \u001b[39m# Make sure the function returns a true scalar\u001b[39;00m\n\u001b[1;32m    139\u001b[0m \u001b[39mif\u001b[39;00m \u001b[39mnot\u001b[39;00m np\u001b[39m.\u001b[39misscalar(fx):\n",
      "File \u001b[0;32m~/miniconda3/envs/osc/lib/python3.11/site-packages/scipy/optimize/_optimize.py:76\u001b[0m, in \u001b[0;36mMemoizeJac.__call__\u001b[0;34m(self, x, *args)\u001b[0m\n\u001b[1;32m     74\u001b[0m \u001b[39mdef\u001b[39;00m \u001b[39m__call__\u001b[39m(\u001b[39mself\u001b[39m, x, \u001b[39m*\u001b[39margs):\n\u001b[1;32m     75\u001b[0m \u001b[39m    \u001b[39m\u001b[39m\"\"\" returns the function value \"\"\"\u001b[39;00m\n\u001b[0;32m---> 76\u001b[0m     \u001b[39mself\u001b[39;49m\u001b[39m.\u001b[39;49m_compute_if_needed(x, \u001b[39m*\u001b[39;49margs)\n\u001b[1;32m     77\u001b[0m     \u001b[39mreturn\u001b[39;00m \u001b[39mself\u001b[39m\u001b[39m.\u001b[39m_value\n",
      "File \u001b[0;32m~/miniconda3/envs/osc/lib/python3.11/site-packages/scipy/optimize/_optimize.py:70\u001b[0m, in \u001b[0;36mMemoizeJac._compute_if_needed\u001b[0;34m(self, x, *args)\u001b[0m\n\u001b[1;32m     68\u001b[0m \u001b[39mif\u001b[39;00m \u001b[39mnot\u001b[39;00m np\u001b[39m.\u001b[39mall(x \u001b[39m==\u001b[39m \u001b[39mself\u001b[39m\u001b[39m.\u001b[39mx) \u001b[39mor\u001b[39;00m \u001b[39mself\u001b[39m\u001b[39m.\u001b[39m_value \u001b[39mis\u001b[39;00m \u001b[39mNone\u001b[39;00m \u001b[39mor\u001b[39;00m \u001b[39mself\u001b[39m\u001b[39m.\u001b[39mjac \u001b[39mis\u001b[39;00m \u001b[39mNone\u001b[39;00m:\n\u001b[1;32m     69\u001b[0m     \u001b[39mself\u001b[39m\u001b[39m.\u001b[39mx \u001b[39m=\u001b[39m np\u001b[39m.\u001b[39masarray(x)\u001b[39m.\u001b[39mcopy()\n\u001b[0;32m---> 70\u001b[0m     fg \u001b[39m=\u001b[39m \u001b[39mself\u001b[39;49m\u001b[39m.\u001b[39;49mfun(x, \u001b[39m*\u001b[39;49margs)\n\u001b[1;32m     71\u001b[0m     \u001b[39mself\u001b[39m\u001b[39m.\u001b[39mjac \u001b[39m=\u001b[39m fg[\u001b[39m1\u001b[39m]\n\u001b[1;32m     72\u001b[0m     \u001b[39mself\u001b[39m\u001b[39m.\u001b[39m_value \u001b[39m=\u001b[39m fg[\u001b[39m0\u001b[39m]\n",
      "File \u001b[0;32m~/Thesis/photocatalysis/workspace/photocatalysis/gpr_model.py:206\u001b[0m, in \u001b[0;36m_run_gpr_fit_bayesian_opt.<locals>.log_marginal_likelihood_target_localopt\u001b[0;34m(x, verbose)\u001b[0m\n\u001b[1;32m    204\u001b[0m i\u001b[39m+\u001b[39m\u001b[39m=\u001b[39m\u001b[39m1\u001b[39m\n\u001b[1;32m    205\u001b[0m gprx\u001b[39m.\u001b[39mset_kernel_params(x[\u001b[39m0\u001b[39m], x[\u001b[39m1\u001b[39m], x[\u001b[39m2\u001b[39m])\n\u001b[0;32m--> 206\u001b[0m gprx\u001b[39m.\u001b[39;49mfit(X_train,y_train)\n\u001b[1;32m    207\u001b[0m log,gradlog\u001b[39m=\u001b[39mgprx\u001b[39m.\u001b[39mlog_marginal_likelihood(eval_gradient\u001b[39m=\u001b[39m\u001b[39mTrue\u001b[39;00m)\n\u001b[1;32m    208\u001b[0m \u001b[39mif\u001b[39;00m verbose: \u001b[39mprint\u001b[39m(\u001b[39m'\u001b[39m\u001b[39mlocalopt\u001b[39m\u001b[39m'\u001b[39m,i, x, log, gradlog)\n",
      "File \u001b[0;32m~/Thesis/photocatalysis/workspace/photocatalysis/gpr_model.py:78\u001b[0m, in \u001b[0;36mKernel_method.fit\u001b[0;34m(self, X_train, y_train, refit)\u001b[0m\n\u001b[1;32m     76\u001b[0m \u001b[39mself\u001b[39m\u001b[39m.\u001b[39malpha \u001b[39m=\u001b[39m cho_solve((\u001b[39mself\u001b[39m\u001b[39m.\u001b[39mL, \u001b[39mTrue\u001b[39;00m), \u001b[39mself\u001b[39m\u001b[39m.\u001b[39my_train)  \n\u001b[1;32m     77\u001b[0m L_inv \u001b[39m=\u001b[39m solve_triangular(\u001b[39mself\u001b[39m\u001b[39m.\u001b[39mL\u001b[39m.\u001b[39mT, np\u001b[39m.\u001b[39meye(\u001b[39mself\u001b[39m\u001b[39m.\u001b[39mL\u001b[39m.\u001b[39mshape[\u001b[39m0\u001b[39m]))\n\u001b[0;32m---> 78\u001b[0m \u001b[39mself\u001b[39m\u001b[39m.\u001b[39mK_inv \u001b[39m=\u001b[39m L_inv\u001b[39m.\u001b[39mdot(L_inv\u001b[39m.\u001b[39mT)\n",
      "\u001b[0;31mKeyboardInterrupt\u001b[0m: "
     ]
    }
   ],
   "source": [
    "start = time.perf_counter()\n",
    "gpr_rdg, xtrain_rdg, krdg = get_ML_model(df_training, 'dGmax', multiprocess=1, D_scratch_dir='/run/user/1308495/scratch_distance_matrix', niter_local=1)\n",
    "print('RDG Fitting Took:', time.perf_counter() - start)"
   ]
  },
  {
   "cell_type": "code",
   "execution_count": null,
   "metadata": {},
   "outputs": [],
   "source": []
  }
 ],
 "metadata": {
  "kernelspec": {
   "display_name": "osc",
   "language": "python",
   "name": "python3"
  },
  "language_info": {
   "codemirror_mode": {
    "name": "ipython",
    "version": 3
   },
   "file_extension": ".py",
   "mimetype": "text/x-python",
   "name": "python",
   "nbconvert_exporter": "python",
   "pygments_lexer": "ipython3",
   "version": "3.11.4"
  },
  "orig_nbformat": 4
 },
 "nbformat": 4,
 "nbformat_minor": 2
}
