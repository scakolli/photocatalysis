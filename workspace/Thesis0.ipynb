{
 "cells": [
  {
   "cell_type": "markdown",
   "id": "01272156",
   "metadata": {},
   "source": [
    "# Thesis Rework"
   ]
  },
  {
   "cell_type": "markdown",
   "id": "28f4821d",
   "metadata": {},
   "source": [
    "# A) already generated chemical space in the /data folder"
   ]
  },
  {
   "cell_type": "code",
   "execution_count": null,
   "id": "8a1281dc",
   "metadata": {},
   "outputs": [],
   "source": [
    "import sys\n",
    "sys.path.append('../')\n",
    "sys.path.append('../morphing_operations')\n",
    "sys.path.append('.')\n",
    "\n",
    "import osc_discovery.cheminformatics.cheminformatics_mutation as cheminformatics_helpers_v2\n",
    "from osc_discovery.morphing_typical_OSC_design import operations_typical_osc_design as operations\n",
    "from osc_discovery.cheminformatics.cheminformatics_structure_check import check_rules_fulfilled\n",
    "from osc_discovery.cheminformatics.cheminformatics_symmetry import Symmetry\n",
    "from osc_discovery.cheminformatics.cheminformatics_misc import flatten_list, ase2rdkit, ase2xyz\n",
    "\n",
    "import time, os, pickle\n",
    "import numpy as np\n",
    "import pandas as pd\n",
    "import multiprocessing as mp\n",
    "\n",
    "import rdkit\n",
    "print(rdkit.__version__)\n",
    "from rdkit import rdBase,Chem\n",
    "from rdkit.Chem import AllChem,Draw\n",
    "from rdkit.Chem.Draw import IPythonConsole\n",
    "from rdkit.Chem import rdMolDescriptors\n",
    "from rdkit import RDLogger\n",
    "lg = RDLogger.logger()\n",
    "lg.setLevel(RDLogger.CRITICAL)"
   ]
  },
  {
   "cell_type": "code",
   "execution_count": null,
   "id": "17a154c8",
   "metadata": {},
   "outputs": [],
   "source": [
    "path = os.getcwd() + '/data/'\n",
    "file = 'df_chemical_space_chons_4rings.json'"
   ]
  },
  {
   "cell_type": "code",
   "execution_count": null,
   "id": "6082972d",
   "metadata": {},
   "outputs": [],
   "source": [
    "# Dataframe containing entire chemical space\n",
    "p = pd.read_json(path+file, orient='split')"
   ]
  },
  {
   "cell_type": "code",
   "execution_count": null,
   "id": "2f25c846",
   "metadata": {
    "scrolled": true
   },
   "outputs": [],
   "source": [
    "p.head()"
   ]
  },
  {
   "cell_type": "code",
   "execution_count": null,
   "id": "e6b5eabc",
   "metadata": {
    "scrolled": true
   },
   "outputs": [],
   "source": [
    "# Pick a random molecule in the space and get its smile string\n",
    "i = np.random.randint(315451)\n",
    "# i = 171557 # simple molecule\n",
    "catalyst_smi = p.iloc[i]['molecule_smiles']\n",
    "# catalyst_smi = 'O=c1cc2c(no1)-c1ncccc1C2=C1C=CC=C1'\n",
    "# catalyst_smi = 'c1cc[nH]c1'\n",
    "# catalyst_smi = 'N(c1ccccc1)c2ccccc2'\n",
    "p.iloc[i]"
   ]
  },
  {
   "cell_type": "code",
   "execution_count": null,
   "id": "e2ac7481",
   "metadata": {},
   "outputs": [],
   "source": [
    "Chem.AddHs(Chem.MolFromSmiles(catalyst_smi))"
   ]
  },
  {
   "cell_type": "markdown",
   "id": "12c8b9f6",
   "metadata": {},
   "source": [
    "[i=17] Provides a good Case study of OH, O, OOH adsorption dynamics\n",
    "\n",
    "OH adsorbs on site 2 causing substantial bending of entire catalyst\n",
    "\n",
    "O adsorbs on sites 2 & 3, again causing bending\n",
    "\n",
    "OOH however, preferentially adsorbs on site 3... i.e. it hops from site 2 to 3 during relaxation, and the substrate remains relatively flat as opposed to bent as in the previous adsorption configurations\n",
    "\n",
    "If we sequentially form the subsequent adsorbates from the previous adsorbate configurations, I wonder what would happen?"
   ]
  },
  {
   "cell_type": "markdown",
   "id": "941d6e5f",
   "metadata": {},
   "source": [
    "#### 2 Ways of forming intermediates:\n",
    "\n",
    "1. OH, OOH adsorb on the same site, with O adsorbing with an additional neighboring site\n",
    "2. OH, OOH adsorb on neighboring sites, with O mediating their transition between sites..\n",
    "In which case, maybe 2 carbons together could be considered an active site?"
   ]
  },
  {
   "cell_type": "markdown",
   "id": "13dea463",
   "metadata": {},
   "source": [
    "# ASE and xTB api"
   ]
  },
  {
   "cell_type": "code",
   "execution_count": null,
   "id": "f3d25ab1",
   "metadata": {},
   "outputs": [],
   "source": [
    "from osc_discovery.descriptor_calculation.conformers import get_conformers_rdkit as get_conformers\n",
    "from xtb.ase.calculator import XTB\n",
    "\n",
    "import ase\n",
    "from ase.optimize import LBFGS\n",
    "from ase.optimize.minimahopping import MinimaHopping, MHPlot\n",
    "from ase.optimize.basin import BasinHopping\n",
    "from ase.calculators.emt import EMT\n",
    "from ase.units import kB, Hartree\n",
    "from ase.geometry.analysis import Analysis\n",
    "\n",
    "from ase.constraints import FixAtoms, Hookean, FixBondLengths, FixBondLength, FixInternals\n",
    "\n",
    "from ase.vibrations import Vibrations\n",
    "\n",
    "from ase.thermochemistry import HarmonicThermo\n",
    "\n",
    "from rdkit.Chem.Draw import SimilarityMaps\n",
    "\n",
    "import matplotlib.pyplot as plt\n",
    "from itertools import tee\n",
    "from copy import deepcopy"
   ]
  },
  {
   "cell_type": "code",
   "execution_count": null,
   "id": "5043f948",
   "metadata": {},
   "outputs": [],
   "source": [
    "def pairwise(iterable):\n",
    "    \"s -> (s0,s1), (s1,s2), (s2, s3), ...\"\n",
    "    a, b = tee(iterable)\n",
    "    next(b, None)\n",
    "    return zip(a, b)"
   ]
  },
  {
   "cell_type": "code",
   "execution_count": null,
   "id": "576718ec",
   "metadata": {
    "scrolled": false
   },
   "outputs": [],
   "source": [
    "### Define the water molecule\n",
    "\n",
    "# SMILE string for water\n",
    "mol_smi = 'O'\n",
    "\n",
    "# RDKIT representation\n",
    "mol_rdkit = Chem.AddHs(Chem.MolFromSmiles(mol_smi))\n",
    "\n",
    "# ASE representation using the conformer generation code\n",
    "mol_ase = get_conformers(mol_smi)[0]"
   ]
  },
  {
   "cell_type": "code",
   "execution_count": null,
   "id": "1566a9da",
   "metadata": {},
   "outputs": [],
   "source": [
    "### Define the Hydrogen molecule\n",
    "mol_ase = ase.Atoms('2H', positions=[(0., 0., 0.), (0., 0., 1.)])"
   ]
  },
  {
   "cell_type": "code",
   "execution_count": null,
   "id": "7dddfacb",
   "metadata": {},
   "outputs": [],
   "source": [
    "# Define Calculator object from xTB python api and assign it to ase atoms\n",
    "T, P = 298, 101325\n",
    "calc = XTB(method=\"GFN2-xTB\", accuracy=0.2, electronic_temperature=T)\n",
    "mol_ase.calc = calc"
   ]
  },
  {
   "cell_type": "code",
   "execution_count": null,
   "id": "96205469",
   "metadata": {},
   "outputs": [],
   "source": [
    "# Constrain the Oxygen atom\n",
    "constraint = FixAtoms(indices=[0]) #constrain the 0th atom\n",
    "constraint = FixAtoms(mask=[atom == 'O' for atom in mol_ase.symbols]) #create a boolean mask with 1's in indicies where you want constr.\n",
    "mol_ase.set_constraint(constraint)\n",
    "\n",
    "# del mol_ase.constraints # Remove Constraints if necessary"
   ]
  },
  {
   "cell_type": "code",
   "execution_count": null,
   "id": "e28ce02f",
   "metadata": {
    "scrolled": false
   },
   "outputs": [],
   "source": [
    "# Local Geometry Optimization\n",
    "opt = LBFGS(mol_ase, trajectory='H2O.traj')\n",
    "opt.run(fmax=0.0005)"
   ]
  },
  {
   "cell_type": "code",
   "execution_count": null,
   "id": "67d8247a",
   "metadata": {},
   "outputs": [],
   "source": [
    "vib.clean()"
   ]
  },
  {
   "cell_type": "code",
   "execution_count": null,
   "id": "7bff3a03",
   "metadata": {
    "scrolled": true
   },
   "outputs": [],
   "source": [
    "# Vibrational Analysis\n",
    "vib = Vibrations(mol_ase)\n",
    "vib.run()\n",
    "vib.summary()"
   ]
  },
  {
   "cell_type": "markdown",
   "id": "2dfa362f",
   "metadata": {},
   "source": [
    "There are only 3N-6 vibrational modes present in a molecule... the imaginary freq. of H20 must be a computational artifact"
   ]
  },
  {
   "cell_type": "code",
   "execution_count": null,
   "id": "a6c2af73",
   "metadata": {},
   "outputs": [],
   "source": [
    "# Thermodynamic Quantities\n",
    "num_modes = 3 * mol_ase.get_global_number_of_atoms() - 6\n",
    "\n",
    "vib_energies = vib.get_energies()[-num_modes:]\n",
    "pot_energy = mol_ase.get_potential_energy()"
   ]
  },
  {
   "cell_type": "code",
   "execution_count": null,
   "id": "1d93c1ed",
   "metadata": {},
   "outputs": [],
   "source": [
    "thermo = HarmonicThermo(vib_energies=vib_energies, potentialenergy=pot_energy)"
   ]
  },
  {
   "cell_type": "code",
   "execution_count": null,
   "id": "a752195d",
   "metadata": {
    "scrolled": true
   },
   "outputs": [],
   "source": [
    "thermo.get_helmholtz_energy(T)"
   ]
  },
  {
   "cell_type": "markdown",
   "id": "93e7652e",
   "metadata": {},
   "source": [
    "## Calculate"
   ]
  },
  {
   "cell_type": "code",
   "execution_count": null,
   "id": "8e7ee756",
   "metadata": {},
   "outputs": [],
   "source": [
    "def single_point(molecule, method=\"GFN2-xTB\", accuracy=0.2, electronic_temperature=298.15, relaxation=False, trajectory=None, fmax=0.05):\n",
    "    \n",
    "    # Method for remove prior calculator\n",
    "    \n",
    "    # Attach calculator\n",
    "    calculator = XTB(method=method, accuracy=accuracy, electronic_temperature=electronic_temperature)\n",
    "    molecule.calc = calculator\n",
    "    \n",
    "    # Locally optimize geometry\n",
    "    if relaxation:\n",
    "        optimizer = LBFGS(molecule, trajectory=trajectory, logfile=None)\n",
    "        optimizer.run(fmax=fmax)\n",
    "    \n",
    "    # Calculate Energy (eV)\n",
    "    E = molecule.get_potential_energy()\n",
    "    \n",
    "    return E"
   ]
  },
  {
   "cell_type": "code",
   "execution_count": null,
   "id": "e3635732",
   "metadata": {
    "scrolled": false
   },
   "outputs": [],
   "source": [
    "# Define Relavent Species\n",
    "# adsorbate = ase.Atoms('2H', positions=[(0., 0., 0.), (0., 0., 1.)])\n",
    "adsorbate = ase.Atoms(symbols=['O', 'H'], positions=[(0., 0., 0.), (0., 0., 1.)])\n",
    "adsorbate1 = ase.Atoms(symbols=['O'], positions=[(0., 0., 0.)])\n",
    "adsorbate2 = ase.Atoms(symbols=['O', 'O', 'H'], positions=[(0., 0., 0.), (0., 0., 1.), (0., 1., 1.)])\n",
    "\n",
    "substrate = get_conformers(catalyst_smi)[0]"
   ]
  },
  {
   "cell_type": "code",
   "execution_count": null,
   "id": "c4c4daf2",
   "metadata": {
    "scrolled": false
   },
   "outputs": [],
   "source": [
    "# Fix first atom to origin and relax\n",
    "adsorbate.set_constraint([FixAtoms(indices=[0])])\n",
    "adsorbate1.set_constraint([FixAtoms(indices=[0])])\n",
    "adsorbate2.set_constraint([FixAtoms(indices=[0])])\n",
    "\n",
    "# Relax species via a single point calculation\n",
    "Eads = single_point(adsorbate, relaxation=True)\n",
    "Eads1 = single_point(adsorbate1, relaxation=True)\n",
    "Eads2 = single_point(adsorbate2, relaxation=True)\n",
    "\n",
    "# Remove Constraints\n",
    "del adsorbate.constraints, adsorbate1.constraints, adsorbate2.constraints"
   ]
  },
  {
   "cell_type": "code",
   "execution_count": null,
   "id": "87528643",
   "metadata": {},
   "outputs": [],
   "source": [
    "# Equilibrium distances\n",
    "r_eq_OO = adsorbate2.get_distance(0, 1)\n",
    "r_eq_OH = adsorbate.get_distance(0, 1)"
   ]
  },
  {
   "cell_type": "code",
   "execution_count": null,
   "id": "e1a5a5f0",
   "metadata": {
    "scrolled": true
   },
   "outputs": [],
   "source": [
    "Esub = single_point(substrate, relaxation=True, trajectory='opt.traj', fmax=0.005)"
   ]
  },
  {
   "cell_type": "code",
   "execution_count": null,
   "id": "4035bcb7",
   "metadata": {},
   "outputs": [],
   "source": [
    "# Relax system before computing bonds, otherwise you might get faulty bond designations\n",
    "ana = Analysis(substrate)\n",
    "bonds_original = ana.all_bonds[0]\n",
    "\n",
    "total_num_nonHs = len(substrate) - substrate.get_chemical_symbols().count('H')\n",
    "\n",
    "substrate.info['bonds'] = bonds_original\n",
    "substrate.info['nonH_count'] = int(total_num_nonHs)"
   ]
  },
  {
   "cell_type": "code",
   "execution_count": null,
   "id": "f74edf56",
   "metadata": {},
   "outputs": [],
   "source": [
    "unique_bonds = ana.unique_bonds[0]\n",
    "\n",
    "pairwise_unique_bonds = []\n",
    "for i, b in enumerate(unique_bonds):\n",
    "    for v in b:\n",
    "        pairwise_unique_bonds.append(sorted([i, v]))"
   ]
  },
  {
   "cell_type": "markdown",
   "id": "b70f47fc",
   "metadata": {},
   "source": [
    "## Vizualize negative charge density"
   ]
  },
  {
   "cell_type": "code",
   "execution_count": null,
   "id": "6c5597ef",
   "metadata": {},
   "outputs": [],
   "source": [
    "mol = Chem.AddHs(Chem.MolFromSmiles(catalyst_smi))\n",
    "mol"
   ]
  },
  {
   "cell_type": "code",
   "execution_count": null,
   "id": "d3cfa70e",
   "metadata": {
    "scrolled": true
   },
   "outputs": [],
   "source": [
    "mol2 = ase2rdkit(substrate)\n",
    "print(mol2.GetConformer(0).GetPositions())\n",
    "mol2"
   ]
  },
  {
   "cell_type": "code",
   "execution_count": null,
   "id": "c7f727ac",
   "metadata": {},
   "outputs": [],
   "source": [
    "from rdkit.Chem.Draw import SimilarityMaps\n",
    "import io\n",
    "from PIL import Image"
   ]
  },
  {
   "cell_type": "code",
   "execution_count": null,
   "id": "d4438724",
   "metadata": {},
   "outputs": [],
   "source": [
    "def show_png(data):\n",
    "    bio = io.BytesIO(data)\n",
    "    img = Image.open(bio)\n",
    "    return img"
   ]
  },
  {
   "cell_type": "code",
   "execution_count": null,
   "id": "a02f1e3e",
   "metadata": {},
   "outputs": [],
   "source": [
    "static_chgs = substrate.get_charges()"
   ]
  },
  {
   "cell_type": "code",
   "execution_count": null,
   "id": "fd43c225",
   "metadata": {
    "scrolled": false
   },
   "outputs": [],
   "source": [
    "d = Draw.MolDraw2DCairo(400, 400)\n",
    "SimilarityMaps.GetSimilarityMapFromWeights(mol2, list(static_chgs), draw2d=d)\n",
    "d.FinishDrawing()\n",
    "show_png(d.GetDrawingText())"
   ]
  },
  {
   "cell_type": "markdown",
   "id": "4d24af83",
   "metadata": {},
   "source": [
    "## Brute Force Optimziation 1"
   ]
  },
  {
   "cell_type": "code",
   "execution_count": null,
   "id": "87fe012c",
   "metadata": {},
   "outputs": [],
   "source": [
    "def build(a, s, site, constraints_list, f=1.5):\n",
    "    ads = a.copy()\n",
    "    sub = s.copy()\n",
    "    \n",
    "    # Active site position and indices of neighboring 2 atoms\n",
    "    p = sub[site].position\n",
    "    b = sub.get_distances(site, indices=[i for i in range(len(sub))]).argsort()[1:3]\n",
    "    # b = sub.info[site]\n",
    "    \n",
    "    # Determine vector 'n' that defines a plane between active site and 2 neighboring atoms\n",
    "    diff = sub[b].get_positions() - p\n",
    "    cross = np.cross(diff[0], diff[1])\n",
    "    n = cross / np.linalg.norm(cross)\n",
    "    \n",
    "    # Rotate vector definining O-H or O-O bond into vector 'n' defining plane\n",
    "    if len(ads) > 1:\n",
    "        ads.rotate(ads.positions[1], n) \n",
    "        \n",
    "    # Translate adsorbate a height 'f' above position of active site\n",
    "    ads.translate(p + n*f)\n",
    "    \n",
    "    # Form composite system and introduce any constraints\n",
    "    composite = sub + ads\n",
    "    composite.set_constraint(constraints_list)\n",
    "    \n",
    "    return composite"
   ]
  },
  {
   "cell_type": "code",
   "execution_count": null,
   "id": "c1044da5",
   "metadata": {},
   "outputs": [],
   "source": [
    "def hopping_and_identity_checks(substrate_original, composite_relaxed, candidate_site):\n",
    "    s, c = substrate_original.copy(), composite_relaxed.copy()\n",
    "    \n",
    "    ### Check the active site of adsorbate upon relaxation\n",
    "    adsorb_len = len(c) - len(s)\n",
    "    actual_sites = c.get_distances(-adsorb_len, indices=[i for i in range(len(s))]).argsort()\n",
    "    \n",
    "    if adsorb_len == 1:\n",
    "        # If O adsorbate, is it bound within atleast an atom to the candidate active site\n",
    "        cond1 = np.isin(candidate_site, actual_sites[:2])\n",
    "    else:\n",
    "        cond1 = (candidate_site == actual_sites[0])\n",
    "    \n",
    "    ### Check if identity of adsorbate has been preserved\n",
    "    equilibrium_distances = [0.963, 1.302] # OH and OO bond distances\n",
    "    threshold = 0.3 # Angstrom\n",
    "    ads_dist = [composite_relaxed.get_distance(-i, -(i+1)) for i in range(1, adsorb_len)]\n",
    "    cond2 = all([(abs(i - j) < threshold) for i, j in zip(equilibrium_distances, ads_dist)])\n",
    "    \n",
    "    ### Check if the identity of the substrate has been preserved upon relaxation & desorption\n",
    "    del c.constraints, c[-adsorb_len:]\n",
    "    bonding_c = Analysis(c).all_bonds[0] #indices in ascending order\n",
    "    cond3 = (list(s.info.values()) == bonding_c)\n",
    "    \n",
    "    return cond1, cond2, cond3"
   ]
  },
  {
   "cell_type": "code",
   "execution_count": null,
   "id": "bdbea63c",
   "metadata": {},
   "outputs": [],
   "source": [
    "constraint_OH = Hookean(len(substrate), len(substrate)+1, rt=1.4, k=5) #constraint for O-H bond in OH\n",
    "constraint_OOH_a = Hookean(len(substrate), len(substrate)+1, rt=1.79, k=5) #constraint for O-O bond in OOH (C-O bond params used)\n",
    "constraint_OOH_b = Hookean(len(substrate)+1, len(substrate)+2, rt=1.4, k=5) #constraint for O-H bond in OOH"
   ]
  },
  {
   "cell_type": "markdown",
   "id": "29400b60",
   "metadata": {},
   "source": [
    "## Brute Force Optimziation 2"
   ]
  },
  {
   "cell_type": "code",
   "execution_count": null,
   "id": "10e26a3b",
   "metadata": {},
   "outputs": [],
   "source": [
    "def far_neighbor_indices(atom_index, sub, nonH_neighbors=12):\n",
    "    # What is the average non_hydrogenic size of a given moeity thats added via the morphing operations\n",
    "    nonH_nearest_neighbors = sub.get_distances(atom_index, indices=[range(sub.info['nonH_count'])]).argsort()\n",
    "    return nonH_nearest_neighbors[nonH_neighbors+1:]"
   ]
  },
  {
   "cell_type": "code",
   "execution_count": null,
   "id": "fb5fa878",
   "metadata": {},
   "outputs": [],
   "source": [
    "def build_config(a, s, site, constraints_list, f=1.5):\n",
    "    ads_perp, ads_between, ads_para, sub = a.copy(), a.copy(), a.copy(), s.copy()\n",
    "    \n",
    "    # Active site position and indices of neighboring 2 atoms\n",
    "    p = sub[site].position\n",
    "    b = sub.info['bonds'][site]\n",
    "    \n",
    "    if ((len(b) != 4) & (len(b) != 1)):\n",
    "        # Alkane carbon (4) or Carbonyl Oxygen (1), likely not an active site\n",
    "    \n",
    "        # Determine vector 'n_perp' that defines a plane between active site and 2 neighboring atoms\n",
    "        # as well as 'n_para' that sits within the plane but away from the 2 neighboring atoms\n",
    "        diff = sub[b].get_positions() - p\n",
    "        cross = np.cross(diff[0], diff[1])\n",
    "        n_perp = cross / np.linalg.norm(cross)\n",
    "        n_para = -(diff[0] + diff[1]) / np.linalg.norm(diff[0] + diff[1])\n",
    "\n",
    "        # Rotate vector definining O-H or O-O bond into vector 'n' defining plane\n",
    "        if len(a) > 1:\n",
    "            ads_perp.rotate(ads_perp.positions[1], n_perp)\n",
    "            #ads_between.rotate(ads_between.positions[1], n_perp)\n",
    "\n",
    "        # Translate adsorbate a height 'f' above position of active site\n",
    "        ads_perp.translate(p + n_perp*f)\n",
    "        #ads_between.translate(p + n_perp*f)\n",
    "        \n",
    "        # Form composite system and introduce any constraints\n",
    "        composite_perp = sub + ads_perp\n",
    "        #composite_perp_neg = sub + ads_perp_neg\n",
    "        \n",
    "        composite_perp.set_constraint(constraints_list)\n",
    "        #composite_perp_neg.set_constraint(constraints_list)\n",
    "        \n",
    "        # Alkyne carbons don't need an additional parallel orientation\n",
    "        alkyne_condition = (sub.get_angle(b[0], site, b[1]) < 170)\n",
    "        if (len(b) == 2) & alkyne_condition:\n",
    "            # Possibility to orient parallel to the plane defined by 'n' and away from neighbors\n",
    "\n",
    "            if len(a) > 1:\n",
    "                ads_para.rotate(ads_para.positions[1], n_para)\n",
    "\n",
    "            ads_para.translate(p + n_para*f)\n",
    "            composite_para = sub + ads_para\n",
    "            composite_para.set_constraint(constraints_list)\n",
    "            \n",
    "            return [composite_perp, composite_para]\n",
    "        else:\n",
    "            return [composite_perp]\n",
    "        \n",
    "    else:\n",
    "        return []"
   ]
  },
  {
   "cell_type": "code",
   "execution_count": null,
   "id": "dc04c147",
   "metadata": {},
   "outputs": [],
   "source": [
    "def site_identity_volatization_checks(substrate_original, composite_relaxed, volatization_threshold=2):\n",
    "    s, c = substrate_original.copy(), composite_relaxed.copy()\n",
    "    ads_indx = [indx for indx in range(len(s), len(c))] # adsorbate indices\n",
    "    \n",
    "    ### List of bond indices for each atom, arranged in ascending order. Create dict for easy processing\n",
    "    bonds = Analysis(c).all_bonds[0]\n",
    "    b = deepcopy(bonds)\n",
    "    bonds_dict = dict(zip(range(len(b)), b))\n",
    "    \n",
    "    ### Check where the Oxygen in the adsorbate has bonded\n",
    "    sites = [sub_indx for sub_indx in bonds[ads_indx[0]] if sub_indx not in ads_indx]\n",
    "    \n",
    "    ### Check if the identity of the substrate has been preserved upon relaxation & desorption\n",
    "    # Remove the adsorbate from the bonds dict and compare the resulting dict to the original substrate bonds list\n",
    "    # Look at what the adsorbate (a_i) is bonded to (v), and remove the adsorbate from v's bonds list\n",
    "    # Then delete the adsorbate from the dict\n",
    "    for a_i in ads_indx:\n",
    "        for v in bonds_dict[a_i]:\n",
    "            bonds_dict[v].remove(a_i)\n",
    "        del bonds_dict[a_i]\n",
    "    \n",
    "    cond1 = (list(bonds_dict.values()) == substrate.info['bonds'])\n",
    "\n",
    "    ### Check if identity of adsorbate has been preserved\n",
    "    equilibrium_distances, threshold = [0.963, 1.302], 0.3 # OH and OO bond distances, threshold for bond-breakage\n",
    "    ads_dist = [c.get_distance(*ai) for ai in pairwise(ads_indx)]\n",
    "    ads_dist.reverse()\n",
    "    cond2 = all([(abs(i - j) < threshold) for i, j in zip(equilibrium_distances, ads_dist)])\n",
    "    \n",
    "    ### Check if adsorbate is properly bound and has not volatalized\n",
    "    # There is perhaps a faster way to do this using only the 'bonds' list\n",
    "    # if len(sites) == 0, then volatization has occured. But the adsorbate could pick off a hydrogen\n",
    "    min_dist = c.get_distances(ads_indx[0], indices=[i for i in range(s.info['nonH_count'])]).min()\n",
    "    cond3 = (min_dist < volatization_threshold)\n",
    "    \n",
    "    return cond1, cond2, cond3, sites"
   ]
  },
  {
   "cell_type": "code",
   "execution_count": null,
   "id": "13e71c52",
   "metadata": {},
   "outputs": [],
   "source": [
    "def volatization_and_identity_checks(substrate_original, composite_relaxed, volatization_threshold=2):\n",
    "    s, c = substrate_original.copy(), composite_relaxed.copy()\n",
    "    adsorb_len = len(c) - len(s)\n",
    "    \n",
    "    ### Check if adsorbate is properly bound and has not volatalized\n",
    "    min_dist = c.get_distances(-adsorb_len, indices=[i for i in range(s.info['nonH_count'])]).min()\n",
    "    cond1 = (min_dist < volatization_threshold)\n",
    "    \n",
    "    ### Check if identity of adsorbate has been preserved\n",
    "    equilibrium_distances = [0.963, 1.302] # OH and OO bond distances\n",
    "    threshold = 0.3 # Angstrom\n",
    "    ads_dist = [composite_relaxed.get_distance(-i, -(i+1)) for i in range(1, adsorb_len)]\n",
    "    cond2 = all([(abs(i - j) < threshold) for i, j in zip(equilibrium_distances, ads_dist)])\n",
    "    \n",
    "    ### Check if the identity of the substrate has been preserved upon relaxation & desorption\n",
    "    del c.constraints, c[-adsorb_len:]\n",
    "    bonding_c = Analysis(c).all_bonds[0] #indices in ascending order\n",
    "    cond3 = (list(s.info.values()) == bonding_c)\n",
    "    \n",
    "    return cond1, cond2, cond3"
   ]
  },
  {
   "cell_type": "code",
   "execution_count": null,
   "id": "0412f556",
   "metadata": {},
   "outputs": [],
   "source": [
    "def plane(p1, p2, p3, offset):\n",
    "    # These two vectors are in the plane\n",
    "    v1 = p3 - p1\n",
    "    v2 = p2 - p1\n",
    "\n",
    "    # the cross product is a vector normal to the plane\n",
    "    cp = np.cross(v1, v2)\n",
    "    a, b, c = cp\n",
    "\n",
    "    # This evaluates a * x + b * y + c * z + d = 0\n",
    "    d = -np.dot(cp, p3)\n",
    "    \n",
    "    # Offset in angstrom to place plane above atoms\n",
    "    d += offset\n",
    "    \n",
    "    return a, b, c, d"
   ]
  },
  {
   "cell_type": "code",
   "execution_count": null,
   "id": "b9d4b5e7",
   "metadata": {},
   "outputs": [],
   "source": [
    "def relax_configurations(configurations, method='GFN2-xTB'):\n",
    "    start = time.time()\n",
    "    for i, config in enumerate(configurations):\n",
    "        print('Iteration:', i, '/', len(configurations))\n",
    "        \n",
    "        config.info['energy'] = single_point(config, method=method, relaxation=True, fmax=0.05, trajectory='opt{}.traj'.format(i))\n",
    "        c1, c2, c3, active_sites = site_identity_volatization_checks(substrate, config)\n",
    "        config.info['checks'] = all([c1, c2, c3])\n",
    "        config.info['active sites'] = active_sites\n",
    "        \n",
    "        print('Energy (eV):', config.info['energy'])\n",
    "        print('Checks:', config.info['checks'])\n",
    "        print('Active Site:', config.info['active sites'])\n",
    "        print('----------------------------------------')\n",
    "    print('Elapsed Time:', time.time()-start)"
   ]
  },
  {
   "cell_type": "code",
   "execution_count": null,
   "id": "4cc2f0fe",
   "metadata": {},
   "outputs": [],
   "source": [
    "def enumerate_configuration_space(ads, sub, additional_constraints, fix_far_away=12):\n",
    "    a, s = ads.copy(), sub.copy()\n",
    "    \n",
    "    ### Create initial configurations complete with desired constraints\n",
    "    configs = []\n",
    "\n",
    "    for i in range(s.info['nonH_count']):\n",
    "        constr = [FixAtoms(indices=far_neighbor_indices(i, s, nonH_neighbors=fix_far_away))]\n",
    "        constr += additional_constraints\n",
    "        configs += build_config(a, s, i, constr)\n",
    "    \n",
    "    return configs"
   ]
  },
  {
   "cell_type": "markdown",
   "id": "558a8b5c",
   "metadata": {},
   "source": [
    "# Well-packaged"
   ]
  },
  {
   "cell_type": "markdown",
   "id": "439237eb",
   "metadata": {},
   "source": [
    "use copy.deepcopy() when forming copies, to avoid errors..."
   ]
  },
  {
   "cell_type": "code",
   "execution_count": null,
   "id": "8b5cce99",
   "metadata": {},
   "outputs": [],
   "source": [
    "os.chdir('run')"
   ]
  },
  {
   "cell_type": "markdown",
   "id": "ecab409a",
   "metadata": {},
   "source": [
    "#### OH"
   ]
  },
  {
   "cell_type": "code",
   "execution_count": null,
   "id": "a6b9bc8a",
   "metadata": {
    "scrolled": true
   },
   "outputs": [],
   "source": [
    "# Define Inputs\n",
    "constraints = [Hookean(-len(adsorbate), -len(adsorbate)+1, rt=1.4, k=5)] #constraint for O-H bond in OH\n",
    "\n",
    "# Run Workflow\n",
    "configs = enumerate_configuration_space(adsorbate, substrate, constraints, fix_far_away=12)\n",
    "relax_configurations(configs)\n",
    "configurations = configs.copy()\n",
    "\n",
    "# Calculate Params\n",
    "E = np.array([config.info['energy'] for config in configurations])\n",
    "Eadsorption = E - (Eads + Esub)"
   ]
  },
  {
   "cell_type": "code",
   "execution_count": null,
   "id": "59393984",
   "metadata": {},
   "outputs": [],
   "source": [
    "[(j, site_identity_volatization_checks(substrate, config)) for j, config in enumerate(configs)]"
   ]
  },
  {
   "cell_type": "code",
   "execution_count": null,
   "id": "bb1cc26e",
   "metadata": {},
   "outputs": [],
   "source": [
    "Eadsorption"
   ]
  },
  {
   "cell_type": "markdown",
   "id": "d5be95b3",
   "metadata": {},
   "source": [
    "#### O"
   ]
  },
  {
   "cell_type": "code",
   "execution_count": null,
   "id": "38e9887d",
   "metadata": {
    "scrolled": true
   },
   "outputs": [],
   "source": [
    "# Run Workflow\n",
    "configs1 = enumerate_configuration_space(adsorbate1, substrate, [], fix_far_away=12)\n",
    "relax_configurations(configs1)\n",
    "configurations1 = configs1.copy()\n",
    "\n",
    "# Calculate Params\n",
    "E1 = np.array([config.info['Energy'] for config in configurations1])\n",
    "Eadsorption1 = E1 - (Eads1 + Esub)"
   ]
  },
  {
   "cell_type": "markdown",
   "id": "8b51cd94",
   "metadata": {},
   "source": [
    "#### OOH"
   ]
  },
  {
   "cell_type": "code",
   "execution_count": null,
   "id": "424cef6d",
   "metadata": {
    "scrolled": true
   },
   "outputs": [],
   "source": [
    "# Define Inputs\n",
    "constraint_OOH_a = Hookean(-len(adsorbate2), -len(adsorbate2)+1, rt=1.79, k=5) #constraint for O-O bond in OOH (C-O bond params used)\n",
    "constraint_OOH_b = Hookean(-len(adsorbate2)+1, -len(adsorbate2)+2, rt=1.4, k=5) #constraint for O-H bond in OOH\n",
    "constraints = [constraint_OOH_a, constraint_OOH_b]\n",
    "\n",
    "# Run Workflow\n",
    "configs2 = enumerate_configuration_space(adsorbate2, substrate, constraints, fix_far_away=12)\n",
    "relax_configurations(configs2)\n",
    "configurations2 = configs2.copy()\n",
    "\n",
    "# Calculate Params\n",
    "E2 = np.array([config.info['Energy'] for config in configurations2])\n",
    "Eadsorption2 = E2 - (Eads2 + Esub)"
   ]
  },
  {
   "cell_type": "markdown",
   "id": "9ef402f9",
   "metadata": {},
   "source": [
    "#### Summary"
   ]
  },
  {
   "cell_type": "code",
   "execution_count": null,
   "id": "ba1c8913",
   "metadata": {
    "scrolled": false
   },
   "outputs": [],
   "source": [
    "data = np.array([where_localized, where_localized1, where_localized2, Eadsorption, Eadsorption1, Eadsorption2])\n",
    "col = ['where', 'where1', 'where2', 'Eads', 'Eads1', 'Eads2']\n",
    "pd.DataFrame(data.T, columns=col)"
   ]
  },
  {
   "cell_type": "markdown",
   "id": "2024d911",
   "metadata": {},
   "source": [
    "s"
   ]
  },
  {
   "cell_type": "code",
   "execution_count": null,
   "id": "fadf1dc8",
   "metadata": {},
   "outputs": [],
   "source": [
    "print(np.array([Eadsorption.argsort(), Eadsorption1.argsort(), Eadsorption2.argsort()]))"
   ]
  },
  {
   "cell_type": "code",
   "execution_count": null,
   "id": "9d7b3360",
   "metadata": {
    "scrolled": true
   },
   "outputs": [],
   "source": [
    "d = get_min_site_adsorption_energy(where_localized, Eadsorption).values()\n",
    "d2 = get_min_site_adsorption_energy(where_localized2, Eadsorption2).values()"
   ]
  },
  {
   "cell_type": "code",
   "execution_count": null,
   "id": "d93e7964",
   "metadata": {},
   "outputs": [],
   "source": [
    "# Scaling Relations\n",
    "plt.scatter(d, d2)"
   ]
  },
  {
   "cell_type": "markdown",
   "id": "287fb815",
   "metadata": {},
   "source": [
    "#### High Fidelity Scheme"
   ]
  },
  {
   "cell_type": "code",
   "execution_count": null,
   "id": "83ead41c",
   "metadata": {},
   "outputs": [],
   "source": [
    "### Create initial configurations complete with desired constraints\n",
    "configs = []\n",
    "\n",
    "for i in range(total_num_nonHs):\n",
    "    constr = [Hookean(len(substrate), len(substrate)+1, rt=1.4, k=5), FixAtoms(indices=far_neighbor_indices(i, substrate))]\n",
    "    configs += build_config(adsorbate, substrate, i, constr)"
   ]
  },
  {
   "cell_type": "code",
   "execution_count": null,
   "id": "00793c3c",
   "metadata": {
    "scrolled": true
   },
   "outputs": [],
   "source": [
    "### Relax configurations\n",
    "relax_configurations(configs)"
   ]
  },
  {
   "cell_type": "code",
   "execution_count": null,
   "id": "cfedb696",
   "metadata": {},
   "outputs": [],
   "source": [
    "### Filter configurations for fidelity\n",
    "# configurations = [config for config in configs if config.info['Fidelity Checks'] == True].copy()\n",
    "configurations = configs.copy()"
   ]
  },
  {
   "cell_type": "code",
   "execution_count": null,
   "id": "ce6636bb",
   "metadata": {},
   "outputs": [],
   "source": [
    "E = np.array([config.info['Energy'] for config in configurations])\n",
    "Checks = np.array([config.info['Fidelity Checks'] for config in configurations])\n",
    "Eadsorption = (E - (Eads + Esub))"
   ]
  },
  {
   "cell_type": "code",
   "execution_count": null,
   "id": "4658c8e4",
   "metadata": {},
   "outputs": [],
   "source": [
    "where_localized = [where_adsorbate_location(substrate, config) for config in configurations]"
   ]
  },
  {
   "cell_type": "code",
   "execution_count": null,
   "id": "129b194c",
   "metadata": {},
   "outputs": [],
   "source": [
    "[(j, x, y) for j,(x,y) in enumerate(zip(where_localized, Eadsorption))]"
   ]
  },
  {
   "cell_type": "markdown",
   "id": "91cb5005",
   "metadata": {},
   "source": [
    "#### O"
   ]
  },
  {
   "cell_type": "code",
   "execution_count": null,
   "id": "fb984883",
   "metadata": {},
   "outputs": [],
   "source": [
    "lowest_energy_config = configurations[Eadsorption.argmin()].copy()\n",
    "configs_sorted = [y for _, y in sorted(zip(Eadsorption, configurations))]\n",
    "checks_sorted = [y for _, y in sorted(zip(Eadsorption, Checks))]"
   ]
  },
  {
   "cell_type": "code",
   "execution_count": null,
   "id": "a8d9d295",
   "metadata": {},
   "outputs": [],
   "source": [
    "configs_rdkit_sorted = [ase2rdkit(config) for config in configs_sorted]"
   ]
  },
  {
   "cell_type": "code",
   "execution_count": null,
   "id": "8485d9b1",
   "metadata": {
    "scrolled": true
   },
   "outputs": [],
   "source": [
    "l = ['{}, {}, {} eV'.format(i, c, e) for i, c, e in zip(Eadsorption.argsort(), checks_sorted, sorted(Eadsorption))]\n",
    "Draw.MolsToGridImage(configs_rdkit_sorted, legends=l)"
   ]
  },
  {
   "cell_type": "code",
   "execution_count": null,
   "id": "44a0f60e",
   "metadata": {
    "scrolled": true
   },
   "outputs": [],
   "source": [
    "[(j, x, y) for j,(x,y) in enumerate(zip(where_localized, Eadsorption))]"
   ]
  },
  {
   "cell_type": "code",
   "execution_count": null,
   "id": "c05a17dc",
   "metadata": {},
   "outputs": [],
   "source": [
    "where_localized = [where_adsorbate_location(substrate, config) for config in configurations]"
   ]
  },
  {
   "cell_type": "raw",
   "id": "c36c5b7f",
   "metadata": {},
   "source": [
    "fig = SimilarityMaps.GetSimilarityMapFromWeights(substrate, contribs, colorMap='jet', contourLines=10)"
   ]
  },
  {
   "cell_type": "code",
   "execution_count": null,
   "id": "3ed40e97",
   "metadata": {},
   "outputs": [],
   "source": [
    "\"\"\"Multiprocessing doesnt realy work in Jupyter Notebook. Need to define function in a .py file, and call the multiprocessing\n",
    "action in a separte script\"\"\"\n",
    "\n",
    "# def relaxation_multiprocessor(l):\n",
    "#     \"Multiprocessing helper function\"\n",
    "#     return single_point(l, relaxation=True)\n",
    "\n",
    "# start = time.time()\n",
    "# multi_processors = 8 \n",
    "# pool = mp.Pool(processes=multi_processors)\n",
    "# Es_mp = pool.map(relaxation_multiprocessor, configs[:4])\n",
    "# print(time.time() - start)"
   ]
  },
  {
   "cell_type": "markdown",
   "id": "e5dd5df9",
   "metadata": {},
   "source": [
    "## OH Intermediate"
   ]
  },
  {
   "cell_type": "markdown",
   "id": "ddc19442",
   "metadata": {},
   "source": [
    "#### Issues and Suggestions Revisited"
   ]
  },
  {
   "cell_type": "markdown",
   "id": "edd0ab52",
   "metadata": {},
   "source": [
    "2. Avoiding deprotonation of alkane hydrogens or skip them alltogether as active sites\n",
    "\n",
    "Ex. For bond order = 4 atoms, you could form a plane including the hydrogens, that way the adsorbate is placed sufficiently far away and isnt able to be abstracted by the adsorbate\n",
    "\n",
    "3. Avoiding volatalization... seems to be the case for OOH radical especially, specifically when it binds heteratoms. This situation seems not to be so stable.\n",
    "\n",
    "Volatalization Check: Check if distance between adsorbate and closest substrate atom is large"
   ]
  },
  {
   "cell_type": "markdown",
   "id": "82220ace",
   "metadata": {},
   "source": [
    "It seems that sometimes, theres no way to avoid the adsorbate from relaxing on another neighboring active site. I think its more important that we simply note final adsorption site!\n",
    "\n",
    "Also, the site for OH adsorption isnt always the same as for OOH!"
   ]
  },
  {
   "cell_type": "code",
   "execution_count": null,
   "id": "1384f5c0",
   "metadata": {
    "scrolled": true
   },
   "outputs": [],
   "source": [
    "indx = []\n",
    "E = []\n",
    "checks_list = []\n",
    "\n",
    "h = 1.5 #offset/height of adsorbate above substrate\n",
    "fmax=0.05\n",
    "i = 0\n",
    "\n",
    "constr = [constraint_OH]\n",
    "\n",
    "start = time.time()\n",
    "total_num_nonHs = len([atom for atom in substrate if atom.symbol != 'H'])\n",
    "\n",
    "for atom in substrate:\n",
    "    if atom.symbol != 'H':\n",
    "        # Build system\n",
    "        comp = build(adsorbate, substrate, atom.index, constr, f=h)\n",
    "        \n",
    "        # Local Optimziation, Relax the composite system and determine energy\n",
    "        Ecomposite = single_point(comp, relaxation=True, fmax=fmax, trajectory='opt/opt{}.traj'.format(atom.index))\n",
    "        \n",
    "        # Perform Checks\n",
    "        checks = hopping_and_identity_checks(substrate, comp, atom.index)\n",
    "        \n",
    "        # Form lists\n",
    "        indx.append(atom.index)\n",
    "        E.append(Ecomposite)\n",
    "        checks_list.append(checks)\n",
    "        #OH_distance.append(comp.get_distance(-2, -1))\n",
    "        #Osub_distance.append(comp.get_distance(atom.index, -2))\n",
    "        \n",
    "        # Output\n",
    "        print(\"--------------------------------\")\n",
    "        print(\"Iteration: \", i, '/', total_num_nonHs-1)\n",
    "        print(\"Active Site Persistence?: \", checks[0])\n",
    "        print(\"Adsrbate Identity Preserved?: \", checks[1])\n",
    "        print(\"Substrate Identity Preserved?: \", checks[2])\n",
    "        i += 1\n",
    "\n",
    "end = time.time()\n",
    "print(\"Total Duration:\", end - start, 'Seconds')"
   ]
  },
  {
   "cell_type": "code",
   "execution_count": null,
   "id": "d2809429",
   "metadata": {},
   "outputs": [],
   "source": [
    "E = np.array(E)\n",
    "surf_E = E - (Eads + Esub)"
   ]
  },
  {
   "cell_type": "code",
   "execution_count": null,
   "id": "5e5fa001",
   "metadata": {
    "scrolled": true
   },
   "outputs": [],
   "source": [
    "hetero_neighbor = []\n",
    "\n",
    "for atom in substrate:\n",
    "    if atom.symbol != 'H':\n",
    "        neighbors = substrate[substrate.info[atom.index]].numbers\n",
    "        hetero_neighbor.append(np.isin(neighbors, [7, 8, 16]).sum())\n",
    "    \n",
    "nonHs = [atom.symbol for atom in substrate if atom.symbol != 'H']"
   ]
  },
  {
   "cell_type": "code",
   "execution_count": null,
   "id": "0063f0e9",
   "metadata": {
    "scrolled": false
   },
   "outputs": [],
   "source": [
    "E0 = pd.DataFrame(np.array([nonHs, hetero_neighbor, surf_E, checks_list]).T, index=indx, columns=['Site', 'Hetero Neighbors', 'Eads OH (eV)', 'Checks'])\n",
    "E0"
   ]
  },
  {
   "cell_type": "markdown",
   "id": "ce60d441",
   "metadata": {},
   "source": [
    "## O Intermediate"
   ]
  },
  {
   "cell_type": "markdown",
   "id": "cb780837",
   "metadata": {},
   "source": [
    "2. If it binds to to 2 carbons, we need to figure out what happens when OH is added to form OOH... do we still sit on the same active site, or do we hop active sites? Important!!!!"
   ]
  },
  {
   "cell_type": "code",
   "execution_count": null,
   "id": "5f0936b1",
   "metadata": {
    "scrolled": true
   },
   "outputs": [],
   "source": [
    "indx = []\n",
    "E = []\n",
    "checks_list1 = []\n",
    "\n",
    "h = 1.5 #offset/height of adsorbate above substrate\n",
    "fmax=0.05\n",
    "i = 0\n",
    "\n",
    "constr = []\n",
    "\n",
    "start = time.time()\n",
    "total_num_nonHs = len([atom for atom in substrate if atom.symbol != 'H'])\n",
    "\n",
    "for atom in substrate:\n",
    "    if atom.symbol != 'H':\n",
    "        # Build system\n",
    "        comp = build(adsorbate1, substrate, atom.index, constr, f=h)\n",
    "        \n",
    "        # Local Optimziation, Relax the composite system and determine energy\n",
    "        Ecomposite = single_point(comp, relaxation=True, fmax=fmax, trajectory='opt1/opt{}.traj'.format(atom.index))\n",
    "        \n",
    "        # Perform Checks\n",
    "        checks = hopping_and_identity_checks(substrate, comp, atom.index)\n",
    "        \n",
    "        # Form lists\n",
    "        indx.append(atom.index)\n",
    "        E.append(Ecomposite)\n",
    "        checks_list1.append(checks)\n",
    "        \n",
    "        # Output\n",
    "        print(\"--------------------------------\")\n",
    "        print(\"Iteration: \", i, '/', total_num_nonHs-1)\n",
    "        print(\"Active Site Persistence?: \", checks[0])\n",
    "        print(\"Adsrbate Identity Preserved?: \", checks[1])\n",
    "        print(\"Substrate Identity Preserved?: \", checks[2])\n",
    "        i += 1\n",
    "\n",
    "end = time.time()\n",
    "print(\"Total Duration:\", end - start, 'Seconds')"
   ]
  },
  {
   "cell_type": "code",
   "execution_count": null,
   "id": "dda63950",
   "metadata": {},
   "outputs": [],
   "source": [
    "E = np.array(E)\n",
    "surf_E1 = E - (Eads1 + Esub)"
   ]
  },
  {
   "cell_type": "code",
   "execution_count": null,
   "id": "2c315e57",
   "metadata": {},
   "outputs": [],
   "source": [
    "E1 = pd.DataFrame(np.array([nonHs, hetero_neighbor, surf_E1, checks_list1]).T, index=indx, columns=['Site', 'Hetero Neighbors', 'Eads OH (eV)', 'Checks'])\n",
    "E1"
   ]
  },
  {
   "cell_type": "markdown",
   "id": "8cf94754",
   "metadata": {},
   "source": [
    "### OOH Intermediate"
   ]
  },
  {
   "cell_type": "markdown",
   "id": "d4b2b992",
   "metadata": {},
   "source": [
    "1. Weak binding to heteroatoms...usually leads to hopping"
   ]
  },
  {
   "cell_type": "code",
   "execution_count": null,
   "id": "5c7adc4f",
   "metadata": {
    "scrolled": true
   },
   "outputs": [],
   "source": [
    "indx = []\n",
    "E = []\n",
    "checks_list2 = []\n",
    "\n",
    "h = 1.5 #offset/height of adsorbate above substrate\n",
    "fmax=0.05\n",
    "i = 0\n",
    "\n",
    "constr = [constraint_OOH_a, constraint_OOH_b]\n",
    "\n",
    "start = time.time()\n",
    "total_num_nonHs = len([atom for atom in substrate if atom.symbol != 'H'])\n",
    "\n",
    "for atom in substrate:\n",
    "    if atom.symbol != 'H':\n",
    "        # Build system\n",
    "        comp = build(adsorbate2, substrate, atom.index, constr, f=h)\n",
    "        \n",
    "        # Local Optimziation, Relax the composite system and determine energy\n",
    "        Ecomposite = single_point(comp, relaxation=True, fmax=fmax, trajectory='opt2/opt{}.traj'.format(atom.index))\n",
    "        \n",
    "        # Perform Checks\n",
    "        checks = hopping_and_identity_checks(substrate, comp, atom.index)\n",
    "        \n",
    "        # Form lists\n",
    "        indx.append(atom.index)\n",
    "        E.append(Ecomposite)\n",
    "        checks_list2.append(checks)\n",
    "        \n",
    "        # Output\n",
    "        print(\"--------------------------------\")\n",
    "        print(\"Iteration: \", i, '/', total_num_nonHs-1)\n",
    "        print(\"Active Site Persistence?: \", checks[0])\n",
    "        print(\"Adsrbate Identity Preserved?: \", checks[1])\n",
    "        print(\"Substrate Identity Preserved?: \", checks[2])\n",
    "        i += 1\n",
    "        break\n",
    "\n",
    "end = time.time()\n",
    "print(\"Total Duration:\", end - start, 'Seconds')"
   ]
  },
  {
   "cell_type": "code",
   "execution_count": null,
   "id": "150668d3",
   "metadata": {},
   "outputs": [],
   "source": [
    "E = np.array(E)\n",
    "surf_E2 = E - (Eads2 + Esub)"
   ]
  },
  {
   "cell_type": "code",
   "execution_count": null,
   "id": "a94a5954",
   "metadata": {
    "scrolled": true
   },
   "outputs": [],
   "source": [
    "E2 = pd.DataFrame(np.array([nonHs, hetero_neighbor, surf_E2, checks_list2]).T, index=indx, columns=['Site', 'Hetero Neighbors', 'Eads OH (eV)', 'Checks'])\n",
    "E2"
   ]
  },
  {
   "cell_type": "markdown",
   "id": "ec1a00b9",
   "metadata": {},
   "source": [
    "### Intermediate Summary"
   ]
  },
  {
   "cell_type": "code",
   "execution_count": null,
   "id": "f1abc8eb",
   "metadata": {
    "scrolled": false
   },
   "outputs": [],
   "source": [
    "data = np.array([nonHs, hetero_neighbor, surf_E, surf_E1, surf_E2, checks_list, checks_list1, checks_list2]).T\n",
    "col = ['Site', 'Hetero Neighbors', 'ΔEads OH (eV)', 'ΔEads O (eV)', 'ΔEads OOH (eV)', 'Checks', 'Checks1', 'Checks2']\n",
    "adsorption_energy_summary = pd.DataFrame(data, index=indx, columns=col)\n",
    "adsorption_energy_summary"
   ]
  },
  {
   "cell_type": "code",
   "execution_count": null,
   "id": "c6a54a44",
   "metadata": {
    "scrolled": true
   },
   "outputs": [],
   "source": [
    "plt.scatter(adsorption_energy_summary['ΔEads OH (eV)'], adsorption_energy_summary['ΔEads OOH (eV)'])\n",
    "plt.ylabel('OOH Ads Energy')\n",
    "plt.xlabel('OH Ads Energy')\n",
    "plt.title('Scaling Relations!')"
   ]
  },
  {
   "cell_type": "markdown",
   "id": "be6058a7",
   "metadata": {},
   "source": [
    "Discrepencies in scaling relations probably due to hopping of adsorbates/changes in substrate structure"
   ]
  },
  {
   "cell_type": "markdown",
   "id": "bae1535f",
   "metadata": {},
   "source": [
    "# Global Optimization"
   ]
  },
  {
   "cell_type": "markdown",
   "id": "c43aec8c",
   "metadata": {},
   "source": [
    "1. Relax individual adsorbate and substrate geometries\n",
    "2. Fix substrate position and apply hookean force between adsorbate atoms to preserve their identities\n",
    "3. Relax this composite system using global opt. algorithm\n",
    "4. Remove substrate constraints, and further relax the entire system"
   ]
  },
  {
   "cell_type": "markdown",
   "id": "9d406730",
   "metadata": {},
   "source": [
    "Minima Hopping"
   ]
  },
  {
   "cell_type": "code",
   "execution_count": null,
   "id": "23bef1b0",
   "metadata": {},
   "outputs": [],
   "source": [
    "single_point(out)"
   ]
  },
  {
   "cell_type": "code",
   "execution_count": null,
   "id": "fc09d262",
   "metadata": {},
   "outputs": [],
   "source": [
    "# Gloabl Optimization\n",
    "opt = MinimaHopping(out,\n",
    "                    Ediff0=2.5,\n",
    "                    T0=2000.)\n",
    "\n",
    "opt(totalsteps=3)"
   ]
  },
  {
   "cell_type": "code",
   "execution_count": null,
   "id": "d3397c10",
   "metadata": {
    "scrolled": false
   },
   "outputs": [],
   "source": [
    "mhplot = MHPlot()\n",
    "mhplot.save_figure('summary.png')"
   ]
  },
  {
   "cell_type": "markdown",
   "id": "fb52c1fc",
   "metadata": {},
   "source": [
    "Basin Hopping"
   ]
  },
  {
   "cell_type": "code",
   "execution_count": null,
   "id": "eccd8a01",
   "metadata": {},
   "outputs": [],
   "source": [
    "single_point(out)"
   ]
  },
  {
   "cell_type": "code",
   "execution_count": null,
   "id": "6e40f50b",
   "metadata": {
    "scrolled": true
   },
   "outputs": [],
   "source": [
    "opt = BasinHopping(atoms=out,         # the system to optimize\n",
    "                  temperature=100 * kB, # 'temperature' to overcome barriers\n",
    "                  dr=0.5,               # maximal stepwidth\n",
    "                  optimizer=LBFGS,      # optimizer to find local minima\n",
    "                  fmax=0.1,\n",
    "                  trajectory='opt.traj')\n",
    "\n",
    "opt.run(steps=10)"
   ]
  },
  {
   "cell_type": "markdown",
   "id": "e9bc95a5",
   "metadata": {},
   "source": [
    "# B) generate_chemical_space.py in scripts folder"
   ]
  },
  {
   "cell_type": "code",
   "execution_count": null,
   "id": "cbd34ccd",
   "metadata": {},
   "outputs": [],
   "source": [
    "import sys\n",
    "sys.path.append('../')\n",
    "sys.path.append('../morphing_operations')\n",
    "sys.path.append('.')\n",
    "\n",
    "import osc_discovery.cheminformatics.cheminformatics_mutation as cheminformatics_helpers_v2\n",
    "from osc_discovery.morphing_typical_OSC_design import operations_typical_osc_design as operations\n",
    "from osc_discovery.cheminformatics.cheminformatics_structure_check import check_rules_fulfilled\n",
    "from osc_discovery.cheminformatics.cheminformatics_symmetry import Symmetry\n",
    "from osc_discovery.cheminformatics.cheminformatics_misc import flatten_list\n",
    "\n",
    "import time, os, pickle\n",
    "import numpy as np\n",
    "import pandas as pd\n",
    "import multiprocessing as mp\n",
    "\n",
    "import rdkit\n",
    "print(rdkit.__version__)\n",
    "from rdkit import rdBase,Chem\n",
    "from rdkit.Chem import AllChem,Draw\n",
    "from rdkit.Chem.Draw import IPythonConsole\n",
    "from rdkit.Chem import rdMolDescriptors\n",
    "from rdkit import RDLogger\n",
    "lg = RDLogger.logger()\n",
    "lg.setLevel(RDLogger.CRITICAL)"
   ]
  },
  {
   "cell_type": "code",
   "execution_count": null,
   "id": "369814fd",
   "metadata": {},
   "outputs": [],
   "source": [
    "''' Script to enumerate full chemical space within bounds on molecular size '''\n",
    "\n",
    "# Check \n",
    "failed = 0\n",
    "stopped = 0\n",
    "new_generation = 0\n",
    "allow_only_graph_symmetric = True\n",
    "multi_proc = 24\n",
    "\n",
    "cheminformatics_helpers_v2.operations = operations\n",
    "cheminformatics_helpers_v2.failed = 0\n",
    "cheminformatics_helpers_v2.stopped = 0\n",
    "cheminformatics_helpers_v2.new_generation = 0\n",
    "cheminformatics_helpers_v2.allow_only_graph_symmetric = True\n",
    "cheminformatics_helpers_v2.multi_proc = multi_proc\n",
    "cheminformatics_helpers_v2.preset_structure_check='test_osc_space'\n",
    "cheminformatics_helpers_v2.only_use_brute_force_code=False\n",
    "\n",
    "mol_test=Chem.MolFromSmiles('c1ccccc1')\n",
    "check_rules_fulfilled(mol_test, '',  cheminformatics_helpers_v2.preset_structure_check ,verbose=True)"
   ]
  },
  {
   "cell_type": "code",
   "execution_count": null,
   "id": "5350fd45",
   "metadata": {},
   "outputs": [],
   "source": [
    "mol_test"
   ]
  },
  {
   "cell_type": "code",
   "execution_count": null,
   "id": "bf8539a7",
   "metadata": {},
   "outputs": [],
   "source": [
    "def run_generation_text_based(textfile=''):\n",
    "        \n",
    "    template_save='{}__{}__{}'\n",
    "    dict_smi_list_mutate={}\n",
    "    \n",
    "    print(textfile)   \n",
    " \n",
    "    # generate a uniqe dict\n",
    "    if textfile=='':\n",
    "        dict_smi_list_mutate['c1ccccc1']='0__none__none'\n",
    "        cheminformatics_helpers_v2.last_generation=0\n",
    "        with open('gen__0.smi','w') as out:\n",
    "            out.write('c1ccccc1 0__none__none')\n",
    "            \n",
    "    else:\n",
    "        cheminformatics_helpers_v2.last_generation = int(textfile.split('__')[-1].split('.smi')[0])       \n",
    "        i=0\n",
    "        dict_smi_list_file={}\n",
    "        with open(textfile) as out:\n",
    "            for i,line in enumerate(out.readlines()):\n",
    "                line=line.split()\n",
    "                dict_smi_list_file[line[0]]=line[1]\n",
    "\n",
    "            print('Number of lines: {}'.format(i))\n",
    "\n",
    "        already_mutated=[]\n",
    "        for i in range(cheminformatics_helpers_v2.last_generation):\n",
    "            filex='gen__{}.smi'.format(i)\n",
    "            print(filex)\n",
    "            with open(filex) as out:\n",
    "                for line in out.readlines():\n",
    "                    already_mutated.append(line.split()[0])\n",
    "                    \n",
    "        to_mutate = set(dict_smi_list_file.keys()) - set(already_mutated)\n",
    "        for m in list(to_mutate):\n",
    "            dict_smi_list_mutate[m]=dict_smi_list_file[m]\n",
    "                    \n",
    "    print('Unique molecules to mutate: {}'.format(len(dict_smi_list_mutate.keys())))\n",
    "    \n",
    "    cheminformatics_helpers_v2.new_generation = cheminformatics_helpers_v2.last_generation + 1\n",
    "    cheminformatics_helpers_v2.mols_last_generation_smiles = list(dict_smi_list_mutate.keys())\n",
    "    textfile_new_gen='gen__{}.smi'.format(cheminformatics_helpers_v2.new_generation) \n",
    "    \n",
    "    pool = mp.Pool(processes=multi_proc)\n",
    "    new_frames = pool.map(cheminformatics_helpers_v2.run_mutation, list(dict_smi_list_mutate.keys()) )\n",
    "    pool.close()\n",
    "\n",
    "    new_frames_scratch=[]\n",
    "    for framex in new_frames:\n",
    "        for frame in framex:\n",
    "            new_frames_scratch.append(frame)\n",
    "    new_frames=new_frames_scratch\n",
    "    \n",
    "    ##new_frames=list(flatten_list(new_frames))\n",
    "  \n",
    "    with open(textfile_new_gen, 'w') as out:\n",
    "        for i,f in enumerate(new_frames):\n",
    "            if len(f.molecule_smiles.values[0])==0: continue\n",
    "            # format: smi gen_nr__mol_smi_lastgen__op\n",
    "            out.write('{} {}__{}__{}\\n'.format(f.molecule_smiles.values[0], cheminformatics_helpers_v2.new_generation, \n",
    "                                           f.molecule_last_gen.values[0], f.operation.values[0]))\n",
    "    \n",
    "    statistics = [len(new_frames), cheminformatics_helpers_v2.stopped, cheminformatics_helpers_v2.failed]\n",
    "    return statistics, textfile_new_gen"
   ]
  },
  {
   "cell_type": "code",
   "execution_count": null,
   "id": "c1b6561b",
   "metadata": {},
   "outputs": [],
   "source": [
    "if __name__=='__main__':\n",
    "\n",
    "    time_start_total=time.time()\n",
    "    \n",
    "    ratios=[]\n",
    "    n_mols_unique=[]\n",
    "    #fname=sys.argv[1]\n",
    "    fname=''\n",
    "    \n",
    "    for i in range(2):\n",
    "    \n",
    "        time_start=time.time()\n",
    "        statistics, fname = run_generation_text_based(fname)\n",
    "        print('Time for step: {}'.format(time.time()-time_start))\n",
    "        print('New lines: {}, Stopped: {}, failed: {}'.format(*statistics))\n",
    "        print('')\n",
    "        print('')\n",
    "        \n",
    "    print('Total time: {}'.format(time.time()-time_start_total))"
   ]
  },
  {
   "cell_type": "code",
   "execution_count": null,
   "id": "d8888d0f",
   "metadata": {},
   "outputs": [],
   "source": []
  }
 ],
 "metadata": {
  "kernelspec": {
   "display_name": "Python 3 (ipykernel)",
   "language": "python",
   "name": "python3"
  },
  "language_info": {
   "codemirror_mode": {
    "name": "ipython",
    "version": 3
   },
   "file_extension": ".py",
   "mimetype": "text/x-python",
   "name": "python",
   "nbconvert_exporter": "python",
   "pygments_lexer": "ipython3",
   "version": "3.11.3"
  }
 },
 "nbformat": 4,
 "nbformat_minor": 5
}
