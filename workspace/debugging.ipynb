{
 "cells": [
  {
   "cell_type": "code",
   "execution_count": 1,
   "metadata": {},
   "outputs": [],
   "source": [
    "from photocatalysis.evaluate import evaluate_substrate_in_batches, evaluate_substrate"
   ]
  },
  {
   "cell_type": "code",
   "execution_count": 2,
   "metadata": {},
   "outputs": [],
   "source": [
    "import numpy as np\n",
    "from photocatalysis.adsorption.relaxing import build_and_relax_configurations\n",
    "from photocatalysis.conformers import get_conformers_rdkit as get_conformers\n"
   ]
  },
  {
   "cell_type": "code",
   "execution_count": 3,
   "metadata": {},
   "outputs": [],
   "source": [
    "### For automatically reloading import modules... allows you to run changes to code in jupyter without having to reload\n",
    "%load_ext autoreload\n",
    "%autoreload 2"
   ]
  },
  {
   "cell_type": "code",
   "execution_count": 4,
   "metadata": {},
   "outputs": [],
   "source": [
    "smile_string_list = [#'C1=CC(c2cc(C=Cc3ncns3)cc(C3=CCC=C3)n2)=CC1',\n",
    " #'C1=CCC(c2cc(C3=CC=CC3)cc(-c3cc[nH]c3)c2)=C1',\n",
    " 'C1=CCC(c2ccnnc2-c2nnccc2C2=CC=CC2)=C1']"
   ]
  },
  {
   "cell_type": "code",
   "execution_count": 25,
   "metadata": {},
   "outputs": [
    {
     "name": "stdout",
     "output_type": "stream",
     "text": [
      "Number of rotatable bonds: 3, C1=CCC(c2ccnnc2-c2nnccc2C2=CC=CC2)=C1\n",
      "1) Embedding conformers (50). Using 1 processes\n",
      "Took: 0.77982497215271 s\n",
      "2) Minimizing 50 conformers (mmff94)\n",
      "Took: 0.9611525535583496 s\n",
      "3) Pruning conformers (RMSD threshold: 0.35 Ang)\n",
      "Took: 0.17423629760742188 s\n",
      "Number of conformers found: 11\n",
      "Number of rotatable bonds: 3, C1=CCC(c2ccnnc2-c2nnccc2C2=CC=CC2)=C1\n",
      "1) Embedding conformers (50). Using 4 processes\n",
      "Took: 0.22710394859313965 s\n",
      "2) Minimizing 50 conformers (mmff94)\n",
      "Took: 0.9689168930053711 s\n",
      "3) Pruning conformers (RMSD threshold: 0.35 Ang)\n",
      "Took: 0.12823009490966797 s\n",
      "Number of conformers found: 11\n"
     ]
    }
   ],
   "source": [
    "confs = get_conformers(smile_string_list[0], n_cpu=1)\n",
    "confs_multi = get_conformers(smile_string_list[0], n_cpu=4)"
   ]
  },
  {
   "cell_type": "code",
   "execution_count": null,
   "metadata": {},
   "outputs": [],
   "source": []
  },
  {
   "cell_type": "code",
   "execution_count": 5,
   "metadata": {},
   "outputs": [],
   "source": [
    "scratch_dir = '/home/btpq/bt308495/Thesis/scratch'\n",
    "calc_kwargs = {'gfn':2, 'acc':0.2, 'etemp':298.15, 'strict':'', 'gbsa':'water'}"
   ]
  },
  {
   "cell_type": "code",
   "execution_count": 26,
   "metadata": {},
   "outputs": [
    {
     "name": "stdout",
     "output_type": "stream",
     "text": [
      "2023-07-09 19:07:31,825 | INFO: Preparing substrate\n"
     ]
    }
   ],
   "source": [
    "out = evaluate_substrate(smile_string_list[0], calc_kwargs, scratch_dir=scratch_dir)"
   ]
  },
  {
   "cell_type": "code",
   "execution_count": 27,
   "metadata": {},
   "outputs": [
    {
     "name": "stdout",
     "output_type": "stream",
     "text": [
      "############################\n",
      "2023-07-09 19:07:43,063 | INFO: PREPARING SUBSTRATES, BATCH None\n",
      "2023-07-09 19:07:43,064 | INFO: substrate preparation jobs to do: 1\n"
     ]
    },
    {
     "name": "stdout",
     "output_type": "stream",
     "text": [
      "2023-07-09 19:07:55,046 | INFO: finished jobs. Took 11.98066315986216s\n",
      "2023-07-09 19:07:55,048 | INFO: FIZZLED: 0\n"
     ]
    }
   ],
   "source": [
    "outp = evaluate_substrate_in_batches(smile_string_list, calc_kwargs, scratch_dir=scratch_dir)"
   ]
  },
  {
   "cell_type": "code",
   "execution_count": 29,
   "metadata": {},
   "outputs": [
    {
     "name": "stdout",
     "output_type": "stream",
     "text": [
      "2023-07-09 19:08:13,653 | INFO: opt loose jobs to do: 36\n",
      "2023-07-09 19:08:17,629 | INFO: finished jobs. Took 3.975272212177515s\n",
      "10 9 7\n"
     ]
    }
   ],
   "source": [
    "configs = build_and_relax_configurations(out, out.info['equivalent_atoms'], directory='/home/btpq/bt308495/Thesis/scratch/config1')"
   ]
  },
  {
   "cell_type": "code",
   "execution_count": 20,
   "metadata": {},
   "outputs": [
    {
     "data": {
      "text/plain": [
       "[1, 3, 5, 6, 8, 9, 17]"
      ]
     },
     "execution_count": 20,
     "metadata": {},
     "output_type": "execute_result"
    }
   ],
   "source": [
    "[c.info['active_site'] for c in configs[-1]]"
   ]
  },
  {
   "cell_type": "code",
   "execution_count": 30,
   "metadata": {},
   "outputs": [
    {
     "name": "stdout",
     "output_type": "stream",
     "text": [
      "2023-07-09 19:08:18,107 | INFO: opt loose jobs to do: 36\n"
     ]
    },
    {
     "name": "stdout",
     "output_type": "stream",
     "text": [
      "2023-07-09 19:08:24,100 | INFO: finished jobs. Took 5.99197936616838s\n",
      "10 9 5\n"
     ]
    }
   ],
   "source": [
    "configsp = build_and_relax_configurations(outp, outp.info['equivalent_atoms'], directory='/home/btpq/bt308495/Thesis/scratch/configp1')"
   ]
  },
  {
   "cell_type": "code",
   "execution_count": 21,
   "metadata": {},
   "outputs": [
    {
     "data": {
      "text/plain": [
       "[3, 5, 6, 9, 17]"
      ]
     },
     "execution_count": 21,
     "metadata": {},
     "output_type": "execute_result"
    }
   ],
   "source": [
    "[c.info['active_site'] for c in configsp[-1]]"
   ]
  },
  {
   "cell_type": "code",
   "execution_count": 19,
   "metadata": {},
   "outputs": [
    {
     "ename": "ValueError",
     "evalue": "operands could not be broadcast together with shapes (7,) (5,) ",
     "output_type": "error",
     "traceback": [
      "\u001b[0;31m---------------------------------------------------------------------------\u001b[0m",
      "\u001b[0;31mValueError\u001b[0m                                Traceback (most recent call last)",
      "Cell \u001b[0;32mIn[19], line 3\u001b[0m\n\u001b[1;32m      1\u001b[0m e \u001b[39m=\u001b[39m np\u001b[39m.\u001b[39marray([o\u001b[39m.\u001b[39minfo[\u001b[39m'\u001b[39m\u001b[39menergy\u001b[39m\u001b[39m'\u001b[39m] \u001b[39mfor\u001b[39;00m o \u001b[39min\u001b[39;00m configs[\u001b[39m2\u001b[39m]])\n\u001b[1;32m      2\u001b[0m ep \u001b[39m=\u001b[39m np\u001b[39m.\u001b[39marray([o\u001b[39m.\u001b[39minfo[\u001b[39m'\u001b[39m\u001b[39menergy\u001b[39m\u001b[39m'\u001b[39m] \u001b[39mfor\u001b[39;00m o \u001b[39min\u001b[39;00m configsp[\u001b[39m2\u001b[39m]])\n\u001b[0;32m----> 3\u001b[0m e\u001b[39m-\u001b[39;49mep\n",
      "\u001b[0;31mValueError\u001b[0m: operands could not be broadcast together with shapes (7,) (5,) "
     ]
    }
   ],
   "source": [
    "e = np.array([o.info['energy'] for o in configs[2]])\n",
    "ep = np.array([o.info['energy'] for o in configsp[2]])\n",
    "e-ep"
   ]
  },
  {
   "cell_type": "code",
   "execution_count": null,
   "metadata": {},
   "outputs": [],
   "source": [
    "# for k in out.info:\n",
    "#     print(k, out.info[k] == outp.info[k])"
   ]
  }
 ],
 "metadata": {
  "kernelspec": {
   "display_name": "osc",
   "language": "python",
   "name": "python3"
  },
  "language_info": {
   "codemirror_mode": {
    "name": "ipython",
    "version": 3
   },
   "file_extension": ".py",
   "mimetype": "text/x-python",
   "name": "python",
   "nbconvert_exporter": "python",
   "pygments_lexer": "ipython3",
   "version": "3.11.4"
  },
  "orig_nbformat": 4
 },
 "nbformat": 4,
 "nbformat_minor": 2
}
