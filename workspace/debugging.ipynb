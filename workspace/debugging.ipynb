{
 "cells": [
  {
   "cell_type": "code",
   "execution_count": 1,
   "metadata": {},
   "outputs": [],
   "source": [
    "from photocatalysis.evaluate import evaluate_substrate_in_batches, evaluate_substrate"
   ]
  },
  {
   "cell_type": "code",
   "execution_count": 2,
   "metadata": {},
   "outputs": [],
   "source": [
    "import numpy as np\n",
    "from photocatalysis.adsorption.relaxing import build_and_relax_configurations, filter_configurations\n",
    "from photocatalysis.conformers import get_conformers_rdkit as get_conformers\n"
   ]
  },
  {
   "cell_type": "code",
   "execution_count": 3,
   "metadata": {},
   "outputs": [],
   "source": [
    "from rdkit import Chem"
   ]
  },
  {
   "cell_type": "code",
   "execution_count": 4,
   "metadata": {},
   "outputs": [],
   "source": [
    "from copy import deepcopy"
   ]
  },
  {
   "cell_type": "code",
   "execution_count": 5,
   "metadata": {},
   "outputs": [],
   "source": [
    "### For automatically reloading import modules... allows you to run changes to code in jupyter without having to reload\n",
    "%load_ext autoreload\n",
    "%autoreload 2"
   ]
  },
  {
   "cell_type": "code",
   "execution_count": 6,
   "metadata": {},
   "outputs": [],
   "source": [
    "smile_string_list = [#'C1=CC(c2cc(C=Cc3ncns3)cc(C3=CCC=C3)n2)=CC1',\n",
    " #'C1=CCC(c2cc(C3=CC=CC3)cc(-c3cc[nH]c3)c2)=C1',\n",
    " 'C1=CCC(c2ccnnc2-c2nnccc2C2=CC=CC2)=C1']"
   ]
  },
  {
   "cell_type": "code",
   "execution_count": 23,
   "metadata": {},
   "outputs": [
    {
     "name": "stdout",
     "output_type": "stream",
     "text": [
      "Number of rotatable bonds: 3, C1=CCC(c2ccnnc2-c2nnccc2C2=CC=CC2)=C1\n",
      "Number of rotatable bonds: 3, C1=CCC(c2ccnnc2-c2nnccc2C2=CC=CC2)=C1\n",
      "1 4\n"
     ]
    }
   ],
   "source": [
    "confs, cgg = get_conformers(smile_string_list[0], n_cpu=1)\n",
    "confs_multi, cggm = get_conformers(smile_string_list[0], n_cpu=4)\n",
    "\n",
    "print(cgg.n_cpu, cggm.n_cpu)"
   ]
  },
  {
   "cell_type": "code",
   "execution_count": 24,
   "metadata": {},
   "outputs": [],
   "source": [
    "# EMBEDING\n",
    "test = cgg.embed_molecule(confs, userandom=False)\n",
    "testm = cggm.embed_molecule(confs_multi, userandom=False)"
   ]
  },
  {
   "cell_type": "code",
   "execution_count": 25,
   "metadata": {},
   "outputs": [
    {
     "name": "stdout",
     "output_type": "stream",
     "text": [
      "0.0\n",
      "0.0\n",
      "0.0\n",
      "0.0\n",
      "0.0\n",
      "0.0\n",
      "0.0\n",
      "0.0\n",
      "0.0\n",
      "0.0\n",
      "0.0\n",
      "0.0\n",
      "0.0\n",
      "0.0\n",
      "0.0\n",
      "0.0\n",
      "0.0\n",
      "0.0\n",
      "0.0\n",
      "0.0\n",
      "0.0\n",
      "0.0\n",
      "0.0\n",
      "0.0\n",
      "0.0\n",
      "0.0\n",
      "0.0\n",
      "0.0\n",
      "0.0\n",
      "0.0\n",
      "0.0\n",
      "0.0\n",
      "0.0\n",
      "0.0\n",
      "0.0\n",
      "0.0\n",
      "0.0\n",
      "0.0\n",
      "0.0\n",
      "0.0\n",
      "0.0\n",
      "0.0\n",
      "0.0\n",
      "0.0\n",
      "0.0\n",
      "0.0\n",
      "0.0\n",
      "0.0\n",
      "0.0\n",
      "0.0\n"
     ]
    }
   ],
   "source": [
    "### embed_molecule produces the same conformers!... errors must be arrising elsewhere\n",
    "for c, cm in zip(test.GetConformers(), testm.GetConformers()):\n",
    "    print(np.sum(c.GetPositions() - cm.GetPositions()))"
   ]
  },
  {
   "cell_type": "code",
   "execution_count": 26,
   "metadata": {},
   "outputs": [],
   "source": [
    "# MINIMIZING\n",
    "cgg.minimize_conformers(test)\n",
    "cggm.minimize_conformers(testm)"
   ]
  },
  {
   "cell_type": "code",
   "execution_count": 27,
   "metadata": {},
   "outputs": [
    {
     "name": "stdout",
     "output_type": "stream",
     "text": [
      "0.0\n",
      "0.0\n",
      "0.0\n",
      "0.0\n",
      "0.0\n",
      "0.0\n",
      "0.0\n",
      "0.0\n",
      "0.0\n",
      "0.0\n",
      "0.0\n",
      "0.0\n",
      "0.0\n",
      "0.0\n",
      "0.0\n",
      "0.0\n",
      "0.0\n",
      "0.0\n",
      "0.0\n",
      "0.0\n",
      "0.0\n",
      "0.0\n",
      "0.0\n",
      "0.0\n",
      "0.0\n",
      "0.0\n",
      "0.0\n",
      "0.0\n",
      "0.0\n",
      "0.0\n",
      "0.0\n",
      "0.0\n",
      "0.0\n",
      "0.0\n",
      "0.0\n",
      "0.0\n",
      "0.0\n",
      "0.0\n",
      "0.0\n",
      "0.0\n",
      "0.0\n",
      "0.0\n",
      "0.0\n",
      "0.0\n",
      "0.0\n",
      "0.0\n",
      "0.0\n",
      "0.0\n",
      "0.0\n",
      "0.0\n"
     ]
    }
   ],
   "source": [
    "### Minimized the same\n",
    "for c, cm in zip(test.GetConformers(), testm.GetConformers()):\n",
    "    print(np.sum(c.GetPositions() - cm.GetPositions()))"
   ]
  },
  {
   "cell_type": "code",
   "execution_count": 28,
   "metadata": {},
   "outputs": [],
   "source": [
    "### Getting into pruning\n",
    "energies = cgg.get_conformer_energies(test)\n",
    "energiesm = cggm.get_conformer_energies(testm)"
   ]
  },
  {
   "cell_type": "code",
   "execution_count": 29,
   "metadata": {},
   "outputs": [],
   "source": [
    "test_copy = deepcopy(test)\n",
    "testm_copy = deepcopy(testm)\n",
    "rmsd_copy = cgg.get_conformer_rmsd(test_copy)\n",
    "rmsdm_copy = cggm.get_conformer_rmsd_multiproc(testm_copy)"
   ]
  },
  {
   "cell_type": "code",
   "execution_count": 30,
   "metadata": {},
   "outputs": [
    {
     "name": "stdout",
     "output_type": "stream",
     "text": [
      "0.0\n",
      "0.0\n",
      "0.0\n",
      "0.0\n",
      "0.0\n",
      "0.0\n",
      "0.0\n",
      "0.0\n",
      "0.0\n",
      "0.0\n",
      "0.0\n",
      "0.0\n",
      "0.0\n",
      "0.0\n",
      "0.0\n",
      "0.0\n",
      "0.0\n",
      "0.0\n",
      "0.0\n",
      "0.0\n",
      "0.0\n",
      "0.0\n",
      "0.0\n",
      "0.0\n",
      "0.0\n",
      "0.0\n",
      "0.0\n",
      "0.0\n",
      "0.0\n",
      "0.0\n",
      "0.0\n",
      "0.0\n",
      "0.0\n",
      "0.0\n",
      "0.0\n",
      "0.0\n",
      "0.0\n",
      "0.0\n",
      "0.0\n",
      "0.0\n",
      "0.0\n",
      "0.0\n",
      "0.0\n",
      "0.0\n",
      "0.0\n",
      "0.0\n",
      "0.0\n",
      "0.0\n",
      "0.0\n",
      "0.0\n"
     ]
    }
   ],
   "source": [
    "# Serial Case changes the original molecule !!!!!!\n",
    "# Could be because in the serial case, original molecule is what is being alligned against something else\n",
    "for j in range(test.GetNumConformers()):\n",
    "    print(np.sum(test.GetConformer(j).GetPositions() - test_copy.GetConformer(j).GetPositions()))"
   ]
  },
  {
   "cell_type": "code",
   "execution_count": 31,
   "metadata": {},
   "outputs": [
    {
     "name": "stdout",
     "output_type": "stream",
     "text": [
      "0.0\n",
      "0.0\n",
      "0.0\n",
      "0.0\n",
      "0.0\n",
      "0.0\n",
      "0.0\n",
      "0.0\n",
      "0.0\n",
      "0.0\n",
      "0.0\n",
      "0.0\n",
      "0.0\n",
      "0.0\n",
      "0.0\n",
      "0.0\n",
      "0.0\n",
      "0.0\n",
      "0.0\n",
      "0.0\n",
      "0.0\n",
      "0.0\n",
      "0.0\n",
      "0.0\n",
      "0.0\n",
      "0.0\n",
      "0.0\n",
      "0.0\n",
      "0.0\n",
      "0.0\n",
      "0.0\n",
      "0.0\n",
      "0.0\n",
      "0.0\n",
      "0.0\n",
      "0.0\n",
      "0.0\n",
      "0.0\n",
      "0.0\n",
      "0.0\n",
      "0.0\n",
      "0.0\n",
      "0.0\n",
      "0.0\n",
      "0.0\n",
      "0.0\n",
      "0.0\n",
      "0.0\n",
      "0.0\n",
      "0.0\n"
     ]
    }
   ],
   "source": [
    "# Parallel Case doesnt change the original molecule\n",
    "for j in range(testm.GetNumConformers()):\n",
    "    print(np.sum(testm.GetConformer(j).GetPositions() - testm_copy.GetConformer(j).GetPositions()))"
   ]
  },
  {
   "cell_type": "code",
   "execution_count": 32,
   "metadata": {},
   "outputs": [],
   "source": [
    "# PRUNING (ERRONEOUS STEP)\n",
    "keep, discard, new = cgg.prune_conformers(deepcopy(test))\n",
    "keepm, discardm, newm = cggm.prune_conformers(deepcopy(testm))"
   ]
  },
  {
   "cell_type": "code",
   "execution_count": 33,
   "metadata": {},
   "outputs": [
    {
     "data": {
      "text/plain": [
       "[(14, 14),\n",
       " (22, 22),\n",
       " (7, 7),\n",
       " (21, 21),\n",
       " (34, 34),\n",
       " (38, 38),\n",
       " (16, 16),\n",
       " (32, 32),\n",
       " (47, 47),\n",
       " (3, 3),\n",
       " (24, 24)]"
      ]
     },
     "execution_count": 33,
     "metadata": {},
     "output_type": "execute_result"
    }
   ],
   "source": [
    "list(zip(keep, keepm))"
   ]
  },
  {
   "cell_type": "code",
   "execution_count": 35,
   "metadata": {},
   "outputs": [
    {
     "name": "stdout",
     "output_type": "stream",
     "text": [
      "0.0\n",
      "0.0\n",
      "0.0\n",
      "0.0\n",
      "0.0\n",
      "0.0\n",
      "0.0\n",
      "0.0\n",
      "0.0\n",
      "0.0\n",
      "0.0\n"
     ]
    }
   ],
   "source": [
    "### Final Test\n",
    "for c, cm in zip(new.GetConformers(), newm.GetConformers()):\n",
    "    print(np.sum(c.GetPositions() - cm.GetPositions()))"
   ]
  },
  {
   "cell_type": "markdown",
   "metadata": {},
   "source": [
    "------ DEBUG FINISHED?"
   ]
  },
  {
   "cell_type": "code",
   "execution_count": 37,
   "metadata": {},
   "outputs": [],
   "source": [
    "# scratch_dir = '/home/btpq/bt308495/Thesis/scratch'\n",
    "scratch_dir = '/home/scakolli/Thesis/scratch'\n",
    "calc_kwargs = {'gfn':2, 'acc':0.2, 'etemp':298.15, 'strict':'', 'gbsa':'water'}"
   ]
  },
  {
   "cell_type": "code",
   "execution_count": 39,
   "metadata": {},
   "outputs": [
    {
     "name": "stdout",
     "output_type": "stream",
     "text": [
      "2023-07-10 13:11:12,493 | INFO: Preparing substrate\n"
     ]
    }
   ],
   "source": [
    "out = evaluate_substrate(smile_string_list[0], calc_kwargs, scratch_dir=scratch_dir)"
   ]
  },
  {
   "cell_type": "code",
   "execution_count": 40,
   "metadata": {},
   "outputs": [
    {
     "name": "stdout",
     "output_type": "stream",
     "text": [
      "############################\n",
      "2023-07-10 13:11:33,187 | INFO: PREPARING SUBSTRATES, BATCH None\n",
      "2023-07-10 13:11:33,189 | INFO: substrate preparation jobs to do: 1\n",
      "2023-07-10 13:11:54,254 | INFO: finished jobs. Took 21.063460500001383s\n",
      "2023-07-10 13:11:54,261 | INFO: FIZZLED: 0\n"
     ]
    }
   ],
   "source": [
    "outp = evaluate_substrate_in_batches(smile_string_list, calc_kwargs, scratch_dir=scratch_dir)"
   ]
  },
  {
   "cell_type": "code",
   "execution_count": 42,
   "metadata": {},
   "outputs": [
    {
     "name": "stdout",
     "output_type": "stream",
     "text": [
      "2023-07-10 13:12:15,405 | INFO: opt loose jobs to do: 36\n",
      "2023-07-10 13:12:44,270 | INFO: finished jobs. Took 28.86383290000049s\n"
     ]
    }
   ],
   "source": [
    "# direct = '/home/btpq/bt308495/Thesis/scratch/config1'\n",
    "direct = '/home/scakolli/Thesis/scratch/config'\n",
    "configs = build_and_relax_configurations(out, out.info['equivalent_atoms'], directory=direct)"
   ]
  },
  {
   "cell_type": "code",
   "execution_count": 43,
   "metadata": {},
   "outputs": [],
   "source": [
    "oh, o, ooh = configs"
   ]
  },
  {
   "cell_type": "code",
   "execution_count": 44,
   "metadata": {},
   "outputs": [
    {
     "name": "stdout",
     "output_type": "stream",
     "text": [
      "[0] True /home/scakolli/Thesis/scratch/config/run_0\n",
      "[1] True /home/scakolli/Thesis/scratch/config/run_1\n",
      "[3] True /home/scakolli/Thesis/scratch/config/run_2\n",
      "[4] True /home/scakolli/Thesis/scratch/config/run_3\n",
      "[5] True /home/scakolli/Thesis/scratch/config/run_4\n",
      "[6] True /home/scakolli/Thesis/scratch/config/run_5\n",
      "[7] True /home/scakolli/Thesis/scratch/config/run_6\n",
      "[7] True /home/scakolli/Thesis/scratch/config/run_7\n",
      "[8] True /home/scakolli/Thesis/scratch/config/run_8\n",
      "[8] True /home/scakolli/Thesis/scratch/config/run_9\n",
      "[9] True /home/scakolli/Thesis/scratch/config/run_10\n",
      "[17] True /home/scakolli/Thesis/scratch/config/run_11\n",
      "########\n",
      "[0, 1] True /home/scakolli/Thesis/scratch/config/run_12\n",
      "[0, 1] True /home/scakolli/Thesis/scratch/config/run_13\n",
      "[3, 21] True /home/scakolli/Thesis/scratch/config/run_14\n",
      "[4, 5] True /home/scakolli/Thesis/scratch/config/run_15\n",
      "[5, 6] True /home/scakolli/Thesis/scratch/config/run_16\n",
      "[5, 6] True /home/scakolli/Thesis/scratch/config/run_17\n",
      "[6, 7] True /home/scakolli/Thesis/scratch/config/run_18\n",
      "[7] True /home/scakolli/Thesis/scratch/config/run_19\n",
      "[8] True /home/scakolli/Thesis/scratch/config/run_20\n",
      "[8] True /home/scakolli/Thesis/scratch/config/run_21\n",
      "[8, 9] True /home/scakolli/Thesis/scratch/config/run_22\n",
      "[16, 17] True /home/scakolli/Thesis/scratch/config/run_23\n",
      "########\n",
      "[1] True /home/scakolli/Thesis/scratch/config/run_24\n",
      "[0, 1] False /home/scakolli/Thesis/scratch/config/run_25\n",
      "[3] True /home/scakolli/Thesis/scratch/config/run_26\n",
      "[] False /home/scakolli/Thesis/scratch/config/run_27\n",
      "[5] True /home/scakolli/Thesis/scratch/config/run_28\n",
      "[6] True /home/scakolli/Thesis/scratch/config/run_29\n",
      "[] False /home/scakolli/Thesis/scratch/config/run_30\n",
      "[7] False /home/scakolli/Thesis/scratch/config/run_31\n",
      "[] False /home/scakolli/Thesis/scratch/config/run_32\n",
      "[8] True /home/scakolli/Thesis/scratch/config/run_33\n",
      "[9] True /home/scakolli/Thesis/scratch/config/run_34\n",
      "[17] True /home/scakolli/Thesis/scratch/config/run_35\n"
     ]
    }
   ],
   "source": [
    "oh_filt = filter_configurations(oh, out)\n",
    "print('########')\n",
    "o_filt = filter_configurations(o, out)\n",
    "print('########')\n",
    "ooh_filt = filter_configurations(ooh, out)\n",
    "\n"
   ]
  },
  {
   "cell_type": "code",
   "execution_count": 45,
   "metadata": {},
   "outputs": [
    {
     "name": "stdout",
     "output_type": "stream",
     "text": [
      "2023-07-10 13:12:52,774 | INFO: opt loose jobs to do: 36\n",
      "2023-07-10 13:13:24,408 | INFO: finished jobs. Took 31.63320139999996s\n"
     ]
    }
   ],
   "source": [
    "# directp = '/home/btpq/bt308495/Thesis/scratch/configp'\n",
    "directp = '/home/scakolli/Thesis/scratch/configp'\n",
    "configsp = build_and_relax_configurations(outp, outp.info['equivalent_atoms'], directory=directp)"
   ]
  },
  {
   "cell_type": "code",
   "execution_count": 46,
   "metadata": {},
   "outputs": [],
   "source": [
    "ohp, op, oohp = configsp"
   ]
  },
  {
   "cell_type": "code",
   "execution_count": 47,
   "metadata": {},
   "outputs": [
    {
     "name": "stdout",
     "output_type": "stream",
     "text": [
      "[0] True /home/scakolli/Thesis/scratch/configp/run_0\n",
      "[1] True /home/scakolli/Thesis/scratch/configp/run_1\n",
      "[3] True /home/scakolli/Thesis/scratch/configp/run_2\n",
      "[4] True /home/scakolli/Thesis/scratch/configp/run_3\n",
      "[5] True /home/scakolli/Thesis/scratch/configp/run_4\n",
      "[6] True /home/scakolli/Thesis/scratch/configp/run_5\n",
      "[7] True /home/scakolli/Thesis/scratch/configp/run_6\n",
      "[7] True /home/scakolli/Thesis/scratch/configp/run_7\n",
      "[8] True /home/scakolli/Thesis/scratch/configp/run_8\n",
      "[8] True /home/scakolli/Thesis/scratch/configp/run_9\n",
      "[9] True /home/scakolli/Thesis/scratch/configp/run_10\n",
      "[17] True /home/scakolli/Thesis/scratch/configp/run_11\n",
      "########\n",
      "[0, 1] True /home/scakolli/Thesis/scratch/configp/run_12\n",
      "[0, 1] True /home/scakolli/Thesis/scratch/configp/run_13\n",
      "[3, 21] True /home/scakolli/Thesis/scratch/configp/run_14\n",
      "[4, 5] True /home/scakolli/Thesis/scratch/configp/run_15\n",
      "[5, 6] True /home/scakolli/Thesis/scratch/configp/run_16\n",
      "[5, 6] True /home/scakolli/Thesis/scratch/configp/run_17\n",
      "[6, 7] True /home/scakolli/Thesis/scratch/configp/run_18\n",
      "[7] True /home/scakolli/Thesis/scratch/configp/run_19\n",
      "[8] True /home/scakolli/Thesis/scratch/configp/run_20\n",
      "[8] True /home/scakolli/Thesis/scratch/configp/run_21\n",
      "[8, 9] True /home/scakolli/Thesis/scratch/configp/run_22\n",
      "[16, 17] True /home/scakolli/Thesis/scratch/configp/run_23\n",
      "########\n",
      "[1] True /home/scakolli/Thesis/scratch/configp/run_24\n",
      "[0, 1] False /home/scakolli/Thesis/scratch/configp/run_25\n",
      "[3] True /home/scakolli/Thesis/scratch/configp/run_26\n",
      "[] False /home/scakolli/Thesis/scratch/configp/run_27\n",
      "[5] True /home/scakolli/Thesis/scratch/configp/run_28\n",
      "[6] True /home/scakolli/Thesis/scratch/configp/run_29\n",
      "[] False /home/scakolli/Thesis/scratch/configp/run_30\n",
      "[7] False /home/scakolli/Thesis/scratch/configp/run_31\n",
      "[] False /home/scakolli/Thesis/scratch/configp/run_32\n",
      "[8] True /home/scakolli/Thesis/scratch/configp/run_33\n",
      "[9] True /home/scakolli/Thesis/scratch/configp/run_34\n",
      "[17] True /home/scakolli/Thesis/scratch/configp/run_35\n"
     ]
    }
   ],
   "source": [
    "ohp_filt = filter_configurations(ohp, outp)\n",
    "print('########')\n",
    "op_filt = filter_configurations(op, outp)\n",
    "print('########')\n",
    "oohp_filt = filter_configurations(oohp, outp)\n",
    "\n"
   ]
  },
  {
   "cell_type": "code",
   "execution_count": 48,
   "metadata": {},
   "outputs": [
    {
     "data": {
      "text/plain": [
       "[(0, 0),\n",
       " (1, 1),\n",
       " (3, 3),\n",
       " (4, 4),\n",
       " (5, 5),\n",
       " (6, 6),\n",
       " (7, 7),\n",
       " (8, 8),\n",
       " (9, 9),\n",
       " (17, 17)]"
      ]
     },
     "execution_count": 48,
     "metadata": {},
     "output_type": "execute_result"
    }
   ],
   "source": [
    "[(c.info['active_site'], cp.info['active_site']) for c, cp in zip(oh_filt, ohp_filt)]"
   ]
  },
  {
   "cell_type": "code",
   "execution_count": 49,
   "metadata": {},
   "outputs": [
    {
     "data": {
      "text/plain": [
       "[('[0, 1]', '[0, 1]'),\n",
       " ('[3, 21]', '[3, 21]'),\n",
       " ('[4, 5]', '[4, 5]'),\n",
       " ('[5, 6]', '[5, 6]'),\n",
       " ('[6, 7]', '[6, 7]'),\n",
       " (7, 7),\n",
       " (8, 8),\n",
       " ('[8, 9]', '[8, 9]'),\n",
       " ('[16, 17]', '[16, 17]')]"
      ]
     },
     "execution_count": 49,
     "metadata": {},
     "output_type": "execute_result"
    }
   ],
   "source": [
    "[(c.info['active_site'], cp.info['active_site']) for c, cp in zip(o_filt, op_filt)]"
   ]
  },
  {
   "cell_type": "code",
   "execution_count": 50,
   "metadata": {},
   "outputs": [
    {
     "data": {
      "text/plain": [
       "([1, 3, 5, 6, 8, 9, 17], [1, 3, 5, 6, 8, 9, 17])"
      ]
     },
     "execution_count": 50,
     "metadata": {},
     "output_type": "execute_result"
    }
   ],
   "source": [
    "[c.info['active_site'] for c in ooh_filt], [c.info['active_site'] for c in oohp_filt]"
   ]
  },
  {
   "cell_type": "code",
   "execution_count": 51,
   "metadata": {},
   "outputs": [
    {
     "name": "stdout",
     "output_type": "stream",
     "text": [
      "########\n",
      "Config - Serial\n",
      "[1] True /home/scakolli/Thesis/scratch/config/run_24\n",
      "[0, 1] False /home/scakolli/Thesis/scratch/config/run_25\n",
      "[3] True /home/scakolli/Thesis/scratch/config/run_26\n",
      "[] False /home/scakolli/Thesis/scratch/config/run_27\n",
      "[5] True /home/scakolli/Thesis/scratch/config/run_28\n",
      "[6] True /home/scakolli/Thesis/scratch/config/run_29\n",
      "[] False /home/scakolli/Thesis/scratch/config/run_30\n",
      "[7] False /home/scakolli/Thesis/scratch/config/run_31\n",
      "[] False /home/scakolli/Thesis/scratch/config/run_32\n",
      "[8] True /home/scakolli/Thesis/scratch/config/run_33\n",
      "[9] True /home/scakolli/Thesis/scratch/config/run_34\n",
      "[17] True /home/scakolli/Thesis/scratch/config/run_35\n",
      "########\n",
      "Configp - Parrallel\n",
      "[1] True /home/scakolli/Thesis/scratch/configp/run_24\n",
      "[0, 1] False /home/scakolli/Thesis/scratch/configp/run_25\n",
      "[3] True /home/scakolli/Thesis/scratch/configp/run_26\n",
      "[] False /home/scakolli/Thesis/scratch/configp/run_27\n",
      "[5] True /home/scakolli/Thesis/scratch/configp/run_28\n",
      "[6] True /home/scakolli/Thesis/scratch/configp/run_29\n",
      "[] False /home/scakolli/Thesis/scratch/configp/run_30\n",
      "[7] False /home/scakolli/Thesis/scratch/configp/run_31\n",
      "[] False /home/scakolli/Thesis/scratch/configp/run_32\n",
      "[8] True /home/scakolli/Thesis/scratch/configp/run_33\n",
      "[9] True /home/scakolli/Thesis/scratch/configp/run_34\n",
      "[17] True /home/scakolli/Thesis/scratch/configp/run_35\n"
     ]
    },
    {
     "data": {
      "text/plain": [
       "[Atoms(symbols='C7N2C2N2C9H14O2H', pbc=False),\n",
       " Atoms(symbols='C7N2C2N2C9H14O2H', pbc=False),\n",
       " Atoms(symbols='C7N2C2N2C9H14O2H', pbc=False),\n",
       " Atoms(symbols='C7N2C2N2C9H14O2H', pbc=False),\n",
       " Atoms(symbols='C7N2C2N2C9H14O2H', pbc=False),\n",
       " Atoms(symbols='C7N2C2N2C9H14O2H', pbc=False),\n",
       " Atoms(symbols='C7N2C2N2C9H14O2H', pbc=False)]"
      ]
     },
     "execution_count": 51,
     "metadata": {},
     "output_type": "execute_result"
    }
   ],
   "source": [
    "print('########')\n",
    "print('Config - Serial')\n",
    "filter_configurations(ooh, out)\n",
    "print('########')\n",
    "print('Configp - Parrallel')\n",
    "filter_configurations(oohp, outp)"
   ]
  },
  {
   "cell_type": "code",
   "execution_count": 52,
   "metadata": {},
   "outputs": [],
   "source": [
    "from photocatalysis.thermodynamics.thermodynamics import global_min_configurations"
   ]
  },
  {
   "cell_type": "code",
   "execution_count": 53,
   "metadata": {},
   "outputs": [],
   "source": [
    "min_energy_configs = global_min_configurations(oh_filt, o_filt, ooh_filt)\n",
    "min_energy_configsp = global_min_configurations(ohp_filt, op_filt, oohp_filt)"
   ]
  },
  {
   "cell_type": "code",
   "execution_count": 54,
   "metadata": {},
   "outputs": [
    {
     "data": {
      "text/plain": [
       "[({'energy': -1682.3013156511793,\n",
       "   'walltime': 4.956,\n",
       "   'cputime': 4.891,\n",
       "   'fname': '/home/scakolli/Thesis/scratch/config/run_1',\n",
       "   'active_site': 1},\n",
       "  {'energy': -1682.3013156511793,\n",
       "   'walltime': 5.661,\n",
       "   'cputime': 5.297,\n",
       "   'fname': '/home/scakolli/Thesis/scratch/configp/run_1',\n",
       "   'active_site': 1},\n",
       "  ['################']),\n",
       " ({'energy': -1668.8647128400255,\n",
       "   'walltime': 1.836,\n",
       "   'cputime': 1.734,\n",
       "   'fname': '/home/scakolli/Thesis/scratch/config/run_13',\n",
       "   'active_site': '[0, 1]'},\n",
       "  {'energy': -1668.8647128400255,\n",
       "   'walltime': 1.981,\n",
       "   'cputime': 1.906,\n",
       "   'fname': '/home/scakolli/Thesis/scratch/configp/run_13',\n",
       "   'active_site': '[0, 1]'},\n",
       "  ['################']),\n",
       " ({'energy': -1790.9420144516737,\n",
       "   'walltime': 6.854,\n",
       "   'cputime': 6.484,\n",
       "   'fname': '/home/scakolli/Thesis/scratch/config/run_24',\n",
       "   'active_site': 1},\n",
       "  {'energy': -1790.9420144516737,\n",
       "   'walltime': 8.288,\n",
       "   'cputime': 7.531,\n",
       "   'fname': '/home/scakolli/Thesis/scratch/configp/run_24',\n",
       "   'active_site': 1},\n",
       "  ['################'])]"
      ]
     },
     "execution_count": 54,
     "metadata": {},
     "output_type": "execute_result"
    }
   ],
   "source": [
    "[(m.info, mp.info, ['################']) for m, mp in zip(min_energy_configs, min_energy_configsp)]"
   ]
  },
  {
   "cell_type": "code",
   "execution_count": 56,
   "metadata": {},
   "outputs": [
    {
     "data": {
      "text/plain": [
       "array([0., 0., 0., 0., 0., 0., 0., 0., 0., 0., 0., 0.])"
      ]
     },
     "execution_count": 56,
     "metadata": {},
     "output_type": "execute_result"
    }
   ],
   "source": [
    "e = np.array([o.info['energy'] for o in configs[0]])\n",
    "ep = np.array([o.info['energy'] for o in configsp[0]])\n",
    "e-ep"
   ]
  },
  {
   "cell_type": "code",
   "execution_count": null,
   "metadata": {},
   "outputs": [],
   "source": [
    "# for k in out.info:\n",
    "#     print(k, out.info[k] == outp.info[k])"
   ]
  }
 ],
 "metadata": {
  "kernelspec": {
   "display_name": "osc",
   "language": "python",
   "name": "python3"
  },
  "language_info": {
   "codemirror_mode": {
    "name": "ipython",
    "version": 3
   },
   "file_extension": ".py",
   "mimetype": "text/x-python",
   "name": "python",
   "nbconvert_exporter": "python",
   "pygments_lexer": "ipython3",
   "version": "3.11.4"
  },
  "orig_nbformat": 4
 },
 "nbformat": 4,
 "nbformat_minor": 2
}
