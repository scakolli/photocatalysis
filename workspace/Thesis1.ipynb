{
 "cells": [
  {
   "cell_type": "markdown",
   "id": "b02a4828",
   "metadata": {},
   "source": [
    "# Thesis 1"
   ]
  },
  {
   "cell_type": "code",
   "execution_count": 1,
   "id": "ace84ba6",
   "metadata": {},
   "outputs": [],
   "source": [
    "import sys\n",
    "import time, os, pickle\n",
    "import numpy as np\n",
    "import pandas as pd\n",
    "from scipy.optimize import minimize\n",
    "import multiprocessing as mp\n",
    "\n",
    "import matplotlib.pyplot as plt\n",
    "from itertools import tee\n",
    "from copy import deepcopy"
   ]
  },
  {
   "cell_type": "code",
   "execution_count": 2,
   "id": "9a96ab88",
   "metadata": {},
   "outputs": [
    {
     "name": "stderr",
     "output_type": "stream",
     "text": [
      "RDKit WARNING: [09:32:42] Enabling RDKit 2019.09.3 jupyter extensions\n"
     ]
    }
   ],
   "source": [
    "from osc_discovery.cheminformatics.cheminformatics_misc import ase2rdkit, ase2xyz\n",
    "from osc_discovery.descriptor_calculation.conformers import get_conformers_rdkit as get_conformers"
   ]
  },
  {
   "cell_type": "code",
   "execution_count": 26,
   "id": "1f3b089b",
   "metadata": {},
   "outputs": [],
   "source": [
    "import ase\n",
    "from ase.optimize import LBFGS\n",
    "from ase.optimize.minimahopping import MinimaHopping, MHPlot\n",
    "from ase.optimize.basin import BasinHopping\n",
    "\n",
    "from ase.constraints import FixAtoms, FixedLine, Hookean\n",
    "from ase.geometry.analysis import Analysis\n",
    "from ase.vibrations import Vibrations\n",
    "from ase.thermochemistry import HarmonicThermo, IdealGasThermo\n",
    "from ase.units import kB, Hartree, Bohr\n",
    "\n",
    "from xtb.ase.calculator import XTB\n",
    "from xtb.libxtb import VERBOSITY_MINIMAL, VERBOSITY_FULL, VERBOSITY_MUTED\n",
    "from xtb.interface import Calculator, Param\n",
    "from xtb.utils import get_method as get_xtb_method"
   ]
  },
  {
   "cell_type": "code",
   "execution_count": 4,
   "id": "b46fc14a",
   "metadata": {},
   "outputs": [
    {
     "name": "stdout",
     "output_type": "stream",
     "text": [
      "2019.09.3\n"
     ]
    }
   ],
   "source": [
    "import rdkit\n",
    "from rdkit import rdBase,Chem\n",
    "from rdkit.Chem import AllChem,Draw\n",
    "from rdkit.Chem.Draw import IPythonConsole, SimilarityMaps\n",
    "print(rdkit.__version__)\n",
    "\n",
    "import openbabel.pybel as pb"
   ]
  },
  {
   "cell_type": "markdown",
   "id": "bb0bf045",
   "metadata": {},
   "source": [
    "#### Thermodynamics"
   ]
  },
  {
   "cell_type": "code",
   "execution_count": 5,
   "id": "ed4a0ba9",
   "metadata": {},
   "outputs": [],
   "source": [
    "def single_point(molecule, method=\"GFN2-xTB\", accuracy=0.2, electronic_temperature=298.15, relaxation=False, trajectory=None, fmax=0.05):\n",
    "    # Attach Caclulator if none present\n",
    "    # Note: Calculator params, such as 'method', can only be updated if prior calculators are deleted\n",
    "    # i.e. del molecule.calc\n",
    "    if molecule.calc is None:\n",
    "        calculator = XTB(method=method, accuracy=accuracy, electronic_temperature=electronic_temperature)\n",
    "        molecule.calc = calculator\n",
    "    \n",
    "    # Locally optimize geometry\n",
    "    if relaxation:\n",
    "        optimizer = LBFGS(molecule, trajectory=trajectory, logfile=None)\n",
    "        optimizer.run(fmax=fmax)\n",
    "    \n",
    "    # Calculate Energy (eV)\n",
    "    E = molecule.get_potential_energy()\n",
    "    \n",
    "    return E"
   ]
  },
  {
   "cell_type": "markdown",
   "id": "084a038f",
   "metadata": {},
   "source": [
    "#### Configuration Space"
   ]
  },
  {
   "cell_type": "markdown",
   "id": "e049ace8",
   "metadata": {},
   "source": [
    "Instead of orienting adsorbate perpindicular to the plane formed by 3 atoms, we could try to optimize its position away from, say 6 nonH-neighbors (which would say represent the largest substructure formed by the morphing operations), while preserving its distance to the proposed site... a constrained optimization task basically"
   ]
  },
  {
   "cell_type": "code",
   "execution_count": 6,
   "id": "763d236f",
   "metadata": {},
   "outputs": [],
   "source": [
    "def build_configuration_from_site_with_para(ads, sub, site, constraint_list, additional_heteroatom_config=False, f=1.4):\n",
    "    \"\"\"Build a list of rudimentary adsorbate/substrate configurations 'atop' a proposed active site.\"\"\"\n",
    "    a_perp, s = ads.copy(), sub.copy()\n",
    "    \n",
    "    # Proposed active site position and indices of neighboring bonded atoms, where len(b) is the bond order of atom\n",
    "    p = s[site].position\n",
    "    b = s.info['bonds'][site]\n",
    "    config_list = []\n",
    "    \n",
    "    if ((len(b) != 4) & (len(b) != 1)):\n",
    "        # Alkane carbon (4) or Carbonyl Oxygen (1), likely not active sites... skip\n",
    "        \n",
    "        if (additional_heteroatom_config) & (s[site].symbol in ['O', 'N', 'S']):\n",
    "            # Create additional heteroatom configuration, by optimizing the position of the ads around it\n",
    "            # Note: 10x slower because of sp.optimize.minimize routine,  but configuration building likely not a bottleneck\n",
    "            a_opt = ads.copy()\n",
    "            other_positions = np.delete(s.positions, site, axis=0) # Remove active site iteslf from position array\n",
    "            optimized_adsorb_position = find_optimal_position(p, other_positions, distance_constraint=f)\n",
    "            n_orient = optimized_adsorb_position - p\n",
    "            \n",
    "            if len(a_opt) > 1:\n",
    "                a_opt.rotate(a_opt.positions[1], n_orient)\n",
    "            \n",
    "            a_opt.translate(optimized_adsorb_position)\n",
    "            \n",
    "            composite_opt = s + a_opt\n",
    "            composite_opt.set_constraint(constraint_list)\n",
    "            config_list.append(composite_opt)\n",
    "    \n",
    "        # Determine vector 'n_perp' that defines a plane between active site and 2 neighboring atoms\n",
    "        # as well as 'n_para' that sits within the plane but away from the 2 neighboring atoms\n",
    "        diff = s[b].get_positions() - p\n",
    "        cross = np.cross(diff[0], diff[1])\n",
    "        n_perp = cross / np.linalg.norm(cross)\n",
    "        n_para = -(diff[0] + diff[1]) / np.linalg.norm(diff[0] + diff[1])\n",
    "\n",
    "        # Rotate vector definining O-H or O-O bond into normal vector 'n'\n",
    "        if len(a_perp) > 1:\n",
    "            a_perp.rotate(a_perp.positions[1], n_perp)\n",
    "\n",
    "        # Translate adsorbate a height 'f' above position of active site\n",
    "        a_perp.translate(p + n_perp*f)\n",
    "        \n",
    "        # Form composite system and introduce any constraints\n",
    "        composite_perp = s + a_perp\n",
    "        composite_perp.set_constraint(constraint_list)\n",
    "        config_list.append(composite_perp)\n",
    "        \n",
    "        # Create an additional configuration in the plane of neighboring atoms if geometry permits\n",
    "        # Note: Alkyne carbons don't need an additional parallel orientation\n",
    "        alkyne_condition = (s.get_angle(b[0], site, b[1]) < 170)\n",
    "        \n",
    "        if (len(b) == 2) & alkyne_condition:\n",
    "            a_para = ads.copy()\n",
    "            if len(a_para) > 1:\n",
    "                a_para.rotate(a_para.positions[1], n_para)\n",
    "\n",
    "            a_para.translate(p + n_para*f)\n",
    "            composite_para = s + a_para\n",
    "            composite_para.set_constraint(constraint_list)\n",
    "            config_list.append(composite_para)\n",
    "    \n",
    "    return config_list"
   ]
  },
  {
   "cell_type": "code",
   "execution_count": 7,
   "id": "2eb2d34e",
   "metadata": {},
   "outputs": [],
   "source": [
    "def build_configuration_from_site(ads, sub, site, constraint_list, f=1.4):\n",
    "    \"\"\"Build a list of rudimentary adsorbate/substrate configurations on a proposed active site\"\"\"\n",
    "    a, s = ads.copy(), sub.copy()\n",
    "    \n",
    "    # Proposed active site position and indices of neighboring bonded atoms\n",
    "    # where len(b) is the bond order of atom\n",
    "    p = s[site].position\n",
    "    b = s.info['bonds'][site]\n",
    "    config_list = []\n",
    "    \n",
    "    # Alkane carbon (4) or Carbonyl Oxygen (1), likely not active sites... skip\n",
    "    # 1. Create a configuration where adsorbate is on-top of site (perpendicular to plane formed by its neighbors)\n",
    "    # 2. Create an additional heteroatom configuration, by maximizing distance of adsorb. relative to neighbors\n",
    "    if (len(b) != 4) & (len(b) != 1):\n",
    "    \n",
    "        # Determine vector 'n' that defines a plane between active site and 2 neighboring atoms\n",
    "        diff = s[b].positions - p\n",
    "        cross = np.cross(diff[0], diff[1])\n",
    "        n = cross / np.linalg.norm(cross)\n",
    "\n",
    "        # Rotate vector definining O-H or O-O bond into normal vector 'n'\n",
    "        if len(a) > 1:\n",
    "            a.rotate(a[1].position, n)\n",
    "\n",
    "        # Translate adsorbate a height 'f' above position of active site\n",
    "        a.translate(p + n*f)\n",
    "        \n",
    "        # Form composite system and introduce any constraints\n",
    "        composite = s + a\n",
    "        composite.set_constraint(constraint_list)\n",
    "        config_list.append(composite)\n",
    "        \n",
    "        if s[site].symbol in ['O', 'N', 'S']:\n",
    "            a_opt = ads.copy()\n",
    "            other_positions = np.delete(s.positions, site, axis=0) # Remove active site iteslf from position array\n",
    "            optimized_adsorb_position = find_constrained_optimal_position(p, other_positions, distance_constraint=f)\n",
    "            n_orient = optimized_adsorb_position - p\n",
    "\n",
    "            if len(a_opt) > 1:\n",
    "                a_opt.rotate(a_opt[1].position, n_orient)\n",
    "\n",
    "            a_opt.translate(optimized_adsorb_position)\n",
    "\n",
    "            composite_opt = s + a_opt\n",
    "            composite_opt.set_constraint(constraint_list)\n",
    "            config_list.append(composite_opt)\n",
    "    \n",
    "    return config_list"
   ]
  },
  {
   "cell_type": "code",
   "execution_count": 8,
   "id": "c37b8959",
   "metadata": {},
   "outputs": [],
   "source": [
    "def build_configuration_space(ads, sub, per_site_constraints_list):\n",
    "    a, s = ads.copy(), sub.copy()\n",
    "    configs_ = []\n",
    "\n",
    "    for site in range(s.info['nonH_count']):\n",
    "        configs_ += build_configuration_from_site(a, s, site, per_site_constraints_list[site])\n",
    "    \n",
    "    print(\"Adsorption/Substrate Configurations Generated:\", len(configs_))\n",
    "    print('----------------------------------------')\n",
    "    \n",
    "    return configs_"
   ]
  },
  {
   "cell_type": "code",
   "execution_count": 9,
   "id": "56df3995",
   "metadata": {},
   "outputs": [],
   "source": [
    "def fixed_nonH_neighbor_indices(atom_index, sub, free_nonH_neighbors=12):\n",
    "    # Returns indices of non-hydrogen atoms that are to be frozen during relaxation\n",
    "    # What is the average non_hydrogenic size of a given moeity thats added via the morphing operations\n",
    "    nonH_nearest_neighbors = sub.get_distances(atom_index, indices=[range(sub.info['nonH_count'])]).argsort()\n",
    "    return nonH_nearest_neighbors[free_nonH_neighbors+1:]"
   ]
  },
  {
   "cell_type": "code",
   "execution_count": 10,
   "id": "cdff4fb8",
   "metadata": {},
   "outputs": [],
   "source": [
    "def dist_obj(point, points):\n",
    "    # Closest neighbor distance (negative)\n",
    "    return -np.linalg.norm(point - points, axis=1).min()"
   ]
  },
  {
   "cell_type": "markdown",
   "id": "8ca92856",
   "metadata": {},
   "source": [
    "Example usage:\n",
    "    #site = 1\n",
    "    #positions = np.delete(c.positions, site, axis=0)\n",
    "    #optimized_point = find_optimal_position(c.positions[site], positions, distance_constraint=1.5)"
   ]
  },
  {
   "cell_type": "code",
   "execution_count": 11,
   "id": "16a12ecb",
   "metadata": {},
   "outputs": [],
   "source": [
    "def find_constrained_optimal_position(site_position, sub_position, distance_constraint=1.4):\n",
    "    \"\"\"Space out the adsorbate on the active site so its not close to any other atoms\"\"\"\n",
    "    # Given the position of an atom on the substrate, that is proposed to be an active site,\n",
    "    # minimize the distance of an adsorbate to the site's nearest neighbors, subject to a constraint\n",
    "    # that the adsorbate isn't a 'distance_constraint' away from the active site.\n",
    "    \n",
    "    initial_guess = site_position\n",
    "    \n",
    "    # Optimization\n",
    "    bounds = [(None, None), (None, None), (None, None)] \n",
    "    constraints = [{'type': 'eq',\n",
    "                    'fun': lambda x: np.linalg.norm(x - site_position) - distance_constraint}]\n",
    "    \n",
    "    result = minimize(dist_obj, initial_guess, args=(sub_position), method='SLSQP', bounds=bounds, constraints=constraints)\n",
    "    \n",
    "    return result.x"
   ]
  },
  {
   "cell_type": "markdown",
   "id": "a20042dd",
   "metadata": {},
   "source": [
    "#### Relaxation and Configuration Fidelity Checking"
   ]
  },
  {
   "cell_type": "code",
   "execution_count": 12,
   "id": "d17c41ad",
   "metadata": {},
   "outputs": [],
   "source": [
    "def site_identity_volatilization_checks(composite_relaxed, sub, volatilization_threshold=2):\n",
    "    \"\"\"\n",
    "    Upon relaxation of a configuration:\n",
    "    1. Check if identity of substrate has been preserved\n",
    "    2. Check if identity of adsorbate has been preserved\n",
    "    3. Check if adsorbate is properly bound and has not volatilized off the surface\n",
    "    4. Check where the active site is\n",
    "    \"\"\"\n",
    "    \n",
    "    c, s = composite_relaxed.copy(), sub.copy()\n",
    "    ads_indx = [indx for indx in range(len(s), len(c))] # adsorbate indices\n",
    "    \n",
    "    # List of bond indices for each atom, arranged in ascending order. Create dict for easy processing.\n",
    "    bonds = get_neighboring_bonds_list(c)\n",
    "    b = deepcopy(bonds)\n",
    "    bonds_dict = dict(zip(range(len(b)), b))\n",
    "    \n",
    "    ### 4. Active-site Check \n",
    "    # Where is the Oxygen in the adsorbate bonded\n",
    "    sites = [sub_indx for sub_indx in bonds[ads_indx[0]] if sub_indx not in ads_indx]\n",
    "    \n",
    "    ### 1. Substrate Check\n",
    "    # Remove the adsorbate from the bonds dict and compare the resulting dict to the original substrate bonds list\n",
    "    # Look at what the adsorbate (a_i) is bonded to (v), and remove the adsorbate from v's bonds list\n",
    "    # Then delete the adsorbate from the dict\n",
    "    for a_i in ads_indx:\n",
    "        for v in bonds_dict[a_i]:\n",
    "            bonds_dict[v].remove(a_i)\n",
    "        del bonds_dict[a_i]\n",
    "    \n",
    "    cond1 = (list(bonds_dict.values()) == sub.info['bonds'])\n",
    "\n",
    "    ### 2. Adsorbate Check\n",
    "    # Define equil. OH and OO bond distances, threshold for bond-breakage\n",
    "    equilibrium_distances, threshold = [0.963, 1.302], 0.3\n",
    "    ads_dist = [c.get_distance(*ai) for ai in pairwise(ads_indx)]\n",
    "    ads_dist.reverse()\n",
    "    cond2 = all([(abs(i - j) < threshold) for i, j in zip(equilibrium_distances, ads_dist)])\n",
    "    \n",
    "    ### 3. Volatilization Check\n",
    "    # If min distance from adsorbate to substrate is beyond the volatalization threshold, condition fails\n",
    "    # Hydrogen bonding distance ~ 2.5 Angstroms, for reference\n",
    "    # There is perhaps a faster way to do this using only the 'bonds' list\n",
    "    # if len(sites) == 0, then volatization has occured... i think rdkit might be good enough to tell when volatization has happened\n",
    "    min_dist = c.get_distances(ads_indx[0], indices=[i for i in range(s.info['nonH_count'])]).min()\n",
    "    cond3 = (min_dist < volatilization_threshold)\n",
    "    \n",
    "    return cond1, cond2, cond3, sites"
   ]
  },
  {
   "cell_type": "code",
   "execution_count": 13,
   "id": "216ed9fd",
   "metadata": {},
   "outputs": [],
   "source": [
    "def relax_configurations(configurations, trajectories=None, fmax=0.05):\n",
    "    ### Relax each configuration within the supplied list\n",
    "    # Note: Intial configurations have no calculator object. If calculator params other than default desired,\n",
    "    # first perform a single point calculation with desired params. before relaxation:\n",
    "    # i.e. [single_point(config, method=desired_method, accuracy=desired_acc, etc.) for config in configurations]\n",
    "    \n",
    "    # Generate optimization output file names\n",
    "    num_configs = len(configurations)\n",
    "    if trajectories is not None:\n",
    "        trajectories = ['{}{}.traj'.format(trajectories, i) for i in range(num_configs)]\n",
    "    else:\n",
    "        trajectories = [None]*num_configs\n",
    "    \n",
    "    start = time.time()\n",
    "    for i, config in enumerate(configurations):\n",
    "        # Perform Relaxations\n",
    "        config.info['energy'] = single_point(config, relaxation=True, fmax=fmax, trajectory=trajectories[i])\n",
    "        \n",
    "        # Perform Checks\n",
    "        c1, c2, c3, active_sites = site_identity_volatilization_checks(config, substrate)\n",
    "        config.info['opt_file'] = trajectories[i]\n",
    "        config.info['checks'] = [c1, c2, c3]\n",
    "        config.info['active_sites'] = active_sites\n",
    "\n",
    "        print('Configuration:', i, '/', num_configs-1)\n",
    "        print('Energy (eV):', config.info['energy'])\n",
    "        print('Fidelity Checks:', c1, c2, c3)\n",
    "        print('Active Sites:', active_sites)\n",
    "        print('----------------------------------------')\n",
    "    print('Elapsed Time:', time.time()-start)\n",
    "    print('----------------------------------------')"
   ]
  },
  {
   "cell_type": "markdown",
   "id": "6bc4badf",
   "metadata": {},
   "source": [
    "#### Helpers"
   ]
  },
  {
   "cell_type": "code",
   "execution_count": 14,
   "id": "a88860a9",
   "metadata": {},
   "outputs": [],
   "source": [
    "def ase2rdkit_updated(atoms, removeHs=False):\n",
    "    \"\"\" Convert an ASE atoms object to rdkit molecule.\n",
    "    The ordering of the Atoms is identical.\"\"\"\n",
    "    \n",
    "    # Updated from previous function to skip the \"sanitization\" of valence count\n",
    "    # Ex. Nitrogen cannot normally have an explicit valence of 4, so when an O radical\n",
    "    # binds to N's within the substrate, sanitization will throw an error since the \n",
    "    # valence of N is greater than permitted by rdkit\n",
    "    \n",
    "    a_str = ase2xyz(atoms)\n",
    "    pymol = pb.readstring(\"xyz\", a_str)\n",
    "    mol = pymol.write(\"mol\")\n",
    "    mol = Chem.MolFromMolBlock(mol, removeHs=removeHs, sanitize=False)\n",
    "    \n",
    "    # Sanitize everything except for the valence charges of the atoms\n",
    "    Chem.SanitizeMol(mol, sanitizeOps=Chem.SANITIZE_ALL^Chem.SANITIZE_PROPERTIES)\n",
    "    return mol"
   ]
  },
  {
   "cell_type": "code",
   "execution_count": 15,
   "id": "1505cd6e",
   "metadata": {},
   "outputs": [],
   "source": [
    "def get_neighboring_bonds_list(sub):\n",
    "    # Convert to rdkit molecule and then get bonds\n",
    "    return [sorted([nbr.GetIdx() for nbr in atom.GetNeighbors()]) for atom in ase2rdkit_updated(sub).GetAtoms()]"
   ]
  },
  {
   "cell_type": "code",
   "execution_count": 16,
   "id": "d82a6610",
   "metadata": {},
   "outputs": [],
   "source": [
    "def pairwise(iterable):\n",
    "    \"s -> (s0,s1), (s1,s2), (s2, s3), ...\"\n",
    "    a, b = tee(iterable)\n",
    "    next(b, None)\n",
    "    return zip(a, b)"
   ]
  },
  {
   "cell_type": "code",
   "execution_count": 17,
   "id": "a7536bac",
   "metadata": {},
   "outputs": [],
   "source": [
    "def prepare_substrate(smile_string):\n",
    "    # Get molecular conformers of the substrate\n",
    "    substrate_confs = get_conformers(smi)\n",
    "    substrate = substrate_confs.pop()\n",
    "\n",
    "    # Relax\n",
    "    single_point(substrate, relaxation=True, trajectory='opt.traj', fmax=0.005)\n",
    "    \n",
    "    # Attach useful information to the substrate object\n",
    "    total_num_nonHs = len(substrate) - substrate.get_chemical_symbols().count('H') # number of non-hydrogen atoms\n",
    "\n",
    "    substrate.info['bonds'] = get_neighboring_bonds_list(substrate)\n",
    "    substrate.info['nonH_count'] = int(total_num_nonHs)\n",
    "    \n",
    "    return substrate"
   ]
  },
  {
   "cell_type": "markdown",
   "id": "00dd9ad0",
   "metadata": {},
   "source": [
    "Adsorbates"
   ]
  },
  {
   "cell_type": "code",
   "execution_count": 32,
   "id": "a2850e42",
   "metadata": {},
   "outputs": [],
   "source": [
    "### Define adsorbates as ASE atoms\n",
    "OH = ase.Atoms(symbols=['O', 'H'], positions=[(0., 0., 0.), (0., 0., 1.)])\n",
    "O = ase.Atoms(symbols=['O'], positions=[(0., 0., 0.)])\n",
    "OOH = ase.Atoms(symbols=['O', 'O', 'H'], positions=[(0., 0., 0.), (0., 0., 1.), (0., 1., 1.)])\n",
    "\n",
    "### Relax adsorbates, constraining oxygen to orign during the process\n",
    "OH.set_constraint([FixAtoms(indices=[0]), FixedLine([1], [0, 0, 1])])\n",
    "OOH.set_constraint([FixAtoms(indices=[0]), FixedLine([1], [0, 0, 1])])\n",
    "\n",
    "single_point(OH, relaxation=True)\n",
    "single_point(O)\n",
    "single_point(OOH, relaxation=True)\n",
    "\n",
    "del OH.constraints, O.constraints, OOH.constraints "
   ]
  },
  {
   "cell_type": "code",
   "execution_count": null,
   "id": "6d273e6e",
   "metadata": {},
   "outputs": [],
   "source": [
    "### Hookean constraints between bonds of the adsorbates, for preserving their identity upon relaxation\n",
    "Hookean_OH = Hookean(-len(OH), -len(OH)+1, rt=1.4, k=5) #constraint for O-H\n",
    "Hookean_OOH_a = Hookean(-len(OOH), -len(OOH)+1, rt=1.79, k=5) #constraint for O-O bond in OOH (C-O bond params used)\n",
    "Hookean_OOH_b = Hookean(-len(OOH)+1, -len(OOH)+2, rt=1.4, k=5) #constraint for O-H bond in OOH"
   ]
  },
  {
   "cell_type": "code",
   "execution_count": 41,
   "id": "827b7662",
   "metadata": {},
   "outputs": [
    {
     "data": {
      "text/plain": [
       "'HO2'"
      ]
     },
     "execution_count": 41,
     "metadata": {},
     "output_type": "execute_result"
    }
   ],
   "source": [
    "OOH.get_chemical_formula()"
   ]
  },
  {
   "cell_type": "markdown",
   "id": "96e60e6b",
   "metadata": {},
   "source": [
    "Substrate"
   ]
  },
  {
   "cell_type": "code",
   "execution_count": 42,
   "id": "f2f552cd",
   "metadata": {},
   "outputs": [],
   "source": [
    "# Read Dataframe containing entire chemical space\n",
    "path = os.getcwd() + '/data/'\n",
    "file = 'df_chemical_space_chons_4rings.json'\n",
    "p = pd.read_json(path+file, orient='split')"
   ]
  },
  {
   "cell_type": "code",
   "execution_count": 43,
   "id": "c4a1af64",
   "metadata": {
    "scrolled": false
   },
   "outputs": [
    {
     "data": {
      "image/png": "[encoded data removed]",
      "text/plain": [
       "<rdkit.Chem.rdchem.Mol at 0x7f1009d23620>"
      ]
     },
     "execution_count": 43,
     "metadata": {},
     "output_type": "execute_result"
    }
   ],
   "source": [
    "# Pick a random molecule in the space and get its smile string\n",
    "rand_i = np.random.randint(315451)\n",
    "saved_i = 3863\n",
    "smi = p.iloc[rand_i]['molecule_smiles']\n",
    "\n",
    "# Draw chem\n",
    "rdkit_smi = Chem.AddHs(Chem.MolFromSmiles(smi))\n",
    "rdkit_smi"
   ]
  },
  {
   "cell_type": "code",
   "execution_count": 44,
   "id": "af478a63",
   "metadata": {
    "scrolled": true
   },
   "outputs": [
    {
     "data": {
      "text/plain": [
       "molecule_smiles             C(#Cc1c(C2=CCC=C2)cccc1C1=CCC=C1)C1=CC=CC1\n",
       "operation            [c:0]1[ch:1][ch][c:3][c!r5:4][c!r5:5]1>>[c:0]1...\n",
       "molecule_last_gen           C(#Cc1c(-c2ccccc2)cccc1-c1ccccc1)C1=CC=CC1\n",
       "generation                                                           4\n",
       "XTB1_lamda_h                                                    133.07\n",
       "ehomo_gfn1_b3lyp                                              -10.6066\n",
       "symmetry                                                          True\n",
       "Name: 9051, dtype: object"
      ]
     },
     "execution_count": 44,
     "metadata": {},
     "output_type": "execute_result"
    }
   ],
   "source": [
    "p.iloc[rand_i]"
   ]
  },
  {
   "cell_type": "code",
   "execution_count": 45,
   "id": "9044abc0",
   "metadata": {
    "scrolled": false
   },
   "outputs": [
    {
     "name": "stdout",
     "output_type": "stream",
     "text": [
      "Number of rotatable bonds: 2, C(#Cc1c(C2=CCC=C2)cccc1C1=CCC=C1)C1=CC=CC1\n",
      "1) Embedding conformers (50). Using 1 processes\n",
      "Took: 1.3321733474731445 s\n",
      "2) Minimizing 50 conformers (mmff94)\n",
      "Took: 2.0406644344329834 s\n",
      "3) Pruning conformers (RMSD threshold: 0.35 Ang)\n",
      "Took: 0.22996902465820312 s\n",
      "Number of conformers found: 18\n"
     ]
    }
   ],
   "source": [
    "# Get molecular conformers of the substrate\n",
    "substrate_confs = get_conformers(smi)\n",
    "substrate = substrate_confs.pop()\n",
    "\n",
    "# Relax\n",
    "Esub = single_point(substrate, relaxation=True, trajectory='opt.traj', fmax=0.005)"
   ]
  },
  {
   "cell_type": "code",
   "execution_count": 46,
   "id": "51654651",
   "metadata": {},
   "outputs": [],
   "source": [
    "# Attach useful information to the substrate object\n",
    "total_num_nonHs = len(substrate) - substrate.get_chemical_symbols().count('H') # number of non-hydrogen atoms\n",
    "\n",
    "substrate.info['bonds'] = get_neighboring_bonds_list(substrate)\n",
    "substrate.info['nonH_count'] = int(total_num_nonHs)"
   ]
  },
  {
   "cell_type": "markdown",
   "id": "3563ab48",
   "metadata": {},
   "source": [
    "## eHOMO analysi"
   ]
  },
  {
   "cell_type": "code",
   "execution_count": null,
   "id": "fdaa0a02",
   "metadata": {},
   "outputs": [],
   "source": [
    "# Hole potentials relative to SHE\n",
    "hole_potentials = (-1. * p['ehomo_gfn1_b3lyp'].values - SHE_potential_vacuum) "
   ]
  },
  {
   "cell_type": "code",
   "execution_count": null,
   "id": "a74f7408",
   "metadata": {},
   "outputs": [],
   "source": [
    "hole_potentials.max()"
   ]
  },
  {
   "cell_type": "markdown",
   "id": "4cd25850",
   "metadata": {},
   "source": [
    "## Main"
   ]
  },
  {
   "cell_type": "code",
   "execution_count": null,
   "id": "836cd455",
   "metadata": {},
   "outputs": [],
   "source": [
    "os.chdir('run')"
   ]
  },
  {
   "cell_type": "markdown",
   "id": "95b91690",
   "metadata": {},
   "source": [
    "TO-DO:\n",
    "\n",
    "Now that you've done a scan of the PES for each adsorbate (see Adsorption Study below), we can move onto to the presumably simpler task of\n",
    "\n",
    "    1. Scanning the PES to find the optimal * OH configuration/active-site and its adsorption energy\n",
    "    2. Using this optimal active site * OH, to then calculate adsorption energy of * O and * OOH (upon relaxation)\n",
    "    \n",
    "Note: The optitum for OH is often not the optimum for O or OOH, however generally, all the low energy adsorbate intermediates share the same top 'k' active sites. Perhaps we need to choose multiple low energy candidate active sites in OH optimization step, to then subsequently screen in the O and OOH optimization steps. Or perhaps we need to be scanning using O or the most relavent intermediate!\n",
    "\n",
    "Note2: Also, it could be that an OH config is most stable, but the O or OOH intermediate at the same active site leads to volitalization or a breaking of the substrate. Need to perform checks during each intermediate step to avoid this issue."
   ]
  },
  {
   "cell_type": "markdown",
   "id": "c9478dd2",
   "metadata": {},
   "source": [
    "## Optimal Active Site"
   ]
  },
  {
   "cell_type": "markdown",
   "id": "6feac2c2",
   "metadata": {},
   "source": [
    "1. Relaxed active site scan using OH\n",
    "    1. low fidelity: neighboring atoms to the site are free to move, while other non-H atoms are fixed\n",
    "2. Determine minimum energy active sites and sequentially relax O and OOH atop these sites\n",
    "    1. Ensuring that the O and OOH configs satisfy fidelity and active-site matching constraints\n",
    "3. Perform final high fidelity relaxation on the resulting configurations (removing FixedAtoms constraints)"
   ]
  },
  {
   "cell_type": "code",
   "execution_count": null,
   "id": "d94dfc44",
   "metadata": {},
   "outputs": [],
   "source": [
    "def optimal_configurations(substrate, h=1.4, trajectory_fnames=['optOH', 'optO', 'optOOH']):\n",
    "    \n",
    "    ######## 1. OH low-fidelity relaxation and scan ##########################################################################\n",
    "    \n",
    "    # Generate configurations for each proposed site (site: non-H atom in substrate)\n",
    "    configsOH = []\n",
    "    for site in range(substrate.info['nonH_count']):\n",
    "        constr_list =[Hookean_OH, FixAtoms(indices=fixed_nonH_neighbor_indices(site, substrate))]\n",
    "        configsOH += build_configuration_from_site(OH, substrate, site, constr_list, f=h)\n",
    "\n",
    "    # Relax configurations and keep legitimate ones\n",
    "    relax_configurations(configsOH, trajectories=trajectory_fnames[0])\n",
    "    configsOH_filtered = [config for config in configsOH if all(config.info['checks'])]\n",
    "    \n",
    "    # Rank active sites by adsorption energy\n",
    "    Es_OH_sub = np.array([config.info['energy'] for config in configsOH_filtered])\n",
    "    active_sites_configsOH = np.array([config.info['active_sites'][0] for config in configsOH_filtered])\n",
    "\n",
    "    indx_sorted = Es_OH_sub.argsort()\n",
    "    active_sites_ranked = active_sites_configsOH[indx_sorted]\n",
    "    \n",
    "    ######## 2. O and OOH relaxation #########################################################################################\n",
    "    \n",
    "    for j, _active_site in enumerate(active_sites_ranked):\n",
    "        active_site = int(_active_site)\n",
    "\n",
    "        print('Testing Active Site:', active_site)\n",
    "        print('----------------------------------------')\n",
    "\n",
    "        ### O intermediate\n",
    "        # For candidate low-energy active site, build O* configs and relax\n",
    "        constrO = [FixAtoms(indices=fixed_nonH_neighbor_indices(active_site, substrate))]\n",
    "        configO = build_configuration_from_site(O, substrate, active_site, constrO, f=h)\n",
    "        relax_configurations(configO, trajectories=trajectory_fnames[1])\n",
    "\n",
    "        # Filter for legitimate configurations and active site matches\n",
    "        configO_filtered = [config for config in configO if all(config.info['checks']) if active_site in config.info['active_sites']]\n",
    "\n",
    "        if not len(configO_filtered):\n",
    "            # No configs meet filtering criteria, skip to the next active site\n",
    "            continue\n",
    "        else:\n",
    "            # Find min energy configuration and calculate desired properties\n",
    "            energies = np.array([config.info['energy'] for config in configO_filtered])\n",
    "            optimal_Oconfig = configO_filtered[energies.argmin()]\n",
    "\n",
    "        ### OOH intermediate\n",
    "        constrOOH = [Hookean_OOH_a, Hookean_OOH_b, FixAtoms(indices=fixed_nonH_neighbor_indices(active_site, substrate))]\n",
    "        configOOH = build_configuration_from_site(OOH, substrate, active_site, constrOOH, f=h)\n",
    "        relax_configurations(configOOH, trajectory_fnames[2])\n",
    "\n",
    "        configOOH_filtered = [config for config in configOOH if all(config.info['checks']) if active_site in config.info['active_sites']]\n",
    "\n",
    "        if not len(configOOH_filtered):\n",
    "            continue\n",
    "        else:\n",
    "            optimal_active_site = active_site\n",
    "\n",
    "            energies = np.array([config.info['energy'] for config in configOOH_filtered])\n",
    "            optimal_OOHconfig = configOOH_filtered[energies.argmin()]\n",
    "\n",
    "            optimal_OHconfig = configsOH_filtered[indx_sorted[j]]\n",
    "            print('----------------------------------------')\n",
    "            print(\"Optimal Active Site Found:\", optimal_active_site)\n",
    "            break\n",
    "            \n",
    "    return optimal_OHconfig, optimal_Oconfig, optimal_OOHconfig"
   ]
  },
  {
   "cell_type": "markdown",
   "id": "5fcc5abe",
   "metadata": {},
   "source": [
    "## 1."
   ]
  },
  {
   "cell_type": "code",
   "execution_count": null,
   "id": "b2069281",
   "metadata": {
    "scrolled": true
   },
   "outputs": [],
   "source": [
    "### OH intermediate low-fidelity relaxed scan\n",
    "\n",
    "# Generate configurations for each proposed site (site: non-H atom in substrate)\n",
    "configsOH = []\n",
    "h = 1.4\n",
    "\n",
    "for site in range(substrate.info['nonH_count']):\n",
    "    constr_list =[Hookean_OH, FixAtoms(indices=fixed_nonH_neighbor_indices(site, substrate))]\n",
    "    configsOH += build_configuration_from_site(OH, substrate, site, constr_list, f=h)\n",
    "    \n",
    "# Relax configurations and keep legitimate ones\n",
    "relax_configurations(configsOH, trajectories='optOH')\n",
    "configsOH_filtered = [config for config in configsOH if all(config.info['checks'])]"
   ]
  },
  {
   "cell_type": "code",
   "execution_count": null,
   "id": "277c8303",
   "metadata": {},
   "outputs": [],
   "source": [
    "# Rank active sites by adsorption energy\n",
    "Es_OH_sub = np.array([config.info['energy'] for config in configsOH_filtered])\n",
    "active_sites_configsOH = np.array([config.info['active_sites'][0] for config in configsOH_filtered])\n",
    "\n",
    "indx_sorted = Es_OH_sub.argsort()\n",
    "active_sites_ranked = active_sites_configsOH[indx_sorted]"
   ]
  },
  {
   "cell_type": "markdown",
   "id": "f2220d55",
   "metadata": {},
   "source": [
    "## 2."
   ]
  },
  {
   "cell_type": "code",
   "execution_count": null,
   "id": "2699d219",
   "metadata": {
    "scrolled": true
   },
   "outputs": [],
   "source": [
    "for j, _active_site in enumerate(active_sites_ranked):\n",
    "    active_site = int(_active_site)\n",
    "    \n",
    "    print('Testing Active Site:', active_site)\n",
    "    print('----------------------------------------')\n",
    "    print('----------------------------------------')\n",
    "    \n",
    "    ### O intermediate\n",
    "    # For candidate low-energy active site, build O* configs and relax\n",
    "    constrO = [FixAtoms(indices=fixed_nonH_neighbor_indices(active_site, substrate))]\n",
    "    configO = build_configuration_from_site(O, substrate, active_site, constrO, f=h)\n",
    "    relax_configurations(configO)\n",
    "    \n",
    "    # Filter for legitimate configurations and active site matches\n",
    "    configO_filtered = [config for config in configO if all(config.info['checks']) if active_site in config.info['active_sites']]\n",
    "    \n",
    "    if not len(configO_filtered):\n",
    "        # No configs meet filtering criteria, skip to the next active site\n",
    "        continue\n",
    "    else:\n",
    "        # Find min energy configuration and calculate desired properties\n",
    "        energies = np.array([config.info['energy'] for config in configO_filtered])\n",
    "        optimal_Oconfig = configO_filtered[energies.argmin()]\n",
    "    \n",
    "    ### OOH intermediate\n",
    "    constrOOH = [Hookean_OOH_a, Hookean_OOH_b, FixAtoms(indices=fixed_nonH_neighbor_indices(active_site, substrate))]\n",
    "    configOOH = build_configuration_from_site(OOH, substrate, active_site, constrOOH, f=h)\n",
    "    relax_configurations(configOOH)\n",
    "\n",
    "    configOOH_filtered = [config for config in configOOH if all(config.info['checks']) if active_site in config.info['active_sites']]\n",
    "        \n",
    "    if not len(configOOH_filtered):\n",
    "        continue\n",
    "    else:\n",
    "        optimal_active_site = active_site\n",
    "        \n",
    "        energies = np.array([config.info['energy'] for config in configOOH_filtered])\n",
    "        optimal_OOHconfig = configOOH_filtered[energies.argmin()]\n",
    "        \n",
    "        optimal_OHconfig = configsOH_filtered[indx_sorted[j]]\n",
    "        print('----------------------------------------')\n",
    "        print(\"Optimal Active Site Found:\", optimal_active_site)\n",
    "        break"
   ]
  },
  {
   "cell_type": "markdown",
   "id": "0239f3d6",
   "metadata": {},
   "source": [
    "## 3."
   ]
  },
  {
   "cell_type": "code",
   "execution_count": null,
   "id": "01147bab",
   "metadata": {},
   "outputs": [],
   "source": [
    "# Remove constraints\n",
    "del optimal_OHconfig.constraints, optimal_Oconfig.constraints, optimal_OOHconfig.constraints"
   ]
  },
  {
   "cell_type": "code",
   "execution_count": null,
   "id": "c7c468eb",
   "metadata": {},
   "outputs": [],
   "source": [
    "# and do a final relaxation and fidelity check\n",
    "EOH_sub = single_point(optimal_OHconfig, relaxation=True, trajectory='optimumOH.traj', fmax=0.005)\n",
    "EO_sub = single_point(optimal_Oconfig, relaxation=True, trajectory='optimumO.traj', fmax=0.005)\n",
    "EOOH_sub = single_point(optimal_OOHconfig, relaxation=True, trajectory='optimumOOH.traj', fmax=0.005)\n",
    "\n",
    "print(\"Fidelity Checks Passed:\",\n",
    "      all(site_identity_volatilization_checks(optimal_OHconfig, substrate)),\n",
    "      all(site_identity_volatilization_checks(optimal_Oconfig, substrate)),\n",
    "      all(site_identity_volatilization_checks(optimal_OOHconfig, substrate)))"
   ]
  },
  {
   "cell_type": "code",
   "execution_count": null,
   "id": "371775ba",
   "metadata": {},
   "outputs": [],
   "source": [
    "### Pickling for later use\n",
    "substrate.write('substrate.xyz')\n",
    "optimal_OHconfig.write('optimal_OHconfig.xyz')\n",
    "optimal_Oconfig.write('optimal_Oconfig.xyz')\n",
    "optimal_OOHconfig.write('optimal_OOHconfig.xyz')"
   ]
  },
  {
   "cell_type": "markdown",
   "id": "85bc0e02",
   "metadata": {},
   "source": [
    "## Thermodynamics"
   ]
  },
  {
   "cell_type": "code",
   "execution_count": null,
   "id": "19e03be2",
   "metadata": {},
   "outputs": [],
   "source": [
    "def HOMO_LUMO_Energy(molecule, method='GFN2-xTB', accuracy=0.2, electronic_temperature=298.15):\n",
    "    \"\"\"\n",
    "    Returns HOMO and LUMO energies (eV) of an ASE molecule. Molecule must have an ASE calculator instance already attached.\n",
    "    Note: Conversion from ASE's use of Angstrom/eV, to xTB's use of Bohr/Hartree\n",
    "    \"\"\"\n",
    "    num, pos = molecule.numbers, molecule.positions / Bohr\n",
    "    \n",
    "    if molecule.calc is None:\n",
    "        calculator = Calculator(get_xtb_method(method), num, pos)\n",
    "        calculator.set_accuracy(accuracy)\n",
    "        calculator.set_electronic_temperature(electronic_temperature)\n",
    "    else:\n",
    "        params = molecule.calc.parameters\n",
    "        calculator = Calculator(get_xtb_method(params['method']), num, pos)\n",
    "        calculator.set_accuracy(params['accuracy'])\n",
    "        calculator.set_electronic_temperature(params['electronic_temperature'])\n",
    "    \n",
    "    calculator.set_verbosity(VERBOSITY_MUTED)\n",
    "    \n",
    "    results = calculator.singlepoint()\n",
    "    occup = results.get_orbital_occupations().astype(int)\n",
    "    energies = results.get_orbital_eigenvalues()\n",
    "    \n",
    "    homo_indx = np.nonzero(occup)[0][-1] #Last non-zero orbital occupancy\n",
    "    lumo_indx = homo_indx + 1\n",
    "    \n",
    "    return energies[homo_indx] * Hartree, energies[lumo_indx] * Hartree"
   ]
  },
  {
   "cell_type": "code",
   "execution_count": null,
   "id": "07072604",
   "metadata": {},
   "outputs": [],
   "source": [
    "def zero_point_energy(molecule):\n",
    "    ### Calculate vibrational modes by finite-diff. approximation of the Hessian and return the zero point energy (ZPE)\n",
    "    displacement = 0.005*Bohr # Value used in 'xtb mol.xyz --hess'\n",
    "    vib = Vibrations(molecule, delta=displacement)\n",
    "    vib.run()\n",
    "    vib.combine()\n",
    "    vib_energy = vib.get_energies()\n",
    "    vib.clean()\n",
    "    \n",
    "    if len(molecule) == 2:\n",
    "        # Hydrogen molecule exception (3N-5 for linear molecule)\n",
    "        num_modes = 1\n",
    "    else:\n",
    "        num_modes = 3 * len(molecule) - 6 # 3N-6 for nonlinear\n",
    "        \n",
    "    zpe = vib_energy[-num_modes:].sum().real / 2.\n",
    "    return zpe\n",
    "\n",
    "def free_energies(E_s, E_OH, E_O, E_OOH, ZPE_s, ZPE_OH, ZPE_O, ZPE_OOH):\n",
    "    ### Total Energy (ZPE corrected) of *, *OH, *O, *OOH species\n",
    "    \n",
    "    dG1 = (E_OH + ZPE_OH) - (E_s + ZPE_s) + dG1_corr\n",
    "    dG2 = (E_O + ZPE_O) - (E_OH + ZPE_OH) + dG2_corr\n",
    "    dG3 = (E_OOH + ZPE_OOH) - (E_O + ZPE_O) + dG3_corr\n",
    "    dG4 = (E_s + ZPE_s) - (E_OOH + ZPE_OOH) + dG4_corr\n",
    "    \n",
    "    return dG1, dG2, dG3, dG4"
   ]
  },
  {
   "cell_type": "code",
   "execution_count": null,
   "id": "15ea9499",
   "metadata": {},
   "outputs": [],
   "source": [
    "def free_energy_plotter(Gs):\n",
    "\n",
    "    x = [0, 1, 2, 3, 4]\n",
    "    y = [0]+Gs.cumsum().tolist() # No bias\n",
    "    y_123 = [0] + (Gs - 1.23).cumsum().tolist() # Equilibrium bias 1.23V\n",
    "    y_downhill = [0] + (Gs - Gs.max()).cumsum().tolist() # Bias when all steps are down hill\n",
    "\n",
    "    plt.step(x, y, 'k', label='0V')\n",
    "    plt.step(x, y_123, '--k', label='1.23V')\n",
    "    plt.step(x, y_downhill, 'b', label='{}V'.format(round(Gs.max(), 2)))\n",
    "\n",
    "    plt.xlabel('Intermediates')\n",
    "    plt.ylabel('Free Energy (eV)')\n",
    "    plt.legend()"
   ]
  },
  {
   "cell_type": "markdown",
   "id": "ea45776a",
   "metadata": {},
   "source": [
    "#### Energy of SHE relative to vacuum, where electrons are at rest\n",
    "E(H+/H2, in H2O @ STP 298.15K/1.01325bar)(SHE) = 0 V\n",
    "\n",
    "E(H+/H2, in H2O @ STP 298.15K/1.01325bar)(absolute) = 4.44 V ± 0.02 \n",
    "\n",
    "#### Reference \n",
    "The absolute electrode potential: an explanatory note (Recommendations 1986)\n",
    "S. Trasatti J. Electroanal. Chem. Interfacial Electrochem., 1986, 209 , 417 —428"
   ]
  },
  {
   "cell_type": "markdown",
   "id": "c0d9b53b",
   "metadata": {},
   "source": [
    "### Free Energies"
   ]
  },
  {
   "cell_type": "markdown",
   "id": "48e937ec",
   "metadata": {},
   "source": [
    "#### Free energy discussion from CH3. Fundamental Heterogenous Catalysis by Norskov\n",
    "\n",
    "For historical reasons, G°, is also defined to be zero for the pure elements in their reference states. For other substances, G° is the reaction Gibbs energy for making the substances in their standard state from the constituting elements in their reference states. This is a point that one should be aware of, because its implication is that when using tabulated values, generally :\n",
    "\n",
    "G° != H° - TS° or G != H - TS\n",
    "\n",
    "The reason that the nonessential zero definition of the Gibbs energy has been made, even if it “messes up” one of the central expressions in physical chemistry, is that one typically always needs the Gibbs energies of reaction, not the absolute Gibbs energies themselves. The following relation will therefore still hold for the Gibbs energies of reaction:\n",
    "\n",
    "∆G° = ∆H° −T∆S°\n",
    "\n",
    "#### Entropy discussion\n",
    "S = Strans + Srot + Svib + Sel\n",
    "\n",
    "The standard entropy of small gas-phase molecules, such as N2 or CO, is of the order of 2meV/K. Their entropic contribution to the Gibbs free energy at room temperature (and at 1 bar) is therefore approximately −0.6eV/molecule. Most smaller molecules involved in heterogeneous catalysis have entropies of this order of magnitude; one important \n",
    "exception is H2 having a standard entropy of only 1.35meV/K.\n",
    "\n",
    "By far, the largest fraction of the standard entropic contributions arises from the translations, which result in an enormous number of (particle-in-a-box type) energy states. The vibrational and rotational parts constitute a minor fraction of the gas-phase entropy. When a molecule adsorbs on the surface, it will lose a major part of its gas-phase entropy, as it loses the translational freedom from the gas phase. The translational and rotational degrees of freedom typically become constrained and turn into vibrational modes.\n",
    "\n",
    "Now, unless there are a number of very-low-frequency vibrational modes of the adsorbed molecule on the surface (only frequencies that are around 50cm−1 or lower give significant contributions), it can be assumed as a rough approximation that the molecule loses all of its entropy upon adsorption.\n",
    "\n"
   ]
  },
  {
   "cell_type": "code",
   "execution_count": null,
   "id": "e3606d77",
   "metadata": {},
   "outputs": [],
   "source": [
    "######## DO NOT RUN ANYMORE ########\n",
    "\n",
    "### H2O and H2\n",
    "H2 = ase.Atoms('2H', positions=[(0., 0., 0.), (0., 0., 0.8)])\n",
    "H2O = ase.Atoms('HOH', positions=[[0, 0, -1], [0, 1, 0], [0, 0, 1]])\n",
    "\n",
    "E_H2 = single_point(H2, relaxation=True, fmax=0.005)\n",
    "ZPE_H2_DFT = zero_point_energy(H2)\n",
    "\n",
    "E_H2O = single_point(H2O, relaxation=True, fmax=0.005)\n",
    "ZPE_H2O_DFT = zero_point_energy(H2O)"
   ]
  },
  {
   "cell_type": "code",
   "execution_count": null,
   "id": "6f03bec4",
   "metadata": {},
   "outputs": [],
   "source": [
    "######## DO NOT RUN ANYMORE ########\n",
    "\n",
    "######## Thermodynamic Quantities of Interest (in eV) ########\n",
    "\n",
    "######## DFT derived E and ZPE ########\n",
    "# GFN2-xTB, fmax=0.005 eV/Angstrom, accuracy=0.2\n",
    "\n",
    "# Energy\n",
    "E_H2 = -26.74025284322724\n",
    "E_H2O = -137.9765422815829\n",
    "\n",
    "# ZPE DFT\n",
    "ZPE_H2_DFT = 0.2326865538281221\n",
    "ZPE_H2O_DFT = 0.5475951786796269\n",
    "\n",
    "######## Referenced ZPE and S ########\n",
    "# Origin of the Overpotential for Oxygen Reduction at a Fuel-Cell Cathode\n",
    "# https://doi.org/10.1021/jp047349j\n",
    "\n",
    "# ZPE\n",
    "ZPE_H2 = 0.27\n",
    "ZPE_H2O = 0.56\n",
    "\n",
    "# Gas Phase Entropies\n",
    "TS_H2_g = 0.41\n",
    "TS_H2O_g = 0.67\n",
    "\n",
    "# H2(g) at 298.15k and 1bar (STP)\n",
    "# H2O(g) at 298.15K and 0.035bar (at equilibrium with liquid water at the same temp.)\n",
    "# So long as both these quanties are quoted w.r.t. same reference (i.e. STP), there shouldn't be problems when integrating them\n",
    "# with DFT calculated energies, as we are only interested in taking differences of these quantites\n",
    "\n",
    "######## Experimental water splitting free energy change ########\n",
    "dG_ws = 2.46 # per water molecule\n",
    "\n",
    "# Used to avoid problematic calculation of Oxygen gas free energy\n",
    "# G_O2g = 2 * dG_ws + 2 * (G_H2O_l - G_H2_g), where the free energy of G_H2O_l = G_H2O_g at 298.15K and 0.035bar\n",
    "# This as to avoid an inaccurate estimation of liquid free energy (hydrogen bond underestimation)\n",
    "\n",
    "######## Free Energy Constants ########\n",
    "# Since these variables are unchanging, the later half of each expression is constant, thus each reaction enthalpy (Δ(E + ZPE)) \n",
    "# is simply modified by a constant + dG_corr\n",
    "\n",
    "#dG1 = (E_OH + ZPE_OH) - (E_s + ZPE_s) + 0.5 * (E_H2 + ZPE_H2) - (E_H2O + ZPE_H2O) - (0.5 * TS_H2_g - TS_H2O_g)\n",
    "#dG2 = (E_O + ZPE_O) - (E_OH + ZPE_OH) + 0.5 * (E_H2 + ZPE_H2) - 0.5 * TS_H2_g\n",
    "#dG3 = (E_OOH + ZPE_OOH) - (E_O + ZPE_O) + 0.5 * (E_H2 + ZPE_H2) - (E_H2O + ZPE_H2O) - (0.5 * TS_H2_g - TS_H2O_g)\n",
    "#dG4 = (E_s + ZPE_s) - (E_OOH + ZPE_OOH) + 2 * dG_ws + 2 * (E_H2O + ZPE_H2O) - 3/2 * (E_H2 + ZPE_H2) - (2 * TS_H2O_g - 3/2 * TS_H2_g)\n",
    "\n",
    "\n",
    "dG1_corr = 0.5 * (E_H2 + ZPE_H2) - (E_H2O + ZPE_H2O) - (0.5 * TS_H2_g - TS_H2O_g)\n",
    "dG2_corr = 0.5 * (E_H2 + ZPE_H2) - 0.5 * TS_H2_g\n",
    "dG3_corr = 0.5 * (E_H2 + ZPE_H2) - (E_H2O + ZPE_H2O) - (0.5 * TS_H2_g - TS_H2O_g)\n",
    "dG4_corr = 2 * dG_ws + 2 * (E_H2O + ZPE_H2O) - 3/2 * (E_H2 + ZPE_H2) - (2 * TS_H2O_g - 3/2 * TS_H2_g)\n",
    "\n",
    "# Defining static variables\n",
    "dG1_corr, dG2_corr, dG3_corr, dG4_corr = 124.6464158599693, -13.44012642161362, 124.6464158599693, -230.93270529832492"
   ]
  },
  {
   "cell_type": "markdown",
   "id": "47656b7e",
   "metadata": {},
   "source": [
    "# HOMO-LUMO and Free Energies"
   ]
  },
  {
   "cell_type": "markdown",
   "id": "070b5902",
   "metadata": {},
   "source": [
    "#### Homo-lumo"
   ]
  },
  {
   "cell_type": "code",
   "execution_count": null,
   "id": "ae03d341",
   "metadata": {},
   "outputs": [],
   "source": [
    "eHOMO, eLUMO = HOMO_LUMO_Energy(substrate)"
   ]
  },
  {
   "cell_type": "code",
   "execution_count": null,
   "id": "ab91025d",
   "metadata": {
    "scrolled": true
   },
   "outputs": [],
   "source": [
    "print(\"HOMO Enegry (eV):\", eHOMO)\n",
    "print(\"LUMO Energy (eV):\", eLUMO)"
   ]
  },
  {
   "cell_type": "code",
   "execution_count": null,
   "id": "f97e33df",
   "metadata": {},
   "outputs": [],
   "source": [
    "water_redox_potential = 1.23 # Standard O2/H2O reduction potential relative to SHE (V)\n",
    "SHE_potential_vacuum = 4.44 # SHE potential relative to vacuum energy\n",
    "hole_potential = -eHOMO - SHE_potential_vacuum # relative to SHE"
   ]
  },
  {
   "cell_type": "code",
   "execution_count": null,
   "id": "17994814",
   "metadata": {
    "scrolled": false
   },
   "outputs": [],
   "source": [
    "print(\"Hole Potential (V):\", hole_potential)\n",
    "print(\"H2O Ox. Potential (V):\", water_redox_potential)\n",
    "print(\"In absence of theoretical overpotential, hole oxidizes water?:\", hole_potential > water_redox_potential)"
   ]
  },
  {
   "cell_type": "markdown",
   "id": "5e661653",
   "metadata": {},
   "source": [
    "#### free energies"
   ]
  },
  {
   "cell_type": "code",
   "execution_count": null,
   "id": "7b2d5ec1",
   "metadata": {},
   "outputs": [],
   "source": [
    "### Reading substrate and intermediates\n",
    "substrate = ase.io.read('substrate.xyz')\n",
    "optimal_OHconfig = ase.io.read('optimal_OHconfig.xyz')\n",
    "optimal_Oconfig = ase.io.read('optimal_Oconfig.xyz')\n",
    "optimal_OOHconfig = ase.io.read('optimal_OOHconfig.xyz')\n",
    "\n",
    "del substrate.calc, optimal_OHconfig.calc, optimal_Oconfig.calc, optimal_OOHconfig.calc\n",
    "\n",
    "single_point(substrate), single_point(optimal_OHconfig), single_point(optimal_Oconfig), single_point(optimal_OOHconfig)"
   ]
  },
  {
   "cell_type": "code",
   "execution_count": null,
   "id": "fba1a68e",
   "metadata": {},
   "outputs": [],
   "source": [
    "# Static corrections to free energy expressions (in eV)\n",
    "dG1_corr, dG2_corr, dG3_corr, dG4_corr = 124.6464158599693, -13.44012642161362, 124.6464158599693, -230.93270529832492"
   ]
  },
  {
   "cell_type": "code",
   "execution_count": null,
   "id": "cf51d352",
   "metadata": {},
   "outputs": [],
   "source": [
    "### Adsorbed species (*, *OH, *O, *OOH)\n",
    "# Assummed to have negligible entropy (TS_OH=TS_O=TS_OOH=0) - gas phase molecular entropy dominates\n",
    "ZPEsub = zero_point_energy(substrate)\n",
    "ZPEOH = zero_point_energy(optimal_OHconfig)\n",
    "ZPEO = zero_point_energy(optimal_Oconfig)\n",
    "ZPEOOH = zero_point_energy(optimal_OOHconfig)"
   ]
  },
  {
   "cell_type": "code",
   "execution_count": null,
   "id": "56bdade4",
   "metadata": {},
   "outputs": [],
   "source": [
    "# Substrate-adsorbate energies\n",
    "Es, EOH, EO, EOOH = substrate.get_potential_energy(), optimal_OHconfig.get_potential_energy(), optimal_Oconfig.get_potential_energy(), optimal_OOHconfig.get_potential_energy()"
   ]
  },
  {
   "cell_type": "code",
   "execution_count": null,
   "id": "abf6c639",
   "metadata": {},
   "outputs": [],
   "source": [
    "g1, g2, g3, g4 = free_energies(Es, EOH, EO, EOOH, ZPEsub, ZPEOH, ZPEO, ZPEOOH)"
   ]
  },
  {
   "cell_type": "code",
   "execution_count": null,
   "id": "04c6a337",
   "metadata": {},
   "outputs": [],
   "source": [
    "gs = np.array((g1, g2, g3, g4))"
   ]
  },
  {
   "cell_type": "code",
   "execution_count": null,
   "id": "b2a78b3b",
   "metadata": {
    "scrolled": true
   },
   "outputs": [],
   "source": [
    "print(\"Max Free Energy Change (eV):\", gs.max())\n",
    "print(\"Overpotential (V):\", gs.max() - 1.23)\n",
    "print(\"Rate Determining Step:\", gs.argmax())"
   ]
  },
  {
   "cell_type": "code",
   "execution_count": null,
   "id": "975985da",
   "metadata": {
    "scrolled": true
   },
   "outputs": [],
   "source": [
    "free_energy_plotter(gs)"
   ]
  },
  {
   "cell_type": "markdown",
   "id": "013c97e8",
   "metadata": {},
   "source": [
    "--------------------"
   ]
  },
  {
   "cell_type": "code",
   "execution_count": null,
   "id": "ec93b732",
   "metadata": {},
   "outputs": [],
   "source": [
    "def parse_thermo_log(log_file):\n",
    "    \n",
    "    with open(log_file) as f:\n",
    "        out = [line for line in f]\n",
    "    \n",
    "    for j, line in enumerate(out):\n",
    "        ## Extract thermodynamic quanties\n",
    "        ## [T, H(0)-H(T)+pV, H(T), T*S, G(T)]\n",
    "        if 'T/K' in line:\n",
    "            thermo_vars = line.split()\n",
    "            thermo_quantities = out[j+2].split()\n",
    "            thermo_quantities = np.array(thermo_quantities).astype(float) * Hartree\n",
    "        ## Extract ZPE\n",
    "        if 'zero point energy' in line:\n",
    "            zpe = float(line.split()[4]) * Hartree\n",
    "            \n",
    "    return thermo_quantities[1:], zpe"
   ]
  },
  {
   "cell_type": "code",
   "execution_count": null,
   "id": "ddef7378",
   "metadata": {},
   "outputs": [],
   "source": [
    "#XTB slop\n",
    "\n",
    "# os.mkdir('xtb_run')\n",
    "# os.chdir('xtb_run')\n",
    "\n",
    "H2.write('H2.xyz')\n",
    "H2O.write('H2O.xyz')\n",
    "\n",
    "coord_H2O = 'H2O.xyz'\n",
    "coord_H2 = 'H2.xyz'\n",
    "\n",
    "cmd_vib = 'xtb {} --hess --gfn 2 --acc 0.2 --etemp 298.15 --chrg 0 --strict'.format(coord_H2O)\n",
    "cmd_thermo = 'xtb thermo --temp 298.15 {} hessian > log.txt'.format(coord_H2O)\n",
    "\n",
    "os.system(cmd_vib)\n",
    "\n",
    "os.system(cmd_thermo)\n",
    "\n",
    "### Determined from prior xTB calculations using thermo module\n",
    "# Compute vibration frequencies from an already optimized structure\n",
    "# cmd = 'xtb {xyz_coord_file} --hess --gfn 2 --acc 0.2 --etemp 298.15 --chrg 0'\n",
    "#\n",
    "# Then call the thermochemistry module using the resulting hessian\n",
    "# cmd = 'xtb thermo --temp 298.15 {xyz_coord_file} hessian > log.txt'\n",
    "# Then parse, parse_thermo_log('log.txt')\n",
    "## Note: thermochemical analysis of hydrogen is causing overflow errors for some reason\n",
    "# Use zpe taken from following reference: Origin of the overpotential for oxygen reduction reaction by Norskov et al.\n",
    "\n",
    "zpe_H2O = 0.5476081713265313\n",
    "thermo_quants = ['H(0)-H(T)+pV', 'H(T)', 'T*S', 'G(T)']\n",
    "thermodynamic_quantites_H2O_298K_DFT_RRHO = [8.11307474e+03, 1.02886523e-01, 6.50493625e-01, 5.82299171e-01, 6.81958151e-02]\n",
    "\n",
    "zpe_H2 = 0.27\n",
    "# thermodynamic_quantites_H2_298K = "
   ]
  },
  {
   "cell_type": "markdown",
   "id": "cc8db724",
   "metadata": {},
   "source": [
    "https://univ-angers.hal.science/hal-02326425/document\n",
    "\n",
    "Triphenylamine HOMO and LUMO for comparison"
   ]
  },
  {
   "cell_type": "markdown",
   "id": "df186e67",
   "metadata": {},
   "source": [
    "#### poly-phenelyne"
   ]
  },
  {
   "cell_type": "markdown",
   "id": "f88ed709",
   "metadata": {},
   "source": [
    "https://doi.org/10.1039/C4TA02044H\n",
    "\n",
    "In literature, PPP is found to have the necessary hole_energy/IP to oxidize water.... i.e. the potential of the holes is more positive than 1.23V (reduction potential of O2/H2O).\n",
    "\n",
    "DFT calculations using water as an implicit solvent, find that PPP7 has a IP of 1.08 V, with PPP2 having an even more positive potential. The presence of the solvent apparently causes the IP (potential of the free hole) to become more negative by approximately ~1 volt. Thus, without the solvent, we would expect an IP for PPP of approximately ~ 2 V. This is, more or less what we calculate below, when n=4 is used. Thus, under the influence of a solvent, we would expect that thermodynamic driving potential of the hole to decrease (become more negative)."
   ]
  },
  {
   "cell_type": "code",
   "execution_count": null,
   "id": "8523978f",
   "metadata": {
    "scrolled": false
   },
   "outputs": [],
   "source": [
    "phenelyne2 = 'C1=CC=CC=C1C2=CC=CC=C2'\n",
    "phenelyne7 = \"C1=CC=C(C=C1)C2=CC=C(C=C2)C3=CC=C(C=C3)C4=CC=C(C=C4)C5=CC=C(C=C5)C6=CC=C(C=C6)C7=CC=C(C=C7)\"\n",
    "PPP2 = get_conformers(phenelyne2)[0]\n",
    "PPP7 = get_conformers(phenelyne7)[0]"
   ]
  },
  {
   "cell_type": "code",
   "execution_count": null,
   "id": "051178b8",
   "metadata": {},
   "outputs": [],
   "source": [
    "single_point(PPP2, relaxation=True), single_point(PPP7, relaxation=True)"
   ]
  },
  {
   "cell_type": "code",
   "execution_count": null,
   "id": "14df5e41",
   "metadata": {},
   "outputs": [],
   "source": [
    "eHOMOp2, eLUMOp2 = HOMO_LUMO_Energy(PPP2)\n",
    "eHOMOp7, eLUMOp7 = HOMO_LUMO_Energy(PPP7)"
   ]
  },
  {
   "cell_type": "code",
   "execution_count": null,
   "id": "7d820bdd",
   "metadata": {},
   "outputs": [],
   "source": [
    "-eHOMOp2, -eHOMOp7"
   ]
  },
  {
   "cell_type": "markdown",
   "id": "62ef20e8",
   "metadata": {},
   "source": [
    "Using IPEA for estimating IP and EA"
   ]
  },
  {
   "cell_type": "code",
   "execution_count": null,
   "id": "171223da",
   "metadata": {},
   "outputs": [],
   "source": [
    "PPP2.write('PPP2.xyz'), PPP7.write('PPP7.xyz')"
   ]
  },
  {
   "cell_type": "code",
   "execution_count": null,
   "id": "32f4bcb8",
   "metadata": {},
   "outputs": [],
   "source": [
    "os.system('xtb PPP2.xyz --vip')"
   ]
  },
  {
   "cell_type": "markdown",
   "id": "65b64500",
   "metadata": {},
   "source": [
    "----------------------------------------------------"
   ]
  },
  {
   "cell_type": "markdown",
   "id": "df3f92c1",
   "metadata": {},
   "source": [
    "# ---------------------------------------------------------------------------------------------------------------"
   ]
  },
  {
   "cell_type": "markdown",
   "id": "e2fb5892",
   "metadata": {},
   "source": [
    "## Adsorption Study for OH, O, OOH"
   ]
  },
  {
   "cell_type": "markdown",
   "id": "3174efff",
   "metadata": {},
   "source": [
    "OH"
   ]
  },
  {
   "cell_type": "code",
   "execution_count": null,
   "id": "1627bc9e",
   "metadata": {
    "scrolled": false
   },
   "outputs": [],
   "source": [
    "constr_list =[[Hookean_OH, FixAtoms(indices=fixed_nonH_neighbor_indices(site, substrate))] for site in range(substrate.info['nonH_count'])]\n",
    "configsOH = build_configuration_space(OH, substrate, constr_list)\n",
    "relax_configurations(configsOH, trajectories='optOH')\n",
    "\n",
    "# Filter configs if checks pass\n",
    "configsOH_filtered = [config for config in configsOH if all(config.info['checks'])]"
   ]
  },
  {
   "cell_type": "code",
   "execution_count": null,
   "id": "71ab494a",
   "metadata": {},
   "outputs": [],
   "source": [
    "EOH_sub = np.array([config.info['energy'] for config in configsOH])\n",
    "EadsorptionOH = EOH_sub - (EOH + Esub)"
   ]
  },
  {
   "cell_type": "markdown",
   "id": "a8f4e3dd",
   "metadata": {},
   "source": [
    "O"
   ]
  },
  {
   "cell_type": "code",
   "execution_count": null,
   "id": "e2456d64",
   "metadata": {
    "scrolled": true
   },
   "outputs": [],
   "source": [
    "constr_list =[[FixAtoms(indices=fixed_nonH_neighbor_indices(site, substrate))] for site in range(substrate.info['nonH_count'])]\n",
    "configsO = build_configuration_space(O, substrate, constr_list)\n",
    "relax_configurations(configsO, trajectories='optO')\n",
    "\n",
    "configsO_filter = [config for config in configsO if all(config.info['checks'])]"
   ]
  },
  {
   "cell_type": "code",
   "execution_count": null,
   "id": "30a7241f",
   "metadata": {},
   "outputs": [],
   "source": [
    "EO_sub = np.array([config.info['energy'] for config in configsO])\n",
    "EadsorptionO = EO_sub - (EO + Esub)"
   ]
  },
  {
   "cell_type": "markdown",
   "id": "b7401342",
   "metadata": {},
   "source": [
    "OOH"
   ]
  },
  {
   "cell_type": "code",
   "execution_count": null,
   "id": "2c47c6b5",
   "metadata": {
    "scrolled": true
   },
   "outputs": [],
   "source": [
    "constr_list =[[Hookean_OOH_a, Hookean_OOH_b, FixAtoms(indices=fixed_nonH_neighbor_indices(site, substrate))] for site in range(substrate.info['nonH_count'])]\n",
    "configsOOH = build_configuration_space(OOH, substrate, constr_list)\n",
    "relax_configurations(configsOOH, trajectories='optOOH')\n",
    "\n",
    "configsOOH_filtered = [config for config in configsOOH if all(config.info['checks'])]"
   ]
  },
  {
   "cell_type": "code",
   "execution_count": null,
   "id": "7a5041b6",
   "metadata": {},
   "outputs": [],
   "source": [
    "EOOH_sub = np.array([config.info['energy'] for config in configsOOH])\n",
    "EadsorptionOOH = EOOH_sub - (EOOH + Esub)"
   ]
  },
  {
   "cell_type": "markdown",
   "id": "4be39f2f",
   "metadata": {},
   "source": [
    "Summary"
   ]
  },
  {
   "cell_type": "code",
   "execution_count": null,
   "id": "48d8a0ea",
   "metadata": {},
   "outputs": [],
   "source": [
    "d1 = [config.info['active_sites'][0] for _, config in sorted(zip(EadsorptionOH, configsOH))]"
   ]
  },
  {
   "cell_type": "code",
   "execution_count": null,
   "id": "19fc6b3a",
   "metadata": {},
   "outputs": [],
   "source": [
    "d2 = [config.info['active_sites'] for _, config in sorted(zip(EadsorptionO, configsO))]"
   ]
  },
  {
   "cell_type": "code",
   "execution_count": null,
   "id": "b3287021",
   "metadata": {},
   "outputs": [],
   "source": [
    "d3 = [config.info['active_sites'][0] for _, config in sorted(zip(EadsorptionOOH, configsOOH))]"
   ]
  },
  {
   "cell_type": "code",
   "execution_count": null,
   "id": "813f0f67",
   "metadata": {
    "scrolled": false
   },
   "outputs": [],
   "source": [
    "pd.DataFrame([d1, d2, d3]).T"
   ]
  },
  {
   "cell_type": "code",
   "execution_count": null,
   "id": "4f59ac96",
   "metadata": {},
   "outputs": [],
   "source": [
    "top_active_sites = 5"
   ]
  },
  {
   "cell_type": "code",
   "execution_count": null,
   "id": "0bb31f82",
   "metadata": {},
   "outputs": [],
   "source": [
    "d1_top = d1[:top_active_sites]\n",
    "d2_top = [x for l in d2[:top_active_sites] for x in l]\n",
    "d3_top = d3[:top_active_sites]"
   ]
  },
  {
   "cell_type": "code",
   "execution_count": null,
   "id": "5ff16f34",
   "metadata": {},
   "outputs": [],
   "source": [
    "d1_top, d3_top"
   ]
  },
  {
   "cell_type": "code",
   "execution_count": null,
   "id": "ee2b3b30",
   "metadata": {},
   "outputs": [],
   "source": [
    "d2_top"
   ]
  },
  {
   "cell_type": "code",
   "execution_count": null,
   "id": "2c4dd344",
   "metadata": {},
   "outputs": [],
   "source": []
  }
 ],
 "metadata": {
  "kernelspec": {
   "display_name": "Python 3",
   "language": "python",
   "name": "python3"
  },
  "language_info": {
   "codemirror_mode": {
    "name": "ipython",
    "version": 3
   },
   "file_extension": ".py",
   "mimetype": "text/x-python",
   "name": "python",
   "nbconvert_exporter": "python",
   "pygments_lexer": "ipython3",
   "version": "3.7.1"
  }
 },
 "nbformat": 4,
 "nbformat_minor": 5
}
