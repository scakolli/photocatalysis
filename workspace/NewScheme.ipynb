{
 "cells": [
  {
   "cell_type": "code",
   "execution_count": 1,
   "id": "663dfada",
   "metadata": {},
   "outputs": [],
   "source": [
    "import numpy as np\n",
    "import pandas as pd\n",
    "import os\n",
    "import subprocess\n",
    "import time\n",
    "import matplotlib.pyplot as plt\n",
    "import itertools\n",
    "from copy import deepcopy\n",
    "import sys\n",
    "\n",
    "from rdkit import Chem\n",
    "from rdkit.Chem import AllChem\n",
    "import ase\n",
    "from ase.io import read, write\n",
    "from ase.units import Hartree\n",
    "from ase.visualize import view\n",
    "\n",
    "from ase.io.trajectory import Trajectory\n",
    "import glob\n",
    "import pickle\n",
    "\n",
    "from rdkit.Chem.Draw import IPythonConsole\n",
    "IPythonConsole.drawOptions.addAtomIndices = True"
   ]
  },
  {
   "attachments": {},
   "cell_type": "markdown",
   "id": "32b78e5c",
   "metadata": {},
   "source": [
    "-----"
   ]
  },
  {
   "cell_type": "code",
   "execution_count": null,
   "id": "653bc6cb",
   "metadata": {},
   "outputs": [],
   "source": [
    "os.getcwd()"
   ]
  },
  {
   "cell_type": "code",
   "execution_count": 2,
   "id": "9b4dd25f",
   "metadata": {},
   "outputs": [],
   "source": [
    "### For automatically reloading import modules... allows you to run changes to code in jupyter without having to reload\n",
    "%load_ext autoreload\n",
    "%autoreload 2\n",
    "\n",
    "# Read Dataframe containing entire chemical space\n",
    "# path = os.getcwd() + '/data/'\n",
    "# file = 'df_chemical_space_chons_4rings.json'\n",
    "# p = pd.read_json(path+file, orient='split')\n",
    "\n",
    "path = '/home/btpq/bt308495/Thesis/osc_discovery/data/df_chemical_space_chons_4rings.json'\n",
    "p = pd.read_json(path, orient='split')\n",
    "\n",
    "# Change dir\n",
    "# os.chdir('/home/scakolli/Thesis/osc_discovery/run')\n",
    "os.chdir('/home/btpq/bt308495/Thesis/run')\n",
    "# sys.path.insert(1, '/home/btpq/bt308495/Thesis/')"
   ]
  },
  {
   "cell_type": "code",
   "execution_count": null,
   "id": "fec569c0",
   "metadata": {
    "scrolled": false
   },
   "outputs": [],
   "source": [
    "# Pick a random molecule in the space and get its smile string\n",
    "rand_i = np.random.randint(315451)\n",
    "smi = p.iloc[rand_i]['molecule_smiles']\n",
    "# smi = 'C1=CC(C=Cc2cnnc(-c3cc(C=CC4=CCC=C4)cnn3)c2)=CC1'\n",
    "# smi = 'C1=CSC(=C2C(C=Cc3ccco3)=CC=C2C=Cc2ccco2)S1'\n",
    "\n",
    "# Draw chem\n",
    "# p.iloc[rand_i]\n",
    "rdkit_smi = Chem.AddHs(Chem.MolFromSmiles(smi))\n",
    "rdkit_smi"
   ]
  },
  {
   "cell_type": "code",
   "execution_count": 3,
   "id": "e59186d7",
   "metadata": {},
   "outputs": [],
   "source": [
    "os.chdir('/home/btpq/bt308495/Thesis/run')"
   ]
  },
  {
   "cell_type": "markdown",
   "id": "03111073",
   "metadata": {},
   "source": [
    "-----"
   ]
  },
  {
   "cell_type": "code",
   "execution_count": 104,
   "id": "859b5152",
   "metadata": {},
   "outputs": [],
   "source": [
    "from photocatalysis.adsorption.tools import multi_prepare_substrate\n",
    "from photocatalysis.adsorption.relaxing import build_and_relax_configurations\n",
    "from photocatalysis.thermodynamics.thermodynamics import multi_get_thermodynamics, global_min_configurations, free_energies\n",
    "\n",
    "from photocatalysis.evaluate import evaluate_substrate\n",
    "from photocatalysis.thermodynamics.helpers import get_batches"
   ]
  },
  {
   "cell_type": "code",
   "execution_count": 119,
   "id": "99894eff",
   "metadata": {},
   "outputs": [],
   "source": [
    "calc_params = {'gfn':2, 'acc':0.2, 'etemp':298.15, 'strict':'', 'gbsa':'water'}\n",
    "rand_smi = np.random.randint(0, 315450, size=32)\n",
    "smile_strings = p.molecule_smiles.iloc[rand_smi].tolist()"
   ]
  },
  {
   "cell_type": "code",
   "execution_count": 33,
   "id": "68835763",
   "metadata": {},
   "outputs": [],
   "source": [
    "# Introduce errors\n",
    "smile_strings[1] = None"
   ]
  },
  {
   "cell_type": "code",
   "execution_count": 120,
   "id": "e930e87f",
   "metadata": {},
   "outputs": [
    {
     "name": "stdout",
     "output_type": "stream",
     "text": [
      "2023-07-07 17:10:33,602 | INFO: substrate preparation jobs to do: 32\n"
     ]
    },
    {
     "name": "stdout",
     "output_type": "stream",
     "text": [
      "2023-07-07 17:11:04,450 | INFO: finished jobs. Took 30.84740024060011s\n"
     ]
    }
   ],
   "source": [
    "subs, errors = multi_prepare_substrate(smile_strings, calc_kwargs=calc_params)"
   ]
  },
  {
   "cell_type": "code",
   "execution_count": 121,
   "id": "4c0e8404",
   "metadata": {},
   "outputs": [
    {
     "name": "stdout",
     "output_type": "stream",
     "text": [
      "Iter 0\n",
      "2023-07-07 17:11:04,542 | INFO: opt loose jobs to do: 84\n"
     ]
    },
    {
     "name": "stdout",
     "output_type": "stream",
     "text": [
      "2023-07-07 17:11:16,086 | INFO: finished jobs. Took 11.54299515299499s\n",
      "Iter 1\n",
      "2023-07-07 17:11:17,043 | INFO: opt loose jobs to do: 57\n",
      "2023-07-07 17:11:24,181 | INFO: finished jobs. Took 7.137204868718982s\n",
      "Iter 2\n",
      "2023-07-07 17:11:24,779 | INFO: opt loose jobs to do: 33\n",
      "2023-07-07 17:11:30,960 | INFO: finished jobs. Took 6.180307822301984s\n",
      "Iter 3\n",
      "2023-07-07 17:11:31,400 | INFO: opt loose jobs to do: 48\n",
      "2023-07-07 17:11:34,529 | INFO: finished jobs. Took 3.12785673327744s\n",
      "Iter 4\n",
      "2023-07-07 17:11:34,955 | INFO: opt loose jobs to do: 72\n",
      "2023-07-07 17:11:45,945 | INFO: finished jobs. Took 10.988733179867268s\n",
      "Iter 5\n",
      "2023-07-07 17:11:46,788 | INFO: opt loose jobs to do: 60\n",
      "2023-07-07 17:11:52,242 | INFO: finished jobs. Took 5.453250594437122s\n",
      "Iter 6\n",
      "2023-07-07 17:11:52,961 | INFO: opt loose jobs to do: 75\n",
      "2023-07-07 17:11:59,984 | INFO: finished jobs. Took 7.022329740226269s\n",
      "Iter 7\n",
      "2023-07-07 17:12:00,734 | INFO: opt loose jobs to do: 48\n",
      "2023-07-07 17:12:06,585 | INFO: finished jobs. Took 5.849815472960472s\n",
      "Iter 8\n",
      "2023-07-07 17:12:07,186 | INFO: opt loose jobs to do: 78\n",
      "2023-07-07 17:12:19,888 | INFO: finished jobs. Took 12.70123272202909s\n",
      "Iter 9\n",
      "2023-07-07 17:12:20,843 | INFO: opt loose jobs to do: 60\n",
      "2023-07-07 17:12:25,428 | INFO: finished jobs. Took 4.584028594195843s\n",
      "Iter 10\n",
      "2023-07-07 17:12:26,061 | INFO: opt loose jobs to do: 66\n",
      "2023-07-07 17:12:33,962 | INFO: finished jobs. Took 7.900851137936115s\n",
      "Iter 11\n",
      "2023-07-07 17:12:34,680 | INFO: opt loose jobs to do: 39\n",
      "2023-07-07 17:12:40,176 | INFO: finished jobs. Took 5.494836268946528s\n",
      "Iter 12\n",
      "2023-07-07 17:12:40,618 | INFO: opt loose jobs to do: 30\n",
      "2023-07-07 17:12:42,579 | INFO: finished jobs. Took 1.9598200991749763s\n",
      "Iter 13\n",
      "2023-07-07 17:12:42,819 | INFO: opt loose jobs to do: 51\n",
      "2023-07-07 17:12:44,873 | ERROR: Runtime Errors Encountered in job 9, attempting to solve\n",
      "2023-07-07 17:12:44,926 | ERROR: Runtime Errors Encountered in job 42, attempting to solve\n",
      "2023-07-07 17:12:50,868 | INFO: finished jobs. Took 8.04794841632247s\n",
      "Iter 14\n",
      "2023-07-07 17:12:51,418 | INFO: opt loose jobs to do: 36\n",
      "2023-07-07 17:12:54,721 | INFO: finished jobs. Took 3.3020212426781654s\n",
      "Iter 15\n",
      "2023-07-07 17:12:55,078 | INFO: opt loose jobs to do: 75\n",
      "2023-07-07 17:13:02,600 | INFO: finished jobs. Took 7.521308721974492s\n",
      "Iter 16\n",
      "2023-07-07 17:13:03,487 | INFO: opt loose jobs to do: 54\n",
      "2023-07-07 17:13:07,278 | INFO: finished jobs. Took 3.7899324893951416s\n",
      "Iter 17\n",
      "2023-07-07 17:13:07,725 | INFO: opt loose jobs to do: 36\n",
      "2023-07-07 17:13:13,327 | INFO: finished jobs. Took 5.601528758183122s\n",
      "Iter 18\n",
      "2023-07-07 17:13:13,726 | INFO: opt loose jobs to do: 54\n",
      "2023-07-07 17:13:17,179 | INFO: finished jobs. Took 3.452475955709815s\n",
      "Iter 19\n",
      "2023-07-07 17:13:17,625 | INFO: opt loose jobs to do: 57\n",
      "2023-07-07 17:13:22,639 | INFO: finished jobs. Took 5.013339849188924s\n",
      "Iter 20\n",
      "2023-07-07 17:13:23,091 | INFO: opt loose jobs to do: 39\n",
      "2023-07-07 17:13:30,152 | INFO: finished jobs. Took 7.060465795919299s\n",
      "Iter 21\n",
      "2023-07-07 17:13:30,578 | INFO: opt loose jobs to do: 57\n",
      "2023-07-07 17:13:36,966 | INFO: finished jobs. Took 6.3876810278743505s\n",
      "Iter 22\n",
      "2023-07-07 17:13:37,638 | INFO: opt loose jobs to do: 48\n",
      "2023-07-07 17:13:45,694 | INFO: finished jobs. Took 8.05563948303461s\n",
      "Iter 23\n",
      "2023-07-07 17:13:46,243 | INFO: opt loose jobs to do: 69\n",
      "2023-07-07 17:13:54,598 | INFO: finished jobs. Took 8.354343777522445s\n",
      "Iter 24\n",
      "2023-07-07 17:13:55,332 | INFO: opt loose jobs to do: 24\n",
      "2023-07-07 17:13:59,096 | INFO: finished jobs. Took 3.7631640061736107s\n",
      "Iter 25\n",
      "2023-07-07 17:13:59,670 | INFO: opt loose jobs to do: 57\n",
      "2023-07-07 17:14:06,280 | INFO: finished jobs. Took 6.610008671879768s\n",
      "Iter 26\n",
      "2023-07-07 17:14:06,933 | INFO: opt loose jobs to do: 51\n",
      "2023-07-07 17:14:12,759 | INFO: finished jobs. Took 5.824329383671284s\n",
      "Iter 27\n",
      "2023-07-07 17:14:13,328 | INFO: opt loose jobs to do: 57\n",
      "2023-07-07 17:14:17,312 | INFO: finished jobs. Took 3.98348755389452s\n",
      "Iter 28\n",
      "2023-07-07 17:14:17,885 | INFO: opt loose jobs to do: 66\n",
      "2023-07-07 17:14:25,238 | INFO: finished jobs. Took 7.351855328306556s\n",
      "Iter 29\n",
      "2023-07-07 17:14:26,024 | INFO: opt loose jobs to do: 36\n",
      "2023-07-07 17:14:30,832 | INFO: finished jobs. Took 4.807459799572825s\n",
      "Iter 30\n",
      "2023-07-07 17:14:31,274 | INFO: opt loose jobs to do: 60\n",
      "2023-07-07 17:14:38,167 | INFO: finished jobs. Took 6.892404580488801s\n",
      "Iter 31\n",
      "2023-07-07 17:14:38,777 | INFO: opt loose jobs to do: 15\n",
      "2023-07-07 17:14:39,723 | INFO: finished jobs. Took 0.9452340789139271s\n"
     ]
    }
   ],
   "source": [
    "systems = []\n",
    "for j, sub in enumerate(subs):\n",
    "    print(f'Iter {j}')\n",
    "    systems.append([sub, *build_and_relax_configurations(sub, sub.info['equivalent_atoms'])])"
   ]
  },
  {
   "cell_type": "code",
   "execution_count": 140,
   "id": "3c44d0b9",
   "metadata": {},
   "outputs": [
    {
     "name": "stdout",
     "output_type": "stream",
     "text": [
      "2023-07-07 17:35:08,478 | INFO: thermodynamic (ZPE-TS) jobs to do: 32\n",
      "2023-07-07 17:36:12,961 | INFO: finished jobs. Took 64.48202386312187s\n"
     ]
    }
   ],
   "source": [
    "props, errors_props = multi_get_thermodynamics(systems)\n",
    "ips = [s.info['ip'] for s in subs]"
   ]
  },
  {
   "cell_type": "markdown",
   "id": "fa71b24d",
   "metadata": {},
   "source": [
    "Parallel (11.3 sec / mol)"
   ]
  },
  {
   "cell_type": "code",
   "execution_count": 45,
   "id": "7e41a643",
   "metadata": {},
   "outputs": [
    {
     "name": "stdout",
     "output_type": "stream",
     "text": [
      "2023-07-07 15:49:58,391 | INFO: substrate preparation jobs to do: 32\n"
     ]
    },
    {
     "name": "stdout",
     "output_type": "stream",
     "text": [
      "2023-07-07 15:50:30,780 | INFO: finished jobs. Took 32.38809180445969s\n",
      "Iter 0\n",
      "2023-07-07 15:50:30,893 | INFO: opt loose jobs to do: 63\n",
      "2023-07-07 15:50:36,990 | INFO: finished jobs. Took 6.095933273434639s\n",
      "Iter 1\n",
      "2023-07-07 15:50:37,712 | INFO: opt loose jobs to do: 90\n",
      "2023-07-07 15:50:48,324 | INFO: finished jobs. Took 10.610614048317075s\n",
      "Iter 2\n",
      "2023-07-07 15:50:49,312 | INFO: opt loose jobs to do: 87\n",
      "2023-07-07 15:51:03,608 | INFO: finished jobs. Took 14.294472532346845s\n",
      "Iter 3\n",
      "2023-07-07 15:51:04,629 | INFO: opt loose jobs to do: 51\n",
      "2023-07-07 15:51:10,897 | INFO: finished jobs. Took 6.267387503758073s\n",
      "Iter 4\n",
      "2023-07-07 15:51:11,495 | INFO: opt loose jobs to do: 72\n",
      "2023-07-07 15:51:21,429 | INFO: finished jobs. Took 9.93282175809145s\n",
      "Iter 5\n",
      "2023-07-07 15:51:22,262 | INFO: opt loose jobs to do: 66\n",
      "2023-07-07 15:51:27,232 | INFO: finished jobs. Took 4.968763083219528s\n",
      "Iter 6\n",
      "2023-07-07 15:51:27,835 | INFO: opt loose jobs to do: 63\n",
      "2023-07-07 15:51:37,956 | INFO: finished jobs. Took 10.120690962299705s\n",
      "Iter 7\n",
      "2023-07-07 15:51:38,770 | INFO: opt loose jobs to do: 60\n",
      "2023-07-07 15:51:47,898 | INFO: finished jobs. Took 9.126612382009625s\n",
      "Iter 8\n",
      "2023-07-07 15:51:48,511 | INFO: opt loose jobs to do: 51\n",
      "2023-07-07 15:51:52,194 | INFO: finished jobs. Took 3.682382309809327s\n",
      "Iter 9\n",
      "2023-07-07 15:51:52,593 | INFO: opt loose jobs to do: 33\n",
      "2023-07-07 15:51:57,412 | INFO: finished jobs. Took 4.818197099491954s\n",
      "Iter 10\n",
      "2023-07-07 15:51:57,849 | INFO: opt loose jobs to do: 51\n",
      "2023-07-07 15:52:06,133 | INFO: finished jobs. Took 8.283319920301437s\n",
      "Iter 11\n",
      "2023-07-07 15:52:06,674 | INFO: opt loose jobs to do: 66\n",
      "2023-07-07 15:52:15,277 | INFO: finished jobs. Took 8.601921685039997s\n",
      "Iter 12\n",
      "2023-07-07 15:52:16,019 | INFO: opt loose jobs to do: 36\n",
      "2023-07-07 15:52:21,458 | INFO: finished jobs. Took 5.4382503647357225s\n",
      "Iter 13\n",
      "2023-07-07 15:52:21,886 | INFO: opt loose jobs to do: 78\n",
      "2023-07-07 15:52:24,877 | ERROR: Runtime Errors Encountered in job 25, attempting to solve\n",
      "2023-07-07 15:52:30,698 | INFO: finished jobs. Took 8.8118548206985s\n",
      "Iter 14\n",
      "2023-07-07 15:52:31,709 | INFO: opt loose jobs to do: 54\n",
      "2023-07-07 15:52:36,513 | INFO: finished jobs. Took 4.803911380469799s\n",
      "Iter 15\n",
      "2023-07-07 15:52:37,033 | INFO: opt loose jobs to do: 51\n",
      "2023-07-07 15:52:42,723 | INFO: finished jobs. Took 5.689525566995144s\n",
      "Iter 16\n",
      "2023-07-07 15:52:43,328 | INFO: opt loose jobs to do: 66\n",
      "2023-07-07 15:52:49,092 | INFO: finished jobs. Took 5.763357829302549s\n",
      "Iter 17\n",
      "2023-07-07 15:52:49,777 | INFO: opt loose jobs to do: 75\n",
      "2023-07-07 15:52:58,149 | INFO: finished jobs. Took 8.370583830401301s\n",
      "Iter 18\n",
      "2023-07-07 15:52:58,924 | INFO: opt loose jobs to do: 54\n",
      "2023-07-07 15:53:05,271 | INFO: finished jobs. Took 6.345176177099347s\n",
      "Iter 19\n",
      "2023-07-07 15:53:05,863 | INFO: opt loose jobs to do: 69\n",
      "2023-07-07 15:53:13,859 | INFO: finished jobs. Took 7.995244013145566s\n",
      "Iter 20\n",
      "2023-07-07 15:53:14,576 | INFO: opt loose jobs to do: 36\n",
      "2023-07-07 15:53:20,688 | INFO: finished jobs. Took 6.111211039125919s\n",
      "Iter 21\n",
      "2023-07-07 15:53:21,102 | INFO: opt loose jobs to do: 48\n",
      "2023-07-07 15:53:25,515 | INFO: finished jobs. Took 4.412640864029527s\n",
      "Iter 22\n",
      "2023-07-07 15:53:25,917 | INFO: opt loose jobs to do: 69\n",
      "2023-07-07 15:53:34,292 | INFO: finished jobs. Took 8.373869739472866s\n",
      "Iter 23\n",
      "2023-07-07 15:53:35,068 | INFO: opt loose jobs to do: 60\n",
      "2023-07-07 15:53:42,028 | INFO: finished jobs. Took 6.959423445165157s\n",
      "Iter 24\n",
      "2023-07-07 15:53:42,675 | INFO: opt loose jobs to do: 33\n",
      "2023-07-07 15:53:47,383 | INFO: finished jobs. Took 4.707478355616331s\n",
      "Iter 25\n",
      "2023-07-07 15:53:47,735 | INFO: opt loose jobs to do: 54\n",
      "2023-07-07 15:53:53,741 | INFO: finished jobs. Took 6.005544230341911s\n",
      "Iter 26\n",
      "2023-07-07 15:53:54,352 | INFO: opt loose jobs to do: 48\n",
      "2023-07-07 15:54:01,470 | INFO: finished jobs. Took 7.117049427703023s\n",
      "Iter 27\n",
      "2023-07-07 15:54:02,015 | INFO: opt loose jobs to do: 57\n",
      "2023-07-07 15:54:06,486 | INFO: finished jobs. Took 4.469823943451047s\n",
      "Iter 28\n",
      "2023-07-07 15:54:07,034 | INFO: opt loose jobs to do: 84\n",
      "2023-07-07 15:54:18,072 | INFO: finished jobs. Took 11.038003101944923s\n",
      "Iter 29\n",
      "2023-07-07 15:54:19,075 | INFO: opt loose jobs to do: 45\n",
      "2023-07-07 15:54:24,291 | INFO: finished jobs. Took 5.214840425178409s\n",
      "Iter 30\n",
      "2023-07-07 15:54:24,854 | INFO: opt loose jobs to do: 60\n",
      "2023-07-07 15:54:36,741 | INFO: finished jobs. Took 11.886190745979548s\n",
      "Iter 31\n",
      "2023-07-07 15:54:37,463 | INFO: opt loose jobs to do: 57\n",
      "2023-07-07 15:54:44,751 | INFO: finished jobs. Took 7.2873491160571575s\n",
      "2023-07-07 15:54:45,346 | INFO: thermodynamic (ZPE-TS) jobs to do: 32\n",
      "2023-07-07 15:55:59,570 | INFO: finished jobs. Took 74.22291802428663s\n",
      "Took: 361.1821301076561\n"
     ]
    }
   ],
   "source": [
    "start = time.perf_counter()\n",
    "subs, errors = multi_prepare_substrate(smile_strings, calc_kwargs=calc_params)\n",
    "\n",
    "systems = []\n",
    "for j, sub in enumerate(subs):\n",
    "    print(f'Iter {j}')\n",
    "    systems.append([sub, *build_and_relax_configurations(sub, sub.info['equivalent_atoms'])])\n",
    "\n",
    "props, errors_props = multi_get_thermodynamics(systems)\n",
    "ips = [s.info['ip'] for s in subs]\n",
    "print('Took:', time.perf_counter() - start)"
   ]
  },
  {
   "cell_type": "markdown",
   "id": "ec0ae024",
   "metadata": {},
   "source": [
    "Serial (19.7 sec / mol)"
   ]
  },
  {
   "cell_type": "code",
   "execution_count": 47,
   "id": "19b59d11",
   "metadata": {},
   "outputs": [
    {
     "name": "stdout",
     "output_type": "stream",
     "text": [
      "Iter 0\n",
      "2023-07-07 15:56:50,345 | INFO: Preparing substrate\n"
     ]
    },
    {
     "name": "stdout",
     "output_type": "stream",
     "text": [
      "2023-07-07 15:56:56,589 | INFO: Building and relaxing configurations\n",
      "2023-07-07 15:56:56,674 | INFO: opt loose jobs to do: 63\n",
      "2023-07-07 15:57:02,828 | INFO: finished jobs. Took 6.154026620090008s\n",
      "2023-07-07 15:57:03,414 | INFO: Calculating thermochemical properties\n",
      "2023-07-07 15:57:03,416 | INFO: ohess vtight jobs to do: 3\n",
      "2023-07-07 15:57:08,611 | INFO: finished jobs. Took 5.193651609122753s\n",
      "2023-07-07 15:57:08,614 | INFO: Evaluation Took 18.267553383484483s\n",
      "Iter 1\n",
      "2023-07-07 15:57:08,616 | INFO: Preparing substrate\n",
      "2023-07-07 15:57:17,372 | INFO: Building and relaxing configurations\n",
      "2023-07-07 15:57:17,461 | INFO: opt loose jobs to do: 90\n",
      "2023-07-07 15:57:22,920 | ERROR: Runtime Errors Encountered in job 89, attempting to solve\n",
      "2023-07-07 15:57:28,108 | INFO: finished jobs. Took 10.645942199975252s\n",
      "2023-07-07 15:57:29,028 | INFO: Calculating thermochemical properties\n",
      "2023-07-07 15:57:29,029 | INFO: ohess vtight jobs to do: 3\n",
      "2023-07-07 15:57:34,766 | INFO: finished jobs. Took 5.736090177670121s\n",
      "2023-07-07 15:57:34,769 | INFO: Evaluation Took 26.151916736736894s\n",
      "Iter 2\n",
      "2023-07-07 15:57:34,771 | INFO: Preparing substrate\n",
      "2023-07-07 15:57:45,375 | INFO: Building and relaxing configurations\n",
      "2023-07-07 15:57:45,458 | INFO: opt loose jobs to do: 87\n",
      "2023-07-07 15:58:00,519 | INFO: finished jobs. Took 15.060755161568522s\n",
      "2023-07-07 15:58:01,536 | INFO: Calculating thermochemical properties\n",
      "2023-07-07 15:58:01,539 | INFO: ohess vtight jobs to do: 3\n",
      "2023-07-07 15:58:10,875 | INFO: finished jobs. Took 9.334743613377213s\n",
      "2023-07-07 15:58:10,877 | INFO: Evaluation Took 36.105103904381394s\n",
      "Iter 3\n",
      "2023-07-07 15:58:10,880 | INFO: Preparing substrate\n",
      "2023-07-07 15:58:23,240 | INFO: Building and relaxing configurations\n",
      "2023-07-07 15:58:23,285 | INFO: opt loose jobs to do: 51\n",
      "2023-07-07 15:58:29,654 | INFO: finished jobs. Took 6.368239184841514s\n",
      "2023-07-07 15:58:30,162 | INFO: Calculating thermochemical properties\n",
      "2023-07-07 15:58:30,163 | INFO: ohess vtight jobs to do: 3\n",
      "2023-07-07 15:58:35,807 | INFO: finished jobs. Took 5.6437321454286575s\n",
      "2023-07-07 15:58:35,810 | INFO: Evaluation Took 24.92866531200707s\n",
      "Iter 4\n",
      "2023-07-07 15:58:35,812 | INFO: Preparing substrate\n",
      "2023-07-07 15:58:42,077 | INFO: Building and relaxing configurations\n",
      "2023-07-07 15:58:42,195 | INFO: opt loose jobs to do: 72\n",
      "2023-07-07 15:58:51,735 | INFO: finished jobs. Took 9.538544412702322s\n",
      "2023-07-07 15:58:52,466 | INFO: Calculating thermochemical properties\n",
      "2023-07-07 15:58:52,467 | INFO: ohess vtight jobs to do: 3\n",
      "2023-07-07 15:58:57,230 | INFO: finished jobs. Took 4.762629225850105s\n",
      "2023-07-07 15:58:57,233 | INFO: Evaluation Took 21.42093705199659s\n",
      "Iter 5\n",
      "2023-07-07 15:58:57,236 | INFO: Preparing substrate\n",
      "2023-07-07 15:58:59,725 | INFO: Building and relaxing configurations\n",
      "2023-07-07 15:58:59,826 | INFO: opt loose jobs to do: 66\n",
      "2023-07-07 15:59:04,821 | INFO: finished jobs. Took 4.993032047525048s\n",
      "2023-07-07 15:59:05,306 | INFO: Calculating thermochemical properties\n",
      "2023-07-07 15:59:05,307 | INFO: ohess vtight jobs to do: 3\n",
      "2023-07-07 15:59:07,800 | INFO: finished jobs. Took 2.4926427882164717s\n",
      "Substrate likely suitable for water oxidation\n",
      "Driving Potential (V) 2.2464999999999993 > Rate Determining Potential (V) 2.170736168807281\n",
      "2023-07-07 15:59:07,803 | INFO: Evaluation Took 10.566428331658244s\n",
      "Iter 6\n",
      "2023-07-07 15:59:07,805 | INFO: Preparing substrate\n",
      "2023-07-07 15:59:14,683 | INFO: Building and relaxing configurations\n",
      "2023-07-07 15:59:14,840 | INFO: opt loose jobs to do: 63\n",
      "2023-07-07 15:59:17,478 | ERROR: Runtime Errors Encountered in job 20, attempting to solve\n",
      "2023-07-07 15:59:18,163 | ERROR: Runtime Errors Encountered in job 41, attempting to solve\n",
      "2023-07-07 15:59:24,398 | INFO: finished jobs. Took 9.557429434731603s\n",
      "2023-07-07 15:59:25,072 | INFO: Calculating thermochemical properties\n",
      "2023-07-07 15:59:25,072 | INFO: ohess vtight jobs to do: 3\n",
      "2023-07-07 15:59:35,868 | INFO: finished jobs. Took 10.794544044882059s\n",
      "2023-07-07 15:59:35,870 | INFO: Evaluation Took 28.064031019806862s\n",
      "Iter 7\n",
      "2023-07-07 15:59:35,873 | INFO: Preparing substrate\n",
      "2023-07-07 15:59:43,816 | INFO: Building and relaxing configurations\n",
      "2023-07-07 15:59:43,914 | INFO: opt loose jobs to do: 57\n",
      "2023-07-07 15:59:52,863 | INFO: finished jobs. Took 8.948276951909065s\n",
      "2023-07-07 15:59:53,410 | INFO: Calculating thermochemical properties\n",
      "2023-07-07 15:59:53,411 | INFO: ohess vtight jobs to do: 3\n",
      "2023-07-07 15:59:57,818 | INFO: finished jobs. Took 4.406736360862851s\n",
      "2023-07-07 15:59:57,821 | INFO: Evaluation Took 21.947562163695693s\n",
      "Iter 8\n",
      "2023-07-07 15:59:57,823 | INFO: Preparing substrate\n",
      "2023-07-07 16:00:00,308 | INFO: Building and relaxing configurations\n",
      "2023-07-07 16:00:00,364 | INFO: opt loose jobs to do: 51\n",
      "2023-07-07 16:00:04,101 | INFO: finished jobs. Took 3.736485380679369s\n",
      "2023-07-07 16:00:04,482 | INFO: Calculating thermochemical properties\n",
      "2023-07-07 16:00:04,483 | INFO: ohess vtight jobs to do: 3\n",
      "2023-07-07 16:00:06,684 | INFO: finished jobs. Took 2.200289525091648s\n",
      "2023-07-07 16:00:06,686 | INFO: Evaluation Took 8.861574612557888s\n",
      "Iter 9\n",
      "2023-07-07 16:00:06,688 | INFO: Preparing substrate\n",
      "2023-07-07 16:00:12,571 | INFO: Building and relaxing configurations\n",
      "2023-07-07 16:00:12,619 | INFO: opt loose jobs to do: 33\n",
      "2023-07-07 16:00:17,256 | INFO: finished jobs. Took 4.63565525598824s\n",
      "2023-07-07 16:00:17,574 | INFO: Calculating thermochemical properties\n",
      "2023-07-07 16:00:17,575 | INFO: ohess vtight jobs to do: 3\n",
      "2023-07-07 16:00:22,245 | INFO: finished jobs. Took 4.66910133138299s\n",
      "2023-07-07 16:00:22,247 | INFO: Evaluation Took 15.558567829430103s\n",
      "Iter 10\n",
      "2023-07-07 16:00:22,249 | INFO: Preparing substrate\n",
      "2023-07-07 16:00:29,660 | INFO: Building and relaxing configurations\n",
      "2023-07-07 16:00:29,853 | INFO: opt loose jobs to do: 72\n",
      "2023-07-07 16:00:38,027 | INFO: finished jobs. Took 8.17330701649189s\n",
      "2023-07-07 16:00:38,756 | INFO: Calculating thermochemical properties\n",
      "2023-07-07 16:00:38,758 | INFO: ohess vtight jobs to do: 3\n",
      "2023-07-07 16:00:43,044 | INFO: finished jobs. Took 4.284788183867931s\n",
      "2023-07-07 16:00:43,046 | INFO: Evaluation Took 20.795625841245055s\n",
      "Iter 11\n",
      "2023-07-07 16:00:43,048 | INFO: Preparing substrate\n",
      "2023-07-07 16:00:56,390 | INFO: Building and relaxing configurations\n",
      "2023-07-07 16:00:56,469 | INFO: opt loose jobs to do: 66\n",
      "2023-07-07 16:01:04,727 | INFO: finished jobs. Took 8.256745055317879s\n",
      "2023-07-07 16:01:05,474 | INFO: Calculating thermochemical properties\n",
      "2023-07-07 16:01:05,477 | INFO: ohess vtight jobs to do: 3\n",
      "2023-07-07 16:01:13,234 | INFO: finished jobs. Took 7.756535325199366s\n",
      "2023-07-07 16:01:13,237 | INFO: Evaluation Took 30.187578067183495s\n",
      "Iter 12\n",
      "2023-07-07 16:01:13,239 | INFO: Preparing substrate\n",
      "2023-07-07 16:01:20,258 | INFO: Building and relaxing configurations\n",
      "2023-07-07 16:01:20,314 | INFO: opt loose jobs to do: 36\n",
      "2023-07-07 16:01:25,062 | INFO: finished jobs. Took 4.746522556990385s\n",
      "2023-07-07 16:01:25,452 | INFO: Calculating thermochemical properties\n",
      "2023-07-07 16:01:25,453 | INFO: ohess vtight jobs to do: 3\n",
      "2023-07-07 16:01:30,840 | INFO: finished jobs. Took 5.386029189452529s\n",
      "2023-07-07 16:01:30,844 | INFO: Evaluation Took 17.603797741234303s\n",
      "Iter 13\n",
      "2023-07-07 16:01:30,846 | INFO: Preparing substrate\n",
      "2023-07-07 16:01:36,879 | INFO: Building and relaxing configurations\n",
      "2023-07-07 16:01:36,982 | INFO: opt loose jobs to do: 78\n",
      "2023-07-07 16:01:44,552 | INFO: finished jobs. Took 7.569175595417619s\n",
      "2023-07-07 16:01:45,340 | INFO: Calculating thermochemical properties\n",
      "2023-07-07 16:01:45,342 | INFO: ohess vtight jobs to do: 3\n",
      "2023-07-07 16:01:50,654 | INFO: finished jobs. Took 5.311853479593992s\n",
      "2023-07-07 16:01:50,657 | INFO: Evaluation Took 19.809907419607043s\n",
      "Iter 14\n",
      "2023-07-07 16:01:50,659 | INFO: Preparing substrate\n",
      "2023-07-07 16:01:54,743 | INFO: Building and relaxing configurations\n",
      "2023-07-07 16:01:54,986 | INFO: opt loose jobs to do: 54\n",
      "2023-07-07 16:01:59,662 | INFO: finished jobs. Took 4.674008760601282s\n",
      "2023-07-07 16:02:00,143 | INFO: Calculating thermochemical properties\n",
      "2023-07-07 16:02:00,144 | INFO: ohess vtight jobs to do: 3\n",
      "2023-07-07 16:02:04,037 | INFO: finished jobs. Took 3.892530607059598s\n",
      "2023-07-07 16:02:04,039 | INFO: Evaluation Took 13.379212200641632s\n",
      "Iter 15\n",
      "2023-07-07 16:02:04,041 | INFO: Preparing substrate\n",
      "2023-07-07 16:02:09,447 | INFO: Building and relaxing configurations\n",
      "2023-07-07 16:02:09,504 | INFO: opt loose jobs to do: 51\n",
      "2023-07-07 16:02:15,040 | INFO: finished jobs. Took 5.535059776157141s\n",
      "2023-07-07 16:02:15,543 | INFO: Calculating thermochemical properties\n",
      "2023-07-07 16:02:15,544 | INFO: ohess vtight jobs to do: 3\n",
      "2023-07-07 16:02:21,210 | INFO: finished jobs. Took 5.665335094556212s\n",
      "2023-07-07 16:02:21,212 | INFO: Evaluation Took 17.17009899020195s\n",
      "Iter 16\n",
      "2023-07-07 16:02:21,214 | INFO: Preparing substrate\n",
      "2023-07-07 16:02:25,369 | INFO: Building and relaxing configurations\n",
      "2023-07-07 16:02:25,687 | INFO: opt loose jobs to do: 66\n",
      "2023-07-07 16:02:31,338 | INFO: finished jobs. Took 5.649870619177818s\n",
      "2023-07-07 16:02:31,931 | INFO: Calculating thermochemical properties\n",
      "2023-07-07 16:02:31,932 | INFO: ohess vtight jobs to do: 3\n",
      "2023-07-07 16:02:35,255 | INFO: finished jobs. Took 3.3227910567075014s\n",
      "2023-07-07 16:02:35,258 | INFO: Evaluation Took 14.043099164962769s\n",
      "Iter 17\n",
      "2023-07-07 16:02:35,260 | INFO: Preparing substrate\n",
      "2023-07-07 16:02:41,229 | INFO: Building and relaxing configurations\n",
      "2023-07-07 16:02:41,379 | INFO: opt loose jobs to do: 75\n",
      "2023-07-07 16:02:49,575 | INFO: finished jobs. Took 8.1954844892025s\n",
      "2023-07-07 16:02:50,295 | INFO: Calculating thermochemical properties\n",
      "2023-07-07 16:02:50,296 | INFO: ohess vtight jobs to do: 3\n",
      "2023-07-07 16:02:56,821 | INFO: finished jobs. Took 6.523997023701668s\n",
      "2023-07-07 16:02:56,824 | INFO: Evaluation Took 21.56279374472797s\n",
      "Iter 18\n",
      "2023-07-07 16:02:56,826 | INFO: Preparing substrate\n",
      "2023-07-07 16:03:02,606 | INFO: Building and relaxing configurations\n",
      "2023-07-07 16:03:02,672 | INFO: opt loose jobs to do: 60\n",
      "2023-07-07 16:03:10,436 | INFO: finished jobs. Took 7.7632613517344s\n",
      "2023-07-07 16:03:11,027 | INFO: Calculating thermochemical properties\n",
      "2023-07-07 16:03:11,028 | INFO: ohess vtight jobs to do: 3\n",
      "2023-07-07 16:03:16,472 | INFO: finished jobs. Took 5.443251067772508s\n",
      "2023-07-07 16:03:16,474 | INFO: Evaluation Took 19.647283997386694s\n",
      "Iter 19\n",
      "2023-07-07 16:03:16,477 | INFO: Preparing substrate\n",
      "2023-07-07 16:03:22,612 | INFO: Building and relaxing configurations\n",
      "2023-07-07 16:03:22,693 | INFO: opt loose jobs to do: 69\n",
      "2023-07-07 16:03:30,142 | INFO: finished jobs. Took 7.447491796687245s\n",
      "2023-07-07 16:03:30,821 | INFO: Calculating thermochemical properties\n",
      "2023-07-07 16:03:30,822 | INFO: ohess vtight jobs to do: 3\n",
      "2023-07-07 16:03:35,401 | INFO: finished jobs. Took 4.5784359611570835s\n",
      "2023-07-07 16:03:35,404 | INFO: Evaluation Took 18.926152056083083s\n",
      "Iter 20\n",
      "2023-07-07 16:03:35,406 | INFO: Preparing substrate\n",
      "2023-07-07 16:03:41,463 | INFO: Building and relaxing configurations\n",
      "2023-07-07 16:03:41,515 | INFO: opt loose jobs to do: 36\n",
      "2023-07-07 16:03:47,139 | INFO: finished jobs. Took 5.622666738927364s\n",
      "2023-07-07 16:03:47,504 | INFO: Calculating thermochemical properties\n",
      "2023-07-07 16:03:47,505 | INFO: ohess vtight jobs to do: 3\n",
      "2023-07-07 16:03:52,017 | INFO: finished jobs. Took 4.511579452082515s\n",
      "2023-07-07 16:03:52,020 | INFO: Evaluation Took 16.612786397337914s\n",
      "Iter 21\n",
      "2023-07-07 16:03:52,022 | INFO: Preparing substrate\n",
      "2023-07-07 16:03:54,316 | INFO: Building and relaxing configurations\n",
      "2023-07-07 16:03:54,393 | INFO: opt loose jobs to do: 48\n",
      "2023-07-07 16:03:57,933 | INFO: finished jobs. Took 3.5388337783515453s\n",
      "2023-07-07 16:03:58,290 | INFO: Calculating thermochemical properties\n",
      "2023-07-07 16:03:58,291 | INFO: ohess vtight jobs to do: 3\n",
      "2023-07-07 16:04:00,920 | INFO: finished jobs. Took 2.6283625438809395s\n",
      "2023-07-07 16:04:00,923 | INFO: Evaluation Took 8.899752287194133s\n",
      "Iter 22\n",
      "2023-07-07 16:04:00,925 | INFO: Preparing substrate\n",
      "2023-07-07 16:04:07,490 | INFO: Building and relaxing configurations\n",
      "2023-07-07 16:04:07,558 | INFO: opt loose jobs to do: 69\n",
      "2023-07-07 16:04:17,016 | INFO: finished jobs. Took 9.45731278322637s\n",
      "2023-07-07 16:04:17,710 | INFO: Calculating thermochemical properties\n",
      "2023-07-07 16:04:17,711 | INFO: ohess vtight jobs to do: 3\n",
      "2023-07-07 16:04:23,085 | INFO: finished jobs. Took 5.373706538230181s\n",
      "2023-07-07 16:04:23,087 | INFO: Evaluation Took 22.161784568801522s\n",
      "Iter 23\n",
      "2023-07-07 16:04:23,090 | INFO: Preparing substrate\n",
      "2023-07-07 16:04:28,246 | INFO: Building and relaxing configurations\n",
      "2023-07-07 16:04:28,345 | INFO: opt loose jobs to do: 60\n",
      "2023-07-07 16:04:35,208 | INFO: finished jobs. Took 6.86238919198513s\n",
      "2023-07-07 16:04:35,806 | INFO: Calculating thermochemical properties\n",
      "2023-07-07 16:04:35,807 | INFO: ohess vtight jobs to do: 3\n",
      "2023-07-07 16:04:40,152 | INFO: finished jobs. Took 4.344335896894336s\n",
      "2023-07-07 16:04:40,155 | INFO: Evaluation Took 17.063940096646547s\n",
      "Iter 24\n",
      "2023-07-07 16:04:40,157 | INFO: Preparing substrate\n",
      "2023-07-07 16:04:45,704 | INFO: Building and relaxing configurations\n",
      "2023-07-07 16:04:45,761 | INFO: opt loose jobs to do: 33\n",
      "2023-07-07 16:04:51,245 | INFO: finished jobs. Took 5.483682120218873s\n",
      "2023-07-07 16:04:51,547 | INFO: Calculating thermochemical properties\n",
      "2023-07-07 16:04:51,548 | INFO: ohess vtight jobs to do: 3\n",
      "2023-07-07 16:04:55,195 | INFO: finished jobs. Took 3.645848197862506s\n",
      "2023-07-07 16:04:55,198 | INFO: Evaluation Took 15.039876336231828s\n",
      "Iter 25\n",
      "2023-07-07 16:04:55,200 | INFO: Preparing substrate\n",
      "2023-07-07 16:05:06,706 | INFO: Building and relaxing configurations\n",
      "2023-07-07 16:05:06,762 | INFO: opt loose jobs to do: 54\n",
      "2023-07-07 16:05:13,971 | INFO: finished jobs. Took 7.208727143704891s\n",
      "2023-07-07 16:05:14,533 | INFO: Calculating thermochemical properties\n",
      "2023-07-07 16:05:14,534 | INFO: ohess vtight jobs to do: 3\n",
      "2023-07-07 16:05:24,131 | INFO: finished jobs. Took 9.596665803343058s\n",
      "2023-07-07 16:05:24,134 | INFO: Evaluation Took 28.933138402178884s\n",
      "Iter 26\n",
      "2023-07-07 16:05:24,136 | INFO: Preparing substrate\n",
      "2023-07-07 16:05:30,742 | INFO: Building and relaxing configurations\n",
      "2023-07-07 16:05:30,796 | INFO: opt loose jobs to do: 48\n",
      "2023-07-07 16:05:37,568 | INFO: finished jobs. Took 6.7711617816239595s\n",
      "2023-07-07 16:05:38,057 | INFO: Calculating thermochemical properties\n",
      "2023-07-07 16:05:38,057 | INFO: ohess vtight jobs to do: 3\n",
      "2023-07-07 16:05:43,587 | INFO: finished jobs. Took 5.5293950997292995s\n",
      "2023-07-07 16:05:43,590 | INFO: Evaluation Took 19.45253004319966s\n",
      "Iter 27\n",
      "2023-07-07 16:05:43,592 | INFO: Preparing substrate\n",
      "2023-07-07 16:05:46,385 | INFO: Building and relaxing configurations\n",
      "2023-07-07 16:05:46,466 | INFO: opt loose jobs to do: 57\n",
      "2023-07-07 16:05:50,329 | INFO: finished jobs. Took 3.8625077549368143s\n",
      "2023-07-07 16:05:50,786 | INFO: Calculating thermochemical properties\n",
      "2023-07-07 16:05:50,787 | INFO: ohess vtight jobs to do: 3\n",
      "2023-07-07 16:05:53,567 | INFO: finished jobs. Took 2.779208717867732s\n",
      "2023-07-07 16:05:53,569 | INFO: Evaluation Took 9.975797595456243s\n",
      "Iter 28\n",
      "2023-07-07 16:05:53,571 | INFO: Preparing substrate\n",
      "2023-07-07 16:06:02,414 | INFO: Building and relaxing configurations\n",
      "2023-07-07 16:06:02,535 | INFO: opt loose jobs to do: 84\n",
      "2023-07-07 16:06:13,375 | INFO: finished jobs. Took 10.838836258277297s\n",
      "2023-07-07 16:06:14,360 | INFO: Calculating thermochemical properties\n",
      "2023-07-07 16:06:14,363 | INFO: ohess vtight jobs to do: 3\n",
      "2023-07-07 16:06:22,417 | INFO: finished jobs. Took 8.053236711770296s\n",
      "2023-07-07 16:06:22,420 | INFO: Evaluation Took 28.847277777269483s\n",
      "Iter 29\n",
      "2023-07-07 16:06:22,422 | INFO: Preparing substrate\n",
      "2023-07-07 16:06:26,636 | INFO: Building and relaxing configurations\n",
      "2023-07-07 16:06:26,681 | INFO: opt loose jobs to do: 48\n",
      "2023-07-07 16:06:31,593 | INFO: finished jobs. Took 4.911216313019395s\n",
      "2023-07-07 16:06:32,051 | INFO: Calculating thermochemical properties\n",
      "2023-07-07 16:06:32,053 | INFO: ohess vtight jobs to do: 3\n",
      "2023-07-07 16:06:35,625 | INFO: finished jobs. Took 3.5706667974591255s\n",
      "2023-07-07 16:06:35,627 | INFO: Evaluation Took 13.203983549028635s\n",
      "Iter 30\n",
      "2023-07-07 16:06:35,630 | INFO: Preparing substrate\n",
      "2023-07-07 16:06:44,951 | INFO: Building and relaxing configurations\n",
      "2023-07-07 16:06:45,019 | INFO: opt loose jobs to do: 66\n",
      "2023-07-07 16:06:53,954 | INFO: finished jobs. Took 8.93417757563293s\n",
      "2023-07-07 16:06:54,709 | INFO: Calculating thermochemical properties\n",
      "2023-07-07 16:06:54,711 | INFO: ohess vtight jobs to do: 3\n",
      "2023-07-07 16:07:02,922 | INFO: finished jobs. Took 8.209210401400924s\n",
      "2023-07-07 16:07:02,924 | INFO: Evaluation Took 27.293223286047578s\n",
      "Iter 31\n",
      "2023-07-07 16:07:02,926 | INFO: Preparing substrate\n",
      "2023-07-07 16:07:09,118 | INFO: Building and relaxing configurations\n",
      "2023-07-07 16:07:09,161 | INFO: opt loose jobs to do: 57\n",
      "2023-07-07 16:07:16,566 | INFO: finished jobs. Took 7.404774216935039s\n",
      "2023-07-07 16:07:17,158 | INFO: Calculating thermochemical properties\n",
      "2023-07-07 16:07:17,160 | INFO: ohess vtight jobs to do: 3\n",
      "2023-07-07 16:07:21,744 | INFO: finished jobs. Took 4.5825983583927155s\n",
      "2023-07-07 16:07:21,746 | INFO: Evaluation Took 18.81934767588973s\n",
      "Took: 631.4049378372729\n"
     ]
    }
   ],
   "source": [
    "start = time.perf_counter()\n",
    "outs = []\n",
    "for j, s in enumerate(smile_strings):\n",
    "    print(f'Iter {j}')\n",
    "    outs.append(evaluate_substrate(s, calc_params))\n",
    "\n",
    "print('Took:', time.perf_counter() - start)"
   ]
  },
  {
   "attachments": {},
   "cell_type": "markdown",
   "id": "dd24b352",
   "metadata": {},
   "source": [
    "-----"
   ]
  },
  {
   "cell_type": "code",
   "execution_count": null,
   "id": "86979dc4",
   "metadata": {},
   "outputs": [],
   "source": [
    "from photocatalysis.adsorption.tools import prepare_substrate\n",
    "from photocatalysis.thermodynamics.tools import single_run, multi_run\n",
    "from photocatalysis.thermodynamics.constants import dG1_REST, dG2_REST, dG3_REST, dG4_REST, SHE_VACUUM_POTENTIAL"
   ]
  },
  {
   "cell_type": "code",
   "execution_count": null,
   "id": "7490a7b6",
   "metadata": {},
   "outputs": [],
   "source": [
    "# from photocatalysis.adsorption.tools import build_configurations, get_adsorbate_conformers\n",
    "# from photocatalysis.adsorption.optimal_configurations import filter_configurations_with_symm, filter_configurations"
   ]
  },
  {
   "cell_type": "code",
   "execution_count": null,
   "id": "cc72e984",
   "metadata": {},
   "outputs": [],
   "source": [
    "def free_energy_multidim(Gs, GOH, GO, GOOH, explicitly_broadcast=True):\n",
    "    # Vectorized free energy expressions with numpy broadcasting\n",
    "    # Gs : scalar, G*: arbitrary length numpy array\n",
    "    # (OH_index, O_index, OOH_index)\n",
    "    \n",
    "    g1 = GOH[:, None, None] - Gs + dG1_REST\n",
    "    g2 = GO[None, :, None] - GOH[:, None, None] + dG2_REST\n",
    "    g3 = GOOH[None, None, :] - GO[None, :, None] + dG3_REST\n",
    "    g4 = Gs - GOOH[None, None, :] + dG4_REST\n",
    "    \n",
    "    if explicitly_broadcast:\n",
    "        tot_shape = len(GOH), len(GO), len(GOOH)\n",
    "        g1b, g2b, g3b, g4b = explicitly_broadcast_to(tot_shape, g1, g2, g3, g4)\n",
    "        G = np.moveaxis(np.array((g1b, g2b, g3b, g4b)), 0,3)\n",
    "        return G\n",
    "    else:\n",
    "        return g1, g2, g3, g4\n",
    "\n",
    "def explicitly_broadcast_to(shape, *gs_expres):\n",
    "    # Fillout arrays\n",
    "    out = []\n",
    "    for g in gs_expres:\n",
    "        out.append(np.broadcast_to(g, shape))\n",
    "    return tuple(out)"
   ]
  },
  {
   "cell_type": "code",
   "execution_count": null,
   "id": "9133eb64",
   "metadata": {},
   "outputs": [],
   "source": [
    "def grouped_by_sym(metric, sym_groupings):\n",
    "    metric_grouped = [[metric[i] for i in symgroup] for symgroup in sym_groupings]\n",
    "    return metric_grouped\n",
    "\n",
    "def clean_configs_with_nans(configs):\n",
    "    # Take a list of configs and resort them according to activesite, fill rest with nans...\n",
    "    # makes accessing by acvt site indx easy\n",
    "    d = dict.fromkeys(sub.info['nonH_atoms'], np.nan)\n",
    "    cs = deepcopy(configs)\n",
    "\n",
    "    for config in cs:\n",
    "        actv = config.info['active_site']\n",
    "        d[actv] = config\n",
    "\n",
    "    return list(d.values())"
   ]
  },
  {
   "cell_type": "code",
   "execution_count": null,
   "id": "e329ebe1",
   "metadata": {
    "scrolled": true
   },
   "outputs": [],
   "source": [
    "# Prepare Substrate\n",
    "calc_params = {'gfn':2, 'acc':0.2, 'etemp':298.15, 'strict':'', 'gbsa':'water'}\n",
    "# sub = prepare_substrate(smi, calc_params, multi_process_conf=2, multi_process_sp=4)"
   ]
  },
  {
   "cell_type": "code",
   "execution_count": null,
   "id": "649ada0d",
   "metadata": {},
   "outputs": [],
   "source": [
    "from photocatalysis.conformers import get_conformers_rdkit as get_conformers"
   ]
  },
  {
   "cell_type": "code",
   "execution_count": null,
   "id": "58333e4f",
   "metadata": {},
   "outputs": [],
   "source": [
    "substrate_confs = get_conformers(smi, n_cpu=4, print_output=False)\n",
    "substrate = substrate_confs.pop(0) # Lowest energy conf"
   ]
  },
  {
   "cell_type": "code",
   "execution_count": null,
   "id": "e3203398",
   "metadata": {},
   "outputs": [],
   "source": [
    "# sub = single_run(substrate, runtype='opt', **calc_params)\n",
    "sub = single_run(substrate, runtype='ohess', **calc_params, pop='')"
   ]
  },
  {
   "attachments": {},
   "cell_type": "markdown",
   "id": "cc631dc9",
   "metadata": {},
   "source": [
    "### Walltimes and cputimes"
   ]
  },
  {
   "cell_type": "code",
   "execution_count": null,
   "id": "fe46ad08",
   "metadata": {},
   "outputs": [],
   "source": [
    "swt, sct = sub.info['walltime'], sub.info['cputime']"
   ]
  },
  {
   "cell_type": "code",
   "execution_count": null,
   "id": "1b7cf9c0",
   "metadata": {},
   "outputs": [],
   "source": [
    "wt, ct = [], []\n",
    "cores = [i for i in range(1, 17)]\n",
    "for c in cores:\n",
    "    sub = single_run(substrate, runtype='ohess', **calc_params, pop='', parallel=c)\n",
    "    wt.append(sub.info['walltime'])\n",
    "    ct.append(sub.info['cputime'])"
   ]
  },
  {
   "cell_type": "code",
   "execution_count": null,
   "id": "eadf6094",
   "metadata": {},
   "outputs": [],
   "source": [
    "plt.plot(cores, swt / (np.array(wt) * np.array(cores)))\n",
    "plt.title('Parallel Efficiency')"
   ]
  },
  {
   "cell_type": "code",
   "execution_count": null,
   "id": "6425e5be",
   "metadata": {},
   "outputs": [],
   "source": [
    "plt.plot(cores, np.array(ct)/np.array(wt))\n",
    "plt.plot(cores, cores)\n",
    "plt.title('Speed Up Ratio')"
   ]
  },
  {
   "cell_type": "code",
   "execution_count": null,
   "id": "f52d5b5c",
   "metadata": {},
   "outputs": [],
   "source": [
    "plt.plot(cores, np.array(ct) / np.array(cores))\n",
    "plt.plot(cores, np.array(wt))\n",
    "plt.title('Cputime/core')"
   ]
  },
  {
   "attachments": {},
   "cell_type": "markdown",
   "id": "d37ad835",
   "metadata": {},
   "source": [
    "### Batch vs serial processing"
   ]
  },
  {
   "cell_type": "code",
   "execution_count": null,
   "id": "da0c8e49",
   "metadata": {},
   "outputs": [],
   "source": [
    "import multiprocessing as mp"
   ]
  },
  {
   "cell_type": "code",
   "execution_count": null,
   "id": "f7132b78",
   "metadata": {},
   "outputs": [],
   "source": [
    "from photocatalysis.adsorption.tools import prepare_substrate_batch, prepare_substrate, multi_prepare_substrate\n",
    "from photocatalysis.adsorption.relaxing import build_and_relax_configurations"
   ]
  },
  {
   "cell_type": "code",
   "execution_count": null,
   "id": "10526e4a",
   "metadata": {},
   "outputs": [],
   "source": [
    "from functools import partial\n",
    "from itertools import repeat"
   ]
  },
  {
   "cell_type": "code",
   "execution_count": null,
   "id": "2ef567a2",
   "metadata": {},
   "outputs": [],
   "source": [
    "def get_batches(lst, num_batches):\n",
    "    return [lst[i:i + num_batches] for i in range(0, len(lst), num_batches)]"
   ]
  },
  {
   "cell_type": "code",
   "execution_count": null,
   "id": "a473197e",
   "metadata": {},
   "outputs": [],
   "source": [
    "rand_smi = np.random.randint(0, 315450, size=128)"
   ]
  },
  {
   "cell_type": "code",
   "execution_count": null,
   "id": "b225af47",
   "metadata": {},
   "outputs": [],
   "source": [
    "batches = get_batches(p.molecule_smiles.iloc[rand_smi].tolist(), 24)"
   ]
  },
  {
   "cell_type": "code",
   "execution_count": null,
   "id": "dfe0af18",
   "metadata": {},
   "outputs": [],
   "source": [
    "batches[0]"
   ]
  },
  {
   "cell_type": "code",
   "execution_count": null,
   "id": "c62f83c8",
   "metadata": {},
   "outputs": [],
   "source": [
    "test = prepare_substrate_batch(batches[0], calc_params)"
   ]
  },
  {
   "cell_type": "code",
   "execution_count": null,
   "id": "e4031daa",
   "metadata": {},
   "outputs": [],
   "source": [
    "test2 = multi_prepare_substrate(batches[0], calc_kwargs=calc_params, multi_process=-1)"
   ]
  },
  {
   "cell_type": "code",
   "execution_count": null,
   "id": "9c405c6d",
   "metadata": {},
   "outputs": [],
   "source": [
    "systems = []\n",
    "for t in test2:\n",
    "    oh, o, ooh = build_and_relax_configurations(t, t.info['equivalent_atoms'], optlevel='loose', multi_process=-1, additional_conformers=False)\n",
    "    systems.append([t, oh, o, ooh])"
   ]
  },
  {
   "cell_type": "code",
   "execution_count": null,
   "id": "13e792b9",
   "metadata": {},
   "outputs": [],
   "source": [
    "from photocatalysis.evaluate import multi_calculate_thermochemistry"
   ]
  },
  {
   "cell_type": "code",
   "execution_count": null,
   "id": "16f13909",
   "metadata": {},
   "outputs": [],
   "source": [
    "test3 = multi_calculate_thermochemistry(systems, multi_process=-1)"
   ]
  },
  {
   "cell_type": "code",
   "execution_count": null,
   "id": "ec0eacdb",
   "metadata": {},
   "outputs": [],
   "source": [
    "test3"
   ]
  },
  {
   "attachments": {},
   "cell_type": "markdown",
   "id": "8549f46e",
   "metadata": {},
   "source": [
    "-----"
   ]
  },
  {
   "cell_type": "code",
   "execution_count": null,
   "id": "b22e43a2",
   "metadata": {},
   "outputs": [],
   "source": [
    "substrates = [get_conformers(s, n_cpu=8)[0] for s in p.molecule_smiles.iloc[rand_smi]]"
   ]
  },
  {
   "cell_type": "code",
   "execution_count": null,
   "id": "6a680160",
   "metadata": {},
   "outputs": [],
   "source": [
    "### 48 secs to beat for serial/parallel 32\n",
    "with mp.Pool(32) as pool:\n",
    "    sub_test = pool.map(get_conformers, p.molecule_smiles.iloc[rand_smi].tolist())"
   ]
  },
  {
   "cell_type": "code",
   "execution_count": null,
   "id": "1432531e",
   "metadata": {},
   "outputs": [],
   "source": [
    "test = [single_run(s, runtype='opt', **calc_params, parallel=8) for s in subs]"
   ]
  },
  {
   "cell_type": "code",
   "execution_count": null,
   "id": "cf923313",
   "metadata": {},
   "outputs": [],
   "source": [
    "test2 = multi_run(subs, runtype='opt normal', calc_kwargs=calc_params)"
   ]
  },
  {
   "cell_type": "code",
   "execution_count": null,
   "id": "89db7add",
   "metadata": {},
   "outputs": [],
   "source": [
    "optlevels = ['loose', 'lax', 'normal', 'tight', 'vtight', 'extreme']\n",
    "ips = []\n",
    "\n",
    "for o in optlevels:\n",
    "    print(o)\n",
    "    subs = multi_run(substrates, runtype=f'opt {o}', calc_kwargs=calc_params)\n",
    "    subs = multi_run(subs, runtype='vipea', calc_kwargs=calc_params)\n",
    "\n",
    "    ips.append([s.info['ip'] for s in subs])"
   ]
  },
  {
   "cell_type": "code",
   "execution_count": null,
   "id": "64e3d746",
   "metadata": {},
   "outputs": [],
   "source": [
    "ips = np.array(ips)"
   ]
  },
  {
   "cell_type": "code",
   "execution_count": null,
   "id": "8988265e",
   "metadata": {},
   "outputs": [],
   "source": [
    "plt.plot(ips - ips[0, :])"
   ]
  },
  {
   "attachments": {},
   "cell_type": "markdown",
   "id": "f162de0f",
   "metadata": {},
   "source": [
    "## All sites"
   ]
  },
  {
   "attachments": {},
   "cell_type": "markdown",
   "id": "027a92ea",
   "metadata": {},
   "source": [
    "### Complete relaxation"
   ]
  },
  {
   "cell_type": "code",
   "execution_count": null,
   "id": "fc88db34",
   "metadata": {
    "scrolled": false
   },
   "outputs": [],
   "source": [
    "start = time.perf_counter()\n",
    "\n",
    "### Build\n",
    "configsOH, configsO, configsOOH = build_configurations(sub, key='nonH_atoms')\n",
    "\n",
    "### Relax\n",
    "oh_all = multi_run(configsOH, runtype='opt vtight', keep_folders=False, calc_kwargs=calc_params, multi_process=6)\n",
    "o_all = multi_run(configsO, runtype='opt vtight', keep_folders=False, calc_kwargs=calc_params, multi_process=6)\n",
    "ooh_all = multi_run(configsOOH, runtype='opt vtight', keep_folders=False, calc_kwargs=calc_params, multi_process=6)\n",
    "\n",
    "### Filter\n",
    "oh_all = filter_configurations(oh_all, sub)\n",
    "o_all = filter_configurations(o_all, sub)\n",
    "ooh_all = filter_configurations(ooh_all, sub)\n",
    "\n",
    "### Info\n",
    "print(\"Num configs\", len(oh_all), len(o_all), len(ooh_all))\n",
    "print(\"Relaxation Took\", time.perf_counter()-start)"
   ]
  },
  {
   "attachments": {},
   "cell_type": "markdown",
   "id": "e4820485",
   "metadata": {},
   "source": [
    "### ZPE, TS"
   ]
  },
  {
   "cell_type": "code",
   "execution_count": null,
   "id": "437f476f",
   "metadata": {},
   "outputs": [],
   "source": [
    "start = time.perf_counter()\n",
    "\n",
    "### Hessian\n",
    "oh_all = multi_run(oh_all, runtype='hess', keep_folders=False, calc_kwargs=calc_params, multi_process=6)\n",
    "o_all = multi_run(o_all, runtype='hess', keep_folders=False, calc_kwargs=calc_params, multi_process=6)\n",
    "ooh_all = multi_run(ooh_all, runtype='hess', keep_folders=False, calc_kwargs=calc_params, multi_process=6)\n",
    "\n",
    "### Info\n",
    "print(\"Total Time\", time.perf_counter()-start)"
   ]
  },
  {
   "cell_type": "code",
   "execution_count": null,
   "id": "375ddeee",
   "metadata": {},
   "outputs": [],
   "source": [
    "### All information\n",
    "oh_nan, o_nan, ooh_nan = clean_configs_with_nans(oh_all), clean_configs_with_nans(o_all), clean_configs_with_nans(ooh_all)\n",
    "\n",
    "eoh_nan = [config.info['energy'] if config is not np.nan else np.nan for config in oh_nan]\n",
    "eo_nan = [config.info['energy'] if config is not np.nan else np.nan for config in o_nan]\n",
    "eooh_nan = [config.info['energy'] if config is not np.nan else np.nan for config in ooh_nan]\n",
    "\n",
    "zpeoh_nan = np.array([config.info['zpe'] if config is not np.nan else np.nan for config in oh_nan])\n",
    "zpeo_nan = np.array([config.info['zpe'] if config is not np.nan else np.nan for config in o_nan])\n",
    "zpeooh_nan = np.array([config.info['zpe'] if config is not np.nan else np.nan for config in ooh_nan])\n",
    "\n",
    "soh_nan = np.array([config.info['entropy'] if config is not np.nan else np.nan for config in oh_nan])\n",
    "so_nan = np.array([config.info['entropy'] if config is not np.nan else np.nan for config in o_nan])\n",
    "sooh_nan = np.array([config.info['entropy'] if config is not np.nan else np.nan for config in ooh_nan])"
   ]
  },
  {
   "cell_type": "code",
   "execution_count": null,
   "id": "24a2fd04",
   "metadata": {},
   "outputs": [],
   "source": [
    "es = sub.info['energy']\n",
    "zpes = sub.info['zpe']\n",
    "ss = sub.info['entropy']"
   ]
  },
  {
   "cell_type": "code",
   "execution_count": null,
   "id": "025e5d46",
   "metadata": {},
   "outputs": [],
   "source": [
    "eoh_all = [config.info['energy'] if config is not np.nan else np.nan for config in oh_all]\n",
    "eo_all = [config.info['energy'] if config is not np.nan else np.nan for config in o_all]\n",
    "eooh_all = [config.info['energy'] if config is not np.nan else np.nan for config in ooh_all]\n",
    "\n",
    "zpeoh_all = np.array([config.info['zpe'] if config is not np.nan else np.nan for config in oh_all])\n",
    "zpeo_all = np.array([config.info['zpe'] if config is not np.nan else np.nan for config in o_all])\n",
    "zpeooh_all = np.array([config.info['zpe'] if config is not np.nan else np.nan for config in ooh_all])\n",
    "\n",
    "soh_all = np.array([config.info['entropy'] if config is not np.nan else np.nan for config in oh_all])\n",
    "so_all = np.array([config.info['entropy'] if config is not np.nan else np.nan for config in o_all])\n",
    "sooh_all = np.array([config.info['entropy'] if config is not np.nan else np.nan for config in ooh_all])"
   ]
  },
  {
   "cell_type": "code",
   "execution_count": null,
   "id": "d7e678c8",
   "metadata": {},
   "outputs": [],
   "source": [
    "### Grouping for equivalent sites\n",
    "qs_grouped = grouped_by_sym(sub.info['qs'], sub.info['equivalent_atoms_grouped'])\n",
    "\n",
    "eoh_grouped = grouped_by_sym(eoh_nan, sub.info['equivalent_atoms_grouped'])\n",
    "eo_grouped = grouped_by_sym(eo_nan, sub.info['equivalent_atoms_grouped'])\n",
    "eooh_grouped = grouped_by_sym(eooh_nan, sub.info['equivalent_atoms_grouped'])\n",
    "\n",
    "zpeoh_grouped = grouped_by_sym(zpeoh_nan, sub.info['equivalent_atoms_grouped'])\n",
    "zpeo_grouped = grouped_by_sym(zpeo_nan, sub.info['equivalent_atoms_grouped'])\n",
    "zpeooh_grouped = grouped_by_sym(zpeooh_nan, sub.info['equivalent_atoms_grouped'])\n",
    "\n",
    "soh_grouped = grouped_by_sym(soh_nan, sub.info['equivalent_atoms_grouped'])\n",
    "so_grouped = grouped_by_sym(so_nan, sub.info['equivalent_atoms_grouped'])\n",
    "sooh_grouped = grouped_by_sym(sooh_nan, sub.info['equivalent_atoms_grouped'])"
   ]
  },
  {
   "attachments": {},
   "cell_type": "markdown",
   "id": "817dcb53",
   "metadata": {},
   "source": [
    "## Equivalent sites"
   ]
  },
  {
   "cell_type": "code",
   "execution_count": null,
   "id": "b7b0ebee",
   "metadata": {
    "scrolled": true
   },
   "outputs": [],
   "source": [
    "mol = Chem.MolFromSmiles(smi)\n",
    "mol.__sssAtoms = [*sub.info['equivalent_atoms']]\n",
    "mol"
   ]
  },
  {
   "cell_type": "code",
   "execution_count": null,
   "id": "2f3aab6f",
   "metadata": {},
   "outputs": [],
   "source": [
    "sub.info['equivalent_atoms']"
   ]
  },
  {
   "cell_type": "code",
   "execution_count": null,
   "id": "3dbd510a",
   "metadata": {},
   "outputs": [],
   "source": [
    "print(\"Max diff in Energy (eV)\")\n",
    "print(np.nanmax([max(g) - min(g) for g in eoh_grouped]), np.nanmax([max(g) - min(g) for g in eo_grouped]), np.nanmax([max(g) - min(g) for g in eooh_grouped]))"
   ]
  },
  {
   "cell_type": "code",
   "execution_count": null,
   "id": "f8bd2cd6",
   "metadata": {},
   "outputs": [],
   "source": [
    "print(\"Max diff in zpe (eV)\")\n",
    "print(np.nanmax([max(g) - min(g) for g in zpeoh_grouped]), np.nanmax([max(g) - min(g) for g in zpeo_grouped]), np.nanmax([max(g) - min(g) for g in zpeooh_grouped]))"
   ]
  },
  {
   "cell_type": "code",
   "execution_count": null,
   "id": "264af838",
   "metadata": {},
   "outputs": [],
   "source": [
    "print(\"Max diff in entropy (eV)\")\n",
    "print(np.nanmax([max(g) - min(g) for g in soh_grouped]), np.nanmax([max(g) - min(g) for g in so_grouped]), np.nanmax([max(g) - min(g) for g in sooh_grouped]))"
   ]
  },
  {
   "cell_type": "code",
   "execution_count": null,
   "id": "4b32789a",
   "metadata": {
    "scrolled": true
   },
   "outputs": [],
   "source": [
    "for g, e in zip(qs_grouped, sub.info['equivalent_atoms_grouped']):\n",
    "    print(e, '|', max(g) - min(g))"
   ]
  },
  {
   "attachments": {},
   "cell_type": "markdown",
   "id": "79f30096",
   "metadata": {},
   "source": [
    "Variation probably due to an actual difference in 3D environment, but also conformational and optimization related influences.\n",
    "\n",
    "This approximation breaks down if the 2 supposedly equivalent sites have substantially different electronic environments. Errors on the order of 0.1-0.2 eV.\n",
    "\n",
    "Charge difference heuristic max(qs) - min(qs) < 0.001 C."
   ]
  },
  {
   "attachments": {},
   "cell_type": "markdown",
   "id": "9d96ddee",
   "metadata": {},
   "source": [
    "### Complete relaxation"
   ]
  },
  {
   "cell_type": "code",
   "execution_count": null,
   "id": "dd057e39",
   "metadata": {},
   "outputs": [],
   "source": [
    "### Build Configs\n",
    "configsOH, configsO, configsOOH = build_configurations(sub, key='equivalent_atoms')"
   ]
  },
  {
   "cell_type": "code",
   "execution_count": null,
   "id": "05f8239d",
   "metadata": {
    "scrolled": true
   },
   "outputs": [],
   "source": [
    "start = time.perf_counter()\n",
    "oh = multi_run(configsOH, runtype='opt vtight', keep_folders=False, calc_kwargs=calc_params, multi_process=6)\n",
    "o = multi_run(configsO, runtype='opt vtight', keep_folders=False, calc_kwargs=calc_params, multi_process=6)\n",
    "ooh = multi_run(configsOOH, runtype='opt vtight', keep_folders=False, calc_kwargs=calc_params, multi_process=6)"
   ]
  },
  {
   "cell_type": "code",
   "execution_count": null,
   "id": "0e894bd3",
   "metadata": {
    "scrolled": true
   },
   "outputs": [],
   "source": [
    "### Filtering\n",
    "oh = filter_configurations_with_symm(oh, sub)\n",
    "o = filter_configurations_with_symm(o, sub)\n",
    "ooh = filter_configurations_with_symm(ooh, sub)\n",
    "print(\"Num configs\", len(oh), len(o), len(ooh))\n",
    "print(\"Took\", time.perf_counter()-start)"
   ]
  },
  {
   "attachments": {},
   "cell_type": "markdown",
   "id": "45a08c14",
   "metadata": {},
   "source": [
    "### Crude, filter, then full relaxation"
   ]
  },
  {
   "cell_type": "code",
   "execution_count": null,
   "id": "480a23c8",
   "metadata": {
    "scrolled": true
   },
   "outputs": [],
   "source": [
    "### Crude Relaxation\n",
    "start = time.perf_counter()\n",
    "oh_crude = multi_run(configsOH, runtype='opt sloppy', keep_folders=False, calc_kwargs=calc_params, multi_process=6)\n",
    "o_crude = multi_run(configsO, runtype='opt sloppy', keep_folders=False, calc_kwargs=calc_params, multi_process=6)\n",
    "ooh_crude = multi_run(configsOOH, runtype='opt sloppy', keep_folders=False, calc_kwargs=calc_params, multi_process=6)"
   ]
  },
  {
   "cell_type": "code",
   "execution_count": null,
   "id": "60375319",
   "metadata": {},
   "outputs": [],
   "source": [
    "### Filtering\n",
    "oh_crude = filter_configurations_with_symm(oh_crude, sub)\n",
    "o_crude = filter_configurations_with_symm(o_crude, sub)\n",
    "ooh_crude = filter_configurations_with_symm(ooh_crude, sub)\n",
    "print(\"Num configs\", len(oh_crude), len(o_crude), len(ooh_crude))"
   ]
  },
  {
   "cell_type": "code",
   "execution_count": null,
   "id": "2740c980",
   "metadata": {
    "scrolled": true
   },
   "outputs": [],
   "source": [
    "### Subsequent full Relaxation\n",
    "oh_crude_full = multi_run(oh_crude, runtype='opt vtight', keep_folders=False, calc_kwargs=calc_params, multi_process=6)\n",
    "o_crude_full = multi_run(o_crude, runtype='opt vtight', keep_folders=False, calc_kwargs=calc_params, multi_process=6)\n",
    "ooh_crude_full = multi_run(ooh_crude, runtype='opt vtight', keep_folders=False, calc_kwargs=calc_params, multi_process=6)"
   ]
  },
  {
   "cell_type": "code",
   "execution_count": null,
   "id": "d26201cd",
   "metadata": {
    "scrolled": true
   },
   "outputs": [],
   "source": [
    "### Filtering\n",
    "oh_crude_full = filter_configurations_with_symm(oh_crude_full, sub)\n",
    "o_crude_full = filter_configurations_with_symm(o_crude_full, sub)\n",
    "ooh_crude_full = filter_configurations_with_symm(ooh_crude_full, sub)\n",
    "print(\"Num configs\", len(oh_crude_full), len(o_crude_full), len(ooh_crude_full))\n",
    "print(\"Took\", time.perf_counter()-start)"
   ]
  },
  {
   "attachments": {},
   "cell_type": "markdown",
   "id": "60374c9e",
   "metadata": {},
   "source": [
    "Its often apparent early in the relaxation whether a site is stable or not (whether it destroys the substrate or volatalizes off the site). Prune redundant and unstable configurations early in the relaxation.\n",
    "\n",
    "1. Double O configs are common\n",
    "2. Volatization to another site is common\n",
    "3. No need to further optimize a destroyed substrate"
   ]
  },
  {
   "cell_type": "code",
   "execution_count": null,
   "id": "7ea3d803",
   "metadata": {},
   "outputs": [],
   "source": [
    "eoh = np.array([t.info['energy'] for t in oh])\n",
    "eo = np.array([t.info['energy'] for t in o])\n",
    "eooh = np.array([t.info['energy'] for t in ooh])\n",
    "\n",
    "eoh_crude = np.array([t.info['energy'] for t in oh_crude])\n",
    "eo_crude = np.array([t.info['energy'] for t in o_crude])\n",
    "eooh_crude = np.array([t.info['energy'] for t in ooh_crude])\n",
    "\n",
    "asoh = [t.info['active_site'] for t in oh]\n",
    "aso = [t.info['active_site'] for t in o]\n",
    "asooh = [t.info['active_site'] for t in ooh]\n",
    "\n",
    "activesites = [[i, j, k] for i, j, k in itertools.product(asoh, aso, asooh)]\n",
    "activesites = np.array(activesites).reshape(len(asoh), len(aso), len(asooh), 3)\n",
    "eoh_crude = np.delete(eoh_crude, 5)"
   ]
  },
  {
   "attachments": {},
   "cell_type": "markdown",
   "id": "d8c50c8b",
   "metadata": {},
   "source": [
    "### Generating additional adsorbate configurations"
   ]
  },
  {
   "attachments": {},
   "cell_type": "markdown",
   "id": "ebd118ca",
   "metadata": {},
   "source": [
    "Force fields turn out to be not so good for geometries... but still useful for gnerating addition conformations"
   ]
  },
  {
   "cell_type": "code",
   "execution_count": null,
   "id": "1df8fbd4",
   "metadata": {
    "scrolled": true
   },
   "outputs": [],
   "source": [
    "# Generate additional conformers, and optimize them with ff's\n",
    "start = time.perf_counter()\n",
    "add_oh_confs = [get_adsorbate_conformers(config) for config in oh]\n",
    "add_o_confs = [get_adsorbate_conformers(config) for config in o]\n",
    "add_ooh_confs = [get_adsorbate_conformers(config) for config in ooh]\n",
    "print(\"Took\", time.perf_counter() - start)"
   ]
  },
  {
   "cell_type": "code",
   "execution_count": null,
   "id": "e10efa06",
   "metadata": {
    "scrolled": true
   },
   "outputs": [],
   "source": [
    "# Relax them at tight binding level\n",
    "add_oh = multi_run(add_oh_confs, runtype='opt vtight', keep_folders=False, calc_kwargs=calc_params, multi_process=6)\n",
    "add_o = multi_run(add_o_confs, runtype='opt vtight', keep_folders=False, calc_kwargs=calc_params, multi_process=6)\n",
    "add_ooh = multi_run(add_ooh_confs, runtype='opt vtight', keep_folders=False, calc_kwargs=calc_params, multi_process=6)"
   ]
  },
  {
   "cell_type": "code",
   "execution_count": null,
   "id": "0227af75",
   "metadata": {
    "scrolled": true
   },
   "outputs": [],
   "source": [
    "# Filter and update\n",
    "oh_opt = filter_configurations(oh + add_oh, sub)\n",
    "o_opt = filter_configurations(o + add_o, sub)\n",
    "ooh_opt = filter_configurations(ooh + add_ooh, sub)\n",
    "print(\"Took Total\", time.perf_counter() - start)"
   ]
  },
  {
   "cell_type": "code",
   "execution_count": null,
   "id": "22d1e7b0",
   "metadata": {},
   "outputs": [],
   "source": [
    "eoh_opt = np.array([t.info['energy'] for t in oh_opt])\n",
    "eo_opt = np.array([t.info['energy'] for t in o_opt])\n",
    "eooh_opt = np.array([t.info['energy'] for t in ooh_opt])"
   ]
  },
  {
   "cell_type": "code",
   "execution_count": null,
   "id": "bcf4b13c",
   "metadata": {
    "scrolled": true
   },
   "outputs": [],
   "source": [
    "print('Num configs', len(oh), len(o), len(ooh))\n",
    "print('New configs', np.count_nonzero(eoh_opt - eoh < 0), np.count_nonzero(eo_opt - eo < 0), np.count_nonzero(eooh_opt - eooh < 0))"
   ]
  },
  {
   "cell_type": "code",
   "execution_count": null,
   "id": "1b88ad15",
   "metadata": {},
   "outputs": [],
   "source": [
    "print('Min difference (eV)')\n",
    "print(np.min(eoh_opt - eoh), np.min(eo_opt - eo), np.min(eooh_opt - eooh))"
   ]
  },
  {
   "attachments": {},
   "cell_type": "markdown",
   "id": "971d6182",
   "metadata": {},
   "source": [
    "Generating additional conformations with EKTG/FFs leads to better sampling of the PES for a given active site.. but it essentially requires double the computational time. Can resolve errors on the order of ~0.1 eV."
   ]
  },
  {
   "attachments": {},
   "cell_type": "markdown",
   "id": "9b147736",
   "metadata": {},
   "source": [
    "### Free Energy and overpotentials"
   ]
  },
  {
   "attachments": {},
   "cell_type": "markdown",
   "id": "68888bad",
   "metadata": {},
   "source": [
    "#### ZPE, TS"
   ]
  },
  {
   "cell_type": "code",
   "execution_count": null,
   "id": "b9cfbd62",
   "metadata": {
    "scrolled": true
   },
   "outputs": [],
   "source": [
    "start = time.perf_counter()\n",
    "\n",
    "### Hessian\n",
    "oh = multi_run(oh, runtype='hess', keep_folders=False, calc_kwargs=calc_params, multi_process=6)\n",
    "o = multi_run(o, runtype='hess', keep_folders=False, calc_kwargs=calc_params, multi_process=6)\n",
    "ooh = multi_run(ooh, runtype='hess', keep_folders=False, calc_kwargs=calc_params, multi_process=6)\n",
    "\n",
    "### Info\n",
    "print(\"Total Time\", time.perf_counter()-start)"
   ]
  },
  {
   "cell_type": "code",
   "execution_count": null,
   "id": "161401a3",
   "metadata": {},
   "outputs": [],
   "source": [
    "# Info\n",
    "zpeoh = np.array([config.info['zpe'] if config is not np.nan else np.nan for config in oh])\n",
    "zpeo = np.array([config.info['zpe'] if config is not np.nan else np.nan for config in o])\n",
    "zpeooh = np.array([config.info['zpe'] if config is not np.nan else np.nan for config in ooh])\n",
    "\n",
    "soh = np.array([config.info['entropy'] if config is not np.nan else np.nan for config in oh])\n",
    "so = np.array([config.info['entropy'] if config is not np.nan else np.nan for config in o])\n",
    "sooh = np.array([config.info['entropy'] if config is not np.nan else np.nan for config in ooh])"
   ]
  },
  {
   "attachments": {},
   "cell_type": "markdown",
   "id": "ff236c44",
   "metadata": {},
   "source": [
    "#### with (ZPE-TS) correction"
   ]
  },
  {
   "attachments": {},
   "cell_type": "markdown",
   "id": "191edfa1",
   "metadata": {},
   "source": [
    "enumerating active sites... lowest overpotential site would be our active site?"
   ]
  },
  {
   "cell_type": "code",
   "execution_count": null,
   "id": "70977351",
   "metadata": {},
   "outputs": [],
   "source": [
    "# Free energies\n",
    "gs = es + zpes - ss\n",
    "goh = eoh + zpeoh - soh\n",
    "go = eo + zpeo - so\n",
    "gooh = eooh + zpeooh - sooh\n",
    "\n",
    "# G matrix, MAD, overpot, rate determining step\n",
    "G = free_energy_multidim(gs, goh, go, gooh)\n",
    "overpot = G.max(axis=3) - 1.23\n",
    "mad = abs(G-1.23).sum(axis=3)\n",
    "spread = G.max(axis=3) - G.min(axis=3)\n",
    "rds = G.argmax(axis=3)\n",
    "\n",
    "# Sorting\n",
    "arg_0 = np.unravel_index(overpot.argsort(axis=None, kind='stable'), overpot.shape)\n",
    "indxs_0 = np.dstack(arg_0)[0]"
   ]
  },
  {
   "cell_type": "code",
   "execution_count": null,
   "id": "4e5b9cf8",
   "metadata": {},
   "outputs": [],
   "source": [
    "eoh_crude.argmin(), eo_crude.argmin(), eooh_crude.argmin()"
   ]
  },
  {
   "cell_type": "code",
   "execution_count": null,
   "id": "5cd1d23f",
   "metadata": {},
   "outputs": [],
   "source": [
    "stable_indx = eoh.argmin(), eo.argmin(), eooh.argmin()\n",
    "stable_indx_zpets = goh.argmin(), go.argmin(), gooh.argmin()\n",
    "stable_indx"
   ]
  },
  {
   "cell_type": "code",
   "execution_count": null,
   "id": "041aba4f",
   "metadata": {},
   "outputs": [],
   "source": [
    "G[stable_indx].max()"
   ]
  },
  {
   "cell_type": "code",
   "execution_count": null,
   "id": "1d5eeeb7",
   "metadata": {},
   "outputs": [],
   "source": [
    "# unravled_argsorted_overpot = np.unravel_index(argsorted_overpot, overpot.shape)\n",
    "# lexargsorted_overpot_then_mad = np.lexsort((mad.flatten()[argsorted_overpot], overpot.flatten()[argsorted_overpot]))\n",
    "# argsorted_overpot_then_mad = argsorted_overpot[lexargsorted_overpot_then_mad]\n",
    "# unraveled_argsorted_overpot_then_mad = np.unravel_index(argsorted_overpot_then_mad, overpot.shape)"
   ]
  },
  {
   "cell_type": "code",
   "execution_count": null,
   "id": "68823006",
   "metadata": {},
   "outputs": [],
   "source": [
    "indxs_0[0], overpot[*indxs_0[0]]"
   ]
  },
  {
   "cell_type": "code",
   "execution_count": null,
   "id": "20a8fd96",
   "metadata": {},
   "outputs": [],
   "source": [
    "G[0,1,2]"
   ]
  },
  {
   "cell_type": "code",
   "execution_count": null,
   "id": "73562cce",
   "metadata": {},
   "outputs": [],
   "source": [
    "for config_index in indxs_0:\n",
    "    print(config_index, '|', overpot[*config_index], '|', rds[*config_index])"
   ]
  },
  {
   "attachments": {},
   "cell_type": "markdown",
   "id": "766bdeec",
   "metadata": {},
   "source": [
    "#### visualizing sites"
   ]
  },
  {
   "cell_type": "code",
   "execution_count": null,
   "id": "8a164002",
   "metadata": {},
   "outputs": [],
   "source": [
    "from rdkit.Chem import Draw\n",
    "import ast"
   ]
  },
  {
   "cell_type": "code",
   "execution_count": null,
   "id": "543de6a2",
   "metadata": {},
   "outputs": [],
   "source": [
    "def mol_with_specific_atom_index(mol, indices=None):\n",
    "    if indices is not None:\n",
    "        for atom in mol.GetAtoms():\n",
    "            if atom.GetIdx() in indices:\n",
    "                atom.SetAtomMapNum(atom.GetIdx())\n",
    "    else:\n",
    "        for atom in mol.GetAtoms():\n",
    "            atom.SetAtomMapNum(atom.GetIdx())\n",
    "    return mol"
   ]
  },
  {
   "cell_type": "code",
   "execution_count": null,
   "id": "e67ce015",
   "metadata": {},
   "outputs": [],
   "source": [
    "def config_num_to_activesite_numerized(arguments):\n",
    "    # np.dstacked (Nx3) array of config indices as input\n",
    "    out = []\n",
    "    for argg in arguments:\n",
    "        if isinstance(aso[argg[1]], str):\n",
    "            a = list((asoh[argg[0]], *ast.literal_eval(aso[argg[1]]), asooh[argg[2]]))\n",
    "        else:\n",
    "            a = list((asoh[argg[0]], aso[argg[1]], asooh[argg[2]]))\n",
    "        \n",
    "        c = [int(b) for b in a]\n",
    "        out.append(c)\n",
    "    \n",
    "    return out"
   ]
  },
  {
   "cell_type": "code",
   "execution_count": null,
   "id": "87850a94",
   "metadata": {},
   "outputs": [],
   "source": [
    "N = 300\n",
    "\n",
    "args = indxs_0[:N:20]\n",
    "# args = np.dstack(unraveled_argsorted_overpot_then_mad)[0][:N:20]\n",
    "# args = activesites[argsorted_overpot][:N]\n",
    "# args = argsorted_overpot_then_mad[:N:20]\n",
    "\n",
    "l = []\n",
    "ms = []\n",
    "for arg in args:\n",
    "    overpotential = overpot[*arg]\n",
    "    meanabsdiff = mad[*arg]\n",
    "    #overpotential = overpot.flatten()[arg]\n",
    "    #meanabsdiff = mad.flatten()[arg]\n",
    "    \n",
    "    # |as:{arg[0], arg[1], arg[2]}, \n",
    "    l.append(f'|over:{round(overpotential, 4)}eV, mad:{round(meanabsdiff, 4)}|')\n",
    "    \n",
    "    m = deepcopy(rdkit_smi)\n",
    "    #m.GetAtomWithIdx(int(arg[0])).SetProp('atomNote', 'OH')\n",
    "    #m.GetAtomWithIdx(int(arg[1])).SetProp('atomNote', 'O')\n",
    "    #m.GetAtomWithIdx(int(arg[2])).SetProp('atomNote', 'OOH')\n",
    "    m = Chem.RemoveHs(m)\n",
    "    #asite = activesites[np.unravel_index(arg, overpot.shape)].astype(int)\n",
    "    asite = activesites[*arg]\n",
    "    #m = mol_with_specific_atom_index(m, indices=[*asite])\n",
    "    ms.append(m)"
   ]
  },
  {
   "cell_type": "code",
   "execution_count": null,
   "id": "2ceb9327",
   "metadata": {},
   "outputs": [],
   "source": [
    "overpot.max()"
   ]
  },
  {
   "cell_type": "code",
   "execution_count": null,
   "id": "6b2a2c7c",
   "metadata": {
    "scrolled": false
   },
   "outputs": [],
   "source": [
    "Draw.MolsToGridImage(ms, legends=l, highlightAtomLists=config_num_to_activesite_numerized(indxs_0), subImgSize=(500,500))"
   ]
  },
  {
   "attachments": {},
   "cell_type": "markdown",
   "id": "c8fb3bcf",
   "metadata": {},
   "source": [
    "What do we count as an active site exactly? Far apart configurations also work?"
   ]
  },
  {
   "attachments": {},
   "cell_type": "markdown",
   "id": "7f6654cf",
   "metadata": {},
   "source": [
    "#### w/o ZPE-TS correction"
   ]
  },
  {
   "cell_type": "code",
   "execution_count": null,
   "id": "90615e7b",
   "metadata": {},
   "outputs": [],
   "source": [
    "gs = es\n",
    "goh = eoh\n",
    "go = eo\n",
    "gooh = eooh\n",
    "\n",
    "Gcrude = free_energy_multidim(gs, goh, go, gooh)\n",
    "overpotcrude = Gcrude.max(axis=3) - 1.23\n",
    "rdscrude = Gcrude.argmax(axis=3)"
   ]
  },
  {
   "cell_type": "code",
   "execution_count": null,
   "id": "7c8dd45c",
   "metadata": {},
   "outputs": [],
   "source": [
    "arg_1 = np.unravel_index(overpotcrude.argsort(axis=None, kind='stable'), overpotcrude.shape)\n",
    "indxs_1 = np.dstack(arg_1)[0]"
   ]
  },
  {
   "cell_type": "code",
   "execution_count": null,
   "id": "c9e04077",
   "metadata": {},
   "outputs": [],
   "source": [
    "for config_index in indxs_1:\n",
    "    print(config_index, '|', overpotcrude[*config_index], '|', rdscrude[*config_index])"
   ]
  },
  {
   "cell_type": "code",
   "execution_count": null,
   "id": "cbb05a61",
   "metadata": {},
   "outputs": [],
   "source": [
    "indxs_0[0], overpot[*indxs_0[0]]"
   ]
  },
  {
   "attachments": {},
   "cell_type": "markdown",
   "id": "7e114287",
   "metadata": {},
   "source": [
    "#### ZPE-TS distb"
   ]
  },
  {
   "cell_type": "code",
   "execution_count": null,
   "id": "827fb92a",
   "metadata": {},
   "outputs": [],
   "source": [
    "corr1 = (zpeoh - soh) - (zpes - ss)\n",
    "corr2 = (zpeo - so) - (zpeoh - soh)[:, None]\n",
    "corr3 = (zpeooh - sooh) - (zpeo - so)[:, None]\n",
    "corr4 = (zpes - ss) - (zpeooh - sooh)"
   ]
  },
  {
   "cell_type": "code",
   "execution_count": null,
   "id": "743bcdf8",
   "metadata": {},
   "outputs": [],
   "source": [
    "plt.hist(corr1, label='1')\n",
    "plt.hist(corr2.flatten(), label='2')\n",
    "plt.hist(corr3.flatten(), label='3')\n",
    "plt.hist(corr4, label='4')\n",
    "plt.legend()"
   ]
  },
  {
   "cell_type": "code",
   "execution_count": null,
   "id": "3f05a5d3",
   "metadata": {
    "scrolled": true
   },
   "outputs": [],
   "source": [
    "zpe_s_loop(es, eoh, eo, eooh)"
   ]
  },
  {
   "attachments": {},
   "cell_type": "markdown",
   "id": "c3671bd1",
   "metadata": {},
   "source": [
    "#### Not fully relaxed"
   ]
  },
  {
   "cell_type": "code",
   "execution_count": null,
   "id": "1b2c95a7",
   "metadata": {
    "scrolled": false
   },
   "outputs": [],
   "source": [
    "zpe_s_loop(es, eoh_crude, eo_crude, eooh_crude)"
   ]
  },
  {
   "attachments": {},
   "cell_type": "markdown",
   "id": "06b73830",
   "metadata": {},
   "source": [
    "1) Fully Relaxing 28*3 configs took 184 sec, Frequency analysis on 21*14*15 configs took 235 sec\n",
    "2) Relaxing 15*3 equivalent configs took 108 sec, Freq. analysis on 11*8*8 configs took 133\n",
    "2a) Stop and go relaxing 15*15*15 / 12*8*8 equivalent configs took 82 sec\n",
    "3) Generating addition FF confs and relaxing them, 75 sec\n",
    "\n",
    "75sec (conf generation)\n",
    "1) 419sec (full, 100%) \n",
    "2) 241sec (Equivalent, 57%)\n",
    "3) 215sec (stop and go, 51%)\n",
    "4) 40 sec + 20 sec ZPEs + 20 sec relax (crude, 19%)"
   ]
  },
  {
   "cell_type": "code",
   "execution_count": null,
   "id": "7060f09e",
   "metadata": {},
   "outputs": [],
   "source": [
    "gs = es #+ ss - zpes\n",
    "goh = eoh_crude #+ zpeoh - soh\n",
    "go = eo_crude #+ zpeo - so\n",
    "gooh = eooh_crude #+ zpeooh - sooh\n",
    "\n",
    "Gcrude = free_energy_multidim(gs, goh, go, gooh)\n",
    "overpotcrude = Gcrude.max(axis=3) - 1.23\n",
    "rdscrude = Gcrude.argmax(axis=3)"
   ]
  },
  {
   "cell_type": "code",
   "execution_count": null,
   "id": "5d0f8dc1",
   "metadata": {},
   "outputs": [],
   "source": [
    "np.mean(eoh_crude - eoh), np.mean(eo_crude - eo), np.mean(eooh_crude - eooh)"
   ]
  },
  {
   "cell_type": "code",
   "execution_count": null,
   "id": "159d936c",
   "metadata": {
    "scrolled": false
   },
   "outputs": [],
   "source": [
    "plt.scatter(overpot.flatten(), overpotcrude.flatten())\n",
    "plt.plot(overpot.flatten(), overpot.flatten(), 'r')\n",
    "plt.xlabel('Overpotential Exact')\n",
    "plt.ylabel('Overpotential Crude')"
   ]
  },
  {
   "cell_type": "code",
   "execution_count": null,
   "id": "74369c53",
   "metadata": {},
   "outputs": [],
   "source": [
    "rdscrude[np.where(overpotcrude > overpot)]"
   ]
  },
  {
   "cell_type": "code",
   "execution_count": null,
   "id": "30e37a1e",
   "metadata": {},
   "outputs": [],
   "source": [
    "np.mean(overpotcrude - overpot)"
   ]
  }
 ],
 "metadata": {
  "kernelspec": {
   "display_name": "Python 3 (ipykernel)",
   "language": "python",
   "name": "python3"
  },
  "language_info": {
   "codemirror_mode": {
    "name": "ipython",
    "version": 3
   },
   "file_extension": ".py",
   "mimetype": "text/x-python",
   "name": "python",
   "nbconvert_exporter": "python",
   "pygments_lexer": "ipython3",
   "version": "3.11.4"
  }
 },
 "nbformat": 4,
 "nbformat_minor": 5
}
