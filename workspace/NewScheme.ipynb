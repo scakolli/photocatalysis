{
 "cells": [
  {
   "cell_type": "code",
   "execution_count": 1,
   "id": "663dfada",
   "metadata": {},
   "outputs": [],
   "source": [
    "import numpy as np\n",
    "import pandas as pd\n",
    "import os\n",
    "import subprocess\n",
    "import time\n",
    "import matplotlib.pyplot as plt\n",
    "import itertools\n",
    "from copy import deepcopy\n",
    "import sys\n",
    "\n",
    "from rdkit import Chem\n",
    "from rdkit.Chem import AllChem\n",
    "import ase\n",
    "from ase.io import read, write\n",
    "from ase.units import Hartree\n",
    "from ase.visualize import view\n",
    "\n",
    "from ase.io.trajectory import Trajectory\n",
    "import glob\n",
    "import pickle\n",
    "\n",
    "from rdkit.Chem.Draw import IPythonConsole\n",
    "IPythonConsole.drawOptions.addAtomIndices = True"
   ]
  },
  {
   "cell_type": "code",
   "execution_count": null,
   "id": "2b589583",
   "metadata": {},
   "outputs": [],
   "source": [
    "from photocatalysis.thermodynamics.helpers import get_batches"
   ]
  },
  {
   "cell_type": "code",
   "execution_count": 2,
   "id": "cbb388b0",
   "metadata": {},
   "outputs": [],
   "source": [
    "### For automatically reloading import modules... allows you to run changes to code in jupyter without having to reload\n",
    "%load_ext autoreload\n",
    "%autoreload 2"
   ]
  },
  {
   "cell_type": "code",
   "execution_count": null,
   "id": "ad664f07",
   "metadata": {},
   "outputs": [],
   "source": [
    "os.chdir('/home/btpq/bt308495/Thesis/run/learner_results_Batch4/')"
   ]
  },
  {
   "cell_type": "code",
   "execution_count": null,
   "id": "aac80b66",
   "metadata": {},
   "outputs": [],
   "source": [
    "initial = pd.read_json('/home/btpq/bt308495/Thesis/Batch4.json', orient='split')"
   ]
  },
  {
   "cell_type": "code",
   "execution_count": null,
   "id": "2be6d258",
   "metadata": {},
   "outputs": [],
   "source": [
    "mol_indx = [i for i, _ in initial.iterrows()]"
   ]
  },
  {
   "cell_type": "code",
   "execution_count": null,
   "id": "61e94751",
   "metadata": {},
   "outputs": [],
   "source": [
    "res = os.listdir('molecules_to_calculate_results')"
   ]
  },
  {
   "cell_type": "code",
   "execution_count": null,
   "id": "666d5ed3",
   "metadata": {},
   "outputs": [],
   "source": [
    "fiz = [ int(x.split('.')[0].split('mol_')[-1]) for i,x in enumerate(res) if '__fizzled' in x]\n",
    "runn = [ int(x.split('.')[0].split('mol_')[-1]) for i,x in enumerate(res) if '__running' in x]"
   ]
  },
  {
   "cell_type": "code",
   "execution_count": null,
   "id": "81fc6dab",
   "metadata": {},
   "outputs": [],
   "source": [
    "i = [mol_indx.index(f) for f in fiz]"
   ]
  },
  {
   "cell_type": "code",
   "execution_count": null,
   "id": "cf01b2f1",
   "metadata": {},
   "outputs": [],
   "source": [
    "os.path.join(res[0], 'errors.txt')"
   ]
  },
  {
   "cell_type": "code",
   "execution_count": null,
   "id": "a0b5d65b",
   "metadata": {},
   "outputs": [],
   "source": [
    "p = []\n",
    "for r in res:\n",
    "    if '__fizzled' in r:\n",
    "        error_path = os.path.join('molecules_to_calculate_results', r, 'errors.txt')\n",
    "        with open(error_path, 'rb') as file:\n",
    "            p.append([r, file.read().decode('UTF-8')])\n"
   ]
  },
  {
   "cell_type": "code",
   "execution_count": null,
   "id": "46a9633e",
   "metadata": {},
   "outputs": [],
   "source": [
    "for mol, error in p:\n",
    "    print(mol)\n",
    "    print(error)\n",
    "    print('#####################################')"
   ]
  },
  {
   "cell_type": "code",
   "execution_count": null,
   "id": "0f8f7d11",
   "metadata": {},
   "outputs": [],
   "source": [
    "file_exists = []\n",
    "for mol, error in p:\n",
    "    for line in error.splitlines():\n",
    "        if '[Errno 17]' in line:\n",
    "            file_exists.append([mol, line])"
   ]
  },
  {
   "cell_type": "code",
   "execution_count": null,
   "id": "f0ab96f3",
   "metadata": {},
   "outputs": [],
   "source": [
    "file_exists[0][0]"
   ]
  },
  {
   "cell_type": "code",
   "execution_count": null,
   "id": "e2016946",
   "metadata": {},
   "outputs": [],
   "source": [
    "res.index(file_exists[0][0])"
   ]
  },
  {
   "cell_type": "markdown",
   "id": "e7d25010",
   "metadata": {},
   "source": [
    "---"
   ]
  },
  {
   "cell_type": "code",
   "execution_count": null,
   "id": "07d9ad1a",
   "metadata": {},
   "outputs": [],
   "source": [
    "from photocatalysis.learners_treesearch import get_results, update_population_frame"
   ]
  },
  {
   "cell_type": "code",
   "execution_count": null,
   "id": "3f26742c",
   "metadata": {},
   "outputs": [],
   "source": [
    "g = update_population_frame(initial, 50, 50, 0)"
   ]
  },
  {
   "cell_type": "code",
   "execution_count": null,
   "id": "475cb551",
   "metadata": {},
   "outputs": [],
   "source": [
    "g.loc[g.calc_status == 'fizzled', 'calc_status'] = 'not_written'"
   ]
  },
  {
   "cell_type": "code",
   "execution_count": null,
   "id": "17e71248",
   "metadata": {},
   "outputs": [],
   "source": [
    "g.loc[g.calc_status == 'running', 'calc_status'] = 'not_written'"
   ]
  },
  {
   "cell_type": "code",
   "execution_count": null,
   "id": "9b0f9b40",
   "metadata": {},
   "outputs": [],
   "source": [
    "g.to_json('/home/btpq/bt308495/Thesis/Batch4_halfway.json', orient='split')"
   ]
  },
  {
   "cell_type": "markdown",
   "id": "d84ccd7c",
   "metadata": {},
   "source": [
    "----"
   ]
  },
  {
   "cell_type": "code",
   "execution_count": 3,
   "id": "58cf88e1",
   "metadata": {},
   "outputs": [],
   "source": [
    "b1 = pd.read_json('/home/btpq/bt308495/Thesis/run/DF_BATCH1.json', orient='split')\n",
    "b2 = pd.read_json('/home/btpq/bt308495/Thesis/run/DF_BATCH2.json', orient='split')\n",
    "b3 = pd.read_json('/home/btpq/bt308495/Thesis/run/DF_BATCH3.json', orient='split')\n",
    "b4 = pd.read_json('/home/btpq/bt308495/Thesis/run/DF_BATCH4.json', orient='split')"
   ]
  },
  {
   "cell_type": "code",
   "execution_count": 4,
   "id": "94b3c842",
   "metadata": {},
   "outputs": [],
   "source": [
    "bt2 = pd.read_csv('/home/btpq/bt308495/Thesis/run/learner_results_Batch2/batch_times.txt', sep=' ', header=None)\n",
    "bt3 = pd.read_csv('/home/btpq/bt308495/Thesis/run/learner_results_Batch3/batch_times.txt', sep=' ', header=None)\n",
    "bt4 = pd.read_csv('/home/btpq/bt308495/Thesis/run/learner_results_Batch4/batch_times.txt', sep=' ', header=None)"
   ]
  },
  {
   "cell_type": "code",
   "execution_count": 5,
   "id": "fb93dcfa",
   "metadata": {},
   "outputs": [
    {
     "data": {
      "text/plain": [
       "<matplotlib.legend.Legend at 0x7f5ea02d0290>"
      ]
     },
     "execution_count": 5,
     "metadata": {},
     "output_type": "execute_result"
    },
    {
     "data": {
      "image/png": "[encoded data removed]",
      "text/plain": [
       "<Figure size 640x480 with 1 Axes>"
      ]
     },
     "metadata": {},
     "output_type": "display_data"
    }
   ],
   "source": [
    "bt2[1][:-1].plot(label=2)\n",
    "bt3[1][:-1].plot(label=3)\n",
    "bt4[1][:-1].plot(label=4)\n",
    "plt.title('Batch Times (256 mols)')\n",
    "plt.legend()"
   ]
  },
  {
   "cell_type": "code",
   "execution_count": 6,
   "id": "8081cfb4",
   "metadata": {},
   "outputs": [
    {
     "data": {
      "text/plain": [
       "(65552, 65552)"
      ]
     },
     "execution_count": 6,
     "metadata": {},
     "output_type": "execute_result"
    }
   ],
   "source": [
    "len(set((*b1.molecule_smiles.values, *b2.molecule_smiles.values, *b3.molecule_smiles.values, *b4.molecule_smiles.values))), b1.shape[0]+b2.shape[0]+b3.shape[0]+b4.shape[0]"
   ]
  },
  {
   "cell_type": "code",
   "execution_count": 7,
   "id": "d9119bb8",
   "metadata": {},
   "outputs": [
    {
     "name": "stdout",
     "output_type": "stream",
     "text": [
      "BATCH ************\n",
      "Num Fizzled 342 / 16388\n",
      "Num Water splitting: 201 / 16388\n",
      "BATCH ************\n",
      "Num Fizzled 422 / 16388\n",
      "Num Water splitting: 177 / 16388\n",
      "BATCH ************\n",
      "Num Fizzled 350 / 16388\n",
      "Num Water splitting: 366 / 16388\n",
      "BATCH ************\n",
      "Num Fizzled 296 / 16388\n",
      "Num Water splitting: 842 / 16388\n"
     ]
    }
   ],
   "source": [
    "for b in [b1, b2, b3, b4]:\n",
    "    tot = b.shape[0]\n",
    "    print(\"BATCH ************\")\n",
    "    print(\"Num Fizzled {} / {}\".format(b.loc[b.calc_status == 'fizzled'].shape[0], tot))\n",
    "    print(\"Num Water splitting: {} / {}\".format(b.loc[b.utility_function > 0].shape[0], tot))"
   ]
  },
  {
   "cell_type": "code",
   "execution_count": 9,
   "id": "322a48b6",
   "metadata": {},
   "outputs": [],
   "source": [
    "b = pd.concat([b1, b2, b3, b4])"
   ]
  },
  {
   "cell_type": "code",
   "execution_count": 24,
   "id": "2df4d615",
   "metadata": {},
   "outputs": [
    {
     "data": {
      "text/plain": [
       "(1586, 12)"
      ]
     },
     "execution_count": 24,
     "metadata": {},
     "output_type": "execute_result"
    }
   ],
   "source": [
    "b.loc[b.utility_function > 0].shape"
   ]
  },
  {
   "cell_type": "code",
   "execution_count": 31,
   "id": "240e46f5",
   "metadata": {},
   "outputs": [],
   "source": [
    "output = pd.read_json('/home/btpq/bt308495/Thesis/DF_INCOMPLETE.json', orient='split')"
   ]
  },
  {
   "cell_type": "code",
   "execution_count": 28,
   "id": "6c1197a5",
   "metadata": {},
   "outputs": [],
   "source": [
    "b.to_json('/home/btpq/bt308495/Thesis/DF_COMPLETE.json', orient='split')"
   ]
  },
  {
   "attachments": {},
   "cell_type": "markdown",
   "id": "32b78e5c",
   "metadata": {},
   "source": [
    "-----"
   ]
  },
  {
   "cell_type": "code",
   "execution_count": null,
   "id": "9b4dd25f",
   "metadata": {},
   "outputs": [],
   "source": [
    "### For automatically reloading import modules... allows you to run changes to code in jupyter without having to reload\n",
    "%load_ext autoreload\n",
    "%autoreload 2\n",
    "\n",
    "# Read Dataframe containing entire chemical space\n",
    "# path = os.getcwd() + '/data/'\n",
    "# file = 'df_chemical_space_chons_4rings.json'\n",
    "# p = pd.read_json(path+file, orient='split')\n",
    "\n",
    "path = '/home/btpq/bt308495/Thesis/osc_discovery/data/df_chemical_space_chons_4rings.json'\n",
    "p = pd.read_json(path, orient='split')\n",
    "\n",
    "# Change dir\n",
    "# os.chdir('/home/scakolli/Thesis/osc_discovery/run')\n",
    "os.chdir('/home/btpq/bt308495/Thesis/run')\n",
    "# sys.path.insert(1, '/home/btpq/bt308495/Thesis/')"
   ]
  },
  {
   "cell_type": "code",
   "execution_count": null,
   "id": "abc23638",
   "metadata": {},
   "outputs": [],
   "source": [
    "output = pd.read_json('/home/btpq/bt308495/Thesis/run/DF_4096.json', orient='split')"
   ]
  },
  {
   "cell_type": "code",
   "execution_count": null,
   "id": "cbb6bbdd",
   "metadata": {},
   "outputs": [],
   "source": [
    "output.loc[output.calc_status == 'fizzled'].shape"
   ]
  },
  {
   "cell_type": "code",
   "execution_count": null,
   "id": "4c190a1c",
   "metadata": {},
   "outputs": [],
   "source": [
    "output"
   ]
  },
  {
   "cell_type": "code",
   "execution_count": null,
   "id": "05f224f6",
   "metadata": {},
   "outputs": [],
   "source": [
    "output.tail()"
   ]
  },
  {
   "cell_type": "markdown",
   "id": "599414f9",
   "metadata": {},
   "source": [
    "----"
   ]
  },
  {
   "cell_type": "code",
   "execution_count": null,
   "id": "b531a883",
   "metadata": {},
   "outputs": [],
   "source": [
    "MAIN_COMPLETED = pd.read_json('/home/btpq/bt308495/Thesis/DF_COMPLETE.json', orient='split')"
   ]
  },
  {
   "cell_type": "code",
   "execution_count": null,
   "id": "d0d6be7d",
   "metadata": {},
   "outputs": [],
   "source": [
    "batches_size = MAIN_COMPLETED.shape[0]//4"
   ]
  },
  {
   "cell_type": "code",
   "execution_count": null,
   "id": "2b0d709a",
   "metadata": {},
   "outputs": [],
   "source": [
    "B1 = MAIN_COMPLETED.iloc[:batches_size]\n",
    "B2 = MAIN_COMPLETED.iloc[batches_size:2*batches_size]\n",
    "B3 = MAIN_COMPLETED.iloc[2*batches_size:3*batches_size]\n",
    "B4 = MAIN_COMPLETED.iloc[3*batches_size:]"
   ]
  },
  {
   "cell_type": "code",
   "execution_count": null,
   "id": "7d8bf703",
   "metadata": {},
   "outputs": [],
   "source": [
    "B1.to_json('/home/btpq/bt308495/Thesis/Batch1.json', orient='split')\n",
    "B2.to_json('/home/btpq/bt308495/Thesis/Batch2.json', orient='split')\n",
    "B3.to_json('/home/btpq/bt308495/Thesis/Batch3.json', orient='split')\n",
    "B4.to_json('/home/btpq/bt308495/Thesis/Batch4.json', orient='split')"
   ]
  },
  {
   "cell_type": "code",
   "execution_count": null,
   "id": "9a615ca0",
   "metadata": {},
   "outputs": [],
   "source": [
    "testing = MAIN.copy()"
   ]
  },
  {
   "cell_type": "code",
   "execution_count": null,
   "id": "421316c1",
   "metadata": {},
   "outputs": [],
   "source": [
    "for j, res in output.iterrows():\n",
    "    testing.loc[testing.molecule_smiles == res.molecule_smiles, ['IP', 'dGmax', 'calc_status']] = res[['IP', 'dGmax', 'calc_status']].values"
   ]
  },
  {
   "cell_type": "code",
   "execution_count": null,
   "id": "9791aee9",
   "metadata": {},
   "outputs": [],
   "source": [
    "testing.to_json('/home/btpq/bt308495/Thesis/DF_COMPLETE.json', orient='split')"
   ]
  },
  {
   "cell_type": "code",
   "execution_count": null,
   "id": "a1a5c64a",
   "metadata": {},
   "outputs": [],
   "source": [
    "from photocatalysis.learners_treesearch import get_unique_population"
   ]
  },
  {
   "cell_type": "code",
   "execution_count": null,
   "id": "1042969d",
   "metadata": {},
   "outputs": [],
   "source": [
    "MAIN = get_unique_population(MAIN)"
   ]
  },
  {
   "cell_type": "code",
   "execution_count": null,
   "id": "a8c986c7",
   "metadata": {},
   "outputs": [],
   "source": [
    "MAIN.to_json('/home/btpq/bt308495/Thesis/DF_INCOMPLETE.json', orient='split')"
   ]
  },
  {
   "cell_type": "code",
   "execution_count": null,
   "id": "15b25648",
   "metadata": {},
   "outputs": [],
   "source": [
    "os.getcwd()"
   ]
  },
  {
   "cell_type": "code",
   "execution_count": null,
   "id": "c0b85e6e",
   "metadata": {},
   "outputs": [],
   "source": [
    "MAIN = pd.read_json('/home/btpq/bt308495/Thesis/DF_INCOMPLETE.json', orient='split')"
   ]
  },
  {
   "cell_type": "code",
   "execution_count": null,
   "id": "3b205b83",
   "metadata": {},
   "outputs": [],
   "source": [
    "MAIN.iloc[4096:2*4096].to_json('/home/btpq/bt308495/Thesis/DF_INCOMPLETE_0to4096.json', orient='split')"
   ]
  },
  {
   "cell_type": "code",
   "execution_count": null,
   "id": "e52cff4d",
   "metadata": {},
   "outputs": [],
   "source": [
    "MAIN['added_in_round'] = MAIN['generation']"
   ]
  },
  {
   "cell_type": "code",
   "execution_count": null,
   "id": "059dea1d",
   "metadata": {},
   "outputs": [],
   "source": [
    "MAIN['calc_status'] = 'not_written'"
   ]
  },
  {
   "cell_type": "code",
   "execution_count": null,
   "id": "7433c098",
   "metadata": {},
   "outputs": [],
   "source": [
    "MAIN.to_json('/home/btpq/bt308495/Thesis/DF_INCOMPLETE.json', orient='split')"
   ]
  },
  {
   "cell_type": "code",
   "execution_count": null,
   "id": "bd29f440",
   "metadata": {},
   "outputs": [],
   "source": [
    "m = pd.read_json('/home/btpq/bt308495/Thesis/osc_discovery/data/df_initial_gfn1_testspace.json', orient='split')"
   ]
  },
  {
   "cell_type": "code",
   "execution_count": null,
   "id": "2465a954",
   "metadata": {},
   "outputs": [],
   "source": [
    "p"
   ]
  },
  {
   "cell_type": "code",
   "execution_count": null,
   "id": "6fe2ab28",
   "metadata": {},
   "outputs": [],
   "source": [
    "main_frame = p.copy().drop(columns=['XTB1_lamda_h', 'ehomo_gfn1_b3lyp']) # drop old descriptors\n",
    "main_frame.insert(4, 'IP', np.nan)\n",
    "main_frame.insert(5, 'dGmax', np.nan)\n"
   ]
  },
  {
   "cell_type": "code",
   "execution_count": null,
   "id": "fb161e44",
   "metadata": {},
   "outputs": [],
   "source": [
    "main_frame.to_json('DF_INCOMPLETE.json', orient='split')"
   ]
  },
  {
   "cell_type": "code",
   "execution_count": null,
   "id": "fec569c0",
   "metadata": {
    "scrolled": false
   },
   "outputs": [],
   "source": [
    "# Pick a random molecule in the space and get its smile string\n",
    "rand_i = np.random.randint(315451)\n",
    "smi = p.iloc[rand_i]['molecule_smiles']\n",
    "# smi = 'C1=CC(C=Cc2cnnc(-c3cc(C=CC4=CCC=C4)cnn3)c2)=CC1'\n",
    "# smi = 'C1=CSC(=C2C(C=Cc3ccco3)=CC=C2C=Cc2ccco2)S1'\n",
    "\n",
    "# Draw chem\n",
    "# p.iloc[rand_i]\n",
    "rdkit_smi = Chem.AddHs(Chem.MolFromSmiles(smi))\n",
    "rdkit_smi"
   ]
  },
  {
   "cell_type": "code",
   "execution_count": null,
   "id": "e59186d7",
   "metadata": {},
   "outputs": [],
   "source": [
    "os.chdir('/home/btpq/bt308495/Thesis/run')"
   ]
  },
  {
   "cell_type": "markdown",
   "id": "03111073",
   "metadata": {},
   "source": [
    "-----"
   ]
  },
  {
   "cell_type": "code",
   "execution_count": null,
   "id": "859b5152",
   "metadata": {},
   "outputs": [],
   "source": [
    "from photocatalysis.adsorption.tools import multi_prepare_substrate\n",
    "from photocatalysis.adsorption.relaxing import build_and_relax_configurations\n",
    "from photocatalysis.thermodynamics.thermodynamics import multi_get_thermodynamics, global_min_configurations, free_energies\n",
    "\n",
    "from photocatalysis.evaluate import evaluate_substrate\n",
    "from photocatalysis.thermodynamics.helpers import get_batches"
   ]
  },
  {
   "cell_type": "code",
   "execution_count": null,
   "id": "99894eff",
   "metadata": {},
   "outputs": [],
   "source": [
    "calc_params = {'gfn':2, 'acc':0.2, 'etemp':298.15, 'strict':'', 'gbsa':'water'}\n",
    "rand_smi = np.random.randint(0, 315450, size=32)\n",
    "smile_strings = p.molecule_smiles.iloc[rand_smi].tolist()"
   ]
  },
  {
   "cell_type": "code",
   "execution_count": null,
   "id": "68835763",
   "metadata": {},
   "outputs": [],
   "source": [
    "# Introduce errors\n",
    "smile_strings[1] = None"
   ]
  },
  {
   "cell_type": "code",
   "execution_count": null,
   "id": "e930e87f",
   "metadata": {},
   "outputs": [],
   "source": [
    "subs, errors = multi_prepare_substrate(smile_strings, calc_kwargs=calc_params)"
   ]
  },
  {
   "cell_type": "code",
   "execution_count": null,
   "id": "4c0e8404",
   "metadata": {},
   "outputs": [],
   "source": [
    "systems = []\n",
    "for j, sub in enumerate(subs):\n",
    "    print(f'Iter {j}')\n",
    "    systems.append([sub, *build_and_relax_configurations(sub, sub.info['equivalent_atoms'])])"
   ]
  },
  {
   "cell_type": "code",
   "execution_count": null,
   "id": "3c44d0b9",
   "metadata": {},
   "outputs": [],
   "source": [
    "props, errors_props = multi_get_thermodynamics(systems)\n",
    "ips = [s.info['ip'] for s in subs]"
   ]
  },
  {
   "cell_type": "markdown",
   "id": "fa71b24d",
   "metadata": {},
   "source": [
    "Parallel (11.3 sec / mol)"
   ]
  },
  {
   "cell_type": "code",
   "execution_count": null,
   "id": "7e41a643",
   "metadata": {},
   "outputs": [],
   "source": [
    "start = time.perf_counter()\n",
    "subs, errors = multi_prepare_substrate(smile_strings, calc_kwargs=calc_params)\n",
    "\n",
    "systems = []\n",
    "for j, sub in enumerate(subs):\n",
    "    print(f'Iter {j}')\n",
    "    systems.append([sub, *build_and_relax_configurations(sub, sub.info['equivalent_atoms'])])\n",
    "\n",
    "props, errors_props = multi_get_thermodynamics(systems)\n",
    "ips = [s.info['ip'] for s in subs]\n",
    "print('Took:', time.perf_counter() - start)"
   ]
  },
  {
   "cell_type": "markdown",
   "id": "ec0ae024",
   "metadata": {},
   "source": [
    "Serial (19.7 sec / mol)"
   ]
  },
  {
   "cell_type": "code",
   "execution_count": null,
   "id": "19b59d11",
   "metadata": {},
   "outputs": [],
   "source": [
    "start = time.perf_counter()\n",
    "outs = []\n",
    "for j, s in enumerate(smile_strings):\n",
    "    print(f'Iter {j}')\n",
    "    outs.append(evaluate_substrate(s, calc_params))\n",
    "\n",
    "print('Took:', time.perf_counter() - start)"
   ]
  },
  {
   "attachments": {},
   "cell_type": "markdown",
   "id": "dd24b352",
   "metadata": {},
   "source": [
    "-----"
   ]
  },
  {
   "cell_type": "code",
   "execution_count": null,
   "id": "86979dc4",
   "metadata": {},
   "outputs": [],
   "source": [
    "from photocatalysis.adsorption.tools import prepare_substrate\n",
    "from photocatalysis.thermodynamics.tools import single_run, multi_run\n",
    "from photocatalysis.thermodynamics.constants import dG1_REST, dG2_REST, dG3_REST, dG4_REST, SHE_VACUUM_POTENTIAL"
   ]
  },
  {
   "cell_type": "code",
   "execution_count": null,
   "id": "7490a7b6",
   "metadata": {},
   "outputs": [],
   "source": [
    "# from photocatalysis.adsorption.tools import build_configurations, get_adsorbate_conformers\n",
    "# from photocatalysis.adsorption.optimal_configurations import filter_configurations_with_symm, filter_configurations"
   ]
  },
  {
   "cell_type": "code",
   "execution_count": null,
   "id": "cc72e984",
   "metadata": {},
   "outputs": [],
   "source": [
    "def free_energy_multidim(Gs, GOH, GO, GOOH, explicitly_broadcast=True):\n",
    "    # Vectorized free energy expressions with numpy broadcasting\n",
    "    # Gs : scalar, G*: arbitrary length numpy array\n",
    "    # (OH_index, O_index, OOH_index)\n",
    "    \n",
    "    g1 = GOH[:, None, None] - Gs + dG1_REST\n",
    "    g2 = GO[None, :, None] - GOH[:, None, None] + dG2_REST\n",
    "    g3 = GOOH[None, None, :] - GO[None, :, None] + dG3_REST\n",
    "    g4 = Gs - GOOH[None, None, :] + dG4_REST\n",
    "    \n",
    "    if explicitly_broadcast:\n",
    "        tot_shape = len(GOH), len(GO), len(GOOH)\n",
    "        g1b, g2b, g3b, g4b = explicitly_broadcast_to(tot_shape, g1, g2, g3, g4)\n",
    "        G = np.moveaxis(np.array((g1b, g2b, g3b, g4b)), 0,3)\n",
    "        return G\n",
    "    else:\n",
    "        return g1, g2, g3, g4\n",
    "\n",
    "def explicitly_broadcast_to(shape, *gs_expres):\n",
    "    # Fillout arrays\n",
    "    out = []\n",
    "    for g in gs_expres:\n",
    "        out.append(np.broadcast_to(g, shape))\n",
    "    return tuple(out)"
   ]
  },
  {
   "cell_type": "code",
   "execution_count": null,
   "id": "9133eb64",
   "metadata": {},
   "outputs": [],
   "source": [
    "def grouped_by_sym(metric, sym_groupings):\n",
    "    metric_grouped = [[metric[i] for i in symgroup] for symgroup in sym_groupings]\n",
    "    return metric_grouped\n",
    "\n",
    "def clean_configs_with_nans(configs):\n",
    "    # Take a list of configs and resort them according to activesite, fill rest with nans...\n",
    "    # makes accessing by acvt site indx easy\n",
    "    d = dict.fromkeys(sub.info['nonH_atoms'], np.nan)\n",
    "    cs = deepcopy(configs)\n",
    "\n",
    "    for config in cs:\n",
    "        actv = config.info['active_site']\n",
    "        d[actv] = config\n",
    "\n",
    "    return list(d.values())"
   ]
  },
  {
   "cell_type": "code",
   "execution_count": null,
   "id": "e329ebe1",
   "metadata": {
    "scrolled": true
   },
   "outputs": [],
   "source": [
    "# Prepare Substrate\n",
    "calc_params = {'gfn':2, 'acc':0.2, 'etemp':298.15, 'strict':'', 'gbsa':'water'}\n",
    "# sub = prepare_substrate(smi, calc_params, multi_process_conf=2, multi_process_sp=4)"
   ]
  },
  {
   "cell_type": "code",
   "execution_count": null,
   "id": "649ada0d",
   "metadata": {},
   "outputs": [],
   "source": [
    "from photocatalysis.conformers import get_conformers_rdkit as get_conformers"
   ]
  },
  {
   "cell_type": "code",
   "execution_count": null,
   "id": "58333e4f",
   "metadata": {},
   "outputs": [],
   "source": [
    "substrate_confs = get_conformers(smi, n_cpu=4, print_output=False)\n",
    "substrate = substrate_confs.pop(0) # Lowest energy conf"
   ]
  },
  {
   "cell_type": "code",
   "execution_count": null,
   "id": "e3203398",
   "metadata": {},
   "outputs": [],
   "source": [
    "# sub = single_run(substrate, runtype='opt', **calc_params)\n",
    "sub = single_run(substrate, runtype='ohess', **calc_params, pop='')"
   ]
  },
  {
   "attachments": {},
   "cell_type": "markdown",
   "id": "cc631dc9",
   "metadata": {},
   "source": [
    "### Walltimes and cputimes"
   ]
  },
  {
   "cell_type": "code",
   "execution_count": null,
   "id": "fe46ad08",
   "metadata": {},
   "outputs": [],
   "source": [
    "swt, sct = sub.info['walltime'], sub.info['cputime']"
   ]
  },
  {
   "cell_type": "code",
   "execution_count": null,
   "id": "1b7cf9c0",
   "metadata": {},
   "outputs": [],
   "source": [
    "wt, ct = [], []\n",
    "cores = [i for i in range(1, 17)]\n",
    "for c in cores:\n",
    "    sub = single_run(substrate, runtype='ohess', **calc_params, pop='', parallel=c)\n",
    "    wt.append(sub.info['walltime'])\n",
    "    ct.append(sub.info['cputime'])"
   ]
  },
  {
   "cell_type": "code",
   "execution_count": null,
   "id": "eadf6094",
   "metadata": {},
   "outputs": [],
   "source": [
    "plt.plot(cores, swt / (np.array(wt) * np.array(cores)))\n",
    "plt.title('Parallel Efficiency')"
   ]
  },
  {
   "cell_type": "code",
   "execution_count": null,
   "id": "6425e5be",
   "metadata": {},
   "outputs": [],
   "source": [
    "plt.plot(cores, np.array(ct)/np.array(wt))\n",
    "plt.plot(cores, cores)\n",
    "plt.title('Speed Up Ratio')"
   ]
  },
  {
   "cell_type": "code",
   "execution_count": null,
   "id": "f52d5b5c",
   "metadata": {},
   "outputs": [],
   "source": [
    "plt.plot(cores, np.array(ct) / np.array(cores))\n",
    "plt.plot(cores, np.array(wt))\n",
    "plt.title('Cputime/core')"
   ]
  },
  {
   "attachments": {},
   "cell_type": "markdown",
   "id": "d37ad835",
   "metadata": {},
   "source": [
    "### Batch vs serial processing"
   ]
  },
  {
   "cell_type": "code",
   "execution_count": null,
   "id": "da0c8e49",
   "metadata": {},
   "outputs": [],
   "source": [
    "import multiprocessing as mp"
   ]
  },
  {
   "cell_type": "code",
   "execution_count": null,
   "id": "f7132b78",
   "metadata": {},
   "outputs": [],
   "source": [
    "from photocatalysis.adsorption.tools import prepare_substrate_batch, prepare_substrate, multi_prepare_substrate\n",
    "from photocatalysis.adsorption.relaxing import build_and_relax_configurations"
   ]
  },
  {
   "cell_type": "code",
   "execution_count": null,
   "id": "10526e4a",
   "metadata": {},
   "outputs": [],
   "source": [
    "from functools import partial\n",
    "from itertools import repeat"
   ]
  },
  {
   "cell_type": "code",
   "execution_count": null,
   "id": "2ef567a2",
   "metadata": {},
   "outputs": [],
   "source": [
    "def get_batches(lst, num_batches):\n",
    "    return [lst[i:i + num_batches] for i in range(0, len(lst), num_batches)]"
   ]
  },
  {
   "cell_type": "code",
   "execution_count": null,
   "id": "a473197e",
   "metadata": {},
   "outputs": [],
   "source": [
    "rand_smi = np.random.randint(0, 315450, size=128)"
   ]
  },
  {
   "cell_type": "code",
   "execution_count": null,
   "id": "b225af47",
   "metadata": {},
   "outputs": [],
   "source": [
    "batches = get_batches(p.molecule_smiles.iloc[rand_smi].tolist(), 24)"
   ]
  },
  {
   "cell_type": "code",
   "execution_count": null,
   "id": "dfe0af18",
   "metadata": {},
   "outputs": [],
   "source": [
    "batches[0]"
   ]
  },
  {
   "cell_type": "code",
   "execution_count": null,
   "id": "c62f83c8",
   "metadata": {},
   "outputs": [],
   "source": [
    "test = prepare_substrate_batch(batches[0], calc_params)"
   ]
  },
  {
   "cell_type": "code",
   "execution_count": null,
   "id": "e4031daa",
   "metadata": {},
   "outputs": [],
   "source": [
    "test2 = multi_prepare_substrate(batches[0], calc_kwargs=calc_params, multi_process=-1)"
   ]
  },
  {
   "cell_type": "code",
   "execution_count": null,
   "id": "9c405c6d",
   "metadata": {},
   "outputs": [],
   "source": [
    "systems = []\n",
    "for t in test2:\n",
    "    oh, o, ooh = build_and_relax_configurations(t, t.info['equivalent_atoms'], optlevel='loose', multi_process=-1, additional_conformers=False)\n",
    "    systems.append([t, oh, o, ooh])"
   ]
  },
  {
   "cell_type": "code",
   "execution_count": null,
   "id": "13e792b9",
   "metadata": {},
   "outputs": [],
   "source": [
    "from photocatalysis.evaluate import multi_calculate_thermochemistry"
   ]
  },
  {
   "cell_type": "code",
   "execution_count": null,
   "id": "16f13909",
   "metadata": {},
   "outputs": [],
   "source": [
    "test3 = multi_calculate_thermochemistry(systems, multi_process=-1)"
   ]
  },
  {
   "cell_type": "code",
   "execution_count": null,
   "id": "ec0eacdb",
   "metadata": {},
   "outputs": [],
   "source": [
    "test3"
   ]
  },
  {
   "attachments": {},
   "cell_type": "markdown",
   "id": "8549f46e",
   "metadata": {},
   "source": [
    "-----"
   ]
  },
  {
   "cell_type": "code",
   "execution_count": null,
   "id": "b22e43a2",
   "metadata": {},
   "outputs": [],
   "source": [
    "substrates = [get_conformers(s, n_cpu=8)[0] for s in p.molecule_smiles.iloc[rand_smi]]"
   ]
  },
  {
   "cell_type": "code",
   "execution_count": null,
   "id": "6a680160",
   "metadata": {},
   "outputs": [],
   "source": [
    "### 48 secs to beat for serial/parallel 32\n",
    "with mp.Pool(32) as pool:\n",
    "    sub_test = pool.map(get_conformers, p.molecule_smiles.iloc[rand_smi].tolist())"
   ]
  },
  {
   "cell_type": "code",
   "execution_count": null,
   "id": "1432531e",
   "metadata": {},
   "outputs": [],
   "source": [
    "test = [single_run(s, runtype='opt', **calc_params, parallel=8) for s in subs]"
   ]
  },
  {
   "cell_type": "code",
   "execution_count": null,
   "id": "cf923313",
   "metadata": {},
   "outputs": [],
   "source": [
    "test2 = multi_run(subs, runtype='opt normal', calc_kwargs=calc_params)"
   ]
  },
  {
   "cell_type": "code",
   "execution_count": null,
   "id": "89db7add",
   "metadata": {},
   "outputs": [],
   "source": [
    "optlevels = ['loose', 'lax', 'normal', 'tight', 'vtight', 'extreme']\n",
    "ips = []\n",
    "\n",
    "for o in optlevels:\n",
    "    print(o)\n",
    "    subs = multi_run(substrates, runtype=f'opt {o}', calc_kwargs=calc_params)\n",
    "    subs = multi_run(subs, runtype='vipea', calc_kwargs=calc_params)\n",
    "\n",
    "    ips.append([s.info['ip'] for s in subs])"
   ]
  },
  {
   "cell_type": "code",
   "execution_count": null,
   "id": "64e3d746",
   "metadata": {},
   "outputs": [],
   "source": [
    "ips = np.array(ips)"
   ]
  },
  {
   "cell_type": "code",
   "execution_count": null,
   "id": "8988265e",
   "metadata": {},
   "outputs": [],
   "source": [
    "plt.plot(ips - ips[0, :])"
   ]
  },
  {
   "attachments": {},
   "cell_type": "markdown",
   "id": "f162de0f",
   "metadata": {},
   "source": [
    "## All sites"
   ]
  },
  {
   "attachments": {},
   "cell_type": "markdown",
   "id": "027a92ea",
   "metadata": {},
   "source": [
    "### Complete relaxation"
   ]
  },
  {
   "cell_type": "code",
   "execution_count": null,
   "id": "fc88db34",
   "metadata": {
    "scrolled": false
   },
   "outputs": [],
   "source": [
    "start = time.perf_counter()\n",
    "\n",
    "### Build\n",
    "configsOH, configsO, configsOOH = build_configurations(sub, key='nonH_atoms')\n",
    "\n",
    "### Relax\n",
    "oh_all = multi_run(configsOH, runtype='opt vtight', keep_folders=False, calc_kwargs=calc_params, multi_process=6)\n",
    "o_all = multi_run(configsO, runtype='opt vtight', keep_folders=False, calc_kwargs=calc_params, multi_process=6)\n",
    "ooh_all = multi_run(configsOOH, runtype='opt vtight', keep_folders=False, calc_kwargs=calc_params, multi_process=6)\n",
    "\n",
    "### Filter\n",
    "oh_all = filter_configurations(oh_all, sub)\n",
    "o_all = filter_configurations(o_all, sub)\n",
    "ooh_all = filter_configurations(ooh_all, sub)\n",
    "\n",
    "### Info\n",
    "print(\"Num configs\", len(oh_all), len(o_all), len(ooh_all))\n",
    "print(\"Relaxation Took\", time.perf_counter()-start)"
   ]
  },
  {
   "attachments": {},
   "cell_type": "markdown",
   "id": "e4820485",
   "metadata": {},
   "source": [
    "### ZPE, TS"
   ]
  },
  {
   "cell_type": "code",
   "execution_count": null,
   "id": "437f476f",
   "metadata": {},
   "outputs": [],
   "source": [
    "start = time.perf_counter()\n",
    "\n",
    "### Hessian\n",
    "oh_all = multi_run(oh_all, runtype='hess', keep_folders=False, calc_kwargs=calc_params, multi_process=6)\n",
    "o_all = multi_run(o_all, runtype='hess', keep_folders=False, calc_kwargs=calc_params, multi_process=6)\n",
    "ooh_all = multi_run(ooh_all, runtype='hess', keep_folders=False, calc_kwargs=calc_params, multi_process=6)\n",
    "\n",
    "### Info\n",
    "print(\"Total Time\", time.perf_counter()-start)"
   ]
  },
  {
   "cell_type": "code",
   "execution_count": null,
   "id": "375ddeee",
   "metadata": {},
   "outputs": [],
   "source": [
    "### All information\n",
    "oh_nan, o_nan, ooh_nan = clean_configs_with_nans(oh_all), clean_configs_with_nans(o_all), clean_configs_with_nans(ooh_all)\n",
    "\n",
    "eoh_nan = [config.info['energy'] if config is not np.nan else np.nan for config in oh_nan]\n",
    "eo_nan = [config.info['energy'] if config is not np.nan else np.nan for config in o_nan]\n",
    "eooh_nan = [config.info['energy'] if config is not np.nan else np.nan for config in ooh_nan]\n",
    "\n",
    "zpeoh_nan = np.array([config.info['zpe'] if config is not np.nan else np.nan for config in oh_nan])\n",
    "zpeo_nan = np.array([config.info['zpe'] if config is not np.nan else np.nan for config in o_nan])\n",
    "zpeooh_nan = np.array([config.info['zpe'] if config is not np.nan else np.nan for config in ooh_nan])\n",
    "\n",
    "soh_nan = np.array([config.info['entropy'] if config is not np.nan else np.nan for config in oh_nan])\n",
    "so_nan = np.array([config.info['entropy'] if config is not np.nan else np.nan for config in o_nan])\n",
    "sooh_nan = np.array([config.info['entropy'] if config is not np.nan else np.nan for config in ooh_nan])"
   ]
  },
  {
   "cell_type": "code",
   "execution_count": null,
   "id": "24a2fd04",
   "metadata": {},
   "outputs": [],
   "source": [
    "es = sub.info['energy']\n",
    "zpes = sub.info['zpe']\n",
    "ss = sub.info['entropy']"
   ]
  },
  {
   "cell_type": "code",
   "execution_count": null,
   "id": "025e5d46",
   "metadata": {},
   "outputs": [],
   "source": [
    "eoh_all = [config.info['energy'] if config is not np.nan else np.nan for config in oh_all]\n",
    "eo_all = [config.info['energy'] if config is not np.nan else np.nan for config in o_all]\n",
    "eooh_all = [config.info['energy'] if config is not np.nan else np.nan for config in ooh_all]\n",
    "\n",
    "zpeoh_all = np.array([config.info['zpe'] if config is not np.nan else np.nan for config in oh_all])\n",
    "zpeo_all = np.array([config.info['zpe'] if config is not np.nan else np.nan for config in o_all])\n",
    "zpeooh_all = np.array([config.info['zpe'] if config is not np.nan else np.nan for config in ooh_all])\n",
    "\n",
    "soh_all = np.array([config.info['entropy'] if config is not np.nan else np.nan for config in oh_all])\n",
    "so_all = np.array([config.info['entropy'] if config is not np.nan else np.nan for config in o_all])\n",
    "sooh_all = np.array([config.info['entropy'] if config is not np.nan else np.nan for config in ooh_all])"
   ]
  },
  {
   "cell_type": "code",
   "execution_count": null,
   "id": "d7e678c8",
   "metadata": {},
   "outputs": [],
   "source": [
    "### Grouping for equivalent sites\n",
    "qs_grouped = grouped_by_sym(sub.info['qs'], sub.info['equivalent_atoms_grouped'])\n",
    "\n",
    "eoh_grouped = grouped_by_sym(eoh_nan, sub.info['equivalent_atoms_grouped'])\n",
    "eo_grouped = grouped_by_sym(eo_nan, sub.info['equivalent_atoms_grouped'])\n",
    "eooh_grouped = grouped_by_sym(eooh_nan, sub.info['equivalent_atoms_grouped'])\n",
    "\n",
    "zpeoh_grouped = grouped_by_sym(zpeoh_nan, sub.info['equivalent_atoms_grouped'])\n",
    "zpeo_grouped = grouped_by_sym(zpeo_nan, sub.info['equivalent_atoms_grouped'])\n",
    "zpeooh_grouped = grouped_by_sym(zpeooh_nan, sub.info['equivalent_atoms_grouped'])\n",
    "\n",
    "soh_grouped = grouped_by_sym(soh_nan, sub.info['equivalent_atoms_grouped'])\n",
    "so_grouped = grouped_by_sym(so_nan, sub.info['equivalent_atoms_grouped'])\n",
    "sooh_grouped = grouped_by_sym(sooh_nan, sub.info['equivalent_atoms_grouped'])"
   ]
  },
  {
   "attachments": {},
   "cell_type": "markdown",
   "id": "817dcb53",
   "metadata": {},
   "source": [
    "## Equivalent sites"
   ]
  },
  {
   "cell_type": "code",
   "execution_count": null,
   "id": "b7b0ebee",
   "metadata": {
    "scrolled": true
   },
   "outputs": [],
   "source": [
    "mol = Chem.MolFromSmiles(smi)\n",
    "mol.__sssAtoms = [*sub.info['equivalent_atoms']]\n",
    "mol"
   ]
  },
  {
   "cell_type": "code",
   "execution_count": null,
   "id": "2f3aab6f",
   "metadata": {},
   "outputs": [],
   "source": [
    "sub.info['equivalent_atoms']"
   ]
  },
  {
   "cell_type": "code",
   "execution_count": null,
   "id": "3dbd510a",
   "metadata": {},
   "outputs": [],
   "source": [
    "print(\"Max diff in Energy (eV)\")\n",
    "print(np.nanmax([max(g) - min(g) for g in eoh_grouped]), np.nanmax([max(g) - min(g) for g in eo_grouped]), np.nanmax([max(g) - min(g) for g in eooh_grouped]))"
   ]
  },
  {
   "cell_type": "code",
   "execution_count": null,
   "id": "f8bd2cd6",
   "metadata": {},
   "outputs": [],
   "source": [
    "print(\"Max diff in zpe (eV)\")\n",
    "print(np.nanmax([max(g) - min(g) for g in zpeoh_grouped]), np.nanmax([max(g) - min(g) for g in zpeo_grouped]), np.nanmax([max(g) - min(g) for g in zpeooh_grouped]))"
   ]
  },
  {
   "cell_type": "code",
   "execution_count": null,
   "id": "264af838",
   "metadata": {},
   "outputs": [],
   "source": [
    "print(\"Max diff in entropy (eV)\")\n",
    "print(np.nanmax([max(g) - min(g) for g in soh_grouped]), np.nanmax([max(g) - min(g) for g in so_grouped]), np.nanmax([max(g) - min(g) for g in sooh_grouped]))"
   ]
  },
  {
   "cell_type": "code",
   "execution_count": null,
   "id": "4b32789a",
   "metadata": {
    "scrolled": true
   },
   "outputs": [],
   "source": [
    "for g, e in zip(qs_grouped, sub.info['equivalent_atoms_grouped']):\n",
    "    print(e, '|', max(g) - min(g))"
   ]
  },
  {
   "attachments": {},
   "cell_type": "markdown",
   "id": "79f30096",
   "metadata": {},
   "source": [
    "Variation probably due to an actual difference in 3D environment, but also conformational and optimization related influences.\n",
    "\n",
    "This approximation breaks down if the 2 supposedly equivalent sites have substantially different electronic environments. Errors on the order of 0.1-0.2 eV.\n",
    "\n",
    "Charge difference heuristic max(qs) - min(qs) < 0.001 C."
   ]
  },
  {
   "attachments": {},
   "cell_type": "markdown",
   "id": "9d96ddee",
   "metadata": {},
   "source": [
    "### Complete relaxation"
   ]
  },
  {
   "cell_type": "code",
   "execution_count": null,
   "id": "dd057e39",
   "metadata": {},
   "outputs": [],
   "source": [
    "### Build Configs\n",
    "configsOH, configsO, configsOOH = build_configurations(sub, key='equivalent_atoms')"
   ]
  },
  {
   "cell_type": "code",
   "execution_count": null,
   "id": "05f8239d",
   "metadata": {
    "scrolled": true
   },
   "outputs": [],
   "source": [
    "start = time.perf_counter()\n",
    "oh = multi_run(configsOH, runtype='opt vtight', keep_folders=False, calc_kwargs=calc_params, multi_process=6)\n",
    "o = multi_run(configsO, runtype='opt vtight', keep_folders=False, calc_kwargs=calc_params, multi_process=6)\n",
    "ooh = multi_run(configsOOH, runtype='opt vtight', keep_folders=False, calc_kwargs=calc_params, multi_process=6)"
   ]
  },
  {
   "cell_type": "code",
   "execution_count": null,
   "id": "0e894bd3",
   "metadata": {
    "scrolled": true
   },
   "outputs": [],
   "source": [
    "### Filtering\n",
    "oh = filter_configurations_with_symm(oh, sub)\n",
    "o = filter_configurations_with_symm(o, sub)\n",
    "ooh = filter_configurations_with_symm(ooh, sub)\n",
    "print(\"Num configs\", len(oh), len(o), len(ooh))\n",
    "print(\"Took\", time.perf_counter()-start)"
   ]
  },
  {
   "attachments": {},
   "cell_type": "markdown",
   "id": "45a08c14",
   "metadata": {},
   "source": [
    "### Crude, filter, then full relaxation"
   ]
  },
  {
   "cell_type": "code",
   "execution_count": null,
   "id": "480a23c8",
   "metadata": {
    "scrolled": true
   },
   "outputs": [],
   "source": [
    "### Crude Relaxation\n",
    "start = time.perf_counter()\n",
    "oh_crude = multi_run(configsOH, runtype='opt sloppy', keep_folders=False, calc_kwargs=calc_params, multi_process=6)\n",
    "o_crude = multi_run(configsO, runtype='opt sloppy', keep_folders=False, calc_kwargs=calc_params, multi_process=6)\n",
    "ooh_crude = multi_run(configsOOH, runtype='opt sloppy', keep_folders=False, calc_kwargs=calc_params, multi_process=6)"
   ]
  },
  {
   "cell_type": "code",
   "execution_count": null,
   "id": "60375319",
   "metadata": {},
   "outputs": [],
   "source": [
    "### Filtering\n",
    "oh_crude = filter_configurations_with_symm(oh_crude, sub)\n",
    "o_crude = filter_configurations_with_symm(o_crude, sub)\n",
    "ooh_crude = filter_configurations_with_symm(ooh_crude, sub)\n",
    "print(\"Num configs\", len(oh_crude), len(o_crude), len(ooh_crude))"
   ]
  },
  {
   "cell_type": "code",
   "execution_count": null,
   "id": "2740c980",
   "metadata": {
    "scrolled": true
   },
   "outputs": [],
   "source": [
    "### Subsequent full Relaxation\n",
    "oh_crude_full = multi_run(oh_crude, runtype='opt vtight', keep_folders=False, calc_kwargs=calc_params, multi_process=6)\n",
    "o_crude_full = multi_run(o_crude, runtype='opt vtight', keep_folders=False, calc_kwargs=calc_params, multi_process=6)\n",
    "ooh_crude_full = multi_run(ooh_crude, runtype='opt vtight', keep_folders=False, calc_kwargs=calc_params, multi_process=6)"
   ]
  },
  {
   "cell_type": "code",
   "execution_count": null,
   "id": "d26201cd",
   "metadata": {
    "scrolled": true
   },
   "outputs": [],
   "source": [
    "### Filtering\n",
    "oh_crude_full = filter_configurations_with_symm(oh_crude_full, sub)\n",
    "o_crude_full = filter_configurations_with_symm(o_crude_full, sub)\n",
    "ooh_crude_full = filter_configurations_with_symm(ooh_crude_full, sub)\n",
    "print(\"Num configs\", len(oh_crude_full), len(o_crude_full), len(ooh_crude_full))\n",
    "print(\"Took\", time.perf_counter()-start)"
   ]
  },
  {
   "attachments": {},
   "cell_type": "markdown",
   "id": "60374c9e",
   "metadata": {},
   "source": [
    "Its often apparent early in the relaxation whether a site is stable or not (whether it destroys the substrate or volatalizes off the site). Prune redundant and unstable configurations early in the relaxation.\n",
    "\n",
    "1. Double O configs are common\n",
    "2. Volatization to another site is common\n",
    "3. No need to further optimize a destroyed substrate"
   ]
  },
  {
   "cell_type": "code",
   "execution_count": null,
   "id": "7ea3d803",
   "metadata": {},
   "outputs": [],
   "source": [
    "eoh = np.array([t.info['energy'] for t in oh])\n",
    "eo = np.array([t.info['energy'] for t in o])\n",
    "eooh = np.array([t.info['energy'] for t in ooh])\n",
    "\n",
    "eoh_crude = np.array([t.info['energy'] for t in oh_crude])\n",
    "eo_crude = np.array([t.info['energy'] for t in o_crude])\n",
    "eooh_crude = np.array([t.info['energy'] for t in ooh_crude])\n",
    "\n",
    "asoh = [t.info['active_site'] for t in oh]\n",
    "aso = [t.info['active_site'] for t in o]\n",
    "asooh = [t.info['active_site'] for t in ooh]\n",
    "\n",
    "activesites = [[i, j, k] for i, j, k in itertools.product(asoh, aso, asooh)]\n",
    "activesites = np.array(activesites).reshape(len(asoh), len(aso), len(asooh), 3)\n",
    "eoh_crude = np.delete(eoh_crude, 5)"
   ]
  },
  {
   "attachments": {},
   "cell_type": "markdown",
   "id": "d8c50c8b",
   "metadata": {},
   "source": [
    "### Generating additional adsorbate configurations"
   ]
  },
  {
   "attachments": {},
   "cell_type": "markdown",
   "id": "ebd118ca",
   "metadata": {},
   "source": [
    "Force fields turn out to be not so good for geometries... but still useful for gnerating addition conformations"
   ]
  },
  {
   "cell_type": "code",
   "execution_count": null,
   "id": "1df8fbd4",
   "metadata": {
    "scrolled": true
   },
   "outputs": [],
   "source": [
    "# Generate additional conformers, and optimize them with ff's\n",
    "start = time.perf_counter()\n",
    "add_oh_confs = [get_adsorbate_conformers(config) for config in oh]\n",
    "add_o_confs = [get_adsorbate_conformers(config) for config in o]\n",
    "add_ooh_confs = [get_adsorbate_conformers(config) for config in ooh]\n",
    "print(\"Took\", time.perf_counter() - start)"
   ]
  },
  {
   "cell_type": "code",
   "execution_count": null,
   "id": "e10efa06",
   "metadata": {
    "scrolled": true
   },
   "outputs": [],
   "source": [
    "# Relax them at tight binding level\n",
    "add_oh = multi_run(add_oh_confs, runtype='opt vtight', keep_folders=False, calc_kwargs=calc_params, multi_process=6)\n",
    "add_o = multi_run(add_o_confs, runtype='opt vtight', keep_folders=False, calc_kwargs=calc_params, multi_process=6)\n",
    "add_ooh = multi_run(add_ooh_confs, runtype='opt vtight', keep_folders=False, calc_kwargs=calc_params, multi_process=6)"
   ]
  },
  {
   "cell_type": "code",
   "execution_count": null,
   "id": "0227af75",
   "metadata": {
    "scrolled": true
   },
   "outputs": [],
   "source": [
    "# Filter and update\n",
    "oh_opt = filter_configurations(oh + add_oh, sub)\n",
    "o_opt = filter_configurations(o + add_o, sub)\n",
    "ooh_opt = filter_configurations(ooh + add_ooh, sub)\n",
    "print(\"Took Total\", time.perf_counter() - start)"
   ]
  },
  {
   "cell_type": "code",
   "execution_count": null,
   "id": "22d1e7b0",
   "metadata": {},
   "outputs": [],
   "source": [
    "eoh_opt = np.array([t.info['energy'] for t in oh_opt])\n",
    "eo_opt = np.array([t.info['energy'] for t in o_opt])\n",
    "eooh_opt = np.array([t.info['energy'] for t in ooh_opt])"
   ]
  },
  {
   "cell_type": "code",
   "execution_count": null,
   "id": "bcf4b13c",
   "metadata": {
    "scrolled": true
   },
   "outputs": [],
   "source": [
    "print('Num configs', len(oh), len(o), len(ooh))\n",
    "print('New configs', np.count_nonzero(eoh_opt - eoh < 0), np.count_nonzero(eo_opt - eo < 0), np.count_nonzero(eooh_opt - eooh < 0))"
   ]
  },
  {
   "cell_type": "code",
   "execution_count": null,
   "id": "1b88ad15",
   "metadata": {},
   "outputs": [],
   "source": [
    "print('Min difference (eV)')\n",
    "print(np.min(eoh_opt - eoh), np.min(eo_opt - eo), np.min(eooh_opt - eooh))"
   ]
  },
  {
   "attachments": {},
   "cell_type": "markdown",
   "id": "971d6182",
   "metadata": {},
   "source": [
    "Generating additional conformations with EKTG/FFs leads to better sampling of the PES for a given active site.. but it essentially requires double the computational time. Can resolve errors on the order of ~0.1 eV."
   ]
  },
  {
   "attachments": {},
   "cell_type": "markdown",
   "id": "9b147736",
   "metadata": {},
   "source": [
    "### Free Energy and overpotentials"
   ]
  },
  {
   "attachments": {},
   "cell_type": "markdown",
   "id": "68888bad",
   "metadata": {},
   "source": [
    "#### ZPE, TS"
   ]
  },
  {
   "cell_type": "code",
   "execution_count": null,
   "id": "b9cfbd62",
   "metadata": {
    "scrolled": true
   },
   "outputs": [],
   "source": [
    "start = time.perf_counter()\n",
    "\n",
    "### Hessian\n",
    "oh = multi_run(oh, runtype='hess', keep_folders=False, calc_kwargs=calc_params, multi_process=6)\n",
    "o = multi_run(o, runtype='hess', keep_folders=False, calc_kwargs=calc_params, multi_process=6)\n",
    "ooh = multi_run(ooh, runtype='hess', keep_folders=False, calc_kwargs=calc_params, multi_process=6)\n",
    "\n",
    "### Info\n",
    "print(\"Total Time\", time.perf_counter()-start)"
   ]
  },
  {
   "cell_type": "code",
   "execution_count": null,
   "id": "161401a3",
   "metadata": {},
   "outputs": [],
   "source": [
    "# Info\n",
    "zpeoh = np.array([config.info['zpe'] if config is not np.nan else np.nan for config in oh])\n",
    "zpeo = np.array([config.info['zpe'] if config is not np.nan else np.nan for config in o])\n",
    "zpeooh = np.array([config.info['zpe'] if config is not np.nan else np.nan for config in ooh])\n",
    "\n",
    "soh = np.array([config.info['entropy'] if config is not np.nan else np.nan for config in oh])\n",
    "so = np.array([config.info['entropy'] if config is not np.nan else np.nan for config in o])\n",
    "sooh = np.array([config.info['entropy'] if config is not np.nan else np.nan for config in ooh])"
   ]
  },
  {
   "attachments": {},
   "cell_type": "markdown",
   "id": "ff236c44",
   "metadata": {},
   "source": [
    "#### with (ZPE-TS) correction"
   ]
  },
  {
   "attachments": {},
   "cell_type": "markdown",
   "id": "191edfa1",
   "metadata": {},
   "source": [
    "enumerating active sites... lowest overpotential site would be our active site?"
   ]
  },
  {
   "cell_type": "code",
   "execution_count": null,
   "id": "70977351",
   "metadata": {},
   "outputs": [],
   "source": [
    "# Free energies\n",
    "gs = es + zpes - ss\n",
    "goh = eoh + zpeoh - soh\n",
    "go = eo + zpeo - so\n",
    "gooh = eooh + zpeooh - sooh\n",
    "\n",
    "# G matrix, MAD, overpot, rate determining step\n",
    "G = free_energy_multidim(gs, goh, go, gooh)\n",
    "overpot = G.max(axis=3) - 1.23\n",
    "mad = abs(G-1.23).sum(axis=3)\n",
    "spread = G.max(axis=3) - G.min(axis=3)\n",
    "rds = G.argmax(axis=3)\n",
    "\n",
    "# Sorting\n",
    "arg_0 = np.unravel_index(overpot.argsort(axis=None, kind='stable'), overpot.shape)\n",
    "indxs_0 = np.dstack(arg_0)[0]"
   ]
  },
  {
   "cell_type": "code",
   "execution_count": null,
   "id": "4e5b9cf8",
   "metadata": {},
   "outputs": [],
   "source": [
    "eoh_crude.argmin(), eo_crude.argmin(), eooh_crude.argmin()"
   ]
  },
  {
   "cell_type": "code",
   "execution_count": null,
   "id": "5cd1d23f",
   "metadata": {},
   "outputs": [],
   "source": [
    "stable_indx = eoh.argmin(), eo.argmin(), eooh.argmin()\n",
    "stable_indx_zpets = goh.argmin(), go.argmin(), gooh.argmin()\n",
    "stable_indx"
   ]
  },
  {
   "cell_type": "code",
   "execution_count": null,
   "id": "041aba4f",
   "metadata": {},
   "outputs": [],
   "source": [
    "G[stable_indx].max()"
   ]
  },
  {
   "cell_type": "code",
   "execution_count": null,
   "id": "1d5eeeb7",
   "metadata": {},
   "outputs": [],
   "source": [
    "# unravled_argsorted_overpot = np.unravel_index(argsorted_overpot, overpot.shape)\n",
    "# lexargsorted_overpot_then_mad = np.lexsort((mad.flatten()[argsorted_overpot], overpot.flatten()[argsorted_overpot]))\n",
    "# argsorted_overpot_then_mad = argsorted_overpot[lexargsorted_overpot_then_mad]\n",
    "# unraveled_argsorted_overpot_then_mad = np.unravel_index(argsorted_overpot_then_mad, overpot.shape)"
   ]
  },
  {
   "cell_type": "code",
   "execution_count": null,
   "id": "68823006",
   "metadata": {},
   "outputs": [],
   "source": [
    "indxs_0[0], overpot[*indxs_0[0]]"
   ]
  },
  {
   "cell_type": "code",
   "execution_count": null,
   "id": "20a8fd96",
   "metadata": {},
   "outputs": [],
   "source": [
    "G[0,1,2]"
   ]
  },
  {
   "cell_type": "code",
   "execution_count": null,
   "id": "73562cce",
   "metadata": {},
   "outputs": [],
   "source": [
    "for config_index in indxs_0:\n",
    "    print(config_index, '|', overpot[*config_index], '|', rds[*config_index])"
   ]
  },
  {
   "attachments": {},
   "cell_type": "markdown",
   "id": "766bdeec",
   "metadata": {},
   "source": [
    "#### visualizing sites"
   ]
  },
  {
   "cell_type": "code",
   "execution_count": null,
   "id": "8a164002",
   "metadata": {},
   "outputs": [],
   "source": [
    "from rdkit.Chem import Draw\n",
    "import ast"
   ]
  },
  {
   "cell_type": "code",
   "execution_count": null,
   "id": "543de6a2",
   "metadata": {},
   "outputs": [],
   "source": [
    "def mol_with_specific_atom_index(mol, indices=None):\n",
    "    if indices is not None:\n",
    "        for atom in mol.GetAtoms():\n",
    "            if atom.GetIdx() in indices:\n",
    "                atom.SetAtomMapNum(atom.GetIdx())\n",
    "    else:\n",
    "        for atom in mol.GetAtoms():\n",
    "            atom.SetAtomMapNum(atom.GetIdx())\n",
    "    return mol"
   ]
  },
  {
   "cell_type": "code",
   "execution_count": null,
   "id": "e67ce015",
   "metadata": {},
   "outputs": [],
   "source": [
    "def config_num_to_activesite_numerized(arguments):\n",
    "    # np.dstacked (Nx3) array of config indices as input\n",
    "    out = []\n",
    "    for argg in arguments:\n",
    "        if isinstance(aso[argg[1]], str):\n",
    "            a = list((asoh[argg[0]], *ast.literal_eval(aso[argg[1]]), asooh[argg[2]]))\n",
    "        else:\n",
    "            a = list((asoh[argg[0]], aso[argg[1]], asooh[argg[2]]))\n",
    "        \n",
    "        c = [int(b) for b in a]\n",
    "        out.append(c)\n",
    "    \n",
    "    return out"
   ]
  },
  {
   "cell_type": "code",
   "execution_count": null,
   "id": "87850a94",
   "metadata": {},
   "outputs": [],
   "source": [
    "N = 300\n",
    "\n",
    "args = indxs_0[:N:20]\n",
    "# args = np.dstack(unraveled_argsorted_overpot_then_mad)[0][:N:20]\n",
    "# args = activesites[argsorted_overpot][:N]\n",
    "# args = argsorted_overpot_then_mad[:N:20]\n",
    "\n",
    "l = []\n",
    "ms = []\n",
    "for arg in args:\n",
    "    overpotential = overpot[*arg]\n",
    "    meanabsdiff = mad[*arg]\n",
    "    #overpotential = overpot.flatten()[arg]\n",
    "    #meanabsdiff = mad.flatten()[arg]\n",
    "    \n",
    "    # |as:{arg[0], arg[1], arg[2]}, \n",
    "    l.append(f'|over:{round(overpotential, 4)}eV, mad:{round(meanabsdiff, 4)}|')\n",
    "    \n",
    "    m = deepcopy(rdkit_smi)\n",
    "    #m.GetAtomWithIdx(int(arg[0])).SetProp('atomNote', 'OH')\n",
    "    #m.GetAtomWithIdx(int(arg[1])).SetProp('atomNote', 'O')\n",
    "    #m.GetAtomWithIdx(int(arg[2])).SetProp('atomNote', 'OOH')\n",
    "    m = Chem.RemoveHs(m)\n",
    "    #asite = activesites[np.unravel_index(arg, overpot.shape)].astype(int)\n",
    "    asite = activesites[*arg]\n",
    "    #m = mol_with_specific_atom_index(m, indices=[*asite])\n",
    "    ms.append(m)"
   ]
  },
  {
   "cell_type": "code",
   "execution_count": null,
   "id": "2ceb9327",
   "metadata": {},
   "outputs": [],
   "source": [
    "overpot.max()"
   ]
  },
  {
   "cell_type": "code",
   "execution_count": null,
   "id": "6b2a2c7c",
   "metadata": {
    "scrolled": false
   },
   "outputs": [],
   "source": [
    "Draw.MolsToGridImage(ms, legends=l, highlightAtomLists=config_num_to_activesite_numerized(indxs_0), subImgSize=(500,500))"
   ]
  },
  {
   "attachments": {},
   "cell_type": "markdown",
   "id": "c8fb3bcf",
   "metadata": {},
   "source": [
    "What do we count as an active site exactly? Far apart configurations also work?"
   ]
  },
  {
   "attachments": {},
   "cell_type": "markdown",
   "id": "7f6654cf",
   "metadata": {},
   "source": [
    "#### w/o ZPE-TS correction"
   ]
  },
  {
   "cell_type": "code",
   "execution_count": null,
   "id": "90615e7b",
   "metadata": {},
   "outputs": [],
   "source": [
    "gs = es\n",
    "goh = eoh\n",
    "go = eo\n",
    "gooh = eooh\n",
    "\n",
    "Gcrude = free_energy_multidim(gs, goh, go, gooh)\n",
    "overpotcrude = Gcrude.max(axis=3) - 1.23\n",
    "rdscrude = Gcrude.argmax(axis=3)"
   ]
  },
  {
   "cell_type": "code",
   "execution_count": null,
   "id": "7c8dd45c",
   "metadata": {},
   "outputs": [],
   "source": [
    "arg_1 = np.unravel_index(overpotcrude.argsort(axis=None, kind='stable'), overpotcrude.shape)\n",
    "indxs_1 = np.dstack(arg_1)[0]"
   ]
  },
  {
   "cell_type": "code",
   "execution_count": null,
   "id": "c9e04077",
   "metadata": {},
   "outputs": [],
   "source": [
    "for config_index in indxs_1:\n",
    "    print(config_index, '|', overpotcrude[*config_index], '|', rdscrude[*config_index])"
   ]
  },
  {
   "cell_type": "code",
   "execution_count": null,
   "id": "cbb05a61",
   "metadata": {},
   "outputs": [],
   "source": [
    "indxs_0[0], overpot[*indxs_0[0]]"
   ]
  },
  {
   "attachments": {},
   "cell_type": "markdown",
   "id": "7e114287",
   "metadata": {},
   "source": [
    "#### ZPE-TS distb"
   ]
  },
  {
   "cell_type": "code",
   "execution_count": null,
   "id": "827fb92a",
   "metadata": {},
   "outputs": [],
   "source": [
    "corr1 = (zpeoh - soh) - (zpes - ss)\n",
    "corr2 = (zpeo - so) - (zpeoh - soh)[:, None]\n",
    "corr3 = (zpeooh - sooh) - (zpeo - so)[:, None]\n",
    "corr4 = (zpes - ss) - (zpeooh - sooh)"
   ]
  },
  {
   "cell_type": "code",
   "execution_count": null,
   "id": "743bcdf8",
   "metadata": {},
   "outputs": [],
   "source": [
    "plt.hist(corr1, label='1')\n",
    "plt.hist(corr2.flatten(), label='2')\n",
    "plt.hist(corr3.flatten(), label='3')\n",
    "plt.hist(corr4, label='4')\n",
    "plt.legend()"
   ]
  },
  {
   "cell_type": "code",
   "execution_count": null,
   "id": "3f05a5d3",
   "metadata": {
    "scrolled": true
   },
   "outputs": [],
   "source": [
    "zpe_s_loop(es, eoh, eo, eooh)"
   ]
  },
  {
   "attachments": {},
   "cell_type": "markdown",
   "id": "c3671bd1",
   "metadata": {},
   "source": [
    "#### Not fully relaxed"
   ]
  },
  {
   "cell_type": "code",
   "execution_count": null,
   "id": "1b2c95a7",
   "metadata": {
    "scrolled": false
   },
   "outputs": [],
   "source": [
    "zpe_s_loop(es, eoh_crude, eo_crude, eooh_crude)"
   ]
  },
  {
   "attachments": {},
   "cell_type": "markdown",
   "id": "06b73830",
   "metadata": {},
   "source": [
    "1) Fully Relaxing 28*3 configs took 184 sec, Frequency analysis on 21*14*15 configs took 235 sec\n",
    "2) Relaxing 15*3 equivalent configs took 108 sec, Freq. analysis on 11*8*8 configs took 133\n",
    "2a) Stop and go relaxing 15*15*15 / 12*8*8 equivalent configs took 82 sec\n",
    "3) Generating addition FF confs and relaxing them, 75 sec\n",
    "\n",
    "75sec (conf generation)\n",
    "1) 419sec (full, 100%) \n",
    "2) 241sec (Equivalent, 57%)\n",
    "3) 215sec (stop and go, 51%)\n",
    "4) 40 sec + 20 sec ZPEs + 20 sec relax (crude, 19%)"
   ]
  },
  {
   "cell_type": "code",
   "execution_count": null,
   "id": "7060f09e",
   "metadata": {},
   "outputs": [],
   "source": [
    "gs = es #+ ss - zpes\n",
    "goh = eoh_crude #+ zpeoh - soh\n",
    "go = eo_crude #+ zpeo - so\n",
    "gooh = eooh_crude #+ zpeooh - sooh\n",
    "\n",
    "Gcrude = free_energy_multidim(gs, goh, go, gooh)\n",
    "overpotcrude = Gcrude.max(axis=3) - 1.23\n",
    "rdscrude = Gcrude.argmax(axis=3)"
   ]
  },
  {
   "cell_type": "code",
   "execution_count": null,
   "id": "5d0f8dc1",
   "metadata": {},
   "outputs": [],
   "source": [
    "np.mean(eoh_crude - eoh), np.mean(eo_crude - eo), np.mean(eooh_crude - eooh)"
   ]
  },
  {
   "cell_type": "code",
   "execution_count": null,
   "id": "159d936c",
   "metadata": {
    "scrolled": false
   },
   "outputs": [],
   "source": [
    "plt.scatter(overpot.flatten(), overpotcrude.flatten())\n",
    "plt.plot(overpot.flatten(), overpot.flatten(), 'r')\n",
    "plt.xlabel('Overpotential Exact')\n",
    "plt.ylabel('Overpotential Crude')"
   ]
  },
  {
   "cell_type": "code",
   "execution_count": null,
   "id": "74369c53",
   "metadata": {},
   "outputs": [],
   "source": [
    "rdscrude[np.where(overpotcrude > overpot)]"
   ]
  },
  {
   "cell_type": "code",
   "execution_count": null,
   "id": "30e37a1e",
   "metadata": {},
   "outputs": [],
   "source": [
    "np.mean(overpotcrude - overpot)"
   ]
  }
 ],
 "metadata": {
  "kernelspec": {
   "display_name": "Python 3 (ipykernel)",
   "language": "python",
   "name": "python3"
  },
  "language_info": {
   "codemirror_mode": {
    "name": "ipython",
    "version": 3
   },
   "file_extension": ".py",
   "mimetype": "text/x-python",
   "name": "python",
   "nbconvert_exporter": "python",
   "pygments_lexer": "ipython3",
   "version": "3.11.4"
  }
 },
 "nbformat": 4,
 "nbformat_minor": 5
}
