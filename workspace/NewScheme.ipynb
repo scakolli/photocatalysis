{
 "cells": [
  {
   "cell_type": "code",
   "execution_count": 1,
   "id": "663dfada",
   "metadata": {},
   "outputs": [],
   "source": [
    "import numpy as np\n",
    "import pandas as pd\n",
    "import os\n",
    "import subprocess\n",
    "import time\n",
    "import matplotlib.pyplot as plt\n",
    "import itertools\n",
    "from copy import deepcopy\n",
    "import sys\n",
    "\n",
    "from rdkit import Chem\n",
    "from rdkit.Chem import AllChem\n",
    "import ase\n",
    "from ase.io import read, write\n",
    "from ase.units import Hartree\n",
    "from ase.visualize import view\n",
    "\n",
    "from ase.io.trajectory import Trajectory\n",
    "import glob\n",
    "import pickle\n",
    "\n",
    "from rdkit.Chem.Draw import IPythonConsole\n",
    "IPythonConsole.drawOptions.addAtomIndices = True"
   ]
  },
  {
   "cell_type": "code",
   "execution_count": null,
   "id": "b87a4479",
   "metadata": {},
   "outputs": [],
   "source": [
    "def zpe_s_loop(Es, Eoh, Eo, Eooh, N=6):\n",
    "\n",
    "    min_overpot = []\n",
    "    last_opt_config_indx = None\n",
    "\n",
    "    gsl = deepcopy(Es)\n",
    "    gohl = deepcopy(Eoh)\n",
    "    gol = deepcopy(Eo)\n",
    "    goohl = deepcopy(Eooh)\n",
    "\n",
    "    d0_list, d1_list, d2_list = [], [], []\n",
    "    oc0_list, oc1_list, oc2_list = [], [], []\n",
    "\n",
    "    run_once_flag = False\n",
    "\n",
    "    for i in range(N):\n",
    "\n",
    "        if last_opt_config_indx is not None:\n",
    "            i0, i1, i2 = last_opt_config_indx\n",
    "\n",
    "            if run_once_flag:\n",
    "                gohl[~completedoh] -= goh_corr\n",
    "                gol[~completedo] -= go_corr\n",
    "                goohl[~completedooh] -= gooh_corr\n",
    "            else:\n",
    "                gsl += zpes - ss\n",
    "\n",
    "            #### Perform frequency calc here, to obtain corrections di\n",
    "            d0 = (zpeoh - soh)[i0]\n",
    "            d1 = (zpeo - so)[i1]\n",
    "            d2 = (zpeooh - sooh)[i2]\n",
    "            ####\n",
    "\n",
    "            # Running Mean\n",
    "            d0_list.append(d0)\n",
    "            d1_list.append(d1)\n",
    "            d2_list.append(d2)\n",
    "\n",
    "            goh_corr = np.mean(d0_list)\n",
    "            go_corr = np.mean(d1_list)\n",
    "            gooh_corr = np.mean(d2_list)\n",
    "\n",
    "            # Update free energies by setting newly found d's\n",
    "            # and setting other corrections to the mean of previously found corrections\n",
    "            if i0 not in oc0_list:\n",
    "                gohl[i0] += d0\n",
    "            if i1 not in oc1_list:\n",
    "                gol[i1] += d1\n",
    "            if i2 not in oc2_list:\n",
    "                goohl[i2] += d2\n",
    "\n",
    "            oc0_list.append(i0)\n",
    "            oc1_list.append(i1)\n",
    "            oc2_list.append(i2)\n",
    "\n",
    "            # Already completed\n",
    "            completedoh = np.isin(np.arange(len(gohl)), oc0_list)\n",
    "            completedo = np.isin(np.arange(len(gol)), oc1_list)\n",
    "            completedooh = np.isin(np.arange(len(goohl)), oc2_list)\n",
    "\n",
    "            gohl[~completedoh] += goh_corr\n",
    "            gol[~completedo] += go_corr\n",
    "            goohl[~completedooh] += gooh_corr\n",
    "            run_once_flag = True\n",
    "        \n",
    "        GG = free_energy_multidim(gsl, gohl, gol, goohl)\n",
    "        OO = GG.max(axis=3) - 1.23\n",
    "\n",
    "        last_opt_config_indx = np.unravel_index(OO.argmin(), OO.shape)\n",
    "\n",
    "        min_overpot.append(OO.min())\n",
    "        print(i, last_opt_config_indx, OO.min())"
   ]
  },
  {
   "attachments": {},
   "cell_type": "markdown",
   "id": "32b78e5c",
   "metadata": {},
   "source": [
    "-----"
   ]
  },
  {
   "cell_type": "code",
   "execution_count": null,
   "id": "653bc6cb",
   "metadata": {},
   "outputs": [],
   "source": [
    "os.getcwd()"
   ]
  },
  {
   "cell_type": "code",
   "execution_count": 2,
   "id": "9b4dd25f",
   "metadata": {},
   "outputs": [],
   "source": [
    "### For automatically reloading import modules... allows you to run changes to code in jupyter without having to reload\n",
    "%load_ext autoreload\n",
    "%autoreload 2\n",
    "\n",
    "# Read Dataframe containing entire chemical space\n",
    "# path = os.getcwd() + '/data/'\n",
    "# file = 'df_chemical_space_chons_4rings.json'\n",
    "# p = pd.read_json(path+file, orient='split')\n",
    "\n",
    "path = '/home/btpq/bt308495/Thesis/osc_discovery/data/df_chemical_space_chons_4rings.json'\n",
    "p = pd.read_json(path, orient='split')\n",
    "\n",
    "# Change dir\n",
    "# os.chdir('/home/scakolli/Thesis/osc_discovery/run')\n",
    "os.chdir('/home/btpq/bt308495/Thesis/run')\n",
    "# sys.path.insert(1, '/home/btpq/bt308495/Thesis/')"
   ]
  },
  {
   "cell_type": "code",
   "execution_count": 3,
   "id": "fec569c0",
   "metadata": {
    "scrolled": false
   },
   "outputs": [
    {
     "data": {
      "image/png": "[encoded data removed]",
      "text/plain": [
       "<rdkit.Chem.rdchem.Mol at 0x7f765773d7e0>"
      ]
     },
     "execution_count": 3,
     "metadata": {},
     "output_type": "execute_result"
    }
   ],
   "source": [
    "# Pick a random molecule in the space and get its smile string\n",
    "rand_i = np.random.randint(315451)\n",
    "smi = p.iloc[rand_i]['molecule_smiles']\n",
    "# smi = 'C1=CC(C=Cc2cnnc(-c3cc(C=CC4=CCC=C4)cnn3)c2)=CC1'\n",
    "# smi = 'C1=CSC(=C2C(C=Cc3ccco3)=CC=C2C=Cc2ccco2)S1'\n",
    "\n",
    "# Draw chem\n",
    "# p.iloc[rand_i]\n",
    "rdkit_smi = Chem.AddHs(Chem.MolFromSmiles(smi))\n",
    "rdkit_smi"
   ]
  },
  {
   "cell_type": "code",
   "execution_count": 4,
   "id": "e59186d7",
   "metadata": {},
   "outputs": [],
   "source": [
    "os.chdir('/home/btpq/bt308495/Thesis/run')"
   ]
  },
  {
   "attachments": {},
   "cell_type": "markdown",
   "id": "dd24b352",
   "metadata": {},
   "source": [
    "-----"
   ]
  },
  {
   "cell_type": "code",
   "execution_count": 5,
   "id": "86979dc4",
   "metadata": {},
   "outputs": [],
   "source": [
    "from photocatalysis.adsorption.tools import prepare_substrate\n",
    "from photocatalysis.thermodynamics.tools import single_run, multi_run\n",
    "from photocatalysis.thermodynamics.constants import dG1_REST, dG2_REST, dG3_REST, dG4_REST, SHE_VACUUM_POTENTIAL"
   ]
  },
  {
   "cell_type": "code",
   "execution_count": null,
   "id": "7490a7b6",
   "metadata": {},
   "outputs": [],
   "source": [
    "# from photocatalysis.adsorption.tools import build_configurations, get_adsorbate_conformers\n",
    "# from photocatalysis.adsorption.optimal_configurations import filter_configurations_with_symm, filter_configurations"
   ]
  },
  {
   "cell_type": "code",
   "execution_count": null,
   "id": "cc72e984",
   "metadata": {},
   "outputs": [],
   "source": [
    "def free_energy_multidim(Gs, GOH, GO, GOOH, explicitly_broadcast=True):\n",
    "    # Vectorized free energy expressions with numpy broadcasting\n",
    "    # Gs : scalar, G*: arbitrary length numpy array\n",
    "    # (OH_index, O_index, OOH_index)\n",
    "    \n",
    "    g1 = GOH[:, None, None] - Gs + dG1_REST\n",
    "    g2 = GO[None, :, None] - GOH[:, None, None] + dG2_REST\n",
    "    g3 = GOOH[None, None, :] - GO[None, :, None] + dG3_REST\n",
    "    g4 = Gs - GOOH[None, None, :] + dG4_REST\n",
    "    \n",
    "    if explicitly_broadcast:\n",
    "        tot_shape = len(GOH), len(GO), len(GOOH)\n",
    "        g1b, g2b, g3b, g4b = explicitly_broadcast_to(tot_shape, g1, g2, g3, g4)\n",
    "        G = np.moveaxis(np.array((g1b, g2b, g3b, g4b)), 0,3)\n",
    "        return G\n",
    "    else:\n",
    "        return g1, g2, g3, g4\n",
    "\n",
    "def explicitly_broadcast_to(shape, *gs_expres):\n",
    "    # Fillout arrays\n",
    "    out = []\n",
    "    for g in gs_expres:\n",
    "        out.append(np.broadcast_to(g, shape))\n",
    "    return tuple(out)"
   ]
  },
  {
   "cell_type": "code",
   "execution_count": null,
   "id": "9133eb64",
   "metadata": {},
   "outputs": [],
   "source": [
    "def grouped_by_sym(metric, sym_groupings):\n",
    "    metric_grouped = [[metric[i] for i in symgroup] for symgroup in sym_groupings]\n",
    "    return metric_grouped\n",
    "\n",
    "def clean_configs_with_nans(configs):\n",
    "    # Take a list of configs and resort them according to activesite, fill rest with nans...\n",
    "    # makes accessing by acvt site indx easy\n",
    "    d = dict.fromkeys(sub.info['nonH_atoms'], np.nan)\n",
    "    cs = deepcopy(configs)\n",
    "\n",
    "    for config in cs:\n",
    "        actv = config.info['active_site']\n",
    "        d[actv] = config\n",
    "\n",
    "    return list(d.values())"
   ]
  },
  {
   "cell_type": "code",
   "execution_count": 6,
   "id": "e329ebe1",
   "metadata": {
    "scrolled": true
   },
   "outputs": [],
   "source": [
    "# Prepare Substrate\n",
    "calc_params = {'gfn':2, 'acc':0.2, 'etemp':298.15, 'strict':'', 'gbsa':'water'}\n",
    "# sub = prepare_substrate(smi, calc_params, multi_process_conf=2, multi_process_sp=4)"
   ]
  },
  {
   "cell_type": "code",
   "execution_count": 47,
   "id": "649ada0d",
   "metadata": {},
   "outputs": [],
   "source": [
    "from photocatalysis.conformers import get_conformers_rdkit as get_conformers"
   ]
  },
  {
   "cell_type": "code",
   "execution_count": 49,
   "id": "58333e4f",
   "metadata": {},
   "outputs": [],
   "source": [
    "substrate_confs = get_conformers(smi, n_cpu=4, print_output=False)\n",
    "substrate = substrate_confs.pop(0) # Lowest energy conf"
   ]
  },
  {
   "cell_type": "code",
   "execution_count": null,
   "id": "e3203398",
   "metadata": {},
   "outputs": [],
   "source": [
    "# sub = single_run(substrate, runtype='opt', **calc_params)\n",
    "sub = single_run(substrate, runtype='ohess', **calc_params, pop='')"
   ]
  },
  {
   "attachments": {},
   "cell_type": "markdown",
   "id": "cc631dc9",
   "metadata": {},
   "source": [
    "### Walltimes and cputimes"
   ]
  },
  {
   "cell_type": "code",
   "execution_count": null,
   "id": "fe46ad08",
   "metadata": {},
   "outputs": [],
   "source": [
    "swt, sct = sub.info['walltime'], sub.info['cputime']"
   ]
  },
  {
   "cell_type": "code",
   "execution_count": null,
   "id": "1b7cf9c0",
   "metadata": {},
   "outputs": [],
   "source": [
    "wt, ct = [], []\n",
    "cores = [i for i in range(1, 17)]\n",
    "for c in cores:\n",
    "    sub = single_run(substrate, runtype='ohess', **calc_params, pop='', parallel=c)\n",
    "    wt.append(sub.info['walltime'])\n",
    "    ct.append(sub.info['cputime'])"
   ]
  },
  {
   "cell_type": "code",
   "execution_count": null,
   "id": "eadf6094",
   "metadata": {},
   "outputs": [],
   "source": [
    "plt.plot(cores, swt / (np.array(wt) * np.array(cores)))\n",
    "plt.title('Parallel Efficiency')"
   ]
  },
  {
   "cell_type": "code",
   "execution_count": null,
   "id": "6425e5be",
   "metadata": {},
   "outputs": [],
   "source": [
    "plt.plot(cores, np.array(ct)/np.array(wt))\n",
    "plt.plot(cores, cores)\n",
    "plt.title('Speed Up Ratio')"
   ]
  },
  {
   "cell_type": "code",
   "execution_count": null,
   "id": "f52d5b5c",
   "metadata": {},
   "outputs": [],
   "source": [
    "plt.plot(cores, np.array(ct) / np.array(cores))\n",
    "plt.plot(cores, np.array(wt))\n",
    "plt.title('Cputime/core')"
   ]
  },
  {
   "attachments": {},
   "cell_type": "markdown",
   "id": "e759f09a",
   "metadata": {},
   "source": [
    "# VIPEA across relaxation tightness"
   ]
  },
  {
   "cell_type": "code",
   "execution_count": 7,
   "id": "5e9ef023",
   "metadata": {},
   "outputs": [],
   "source": [
    "import multiprocessing as mp"
   ]
  },
  {
   "cell_type": "code",
   "execution_count": 29,
   "id": "d80eaed5",
   "metadata": {},
   "outputs": [],
   "source": [
    "rand_smi = np.random.randint(0, 315450, size=128)"
   ]
  },
  {
   "cell_type": "code",
   "execution_count": 19,
   "id": "9d662831",
   "metadata": {},
   "outputs": [],
   "source": [
    "def get_batches(lst, num_batches):\n",
    "    return [lst[i:i + num_batches] for i in range(0, len(lst), num_batches)]"
   ]
  },
  {
   "attachments": {},
   "cell_type": "markdown",
   "id": "d37ad835",
   "metadata": {},
   "source": [
    "### Batch vs serial processing"
   ]
  },
  {
   "cell_type": "code",
   "execution_count": 72,
   "id": "f7132b78",
   "metadata": {},
   "outputs": [],
   "source": [
    "from photocatalysis.adsorption.tools import prepare_substrate_batch, prepare_substrate, multi_prepare_substrate\n",
    "from photocatalysis.adsorption.relaxing import build_and_relax_configurations"
   ]
  },
  {
   "cell_type": "code",
   "execution_count": 61,
   "id": "10526e4a",
   "metadata": {},
   "outputs": [],
   "source": [
    "from functools import partial\n",
    "from itertools import repeat"
   ]
  },
  {
   "cell_type": "code",
   "execution_count": 55,
   "id": "b225af47",
   "metadata": {},
   "outputs": [],
   "source": [
    "batches = get_batches(p.molecule_smiles.iloc[rand_smi].tolist(), 24)"
   ]
  },
  {
   "cell_type": "code",
   "execution_count": 58,
   "id": "c62f83c8",
   "metadata": {},
   "outputs": [
    {
     "name": "stdout",
     "output_type": "stream",
     "text": [
      "Devoted Cores: 24\n",
      "2023-07-06 17:42:09,691 | INFO: conf-gen Jobs to do: 24\n",
      "2023-07-06 17:42:13,998 | INFO: Finished jobs. Took 4.30725902505219s\n",
      "2023-07-06 17:42:14,000 | INFO: opt vtight Jobs to do: 24\n",
      "2023-07-06 17:42:20,265 | INFO: Finished jobs. Took 6.264167554676533s\n",
      "2023-07-06 17:42:20,267 | INFO: vipea Jobs to do: 24\n",
      "2023-07-06 17:42:21,202 | INFO: Finished jobs. Took 0.9347325377166271s\n"
     ]
    }
   ],
   "source": [
    "test = prepare_substrate_batch(batches[0], calc_params)"
   ]
  },
  {
   "cell_type": "code",
   "execution_count": 68,
   "id": "e4031daa",
   "metadata": {},
   "outputs": [
    {
     "name": "stdout",
     "output_type": "stream",
     "text": [
      "Devoted Cores: 24\n",
      "2023-07-06 19:43:36,339 | INFO: substrate preparation jobs to do: 24\n",
      "2023-07-06 19:43:47,222 | INFO: finished jobs. Took 10.881720362231135s\n"
     ]
    }
   ],
   "source": [
    "test2 = multi_prepare_substrate(batches[0], calc_kwargs=calc_params, multi_process=-1)"
   ]
  },
  {
   "cell_type": "code",
   "execution_count": 78,
   "id": "9c405c6d",
   "metadata": {},
   "outputs": [
    {
     "name": "stdout",
     "output_type": "stream",
     "text": [
      "14 14 14\n",
      "2023-07-06 20:26:42,634 | INFO: opt loose jobs to do: 42\n",
      "14\n",
      "2023-07-06 20:26:50,980 | INFO: finished jobs. Took 8.344779504463077s\n",
      "16 16 16\n",
      "2023-07-06 20:26:51,411 | INFO: opt loose jobs to do: 48\n",
      "16\n",
      "2023-07-06 20:26:59,579 | INFO: finished jobs. Took 8.167652333155274s\n",
      "13 13 13\n",
      "2023-07-06 20:27:00,153 | INFO: opt loose jobs to do: 39\n",
      "13\n",
      "2023-07-06 20:27:09,767 | INFO: finished jobs. Took 9.613304894417524s\n",
      "4 4 4\n",
      "2023-07-06 20:27:10,221 | INFO: opt loose jobs to do: 12\n",
      "4\n",
      "2023-07-06 20:27:11,413 | INFO: finished jobs. Took 1.1913180351257324s\n",
      "24 24 24\n",
      "2023-07-06 20:27:11,668 | INFO: opt loose jobs to do: 72\n",
      "24\n",
      "2023-07-06 20:27:22,045 | INFO: finished jobs. Took 10.376135600730777s\n",
      "11 11 11\n",
      "2023-07-06 20:27:22,807 | INFO: opt loose jobs to do: 33\n",
      "11\n",
      "2023-07-06 20:27:27,984 | INFO: finished jobs. Took 5.176354078575969s\n",
      "26 26 26\n",
      "2023-07-06 20:27:28,357 | INFO: opt loose jobs to do: 78\n",
      "26\n",
      "2023-07-06 20:27:30,742 | ERROR: Runtime Errors Encountered in job 18, attempting to solve\n",
      "Unexpected exception formatting exception. Falling back to standard exception\n"
     ]
    },
    {
     "name": "stderr",
     "output_type": "stream",
     "text": [
      "multiprocessing.pool.RemoteTraceback: \n",
      "\"\"\"\n",
      "Traceback (most recent call last):\n",
      "  File \"/home/btpq/bt308495/miniconda3/envs/osc/lib/python3.11/multiprocessing/pool.py\", line 125, in worker\n",
      "    result = (True, func(*args, **kwds))\n",
      "                    ^^^^^^^^^^^^^^^^^^^\n",
      "  File \"/home/btpq/bt308495/miniconda3/envs/osc/lib/python3.11/multiprocessing/pool.py\", line 48, in mapstar\n",
      "    return list(map(*args))\n",
      "           ^^^^^^^^^^^^^^^^\n",
      "  File \"/home/btpq/bt308495/Thesis/photocatalysis/workspace/photocatalysis/thermodynamics/tools.py\", line 136, in single_run_worker\n",
      "    return single_run(mol, runtype=runt, keep_folder=keepf, job_number=job_num, **calc_kwargs)\n",
      "           ^^^^^^^^^^^^^^^^^^^^^^^^^^^^^^^^^^^^^^^^^^^^^^^^^^^^^^^^^^^^^^^^^^^^^^^^^^^^^^^^^^^\n",
      "  File \"/home/btpq/bt308495/Thesis/photocatalysis/workspace/photocatalysis/thermodynamics/tools.py\", line 107, in single_run\n",
      "    raise RuntimeError('Abnormal termination of xtb \\n'+'\\n'.join(error))\n",
      "RuntimeError: Abnormal termination of xtb \n",
      "\n",
      "\"\"\"\n",
      "\n",
      "The above exception was the direct cause of the following exception:\n",
      "\n",
      "Traceback (most recent call last):\n",
      "  File \"/home/btpq/bt308495/miniconda3/envs/osc/lib/python3.11/site-packages/IPython/core/interactiveshell.py\", line 3508, in run_code\n",
      "    exec(code_obj, self.user_global_ns, self.user_ns)\n",
      "  File \"/tmp/ipykernel_5381/3348389511.py\", line 3, in <module>\n",
      "    oh, o, ooh = build_and_relax_configurations(t, t.info['equivalent_atoms'], optlevel='loose', multi_process=-1, additional_conformers=False)\n",
      "                 ^^^^^^^^^^^^^^^^^^^^^^^^^^^^^^^^^^^^^^^^^^^^^^^^^^^^^^^^^^^^^^^^^^^^^^^^^^^^^^^^^^^^^^^^^^^^^^^^^^^^^^^^^^^^^^^^^^^^^^^^^^^^^^\n",
      "  File \"/home/btpq/bt308495/Thesis/photocatalysis/workspace/photocatalysis/adsorption/relaxing.py\", line 22, in build_and_relax_configurations\n",
      "    configsoh, configso, configsooh = np.array(configs, dtype='object').reshape(3, num_configs).tolist()\n",
      "              ^^^^^^^^^^^^^^^^^^^^^^^^^^^^^^^^^^^^^^^^^^^^^^^^^^^^^^^^^^^^^^^^^^^^^^^^^^^^^^^^^^^^^^^^^^^\n",
      "  File \"/home/btpq/bt308495/Thesis/photocatalysis/workspace/photocatalysis/thermodynamics/tools.py\", line 152, in multi_run\n",
      "  File \"/home/btpq/bt308495/miniconda3/envs/osc/lib/python3.11/multiprocessing/pool.py\", line 367, in map\n",
      "    return self._map_async(func, iterable, mapstar, chunksize).get()\n",
      "           ^^^^^^^^^^^^^^^^^^^^^^^^^^^^^^^^^^^^^^^^^^^^^^^^^^^^^^^^^\n",
      "  File \"/home/btpq/bt308495/miniconda3/envs/osc/lib/python3.11/multiprocessing/pool.py\", line 774, in get\n",
      "    raise self._value\n",
      "RuntimeError: Abnormal termination of xtb \n",
      "\n",
      "\n",
      "During handling of the above exception, another exception occurred:\n",
      "\n",
      "Traceback (most recent call last):\n",
      "  File \"/home/btpq/bt308495/miniconda3/envs/osc/lib/python3.11/site-packages/IPython/core/interactiveshell.py\", line 2105, in showtraceback\n",
      "    stb = self.InteractiveTB.structured_traceback(\n",
      "          ^^^^^^^^^^^^^^^^^^^^^^^^^^^^^^^^^^^^^^^^\n",
      "  File \"/home/btpq/bt308495/miniconda3/envs/osc/lib/python3.11/site-packages/IPython/core/ultratb.py\", line 1428, in structured_traceback\n",
      "    return FormattedTB.structured_traceback(\n",
      "           ^^^^^^^^^^^^^^^^^^^^^^^^^^^^^^^^^\n",
      "  File \"/home/btpq/bt308495/miniconda3/envs/osc/lib/python3.11/site-packages/IPython/core/ultratb.py\", line 1319, in structured_traceback\n",
      "    return VerboseTB.structured_traceback(\n",
      "           ^^^^^^^^^^^^^^^^^^^^^^^^^^^^^^^\n",
      "  File \"/home/btpq/bt308495/miniconda3/envs/osc/lib/python3.11/site-packages/IPython/core/ultratb.py\", line 1172, in structured_traceback\n",
      "    formatted_exception = self.format_exception_as_a_whole(etype, evalue, etb, number_of_lines_of_context,\n",
      "                          ^^^^^^^^^^^^^^^^^^^^^^^^^^^^^^^^^^^^^^^^^^^^^^^^^^^^^^^^^^^^^^^^^^^^^^^^^^^^^^^^\n",
      "  File \"/home/btpq/bt308495/miniconda3/envs/osc/lib/python3.11/site-packages/IPython/core/ultratb.py\", line 1087, in format_exception_as_a_whole\n",
      "    frames.append(self.format_record(record))\n",
      "                  ^^^^^^^^^^^^^^^^^^^^^^^^^^\n",
      "  File \"/home/btpq/bt308495/miniconda3/envs/osc/lib/python3.11/site-packages/IPython/core/ultratb.py\", line 969, in format_record\n",
      "    frame_info.lines, Colors, self.has_colors, lvals\n",
      "    ^^^^^^^^^^^^^^^^\n",
      "  File \"/home/btpq/bt308495/miniconda3/envs/osc/lib/python3.11/site-packages/IPython/core/ultratb.py\", line 792, in lines\n",
      "    return self._sd.lines\n",
      "           ^^^^^^^^^^^^^^\n",
      "  File \"/home/btpq/bt308495/miniconda3/envs/osc/lib/python3.11/site-packages/stack_data/utils.py\", line 144, in cached_property_wrapper\n",
      "    value = obj.__dict__[self.func.__name__] = self.func(obj)\n",
      "                                               ^^^^^^^^^^^^^^\n",
      "  File \"/home/btpq/bt308495/miniconda3/envs/osc/lib/python3.11/site-packages/stack_data/core.py\", line 734, in lines\n",
      "    pieces = self.included_pieces\n",
      "             ^^^^^^^^^^^^^^^^^^^^\n",
      "  File \"/home/btpq/bt308495/miniconda3/envs/osc/lib/python3.11/site-packages/stack_data/utils.py\", line 144, in cached_property_wrapper\n",
      "    value = obj.__dict__[self.func.__name__] = self.func(obj)\n",
      "                                               ^^^^^^^^^^^^^^\n",
      "  File \"/home/btpq/bt308495/miniconda3/envs/osc/lib/python3.11/site-packages/stack_data/core.py\", line 681, in included_pieces\n",
      "    pos = scope_pieces.index(self.executing_piece)\n",
      "                             ^^^^^^^^^^^^^^^^^^^^\n",
      "  File \"/home/btpq/bt308495/miniconda3/envs/osc/lib/python3.11/site-packages/stack_data/utils.py\", line 144, in cached_property_wrapper\n",
      "    value = obj.__dict__[self.func.__name__] = self.func(obj)\n",
      "                                               ^^^^^^^^^^^^^^\n",
      "  File \"/home/btpq/bt308495/miniconda3/envs/osc/lib/python3.11/site-packages/stack_data/core.py\", line 660, in executing_piece\n",
      "    return only(\n",
      "           ^^^^^\n",
      "  File \"/home/btpq/bt308495/miniconda3/envs/osc/lib/python3.11/site-packages/executing/executing.py\", line 190, in only\n",
      "    raise NotOneValueFound('Expected one value, found 0')\n",
      "executing.executing.NotOneValueFound: Expected one value, found 0\n"
     ]
    }
   ],
   "source": [
    "systems = []\n",
    "for t in test2:\n",
    "    oh, o, ooh = build_and_relax_configurations(t, t.info['equivalent_atoms'], optlevel='loose', multi_process=-1, additional_conformers=False)\n",
    "    systems.append([t, oh, o, ooh])"
   ]
  },
  {
   "cell_type": "code",
   "execution_count": 82,
   "id": "13e792b9",
   "metadata": {},
   "outputs": [
    {
     "ename": "ImportError",
     "evalue": "cannot import name 'calculate_thermochemistry_worker' from 'photocatalysis.evaluate' (/home/btpq/bt308495/Thesis/photocatalysis/workspace/photocatalysis/evaluate.py)",
     "output_type": "error",
     "traceback": [
      "\u001b[0;31m---------------------------------------------------------------------------\u001b[0m",
      "\u001b[0;31mImportError\u001b[0m                               Traceback (most recent call last)",
      "Cell \u001b[0;32mIn[82], line 1\u001b[0m\n\u001b[0;32m----> 1\u001b[0m \u001b[39mfrom\u001b[39;00m \u001b[39mphotocatalysis\u001b[39;00m\u001b[39m.\u001b[39;00m\u001b[39mevaluate\u001b[39;00m \u001b[39mimport\u001b[39;00m calculate_thermochemistry_worker\n",
      "\u001b[0;31mImportError\u001b[0m: cannot import name 'calculate_thermochemistry_worker' from 'photocatalysis.evaluate' (/home/btpq/bt308495/Thesis/photocatalysis/workspace/photocatalysis/evaluate.py)"
     ]
    }
   ],
   "source": [
    "from photocatalysis.evaluate import calculate_thermochemistry_worker"
   ]
  },
  {
   "attachments": {},
   "cell_type": "markdown",
   "id": "8549f46e",
   "metadata": {},
   "source": [
    "-----"
   ]
  },
  {
   "cell_type": "code",
   "execution_count": 14,
   "id": "b22e43a2",
   "metadata": {},
   "outputs": [
    {
     "name": "stdout",
     "output_type": "stream",
     "text": [
      "Number of rotatable bonds: 0, O=c1cc(C#Cc2ccccc2)c2[nH]c(=O)cc(C#Cc3ccccc3)c2[nH]1\n",
      "1) Embedding conformers (50). Using 16 processes\n",
      "Took: 0.18291568756103516 s\n",
      "2) Minimizing 50 conformers (mmff94)\n",
      "Took: 1.5517864227294922 s\n",
      "3) Pruning conformers (RMSD threshold: 0.35 Ang)\n",
      "Took: 0.2102797031402588 s\n",
      "Number of conformers found: 6\n",
      "Number of rotatable bonds: 2, C(=Cc1nsc2ccccc12)c1nsc2ccccc12\n",
      "1) Embedding conformers (50). Using 16 processes\n",
      "Took: 0.06830024719238281 s\n",
      "2) Minimizing 50 conformers (mmff94)\n",
      "Took: 0.5679168701171875 s\n",
      "3) Pruning conformers (RMSD threshold: 0.35 Ang)\n",
      "Took: 0.28063011169433594 s\n",
      "Number of conformers found: 10\n",
      "Number of rotatable bonds: 4, C(=Cc1cc(-c2ccccc2)cc(-c2ccccc2)c1)c1cnsc1\n",
      "1) Embedding conformers (50). Using 16 processes\n",
      "Took: 0.09985589981079102 s\n",
      "2) Minimizing 50 conformers (mmff94)\n",
      "Took: 1.4014945030212402 s\n",
      "3) Pruning conformers (RMSD threshold: 0.35 Ang)\n",
      "Took: 0.20543813705444336 s\n",
      "Number of conformers found: 12\n",
      "Number of rotatable bonds: 4, C(=Cc1nccs1)c1cc(-c2ccncc2)cc(-c2ccncc2)c1\n",
      "1) Embedding conformers (50). Using 16 processes\n",
      "Took: 0.09106159210205078 s\n",
      "2) Minimizing 50 conformers (mmff94)\n",
      "Took: 1.2313885688781738 s\n",
      "3) Pruning conformers (RMSD threshold: 0.35 Ang)\n",
      "Took: 0.20119547843933105 s\n",
      "Number of conformers found: 10\n",
      "Number of rotatable bonds: 0, C1=CC(=C2C=Nc3c2ncc2c3=CCC=2)C=C1\n",
      "1) Embedding conformers (50). Using 16 processes\n",
      "Took: 0.058153390884399414 s\n",
      "2) Minimizing 50 conformers (mmff94)\n",
      "Took: 0.3749370574951172 s\n",
      "3) Pruning conformers (RMSD threshold: 0.35 Ang)\n",
      "Took: 0.17871308326721191 s\n",
      "Number of conformers found: 1\n",
      "Number of rotatable bonds: 1, O=c1[nH]ncnc1-c1c(C#CC2=CCC=C2)cccc1C#CC1=CCC=C1\n",
      "1) Embedding conformers (50). Using 16 processes\n",
      "Took: 0.36472105979919434 s\n",
      "2) Minimizing 50 conformers (mmff94)\n",
      "Took: 1.4605638980865479 s\n",
      "3) Pruning conformers (RMSD threshold: 0.35 Ang)\n",
      "Took: 0.20208024978637695 s\n",
      "Number of conformers found: 20\n",
      "Number of rotatable bonds: 2, C(#Cc1nncs1)c1cc(C2=CC=CC2)cc(C2=CC=CC2)c1\n",
      "1) Embedding conformers (50). Using 16 processes\n",
      "Took: 0.1242377758026123 s\n",
      "2) Minimizing 50 conformers (mmff94)\n",
      "Took: 1.1355535984039307 s\n",
      "3) Pruning conformers (RMSD threshold: 0.35 Ang)\n",
      "Took: 0.1975255012512207 s\n",
      "Number of conformers found: 4\n",
      "Number of rotatable bonds: 1, C(#Cc1cccc(C#Cc2ccccc2)c1-c1ccc[nH]1)c1ccccc1\n",
      "1) Embedding conformers (50). Using 16 processes\n",
      "Took: 0.20062875747680664 s\n",
      "2) Minimizing 50 conformers (mmff94)\n",
      "Took: 1.6742668151855469 s\n",
      "3) Pruning conformers (RMSD threshold: 0.35 Ang)\n",
      "Took: 0.20225048065185547 s\n",
      "Number of conformers found: 10\n",
      "Number of rotatable bonds: 1, C(#Cc1cc(C#CC2=CCC=C2)cc(-c2cncs2)c1)C1=CCC=C1\n",
      "1) Embedding conformers (50). Using 16 processes\n",
      "Took: 0.20502161979675293 s\n",
      "2) Minimizing 50 conformers (mmff94)\n",
      "Took: 1.3541407585144043 s\n",
      "3) Pruning conformers (RMSD threshold: 0.35 Ang)\n",
      "Took: 0.20316243171691895 s\n",
      "Number of conformers found: 26\n",
      "Number of rotatable bonds: 0, C1=CC(=C2N=c3cc4ncoc4cc3=N2)C=C1\n",
      "1) Embedding conformers (50). Using 16 processes\n",
      "Took: 0.043503761291503906 s\n",
      "2) Minimizing 50 conformers (mmff94)\n",
      "Took: 0.2872178554534912 s\n",
      "3) Pruning conformers (RMSD threshold: 0.35 Ang)\n",
      "Took: 0.17918729782104492 s\n",
      "Number of conformers found: 1\n",
      "Number of rotatable bonds: 5, O=c1occc(-c2ccoc(=O)c2C=Cc2ccccc2)c1C=Cc1ccccc1\n",
      "1) Embedding conformers (50). Using 16 processes\n",
      "Took: 0.1720290184020996 s\n",
      "2) Minimizing 50 conformers (mmff94)\n",
      "Took: 1.8926572799682617 s\n",
      "3) Pruning conformers (RMSD threshold: 0.35 Ang)\n",
      "Took: 0.22802495956420898 s\n",
      "Number of conformers found: 18\n",
      "Number of rotatable bonds: 4, C(=Cc1cccc2cccc(C=Cc3cccnc3)c12)c1cccnc1\n",
      "1) Embedding conformers (50). Using 16 processes\n",
      "Took: 0.16257286071777344 s\n",
      "2) Minimizing 50 conformers (mmff94)\n",
      "Took: 1.541086196899414 s\n",
      "3) Pruning conformers (RMSD threshold: 0.35 Ang)\n",
      "Took: 0.20444321632385254 s\n",
      "Number of conformers found: 23\n",
      "Number of rotatable bonds: 3, C1=CC(c2cc(-c3ccc[nH]3)cc(C3=CCC=C3)n2)=CC1\n",
      "1) Embedding conformers (50). Using 16 processes\n",
      "Took: 0.09055066108703613 s\n",
      "2) Minimizing 50 conformers (mmff94)\n",
      "Took: 1.1055045127868652 s\n",
      "3) Pruning conformers (RMSD threshold: 0.35 Ang)\n",
      "Took: 0.19718599319458008 s\n",
      "Number of conformers found: 9\n",
      "Number of rotatable bonds: 5, C1=CN=C(c2c(C=Cc3ccc[nH]3)cccc2C=Cc2ccc[nH]2)C1\n",
      "1) Embedding conformers (50). Using 16 processes\n",
      "Took: 0.1437692642211914 s\n",
      "2) Minimizing 50 conformers (mmff94)\n",
      "Took: 1.6967239379882812 s\n",
      "3) Pruning conformers (RMSD threshold: 0.35 Ang)\n",
      "Took: 0.21098613739013672 s\n",
      "Number of conformers found: 38\n",
      "Number of rotatable bonds: 2, O=c1ccc(C#Cc2c(-c3ccccc3)ncnc2-c2ccccc2)co1\n",
      "1) Embedding conformers (50). Using 16 processes\n",
      "Took: 0.15655064582824707 s\n",
      "2) Minimizing 50 conformers (mmff94)\n",
      "Took: 1.317228078842163 s\n",
      "3) Pruning conformers (RMSD threshold: 0.35 Ang)\n",
      "Took: 0.20033526420593262 s\n",
      "Number of conformers found: 4\n",
      "Number of rotatable bonds: 5, C(=Cc1occc1-c1ccoc1C=Cc1ccoc1)c1ccoc1\n",
      "1) Embedding conformers (50). Using 16 processes\n",
      "Took: 0.09934854507446289 s\n",
      "2) Minimizing 50 conformers (mmff94)\n",
      "Took: 1.1452713012695312 s\n",
      "3) Pruning conformers (RMSD threshold: 0.35 Ang)\n",
      "Took: 0.22506976127624512 s\n",
      "Number of conformers found: 36\n",
      "Number of rotatable bonds: 5, C(=Cc1cc(C=CC2=CN=CC2)cc(-c2cnco2)c1)C1=CN=CC1\n",
      "1) Embedding conformers (50). Using 16 processes\n",
      "Took: 0.2046520709991455 s\n",
      "2) Minimizing 50 conformers (mmff94)\n",
      "Took: 1.5043015480041504 s\n",
      "3) Pruning conformers (RMSD threshold: 0.35 Ang)\n",
      "Took: 0.21339893341064453 s\n",
      "Number of conformers found: 24\n",
      "Number of rotatable bonds: 0, C1=CC(=C2N=Nc3ccc4cnccc4c32)C=C1\n",
      "1) Embedding conformers (50). Using 16 processes\n",
      "Took: 0.04886174201965332 s\n",
      "2) Minimizing 50 conformers (mmff94)\n",
      "Took: 0.4321627616882324 s\n",
      "3) Pruning conformers (RMSD threshold: 0.35 Ang)\n",
      "Took: 0.17947793006896973 s\n",
      "Number of conformers found: 3\n",
      "Number of rotatable bonds: 2, C1=CC(=C2C=C(c3ccncc3)C(c3ccncc3)=C2)N=C1\n",
      "1) Embedding conformers (50). Using 16 processes\n",
      "Took: 0.09263920783996582 s\n",
      "2) Minimizing 50 conformers (mmff94)\n",
      "Took: 0.7358598709106445 s\n",
      "3) Pruning conformers (RMSD threshold: 0.35 Ang)\n",
      "Took: 0.1899704933166504 s\n",
      "Number of conformers found: 2\n",
      "Number of rotatable bonds: 5, C1=CC(C=Cc2cncc(C=CC3=CCC=C3)c2-c2conn2)=CC1\n",
      "1) Embedding conformers (50). Using 16 processes\n",
      "Took: 0.21853184700012207 s\n",
      "2) Minimizing 50 conformers (mmff94)\n",
      "Took: 1.422844409942627 s\n",
      "3) Pruning conformers (RMSD threshold: 0.35 Ang)\n",
      "Took: 0.2038884162902832 s\n",
      "Number of conformers found: 18\n",
      "Number of rotatable bonds: 0, C1=CCC=C1\n",
      "1) Embedding conformers (50). Using 16 processes\n",
      "Took: 0.007544040679931641 s\n",
      "2) Minimizing 50 conformers (mmff94)\n",
      "Took: 0.05524754524230957 s\n",
      "3) Pruning conformers (RMSD threshold: 0.35 Ang)\n",
      "Took: 0.14947056770324707 s\n",
      "Number of conformers found: 1\n",
      "Number of rotatable bonds: 3, C1=CC(c2cccc(C3=CCC=C3)c2C2=CCN=N2)=CC1\n",
      "1) Embedding conformers (50). Using 16 processes\n",
      "Took: 0.09273314476013184 s\n",
      "2) Minimizing 50 conformers (mmff94)\n",
      "Took: 1.009453535079956 s\n",
      "3) Pruning conformers (RMSD threshold: 0.35 Ang)\n",
      "Took: 0.20576691627502441 s\n",
      "Number of conformers found: 4\n",
      "Number of rotatable bonds: 1, C(#Cc1ccc(-c2ccc(C#CC3=CC=CC3)cc2)cc1)C1=CC=CC1\n",
      "1) Embedding conformers (50). Using 16 processes\n",
      "Took: 0.23414850234985352 s\n",
      "2) Minimizing 50 conformers (mmff94)\n",
      "Took: 1.6049437522888184 s\n",
      "3) Pruning conformers (RMSD threshold: 0.35 Ang)\n",
      "Took: 0.2224128246307373 s\n",
      "Number of conformers found: 12\n",
      "Number of rotatable bonds: 0, C(#Cc1nncc2cnnc(C#CC3=CCC=C3)c12)C1=CCC=C1\n",
      "1) Embedding conformers (50). Using 16 processes\n",
      "Took: 0.31803250312805176 s\n",
      "2) Minimizing 50 conformers (mmff94)\n",
      "Took: 0.9327723979949951 s\n",
      "3) Pruning conformers (RMSD threshold: 0.35 Ang)\n",
      "Took: 0.1905050277709961 s\n",
      "Number of conformers found: 6\n",
      "Number of rotatable bonds: 0, C1=CC(=C2C=c3nnc4cnccc4c3=C2)C=C1\n",
      "1) Embedding conformers (50). Using 16 processes\n",
      "Took: 0.0567631721496582 s\n",
      "2) Minimizing 50 conformers (mmff94)\n",
      "Took: 0.3407731056213379 s\n",
      "3) Pruning conformers (RMSD threshold: 0.35 Ang)\n",
      "Took: 0.17834949493408203 s\n",
      "Number of conformers found: 1\n",
      "Number of rotatable bonds: 5, C(=Cc1ccc[nH]1)c1cc(C=Cc2ccc[nH]2)cc(C2=CCN=C2)c1\n",
      "1) Embedding conformers (50). Using 16 processes\n",
      "Took: 0.14482569694519043 s\n",
      "2) Minimizing 50 conformers (mmff94)\n",
      "Took: 1.6940903663635254 s\n",
      "3) Pruning conformers (RMSD threshold: 0.35 Ang)\n",
      "Took: 0.2221219539642334 s\n",
      "Number of conformers found: 34\n",
      "Number of rotatable bonds: 4, O=c1cnc(Nc2c(C3=CC=CC3)cccc2C2=CC=CC2)c[nH]1\n",
      "1) Embedding conformers (50). Using 16 processes\n",
      "Took: 0.11446356773376465 s\n",
      "2) Minimizing 50 conformers (mmff94)\n",
      "Took: 1.395021677017212 s\n",
      "3) Pruning conformers (RMSD threshold: 0.35 Ang)\n",
      "Took: 0.1984257698059082 s\n",
      "Number of conformers found: 12\n",
      "Number of rotatable bonds: 0, C1=CC(=c2ccc3onc4ncnc4c23)C=C1\n",
      "1) Embedding conformers (50). Using 16 processes\n",
      "Took: 0.04413437843322754 s\n",
      "2) Minimizing 50 conformers (mmff94)\n",
      "Took: 0.2786571979522705 s\n",
      "3) Pruning conformers (RMSD threshold: 0.35 Ang)\n",
      "Took: 0.17471575736999512 s\n",
      "Number of conformers found: 1\n",
      "Number of rotatable bonds: 1, O=c1cccc(-c2c(C#CC3=CC=CC3)cccc2C#CC2=CC=CC2)[nH]1\n",
      "1) Embedding conformers (50). Using 16 processes\n",
      "Took: 0.2393207550048828 s\n",
      "2) Minimizing 50 conformers (mmff94)\n",
      "Took: 1.6236088275909424 s\n",
      "3) Pruning conformers (RMSD threshold: 0.35 Ang)\n",
      "Took: 0.20584678649902344 s\n",
      "Number of conformers found: 18\n",
      "Number of rotatable bonds: 1, C(#Cc1ccc[nH]1)c1cc(-c2ccc[nH]2)cc(C#Cc2ccc[nH]2)n1\n",
      "1) Embedding conformers (50). Using 16 processes\n",
      "Took: 0.20142459869384766 s\n",
      "2) Minimizing 50 conformers (mmff94)\n",
      "Took: 1.3382208347320557 s\n",
      "3) Pruning conformers (RMSD threshold: 0.35 Ang)\n",
      "Took: 0.19759416580200195 s\n",
      "Number of conformers found: 19\n",
      "Number of rotatable bonds: 5, C(=Cc1cncc(C=Cc2ccoc2)c1-c1ccco1)c1ccoc1\n",
      "1) Embedding conformers (50). Using 16 processes\n",
      "Took: 0.11255669593811035 s\n",
      "2) Minimizing 50 conformers (mmff94)\n",
      "Took: 1.3365983963012695 s\n",
      "3) Pruning conformers (RMSD threshold: 0.35 Ang)\n",
      "Took: 0.20783782005310059 s\n",
      "Number of conformers found: 33\n",
      "Number of rotatable bonds: 0, C1=CC(=C2C=Nc3cc4c(nc32)C=NC4)C=C1\n",
      "1) Embedding conformers (50). Using 16 processes\n",
      "Took: 0.04581332206726074 s\n",
      "2) Minimizing 50 conformers (mmff94)\n",
      "Took: 0.3331317901611328 s\n",
      "3) Pruning conformers (RMSD threshold: 0.35 Ang)\n",
      "Took: 0.1773524284362793 s\n",
      "Number of conformers found: 1\n"
     ]
    }
   ],
   "source": [
    "substrates = [get_conformers(s, n_cpu=8)[0] for s in p.molecule_smiles.iloc[rand_smi]]"
   ]
  },
  {
   "cell_type": "code",
   "execution_count": 13,
   "id": "6a680160",
   "metadata": {},
   "outputs": [
    {
     "name": "stdout",
     "output_type": "stream",
     "text": [
      "Number of rotatable bonds: 2, C(=Cc1nsc2ccccc12)c1nsc2ccccc12Number of rotatable bonds: 2, C1=CC(=C2C=C(c3ccncc3)C(c3ccncc3)=C2)N=C1\n",
      "Number of rotatable bonds: 0, O=c1cc(C#Cc2ccccc2)c2[nH]c(=O)cc(C#Cc3ccccc3)c2[nH]1Number of rotatable bonds: 4, C(=Cc1cc(-c2ccccc2)cc(-c2ccccc2)c1)c1cnsc1Number of rotatable bonds: 4, C(=Cc1nccs1)c1cc(-c2ccncc2)cc(-c2ccncc2)c1Number of rotatable bonds: 0, C1=CC(=C2C=Nc3c2ncc2c3=CCC=2)C=C1Number of rotatable bonds: 2, C(#Cc1nncs1)c1cc(C2=CC=CC2)cc(C2=CC=CC2)c1Number of rotatable bonds: 1, O=c1[nH]ncnc1-c1c(C#CC2=CCC=C2)cccc1C#CC1=CCC=C11) Embedding conformers (50). Using 1 processesNumber of rotatable bonds: 1, C(#Cc1cccc(C#Cc2ccccc2)c1-c1ccc[nH]1)c1ccccc1Number of rotatable bonds: 1, C(#Cc1cc(C#CC2=CCC=C2)cc(-c2cncs2)c1)C1=CCC=C1Number of rotatable bonds: 0, C1=CC(=C2N=c3cc4ncoc4cc3=N2)C=C1Number of rotatable bonds: 4, C(=Cc1cccc2cccc(C=Cc3cccnc3)c12)c1cccnc1Number of rotatable bonds: 5, O=c1occc(-c2ccoc(=O)c2C=Cc2ccccc2)c1C=Cc1ccccc1Number of rotatable bonds: 3, C1=CC(c2cc(-c3ccc[nH]3)cc(C3=CCC=C3)n2)=CC1Number of rotatable bonds: 5, C1=CN=C(c2c(C=Cc3ccc[nH]3)cccc2C=Cc2ccc[nH]2)C1\n",
      "Number of rotatable bonds: 2, O=c1ccc(C#Cc2c(-c3ccccc3)ncnc2-c2ccccc2)co1Number of rotatable bonds: 0, C1=CCC=C1Number of rotatable bonds: 5, C(=Cc1occc1-c1ccoc1C=Cc1ccoc1)c1ccoc1Number of rotatable bonds: 5, C(=Cc1cc(C=CC2=CN=CC2)cc(-c2cnco2)c1)C1=CN=CC1\n",
      "Number of rotatable bonds: 0, C1=CC(=C2N=Nc3ccc4cnccc4c32)C=C1\n",
      "Number of rotatable bonds: 3, C1=CC(c2cccc(C3=CCC=C3)c2C2=CCN=N2)=CC1\n",
      "\n",
      "Number of rotatable bonds: 1, C(#Cc1ccc(-c2ccc(C#CC3=CC=CC3)cc2)cc1)C1=CC=CC1\n",
      "\n",
      "\n",
      "\n",
      "Number of rotatable bonds: 0, C1=CC(=c2ccc3onc4ncnc4c23)C=C1\n",
      "\n",
      "Number of rotatable bonds: 5, C1=CC(C=Cc2cncc(C=CC3=CCC=C3)c2-c2conn2)=CC1Number of rotatable bonds: 1, C(#Cc1ccc[nH]1)c1cc(-c2ccc[nH]2)cc(C#Cc2ccc[nH]2)n1Number of rotatable bonds: 1, O=c1cccc(-c2c(C#CC3=CC=CC3)cccc2C#CC2=CC=CC2)[nH]1Number of rotatable bonds: 0, C1=CC(=C2C=c3nnc4cnccc4c3=C2)C=C1\n",
      "\n",
      "Number of rotatable bonds: 0, C(#Cc1nncc2cnnc(C#CC3=CCC=C3)c12)C1=CCC=C1Number of rotatable bonds: 5, C(=Cc1cncc(C=Cc2ccoc2)c1-c1ccco1)c1ccoc1Number of rotatable bonds: 0, C1=CC(=C2C=Nc3cc4c(nc32)C=NC4)C=C11) Embedding conformers (50). Using 1 processes\n",
      "\n",
      "\n",
      "\n",
      "1) Embedding conformers (50). Using 1 processes\n",
      "\n",
      "\n",
      "1) Embedding conformers (50). Using 1 processes1) Embedding conformers (50). Using 1 processes\n",
      "\n",
      "1) Embedding conformers (50). Using 1 processes1) Embedding conformers (50). Using 1 processes1) Embedding conformers (50). Using 1 processes1) Embedding conformers (50). Using 1 processes1) Embedding conformers (50). Using 1 processes1) Embedding conformers (50). Using 1 processes\n",
      "\n",
      "\n",
      "\n",
      "1) Embedding conformers (50). Using 1 processes\n",
      "1) Embedding conformers (50). Using 1 processes\n",
      "\n",
      "\n",
      "\n",
      "1) Embedding conformers (50). Using 1 processes1) Embedding conformers (50). Using 1 processes1) Embedding conformers (50). Using 1 processes1) Embedding conformers (50). Using 1 processes\n",
      "1) Embedding conformers (50). Using 1 processes1) Embedding conformers (50). Using 1 processes1) Embedding conformers (50). Using 1 processes\n",
      "\n",
      "1) Embedding conformers (50). Using 1 processes1) Embedding conformers (50). Using 1 processes\n",
      "\n",
      "\n",
      "\n",
      "\n",
      "\n",
      "1) Embedding conformers (50). Using 1 processes1) Embedding conformers (50). Using 1 processes1) Embedding conformers (50). Using 1 processes1) Embedding conformers (50). Using 1 processes\n",
      "\n",
      "1) Embedding conformers (50). Using 1 processes1) Embedding conformers (50). Using 1 processes1) Embedding conformers (50). Using 1 processes\n",
      "1) Embedding conformers (50). Using 1 processes\n",
      "\n",
      "\n",
      "\n",
      "\n",
      "\n",
      "\n",
      "\n",
      "\n",
      "\n",
      "\n",
      "\n",
      "\n",
      "\n",
      "\n",
      "\n",
      "Number of rotatable bonds: 4, O=c1cnc(Nc2c(C3=CC=CC3)cccc2C2=CC=CC2)c[nH]1\n",
      "1) Embedding conformers (50). Using 1 processes\n",
      "Number of rotatable bonds: 5, C(=Cc1ccc[nH]1)c1cc(C=Cc2ccc[nH]2)cc(C2=CCN=C2)c1\n",
      "1) Embedding conformers (50). Using 1 processes\n",
      "Took: 0.054117441177368164 s\n",
      "2) Minimizing 50 conformers (mmff94)\n",
      "Took: 0.051049232482910156 s\n",
      "3) Pruning conformers (RMSD threshold: 0.35 Ang)\n",
      "Took: 0.06661605834960938 s\n",
      "Number of conformers found: 1\n",
      "Took: 0.3202395439147949 s\n",
      "2) Minimizing 50 conformers (mmff94)\n",
      "Took: 0.3405764102935791 s\n",
      "2) Minimizing 50 conformers (mmff94)\n",
      "Took: 0.3754253387451172 s\n",
      "2) Minimizing 50 conformers (mmff94)\n",
      "Took: 0.4240131378173828 s\n",
      "2) Minimizing 50 conformers (mmff94)Took: 0.42239952087402344 s\n",
      "\n",
      "2) Minimizing 50 conformers (mmff94)\n",
      "Took: 0.4323585033416748 s\n",
      "2) Minimizing 50 conformers (mmff94)\n",
      "Took: 0.5915663242340088 s\n",
      "2) Minimizing 50 conformers (mmff94)\n",
      "Took: 0.2758815288543701 s\n",
      "3) Pruning conformers (RMSD threshold: 0.35 Ang)\n",
      "Took: 0.29236865043640137 s\n",
      "3) Pruning conformers (RMSD threshold: 0.35 Ang)\n",
      "Took: 0.10258197784423828 s\n",
      "Number of conformers found: 1\n",
      "Took: 0.33607053756713867 s\n",
      "3) Pruning conformers (RMSD threshold: 0.35 Ang)\n",
      "Took: 0.10295248031616211 s\n",
      "Number of conformers found: 1\n",
      "Took: 0.3428182601928711 s\n",
      "3) Pruning conformers (RMSD threshold: 0.35 Ang)\n",
      "Took: 0.7943060398101807 s\n",
      "2) Minimizing 50 conformers (mmff94)\n",
      "Took: 0.8107976913452148 s\n",
      "2) Minimizing 50 conformers (mmff94)\n",
      "Took: 0.3882472515106201 s\n",
      "3) Pruning conformers (RMSD threshold: 0.35 Ang)\n",
      "Took: 0.13480830192565918 s\n",
      "Number of conformers found: 1\n",
      "Took: 0.8797175884246826 s\n",
      "2) Minimizing 50 conformers (mmff94)Took: 0.11104536056518555 s\n",
      "\n",
      "Number of conformers found: 1\n",
      "Took: 0.46752309799194336 s\n",
      "3) Pruning conformers (RMSD threshold: 0.35 Ang)\n",
      "Took: 0.9198150634765625 s\n",
      "2) Minimizing 50 conformers (mmff94)\n",
      "Took: 0.9267721176147461 s\n",
      "2) Minimizing 50 conformers (mmff94)\n",
      "Took: 0.1186211109161377 s\n",
      "Number of conformers found: 1\n",
      "Took: 0.1091623306274414 s\n",
      "Number of conformers found: 3\n",
      "Took: 1.0448083877563477 s\n",
      "2) Minimizing 50 conformers (mmff94)\n",
      "Took: 0.5949578285217285 s\n",
      "3) Pruning conformers (RMSD threshold: 0.35 Ang)\n",
      "Took: 1.1418256759643555 s\n",
      "2) Minimizing 50 conformers (mmff94)\n",
      "Took: 1.1879148483276367 s\n",
      "2) Minimizing 50 conformers (mmff94)\n",
      "Took: 0.11194872856140137 s\n",
      "Number of conformers found: 10\n",
      "Took: 1.3208117485046387 s\n",
      "2) Minimizing 50 conformers (mmff94)\n",
      "Took: 1.35300874710083 s\n",
      "2) Minimizing 50 conformers (mmff94)\n",
      "Took: 1.4865739345550537 s\n",
      "2) Minimizing 50 conformers (mmff94)\n",
      "Took: 1.578169345855713 s\n",
      "2) Minimizing 50 conformers (mmff94)\n",
      "Took: 0.7910704612731934 s\n",
      "3) Pruning conformers (RMSD threshold: 0.35 Ang)\n",
      "Took: 1.7145941257476807 s\n",
      "2) Minimizing 50 conformers (mmff94)\n",
      "Took: 0.20019292831420898 s\n",
      "Number of conformers found: 2\n",
      "Took: 1.8326444625854492 s\n",
      "2) Minimizing 50 conformers (mmff94)\n",
      "Took: 1.8758015632629395 s\n",
      "2) Minimizing 50 conformers (mmff94)\n",
      "Took: 1.8843560218811035 s\n",
      "2) Minimizing 50 conformers (mmff94)\n",
      "Took: 1.8924636840820312 s\n",
      "2) Minimizing 50 conformers (mmff94)\n",
      "Took: 1.9291810989379883 s\n",
      "2) Minimizing 50 conformers (mmff94)\n",
      "Took: 1.0683650970458984 s\n",
      "3) Pruning conformers (RMSD threshold: 0.35 Ang)\n",
      "Took: 1.1922180652618408 s\n",
      "3) Pruning conformers (RMSD threshold: 0.35 Ang)\n",
      "Took: 2.0199739933013916 s\n",
      "2) Minimizing 50 conformers (mmff94)\n",
      "Took: 1.2151210308074951 s\n",
      "3) Pruning conformers (RMSD threshold: 0.35 Ang)\n",
      "Took: 0.25110626220703125 sTook: 0.1982865333557129 s\n",
      "\n",
      "Number of conformers found: 4\n",
      "Number of conformers found: 9\n",
      "Took: 1.3054118156433105 s\n",
      "3) Pruning conformers (RMSD threshold: 0.35 Ang)\n",
      "Took: 2.2687859535217285 s\n",
      "2) Minimizing 50 conformers (mmff94)\n",
      "Took: 0.15860939025878906 s\n",
      "Number of conformers found: 36\n",
      "Took: 2.3485419750213623 s\n",
      "2) Minimizing 50 conformers (mmff94)\n",
      "Took: 0.2168581485748291 s\n",
      "Took: 2.438415765762329 sNumber of conformers found: 10\n",
      "\n",
      "2) Minimizing 50 conformers (mmff94)\n",
      "Took: 2.516090154647827 s\n",
      "2) Minimizing 50 conformers (mmff94)\n",
      "Took: 1.4899959564208984 s\n",
      "3) Pruning conformers (RMSD threshold: 0.35 Ang)\n",
      "Took: 1.217625379562378 s\n",
      "3) Pruning conformers (RMSD threshold: 0.35 Ang)\n",
      "Took: 1.3991847038269043 s\n",
      "3) Pruning conformers (RMSD threshold: 0.35 Ang)\n",
      "Took: 1.481706142425537 s\n",
      "3) Pruning conformers (RMSD threshold: 0.35 Ang)\n",
      "Took: 0.19501137733459473 s\n",
      "Number of conformers found: 4\n",
      "Took: 0.22881793975830078 s\n",
      "Number of conformers found: 12\n",
      "Took: 0.18137288093566895 s\n",
      "Number of conformers found: 33\n",
      "Took: 0.20852136611938477 s\n",
      "Number of conformers found: 12\n",
      "Took: 2.980842113494873 s\n",
      "2) Minimizing 50 conformers (mmff94)\n",
      "Took: 1.3914237022399902 s\n",
      "3) Pruning conformers (RMSD threshold: 0.35 Ang)\n",
      "Took: 1.7962300777435303 s\n",
      "3) Pruning conformers (RMSD threshold: 0.35 Ang)\n",
      "Took: 1.6371982097625732 s\n",
      "3) Pruning conformers (RMSD threshold: 0.35 Ang)\n",
      "Took: 1.4360332489013672 s\n",
      "3) Pruning conformers (RMSD threshold: 0.35 Ang)\n",
      "Took: 1.4188425540924072 s\n",
      "3) Pruning conformers (RMSD threshold: 0.35 Ang)\n",
      "Took: 1.8271617889404297 s\n",
      "3) Pruning conformers (RMSD threshold: 0.35 Ang)\n",
      "Took: 0.21909618377685547 s\n",
      "Number of conformers found: 4\n",
      "Took: 0.17613530158996582 s\n",
      "Took: 0.19592833518981934 s\n",
      "Number of conformers found: 23\n",
      "Number of conformers found: 34\n",
      "Took: 1.505751609802246 s\n",
      "3) Pruning conformers (RMSD threshold: 0.35 Ang)\n",
      "Took: 0.16027188301086426 s\n",
      "Number of conformers found: 19\n",
      "Took: 0.20776009559631348 s\n",
      "Took: 1.5863738059997559 s\n",
      "3) Pruning conformers (RMSD threshold: 0.35 Ang)\n",
      "Number of conformers found: 26\n",
      "Took: 0.18994688987731934 s\n",
      "Number of conformers found: 38\n",
      "Took: 0.21722936630249023 sTook: 1.6431846618652344 s\n",
      "\n",
      "3) Pruning conformers (RMSD threshold: 0.35 Ang)\n",
      "Number of conformers found: 18\n",
      "Took: 0.21469545364379883 s\n",
      "Number of conformers found: 24\n",
      "Took: 0.2216813564300537 s\n",
      "Took: 1.99884033203125 s\n",
      "3) Pruning conformers (RMSD threshold: 0.35 Ang)\n",
      "Number of conformers found: 6\n",
      "Took: 0.9769644737243652 s\n",
      "3) Pruning conformers (RMSD threshold: 0.35 Ang)\n",
      "Took: 1.6886515617370605 s\n",
      "3) Pruning conformers (RMSD threshold: 0.35 Ang)\n",
      "Took: 1.776841163635254 s\n",
      "3) Pruning conformers (RMSD threshold: 0.35 Ang)Took: 1.5318574905395508 s\n",
      "\n",
      "3) Pruning conformers (RMSD threshold: 0.35 Ang)\n",
      "Took: 0.24517583847045898 s\n",
      "Number of conformers found: 18\n",
      "Took: 1.7123029232025146 s\n",
      "Took: 0.19233393669128418 s3) Pruning conformers (RMSD threshold: 0.35 Ang)\n",
      "\n",
      "Number of conformers found: 6\n",
      "Took: 0.20733046531677246 s\n",
      "Number of conformers found: 20\n",
      "Took: 0.2313251495361328 s\n",
      "Number of conformers found: 10\n",
      "Took: 0.22613191604614258 s\n",
      "Number of conformers found: 18\n",
      "Took: 0.4100611209869385 s\n",
      "Number of conformers found: 12\n"
     ]
    }
   ],
   "source": [
    "### 48 secs to beat for serial/parallel 32\n",
    "with mp.Pool(32) as pool:\n",
    "    sub_test = pool.map(get_conformers, p.molecule_smiles.iloc[rand_smi].tolist())"
   ]
  },
  {
   "cell_type": "code",
   "execution_count": null,
   "id": "1432531e",
   "metadata": {},
   "outputs": [],
   "source": [
    "test = [single_run(s, runtype='opt', **calc_params, parallel=8) for s in subs]"
   ]
  },
  {
   "cell_type": "code",
   "execution_count": null,
   "id": "cf923313",
   "metadata": {},
   "outputs": [],
   "source": [
    "test2 = multi_run(subs, runtype='opt normal', calc_kwargs=calc_params)"
   ]
  },
  {
   "cell_type": "code",
   "execution_count": null,
   "id": "89db7add",
   "metadata": {},
   "outputs": [],
   "source": [
    "optlevels = ['loose', 'lax', 'normal', 'tight', 'vtight', 'extreme']\n",
    "ips = []\n",
    "\n",
    "for o in optlevels:\n",
    "    print(o)\n",
    "    subs = multi_run(substrates, runtype=f'opt {o}', calc_kwargs=calc_params)\n",
    "    subs = multi_run(subs, runtype='vipea', calc_kwargs=calc_params)\n",
    "\n",
    "    ips.append([s.info['ip'] for s in subs])"
   ]
  },
  {
   "cell_type": "code",
   "execution_count": null,
   "id": "64e3d746",
   "metadata": {},
   "outputs": [],
   "source": [
    "ips = np.array(ips)"
   ]
  },
  {
   "cell_type": "code",
   "execution_count": null,
   "id": "8988265e",
   "metadata": {},
   "outputs": [],
   "source": [
    "plt.plot(ips - ips[0, :])"
   ]
  },
  {
   "attachments": {},
   "cell_type": "markdown",
   "id": "f162de0f",
   "metadata": {},
   "source": [
    "## All sites"
   ]
  },
  {
   "attachments": {},
   "cell_type": "markdown",
   "id": "027a92ea",
   "metadata": {},
   "source": [
    "### Complete relaxation"
   ]
  },
  {
   "cell_type": "code",
   "execution_count": null,
   "id": "fc88db34",
   "metadata": {
    "scrolled": false
   },
   "outputs": [],
   "source": [
    "start = time.perf_counter()\n",
    "\n",
    "### Build\n",
    "configsOH, configsO, configsOOH = build_configurations(sub, key='nonH_atoms')\n",
    "\n",
    "### Relax\n",
    "oh_all = multi_run(configsOH, runtype='opt vtight', keep_folders=False, calc_kwargs=calc_params, multi_process=6)\n",
    "o_all = multi_run(configsO, runtype='opt vtight', keep_folders=False, calc_kwargs=calc_params, multi_process=6)\n",
    "ooh_all = multi_run(configsOOH, runtype='opt vtight', keep_folders=False, calc_kwargs=calc_params, multi_process=6)\n",
    "\n",
    "### Filter\n",
    "oh_all = filter_configurations(oh_all, sub)\n",
    "o_all = filter_configurations(o_all, sub)\n",
    "ooh_all = filter_configurations(ooh_all, sub)\n",
    "\n",
    "### Info\n",
    "print(\"Num configs\", len(oh_all), len(o_all), len(ooh_all))\n",
    "print(\"Relaxation Took\", time.perf_counter()-start)"
   ]
  },
  {
   "attachments": {},
   "cell_type": "markdown",
   "id": "e4820485",
   "metadata": {},
   "source": [
    "### ZPE, TS"
   ]
  },
  {
   "cell_type": "code",
   "execution_count": null,
   "id": "437f476f",
   "metadata": {},
   "outputs": [],
   "source": [
    "start = time.perf_counter()\n",
    "\n",
    "### Hessian\n",
    "oh_all = multi_run(oh_all, runtype='hess', keep_folders=False, calc_kwargs=calc_params, multi_process=6)\n",
    "o_all = multi_run(o_all, runtype='hess', keep_folders=False, calc_kwargs=calc_params, multi_process=6)\n",
    "ooh_all = multi_run(ooh_all, runtype='hess', keep_folders=False, calc_kwargs=calc_params, multi_process=6)\n",
    "\n",
    "### Info\n",
    "print(\"Total Time\", time.perf_counter()-start)"
   ]
  },
  {
   "cell_type": "code",
   "execution_count": null,
   "id": "375ddeee",
   "metadata": {},
   "outputs": [],
   "source": [
    "### All information\n",
    "oh_nan, o_nan, ooh_nan = clean_configs_with_nans(oh_all), clean_configs_with_nans(o_all), clean_configs_with_nans(ooh_all)\n",
    "\n",
    "eoh_nan = [config.info['energy'] if config is not np.nan else np.nan for config in oh_nan]\n",
    "eo_nan = [config.info['energy'] if config is not np.nan else np.nan for config in o_nan]\n",
    "eooh_nan = [config.info['energy'] if config is not np.nan else np.nan for config in ooh_nan]\n",
    "\n",
    "zpeoh_nan = np.array([config.info['zpe'] if config is not np.nan else np.nan for config in oh_nan])\n",
    "zpeo_nan = np.array([config.info['zpe'] if config is not np.nan else np.nan for config in o_nan])\n",
    "zpeooh_nan = np.array([config.info['zpe'] if config is not np.nan else np.nan for config in ooh_nan])\n",
    "\n",
    "soh_nan = np.array([config.info['entropy'] if config is not np.nan else np.nan for config in oh_nan])\n",
    "so_nan = np.array([config.info['entropy'] if config is not np.nan else np.nan for config in o_nan])\n",
    "sooh_nan = np.array([config.info['entropy'] if config is not np.nan else np.nan for config in ooh_nan])"
   ]
  },
  {
   "cell_type": "code",
   "execution_count": null,
   "id": "24a2fd04",
   "metadata": {},
   "outputs": [],
   "source": [
    "es = sub.info['energy']\n",
    "zpes = sub.info['zpe']\n",
    "ss = sub.info['entropy']"
   ]
  },
  {
   "cell_type": "code",
   "execution_count": null,
   "id": "025e5d46",
   "metadata": {},
   "outputs": [],
   "source": [
    "eoh_all = [config.info['energy'] if config is not np.nan else np.nan for config in oh_all]\n",
    "eo_all = [config.info['energy'] if config is not np.nan else np.nan for config in o_all]\n",
    "eooh_all = [config.info['energy'] if config is not np.nan else np.nan for config in ooh_all]\n",
    "\n",
    "zpeoh_all = np.array([config.info['zpe'] if config is not np.nan else np.nan for config in oh_all])\n",
    "zpeo_all = np.array([config.info['zpe'] if config is not np.nan else np.nan for config in o_all])\n",
    "zpeooh_all = np.array([config.info['zpe'] if config is not np.nan else np.nan for config in ooh_all])\n",
    "\n",
    "soh_all = np.array([config.info['entropy'] if config is not np.nan else np.nan for config in oh_all])\n",
    "so_all = np.array([config.info['entropy'] if config is not np.nan else np.nan for config in o_all])\n",
    "sooh_all = np.array([config.info['entropy'] if config is not np.nan else np.nan for config in ooh_all])"
   ]
  },
  {
   "cell_type": "code",
   "execution_count": null,
   "id": "d7e678c8",
   "metadata": {},
   "outputs": [],
   "source": [
    "### Grouping for equivalent sites\n",
    "qs_grouped = grouped_by_sym(sub.info['qs'], sub.info['equivalent_atoms_grouped'])\n",
    "\n",
    "eoh_grouped = grouped_by_sym(eoh_nan, sub.info['equivalent_atoms_grouped'])\n",
    "eo_grouped = grouped_by_sym(eo_nan, sub.info['equivalent_atoms_grouped'])\n",
    "eooh_grouped = grouped_by_sym(eooh_nan, sub.info['equivalent_atoms_grouped'])\n",
    "\n",
    "zpeoh_grouped = grouped_by_sym(zpeoh_nan, sub.info['equivalent_atoms_grouped'])\n",
    "zpeo_grouped = grouped_by_sym(zpeo_nan, sub.info['equivalent_atoms_grouped'])\n",
    "zpeooh_grouped = grouped_by_sym(zpeooh_nan, sub.info['equivalent_atoms_grouped'])\n",
    "\n",
    "soh_grouped = grouped_by_sym(soh_nan, sub.info['equivalent_atoms_grouped'])\n",
    "so_grouped = grouped_by_sym(so_nan, sub.info['equivalent_atoms_grouped'])\n",
    "sooh_grouped = grouped_by_sym(sooh_nan, sub.info['equivalent_atoms_grouped'])"
   ]
  },
  {
   "attachments": {},
   "cell_type": "markdown",
   "id": "817dcb53",
   "metadata": {},
   "source": [
    "## Equivalent sites"
   ]
  },
  {
   "cell_type": "code",
   "execution_count": null,
   "id": "b7b0ebee",
   "metadata": {
    "scrolled": true
   },
   "outputs": [],
   "source": [
    "mol = Chem.MolFromSmiles(smi)\n",
    "mol.__sssAtoms = [*sub.info['equivalent_atoms']]\n",
    "mol"
   ]
  },
  {
   "cell_type": "code",
   "execution_count": null,
   "id": "2f3aab6f",
   "metadata": {},
   "outputs": [],
   "source": [
    "sub.info['equivalent_atoms']"
   ]
  },
  {
   "cell_type": "code",
   "execution_count": null,
   "id": "3dbd510a",
   "metadata": {},
   "outputs": [],
   "source": [
    "print(\"Max diff in Energy (eV)\")\n",
    "print(np.nanmax([max(g) - min(g) for g in eoh_grouped]), np.nanmax([max(g) - min(g) for g in eo_grouped]), np.nanmax([max(g) - min(g) for g in eooh_grouped]))"
   ]
  },
  {
   "cell_type": "code",
   "execution_count": null,
   "id": "f8bd2cd6",
   "metadata": {},
   "outputs": [],
   "source": [
    "print(\"Max diff in zpe (eV)\")\n",
    "print(np.nanmax([max(g) - min(g) for g in zpeoh_grouped]), np.nanmax([max(g) - min(g) for g in zpeo_grouped]), np.nanmax([max(g) - min(g) for g in zpeooh_grouped]))"
   ]
  },
  {
   "cell_type": "code",
   "execution_count": null,
   "id": "264af838",
   "metadata": {},
   "outputs": [],
   "source": [
    "print(\"Max diff in entropy (eV)\")\n",
    "print(np.nanmax([max(g) - min(g) for g in soh_grouped]), np.nanmax([max(g) - min(g) for g in so_grouped]), np.nanmax([max(g) - min(g) for g in sooh_grouped]))"
   ]
  },
  {
   "cell_type": "code",
   "execution_count": null,
   "id": "4b32789a",
   "metadata": {
    "scrolled": true
   },
   "outputs": [],
   "source": [
    "for g, e in zip(qs_grouped, sub.info['equivalent_atoms_grouped']):\n",
    "    print(e, '|', max(g) - min(g))"
   ]
  },
  {
   "attachments": {},
   "cell_type": "markdown",
   "id": "79f30096",
   "metadata": {},
   "source": [
    "Variation probably due to an actual difference in 3D environment, but also conformational and optimization related influences.\n",
    "\n",
    "This approximation breaks down if the 2 supposedly equivalent sites have substantially different electronic environments. Errors on the order of 0.1-0.2 eV.\n",
    "\n",
    "Charge difference heuristic max(qs) - min(qs) < 0.001 C."
   ]
  },
  {
   "attachments": {},
   "cell_type": "markdown",
   "id": "9d96ddee",
   "metadata": {},
   "source": [
    "### Complete relaxation"
   ]
  },
  {
   "cell_type": "code",
   "execution_count": null,
   "id": "dd057e39",
   "metadata": {},
   "outputs": [],
   "source": [
    "### Build Configs\n",
    "configsOH, configsO, configsOOH = build_configurations(sub, key='equivalent_atoms')"
   ]
  },
  {
   "cell_type": "code",
   "execution_count": null,
   "id": "05f8239d",
   "metadata": {
    "scrolled": true
   },
   "outputs": [],
   "source": [
    "start = time.perf_counter()\n",
    "oh = multi_run(configsOH, runtype='opt vtight', keep_folders=False, calc_kwargs=calc_params, multi_process=6)\n",
    "o = multi_run(configsO, runtype='opt vtight', keep_folders=False, calc_kwargs=calc_params, multi_process=6)\n",
    "ooh = multi_run(configsOOH, runtype='opt vtight', keep_folders=False, calc_kwargs=calc_params, multi_process=6)"
   ]
  },
  {
   "cell_type": "code",
   "execution_count": null,
   "id": "0e894bd3",
   "metadata": {
    "scrolled": true
   },
   "outputs": [],
   "source": [
    "### Filtering\n",
    "oh = filter_configurations_with_symm(oh, sub)\n",
    "o = filter_configurations_with_symm(o, sub)\n",
    "ooh = filter_configurations_with_symm(ooh, sub)\n",
    "print(\"Num configs\", len(oh), len(o), len(ooh))\n",
    "print(\"Took\", time.perf_counter()-start)"
   ]
  },
  {
   "attachments": {},
   "cell_type": "markdown",
   "id": "45a08c14",
   "metadata": {},
   "source": [
    "### Crude, filter, then full relaxation"
   ]
  },
  {
   "cell_type": "code",
   "execution_count": null,
   "id": "480a23c8",
   "metadata": {
    "scrolled": true
   },
   "outputs": [],
   "source": [
    "### Crude Relaxation\n",
    "start = time.perf_counter()\n",
    "oh_crude = multi_run(configsOH, runtype='opt sloppy', keep_folders=False, calc_kwargs=calc_params, multi_process=6)\n",
    "o_crude = multi_run(configsO, runtype='opt sloppy', keep_folders=False, calc_kwargs=calc_params, multi_process=6)\n",
    "ooh_crude = multi_run(configsOOH, runtype='opt sloppy', keep_folders=False, calc_kwargs=calc_params, multi_process=6)"
   ]
  },
  {
   "cell_type": "code",
   "execution_count": null,
   "id": "60375319",
   "metadata": {},
   "outputs": [],
   "source": [
    "### Filtering\n",
    "oh_crude = filter_configurations_with_symm(oh_crude, sub)\n",
    "o_crude = filter_configurations_with_symm(o_crude, sub)\n",
    "ooh_crude = filter_configurations_with_symm(ooh_crude, sub)\n",
    "print(\"Num configs\", len(oh_crude), len(o_crude), len(ooh_crude))"
   ]
  },
  {
   "cell_type": "code",
   "execution_count": null,
   "id": "2740c980",
   "metadata": {
    "scrolled": true
   },
   "outputs": [],
   "source": [
    "### Subsequent full Relaxation\n",
    "oh_crude_full = multi_run(oh_crude, runtype='opt vtight', keep_folders=False, calc_kwargs=calc_params, multi_process=6)\n",
    "o_crude_full = multi_run(o_crude, runtype='opt vtight', keep_folders=False, calc_kwargs=calc_params, multi_process=6)\n",
    "ooh_crude_full = multi_run(ooh_crude, runtype='opt vtight', keep_folders=False, calc_kwargs=calc_params, multi_process=6)"
   ]
  },
  {
   "cell_type": "code",
   "execution_count": null,
   "id": "d26201cd",
   "metadata": {
    "scrolled": true
   },
   "outputs": [],
   "source": [
    "### Filtering\n",
    "oh_crude_full = filter_configurations_with_symm(oh_crude_full, sub)\n",
    "o_crude_full = filter_configurations_with_symm(o_crude_full, sub)\n",
    "ooh_crude_full = filter_configurations_with_symm(ooh_crude_full, sub)\n",
    "print(\"Num configs\", len(oh_crude_full), len(o_crude_full), len(ooh_crude_full))\n",
    "print(\"Took\", time.perf_counter()-start)"
   ]
  },
  {
   "attachments": {},
   "cell_type": "markdown",
   "id": "60374c9e",
   "metadata": {},
   "source": [
    "Its often apparent early in the relaxation whether a site is stable or not (whether it destroys the substrate or volatalizes off the site). Prune redundant and unstable configurations early in the relaxation.\n",
    "\n",
    "1. Double O configs are common\n",
    "2. Volatization to another site is common\n",
    "3. No need to further optimize a destroyed substrate"
   ]
  },
  {
   "cell_type": "code",
   "execution_count": null,
   "id": "7ea3d803",
   "metadata": {},
   "outputs": [],
   "source": [
    "eoh = np.array([t.info['energy'] for t in oh])\n",
    "eo = np.array([t.info['energy'] for t in o])\n",
    "eooh = np.array([t.info['energy'] for t in ooh])\n",
    "\n",
    "eoh_crude = np.array([t.info['energy'] for t in oh_crude])\n",
    "eo_crude = np.array([t.info['energy'] for t in o_crude])\n",
    "eooh_crude = np.array([t.info['energy'] for t in ooh_crude])\n",
    "\n",
    "asoh = [t.info['active_site'] for t in oh]\n",
    "aso = [t.info['active_site'] for t in o]\n",
    "asooh = [t.info['active_site'] for t in ooh]\n",
    "\n",
    "activesites = [[i, j, k] for i, j, k in itertools.product(asoh, aso, asooh)]\n",
    "activesites = np.array(activesites).reshape(len(asoh), len(aso), len(asooh), 3)\n",
    "eoh_crude = np.delete(eoh_crude, 5)"
   ]
  },
  {
   "attachments": {},
   "cell_type": "markdown",
   "id": "d8c50c8b",
   "metadata": {},
   "source": [
    "### Generating additional adsorbate configurations"
   ]
  },
  {
   "attachments": {},
   "cell_type": "markdown",
   "id": "ebd118ca",
   "metadata": {},
   "source": [
    "Force fields turn out to be not so good for geometries... but still useful for gnerating addition conformations"
   ]
  },
  {
   "cell_type": "code",
   "execution_count": null,
   "id": "1df8fbd4",
   "metadata": {
    "scrolled": true
   },
   "outputs": [],
   "source": [
    "# Generate additional conformers, and optimize them with ff's\n",
    "start = time.perf_counter()\n",
    "add_oh_confs = [get_adsorbate_conformers(config) for config in oh]\n",
    "add_o_confs = [get_adsorbate_conformers(config) for config in o]\n",
    "add_ooh_confs = [get_adsorbate_conformers(config) for config in ooh]\n",
    "print(\"Took\", time.perf_counter() - start)"
   ]
  },
  {
   "cell_type": "code",
   "execution_count": null,
   "id": "e10efa06",
   "metadata": {
    "scrolled": true
   },
   "outputs": [],
   "source": [
    "# Relax them at tight binding level\n",
    "add_oh = multi_run(add_oh_confs, runtype='opt vtight', keep_folders=False, calc_kwargs=calc_params, multi_process=6)\n",
    "add_o = multi_run(add_o_confs, runtype='opt vtight', keep_folders=False, calc_kwargs=calc_params, multi_process=6)\n",
    "add_ooh = multi_run(add_ooh_confs, runtype='opt vtight', keep_folders=False, calc_kwargs=calc_params, multi_process=6)"
   ]
  },
  {
   "cell_type": "code",
   "execution_count": null,
   "id": "0227af75",
   "metadata": {
    "scrolled": true
   },
   "outputs": [],
   "source": [
    "# Filter and update\n",
    "oh_opt = filter_configurations(oh + add_oh, sub)\n",
    "o_opt = filter_configurations(o + add_o, sub)\n",
    "ooh_opt = filter_configurations(ooh + add_ooh, sub)\n",
    "print(\"Took Total\", time.perf_counter() - start)"
   ]
  },
  {
   "cell_type": "code",
   "execution_count": null,
   "id": "22d1e7b0",
   "metadata": {},
   "outputs": [],
   "source": [
    "eoh_opt = np.array([t.info['energy'] for t in oh_opt])\n",
    "eo_opt = np.array([t.info['energy'] for t in o_opt])\n",
    "eooh_opt = np.array([t.info['energy'] for t in ooh_opt])"
   ]
  },
  {
   "cell_type": "code",
   "execution_count": null,
   "id": "bcf4b13c",
   "metadata": {
    "scrolled": true
   },
   "outputs": [],
   "source": [
    "print('Num configs', len(oh), len(o), len(ooh))\n",
    "print('New configs', np.count_nonzero(eoh_opt - eoh < 0), np.count_nonzero(eo_opt - eo < 0), np.count_nonzero(eooh_opt - eooh < 0))"
   ]
  },
  {
   "cell_type": "code",
   "execution_count": null,
   "id": "1b88ad15",
   "metadata": {},
   "outputs": [],
   "source": [
    "print('Min difference (eV)')\n",
    "print(np.min(eoh_opt - eoh), np.min(eo_opt - eo), np.min(eooh_opt - eooh))"
   ]
  },
  {
   "attachments": {},
   "cell_type": "markdown",
   "id": "971d6182",
   "metadata": {},
   "source": [
    "Generating additional conformations with EKTG/FFs leads to better sampling of the PES for a given active site.. but it essentially requires double the computational time. Can resolve errors on the order of ~0.1 eV."
   ]
  },
  {
   "attachments": {},
   "cell_type": "markdown",
   "id": "9b147736",
   "metadata": {},
   "source": [
    "### Free Energy and overpotentials"
   ]
  },
  {
   "attachments": {},
   "cell_type": "markdown",
   "id": "68888bad",
   "metadata": {},
   "source": [
    "#### ZPE, TS"
   ]
  },
  {
   "cell_type": "code",
   "execution_count": null,
   "id": "b9cfbd62",
   "metadata": {
    "scrolled": true
   },
   "outputs": [],
   "source": [
    "start = time.perf_counter()\n",
    "\n",
    "### Hessian\n",
    "oh = multi_run(oh, runtype='hess', keep_folders=False, calc_kwargs=calc_params, multi_process=6)\n",
    "o = multi_run(o, runtype='hess', keep_folders=False, calc_kwargs=calc_params, multi_process=6)\n",
    "ooh = multi_run(ooh, runtype='hess', keep_folders=False, calc_kwargs=calc_params, multi_process=6)\n",
    "\n",
    "### Info\n",
    "print(\"Total Time\", time.perf_counter()-start)"
   ]
  },
  {
   "cell_type": "code",
   "execution_count": null,
   "id": "161401a3",
   "metadata": {},
   "outputs": [],
   "source": [
    "# Info\n",
    "zpeoh = np.array([config.info['zpe'] if config is not np.nan else np.nan for config in oh])\n",
    "zpeo = np.array([config.info['zpe'] if config is not np.nan else np.nan for config in o])\n",
    "zpeooh = np.array([config.info['zpe'] if config is not np.nan else np.nan for config in ooh])\n",
    "\n",
    "soh = np.array([config.info['entropy'] if config is not np.nan else np.nan for config in oh])\n",
    "so = np.array([config.info['entropy'] if config is not np.nan else np.nan for config in o])\n",
    "sooh = np.array([config.info['entropy'] if config is not np.nan else np.nan for config in ooh])"
   ]
  },
  {
   "attachments": {},
   "cell_type": "markdown",
   "id": "ff236c44",
   "metadata": {},
   "source": [
    "#### with (ZPE-TS) correction"
   ]
  },
  {
   "attachments": {},
   "cell_type": "markdown",
   "id": "191edfa1",
   "metadata": {},
   "source": [
    "enumerating active sites... lowest overpotential site would be our active site?"
   ]
  },
  {
   "cell_type": "code",
   "execution_count": null,
   "id": "70977351",
   "metadata": {},
   "outputs": [],
   "source": [
    "# Free energies\n",
    "gs = es + zpes - ss\n",
    "goh = eoh + zpeoh - soh\n",
    "go = eo + zpeo - so\n",
    "gooh = eooh + zpeooh - sooh\n",
    "\n",
    "# G matrix, MAD, overpot, rate determining step\n",
    "G = free_energy_multidim(gs, goh, go, gooh)\n",
    "overpot = G.max(axis=3) - 1.23\n",
    "mad = abs(G-1.23).sum(axis=3)\n",
    "spread = G.max(axis=3) - G.min(axis=3)\n",
    "rds = G.argmax(axis=3)\n",
    "\n",
    "# Sorting\n",
    "arg_0 = np.unravel_index(overpot.argsort(axis=None, kind='stable'), overpot.shape)\n",
    "indxs_0 = np.dstack(arg_0)[0]"
   ]
  },
  {
   "cell_type": "code",
   "execution_count": null,
   "id": "4e5b9cf8",
   "metadata": {},
   "outputs": [],
   "source": [
    "eoh_crude.argmin(), eo_crude.argmin(), eooh_crude.argmin()"
   ]
  },
  {
   "cell_type": "code",
   "execution_count": null,
   "id": "5cd1d23f",
   "metadata": {},
   "outputs": [],
   "source": [
    "stable_indx = eoh.argmin(), eo.argmin(), eooh.argmin()\n",
    "stable_indx_zpets = goh.argmin(), go.argmin(), gooh.argmin()\n",
    "stable_indx"
   ]
  },
  {
   "cell_type": "code",
   "execution_count": null,
   "id": "041aba4f",
   "metadata": {},
   "outputs": [],
   "source": [
    "G[stable_indx].max()"
   ]
  },
  {
   "cell_type": "code",
   "execution_count": null,
   "id": "1d5eeeb7",
   "metadata": {},
   "outputs": [],
   "source": [
    "# unravled_argsorted_overpot = np.unravel_index(argsorted_overpot, overpot.shape)\n",
    "# lexargsorted_overpot_then_mad = np.lexsort((mad.flatten()[argsorted_overpot], overpot.flatten()[argsorted_overpot]))\n",
    "# argsorted_overpot_then_mad = argsorted_overpot[lexargsorted_overpot_then_mad]\n",
    "# unraveled_argsorted_overpot_then_mad = np.unravel_index(argsorted_overpot_then_mad, overpot.shape)"
   ]
  },
  {
   "cell_type": "code",
   "execution_count": null,
   "id": "68823006",
   "metadata": {},
   "outputs": [],
   "source": [
    "indxs_0[0], overpot[*indxs_0[0]]"
   ]
  },
  {
   "cell_type": "code",
   "execution_count": null,
   "id": "20a8fd96",
   "metadata": {},
   "outputs": [],
   "source": [
    "G[0,1,2]"
   ]
  },
  {
   "cell_type": "code",
   "execution_count": null,
   "id": "73562cce",
   "metadata": {},
   "outputs": [],
   "source": [
    "for config_index in indxs_0:\n",
    "    print(config_index, '|', overpot[*config_index], '|', rds[*config_index])"
   ]
  },
  {
   "attachments": {},
   "cell_type": "markdown",
   "id": "766bdeec",
   "metadata": {},
   "source": [
    "#### visualizing sites"
   ]
  },
  {
   "cell_type": "code",
   "execution_count": null,
   "id": "8a164002",
   "metadata": {},
   "outputs": [],
   "source": [
    "from rdkit.Chem import Draw\n",
    "import ast"
   ]
  },
  {
   "cell_type": "code",
   "execution_count": null,
   "id": "543de6a2",
   "metadata": {},
   "outputs": [],
   "source": [
    "def mol_with_specific_atom_index(mol, indices=None):\n",
    "    if indices is not None:\n",
    "        for atom in mol.GetAtoms():\n",
    "            if atom.GetIdx() in indices:\n",
    "                atom.SetAtomMapNum(atom.GetIdx())\n",
    "    else:\n",
    "        for atom in mol.GetAtoms():\n",
    "            atom.SetAtomMapNum(atom.GetIdx())\n",
    "    return mol"
   ]
  },
  {
   "cell_type": "code",
   "execution_count": null,
   "id": "e67ce015",
   "metadata": {},
   "outputs": [],
   "source": [
    "def config_num_to_activesite_numerized(arguments):\n",
    "    # np.dstacked (Nx3) array of config indices as input\n",
    "    out = []\n",
    "    for argg in arguments:\n",
    "        if isinstance(aso[argg[1]], str):\n",
    "            a = list((asoh[argg[0]], *ast.literal_eval(aso[argg[1]]), asooh[argg[2]]))\n",
    "        else:\n",
    "            a = list((asoh[argg[0]], aso[argg[1]], asooh[argg[2]]))\n",
    "        \n",
    "        c = [int(b) for b in a]\n",
    "        out.append(c)\n",
    "    \n",
    "    return out"
   ]
  },
  {
   "cell_type": "code",
   "execution_count": null,
   "id": "87850a94",
   "metadata": {},
   "outputs": [],
   "source": [
    "N = 300\n",
    "\n",
    "args = indxs_0[:N:20]\n",
    "# args = np.dstack(unraveled_argsorted_overpot_then_mad)[0][:N:20]\n",
    "# args = activesites[argsorted_overpot][:N]\n",
    "# args = argsorted_overpot_then_mad[:N:20]\n",
    "\n",
    "l = []\n",
    "ms = []\n",
    "for arg in args:\n",
    "    overpotential = overpot[*arg]\n",
    "    meanabsdiff = mad[*arg]\n",
    "    #overpotential = overpot.flatten()[arg]\n",
    "    #meanabsdiff = mad.flatten()[arg]\n",
    "    \n",
    "    # |as:{arg[0], arg[1], arg[2]}, \n",
    "    l.append(f'|over:{round(overpotential, 4)}eV, mad:{round(meanabsdiff, 4)}|')\n",
    "    \n",
    "    m = deepcopy(rdkit_smi)\n",
    "    #m.GetAtomWithIdx(int(arg[0])).SetProp('atomNote', 'OH')\n",
    "    #m.GetAtomWithIdx(int(arg[1])).SetProp('atomNote', 'O')\n",
    "    #m.GetAtomWithIdx(int(arg[2])).SetProp('atomNote', 'OOH')\n",
    "    m = Chem.RemoveHs(m)\n",
    "    #asite = activesites[np.unravel_index(arg, overpot.shape)].astype(int)\n",
    "    asite = activesites[*arg]\n",
    "    #m = mol_with_specific_atom_index(m, indices=[*asite])\n",
    "    ms.append(m)"
   ]
  },
  {
   "cell_type": "code",
   "execution_count": null,
   "id": "2ceb9327",
   "metadata": {},
   "outputs": [],
   "source": [
    "overpot.max()"
   ]
  },
  {
   "cell_type": "code",
   "execution_count": null,
   "id": "6b2a2c7c",
   "metadata": {
    "scrolled": false
   },
   "outputs": [],
   "source": [
    "Draw.MolsToGridImage(ms, legends=l, highlightAtomLists=config_num_to_activesite_numerized(indxs_0), subImgSize=(500,500))"
   ]
  },
  {
   "attachments": {},
   "cell_type": "markdown",
   "id": "c8fb3bcf",
   "metadata": {},
   "source": [
    "What do we count as an active site exactly? Far apart configurations also work?"
   ]
  },
  {
   "attachments": {},
   "cell_type": "markdown",
   "id": "7f6654cf",
   "metadata": {},
   "source": [
    "#### w/o ZPE-TS correction"
   ]
  },
  {
   "cell_type": "code",
   "execution_count": null,
   "id": "90615e7b",
   "metadata": {},
   "outputs": [],
   "source": [
    "gs = es\n",
    "goh = eoh\n",
    "go = eo\n",
    "gooh = eooh\n",
    "\n",
    "Gcrude = free_energy_multidim(gs, goh, go, gooh)\n",
    "overpotcrude = Gcrude.max(axis=3) - 1.23\n",
    "rdscrude = Gcrude.argmax(axis=3)"
   ]
  },
  {
   "cell_type": "code",
   "execution_count": null,
   "id": "7c8dd45c",
   "metadata": {},
   "outputs": [],
   "source": [
    "arg_1 = np.unravel_index(overpotcrude.argsort(axis=None, kind='stable'), overpotcrude.shape)\n",
    "indxs_1 = np.dstack(arg_1)[0]"
   ]
  },
  {
   "cell_type": "code",
   "execution_count": null,
   "id": "c9e04077",
   "metadata": {},
   "outputs": [],
   "source": [
    "for config_index in indxs_1:\n",
    "    print(config_index, '|', overpotcrude[*config_index], '|', rdscrude[*config_index])"
   ]
  },
  {
   "cell_type": "code",
   "execution_count": null,
   "id": "cbb05a61",
   "metadata": {},
   "outputs": [],
   "source": [
    "indxs_0[0], overpot[*indxs_0[0]]"
   ]
  },
  {
   "attachments": {},
   "cell_type": "markdown",
   "id": "7e114287",
   "metadata": {},
   "source": [
    "#### ZPE-TS distb"
   ]
  },
  {
   "cell_type": "code",
   "execution_count": null,
   "id": "827fb92a",
   "metadata": {},
   "outputs": [],
   "source": [
    "corr1 = (zpeoh - soh) - (zpes - ss)\n",
    "corr2 = (zpeo - so) - (zpeoh - soh)[:, None]\n",
    "corr3 = (zpeooh - sooh) - (zpeo - so)[:, None]\n",
    "corr4 = (zpes - ss) - (zpeooh - sooh)"
   ]
  },
  {
   "cell_type": "code",
   "execution_count": null,
   "id": "743bcdf8",
   "metadata": {},
   "outputs": [],
   "source": [
    "plt.hist(corr1, label='1')\n",
    "plt.hist(corr2.flatten(), label='2')\n",
    "plt.hist(corr3.flatten(), label='3')\n",
    "plt.hist(corr4, label='4')\n",
    "plt.legend()"
   ]
  },
  {
   "cell_type": "code",
   "execution_count": null,
   "id": "3f05a5d3",
   "metadata": {
    "scrolled": true
   },
   "outputs": [],
   "source": [
    "zpe_s_loop(es, eoh, eo, eooh)"
   ]
  },
  {
   "attachments": {},
   "cell_type": "markdown",
   "id": "c3671bd1",
   "metadata": {},
   "source": [
    "#### Not fully relaxed"
   ]
  },
  {
   "cell_type": "code",
   "execution_count": null,
   "id": "1b2c95a7",
   "metadata": {
    "scrolled": false
   },
   "outputs": [],
   "source": [
    "zpe_s_loop(es, eoh_crude, eo_crude, eooh_crude)"
   ]
  },
  {
   "attachments": {},
   "cell_type": "markdown",
   "id": "06b73830",
   "metadata": {},
   "source": [
    "1) Fully Relaxing 28*3 configs took 184 sec, Frequency analysis on 21*14*15 configs took 235 sec\n",
    "2) Relaxing 15*3 equivalent configs took 108 sec, Freq. analysis on 11*8*8 configs took 133\n",
    "2a) Stop and go relaxing 15*15*15 / 12*8*8 equivalent configs took 82 sec\n",
    "3) Generating addition FF confs and relaxing them, 75 sec\n",
    "\n",
    "75sec (conf generation)\n",
    "1) 419sec (full, 100%) \n",
    "2) 241sec (Equivalent, 57%)\n",
    "3) 215sec (stop and go, 51%)\n",
    "4) 40 sec + 20 sec ZPEs + 20 sec relax (crude, 19%)"
   ]
  },
  {
   "cell_type": "code",
   "execution_count": null,
   "id": "7060f09e",
   "metadata": {},
   "outputs": [],
   "source": [
    "gs = es #+ ss - zpes\n",
    "goh = eoh_crude #+ zpeoh - soh\n",
    "go = eo_crude #+ zpeo - so\n",
    "gooh = eooh_crude #+ zpeooh - sooh\n",
    "\n",
    "Gcrude = free_energy_multidim(gs, goh, go, gooh)\n",
    "overpotcrude = Gcrude.max(axis=3) - 1.23\n",
    "rdscrude = Gcrude.argmax(axis=3)"
   ]
  },
  {
   "cell_type": "code",
   "execution_count": null,
   "id": "5d0f8dc1",
   "metadata": {},
   "outputs": [],
   "source": [
    "np.mean(eoh_crude - eoh), np.mean(eo_crude - eo), np.mean(eooh_crude - eooh)"
   ]
  },
  {
   "cell_type": "code",
   "execution_count": null,
   "id": "159d936c",
   "metadata": {
    "scrolled": false
   },
   "outputs": [],
   "source": [
    "plt.scatter(overpot.flatten(), overpotcrude.flatten())\n",
    "plt.plot(overpot.flatten(), overpot.flatten(), 'r')\n",
    "plt.xlabel('Overpotential Exact')\n",
    "plt.ylabel('Overpotential Crude')"
   ]
  },
  {
   "cell_type": "code",
   "execution_count": null,
   "id": "74369c53",
   "metadata": {},
   "outputs": [],
   "source": [
    "rdscrude[np.where(overpotcrude > overpot)]"
   ]
  },
  {
   "cell_type": "code",
   "execution_count": null,
   "id": "30e37a1e",
   "metadata": {},
   "outputs": [],
   "source": [
    "np.mean(overpotcrude - overpot)"
   ]
  }
 ],
 "metadata": {
  "kernelspec": {
   "display_name": "Python 3 (ipykernel)",
   "language": "python",
   "name": "python3"
  },
  "language_info": {
   "codemirror_mode": {
    "name": "ipython",
    "version": 3
   },
   "file_extension": ".py",
   "mimetype": "text/x-python",
   "name": "python",
   "nbconvert_exporter": "python",
   "pygments_lexer": "ipython3",
   "version": "3.11.4"
  }
 },
 "nbformat": 4,
 "nbformat_minor": 5
}
