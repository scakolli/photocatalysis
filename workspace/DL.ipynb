{
 "cells": [
  {
   "cell_type": "code",
   "execution_count": 1,
   "metadata": {},
   "outputs": [],
   "source": [
    "import zipfile\n",
    "import h5py\n",
    "import os\n",
    "import sys\n",
    "\n",
    "import numpy as np\n",
    "\n",
    "from rdkit import Chem\n",
    "from rdkit.Chem.Draw import IPythonConsole\n",
    "IPythonConsole.drawOptions.addAtomIndices = True"
   ]
  },
  {
   "cell_type": "code",
   "execution_count": 65,
   "metadata": {},
   "outputs": [
    {
     "data": {
      "text/plain": [
       "False"
      ]
     },
     "execution_count": 65,
     "metadata": {},
     "output_type": "execute_result"
    }
   ],
   "source": [
    "import torch\n",
    "import torch.nn as nn\n",
    "import torch.nn.functional as F\n",
    "import torch.optim as optim\n",
    "\n",
    "import torchinfo\n",
    "\n",
    "torch.cuda.is_available()"
   ]
  },
  {
   "cell_type": "code",
   "execution_count": 3,
   "metadata": {},
   "outputs": [],
   "source": [
    "ziploc = '/home/btpq/bt308495/Thesis/molecular-vae/data/processed.zip'\n",
    "contentsdest = '/localdisk/bt308495/molecular-vae/data/'\n",
    "\n",
    "### Unzip file to 'contentdest'\n",
    "# with zipfile.ZipFile(ziploc, 'r') as zpf:\n",
    "#     zpf.extractall(contentsdest)\n",
    "\n",
    "### Load data from unzipped file\n",
    "with h5py.File(os.path.join(contentsdest, 'processed.h5'), 'r') as data:\n",
    "    data_train =  data['data_train'][:]\n",
    "    data_test =  data['data_test'][:]\n",
    "    charset =  data['charset'][:]"
   ]
  },
  {
   "cell_type": "code",
   "execution_count": 4,
   "metadata": {},
   "outputs": [
    {
     "data": {
      "text/plain": [
       "((40000, 120, 33), (10000, 120, 33), (33,))"
      ]
     },
     "execution_count": 4,
     "metadata": {},
     "output_type": "execute_result"
    }
   ],
   "source": [
    "data_train.shape, data_test.shape, charset.shape"
   ]
  },
  {
   "cell_type": "markdown",
   "metadata": {},
   "source": [
    "-------"
   ]
  },
  {
   "cell_type": "code",
   "execution_count": 5,
   "metadata": {},
   "outputs": [],
   "source": [
    "test = data_train[0].copy()"
   ]
  },
  {
   "cell_type": "code",
   "execution_count": 6,
   "metadata": {},
   "outputs": [],
   "source": [
    "def one_hot_to_smile(onehot_vector, character_set):\n",
    "    ### Take a one-hot vector/tensor (MAX SMILE LENGTH, CHARSET LENGTH) and convert it to a smile string\n",
    "    assert onehot_vector.shape[1] == character_set.size, 'Onehot length doesnt match character_set length'\n",
    "    indicies = np.argmax(onehot_vector, axis=1)\n",
    "    return b''.join(character_set[indicies])"
   ]
  },
  {
   "cell_type": "code",
   "execution_count": 7,
   "metadata": {},
   "outputs": [
    {
     "data": {
      "image/png": "[encoded data removed]",
      "text/plain": [
       "<rdkit.Chem.rdchem.Mol at 0x7f039d24e420>"
      ]
     },
     "execution_count": 7,
     "metadata": {},
     "output_type": "execute_result"
    }
   ],
   "source": [
    "Chem.MolFromSmiles(one_hot_to_smile(data_train[30], charset))"
   ]
  },
  {
   "cell_type": "code",
   "execution_count": 8,
   "metadata": {},
   "outputs": [],
   "source": [
    "smis = [one_hot_to_smile(d, charset) for d in data_train]"
   ]
  },
  {
   "cell_type": "markdown",
   "metadata": {},
   "source": [
    "----"
   ]
  },
  {
   "cell_type": "markdown",
   "metadata": {},
   "source": [
    "# VAE Model"
   ]
  },
  {
   "cell_type": "code",
   "execution_count": 57,
   "metadata": {},
   "outputs": [],
   "source": [
    "class VAE(nn.Module):\n",
    "    def __init__(self):\n",
    "        super(VAE, self).__init__()\n",
    "        self.CHARSET_LEN = 33\n",
    "        self.INPUT_SIZE = 120\n",
    "        self.LATENT_DIM = 292\n",
    "\n",
    "        ### ENCODING\n",
    "        # Convolutional Layers\n",
    "        self.conv_1 = nn.Conv1d(self.INPUT_SIZE, 9, kernel_size=9)\n",
    "        self.conv_2 = nn.Conv1d(9, 9, kernel_size=9)\n",
    "        self.conv_3 = nn.Conv1d(9, 10, kernel_size=11)\n",
    "\n",
    "        # Fully Connected Layer\n",
    "        self.linear_0 = nn.Linear(70, 435)\n",
    "\n",
    "        # Mean and Variance Latent Layers\n",
    "        self.mean_linear_1 = nn.Linear(435, self.LATENT_DIM)\n",
    "        self.var_linear_2 = nn.Linear(435, self.LATENT_DIM)\n",
    "        \n",
    "        ### DECODING\n",
    "        # Fully connected, GRU RNN, Fully connected layers\n",
    "        # 3 sequential GRUs of hidden size 501. batch_first = True implies batch_dim first. \n",
    "        # Then, inputs into GRU are of shape [batch_size, seq_length (INPUT_SIZE, 120), Hin (LATENT_DIM, 292)]\n",
    "        self.linear_3 = nn.Linear(self.LATENT_DIM, self.LATENT_DIM)\n",
    "        self.stacked_gru = nn.GRU(self.LATENT_DIM, 501, 3, batch_first=True)\n",
    "        self.linear_4 = nn.Linear(501, self.CHARSET_LEN)\n",
    "        \n",
    "        ### ACTIVATION and OUTPUT \n",
    "        self.relu = nn.ReLU()\n",
    "        self.softmax = nn.Softmax()\n",
    "\n",
    "    def encode(self, x):\n",
    "        # Convolutional\n",
    "        x = self.relu(self.conv_1(x))\n",
    "        x = self.relu(self.conv_2(x))\n",
    "        x = self.relu(self.conv_3(x))\n",
    "\n",
    "        # Flatten the Convultional output [batch_size, 10, 70] to make an input [batch_size, 10*7] for a fully connected layer\n",
    "        x = x.view(x.size(0), -1)\n",
    "        x = F.selu(self.linear_0(x))\n",
    "\n",
    "        # Mean and logvariance latent vectors [batch_size, latent_dim]\n",
    "        m, v = self.mean_linear_1(x), self.var_linear_2(x) \n",
    "        return m, v\n",
    "\n",
    "    def reparameterize(self, mu_z, logvar_z):\n",
    "        ## Sample a latent vector 'z', given its mean and std vectors\n",
    "        # z ~ N(mu, std), is non-differentiable. While z ~ mu + eps (dot) std, where eps ~ N(0, 1), is differentiable. Why?\n",
    "        # Since mu and std are now deterministic model outputs that can be trained by backprop, while the 'randomness' implicitly enters via the standard normal error/epsilon term\n",
    "        gamma = 1e-2 # not sure why this is here...?\n",
    "        epsilon = gamma * torch.randn_like(logvar_z) # 0 mean, unit variance noise of shape z_logvar\n",
    "        std = torch.exp(0.5 * logvar_z)\n",
    "        z = mu_z + epsilon * std\n",
    "        return z\n",
    "\n",
    "    def decode(self, z):\n",
    "        z = F.selu(self.linear_3(z))\n",
    "\n",
    "        # Since the GRU, when unrolled in 'time', consists of 120 NNs each sequentially processing data... we have to send 120 copies through it.\n",
    "        # By repeating the tensor z self.INPUT_SIZE times along the sequence length dimension, we are effectively creating a sequence of self.INPUT_SIZE time steps,\n",
    "        # each with the same latent representation. This setup allows the GRU to process this \"sequence\" of repeated tensors, even though the actual sequence content\n",
    "        # is the same at each time step. This kind of setup can be useful for example when:\n",
    "\n",
    "        # 1. Information Propagation: \n",
    "        # Sometimes you want to ensure that a certain piece of information is propagated consistently through the entire sequence. By using repeated tensors, you can\n",
    "        # ensure that the same information is available to the network at every time step, allowing the network to incorporate this information throughout the entire sequence.\n",
    "\n",
    "        # 2. Fixed-Size Context: If you have a fixed-size context or control signal that should influence the processing of the entire sequence, you can repeat this\n",
    "        # context along the sequence length dimension. This way, the network can take into account this context when making decisions at every time step.\n",
    "\n",
    "        # Note on use of contiguous()\n",
    "        # contiguous means 'sharing a common border; touching'\n",
    "        # In the context of pytorch, contiguous means not only contiguous in memory (each element in a tensor is stored right next to the other, in a block),\n",
    "        # but also in the same order in memory as the indices order. For example doing a transposition doesn't change the data in memory (data at (1, 4) doesnt swap\n",
    "        # memory places when its transposed to (4, 1)), it simply changes the map from indices to memory pointers (what index corresponds to what data is swapped instead,\n",
    "        # leaving memory untouched). If you then apply contiguous() it will change the data in memory so that the map from indices to memory location is the canonical one.\n",
    "        # For certain pytorch operations, contiguously stored tensors are required! Else a runtime error is encountered (RuntimeError: input is not contiguous).\n",
    "\n",
    "        z = z.view(z.size(0), 1, z.size(-1)).repeat(1, self.INPUT_SIZE, 1) # Reshape z from [batch_size, latent_dim] to [batch_size, seq_len (120), latent_dim]\n",
    "        output, hs = self.stacked_gru(z) # hs represents the hidden state of the last time step of the GRU\n",
    "\n",
    "        # Output is flattened along 1st two dimensions [batch_size, seq_len, hout] -> [batch_size * seq_len, hout]\n",
    "        # Softmax is then applied row-wise/sample-wise following a linear transform\n",
    "        # before the vector is then unflatten back to the original [batch_size, seq_len, charset_len]\n",
    "\n",
    "        # The purpose of this initial flattening is:\n",
    "        # In the context of a sequence-to-sequence model, each time step's output from the RNN (or a similar sequential model) represents the model's understanding of the\n",
    "        # data at that particular moment. When you collapse the dimensions and reshape the tensor to (batch_size * sequence_length, num_features), you effectively create \n",
    "        # a flat sequence where each element corresponds to a time step's output for a specific sample in the batch.\n",
    "        # Then applying a linear transformation like self.linear_4 at this stage means that the same linear transformation is applied to each element in the flattened sequence\n",
    "        # independently (as if the new batch size is of shape batch_size * seq_len)! This is independent in the sense that the transformation doesn't consider interactions\n",
    "        # between different time steps or different samples within the batch. It's a per-element operation.\n",
    "\n",
    "        # By applying a linear transformation independently to each element, the model has the flexibility to learn different weights for different features at different time steps.\n",
    "        # These weights can capture complex relationships within each time step's output, such as identifying important features or capturing patterns specific to that moment.\n",
    "        # We then reshape back to regain the sequence structure...\n",
    "        out_independent = output.contiguous().view(-1, output.size(-1))\n",
    "        y0 = F.softmax(self.linear_4(out_independent), dim=1)\n",
    "        y = y0.contiguous().view(output.size(0), -1, y0.size(-1))\n",
    "        return y\n",
    "\n",
    "    def forward(self, x):\n",
    "        mu_z, logvar_z = self.encode(x)\n",
    "        z = self.reparameterize(mu_z, logvar_z)\n",
    "        zhat = self.decode(z)\n",
    "        return zhat, mu_z, logvar_z"
   ]
  },
  {
   "cell_type": "code",
   "execution_count": 59,
   "metadata": {},
   "outputs": [
    {
     "data": {
      "text/plain": [
       "==========================================================================================\n",
       "Layer (type:depth-idx)                   Output Shape              Param #\n",
       "==========================================================================================\n",
       "VAE                                      [1, 120, 33]              --\n",
       "├─Conv1d: 1-1                            [1, 9, 25]                9,729\n",
       "├─ReLU: 1-2                              [1, 9, 25]                --\n",
       "├─Conv1d: 1-3                            [1, 9, 17]                738\n",
       "├─ReLU: 1-4                              [1, 9, 17]                --\n",
       "├─Conv1d: 1-5                            [1, 10, 7]                1,000\n",
       "├─ReLU: 1-6                              [1, 10, 7]                --\n",
       "├─Linear: 1-7                            [1, 435]                  30,885\n",
       "├─Linear: 1-8                            [1, 292]                  127,312\n",
       "├─Linear: 1-9                            [1, 292]                  127,312\n",
       "├─Linear: 1-10                           [1, 292]                  85,556\n",
       "├─GRU: 1-11                              [1, 120, 501]             4,212,909\n",
       "├─Linear: 1-12                           [120, 33]                 16,566\n",
       "==========================================================================================\n",
       "Total params: 4,612,007\n",
       "Trainable params: 4,612,007\n",
       "Non-trainable params: 0\n",
       "Total mult-adds (Units.MEGABYTES): 508.17\n",
       "==========================================================================================\n",
       "Input size (MB): 0.02\n",
       "Forward/backward pass size (MB): 0.53\n",
       "Params size (MB): 18.45\n",
       "Estimated Total Size (MB): 18.99\n",
       "=========================================================================================="
      ]
     },
     "execution_count": 59,
     "metadata": {},
     "output_type": "execute_result"
    }
   ],
   "source": [
    "batch_size = 1\n",
    "torchinfo.summary(VAE(), input_size=(batch_size, 120, 33))"
   ]
  },
  {
   "cell_type": "code",
   "execution_count": null,
   "metadata": {},
   "outputs": [],
   "source": [
    "# test_z = torch.from_numpy(np.array((np.random.randn(292), np.random.randn(292)))).to(torch.float32)\n",
    "# test_model = VAE()\n",
    "# test_model.decode(test_z)"
   ]
  },
  {
   "cell_type": "code",
   "execution_count": null,
   "metadata": {},
   "outputs": [],
   "source": [
    "# data_train_tensor[0].size(1)\n",
    "# data_train_tensor[:2].shape, data_train_tensor[:2].view(data_train_tensor[:2].shape[0], -1).shape"
   ]
  },
  {
   "cell_type": "code",
   "execution_count": 21,
   "metadata": {},
   "outputs": [],
   "source": [
    "data_train_tensor = torch.from_numpy(data_train)\n",
    "data_train_tensor_loader = torch.utils.data.TensorDataset(torch.from_numpy(data_train))"
   ]
  },
  {
   "cell_type": "code",
   "execution_count": 63,
   "metadata": {},
   "outputs": [
    {
     "data": {
      "text/plain": [
       "(tensor([[[0.0293, 0.0307, 0.0297,  ..., 0.0300, 0.0297, 0.0295],\n",
       "          [0.0290, 0.0305, 0.0299,  ..., 0.0298, 0.0298, 0.0292],\n",
       "          [0.0288, 0.0304, 0.0299,  ..., 0.0297, 0.0299, 0.0291],\n",
       "          ...,\n",
       "          [0.0284, 0.0301, 0.0298,  ..., 0.0295, 0.0300, 0.0289],\n",
       "          [0.0284, 0.0301, 0.0298,  ..., 0.0295, 0.0300, 0.0289],\n",
       "          [0.0284, 0.0301, 0.0298,  ..., 0.0295, 0.0300, 0.0289]],\n",
       " \n",
       "         [[0.0293, 0.0307, 0.0297,  ..., 0.0300, 0.0297, 0.0295],\n",
       "          [0.0290, 0.0305, 0.0299,  ..., 0.0298, 0.0299, 0.0292],\n",
       "          [0.0288, 0.0304, 0.0299,  ..., 0.0297, 0.0299, 0.0291],\n",
       "          ...,\n",
       "          [0.0285, 0.0301, 0.0297,  ..., 0.0295, 0.0300, 0.0289],\n",
       "          [0.0285, 0.0301, 0.0297,  ..., 0.0295, 0.0300, 0.0289],\n",
       "          [0.0285, 0.0301, 0.0297,  ..., 0.0295, 0.0300, 0.0289]]],\n",
       "        grad_fn=<ViewBackward0>),\n",
       " tensor([[-0.0247,  0.0105, -0.0620,  0.0238, -0.0278,  0.0079,  0.0418, -0.0597,\n",
       "          -0.0270, -0.0361, -0.1300,  0.1268,  0.0400, -0.0216,  0.0110, -0.0632,\n",
       "           0.0446, -0.0114, -0.0228,  0.0181,  0.0712, -0.0149, -0.0216,  0.0447,\n",
       "           0.0661,  0.0576, -0.0800, -0.0793, -0.0448,  0.0240,  0.0377, -0.0366,\n",
       "          -0.1446,  0.1246,  0.0083,  0.0444, -0.2119,  0.0524, -0.1168, -0.0146,\n",
       "           0.0047,  0.0536,  0.0541, -0.0249, -0.0122, -0.0161,  0.0083, -0.0728,\n",
       "          -0.0166,  0.0375, -0.0364,  0.0655,  0.0255, -0.0554,  0.0278,  0.0555,\n",
       "           0.0271,  0.0552,  0.0389, -0.1432, -0.0627,  0.0289,  0.0092, -0.0332,\n",
       "          -0.0833, -0.0976,  0.0210, -0.0269, -0.0038, -0.0243,  0.0375,  0.0247,\n",
       "          -0.0022,  0.0189, -0.0414, -0.1002,  0.0269,  0.0407,  0.0795, -0.0524,\n",
       "           0.0630,  0.0327,  0.0367,  0.0506,  0.0029,  0.0636,  0.0524, -0.0513,\n",
       "           0.0132,  0.0550,  0.0457,  0.0716,  0.0544, -0.1007, -0.1550, -0.0077,\n",
       "           0.0661, -0.0066, -0.0508, -0.0606, -0.0443,  0.0580, -0.0439, -0.0702,\n",
       "           0.0164,  0.0449,  0.0496, -0.0371,  0.0162,  0.0537, -0.1102,  0.0136,\n",
       "           0.0210, -0.0036,  0.0528, -0.0386, -0.0218, -0.0303, -0.1466, -0.0986,\n",
       "           0.0557,  0.0336, -0.0432, -0.0708,  0.0040,  0.0359, -0.0129, -0.0374,\n",
       "          -0.0722, -0.0735, -0.0142, -0.0411,  0.0885, -0.1160, -0.1565, -0.0170,\n",
       "          -0.0518,  0.0910, -0.0053,  0.0212, -0.0006,  0.0606,  0.0911,  0.0077,\n",
       "          -0.0124, -0.0341,  0.0270, -0.0210, -0.0231, -0.0080,  0.1315,  0.0085,\n",
       "          -0.0299,  0.0063,  0.0296,  0.0188,  0.0355, -0.0733, -0.0346,  0.0366,\n",
       "          -0.0347,  0.0599, -0.0144, -0.1029,  0.0519, -0.0448,  0.0611,  0.1752,\n",
       "           0.0137, -0.0536, -0.0582, -0.0232,  0.0492,  0.0767,  0.0776,  0.0489,\n",
       "           0.0162,  0.0291, -0.0575,  0.0562,  0.0216, -0.0165, -0.0244,  0.0578,\n",
       "          -0.0165,  0.1065, -0.1236,  0.0864,  0.0105, -0.0453,  0.0329,  0.0246,\n",
       "           0.0666,  0.0115,  0.0338,  0.0978, -0.1102, -0.0740,  0.0303,  0.0025,\n",
       "          -0.1036,  0.0249, -0.0366, -0.0255, -0.0970,  0.0723,  0.0784, -0.0226,\n",
       "          -0.0087,  0.0916,  0.0130,  0.0234,  0.1239, -0.0197, -0.0449, -0.0800,\n",
       "          -0.0304,  0.0600,  0.1337, -0.0099, -0.0342, -0.0009, -0.0221,  0.0107,\n",
       "          -0.0016, -0.0592,  0.0160, -0.0027,  0.0087, -0.0767,  0.0188,  0.0575,\n",
       "          -0.0102,  0.1348, -0.0469,  0.0659, -0.0375, -0.0155, -0.0140,  0.1280,\n",
       "           0.0692, -0.0654,  0.0866,  0.0296,  0.0205, -0.0999,  0.0306,  0.0959,\n",
       "           0.0318,  0.0316, -0.0538, -0.0791,  0.0888,  0.0149,  0.0987, -0.0709,\n",
       "           0.0961,  0.0169,  0.0432, -0.0644,  0.0303, -0.0059,  0.0127,  0.1292,\n",
       "          -0.0520, -0.0328,  0.0304, -0.0378,  0.0033, -0.0314, -0.0737, -0.0783,\n",
       "          -0.0048,  0.0670, -0.0555, -0.0110,  0.0356,  0.0313, -0.0056, -0.0301,\n",
       "          -0.0149, -0.0482,  0.0285,  0.0321, -0.0158, -0.1086, -0.0170, -0.0450,\n",
       "           0.0189,  0.0961, -0.0431, -0.0464],\n",
       "         [-0.0211,  0.0121, -0.0611,  0.0242, -0.0280,  0.0078,  0.0400, -0.0593,\n",
       "          -0.0262, -0.0362, -0.1297,  0.1324,  0.0421, -0.0241,  0.0088, -0.0603,\n",
       "           0.0459, -0.0103, -0.0249,  0.0198,  0.0724, -0.0145, -0.0165,  0.0455,\n",
       "           0.0680,  0.0542, -0.0805, -0.0798, -0.0446,  0.0207,  0.0352, -0.0345,\n",
       "          -0.1406,  0.1249,  0.0091,  0.0435, -0.2106,  0.0569, -0.1172, -0.0175,\n",
       "           0.0083,  0.0570,  0.0528, -0.0279, -0.0108, -0.0153,  0.0071, -0.0736,\n",
       "          -0.0162,  0.0406, -0.0318,  0.0656,  0.0259, -0.0560,  0.0265,  0.0569,\n",
       "           0.0282,  0.0530,  0.0362, -0.1486, -0.0621,  0.0274,  0.0092, -0.0319,\n",
       "          -0.0831, -0.1005,  0.0168, -0.0236, -0.0062, -0.0243,  0.0370,  0.0239,\n",
       "          -0.0034,  0.0193, -0.0404, -0.0962,  0.0262,  0.0409,  0.0817, -0.0540,\n",
       "           0.0641,  0.0300,  0.0340,  0.0506,  0.0041,  0.0651,  0.0496, -0.0508,\n",
       "           0.0127,  0.0566,  0.0463,  0.0748,  0.0562, -0.0994, -0.1528, -0.0067,\n",
       "           0.0667, -0.0094, -0.0509, -0.0597, -0.0455,  0.0609, -0.0435, -0.0703,\n",
       "           0.0182,  0.0449,  0.0496, -0.0361,  0.0172,  0.0547, -0.1098,  0.0158,\n",
       "           0.0223, -0.0048,  0.0498, -0.0387, -0.0215, -0.0299, -0.1489, -0.1001,\n",
       "           0.0541,  0.0332, -0.0417, -0.0730,  0.0014,  0.0364, -0.0094, -0.0385,\n",
       "          -0.0718, -0.0734, -0.0170, -0.0407,  0.0873, -0.1158, -0.1573, -0.0182,\n",
       "          -0.0519,  0.0890, -0.0043,  0.0215,  0.0022,  0.0602,  0.0928,  0.0050,\n",
       "          -0.0146, -0.0365,  0.0294, -0.0183, -0.0240, -0.0105,  0.1319,  0.0063,\n",
       "          -0.0263,  0.0027,  0.0324,  0.0167,  0.0340, -0.0717, -0.0359,  0.0371,\n",
       "          -0.0350,  0.0578, -0.0143, -0.1020,  0.0532, -0.0430,  0.0599,  0.1732,\n",
       "           0.0132, -0.0533, -0.0584, -0.0226,  0.0499,  0.0765,  0.0780,  0.0493,\n",
       "           0.0147,  0.0272, -0.0588,  0.0553,  0.0235, -0.0167, -0.0254,  0.0561,\n",
       "          -0.0152,  0.1077, -0.1220,  0.0885,  0.0141, -0.0450,  0.0335,  0.0233,\n",
       "           0.0638,  0.0112,  0.0347,  0.0976, -0.1118, -0.0716,  0.0291,  0.0022,\n",
       "          -0.1068,  0.0272, -0.0356, -0.0237, -0.0962,  0.0747,  0.0848, -0.0234,\n",
       "          -0.0148,  0.0877,  0.0127,  0.0218,  0.1232, -0.0191, -0.0429, -0.0797,\n",
       "          -0.0291,  0.0604,  0.1366, -0.0098, -0.0378, -0.0032, -0.0231,  0.0104,\n",
       "          -0.0008, -0.0593,  0.0151, -0.0015,  0.0083, -0.0798,  0.0189,  0.0598,\n",
       "          -0.0084,  0.1344, -0.0469,  0.0625, -0.0405, -0.0172, -0.0112,  0.1323,\n",
       "           0.0684, -0.0669,  0.0849,  0.0313,  0.0225, -0.1000,  0.0292,  0.0929,\n",
       "           0.0300,  0.0308, -0.0504, -0.0767,  0.0898,  0.0177,  0.0952, -0.0678,\n",
       "           0.0946,  0.0153,  0.0476, -0.0659,  0.0310, -0.0059,  0.0122,  0.1335,\n",
       "          -0.0511, -0.0340,  0.0311, -0.0418,  0.0017, -0.0308, -0.0734, -0.0786,\n",
       "          -0.0032,  0.0695, -0.0548, -0.0131,  0.0365,  0.0314, -0.0058, -0.0322,\n",
       "          -0.0140, -0.0486,  0.0304,  0.0300, -0.0117, -0.1056, -0.0175, -0.0424,\n",
       "           0.0204,  0.0987, -0.0426, -0.0465]], grad_fn=<AddmmBackward0>),\n",
       " tensor([[-1.0080e-01,  2.0674e-02,  3.5942e-02,  7.1574e-02, -1.4192e-01,\n",
       "           4.3393e-02,  2.8573e-02, -4.7719e-02, -3.0441e-02,  9.5948e-03,\n",
       "          -6.5527e-03, -2.6619e-02, -8.3168e-02, -1.6255e-01, -1.0522e-01,\n",
       "           2.1503e-02,  4.7099e-03, -2.9455e-02,  1.3446e-01, -1.8144e-02,\n",
       "           4.9070e-02, -1.0257e-01, -4.3000e-02,  3.2196e-02,  2.3618e-02,\n",
       "           5.8472e-02, -7.1924e-02, -2.6877e-02, -4.6799e-02, -6.6839e-02,\n",
       "          -1.4364e-02, -5.6653e-02,  2.7616e-02, -1.1192e-02,  1.7129e-02,\n",
       "          -5.8818e-02,  6.4756e-02,  9.7010e-02,  2.4402e-03, -6.2227e-02,\n",
       "          -4.5461e-02, -1.2685e-02, -4.2894e-02,  2.8817e-02, -8.5053e-02,\n",
       "          -6.7619e-03, -6.7851e-02, -3.4769e-02, -1.5729e-02,  1.1973e-01,\n",
       "           9.9837e-02, -2.6572e-02,  8.8685e-02, -5.7439e-02, -2.6734e-02,\n",
       "           1.2256e-01, -8.5852e-02, -5.3690e-02, -9.9859e-02, -1.7934e-02,\n",
       "          -3.2091e-02, -2.2398e-02,  5.2781e-02, -4.3664e-02,  8.0063e-02,\n",
       "          -1.6829e-02, -4.5531e-02,  4.7714e-02, -2.2549e-02, -7.2477e-03,\n",
       "          -9.7803e-03, -7.9678e-03,  1.7001e-01, -2.6215e-02, -2.2994e-02,\n",
       "          -1.0272e-01,  2.1156e-02,  6.9055e-02,  8.6465e-02,  5.8767e-02,\n",
       "           5.3479e-02,  6.1616e-02,  2.6929e-02,  1.6736e-02, -2.2646e-02,\n",
       "           3.5761e-02, -7.9397e-02,  1.3517e-01,  1.4882e-02,  1.0994e-01,\n",
       "          -1.2226e-01, -3.7671e-02,  8.5188e-02, -3.7818e-03, -2.8396e-02,\n",
       "          -2.4577e-02,  7.1452e-02, -1.9614e-03,  5.6958e-02,  3.2770e-02,\n",
       "          -2.0118e-01, -1.0025e-02, -3.6731e-02, -1.2703e-02, -8.4345e-02,\n",
       "          -4.9886e-02,  3.6858e-02,  4.2257e-02, -6.6859e-02,  7.6823e-03,\n",
       "           8.1948e-02,  1.0263e-02, -1.9058e-02, -4.3817e-03, -8.2564e-02,\n",
       "           2.9137e-02,  4.3350e-04,  1.6961e-02, -5.1009e-02, -1.2067e-01,\n",
       "          -8.0469e-02, -1.7130e-02, -2.1696e-02, -2.2580e-02, -8.0118e-02,\n",
       "          -1.0604e-03, -5.3675e-02,  1.6201e-02, -2.4369e-02,  2.4369e-02,\n",
       "          -6.7061e-03,  2.8924e-03, -4.3638e-02, -3.7492e-02,  2.9169e-02,\n",
       "           1.0198e-01, -3.9954e-03, -5.6517e-02,  8.1611e-02, -8.6308e-03,\n",
       "           1.6180e-02,  4.9015e-02,  7.8002e-02,  8.2478e-03,  4.4013e-02,\n",
       "          -6.3270e-02,  3.8755e-02, -1.9524e-02,  7.1497e-02,  2.0147e-02,\n",
       "          -3.0580e-02,  4.5670e-03,  3.0790e-02,  9.3677e-02,  9.4722e-02,\n",
       "           8.2612e-02, -5.6654e-02, -4.1753e-02,  1.6320e-02,  7.9933e-02,\n",
       "           6.2986e-03,  7.1123e-02,  1.5587e-01,  4.4968e-02, -6.9269e-02,\n",
       "          -1.4218e-02,  1.1616e-01,  1.2501e-02,  2.0304e-02,  9.1513e-02,\n",
       "           1.2715e-02, -1.6750e-02,  1.0394e-01,  3.9885e-02,  3.8614e-03,\n",
       "           4.9016e-02,  2.8366e-02,  2.4871e-02, -5.7460e-02, -8.2568e-03,\n",
       "          -2.9863e-02, -7.1875e-02,  3.2854e-02,  1.2434e-02, -3.7972e-02,\n",
       "          -6.3632e-02,  4.8600e-02,  5.3511e-02, -5.9222e-02, -7.8220e-02,\n",
       "           3.3750e-02,  2.2635e-03,  5.7241e-02,  7.6765e-02,  4.7044e-02,\n",
       "          -8.2485e-02, -7.4205e-02,  4.4019e-02,  1.6715e-02, -2.9570e-02,\n",
       "           6.5862e-02,  5.0989e-02,  1.0380e-02,  1.3263e-01,  2.3675e-02,\n",
       "           1.1380e-01,  6.7803e-02,  1.2436e-02, -5.8679e-02, -4.2585e-02,\n",
       "           1.2613e-01,  1.9451e-02, -3.2884e-03,  2.8967e-02, -4.6445e-02,\n",
       "           2.1693e-02, -4.4695e-02,  1.0430e-02, -9.2743e-03, -7.3397e-03,\n",
       "           1.6781e-01,  5.7718e-02,  1.3009e-02,  3.1284e-02,  6.3541e-02,\n",
       "          -3.0578e-03,  5.4067e-02,  4.6637e-02,  7.5771e-02,  4.9742e-02,\n",
       "          -4.8638e-02, -2.8537e-02, -4.8614e-02,  3.1938e-02,  1.8786e-02,\n",
       "          -1.2960e-01, -3.4012e-03,  1.3161e-01,  7.6770e-03,  1.0572e-01,\n",
       "          -1.8997e-02, -7.5030e-03,  1.7543e-02,  7.9900e-03,  2.4202e-02,\n",
       "          -1.0196e-01,  7.0988e-02,  4.6712e-02, -6.6052e-03, -1.0398e-02,\n",
       "           1.6014e-02, -1.5117e-02, -1.1610e-01,  5.8269e-02, -1.4935e-02,\n",
       "           7.4978e-02, -2.8403e-02, -8.5463e-02, -7.6347e-02,  5.6278e-02,\n",
       "          -5.5147e-03,  9.0170e-02,  8.1039e-02,  1.3460e-02, -2.3504e-02,\n",
       "           1.0798e-01, -1.2436e-01, -5.5696e-02,  2.9676e-03, -2.2383e-02,\n",
       "           3.0948e-02, -6.6091e-02,  9.2169e-02,  5.8049e-03, -4.4927e-02,\n",
       "           1.4567e-01,  1.1758e-01,  6.0201e-02, -7.0334e-02, -1.1027e-02,\n",
       "           2.7120e-02,  4.1077e-02, -4.8429e-02, -1.3000e-02, -2.2853e-03,\n",
       "          -2.3622e-02, -5.2042e-02,  2.0969e-02, -9.6842e-02, -3.9568e-02,\n",
       "           1.1989e-02, -4.3584e-02],\n",
       "         [-9.8098e-02,  2.0254e-02,  3.5224e-02,  7.4806e-02, -1.4225e-01,\n",
       "           4.6882e-02,  3.0479e-02, -4.7696e-02, -3.1613e-02,  9.4829e-03,\n",
       "          -1.0249e-02, -2.7798e-02, -8.0649e-02, -1.6349e-01, -1.0325e-01,\n",
       "           2.2887e-02,  7.2954e-03, -2.4374e-02,  1.3387e-01, -1.8241e-02,\n",
       "           4.9377e-02, -9.9561e-02, -4.4514e-02,  3.0489e-02,  2.3080e-02,\n",
       "           5.9218e-02, -7.5066e-02, -2.8150e-02, -4.5986e-02, -6.3064e-02,\n",
       "          -1.8438e-02, -5.6665e-02,  2.8755e-02, -1.2711e-02,  1.9116e-02,\n",
       "          -5.8829e-02,  6.5515e-02,  9.5608e-02,  5.8526e-03, -6.3755e-02,\n",
       "          -4.4775e-02, -1.2998e-02, -4.1688e-02,  2.8283e-02, -8.4621e-02,\n",
       "          -5.7180e-03, -6.9002e-02, -3.6015e-02, -1.4757e-02,  1.1813e-01,\n",
       "           1.0013e-01, -2.6783e-02,  8.7153e-02, -5.4770e-02, -2.4769e-02,\n",
       "           1.2519e-01, -8.5972e-02, -5.3469e-02, -9.8798e-02, -1.7555e-02,\n",
       "          -3.2698e-02, -1.9852e-02,  5.1315e-02, -4.4683e-02,  7.6739e-02,\n",
       "          -1.7543e-02, -4.7226e-02,  4.6090e-02, -2.0971e-02, -8.0191e-03,\n",
       "          -1.0158e-02, -9.7228e-03,  1.6962e-01, -2.9048e-02, -2.6870e-02,\n",
       "          -1.0372e-01,  2.1227e-02,  6.8576e-02,  8.7749e-02,  5.7560e-02,\n",
       "           5.3044e-02,  5.8412e-02,  2.8345e-02,  1.8848e-02, -2.0869e-02,\n",
       "           3.8364e-02, -8.1736e-02,  1.3040e-01,  1.5141e-02,  1.0921e-01,\n",
       "          -1.2491e-01, -4.0119e-02,  8.6198e-02, -3.4638e-03, -2.7695e-02,\n",
       "          -2.4480e-02,  7.3622e-02, -2.6204e-03,  5.7162e-02,  3.1450e-02,\n",
       "          -2.0074e-01, -6.6062e-03, -3.5507e-02, -1.3151e-02, -8.4939e-02,\n",
       "          -5.1506e-02,  3.7981e-02,  4.3339e-02, -6.5891e-02,  8.5648e-03,\n",
       "           8.3582e-02,  1.0508e-02, -1.9890e-02, -6.1726e-03, -7.5644e-02,\n",
       "           2.8756e-02,  1.9556e-03,  1.5727e-02, -5.2655e-02, -1.2135e-01,\n",
       "          -8.1538e-02, -1.6086e-02, -2.3778e-02, -2.4410e-02, -7.8231e-02,\n",
       "          -2.0500e-03, -5.5400e-02,  1.6323e-02, -1.9999e-02,  2.4759e-02,\n",
       "          -9.9080e-03,  2.2988e-03, -4.4729e-02, -3.5184e-02,  2.8398e-02,\n",
       "           1.0176e-01, -4.4894e-03, -5.3568e-02,  8.4784e-02, -9.8647e-03,\n",
       "           1.4753e-02,  5.0719e-02,  7.8083e-02,  1.0631e-02,  4.3613e-02,\n",
       "          -6.6399e-02,  3.8502e-02, -1.7216e-02,  7.1858e-02,  2.2282e-02,\n",
       "          -2.9166e-02,  6.7700e-03,  3.0037e-02,  9.6164e-02,  9.2911e-02,\n",
       "           8.4204e-02, -5.7744e-02, -3.6535e-02,  1.7922e-02,  8.2243e-02,\n",
       "           6.0700e-03,  7.4295e-02,  1.5121e-01,  4.5920e-02, -6.5602e-02,\n",
       "          -1.6671e-02,  1.1557e-01,  1.0143e-02,  2.1954e-02,  9.2978e-02,\n",
       "           1.1192e-02, -1.5415e-02,  1.0656e-01,  3.8521e-02, -2.0384e-03,\n",
       "           5.2812e-02,  2.5710e-02,  2.4965e-02, -5.7292e-02, -8.5742e-03,\n",
       "          -2.8305e-02, -7.2651e-02,  3.4816e-02,  1.3216e-02, -4.0744e-02,\n",
       "          -6.2821e-02,  5.0525e-02,  5.1531e-02, -6.0349e-02, -7.7726e-02,\n",
       "           3.4375e-02,  1.0598e-04,  5.8123e-02,  7.7805e-02,  4.5314e-02,\n",
       "          -8.2109e-02, -7.4593e-02,  4.3325e-02,  1.5694e-02, -3.0285e-02,\n",
       "           6.8463e-02,  4.9446e-02,  7.0269e-03,  1.3224e-01,  2.4129e-02,\n",
       "           1.1435e-01,  6.4986e-02,  1.4376e-02, -6.1556e-02, -4.2747e-02,\n",
       "           1.3057e-01,  2.2294e-02, -2.7015e-03,  2.8536e-02, -4.5364e-02,\n",
       "           2.1114e-02, -4.0536e-02,  1.2363e-02, -1.1524e-02, -1.0980e-02,\n",
       "           1.6613e-01,  5.4609e-02,  1.4974e-02,  3.1129e-02,  6.3075e-02,\n",
       "          -4.8019e-03,  5.6405e-02,  4.6683e-02,  7.5191e-02,  5.2375e-02,\n",
       "          -5.1436e-02, -2.8609e-02, -4.8116e-02,  3.3321e-02,  1.7504e-02,\n",
       "          -1.3082e-01, -5.8490e-03,  1.2788e-01,  8.2728e-03,  1.0542e-01,\n",
       "          -1.9068e-02, -7.4560e-03,  2.1857e-02,  7.2495e-03,  2.6432e-02,\n",
       "          -1.0280e-01,  6.9973e-02,  4.8470e-02, -8.7817e-03, -8.3960e-03,\n",
       "           1.6940e-02, -1.3962e-02, -1.1446e-01,  5.7499e-02, -1.5664e-02,\n",
       "           7.4304e-02, -2.5146e-02, -8.3789e-02, -7.6882e-02,  5.8033e-02,\n",
       "          -3.1858e-03,  9.0376e-02,  8.3945e-02,  1.0901e-02, -2.1609e-02,\n",
       "           1.0587e-01, -1.2705e-01, -5.6490e-02,  3.5216e-03, -2.3209e-02,\n",
       "           3.0290e-02, -6.4390e-02,  9.2160e-02,  4.4014e-03, -4.3511e-02,\n",
       "           1.4345e-01,  1.1650e-01,  5.8123e-02, -7.2216e-02, -6.4437e-03,\n",
       "           2.6455e-02,  4.1698e-02, -4.8361e-02, -1.1010e-02, -1.9453e-03,\n",
       "          -2.2691e-02, -5.5137e-02,  2.3918e-02, -9.6548e-02, -3.7901e-02,\n",
       "           1.1970e-02, -4.5556e-02]], grad_fn=<AddmmBackward0>))"
      ]
     },
     "execution_count": 63,
     "metadata": {},
     "output_type": "execute_result"
    }
   ],
   "source": [
    "# Calling the model() on data runs the forward pass through the network\n",
    "VAE()(data_train_tensor[:2])"
   ]
  },
  {
   "cell_type": "markdown",
   "metadata": {},
   "source": [
    "### Training"
   ]
  },
  {
   "cell_type": "code",
   "execution_count": null,
   "metadata": {},
   "outputs": [],
   "source": [
    "def variational_loss(x_decoded_mean, x, z_mean, z_logvar):\n",
    "    reconstruction_loss = F.binary_cross_entropy(x_decoded_mean, x, size_average=False)\n",
    "    kl_loss = -0.5 * torch.sum(1 + z_logvar - z_mean.pow(2) - z_logvar.exp())\n",
    "    return reconstruction_loss + kl_loss"
   ]
  },
  {
   "cell_type": "code",
   "execution_count": 64,
   "metadata": {},
   "outputs": [],
   "source": [
    "data_train_tensor_loader = torch.utils.data.TensorDataset(torch.from_numpy(data_train))\n",
    "train_loader = torch.utils.data.DataLoader(data_train_tensor_loader, batch_size=250, shuffle=True)"
   ]
  },
  {
   "cell_type": "code",
   "execution_count": 66,
   "metadata": {},
   "outputs": [],
   "source": [
    "torch.manual_seed(42)\n",
    "epochs = 30\n",
    "device = 'cuda' if torch.cuda.is_available() else 'cpu'\n",
    "\n",
    "model = VAE().to(device)\n",
    "optimizer = optim.Adam(model.parameters())"
   ]
  },
  {
   "cell_type": "code",
   "execution_count": null,
   "metadata": {},
   "outputs": [],
   "source": [
    "def train_step(MODEL):\n",
    "    # Implement Tomorrow\n",
    "    pass"
   ]
  }
 ],
 "metadata": {
  "kernelspec": {
   "display_name": "osc",
   "language": "python",
   "name": "python3"
  },
  "language_info": {
   "codemirror_mode": {
    "name": "ipython",
    "version": 3
   },
   "file_extension": ".py",
   "mimetype": "text/x-python",
   "name": "python",
   "nbconvert_exporter": "python",
   "pygments_lexer": "ipython3",
   "version": "3.11.4"
  },
  "orig_nbformat": 4
 },
 "nbformat": 4,
 "nbformat_minor": 2
}
