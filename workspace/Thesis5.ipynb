{
 "cells": [
  {
   "cell_type": "code",
   "execution_count": 1,
   "id": "663dfada",
   "metadata": {},
   "outputs": [],
   "source": [
    "import numpy as np\n",
    "import pandas as pd\n",
    "import os\n",
    "import subprocess\n",
    "import time\n",
    "import matplotlib.pyplot as plt\n",
    "import itertools\n",
    "from copy import deepcopy\n",
    "\n",
    "from rdkit import Chem\n",
    "from rdkit.Chem import AllChem\n",
    "import ase\n",
    "from ase.io import read, write\n",
    "from ase.units import Hartree\n",
    "from ase.visualize import view\n",
    "\n",
    "from ase.io.trajectory import Trajectory\n",
    "import glob\n",
    "import pickle\n",
    "\n",
    "from rdkit.Chem.Draw import IPythonConsole\n",
    "IPythonConsole.drawOptions.addAtomIndices = True"
   ]
  },
  {
   "cell_type": "code",
   "execution_count": null,
   "id": "b87a4479",
   "metadata": {},
   "outputs": [],
   "source": [
    "def zpe_s_loop(Es, Eoh, Eo, Eooh, N=6):\n",
    "\n",
    "    min_overpot = []\n",
    "    last_opt_config_indx = None\n",
    "\n",
    "    gsl = deepcopy(Es)\n",
    "    gohl = deepcopy(Eoh)\n",
    "    gol = deepcopy(Eo)\n",
    "    goohl = deepcopy(Eooh)\n",
    "\n",
    "    d0_list, d1_list, d2_list = [], [], []\n",
    "    oc0_list, oc1_list, oc2_list = [], [], []\n",
    "\n",
    "    run_once_flag = False\n",
    "\n",
    "    for i in range(N):\n",
    "\n",
    "        if last_opt_config_indx is not None:\n",
    "            i0, i1, i2 = last_opt_config_indx\n",
    "\n",
    "            if run_once_flag:\n",
    "                gohl[~completedoh] -= goh_corr\n",
    "                gol[~completedo] -= go_corr\n",
    "                goohl[~completedooh] -= gooh_corr\n",
    "            else:\n",
    "                gsl += zpes - ss\n",
    "\n",
    "            #### Perform frequency calc here, to obtain corrections di\n",
    "            d0 = (zpeoh - soh)[i0]\n",
    "            d1 = (zpeo - so)[i1]\n",
    "            d2 = (zpeooh - sooh)[i2]\n",
    "            ####\n",
    "\n",
    "            # Running Mean\n",
    "            d0_list.append(d0)\n",
    "            d1_list.append(d1)\n",
    "            d2_list.append(d2)\n",
    "\n",
    "            goh_corr = np.mean(d0_list)\n",
    "            go_corr = np.mean(d1_list)\n",
    "            gooh_corr = np.mean(d2_list)\n",
    "\n",
    "            # Update free energies by setting newly found d's\n",
    "            # and setting other corrections to the mean of previously found corrections\n",
    "            if i0 not in oc0_list:\n",
    "                gohl[i0] += d0\n",
    "            if i1 not in oc1_list:\n",
    "                gol[i1] += d1\n",
    "            if i2 not in oc2_list:\n",
    "                goohl[i2] += d2\n",
    "\n",
    "            oc0_list.append(i0)\n",
    "            oc1_list.append(i1)\n",
    "            oc2_list.append(i2)\n",
    "\n",
    "            # Already completed\n",
    "            completedoh = np.isin(np.arange(len(gohl)), oc0_list)\n",
    "            completedo = np.isin(np.arange(len(gol)), oc1_list)\n",
    "            completedooh = np.isin(np.arange(len(goohl)), oc2_list)\n",
    "\n",
    "            gohl[~completedoh] += goh_corr\n",
    "            gol[~completedo] += go_corr\n",
    "            goohl[~completedooh] += gooh_corr\n",
    "            run_once_flag = True\n",
    "        \n",
    "        GG = free_energy_multidim(gsl, gohl, gol, goohl)\n",
    "        OO = GG.max(axis=3) - 1.23\n",
    "\n",
    "        last_opt_config_indx = np.unravel_index(OO.argmin(), OO.shape)\n",
    "\n",
    "        min_overpot.append(OO.min())\n",
    "        print(i, last_opt_config_indx, OO.min())"
   ]
  },
  {
   "cell_type": "markdown",
   "id": "32b78e5c",
   "metadata": {},
   "source": [
    "-----"
   ]
  },
  {
   "cell_type": "code",
   "execution_count": null,
   "id": "653bc6cb",
   "metadata": {},
   "outputs": [],
   "source": [
    "os.getcwd()"
   ]
  },
  {
   "cell_type": "code",
   "execution_count": 2,
   "id": "9b4dd25f",
   "metadata": {},
   "outputs": [],
   "source": [
    "### For automatically reloading import modules... allows you to run changes to code in jupyter without having to reload\n",
    "%load_ext autoreload\n",
    "%autoreload 2\n",
    "\n",
    "# Read Dataframe containing entire chemical space\n",
    "# path = os.getcwd() + '/data/'\n",
    "# file = 'df_chemical_space_chons_4rings.json'\n",
    "# p = pd.read_json(path+file, orient='split')\n",
    "\n",
    "path = '/home/btpq/bt308495/Thesis/data/'\n",
    "file = 'df_chemical_space_chons_4rings.json'\n",
    "p = pd.read_json(path+file, orient='split')\n",
    "\n",
    "# Change dir\n",
    "# os.chdir('/home/scakolli/Thesis/osc_discovery/run')\n",
    "os.chdir('/home/btpq/bt308495/Thesis/run')\n",
    "sys.path.insert(1, '/home/btpq/bt308495/Thesis/')"
   ]
  },
  {
   "cell_type": "code",
   "execution_count": 9,
   "id": "fec569c0",
   "metadata": {
    "scrolled": false
   },
   "outputs": [
    {
     "data": {
      "image/png": "[encoded data removed]",
      "text/plain": [
       "<rdkit.Chem.rdchem.Mol at 0x7efc0d3b1ee0>"
      ]
     },
     "execution_count": 9,
     "metadata": {},
     "output_type": "execute_result"
    }
   ],
   "source": [
    "# Pick a random molecule in the space and get its smile string\n",
    "rand_i = np.random.randint(315451)\n",
    "smi = p.iloc[rand_i]['molecule_smiles']\n",
    "# smi = 'C1=CC(C=Cc2cnnc(-c3cc(C=CC4=CCC=C4)cnn3)c2)=CC1'\n",
    "# smi = 'C1=CSC(=C2C(C=Cc3ccco3)=CC=C2C=Cc2ccco2)S1'\n",
    "\n",
    "# Draw chem\n",
    "# p.iloc[rand_i]\n",
    "rdkit_smi = Chem.AddHs(Chem.MolFromSmiles(smi))\n",
    "rdkit_smi"
   ]
  },
  {
   "cell_type": "code",
   "execution_count": 10,
   "id": "895934ec",
   "metadata": {},
   "outputs": [],
   "source": [
    "from osc_discovery.cheminformatics.cheminformatics_misc import rdkit2ase"
   ]
  },
  {
   "cell_type": "code",
   "execution_count": 14,
   "id": "ef4e1cde",
   "metadata": {},
   "outputs": [
    {
     "data": {
      "text/plain": [
       "0"
      ]
     },
     "execution_count": 14,
     "metadata": {},
     "output_type": "execute_result"
    }
   ],
   "source": [
    "AllChem.EmbedMolecule(rdkit_smi)"
   ]
  },
  {
   "cell_type": "code",
   "execution_count": 15,
   "id": "c168e564",
   "metadata": {},
   "outputs": [],
   "source": [
    "test = rdkit2ase(rdkit_smi)"
   ]
  },
  {
   "cell_type": "code",
   "execution_count": 17,
   "id": "38089deb",
   "metadata": {},
   "outputs": [],
   "source": [
    "test.write('test.xyz')"
   ]
  },
  {
   "cell_type": "markdown",
   "id": "dd24b352",
   "metadata": {},
   "source": [
    "-----"
   ]
  },
  {
   "cell_type": "code",
   "execution_count": 4,
   "id": "86979dc4",
   "metadata": {},
   "outputs": [],
   "source": [
    "from photocatalysis.adsorption.tools import prepare_substrate\n",
    "from photocatalysis.thermodynamics.tools import single_run, multi_run\n",
    "from photocatalysis.thermodynamics.constants import dG1_REST, dG2_REST, dG3_REST, dG4_REST, SHE_VACUUM_POTENTIAL"
   ]
  },
  {
   "cell_type": "code",
   "execution_count": 7,
   "id": "7490a7b6",
   "metadata": {},
   "outputs": [],
   "source": [
    "# from photocatalysis.adsorption.tools import build_configurations, get_adsorbate_conformers\n",
    "# from photocatalysis.adsorption.optimal_configurations import filter_configurations_with_symm, filter_configurations"
   ]
  },
  {
   "cell_type": "code",
   "execution_count": null,
   "id": "cc72e984",
   "metadata": {},
   "outputs": [],
   "source": [
    "def free_energy_multidim(Gs, GOH, GO, GOOH, explicitly_broadcast=True):\n",
    "    # Vectorized free energy expressions with numpy broadcasting\n",
    "    # Gs : scalar, G*: arbitrary length numpy array\n",
    "    # (OH_index, O_index, OOH_index)\n",
    "    \n",
    "    g1 = GOH[:, None, None] - Gs + dG1_CORR\n",
    "    g2 = GO[None, :, None] - GOH[:, None, None] + dG2_CORR\n",
    "    g3 = GOOH[None, None, :] - GO[None, :, None] + dG3_CORR\n",
    "    g4 = Gs - GOOH[None, None, :] + dG4_CORR\n",
    "    \n",
    "    if explicitly_broadcast:\n",
    "        tot_shape = len(GOH), len(GO), len(GOOH)\n",
    "        g1b, g2b, g3b, g4b = explicitly_broadcast_to(tot_shape, g1, g2, g3, g4)\n",
    "        G = np.moveaxis(np.array((g1b, g2b, g3b, g4b)), 0,3)\n",
    "        return G\n",
    "    else:\n",
    "        return g1, g2, g3, g4\n",
    "\n",
    "def explicitly_broadcast_to(shape, *gs_expres):\n",
    "    # Fillout arrays\n",
    "    out = []\n",
    "    for g in gs_expres:\n",
    "        out.append(np.broadcast_to(g, shape))\n",
    "    return tuple(out)"
   ]
  },
  {
   "cell_type": "code",
   "execution_count": null,
   "id": "9133eb64",
   "metadata": {},
   "outputs": [],
   "source": [
    "def grouped_by_sym(metric, sym_groupings):\n",
    "    metric_grouped = [[metric[i] for i in symgroup] for symgroup in sym_groupings]\n",
    "    return metric_grouped\n",
    "\n",
    "def clean_configs_with_nans(configs):\n",
    "    # Take a list of configs and resort them according to activesite, fill rest with nans...\n",
    "    # makes accessing by acvt site indx easy\n",
    "    d = dict.fromkeys(sub.info['nonH_atoms'], np.nan)\n",
    "    cs = deepcopy(configs)\n",
    "\n",
    "    for config in cs:\n",
    "        actv = config.info['active_site']\n",
    "        d[actv] = config\n",
    "\n",
    "    return list(d.values())"
   ]
  },
  {
   "cell_type": "code",
   "execution_count": 8,
   "id": "e329ebe1",
   "metadata": {
    "scrolled": true
   },
   "outputs": [
    {
     "name": "stdout",
     "output_type": "stream",
     "text": [
      "Number of rotatable bonds: 0, C1=CC(=c2ncc3onc4cccc4c23)C=C1\n",
      "1) Embedding conformers (50). Using 2 processes\n",
      "Took: 0.1892862319946289 s\n",
      "2) Minimizing 50 conformers (mmff94)\n",
      "Took: 0.34138011932373047 s\n",
      "3) Pruning conformers (RMSD threshold: 0.35 Ang)\n",
      "Took: 0.2658820152282715 s\n",
      "Number of conformers found: 2\n"
     ]
    },
    {
     "ename": "AssertionError",
     "evalue": "'OMP_NUM_THREADS' env var not set, unparallelized calc, very slow",
     "output_type": "error",
     "traceback": [
      "\u001b[0;31m---------------------------------------------------------------------------\u001b[0m",
      "\u001b[0;31mAssertionError\u001b[0m                            Traceback (most recent call last)",
      "Cell \u001b[0;32mIn[8], line 3\u001b[0m\n\u001b[1;32m      1\u001b[0m \u001b[38;5;66;03m# Prepare Substrate\u001b[39;00m\n\u001b[1;32m      2\u001b[0m calc_params \u001b[38;5;241m=\u001b[39m {\u001b[38;5;124m'\u001b[39m\u001b[38;5;124mgfn\u001b[39m\u001b[38;5;124m'\u001b[39m:\u001b[38;5;241m2\u001b[39m, \u001b[38;5;124m'\u001b[39m\u001b[38;5;124macc\u001b[39m\u001b[38;5;124m'\u001b[39m:\u001b[38;5;241m0.2\u001b[39m, \u001b[38;5;124m'\u001b[39m\u001b[38;5;124metemp\u001b[39m\u001b[38;5;124m'\u001b[39m:\u001b[38;5;241m298.15\u001b[39m, \u001b[38;5;124m'\u001b[39m\u001b[38;5;124mstrict\u001b[39m\u001b[38;5;124m'\u001b[39m:\u001b[38;5;124m'\u001b[39m\u001b[38;5;124m'\u001b[39m, \u001b[38;5;124m'\u001b[39m\u001b[38;5;124mgbsa\u001b[39m\u001b[38;5;124m'\u001b[39m:\u001b[38;5;124m'\u001b[39m\u001b[38;5;124mwater\u001b[39m\u001b[38;5;124m'\u001b[39m}\n\u001b[0;32m----> 3\u001b[0m sub \u001b[38;5;241m=\u001b[39m \u001b[43mprepare_substrate\u001b[49m\u001b[43m(\u001b[49m\u001b[43msmi\u001b[49m\u001b[43m,\u001b[49m\u001b[43m \u001b[49m\u001b[43mcalc_params\u001b[49m\u001b[43m,\u001b[49m\u001b[43m \u001b[49m\u001b[43mmulti_process_conf\u001b[49m\u001b[38;5;241;43m=\u001b[39;49m\u001b[38;5;241;43m2\u001b[39;49m\u001b[43m,\u001b[49m\u001b[43m \u001b[49m\u001b[43mmulti_process_sp\u001b[49m\u001b[38;5;241;43m=\u001b[39;49m\u001b[38;5;241;43m4\u001b[39;49m\u001b[43m)\u001b[49m\n",
      "File \u001b[0;32m~/Thesis/photocatalysis/adsorption/tools.py:47\u001b[0m, in \u001b[0;36mprepare_substrate\u001b[0;34m(smile_string, calculator_params, multi_process_conf, multi_process_sp, symmetry_charge_thresh, return_all)\u001b[0m\n\u001b[1;32m     43\u001b[0m substrate \u001b[38;5;241m=\u001b[39m substrate_confs\u001b[38;5;241m.\u001b[39mpop(\u001b[38;5;241m0\u001b[39m) \u001b[38;5;66;03m# Lowest energy conf\u001b[39;00m\n\u001b[1;32m     45\u001b[0m \u001b[38;5;66;03m# Relax at the tight-binding level with xTB, determine zero-point energy and entropy contributions, calculate\u001b[39;00m\n\u001b[1;32m     46\u001b[0m \u001b[38;5;66;03m# the ionization potential, and then request a charge population analysis for 2D symmetry checking purposes\u001b[39;00m\n\u001b[0;32m---> 47\u001b[0m substrate \u001b[38;5;241m=\u001b[39m \u001b[43msingle_run\u001b[49m\u001b[43m(\u001b[49m\u001b[43msubstrate\u001b[49m\u001b[43m,\u001b[49m\u001b[43m \u001b[49m\u001b[43mruntype\u001b[49m\u001b[38;5;241;43m=\u001b[39;49m\u001b[38;5;124;43m'\u001b[39;49m\u001b[38;5;124;43mohess vtight\u001b[39;49m\u001b[38;5;124;43m'\u001b[39;49m\u001b[43m,\u001b[49m\u001b[43m \u001b[49m\u001b[38;5;241;43m*\u001b[39;49m\u001b[38;5;241;43m*\u001b[39;49m\u001b[43mcalculator_params\u001b[49m\u001b[43m,\u001b[49m\u001b[43m \u001b[49m\u001b[43mparallel\u001b[49m\u001b[38;5;241;43m=\u001b[39;49m\u001b[43mmulti_process_sp\u001b[49m\u001b[43m)\u001b[49m\n\u001b[1;32m     48\u001b[0m substrate \u001b[38;5;241m=\u001b[39m single_run(substrate, runtype\u001b[38;5;241m=\u001b[39m\u001b[38;5;124m'\u001b[39m\u001b[38;5;124mvipea\u001b[39m\u001b[38;5;124m'\u001b[39m, \u001b[38;5;241m*\u001b[39m\u001b[38;5;241m*\u001b[39mcalculator_params, pop\u001b[38;5;241m=\u001b[39m\u001b[38;5;124m'\u001b[39m\u001b[38;5;124m'\u001b[39m, parallel\u001b[38;5;241m=\u001b[39mmulti_process_sp)\n\u001b[1;32m     49\u001b[0m qs \u001b[38;5;241m=\u001b[39m substrate\u001b[38;5;241m.\u001b[39minfo[\u001b[38;5;124m'\u001b[39m\u001b[38;5;124mqs\u001b[39m\u001b[38;5;124m'\u001b[39m]  \u001b[38;5;66;03m# charges\u001b[39;00m\n",
      "File \u001b[0;32m~/Thesis/photocatalysis/thermodynamics/tools.py:43\u001b[0m, in \u001b[0;36msingle_run\u001b[0;34m(molecule, runtype, keep_folder, job_number, **calculator_kwargs)\u001b[0m\n\u001b[1;32m     17\u001b[0m \u001b[38;5;250m\u001b[39m\u001b[38;5;124;03m\"\"\"\u001b[39;00m\n\u001b[1;32m     18\u001b[0m \u001b[38;5;124;03mExecute XTB calculations on molecule\u001b[39;00m\n\u001b[1;32m     19\u001b[0m \u001b[38;5;124;03m(see also man page: https://github.com/grimme-lab/xtb/blob/main/man/xtb.1.adoc)\u001b[39;00m\n\u001b[0;32m   (...)\u001b[0m\n\u001b[1;32m     40\u001b[0m \u001b[38;5;124;03m# ceasefiles: , stop file printout (not all files are always halted)\u001b[39;00m\n\u001b[1;32m     41\u001b[0m \u001b[38;5;124;03m\"\"\"\u001b[39;00m\n\u001b[1;32m     42\u001b[0m error_logger \u001b[38;5;241m=\u001b[39m get_logger()\n\u001b[0;32m---> 43\u001b[0m \u001b[38;5;28;01massert\u001b[39;00m \u001b[38;5;124m\"\u001b[39m\u001b[38;5;124mOMP_NUM_THREADS\u001b[39m\u001b[38;5;124m\"\u001b[39m \u001b[38;5;129;01min\u001b[39;00m os\u001b[38;5;241m.\u001b[39menviron, \u001b[38;5;124m\"\u001b[39m\u001b[38;5;124m'\u001b[39m\u001b[38;5;124mOMP_NUM_THREADS\u001b[39m\u001b[38;5;124m'\u001b[39m\u001b[38;5;124m env var not set, unparallelized calc, very slow\u001b[39m\u001b[38;5;124m\"\u001b[39m\n\u001b[1;32m     44\u001b[0m mol \u001b[38;5;241m=\u001b[39m deepcopy(molecule)\n\u001b[1;32m     46\u001b[0m \u001b[38;5;66;03m# Create folder\u001b[39;00m\n",
      "\u001b[0;31mAssertionError\u001b[0m: 'OMP_NUM_THREADS' env var not set, unparallelized calc, very slow"
     ]
    }
   ],
   "source": [
    "# Prepare Substrate\n",
    "calc_params = {'gfn':2, 'acc':0.2, 'etemp':298.15, 'strict':'', 'gbsa':'water'}\n",
    "sub = prepare_substrate(smi, calc_params, multi_process_conf=2, multi_process_sp=4)"
   ]
  },
  {
   "cell_type": "code",
   "execution_count": null,
   "id": "a99cc1e5",
   "metadata": {},
   "outputs": [],
   "source": [
    "sub = single_run(sub, runtype='vipea', **calc_params)\n",
    "ipshe = sub.info['ip'] / 1. - SHE_VACUUM_POTENTIAL\n",
    "ipshe"
   ]
  },
  {
   "cell_type": "code",
   "execution_count": null,
   "id": "e3d5862f",
   "metadata": {},
   "outputs": [],
   "source": [
    "sub_vacuum = single_run(sub, runtype='vipea', **{'acc':0.2, 'etemp':298.15, 'strict':''})\n",
    "ipshe_vacuum = sub_vacuum.info['ip'] / 1. - SHE_VACUUM_POTENTIAL\n",
    "ipshe_vacuum"
   ]
  },
  {
   "cell_type": "markdown",
   "id": "f162de0f",
   "metadata": {},
   "source": [
    "## All sites"
   ]
  },
  {
   "cell_type": "markdown",
   "id": "027a92ea",
   "metadata": {},
   "source": [
    "### Complete relaxation"
   ]
  },
  {
   "cell_type": "code",
   "execution_count": null,
   "id": "fc88db34",
   "metadata": {
    "scrolled": false
   },
   "outputs": [],
   "source": [
    "start = time.perf_counter()\n",
    "\n",
    "### Build\n",
    "configsOH, configsO, configsOOH = build_configurations(sub, key='nonH_atoms')\n",
    "\n",
    "### Relax\n",
    "oh_all = multi_run(configsOH, runtype='opt vtight', keep_folders=False, calc_kwargs=calc_params, multi_process=6)\n",
    "o_all = multi_run(configsO, runtype='opt vtight', keep_folders=False, calc_kwargs=calc_params, multi_process=6)\n",
    "ooh_all = multi_run(configsOOH, runtype='opt vtight', keep_folders=False, calc_kwargs=calc_params, multi_process=6)\n",
    "\n",
    "### Filter\n",
    "oh_all = filter_configurations(oh_all, sub)\n",
    "o_all = filter_configurations(o_all, sub)\n",
    "ooh_all = filter_configurations(ooh_all, sub)\n",
    "\n",
    "### Info\n",
    "print(\"Num configs\", len(oh_all), len(o_all), len(ooh_all))\n",
    "print(\"Relaxation Took\", time.perf_counter()-start)"
   ]
  },
  {
   "cell_type": "markdown",
   "id": "e4820485",
   "metadata": {},
   "source": [
    "### ZPE, TS"
   ]
  },
  {
   "cell_type": "code",
   "execution_count": null,
   "id": "437f476f",
   "metadata": {},
   "outputs": [],
   "source": [
    "start = time.perf_counter()\n",
    "\n",
    "### Hessian\n",
    "oh_all = multi_run(oh_all, runtype='hess', keep_folders=False, calc_kwargs=calc_params, multi_process=6)\n",
    "o_all = multi_run(o_all, runtype='hess', keep_folders=False, calc_kwargs=calc_params, multi_process=6)\n",
    "ooh_all = multi_run(ooh_all, runtype='hess', keep_folders=False, calc_kwargs=calc_params, multi_process=6)\n",
    "\n",
    "### Info\n",
    "print(\"Total Time\", time.perf_counter()-start)"
   ]
  },
  {
   "cell_type": "code",
   "execution_count": null,
   "id": "375ddeee",
   "metadata": {},
   "outputs": [],
   "source": [
    "### All information\n",
    "oh_nan, o_nan, ooh_nan = clean_configs_with_nans(oh_all), clean_configs_with_nans(o_all), clean_configs_with_nans(ooh_all)\n",
    "\n",
    "eoh_nan = [config.info['energy'] if config is not np.nan else np.nan for config in oh_nan]\n",
    "eo_nan = [config.info['energy'] if config is not np.nan else np.nan for config in o_nan]\n",
    "eooh_nan = [config.info['energy'] if config is not np.nan else np.nan for config in ooh_nan]\n",
    "\n",
    "zpeoh_nan = np.array([config.info['zpe'] if config is not np.nan else np.nan for config in oh_nan])\n",
    "zpeo_nan = np.array([config.info['zpe'] if config is not np.nan else np.nan for config in o_nan])\n",
    "zpeooh_nan = np.array([config.info['zpe'] if config is not np.nan else np.nan for config in ooh_nan])\n",
    "\n",
    "soh_nan = np.array([config.info['entropy'] if config is not np.nan else np.nan for config in oh_nan])\n",
    "so_nan = np.array([config.info['entropy'] if config is not np.nan else np.nan for config in o_nan])\n",
    "sooh_nan = np.array([config.info['entropy'] if config is not np.nan else np.nan for config in ooh_nan])"
   ]
  },
  {
   "cell_type": "code",
   "execution_count": null,
   "id": "24a2fd04",
   "metadata": {},
   "outputs": [],
   "source": [
    "es = sub.info['energy']\n",
    "zpes = sub.info['zpe']\n",
    "ss = sub.info['entropy']"
   ]
  },
  {
   "cell_type": "code",
   "execution_count": null,
   "id": "025e5d46",
   "metadata": {},
   "outputs": [],
   "source": [
    "eoh_all = [config.info['energy'] if config is not np.nan else np.nan for config in oh_all]\n",
    "eo_all = [config.info['energy'] if config is not np.nan else np.nan for config in o_all]\n",
    "eooh_all = [config.info['energy'] if config is not np.nan else np.nan for config in ooh_all]\n",
    "\n",
    "zpeoh_all = np.array([config.info['zpe'] if config is not np.nan else np.nan for config in oh_all])\n",
    "zpeo_all = np.array([config.info['zpe'] if config is not np.nan else np.nan for config in o_all])\n",
    "zpeooh_all = np.array([config.info['zpe'] if config is not np.nan else np.nan for config in ooh_all])\n",
    "\n",
    "soh_all = np.array([config.info['entropy'] if config is not np.nan else np.nan for config in oh_all])\n",
    "so_all = np.array([config.info['entropy'] if config is not np.nan else np.nan for config in o_all])\n",
    "sooh_all = np.array([config.info['entropy'] if config is not np.nan else np.nan for config in ooh_all])"
   ]
  },
  {
   "cell_type": "code",
   "execution_count": null,
   "id": "d7e678c8",
   "metadata": {},
   "outputs": [],
   "source": [
    "### Grouping for equivalent sites\n",
    "qs_grouped = grouped_by_sym(sub.info['qs'], sub.info['equivalent_atoms_grouped'])\n",
    "\n",
    "eoh_grouped = grouped_by_sym(eoh_nan, sub.info['equivalent_atoms_grouped'])\n",
    "eo_grouped = grouped_by_sym(eo_nan, sub.info['equivalent_atoms_grouped'])\n",
    "eooh_grouped = grouped_by_sym(eooh_nan, sub.info['equivalent_atoms_grouped'])\n",
    "\n",
    "zpeoh_grouped = grouped_by_sym(zpeoh_nan, sub.info['equivalent_atoms_grouped'])\n",
    "zpeo_grouped = grouped_by_sym(zpeo_nan, sub.info['equivalent_atoms_grouped'])\n",
    "zpeooh_grouped = grouped_by_sym(zpeooh_nan, sub.info['equivalent_atoms_grouped'])\n",
    "\n",
    "soh_grouped = grouped_by_sym(soh_nan, sub.info['equivalent_atoms_grouped'])\n",
    "so_grouped = grouped_by_sym(so_nan, sub.info['equivalent_atoms_grouped'])\n",
    "sooh_grouped = grouped_by_sym(sooh_nan, sub.info['equivalent_atoms_grouped'])"
   ]
  },
  {
   "cell_type": "markdown",
   "id": "817dcb53",
   "metadata": {},
   "source": [
    "## Equivalent sites"
   ]
  },
  {
   "cell_type": "code",
   "execution_count": null,
   "id": "b7b0ebee",
   "metadata": {
    "scrolled": true
   },
   "outputs": [],
   "source": [
    "mol = Chem.MolFromSmiles(smi)\n",
    "mol.__sssAtoms = [*sub.info['equivalent_atoms']]\n",
    "mol"
   ]
  },
  {
   "cell_type": "code",
   "execution_count": null,
   "id": "2f3aab6f",
   "metadata": {},
   "outputs": [],
   "source": [
    "sub.info['equivalent_atoms']"
   ]
  },
  {
   "cell_type": "code",
   "execution_count": null,
   "id": "3dbd510a",
   "metadata": {},
   "outputs": [],
   "source": [
    "print(\"Max diff in Energy (eV)\")\n",
    "print(np.nanmax([max(g) - min(g) for g in eoh_grouped]), np.nanmax([max(g) - min(g) for g in eo_grouped]), np.nanmax([max(g) - min(g) for g in eooh_grouped]))"
   ]
  },
  {
   "cell_type": "code",
   "execution_count": null,
   "id": "f8bd2cd6",
   "metadata": {},
   "outputs": [],
   "source": [
    "print(\"Max diff in zpe (eV)\")\n",
    "print(np.nanmax([max(g) - min(g) for g in zpeoh_grouped]), np.nanmax([max(g) - min(g) for g in zpeo_grouped]), np.nanmax([max(g) - min(g) for g in zpeooh_grouped]))"
   ]
  },
  {
   "cell_type": "code",
   "execution_count": null,
   "id": "264af838",
   "metadata": {},
   "outputs": [],
   "source": [
    "print(\"Max diff in entropy (eV)\")\n",
    "print(np.nanmax([max(g) - min(g) for g in soh_grouped]), np.nanmax([max(g) - min(g) for g in so_grouped]), np.nanmax([max(g) - min(g) for g in sooh_grouped]))"
   ]
  },
  {
   "cell_type": "code",
   "execution_count": null,
   "id": "4b32789a",
   "metadata": {
    "scrolled": true
   },
   "outputs": [],
   "source": [
    "for g, e in zip(qs_grouped, sub.info['equivalent_atoms_grouped']):\n",
    "    print(e, '|', max(g) - min(g))"
   ]
  },
  {
   "cell_type": "markdown",
   "id": "79f30096",
   "metadata": {},
   "source": [
    "Variation probably due to an actual difference in 3D environment, but also conformational and optimization related influences.\n",
    "\n",
    "This approximation breaks down if the 2 supposedly equivalent sites have substantially different electronic environments. Errors on the order of 0.1-0.2 eV.\n",
    "\n",
    "Charge difference heuristic max(qs) - min(qs) < 0.001 C."
   ]
  },
  {
   "cell_type": "markdown",
   "id": "9d96ddee",
   "metadata": {},
   "source": [
    "### Complete relaxation"
   ]
  },
  {
   "cell_type": "code",
   "execution_count": null,
   "id": "dd057e39",
   "metadata": {},
   "outputs": [],
   "source": [
    "### Build Configs\n",
    "configsOH, configsO, configsOOH = build_configurations(sub, key='equivalent_atoms')"
   ]
  },
  {
   "cell_type": "code",
   "execution_count": null,
   "id": "05f8239d",
   "metadata": {
    "scrolled": true
   },
   "outputs": [],
   "source": [
    "start = time.perf_counter()\n",
    "oh = multi_run(configsOH, runtype='opt vtight', keep_folders=False, calc_kwargs=calc_params, multi_process=6)\n",
    "o = multi_run(configsO, runtype='opt vtight', keep_folders=False, calc_kwargs=calc_params, multi_process=6)\n",
    "ooh = multi_run(configsOOH, runtype='opt vtight', keep_folders=False, calc_kwargs=calc_params, multi_process=6)"
   ]
  },
  {
   "cell_type": "code",
   "execution_count": null,
   "id": "0e894bd3",
   "metadata": {
    "scrolled": true
   },
   "outputs": [],
   "source": [
    "### Filtering\n",
    "oh = filter_configurations_with_symm(oh, sub)\n",
    "o = filter_configurations_with_symm(o, sub)\n",
    "ooh = filter_configurations_with_symm(ooh, sub)\n",
    "print(\"Num configs\", len(oh), len(o), len(ooh))\n",
    "print(\"Took\", time.perf_counter()-start)"
   ]
  },
  {
   "cell_type": "markdown",
   "id": "45a08c14",
   "metadata": {},
   "source": [
    "### Crude, filter, then full relaxation"
   ]
  },
  {
   "cell_type": "code",
   "execution_count": null,
   "id": "480a23c8",
   "metadata": {
    "scrolled": true
   },
   "outputs": [],
   "source": [
    "### Crude Relaxation\n",
    "start = time.perf_counter()\n",
    "oh_crude = multi_run(configsOH, runtype='opt sloppy', keep_folders=False, calc_kwargs=calc_params, multi_process=6)\n",
    "o_crude = multi_run(configsO, runtype='opt sloppy', keep_folders=False, calc_kwargs=calc_params, multi_process=6)\n",
    "ooh_crude = multi_run(configsOOH, runtype='opt sloppy', keep_folders=False, calc_kwargs=calc_params, multi_process=6)"
   ]
  },
  {
   "cell_type": "code",
   "execution_count": null,
   "id": "60375319",
   "metadata": {},
   "outputs": [],
   "source": [
    "### Filtering\n",
    "oh_crude = filter_configurations_with_symm(oh_crude, sub)\n",
    "o_crude = filter_configurations_with_symm(o_crude, sub)\n",
    "ooh_crude = filter_configurations_with_symm(ooh_crude, sub)\n",
    "print(\"Num configs\", len(oh_crude), len(o_crude), len(ooh_crude))"
   ]
  },
  {
   "cell_type": "code",
   "execution_count": null,
   "id": "2740c980",
   "metadata": {
    "scrolled": true
   },
   "outputs": [],
   "source": [
    "### Subsequent full Relaxation\n",
    "oh_crude_full = multi_run(oh_crude, runtype='opt vtight', keep_folders=False, calc_kwargs=calc_params, multi_process=6)\n",
    "o_crude_full = multi_run(o_crude, runtype='opt vtight', keep_folders=False, calc_kwargs=calc_params, multi_process=6)\n",
    "ooh_crude_full = multi_run(ooh_crude, runtype='opt vtight', keep_folders=False, calc_kwargs=calc_params, multi_process=6)"
   ]
  },
  {
   "cell_type": "code",
   "execution_count": null,
   "id": "d26201cd",
   "metadata": {
    "scrolled": true
   },
   "outputs": [],
   "source": [
    "### Filtering\n",
    "oh_crude_full = filter_configurations_with_symm(oh_crude_full, sub)\n",
    "o_crude_full = filter_configurations_with_symm(o_crude_full, sub)\n",
    "ooh_crude_full = filter_configurations_with_symm(ooh_crude_full, sub)\n",
    "print(\"Num configs\", len(oh_crude_full), len(o_crude_full), len(ooh_crude_full))\n",
    "print(\"Took\", time.perf_counter()-start)"
   ]
  },
  {
   "cell_type": "markdown",
   "id": "60374c9e",
   "metadata": {},
   "source": [
    "Its often apparent early in the relaxation whether a site is stable or not (whether it destroys the substrate or volatalizes off the site). Prune redundant and unstable configurations early in the relaxation.\n",
    "\n",
    "1. Double O configs are common\n",
    "2. Volatization to another site is common\n",
    "3. No need to further optimize a destroyed substrate"
   ]
  },
  {
   "cell_type": "code",
   "execution_count": null,
   "id": "7ea3d803",
   "metadata": {},
   "outputs": [],
   "source": [
    "eoh = np.array([t.info['energy'] for t in oh])\n",
    "eo = np.array([t.info['energy'] for t in o])\n",
    "eooh = np.array([t.info['energy'] for t in ooh])\n",
    "\n",
    "eoh_crude = np.array([t.info['energy'] for t in oh_crude])\n",
    "eo_crude = np.array([t.info['energy'] for t in o_crude])\n",
    "eooh_crude = np.array([t.info['energy'] for t in ooh_crude])\n",
    "\n",
    "asoh = [t.info['active_site'] for t in oh]\n",
    "aso = [t.info['active_site'] for t in o]\n",
    "asooh = [t.info['active_site'] for t in ooh]\n",
    "\n",
    "activesites = [[i, j, k] for i, j, k in itertools.product(asoh, aso, asooh)]\n",
    "activesites = np.array(activesites).reshape(len(asoh), len(aso), len(asooh), 3)\n",
    "eoh_crude = np.delete(eoh_crude, 5)"
   ]
  },
  {
   "cell_type": "markdown",
   "id": "d8c50c8b",
   "metadata": {},
   "source": [
    "### Generating additional adsorbate configurations"
   ]
  },
  {
   "cell_type": "markdown",
   "id": "ebd118ca",
   "metadata": {},
   "source": [
    "Force fields turn out to be not so good for geometries... but still useful for gnerating addition conformations"
   ]
  },
  {
   "cell_type": "code",
   "execution_count": null,
   "id": "1df8fbd4",
   "metadata": {
    "scrolled": true
   },
   "outputs": [],
   "source": [
    "# Generate additional conformers, and optimize them with ff's\n",
    "start = time.perf_counter()\n",
    "add_oh_confs = [get_adsorbate_conformers(config) for config in oh]\n",
    "add_o_confs = [get_adsorbate_conformers(config) for config in o]\n",
    "add_ooh_confs = [get_adsorbate_conformers(config) for config in ooh]\n",
    "print(\"Took\", time.perf_counter() - start)"
   ]
  },
  {
   "cell_type": "code",
   "execution_count": null,
   "id": "e10efa06",
   "metadata": {
    "scrolled": true
   },
   "outputs": [],
   "source": [
    "# Relax them at tight binding level\n",
    "add_oh = multi_run(add_oh_confs, runtype='opt vtight', keep_folders=False, calc_kwargs=calc_params, multi_process=6)\n",
    "add_o = multi_run(add_o_confs, runtype='opt vtight', keep_folders=False, calc_kwargs=calc_params, multi_process=6)\n",
    "add_ooh = multi_run(add_ooh_confs, runtype='opt vtight', keep_folders=False, calc_kwargs=calc_params, multi_process=6)"
   ]
  },
  {
   "cell_type": "code",
   "execution_count": null,
   "id": "0227af75",
   "metadata": {
    "scrolled": true
   },
   "outputs": [],
   "source": [
    "# Filter and update\n",
    "oh_opt = filter_configurations(oh + add_oh, sub)\n",
    "o_opt = filter_configurations(o + add_o, sub)\n",
    "ooh_opt = filter_configurations(ooh + add_ooh, sub)\n",
    "print(\"Took Total\", time.perf_counter() - start)"
   ]
  },
  {
   "cell_type": "code",
   "execution_count": null,
   "id": "22d1e7b0",
   "metadata": {},
   "outputs": [],
   "source": [
    "eoh_opt = np.array([t.info['energy'] for t in oh_opt])\n",
    "eo_opt = np.array([t.info['energy'] for t in o_opt])\n",
    "eooh_opt = np.array([t.info['energy'] for t in ooh_opt])"
   ]
  },
  {
   "cell_type": "code",
   "execution_count": null,
   "id": "bcf4b13c",
   "metadata": {
    "scrolled": true
   },
   "outputs": [],
   "source": [
    "print('Num configs', len(oh), len(o), len(ooh))\n",
    "print('New configs', np.count_nonzero(eoh_opt - eoh < 0), np.count_nonzero(eo_opt - eo < 0), np.count_nonzero(eooh_opt - eooh < 0))"
   ]
  },
  {
   "cell_type": "code",
   "execution_count": null,
   "id": "1b88ad15",
   "metadata": {},
   "outputs": [],
   "source": [
    "print('Min difference (eV)')\n",
    "print(np.min(eoh_opt - eoh), np.min(eo_opt - eo), np.min(eooh_opt - eooh))"
   ]
  },
  {
   "cell_type": "markdown",
   "id": "971d6182",
   "metadata": {},
   "source": [
    "Generating additional conformations with EKTG/FFs leads to better sampling of the PES for a given active site.. but it essentially requires double the computational time. Can resolve errors on the order of ~0.1 eV."
   ]
  },
  {
   "cell_type": "markdown",
   "id": "9b147736",
   "metadata": {},
   "source": [
    "### Free Energy and overpotentials"
   ]
  },
  {
   "cell_type": "markdown",
   "id": "68888bad",
   "metadata": {},
   "source": [
    "#### ZPE, TS"
   ]
  },
  {
   "cell_type": "code",
   "execution_count": null,
   "id": "b9cfbd62",
   "metadata": {
    "scrolled": true
   },
   "outputs": [],
   "source": [
    "start = time.perf_counter()\n",
    "\n",
    "### Hessian\n",
    "oh = multi_run(oh, runtype='hess', keep_folders=False, calc_kwargs=calc_params, multi_process=6)\n",
    "o = multi_run(o, runtype='hess', keep_folders=False, calc_kwargs=calc_params, multi_process=6)\n",
    "ooh = multi_run(ooh, runtype='hess', keep_folders=False, calc_kwargs=calc_params, multi_process=6)\n",
    "\n",
    "### Info\n",
    "print(\"Total Time\", time.perf_counter()-start)"
   ]
  },
  {
   "cell_type": "code",
   "execution_count": null,
   "id": "161401a3",
   "metadata": {},
   "outputs": [],
   "source": [
    "# Info\n",
    "zpeoh = np.array([config.info['zpe'] if config is not np.nan else np.nan for config in oh])\n",
    "zpeo = np.array([config.info['zpe'] if config is not np.nan else np.nan for config in o])\n",
    "zpeooh = np.array([config.info['zpe'] if config is not np.nan else np.nan for config in ooh])\n",
    "\n",
    "soh = np.array([config.info['entropy'] if config is not np.nan else np.nan for config in oh])\n",
    "so = np.array([config.info['entropy'] if config is not np.nan else np.nan for config in o])\n",
    "sooh = np.array([config.info['entropy'] if config is not np.nan else np.nan for config in ooh])"
   ]
  },
  {
   "cell_type": "markdown",
   "id": "ff236c44",
   "metadata": {},
   "source": [
    "#### with (ZPE-TS) correction"
   ]
  },
  {
   "cell_type": "markdown",
   "id": "191edfa1",
   "metadata": {},
   "source": [
    "enumerating active sites... lowest overpotential site would be our active site?"
   ]
  },
  {
   "cell_type": "code",
   "execution_count": null,
   "id": "70977351",
   "metadata": {},
   "outputs": [],
   "source": [
    "# Free energies\n",
    "gs = es + zpes - ss\n",
    "goh = eoh + zpeoh - soh\n",
    "go = eo + zpeo - so\n",
    "gooh = eooh + zpeooh - sooh\n",
    "\n",
    "# G matrix, MAD, overpot, rate determining step\n",
    "G = free_energy_multidim(gs, goh, go, gooh)\n",
    "overpot = G.max(axis=3) - 1.23\n",
    "mad = abs(G-1.23).sum(axis=3)\n",
    "spread = G.max(axis=3) - G.min(axis=3)\n",
    "rds = G.argmax(axis=3)\n",
    "\n",
    "# Sorting\n",
    "arg_0 = np.unravel_index(overpot.argsort(axis=None, kind='stable'), overpot.shape)\n",
    "indxs_0 = np.dstack(arg_0)[0]"
   ]
  },
  {
   "cell_type": "code",
   "execution_count": null,
   "id": "4e5b9cf8",
   "metadata": {},
   "outputs": [],
   "source": [
    "eoh_crude.argmin(), eo_crude.argmin(), eooh_crude.argmin()"
   ]
  },
  {
   "cell_type": "code",
   "execution_count": null,
   "id": "5cd1d23f",
   "metadata": {},
   "outputs": [],
   "source": [
    "stable_indx = eoh.argmin(), eo.argmin(), eooh.argmin()\n",
    "stable_indx_zpets = goh.argmin(), go.argmin(), gooh.argmin()\n",
    "stable_indx"
   ]
  },
  {
   "cell_type": "code",
   "execution_count": null,
   "id": "041aba4f",
   "metadata": {},
   "outputs": [],
   "source": [
    "G[stable_indx].max()"
   ]
  },
  {
   "cell_type": "code",
   "execution_count": null,
   "id": "1d5eeeb7",
   "metadata": {},
   "outputs": [],
   "source": [
    "# unravled_argsorted_overpot = np.unravel_index(argsorted_overpot, overpot.shape)\n",
    "# lexargsorted_overpot_then_mad = np.lexsort((mad.flatten()[argsorted_overpot], overpot.flatten()[argsorted_overpot]))\n",
    "# argsorted_overpot_then_mad = argsorted_overpot[lexargsorted_overpot_then_mad]\n",
    "# unraveled_argsorted_overpot_then_mad = np.unravel_index(argsorted_overpot_then_mad, overpot.shape)"
   ]
  },
  {
   "cell_type": "code",
   "execution_count": null,
   "id": "68823006",
   "metadata": {},
   "outputs": [],
   "source": [
    "indxs_0[0], overpot[*indxs_0[0]]"
   ]
  },
  {
   "cell_type": "code",
   "execution_count": null,
   "id": "20a8fd96",
   "metadata": {},
   "outputs": [],
   "source": [
    "G[0,1,2]"
   ]
  },
  {
   "cell_type": "code",
   "execution_count": null,
   "id": "73562cce",
   "metadata": {},
   "outputs": [],
   "source": [
    "for config_index in indxs_0:\n",
    "    print(config_index, '|', overpot[*config_index], '|', rds[*config_index])"
   ]
  },
  {
   "cell_type": "markdown",
   "id": "766bdeec",
   "metadata": {},
   "source": [
    "#### visualizing sites"
   ]
  },
  {
   "cell_type": "code",
   "execution_count": null,
   "id": "8a164002",
   "metadata": {},
   "outputs": [],
   "source": [
    "from rdkit.Chem import Draw\n",
    "import ast"
   ]
  },
  {
   "cell_type": "code",
   "execution_count": null,
   "id": "543de6a2",
   "metadata": {},
   "outputs": [],
   "source": [
    "def mol_with_specific_atom_index(mol, indices=None):\n",
    "    if indices is not None:\n",
    "        for atom in mol.GetAtoms():\n",
    "            if atom.GetIdx() in indices:\n",
    "                atom.SetAtomMapNum(atom.GetIdx())\n",
    "    else:\n",
    "        for atom in mol.GetAtoms():\n",
    "            atom.SetAtomMapNum(atom.GetIdx())\n",
    "    return mol"
   ]
  },
  {
   "cell_type": "code",
   "execution_count": null,
   "id": "e67ce015",
   "metadata": {},
   "outputs": [],
   "source": [
    "def config_num_to_activesite_numerized(arguments):\n",
    "    # np.dstacked (Nx3) array of config indices as input\n",
    "    out = []\n",
    "    for argg in arguments:\n",
    "        if isinstance(aso[argg[1]], str):\n",
    "            a = list((asoh[argg[0]], *ast.literal_eval(aso[argg[1]]), asooh[argg[2]]))\n",
    "        else:\n",
    "            a = list((asoh[argg[0]], aso[argg[1]], asooh[argg[2]]))\n",
    "        \n",
    "        c = [int(b) for b in a]\n",
    "        out.append(c)\n",
    "    \n",
    "    return out"
   ]
  },
  {
   "cell_type": "code",
   "execution_count": null,
   "id": "87850a94",
   "metadata": {},
   "outputs": [],
   "source": [
    "N = 300\n",
    "\n",
    "args = indxs_0[:N:20]\n",
    "# args = np.dstack(unraveled_argsorted_overpot_then_mad)[0][:N:20]\n",
    "# args = activesites[argsorted_overpot][:N]\n",
    "# args = argsorted_overpot_then_mad[:N:20]\n",
    "\n",
    "l = []\n",
    "ms = []\n",
    "for arg in args:\n",
    "    overpotential = overpot[*arg]\n",
    "    meanabsdiff = mad[*arg]\n",
    "    #overpotential = overpot.flatten()[arg]\n",
    "    #meanabsdiff = mad.flatten()[arg]\n",
    "    \n",
    "    # |as:{arg[0], arg[1], arg[2]}, \n",
    "    l.append(f'|over:{round(overpotential, 4)}eV, mad:{round(meanabsdiff, 4)}|')\n",
    "    \n",
    "    m = deepcopy(rdkit_smi)\n",
    "    #m.GetAtomWithIdx(int(arg[0])).SetProp('atomNote', 'OH')\n",
    "    #m.GetAtomWithIdx(int(arg[1])).SetProp('atomNote', 'O')\n",
    "    #m.GetAtomWithIdx(int(arg[2])).SetProp('atomNote', 'OOH')\n",
    "    m = Chem.RemoveHs(m)\n",
    "    #asite = activesites[np.unravel_index(arg, overpot.shape)].astype(int)\n",
    "    asite = activesites[*arg]\n",
    "    #m = mol_with_specific_atom_index(m, indices=[*asite])\n",
    "    ms.append(m)"
   ]
  },
  {
   "cell_type": "code",
   "execution_count": null,
   "id": "2ceb9327",
   "metadata": {},
   "outputs": [],
   "source": [
    "overpot.max()"
   ]
  },
  {
   "cell_type": "code",
   "execution_count": null,
   "id": "6b2a2c7c",
   "metadata": {
    "scrolled": false
   },
   "outputs": [],
   "source": [
    "Draw.MolsToGridImage(ms, legends=l, highlightAtomLists=config_num_to_activesite_numerized(indxs_0), subImgSize=(500,500))"
   ]
  },
  {
   "cell_type": "markdown",
   "id": "c8fb3bcf",
   "metadata": {},
   "source": [
    "What do we count as an active site exactly? Far apart configurations also work?"
   ]
  },
  {
   "cell_type": "markdown",
   "id": "7f6654cf",
   "metadata": {},
   "source": [
    "#### w/o ZPE-TS correction"
   ]
  },
  {
   "cell_type": "code",
   "execution_count": null,
   "id": "90615e7b",
   "metadata": {},
   "outputs": [],
   "source": [
    "gs = es\n",
    "goh = eoh\n",
    "go = eo\n",
    "gooh = eooh\n",
    "\n",
    "Gcrude = free_energy_multidim(gs, goh, go, gooh)\n",
    "overpotcrude = Gcrude.max(axis=3) - 1.23\n",
    "rdscrude = Gcrude.argmax(axis=3)"
   ]
  },
  {
   "cell_type": "code",
   "execution_count": null,
   "id": "7c8dd45c",
   "metadata": {},
   "outputs": [],
   "source": [
    "arg_1 = np.unravel_index(overpotcrude.argsort(axis=None, kind='stable'), overpotcrude.shape)\n",
    "indxs_1 = np.dstack(arg_1)[0]"
   ]
  },
  {
   "cell_type": "code",
   "execution_count": null,
   "id": "c9e04077",
   "metadata": {},
   "outputs": [],
   "source": [
    "for config_index in indxs_1:\n",
    "    print(config_index, '|', overpotcrude[*config_index], '|', rdscrude[*config_index])"
   ]
  },
  {
   "cell_type": "code",
   "execution_count": null,
   "id": "cbb05a61",
   "metadata": {},
   "outputs": [],
   "source": [
    "indxs_0[0], overpot[*indxs_0[0]]"
   ]
  },
  {
   "cell_type": "markdown",
   "id": "7e114287",
   "metadata": {},
   "source": [
    "#### ZPE-TS distb"
   ]
  },
  {
   "cell_type": "code",
   "execution_count": null,
   "id": "827fb92a",
   "metadata": {},
   "outputs": [],
   "source": [
    "corr1 = (zpeoh - soh) - (zpes - ss)\n",
    "corr2 = (zpeo - so) - (zpeoh - soh)[:, None]\n",
    "corr3 = (zpeooh - sooh) - (zpeo - so)[:, None]\n",
    "corr4 = (zpes - ss) - (zpeooh - sooh)"
   ]
  },
  {
   "cell_type": "code",
   "execution_count": null,
   "id": "743bcdf8",
   "metadata": {},
   "outputs": [],
   "source": [
    "plt.hist(corr1, label='1')\n",
    "plt.hist(corr2.flatten(), label='2')\n",
    "plt.hist(corr3.flatten(), label='3')\n",
    "plt.hist(corr4, label='4')\n",
    "plt.legend()"
   ]
  },
  {
   "cell_type": "code",
   "execution_count": null,
   "id": "3f05a5d3",
   "metadata": {
    "scrolled": true
   },
   "outputs": [],
   "source": [
    "zpe_s_loop(es, eoh, eo, eooh)"
   ]
  },
  {
   "cell_type": "markdown",
   "id": "c3671bd1",
   "metadata": {},
   "source": [
    "#### Not fully relaxed"
   ]
  },
  {
   "cell_type": "code",
   "execution_count": null,
   "id": "1b2c95a7",
   "metadata": {
    "scrolled": false
   },
   "outputs": [],
   "source": [
    "zpe_s_loop(es, eoh_crude, eo_crude, eooh_crude)"
   ]
  },
  {
   "cell_type": "markdown",
   "id": "06b73830",
   "metadata": {},
   "source": [
    "1) Fully Relaxing 28*3 configs took 184 sec, Frequency analysis on 21*14*15 configs took 235 sec\n",
    "2) Relaxing 15*3 equivalent configs took 108 sec, Freq. analysis on 11*8*8 configs took 133\n",
    "2a) Stop and go relaxing 15*15*15 / 12*8*8 equivalent configs took 82 sec\n",
    "3) Generating addition FF confs and relaxing them, 75 sec\n",
    "\n",
    "75sec (conf generation)\n",
    "1) 419sec (full, 100%) \n",
    "2) 241sec (Equivalent, 57%)\n",
    "3) 215sec (stop and go, 51%)\n",
    "4) 40 sec + 20 sec ZPEs + 20 sec relax (crude, 19%)"
   ]
  },
  {
   "cell_type": "code",
   "execution_count": null,
   "id": "7060f09e",
   "metadata": {},
   "outputs": [],
   "source": [
    "gs = es #+ ss - zpes\n",
    "goh = eoh_crude #+ zpeoh - soh\n",
    "go = eo_crude #+ zpeo - so\n",
    "gooh = eooh_crude #+ zpeooh - sooh\n",
    "\n",
    "Gcrude = free_energy_multidim(gs, goh, go, gooh)\n",
    "overpotcrude = Gcrude.max(axis=3) - 1.23\n",
    "rdscrude = Gcrude.argmax(axis=3)"
   ]
  },
  {
   "cell_type": "code",
   "execution_count": null,
   "id": "5d0f8dc1",
   "metadata": {},
   "outputs": [],
   "source": [
    "np.mean(eoh_crude - eoh), np.mean(eo_crude - eo), np.mean(eooh_crude - eooh)"
   ]
  },
  {
   "cell_type": "code",
   "execution_count": null,
   "id": "159d936c",
   "metadata": {
    "scrolled": false
   },
   "outputs": [],
   "source": [
    "plt.scatter(overpot.flatten(), overpotcrude.flatten())\n",
    "plt.plot(overpot.flatten(), overpot.flatten(), 'r')\n",
    "plt.xlabel('Overpotential Exact')\n",
    "plt.ylabel('Overpotential Crude')"
   ]
  },
  {
   "cell_type": "code",
   "execution_count": null,
   "id": "74369c53",
   "metadata": {},
   "outputs": [],
   "source": [
    "rdscrude[np.where(overpotcrude > overpot)]"
   ]
  },
  {
   "cell_type": "code",
   "execution_count": null,
   "id": "30e37a1e",
   "metadata": {},
   "outputs": [],
   "source": [
    "np.mean(overpotcrude - overpot)"
   ]
  }
 ],
 "metadata": {
  "kernelspec": {
   "display_name": "Python 3 (ipykernel)",
   "language": "python",
   "name": "python3"
  },
  "language_info": {
   "codemirror_mode": {
    "name": "ipython",
    "version": 3
   },
   "file_extension": ".py",
   "mimetype": "text/x-python",
   "name": "python",
   "nbconvert_exporter": "python",
   "pygments_lexer": "ipython3",
   "version": "3.11.4"
  }
 },
 "nbformat": 4,
 "nbformat_minor": 5
}
