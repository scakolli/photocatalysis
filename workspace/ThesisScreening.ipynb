{
 "cells": [
  {
   "cell_type": "code",
   "execution_count": 1,
   "id": "0ad93d36",
   "metadata": {},
   "outputs": [],
   "source": [
    "import numpy as np\n",
    "import pandas as pd\n",
    "import os\n",
    "import subprocess\n",
    "import time\n",
    "import matplotlib.pyplot as plt\n",
    "import itertools\n",
    "from copy import deepcopy\n",
    "\n",
    "from rdkit import Chem\n",
    "from rdkit.Chem import AllChem\n",
    "import ase\n",
    "from ase.io import read, write\n",
    "from ase.units import Hartree\n",
    "from ase.visualize import view\n",
    "\n",
    "from ase.io.trajectory import Trajectory\n",
    "import glob\n",
    "import pickle"
   ]
  },
  {
   "cell_type": "code",
   "execution_count": 2,
   "id": "dbfbb10b",
   "metadata": {},
   "outputs": [],
   "source": [
    "from osc_discovery.photocatalysis.thermodynamics.constants import dG1_REST, dG2_REST, dG3_REST, dG4_REST"
   ]
  },
  {
   "cell_type": "code",
   "execution_count": 3,
   "id": "04831a10",
   "metadata": {},
   "outputs": [],
   "source": [
    "def free_energy_multidim(Gs, GOH, GO, GOOH, explicitly_broadcast=True):\n",
    "    # Vectorized free energy expressions with numpy broadcasting\n",
    "    # Gs : scalar, G*: arbitrary length numpy array\n",
    "    # (OH_index, O_index, OOH_index)\n",
    "    \n",
    "    g1 = GOH[:, None, None] - Gs + dG1_REST\n",
    "    g2 = GO[None, :, None] - GOH[:, None, None] + dG2_REST\n",
    "    g3 = GOOH[None, None, :] - GO[None, :, None] + dG3_REST\n",
    "    g4 = Gs - GOOH[None, None, :] + dG4_REST\n",
    "    \n",
    "    if explicitly_broadcast:\n",
    "        tot_shape = len(GOH), len(GO), len(GOOH)\n",
    "        g1b, g2b, g3b, g4b = explicitly_broadcast_to(tot_shape, g1, g2, g3, g4)\n",
    "        G = np.moveaxis(np.array((g1b, g2b, g3b, g4b)), 0,3)\n",
    "        return G\n",
    "    else:\n",
    "        return g1, g2, g3, g4\n",
    "    \n",
    "def free_energy(Gs, GOH, GO, GOOH):\n",
    "    g1 = GOH - Gs + dG1_REST\n",
    "    g2 = GO - GOH+ dG2_REST\n",
    "    g3 = GOOH - GO + dG3_REST\n",
    "    g4 = Gs - GOOH + dG4_REST\n",
    "    \n",
    "    return np.array([g1, g2, g3, g4])\n",
    "\n",
    "def explicitly_broadcast_to(shape, *gs_expres):\n",
    "    # Fillout arrays\n",
    "    out = []\n",
    "    for g in gs_expres:\n",
    "        out.append(np.broadcast_to(g, shape))\n",
    "    return tuple(out)"
   ]
  },
  {
   "cell_type": "code",
   "execution_count": 4,
   "id": "adacd714",
   "metadata": {},
   "outputs": [],
   "source": [
    "from rdkit.Chem.Draw import IPythonConsole\n",
    "IPythonConsole.drawOptions.addAtomIndices = True"
   ]
  },
  {
   "cell_type": "code",
   "execution_count": 5,
   "id": "a081d2e3",
   "metadata": {},
   "outputs": [],
   "source": [
    "### For automatically reloading import modules... allows you to run changes to code in jupyter without having to reload\n",
    "%load_ext autoreload\n",
    "%autoreload 2\n",
    "\n",
    "# Read Dataframe containing entire chemical space\n",
    "path = os.getcwd() + '/data/'\n",
    "file = 'df_chemical_space_chons_4rings.json'\n",
    "p = pd.read_json(path+file, orient='split')\n",
    "\n",
    "# Change dir\n",
    "os.chdir('/home/scakolli/Thesis/osc_discovery/run')"
   ]
  },
  {
   "cell_type": "code",
   "execution_count": 38,
   "id": "d128b028",
   "metadata": {
    "scrolled": true
   },
   "outputs": [
    {
     "data": {
      "image/png": "[encoded data removed]",
      "text/plain": [
       "<rdkit.Chem.rdchem.Mol at 0x7f668acac9e0>"
      ]
     },
     "execution_count": 38,
     "metadata": {},
     "output_type": "execute_result"
    }
   ],
   "source": [
    "# Pick a random molecule in the space and get its smile string\n",
    "rand_i = np.random.randint(315451)\n",
    "# p.iloc[rand_i]\n",
    "\n",
    "smi = p.iloc[rand_i]['molecule_smiles']\n",
    "# smi = 'C1=CC(C=Cc2cnnc(-c3cc(C=CC4=CCC=C4)cnn3)c2)=CC1'\n",
    "# smi = 'C1=CSC(=C2C(C=Cc3ccco3)=CC=C2C=Cc2ccco2)S1'\n",
    "\n",
    "# Draw chem\n",
    "rdkit_smi = Chem.MolFromSmiles(smi)\n",
    "rdkit_smi"
   ]
  },
  {
   "cell_type": "markdown",
   "id": "c09da402",
   "metadata": {},
   "source": [
    "----"
   ]
  },
  {
   "cell_type": "code",
   "execution_count": 11,
   "id": "5b461999",
   "metadata": {},
   "outputs": [],
   "source": [
    "from osc_discovery.photocatalysis.adsorption.tools import prepare_substrate\n",
    "from osc_discovery.photocatalysis.thermodynamics.tools import single_run, multi_run\n",
    "from osc_discovery.photocatalysis.thermodynamics.constants import SHE_VACUUM_POTENTIAL"
   ]
  },
  {
   "cell_type": "code",
   "execution_count": 12,
   "id": "c0b23da5",
   "metadata": {},
   "outputs": [],
   "source": [
    "from osc_discovery.photocatalysis.adsorption.tools import build_configurations, get_adsorbate_conformers\n",
    "# from osc_discovery.photocatalysis.adsorption.optimal_configurations import filter_configurations_with_symm, filter_configurations"
   ]
  },
  {
   "cell_type": "code",
   "execution_count": 14,
   "id": "90635fc0",
   "metadata": {
    "scrolled": true
   },
   "outputs": [
    {
     "name": "stdout",
     "output_type": "stream",
     "text": [
      "Number of rotatable bonds: 4, C1=CC(c2cncc(C3=CCC=C3)c2C=Cc2cc[nH]c2)=CC1\n",
      "1) Embedding conformers (50). Using 2 processes\n",
      "Took: 0.7358982563018799 s\n",
      "2) Minimizing 50 conformers (mmff94)\n",
      "Took: 1.5466482639312744 s\n",
      "3) Pruning conformers (RMSD threshold: 0.35 Ang)\n",
      "Took: 1.1832714080810547 s\n",
      "Number of conformers found: 19\n"
     ]
    }
   ],
   "source": [
    "# Prepare Substrate\n",
    "calc_params = {'gfn':2, 'acc':0.2, 'etemp':298.15, 'strict':'', 'gbsa':'water'}\n",
    "sub = prepare_substrate(smi, calc_params, multi_process_conf=2, multi_process_sp=4)"
   ]
  },
  {
   "cell_type": "code",
   "execution_count": 15,
   "id": "5453fe04",
   "metadata": {},
   "outputs": [
    {
     "data": {
      "text/plain": [
       "1.1827999999999994"
      ]
     },
     "execution_count": 15,
     "metadata": {},
     "output_type": "execute_result"
    }
   ],
   "source": [
    "sub = single_run(sub, runtype='vipea', **calc_params, parallel=2)\n",
    "ipshe = sub.info['ip'] / 1. - SHE_VACUUM_POTENTIAL\n",
    "ipshe"
   ]
  },
  {
   "cell_type": "code",
   "execution_count": null,
   "id": "5dc4591a",
   "metadata": {},
   "outputs": [],
   "source": [
    "sub_vacuum = single_run(sub, runtype='vipea', **{'acc':0.2, 'etemp':298.15, 'strict':''})\n",
    "ipshe_vacuum = sub_vacuum.info['ip'] / 1. - SHE_VACUUM_POTENTIAL\n",
    "ipshe_vacuum"
   ]
  },
  {
   "cell_type": "code",
   "execution_count": null,
   "id": "5b81fbdc",
   "metadata": {
    "scrolled": false
   },
   "outputs": [],
   "source": [
    "mol = Chem.MolFromSmiles(smi)\n",
    "mol.__sssAtoms = [*sub.info['equivalent_atoms']]\n",
    "mol"
   ]
  },
  {
   "cell_type": "markdown",
   "id": "0f124642",
   "metadata": {},
   "source": [
    "Testing"
   ]
  },
  {
   "cell_type": "code",
   "execution_count": 16,
   "id": "05d752ab",
   "metadata": {},
   "outputs": [],
   "source": [
    "from osc_discovery.photocatalysis.adsorption.relaxing import build_and_relax_configurations, build_configurations"
   ]
  },
  {
   "cell_type": "markdown",
   "id": "fd012243",
   "metadata": {},
   "source": [
    "#### Build and relax configs"
   ]
  },
  {
   "cell_type": "code",
   "execution_count": null,
   "id": "04f03c77",
   "metadata": {},
   "outputs": [],
   "source": [
    "### Build Configs\n",
    "configsOH, configsO, configsOOH = build_configurations(sub, sub.info['equivalent_atoms'])"
   ]
  },
  {
   "cell_type": "code",
   "execution_count": null,
   "id": "ebef8206",
   "metadata": {},
   "outputs": [],
   "source": [
    "start = time.perf_counter()\n",
    "oh = multi_run(configsOH, runtype='opt vtight', keep_folders=False, calc_kwargs=calc_params, multi_process=6)\n",
    "o = multi_run(configsO, runtype='opt vtight', keep_folders=False, calc_kwargs=calc_params, multi_process=6)\n",
    "ooh = multi_run(configsOOH, runtype='opt vtight', keep_folders=False, calc_kwargs=calc_params, multi_process=6)"
   ]
  },
  {
   "cell_type": "code",
   "execution_count": null,
   "id": "01de8ab8",
   "metadata": {},
   "outputs": [],
   "source": [
    "### Filtering\n",
    "oh = filter_configurations_with_symm(oh, sub)\n",
    "o = filter_configurations_with_symm(o, sub)\n",
    "ooh = filter_configurations_with_symm(ooh, sub)\n",
    "print(\"Num configs\", len(oh), len(o), len(ooh))\n",
    "print(\"Took\", time.perf_counter()-start)"
   ]
  },
  {
   "cell_type": "code",
   "execution_count": null,
   "id": "9b38de4b",
   "metadata": {},
   "outputs": [],
   "source": [
    "start = time.perf_counter()\n",
    "\n",
    "### Hessian\n",
    "oh = multi_run(oh, runtype='hess', keep_folders=False, calc_kwargs=calc_params, multi_process=6)\n",
    "o = multi_run(o, runtype='hess', keep_folders=False, calc_kwargs=calc_params, multi_process=6)\n",
    "ooh = multi_run(ooh, runtype='hess', keep_folders=False, calc_kwargs=calc_params, multi_process=6)\n",
    "\n",
    "### Info\n",
    "print(\"Total Time\", time.perf_counter()-start)"
   ]
  },
  {
   "cell_type": "code",
   "execution_count": null,
   "id": "94f1da4c",
   "metadata": {
    "scrolled": true
   },
   "outputs": [],
   "source": [
    "### Crude Relaxation\n",
    "start = time.perf_counter()\n",
    "oh_crude = multi_run(configsOH, runtype='opt loose', keep_folders=False, calc_kwargs=calc_params, multi_process=6)\n",
    "o_crude = multi_run(configsO, runtype='opt loose', keep_folders=False, calc_kwargs=calc_params, multi_process=6)\n",
    "ooh_crude = multi_run(configsOOH, runtype='opt loose', keep_folders=False, calc_kwargs=calc_params, multi_process=6)"
   ]
  },
  {
   "cell_type": "code",
   "execution_count": null,
   "id": "22c3c5cd",
   "metadata": {},
   "outputs": [],
   "source": [
    "### Filtering\n",
    "oh_crude = filter_configurations_with_symm(oh_crude, sub)\n",
    "o_crude = filter_configurations_with_symm(o_crude, sub)\n",
    "ooh_crude = filter_configurations_with_symm(ooh_crude, sub)\n",
    "print(\"Num configs\", len(oh_crude), len(o_crude), len(ooh_crude))"
   ]
  },
  {
   "cell_type": "code",
   "execution_count": null,
   "id": "5320d83c",
   "metadata": {},
   "outputs": [],
   "source": [
    "es = sub.info['energy']\n",
    "eoh = np.array([t.info['energy'] for t in oh])\n",
    "eo = np.array([t.info['energy'] for t in o])\n",
    "eooh = np.array([t.info['energy'] for t in ooh])\n",
    "\n",
    "eoh_crude = np.array([t.info['energy'] for t in oh_crude])\n",
    "# eoh_crude = np.delete(eoh_crude, 3)\n",
    "eo_crude = np.array([t.info['energy'] for t in o_crude])\n",
    "eooh_crude = np.array([t.info['energy'] for t in ooh_crude])\n",
    "\n",
    "asoh = np.array([t.info['active_site'] for t in oh])\n",
    "aso = [t.info['active_site'] for t in o]\n",
    "asooh = np.array([t.info['active_site'] for t in ooh])\n",
    "\n",
    "activesites = [[i, j, k] for i, j, k in itertools.product(asoh, aso, asooh)]\n",
    "activesites = np.array(activesites).reshape(len(asoh), len(aso), len(asooh), 3)"
   ]
  },
  {
   "cell_type": "code",
   "execution_count": null,
   "id": "c5ada895",
   "metadata": {
    "scrolled": true
   },
   "outputs": [],
   "source": [
    "# Info\n",
    "zpes = sub.info['zpe']\n",
    "ss = sub.info['entropy']\n",
    "\n",
    "zpeoh = np.array([config.info['zpe'] if config is not np.nan else np.nan for config in oh])\n",
    "zpeo = np.array([config.info['zpe'] if config is not np.nan else np.nan for config in o])\n",
    "zpeooh = np.array([config.info['zpe'] if config is not np.nan else np.nan for config in ooh])\n",
    "\n",
    "soh = np.array([config.info['entropy'] if config is not np.nan else np.nan for config in oh])\n",
    "so = np.array([config.info['entropy'] if config is not np.nan else np.nan for config in o])\n",
    "sooh = np.array([config.info['entropy'] if config is not np.nan else np.nan for config in ooh])"
   ]
  },
  {
   "cell_type": "markdown",
   "id": "bb2a22e0",
   "metadata": {},
   "source": [
    "Crude"
   ]
  },
  {
   "cell_type": "code",
   "execution_count": null,
   "id": "42376134",
   "metadata": {},
   "outputs": [],
   "source": [
    "eooh_crude.argsort(), eooh.argsort()"
   ]
  },
  {
   "cell_type": "code",
   "execution_count": null,
   "id": "23ee56c9",
   "metadata": {},
   "outputs": [],
   "source": [
    "stable_config_indx, stable_config_indx_crude = (int(eoh.argmin()), int(eo.argmin()), int(eooh.argmin())), (eoh_crude.argmin(), eo_crude.argmin(), eooh_crude.argmin())"
   ]
  },
  {
   "cell_type": "code",
   "execution_count": null,
   "id": "191b2f31",
   "metadata": {},
   "outputs": [],
   "source": [
    "stable_config_indx, stable_config_indx_crude"
   ]
  },
  {
   "cell_type": "code",
   "execution_count": null,
   "id": "62c9d56d",
   "metadata": {
    "scrolled": true
   },
   "outputs": [],
   "source": [
    "asoh[eoh.argsort()], np.array(aso)[eo.argsort()], asooh[eooh.argsort()]"
   ]
  },
  {
   "cell_type": "code",
   "execution_count": null,
   "id": "ba2b4e48",
   "metadata": {},
   "outputs": [],
   "source": [
    "mol = Chem.MolFromSmiles(smi)\n",
    "mol.__sssAtoms = [*stable_config_indx]\n",
    "mol"
   ]
  },
  {
   "cell_type": "markdown",
   "id": "8b7f34bc",
   "metadata": {},
   "source": [
    "Most stable configuration in the sense of Energy OR E+ZPE / G=E+ZPE-TS.... if its the latter, then we need ZPE-TS approximation for all configs... if its the former, then only 3 ZPE calcs required, or perhaps only one?"
   ]
  },
  {
   "cell_type": "markdown",
   "id": "3639ea0c",
   "metadata": {},
   "source": [
    "#### ZPE-TS"
   ]
  },
  {
   "cell_type": "code",
   "execution_count": null,
   "id": "5e6582ab",
   "metadata": {},
   "outputs": [],
   "source": [
    "stable_config = [oh[stable_config_indx[0]], o[stable_config_indx[1]], ooh[stable_config_indx[2]]]"
   ]
  },
  {
   "cell_type": "code",
   "execution_count": null,
   "id": "6472cc34",
   "metadata": {},
   "outputs": [],
   "source": [
    "stable_config = multi_run(stable_config, runtype='hess --parallel 2', keep_folders=False, calc_kwargs=calc_params, multi_process=3)"
   ]
  },
  {
   "cell_type": "markdown",
   "id": "0c5bad67",
   "metadata": {},
   "source": [
    "Testing"
   ]
  },
  {
   "cell_type": "code",
   "execution_count": null,
   "id": "dab45c1e",
   "metadata": {},
   "outputs": [],
   "source": [
    "G = free_energy_multidim(es+zpes-ss, eoh+zpeoh-soh, eo+zpeo-so, eooh+zpeooh-sooh)\n",
    "overpot = G.max(axis=3) - 1.23\n",
    "\n",
    "Gcrude = free_energy_multidim(es+zpes-ss, eoh_crude+zpeoh[9]-soh[9], eo_crude+zpeo[0]-so[0], eooh_crude+zpeooh[5]-sooh[5])\n",
    "overpotcrude = Gcrude.max(axis=3) - 1.23"
   ]
  },
  {
   "cell_type": "code",
   "execution_count": null,
   "id": "4bf5cd77",
   "metadata": {},
   "outputs": [],
   "source": [
    "plt.scatter(overpotcrude.flatten(), overpot.flatten())"
   ]
  },
  {
   "cell_type": "code",
   "execution_count": null,
   "id": "489cc0c0",
   "metadata": {},
   "outputs": [],
   "source": [
    "np.mean(abs(overpotcrude.flatten() - overpot.flatten()))"
   ]
  },
  {
   "cell_type": "code",
   "execution_count": null,
   "id": "9f8d43b7",
   "metadata": {},
   "outputs": [],
   "source": [
    "stable_config_indx"
   ]
  },
  {
   "cell_type": "code",
   "execution_count": null,
   "id": "96b4bef1",
   "metadata": {},
   "outputs": [],
   "source": [
    "free_energy(es, eoh[9], eo[0], eooh[5])"
   ]
  },
  {
   "cell_type": "code",
   "execution_count": null,
   "id": "9de1faac",
   "metadata": {},
   "outputs": [],
   "source": [
    "G[9,0,5], Gcrude[9, 0, 5]"
   ]
  },
  {
   "cell_type": "code",
   "execution_count": null,
   "id": "57fda8d9",
   "metadata": {},
   "outputs": [],
   "source": [
    "G[9, 0, 5], Gcrude[9, 0, 5]"
   ]
  },
  {
   "cell_type": "code",
   "execution_count": null,
   "id": "6190bf07",
   "metadata": {},
   "outputs": [],
   "source": [
    "free_energy(es+zpes-ss, eoh[9]+zpeoh[9]-soh[9], eo[0]+zpeo[0]-so[0], eooh[5]+zpeooh[5]-sooh[5])"
   ]
  },
  {
   "cell_type": "code",
   "execution_count": null,
   "id": "40d2a894",
   "metadata": {},
   "outputs": [],
   "source": [
    "free_energy(es+zpes-ss, eoh[9]+zpes-ss, eo[0]+zpeo[0]-so[0], eooh[5]+zpeooh[5]-sooh[5])"
   ]
  },
  {
   "cell_type": "markdown",
   "id": "9a6b08a3",
   "metadata": {},
   "source": [
    "---"
   ]
  },
  {
   "cell_type": "code",
   "execution_count": 17,
   "id": "7dafcbdc",
   "metadata": {},
   "outputs": [],
   "source": [
    "from osc_discovery.photocatalysis.adsorption.relaxing import filter_configurations"
   ]
  },
  {
   "cell_type": "markdown",
   "id": "baa114e7",
   "metadata": {},
   "source": [
    "Testing hypothesis, that its sufficient to only consider a hanful of sites"
   ]
  },
  {
   "cell_type": "code",
   "execution_count": 18,
   "id": "49d06568",
   "metadata": {},
   "outputs": [],
   "source": [
    "n_strings = 15\n",
    "smile_strings = [p.iloc[ri]['molecule_smiles'] for ri in np.random.randint(315451, size=n_strings)]"
   ]
  },
  {
   "cell_type": "code",
   "execution_count": 47,
   "id": "7d4cd32c",
   "metadata": {},
   "outputs": [
    {
     "name": "stderr",
     "output_type": "stream",
     "text": [
      "2023-06-21 19:51:59,097 | INFO: Jobs to do: 3\n",
      "2023-06-21 19:52:02,819 | INFO: Finished jobs. Took 3.7191162000017357s\n",
      "2023-06-21 19:52:02,826 | INFO: Jobs to do: 3\n",
      "2023-06-21 19:52:18,087 | INFO: Finished jobs. Took 15.259695600005216s\n"
     ]
    },
    {
     "name": "stdout",
     "output_type": "stream",
     "text": [
      "########################################\n",
      "Sub 0 took 372.577844200001\n",
      "########################################\n"
     ]
    }
   ],
   "source": [
    "calc_params = {'gfn':2, 'acc':0.2, 'etemp':298.15, 'strict':'', 'gbsa':'water'}\n",
    "master = []\n",
    "opt = []\n",
    "test = []\n",
    "times = []\n",
    "\n",
    "for j, s in enumerate(smile_strings):\n",
    "    ## Prepare Substrate\n",
    "    start = time.perf_counter()\n",
    "    sub = prepare_substrate(s, calc_params, multi_process_conf=2, multi_process_sp=4)\n",
    "    \n",
    "    ### VIPEA\n",
    "    sub = single_run(sub, runtype='vipea', **calc_params)\n",
    "    ipshe = sub.info['ip'] / 1. - SHE_VACUUM_POTENTIAL\n",
    "    \n",
    "    ### Build Configs\n",
    "    configsOH, configsO, configsOOH = build_configurations(sub, sub.info['equivalent_atoms'])\n",
    "    \n",
    "    ### Crude Relaxation\n",
    "    oh  = multi_run(configsOH, runtype='opt loose', keep_folders=False, calc_kwargs=calc_params, multi_process=6)\n",
    "    o = multi_run(configsO, runtype='opt loose', keep_folders=False, calc_kwargs=calc_params, multi_process=6)\n",
    "    ooh = multi_run(configsOOH, runtype='opt loose', keep_folders=False, calc_kwargs=calc_params, multi_process=6)\n",
    "    \n",
    "    ## Filter\n",
    "    oh = filter_configurations(oh, sub)\n",
    "    o = filter_configurations(o, sub)\n",
    "    ooh = filter_configurations(ooh, sub)\n",
    "\n",
    "    ### Info\n",
    "    es = sub.info['energy']\n",
    "    eoh = np.array([t.info['energy'] for t in oh])\n",
    "    eo = np.array([t.info['energy'] for t in o])\n",
    "    eooh = np.array([t.info['energy'] for t in ooh])\n",
    "\n",
    "    asoh = np.array([t.info['active_site'] for t in oh])\n",
    "    aso = [t.info['active_site'] for t in o]\n",
    "    asooh = np.array([t.info['active_site'] for t in ooh])\n",
    "    activesites = [[i, j, k] for i, j, k in itertools.product(asoh, aso, asooh)]\n",
    "    activesites = np.array(activesites).reshape(len(asoh), len(aso), len(asooh), 3)\n",
    "\n",
    "    ### Free Energies\n",
    "    ioh, io, iooh = eoh.argmin(), eo.argmin(), eooh.argmin()\n",
    "\n",
    "    # Optimzie and perform hessian calc\n",
    "    stable_configs = [oh[ioh], o[io], ooh[iooh]]\n",
    "    stable_configs = multi_run(stable_configs, runtype='opt vtight', keep_folders=False, calc_kwargs=calc_params, multi_process=3)\n",
    "    stable_configs = multi_run(stable_configs, runtype='hess', keep_folders=False, calc_kwargs=calc_params, multi_process=3)\n",
    "\n",
    "    es = sub.info['energy']\n",
    "    zpes, ss = sub.info['zpe'], sub.info['entropy']\n",
    "    eoh, zpeoh, soh = stable_configs[0].info['energy'], stable_configs[0].info['zpe'], stable_configs[0].info['entropy']\n",
    "    eo, zpeo, so = stable_configs[1].info['energy'], stable_configs[1].info['zpe'], stable_configs[1].info['entropy']\n",
    "    eooh, zpeooh, sooh = stable_configs[2].info['energy'], stable_configs[2].info['zpe'], stable_configs[2].info['entropy']\n",
    "\n",
    "    dGs = free_energy(es+zpes-ss, eoh+zpeoh-soh, eo+zpeo-so, eooh+zpeooh-sooh)\n",
    "    #dGs_complete = free_energy_multidim(es+zpes-ss, eoh+zpeoh-soh, eo+zpeo-so, eooh+zpeooh-sooh)\n",
    "    #overpot_complete = dGs_complete.max(axis=3)-1.23\n",
    "    #overpot_complete.min(), np.unravel_index(overpot_complete.argmin(), overpot_complete.shape)\n",
    "\n",
    "\n",
    "    master.append([activesites[ioh, io, iooh].tolist(), ipshe, dGs.max()])\n",
    "    #opt.append([np.unravel_index(overpot_complete.argmin(), overpot_complete.shape), overpot_complete.min()])\n",
    "    #test.append([eoh.argsort(), eo.argsort(), eooh.argsort()])\n",
    "    times.append(time.perf_counter()-start)\n",
    "    print('########################################')\n",
    "    print(\"Sub\", j,\"took\", time.perf_counter()-start)\n",
    "    print('########################################')\n",
    "    \n",
    "    break"
   ]
  },
  {
   "cell_type": "markdown",
   "id": "9fa10bd2",
   "metadata": {},
   "source": [
    "### Perspective and proposed workflow"
   ]
  },
  {
   "cell_type": "markdown",
   "id": "2bb90ed7",
   "metadata": {},
   "source": [
    "We want to evaluate whether p-doped (i.e. electron poor) organic semiconductor monomers are suitable for photocatalytic oxygen production (and perhaps Hydrogen production as well, but theres no gaurentee that electron poor substrates can be good enough donors for HER). In this regard, 3 things are important:\n",
    "\n",
    "1) Suitability as a photocatalyst\n",
    "Does the catalyst posses a sufficient thermodynamic driving force for charge transfer; is the IP larger than the Redox potential for water oxidation (1.23 V at STP)?\n",
    "\n",
    "In a realistic system, we have to consider the excited state electron affinity (EA*) of the catalyst; the catalysts ability to accept an electron into its vacant HOMO orbital. If we assume that the electron-hole pair generated upon photoexcitation is thermalized and separated (i.e. we've provided enough energy to overcome the exciton binding energy), then we can approximate EA* with the IP. The exciton binding energy turns out to be quite substantial for organic polymers at room temperature, but solvation stablizes EA* and destabilizes IP, in such a way that with increasing dielectric constant of the medium, we get a converging of the 2 quantities (difference on the order of ~ 0.2 eV). In fact, if we wanted to be really cheap about the IP, we could approximate it with the HOMO energy, but this is not perfect, and since the majority of our computational resources are devoted to elucidating electrocatalytic active sites, we can perform the slightly more expensive computation of determining IP.\n",
    "\n",
    "IPEA-xTB has been specially parameterized for determining IP's, but it is still likely that this measure is not accurate enough for our purposes (especially because its a vertical potential that ignores nuclear relaxation). In literature, the IP-xTB is correlated with IP-DFT (adiabatic), so that we can gain a more accurate depiction of the redox capability of our catalyst.\n",
    "\n",
    "Note: Harald wants to incorporate this IP directly into the free energy expression by treating the protons in a slightly different way. If we correlate these IPs with DFT derived values, I wonder if this would be a wise thing to do..?\n",
    "\n",
    "2) Suitability as an electrocatalyst\n",
    "Does the catalyst bind the intermediates in such a way that there is a limited overpotential?\n",
    "\n",
    "In an ideal catalyst, we want each intermediate to bind to the catalyst just right (in accordiance with the sabitier principle) and in the situation of water splitting, 'just-right' amounts to a free energy change of 1.23 eV for each step. The more symmetric each step is in terms of free energy, the better is ability to catalyze the reaction. Using a sabitier analysis\n",
    "Rate = min(R1_max, R2_max, R3_max, R4_max) which directly translates to determining the thermodynamic overpotential, and the ESSI (electrochemical step symmetry index) or an equivalent measure of symmetry (MAD), we evaluate how efficient our catalyst is predicted to be in a kinetic sense.\n",
    "\n",
    "If the Ionization potential is greated than the free energy change of the rate determining step (i.e. G.max(axis=3)), then the photocatalyst is expected to oxidize water!"
   ]
  },
  {
   "cell_type": "markdown",
   "id": "014144a5",
   "metadata": {},
   "source": [
    "#### Things to do"
   ]
  },
  {
   "cell_type": "markdown",
   "id": "5c1559c5",
   "metadata": {},
   "source": [
    "1) Resolve ambiguities about IP-xTB (specifically concerning this empirical shift) and correlate these with IP-DFT\n",
    "2) Incorporate IP into the free energy expression (see Haralds Gold Nanorods paper)\n",
    "3) Determine whether these 2 things could place nice together... is it reasonable to combine these results\n",
    "4) HOMO energies instead\n",
    "4) Do our IP's change much conformer to conformer? Literature says no, but verifying would be good\n",
    "5) xTB-STDA for TD exciton binding energies and optical gap\n",
    "6) Fukui/partial charge scheme proposed earlier may be helpful\n",
    "7) FF's for finding most stable site (see also GFNFF)\n",
    "8) FF's for optimizing molecules... do they correlate with xTB energies?\n",
    "----------------------------------------------\n",
    "\n",
    "9) Fix filter_configurations() and perhaps discontinue use of the symmetry variant...\n",
    "10) Introduce 'ohess' runtype and parsing\n",
    "11) Fix any bugs left in the code\n",
    "12) Clean up modules\n",
    "------------------------------------------\n",
    "\n",
    "13) Log into clusters on campus and get some runs going\n",
    "14) create master_function to be called that evaluates a given molecule\n",
    "15) Start thinking about different molecules to implement (DA architectures, etc.)"
   ]
  },
  {
   "cell_type": "markdown",
   "id": "b242ad51",
   "metadata": {},
   "source": [
    "# 5) IP variation and conformers"
   ]
  },
  {
   "cell_type": "markdown",
   "id": "89ff9fc2",
   "metadata": {},
   "source": [
    "0.034eV 2sigma variation across 15 confs, 0.12 eV variation in the worst case (vtight optimized)\n",
    "0.066eV 2sigma variation across 15 confs, 0.17 eV variation in the worst case (loose optimized)\n",
    "0.056eV, 0.16eV (FF optimized)\n",
    "\n",
    "Regardless of optimization method, IP does not variation much at all between conformer.\n",
    "However, 0.15eV mean variation between vtight and ff optimized structures (0.46eV in the worst case)\n",
    "And, 0.034eV mean variation between vtight and loosely optimized (0.1729eV in worst case)\n",
    "Completely optimized conformers in general have the lowest IP's...\n",
    "\n",
    "##### Conclusion:\n",
    "The most realistic picture determined with moderate computational effort, is offered by 1 completely optimized conformer (lowest IP amongst optimization schemes, providing worst case driving force) that is on average 0.03eV away from other confs in IP (0.1eV in the worst case). \n",
    "\n",
    "Perform this analysis on multiple representative IP's!"
   ]
  },
  {
   "cell_type": "code",
   "execution_count": null,
   "id": "50ba3a8f",
   "metadata": {},
   "outputs": [],
   "source": [
    "from osc_discovery.descriptor_calculation.conformers import get_conformers_rdkit as get_conformers"
   ]
  },
  {
   "cell_type": "code",
   "execution_count": null,
   "id": "d6359981",
   "metadata": {},
   "outputs": [],
   "source": [
    "n_strings = 15\n",
    "smile_strings = [p.iloc[ri]['molecule_smiles'] for ri in np.random.randint(315451, size=n_strings)]"
   ]
  },
  {
   "cell_type": "code",
   "execution_count": null,
   "id": "18f9adef",
   "metadata": {
    "scrolled": true
   },
   "outputs": [],
   "source": [
    "calc_params = {'gfn':2, 'acc':0.2, 'etemp':298.15, 'strict':''} #, 'gbsa':'water'}\n",
    "confs_props = []\n",
    "\n",
    "for j, s in enumerate(smile_strings):\n",
    "    props = []\n",
    "    start = time.perf_counter()\n",
    "    \n",
    "    ### Prepare Substrate\n",
    "    sub_confs = get_conformers(s, n_cpu=2)\n",
    "    \n",
    "    for sc in sub_confs:\n",
    "        ### VIPEA\n",
    "        conf = single_run(sc, runtype='vipea', **calc_params)\n",
    "        ip = conf.info['ip'] / 1. - SHE_VACUUM_POTENTIAL\n",
    "        ehomo = conf.info['ehomo'] / -1. - SHE_VACUUM_POTENTIAL\n",
    "        \n",
    "        props.append([ip, ehomo])\n",
    "    \n",
    "    confs_props.append(props)\n",
    "    print(\"Took \", time.perf_counter() - start)\n",
    "    print(\"#####################################\")"
   ]
  },
  {
   "cell_type": "code",
   "execution_count": null,
   "id": "e5e830df",
   "metadata": {
    "scrolled": true
   },
   "outputs": [],
   "source": [
    "calc_params = {'gfn':2, 'acc':0.2, 'etemp':298.15, 'strict':''} #, 'gbsa':'water'}\n",
    "confs_props_loose = []\n",
    "confs_props_vtight = []\n",
    "\n",
    "for j, s in enumerate(smile_strings):\n",
    "    props_loose = []\n",
    "    props_vtight = []\n",
    "    start = time.perf_counter()\n",
    "    sub_confs = get_conformers(s, n_cpu=2)\n",
    "    \n",
    "    ### Loose\n",
    "    sub_confs_loose = multi_run(sub_confs, runtype='opt loose', keep_folders=False, calc_kwargs=calc_params, multi_process=4)\n",
    "    \n",
    "    for sc in sub_confs_loose:\n",
    "        ### VIPEA\n",
    "        conf = single_run(sc, runtype='vipea', **calc_params)\n",
    "        ip = conf.info['ip'] / 1. - SHE_VACUUM_POTENTIAL\n",
    "        ehomo = conf.info['ehomo'] / -1. - SHE_VACUUM_POTENTIAL\n",
    "        \n",
    "        props_loose.append([ip, ehomo])\n",
    "    \n",
    "    confs_props_loose.append(props_loose)\n",
    "    \n",
    "    ### Very tight\n",
    "    sub_confs_vtight = multi_run(sub_confs_loose, runtype='opt vtight', keep_folders=False, calc_kwargs=calc_params, multi_process=4)\n",
    "    \n",
    "    for sc in sub_confs_vtight:\n",
    "        ### VIPEA\n",
    "        conf = single_run(sc, runtype='vipea', **calc_params)\n",
    "        ip = conf.info['ip'] / 1. - SHE_VACUUM_POTENTIAL\n",
    "        ehomo = conf.info['ehomo'] / -1. - SHE_VACUUM_POTENTIAL\n",
    "        \n",
    "        props_vtight.append([ip, ehomo])\n",
    "    \n",
    "    confs_props_vtight.append(props_vtight)\n",
    "    \n",
    "    print(\"Took \", time.perf_counter() - start)\n",
    "    print(\"#####################################\")"
   ]
  },
  {
   "cell_type": "code",
   "execution_count": null,
   "id": "cf567cd6",
   "metadata": {},
   "outputs": [],
   "source": [
    "h = [[2*np.array(cf)[:, 0].std(), 2*np.array(cl)[:, 0].std(), 2*np.array(cv)[:, 0].std()] for cf, cl, cv in zip(confs_props, confs_props_loose, confs_props_vtight)]"
   ]
  },
  {
   "cell_type": "code",
   "execution_count": null,
   "id": "745bd8d0",
   "metadata": {},
   "outputs": [],
   "source": [
    "np.array(h).mean(axis=0)"
   ]
  },
  {
   "cell_type": "code",
   "execution_count": null,
   "id": "79c48060",
   "metadata": {},
   "outputs": [],
   "source": [
    "g = np.array([[np.array(cf)[:, 0].mean(), np.array(cl)[:, 0].mean(), np.array(cv)[:, 0].mean()] for cf, cl, cv in zip(confs_props, confs_props_loose, confs_props_vtight)])"
   ]
  },
  {
   "cell_type": "code",
   "execution_count": null,
   "id": "cd4c39b0",
   "metadata": {
    "scrolled": true
   },
   "outputs": [],
   "source": [
    "(g[:, 1] - g[:, 2]).max()"
   ]
  },
  {
   "cell_type": "markdown",
   "id": "db8e8432",
   "metadata": {},
   "source": [
    "## 8/9) FF's"
   ]
  },
  {
   "cell_type": "markdown",
   "id": "77717f12",
   "metadata": {},
   "source": [
    "FF optimized molecules (whether MMFF98 or GFNFF) with subsequent xTB single point evaluation, overestimate the energy and fail to reproduce the more accurate energies and ordering of configurations w.r.t. energy... sometimes these methods can locate the most stable site, other times not so much. Errors in energy on the order of 1-4 eV (especially bad for oxygen intermediate)."
   ]
  },
  {
   "cell_type": "code",
   "execution_count": null,
   "id": "2d9985a1",
   "metadata": {},
   "outputs": [],
   "source": [
    "from rdkit.Chem import AllChem\n",
    "from osc_discovery.photocatalysis.adsorption.helpers import ase2rdkit_valencies\n",
    "from osc_discovery.cheminformatics.cheminformatics_misc import rdkit2ase"
   ]
  },
  {
   "cell_type": "code",
   "execution_count": null,
   "id": "8521bce6",
   "metadata": {},
   "outputs": [],
   "source": [
    "def generate_opt_confs(molecule, numConfs=10, numThreads=4):\n",
    "    mol = ase2rdkit_valencies(molecule)\n",
    "    AllChem.EmbedMultipleConfs(mol, numConfs=numConfs, numThreads=numThreads)\n",
    "    ff_opt_energies = AllChem.MMFFOptimizeMoleculeConfs(mol, numThreads=numThreads)\n",
    "    \n",
    "    conformers = [rdkit2ase(mol, confId=j) for j in range(mol.GetNumConformers())]\n",
    "    # conformers_sorted = [c for _, c in sorted(zip(ff_opt_energies, conformers), key=lambda x: x[0][1])]\n",
    "    conformers_sorted = []\n",
    "    for e, c in sorted(zip(ff_opt_energies, conformers), key=lambda x: x[0][1]):\n",
    "        c.info['energy'] = e[1]\n",
    "        conformers_sorted.append(c)\n",
    "        \n",
    "    return conformers_sorted"
   ]
  },
  {
   "cell_type": "code",
   "execution_count": null,
   "id": "4d3ba986",
   "metadata": {},
   "outputs": [],
   "source": [
    "qs = np.array([sub.info['qs'][i] for i in sub.info['equivalent_atoms']])\n",
    "qs = sub.info['qs']"
   ]
  },
  {
   "cell_type": "code",
   "execution_count": null,
   "id": "78b5b458",
   "metadata": {
    "scrolled": false
   },
   "outputs": [],
   "source": [
    "### Prepare Substrate\n",
    "calc_params = {'gfn':2, 'acc':0.2, 'etemp':298.15, 'strict':''} #, 'gbsa':'water'}\n",
    "sub, _ = prepare_substrate(smile_strings[11], calc_params, multi_process_conf=2, multi_process_sp=4)"
   ]
  },
  {
   "cell_type": "code",
   "execution_count": null,
   "id": "622dad56",
   "metadata": {
    "scrolled": true
   },
   "outputs": [],
   "source": [
    "### Build Configs\n",
    "configsOH, configsO, configsOOH = build_configurations(sub, key='equivalent_atoms')\n",
    "\n",
    "### FF optimize configurations\n",
    "start = time.perf_counter()\n",
    "ohff = [generate_opt_confs(c)[0] for c in configsOH]\n",
    "off = [generate_opt_confs(c)[0] for c in configsO]\n",
    "oohff = [generate_opt_confs(c)[0] for c in configsOOH]\n",
    "\n",
    "ohff  = multi_run(ohff, runtype='sp', keep_folders=False, calc_kwargs=calc_params, multi_process=6)\n",
    "off = multi_run(off, runtype='sp', keep_folders=False, calc_kwargs=calc_params, multi_process=6)\n",
    "oohff = multi_run(oohff, runtype='sp', keep_folders=False, calc_kwargs=calc_params, multi_process=6)\n",
    "\n",
    "### GFNFF optimized\n",
    "ff_calc_params = {'gfnff':'', 'acc':0.2, 'etemp':298.15}\n",
    "ohgff  = multi_run(configsOH, runtype='opt vtight', keep_folders=False, calc_kwargs=ff_calc_params, multi_process=6)\n",
    "ogff = multi_run(configsO, runtype='opt vtight', keep_folders=False, calc_kwargs=ff_calc_params, multi_process=6)\n",
    "oohgff = multi_run(configsOOH, runtype='opt vtight', keep_folders=False, calc_kwargs=ff_calc_params, multi_process=6)\n",
    "\n",
    "ohgff  = multi_run(ohgff, runtype='sp', keep_folders=False, calc_kwargs=calc_params, multi_process=6)\n",
    "ogff = multi_run(ogff, runtype='sp', keep_folders=False, calc_kwargs=calc_params, multi_process=6)\n",
    "oohgff = multi_run(oohgff, runtype='sp', keep_folders=False, calc_kwargs=calc_params, multi_process=6)\n",
    "\n",
    "# ohff = filter_configurations(ohff, sub)\n",
    "# off = filter_configurations(off, sub)\n",
    "# oohff = filter_configurations(oohff, sub)\n",
    "print(\"FF opt took\", time.perf_counter() - start)\n",
    "\n",
    "### Loosely optimize configs\n",
    "start = time.perf_counter()\n",
    "oh  = multi_run(configsOH, runtype='opt loose', keep_folders=False, calc_kwargs=calc_params, multi_process=6)\n",
    "o = multi_run(configsO, runtype='opt loose', keep_folders=False, calc_kwargs=calc_params, multi_process=6)\n",
    "ooh = multi_run(configsOOH, runtype='opt loose', keep_folders=False, calc_kwargs=calc_params, multi_process=6)\n",
    "\n",
    "# oh = filter_configurations(oh, sub)\n",
    "# o = filter_configurations(o, sub)\n",
    "# ooh = filter_configurations(ooh, sub)\n",
    "print(\"xtb loose opt took\", time.perf_counter() - start)"
   ]
  },
  {
   "cell_type": "code",
   "execution_count": null,
   "id": "c5f4aaf0",
   "metadata": {},
   "outputs": [],
   "source": [
    "eohff = np.array([t.info['energy'] for t in ohff])\n",
    "eoff = np.array([t.info['energy'] for t in off])\n",
    "eoohff = np.array([t.info['energy'] for t in oohff])\n",
    "\n",
    "eohgff = np.array([t.info['energy'] for t in ohgff])\n",
    "eogff = np.array([t.info['energy'] for t in ogff])\n",
    "eoohgff = np.array([t.info['energy'] for t in oohgff])\n",
    "\n",
    "eoh = np.array([t.info['energy'] for t in oh])\n",
    "eo = np.array([t.info['energy'] for t in o])\n",
    "eooh = np.array([t.info['energy'] for t in ooh])"
   ]
  },
  {
   "cell_type": "code",
   "execution_count": null,
   "id": "c2d63889",
   "metadata": {
    "scrolled": false
   },
   "outputs": [],
   "source": [
    "plt.scatter(eoh, eohff)\n",
    "plt.scatter(eoh, eohgff)\n",
    "plt.plot(eoh, eoh, 'r')"
   ]
  },
  {
   "cell_type": "code",
   "execution_count": null,
   "id": "33d4fcd4",
   "metadata": {
    "scrolled": false
   },
   "outputs": [],
   "source": [
    "plt.scatter(eo, eoff)\n",
    "plt.scatter(eo, eogff)\n",
    "plt.plot(eo, eo, 'r')"
   ]
  },
  {
   "cell_type": "code",
   "execution_count": null,
   "id": "3d4ed3ef",
   "metadata": {},
   "outputs": [],
   "source": [
    "# plt.scatter(eooh, eoohff)\n",
    "plt.scatter(eooh, eoohgff)\n",
    "plt.plot(eooh, eooh, 'r')"
   ]
  },
  {
   "cell_type": "code",
   "execution_count": null,
   "id": "31e7f3a2",
   "metadata": {},
   "outputs": [],
   "source": [
    "eohff.argsort(), eoff.argsort(), eoohff.argsort()"
   ]
  },
  {
   "cell_type": "code",
   "execution_count": null,
   "id": "bae9f2a4",
   "metadata": {},
   "outputs": [],
   "source": [
    "eohgff.argsort(), eogff.argsort(), eoohgff.argsort()"
   ]
  },
  {
   "cell_type": "code",
   "execution_count": null,
   "id": "bb3690ab",
   "metadata": {
    "scrolled": false
   },
   "outputs": [],
   "source": [
    "eoh.argsort(), eo.argsort(), eooh.argsort()"
   ]
  },
  {
   "cell_type": "markdown",
   "id": "f87bae88",
   "metadata": {},
   "source": [
    "perhaps using FF's to speed up optimization?\n",
    "\n",
    "Turns out to be faster, but doesn't reproduce loose opt. Still might be useful to generate additional confs though"
   ]
  },
  {
   "cell_type": "code",
   "execution_count": null,
   "id": "ac7f560c",
   "metadata": {},
   "outputs": [],
   "source": [
    "### Loosely optimize configs\n",
    "start = time.perf_counter()\n",
    "oh  = multi_run(configsOH, runtype='opt loose', keep_folders=False, calc_kwargs=calc_params, multi_process=6)\n",
    "o = multi_run(configsO, runtype='opt loose', keep_folders=False, calc_kwargs=calc_params, multi_process=6)\n",
    "ooh = multi_run(configsOOH, runtype='opt loose', keep_folders=False, calc_kwargs=calc_params, multi_process=6)\n",
    "print(\"xtb loose opt took\", time.perf_counter() - start)"
   ]
  },
  {
   "cell_type": "code",
   "execution_count": null,
   "id": "1f91b6c3",
   "metadata": {
    "scrolled": true
   },
   "outputs": [],
   "source": [
    "### GFNFF optimized, and subsequent loose opt\n",
    "start = time.perf_counter()\n",
    "ff_calc_params = {'gfnff':'', 'acc':0.2, 'etemp':298.15}\n",
    "ohgff  = multi_run(configsOH, runtype='opt vtight', keep_folders=False, calc_kwargs=ff_calc_params, multi_process=6)\n",
    "ogff = multi_run(configsO, runtype='opt vtight', keep_folders=False, calc_kwargs=ff_calc_params, multi_process=6)\n",
    "oohgff = multi_run(configsOOH, runtype='opt vtight', keep_folders=False, calc_kwargs=ff_calc_params, multi_process=6)\n",
    "\n",
    "ohgff  = multi_run(ohgff, runtype='opt loose', keep_folders=False, calc_kwargs=calc_params, multi_process=6)\n",
    "ogff = multi_run(ogff, runtype='opt loose', keep_folders=False, calc_kwargs=calc_params, multi_process=6)\n",
    "oohgff = multi_run(oohgff, runtype='opt loose', keep_folders=False, calc_kwargs=calc_params, multi_process=6)\n",
    "print(\"xtb loose opt took\", time.perf_counter() - start)"
   ]
  },
  {
   "cell_type": "code",
   "execution_count": null,
   "id": "f47810fe",
   "metadata": {},
   "outputs": [],
   "source": [
    "eoh = np.array([t.info['energy'] for t in oh])\n",
    "eo = np.array([t.info['energy'] for t in o])\n",
    "eooh = np.array([t.info['energy'] for t in ooh])\n",
    "\n",
    "eohgff = np.array([t.info['energy'] for t in ohgff])\n",
    "eogff = np.array([t.info['energy'] for t in ogff])\n",
    "eoohgff = np.array([t.info['energy'] for t in oohgff])"
   ]
  },
  {
   "cell_type": "code",
   "execution_count": null,
   "id": "2529cf5b",
   "metadata": {},
   "outputs": [],
   "source": [
    "eoh.argsort()"
   ]
  },
  {
   "cell_type": "code",
   "execution_count": null,
   "id": "0e80e465",
   "metadata": {},
   "outputs": [],
   "source": [
    "eohgff.argsort()"
   ]
  },
  {
   "cell_type": "code",
   "execution_count": null,
   "id": "53a6f716",
   "metadata": {},
   "outputs": [],
   "source": [
    "test = filter_configurations(oh, sub)\n",
    "testff = filter_configurations(oh+ohgff, sub)"
   ]
  },
  {
   "cell_type": "code",
   "execution_count": null,
   "id": "82d733ed",
   "metadata": {},
   "outputs": [],
   "source": [
    "np.array([t.info['energy'] for t in test]) - np.array([t.info['energy'] for t in testff])[:17]"
   ]
  },
  {
   "cell_type": "code",
   "execution_count": null,
   "id": "c08b7d9c",
   "metadata": {
    "scrolled": true
   },
   "outputs": [],
   "source": [
    "[t.info['active_site'] for t in test], [t.info['active_site'] for t in testff]"
   ]
  },
  {
   "cell_type": "code",
   "execution_count": null,
   "id": "bafcb0d2",
   "metadata": {},
   "outputs": [],
   "source": [
    "np.array([t.info['energy'] for t in test]).argsort()"
   ]
  },
  {
   "cell_type": "code",
   "execution_count": null,
   "id": "b7f99bd8",
   "metadata": {},
   "outputs": [],
   "source": [
    "np.array([t.info['energy'] for t in testff]).argsort()"
   ]
  },
  {
   "cell_type": "markdown",
   "id": "e725d0f3",
   "metadata": {},
   "source": [
    "## 7) Fukui and Partial charges"
   ]
  },
  {
   "cell_type": "markdown",
   "id": "55ea4279",
   "metadata": {},
   "source": [
    "Not worth it"
   ]
  },
  {
   "cell_type": "code",
   "execution_count": null,
   "id": "7640c210",
   "metadata": {},
   "outputs": [],
   "source": [
    "sub = single_run(sub, runtype='vfukui', **calc_params)"
   ]
  },
  {
   "cell_type": "code",
   "execution_count": null,
   "id": "32b3c79d",
   "metadata": {},
   "outputs": [],
   "source": [
    "test = filter_configurations(oh, sub)"
   ]
  },
  {
   "cell_type": "code",
   "execution_count": null,
   "id": "1c942aa7",
   "metadata": {},
   "outputs": [],
   "source": [
    "qsoh = np.array([qs[t.info['active_site']] for t in test])\n",
    "eoh_filt = np.array([t.info['energy'] for t in test])"
   ]
  },
  {
   "cell_type": "code",
   "execution_count": null,
   "id": "45962b87",
   "metadata": {
    "scrolled": false
   },
   "outputs": [],
   "source": [
    "qsoh[eoh_filt.argsort()]"
   ]
  },
  {
   "cell_type": "code",
   "execution_count": null,
   "id": "4c719cbe",
   "metadata": {},
   "outputs": [],
   "source": [
    "eoh_filt.argsort()"
   ]
  },
  {
   "cell_type": "code",
   "execution_count": null,
   "id": "9440a54c",
   "metadata": {},
   "outputs": [],
   "source": [
    "qsoh.argsort()[::-1]"
   ]
  },
  {
   "cell_type": "markdown",
   "id": "863b175c",
   "metadata": {},
   "source": [
    "Testing filter_configs"
   ]
  },
  {
   "cell_type": "code",
   "execution_count": null,
   "id": "abe91843",
   "metadata": {},
   "outputs": [],
   "source": [
    "from osc_discovery.photocatalysis.thermodynamics.constants import dG1_REST, dG2_REST, dG3_REST, dG4_REST"
   ]
  },
  {
   "cell_type": "code",
   "execution_count": null,
   "id": "6f2aa7fc",
   "metadata": {},
   "outputs": [],
   "source": [
    "dG1_REST, dG2_REST, dG3_REST, dG4_REST"
   ]
  }
 ],
 "metadata": {
  "kernelspec": {
   "display_name": "Python 3 (ipykernel)",
   "language": "python",
   "name": "python3"
  },
  "language_info": {
   "codemirror_mode": {
    "name": "ipython",
    "version": 3
   },
   "file_extension": ".py",
   "mimetype": "text/x-python",
   "name": "python",
   "nbconvert_exporter": "python",
   "pygments_lexer": "ipython3",
   "version": "3.11.3"
  }
 },
 "nbformat": 4,
 "nbformat_minor": 5
}
