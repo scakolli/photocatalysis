{
 "cells": [
  {
   "cell_type": "code",
   "execution_count": 22,
   "id": "af411947",
   "metadata": {},
   "outputs": [],
   "source": [
    "import numpy as np\n",
    "import pandas as pd\n",
    "import os\n",
    "import matplotlib.pyplot as plt\n",
    "\n",
    "from rdkit import Chem\n",
    "from rdkit.Chem import AllChem\n",
    "from rdkit.Chem.Draw import IPythonConsole\n",
    "IPythonConsole.drawOptions.addAtomIndices = True\n",
    "\n",
    "from osc_discovery.photocatalysis.evaluate import evaluate_substrate"
   ]
  },
  {
   "cell_type": "code",
   "execution_count": 4,
   "id": "1e143cd2",
   "metadata": {},
   "outputs": [
    {
     "name": "stdout",
     "output_type": "stream",
     "text": [
      "The autoreload extension is already loaded. To reload it, use:\n",
      "  %reload_ext autoreload\n"
     ]
    }
   ],
   "source": [
    "### For automatically reloading import modules... allows you to run changes to code in jupyter without having to reload\n",
    "%load_ext autoreload\n",
    "%autoreload 2\n",
    "\n",
    "# Read Dataframe containing entire chemical space\n",
    "path = os.getcwd() + '/data/'\n",
    "file = 'df_chemical_space_chons_4rings.json'\n",
    "p = pd.read_json(path+file, orient='split')\n",
    "\n",
    "# Change dir\n",
    "os.chdir('/home/scakolli/Thesis/osc_discovery/run')"
   ]
  },
  {
   "cell_type": "code",
   "execution_count": 9,
   "id": "69d1c87d",
   "metadata": {},
   "outputs": [
    {
     "data": {
      "image/png": "[encoded data removed]",
      "text/plain": [
       "<rdkit.Chem.rdchem.Mol at 0x7f20697d22d0>"
      ]
     },
     "execution_count": 9,
     "metadata": {},
     "output_type": "execute_result"
    }
   ],
   "source": [
    "# Pick a random molecule in the space and get its smile string\n",
    "rand_i = np.random.randint(315451)\n",
    "\n",
    "smi = p.iloc[rand_i]['molecule_smiles']\n",
    "\n",
    "# Draw chem\n",
    "rdkit_smi = Chem.MolFromSmiles(smi)\n",
    "rdkit_smi"
   ]
  },
  {
   "cell_type": "code",
   "execution_count": 16,
   "id": "9c016928",
   "metadata": {},
   "outputs": [],
   "source": [
    "calc_params = {'gfn':2, 'acc':0.2, 'etemp':298.15, 'strict':'', 'gbsa':'water'}\n",
    "\n",
    "n_strings = 15\n",
    "smile_strings = [p.iloc[ri]['molecule_smiles'] for ri in np.random.randint(315451, size=n_strings)]"
   ]
  },
  {
   "cell_type": "code",
   "execution_count": 17,
   "id": "d420c318",
   "metadata": {},
   "outputs": [
    {
     "name": "stderr",
     "output_type": "stream",
     "text": [
      "2023-06-21 20:32:27,170 | INFO: Preparing substrate\n"
     ]
    },
    {
     "name": "stdout",
     "output_type": "stream",
     "text": [
      "iter 0\n",
      "Number of rotatable bonds: 0, O=c1ccc(C#CC2=CC(=C3C=CC=C3)C=C2C#Cc2ccc(=O)[nH]c2)c[nH]1\n",
      "1) Embedding conformers (50). Using 2 processes\n",
      "Took: 1.2466058731079102 s\n",
      "2) Minimizing 50 conformers (mmff94)\n",
      "Took: 2.1893486976623535 s\n",
      "3) Pruning conformers (RMSD threshold: 0.35 Ang)\n",
      "Took: 1.2058069705963135 s\n",
      "Number of conformers found: 16\n"
     ]
    },
    {
     "name": "stderr",
     "output_type": "stream",
     "text": [
      "2023-06-21 20:32:42,001 | INFO: Building and relaxing configurations\n",
      "2023-06-21 20:32:42,016 | INFO: Jobs to do: 13\n",
      "2023-06-21 20:32:57,706 | INFO: Finished jobs. Took 15.688623000001826s\n",
      "2023-06-21 20:32:57,715 | INFO: Jobs to do: 13\n",
      "2023-06-21 20:33:07,204 | INFO: Finished jobs. Took 9.48712230000092s\n",
      "2023-06-21 20:33:07,211 | INFO: Jobs to do: 13\n",
      "2023-06-21 20:33:25,400 | INFO: Finished jobs. Took 18.184420800003863s\n",
      "2023-06-21 20:33:25,944 | INFO: Calculating thermochemical properties\n",
      "2023-06-21 20:33:25,946 | INFO: Jobs to do: 3\n",
      "2023-06-21 20:33:53,998 | INFO: Finished jobs. Took 28.05118759999459s\n",
      "2023-06-21 20:33:54,008 | INFO: Evaluation Took 86.83635720000166s\n",
      "2023-06-21 20:33:54,010 | INFO: Preparing substrate\n"
     ]
    },
    {
     "name": "stdout",
     "output_type": "stream",
     "text": [
      "#######################\n",
      "iter 1\n",
      "Number of rotatable bonds: 4, C(=Cc1c(C2=CCC=N2)cccc1C1=CCC=N1)C1=CCN=C1\n",
      "1) Embedding conformers (50). Using 2 processes\n",
      "Took: 0.965003252029419 s\n",
      "2) Minimizing 50 conformers (mmff94)\n",
      "Took: 1.522200345993042 s\n",
      "3) Pruning conformers (RMSD threshold: 0.35 Ang)\n",
      "Took: 1.0925626754760742 s\n",
      "Number of conformers found: 13\n"
     ]
    },
    {
     "name": "stderr",
     "output_type": "stream",
     "text": [
      "2023-06-21 20:34:03,746 | INFO: Building and relaxing configurations\n",
      "2023-06-21 20:34:03,849 | INFO: Jobs to do: 18\n",
      "2023-06-21 20:34:21,237 | INFO: Finished jobs. Took 17.38687810000556s\n",
      "2023-06-21 20:34:21,243 | INFO: Jobs to do: 18\n",
      "2023-06-21 20:34:31,448 | INFO: Finished jobs. Took 10.202751400000125s\n",
      "2023-06-21 20:34:31,455 | INFO: Jobs to do: 18\n",
      "2023-06-21 20:34:57,147 | INFO: Finished jobs. Took 25.690168599998287s\n",
      "2023-06-21 20:34:57,861 | INFO: Calculating thermochemical properties\n",
      "2023-06-21 20:34:57,862 | INFO: Jobs to do: 3\n",
      "2023-06-21 20:35:18,677 | INFO: Finished jobs. Took 20.814279699996405s\n",
      "2023-06-21 20:35:18,684 | INFO: Evaluation Took 84.67227339999954s\n",
      "2023-06-21 20:35:18,688 | INFO: Preparing substrate\n"
     ]
    },
    {
     "name": "stdout",
     "output_type": "stream",
     "text": [
      "#######################\n",
      "iter 2\n",
      "Number of rotatable bonds: 2, C(#Cc1cc(C2=CN=CC2)cc(C2=CN=CC2)c1)c1ccccc1\n",
      "1) Embedding conformers (50). Using 2 processes\n",
      "Took: 0.9932675361633301 s\n",
      "2) Minimizing 50 conformers (mmff94)\n",
      "Took: 1.6857163906097412 s\n",
      "3) Pruning conformers (RMSD threshold: 0.35 Ang)\n",
      "Took: 0.3879876136779785 s\n",
      "Number of conformers found: 5\n"
     ]
    },
    {
     "name": "stderr",
     "output_type": "stream",
     "text": [
      "2023-06-21 20:35:26,961 | INFO: Building and relaxing configurations\n",
      "2023-06-21 20:35:27,084 | INFO: Jobs to do: 21\n",
      "2023-06-21 20:35:43,896 | INFO: Finished jobs. Took 16.81207710000308s\n",
      "2023-06-21 20:35:43,903 | INFO: Jobs to do: 21\n",
      "2023-06-21 20:35:54,832 | INFO: Finished jobs. Took 10.925558299997647s\n",
      "2023-06-21 20:35:54,838 | INFO: Jobs to do: 21\n",
      "2023-06-21 20:36:16,148 | INFO: Finished jobs. Took 21.305852999998024s\n",
      "2023-06-21 20:36:16,980 | INFO: Calculating thermochemical properties\n",
      "2023-06-21 20:36:16,982 | INFO: Jobs to do: 3\n",
      "2023-06-21 20:36:48,952 | INFO: Finished jobs. Took 31.96929450000607s\n",
      "2023-06-21 20:36:48,958 | INFO: Evaluation Took 90.26872529999673s\n",
      "2023-06-21 20:36:48,961 | INFO: Preparing substrate\n"
     ]
    },
    {
     "name": "stdout",
     "output_type": "stream",
     "text": [
      "#######################\n",
      "iter 3\n",
      "Number of rotatable bonds: 2, O=c1ccc(C#Cc2cc(C3=CC=CC3)cc(C3=CC=CC3)c2)c[nH]1\n",
      "1) Embedding conformers (50). Using 2 processes\n",
      "Took: 0.9219191074371338 s\n",
      "2) Minimizing 50 conformers (mmff94)\n",
      "Took: 1.739624261856079 s\n",
      "3) Pruning conformers (RMSD threshold: 0.35 Ang)\n",
      "Took: 1.0948479175567627 s\n",
      "Number of conformers found: 6\n"
     ]
    },
    {
     "name": "stderr",
     "output_type": "stream",
     "text": [
      "2023-06-21 20:36:59,436 | INFO: Building and relaxing configurations\n",
      "2023-06-21 20:36:59,457 | INFO: Jobs to do: 16\n",
      "2023-06-21 20:37:13,153 | INFO: Finished jobs. Took 13.694100799999433s\n",
      "2023-06-21 20:37:13,160 | INFO: Jobs to do: 16\n",
      "2023-06-21 20:37:25,315 | INFO: Finished jobs. Took 12.151150900004723s\n",
      "2023-06-21 20:37:25,322 | INFO: Jobs to do: 16\n",
      "2023-06-21 20:37:45,659 | INFO: Finished jobs. Took 20.331711399994674s\n",
      "2023-06-21 20:37:46,325 | INFO: Calculating thermochemical properties\n",
      "2023-06-21 20:37:46,327 | INFO: Jobs to do: 3\n",
      "2023-06-21 20:38:27,445 | INFO: Finished jobs. Took 41.11733919999824s\n",
      "2023-06-21 20:38:27,453 | INFO: Evaluation Took 98.48980470000242s\n",
      "2023-06-21 20:38:27,457 | INFO: Preparing substrate\n"
     ]
    },
    {
     "name": "stdout",
     "output_type": "stream",
     "text": [
      "#######################\n",
      "iter 4\n",
      "Number of rotatable bonds: 5, C1=CCC(Nc2cccc(NC3=CC=CC3)c2-c2cocn2)=C1\n",
      "1) Embedding conformers (50). Using 2 processes\n",
      "Took: 0.6444230079650879 s\n",
      "2) Minimizing 50 conformers (mmff94)\n",
      "Took: 1.6681227684020996 s\n",
      "3) Pruning conformers (RMSD threshold: 0.35 Ang)\n",
      "Took: 1.0851294994354248 s\n",
      "Number of conformers found: 17\n"
     ]
    },
    {
     "name": "stderr",
     "output_type": "stream",
     "text": [
      "2023-06-21 20:38:38,275 | INFO: Building and relaxing configurations\n",
      "2023-06-21 20:38:38,375 | INFO: Jobs to do: 20\n",
      "2023-06-21 20:38:55,403 | INFO: Finished jobs. Took 17.026879899996857s\n",
      "2023-06-21 20:38:55,410 | INFO: Jobs to do: 20\n",
      "2023-06-21 20:39:05,899 | INFO: Finished jobs. Took 10.48608279999462s\n",
      "2023-06-21 20:39:05,907 | INFO: Jobs to do: 20\n",
      "2023-06-21 20:39:28,669 | INFO: Finished jobs. Took 22.759848699999566s\n",
      "2023-06-21 20:39:29,460 | INFO: Calculating thermochemical properties\n",
      "2023-06-21 20:39:29,461 | INFO: Jobs to do: 3\n",
      "2023-06-21 20:39:50,844 | INFO: Finished jobs. Took 21.381949899994652s\n",
      "2023-06-21 20:39:50,851 | INFO: Evaluation Took 83.39236339999479s\n",
      "2023-06-21 20:39:50,854 | INFO: Preparing substrate\n"
     ]
    },
    {
     "name": "stdout",
     "output_type": "stream",
     "text": [
      "#######################\n",
      "iter 5\n",
      "Number of rotatable bonds: 0, c1ccccc1\n",
      "1) Embedding conformers (50). Using 2 processes\n",
      "Took: 0.024938583374023438 s\n",
      "2) Minimizing 50 conformers (mmff94)\n",
      "Took: 0.06325626373291016 s\n",
      "3) Pruning conformers (RMSD threshold: 0.35 Ang)\n",
      "Took: 1.0047073364257812 s\n",
      "Number of conformers found: 1\n"
     ]
    },
    {
     "name": "stderr",
     "output_type": "stream",
     "text": [
      "2023-06-21 20:39:52,387 | INFO: Building and relaxing configurations\n",
      "2023-06-21 20:39:52,390 | INFO: Jobs to do: 1\n",
      "2023-06-21 20:39:53,029 | INFO: Finished jobs. Took 0.637732800001686s\n",
      "2023-06-21 20:39:53,035 | INFO: Jobs to do: 1\n",
      "2023-06-21 20:39:53,532 | INFO: Finished jobs. Took 0.49429760000202805s\n",
      "2023-06-21 20:39:53,539 | INFO: Jobs to do: 1\n",
      "2023-06-21 20:39:54,289 | INFO: Finished jobs. Took 0.7474571999991895s\n",
      "2023-06-21 20:39:54,319 | INFO: Calculating thermochemical properties\n",
      "2023-06-21 20:39:54,320 | INFO: Jobs to do: 3\n",
      "2023-06-21 20:39:55,847 | INFO: Finished jobs. Took 1.5258471999986796s\n",
      "2023-06-21 20:39:55,854 | INFO: Evaluation Took 4.998329099995317s\n",
      "2023-06-21 20:39:55,856 | INFO: Preparing substrate\n"
     ]
    },
    {
     "name": "stdout",
     "output_type": "stream",
     "text": [
      "Substrate likely suitable for water oxidation\n",
      "Driving Potential (V) 2.9276999999999997 > Rate Determining Potential (V) 2.9169175692860847\n",
      "#######################\n",
      "iter 6\n",
      "Number of rotatable bonds: 4, O=c1cc[nH]cc1-c1cc(C=CC2=CCC=C2)cc(-c2c[nH]ccc2=O)c1\n",
      "1) Embedding conformers (50). Using 2 processes\n",
      "Took: 0.9656448364257812 s\n",
      "2) Minimizing 50 conformers (mmff94)\n",
      "Took: 2.09248685836792 s\n",
      "3) Pruning conformers (RMSD threshold: 0.35 Ang)\n",
      "Took: 1.0684518814086914 s\n",
      "Number of conformers found: 20\n"
     ]
    },
    {
     "name": "stderr",
     "output_type": "stream",
     "text": [
      "2023-06-21 20:40:09,605 | INFO: Building and relaxing configurations\n",
      "2023-06-21 20:40:09,625 | INFO: Jobs to do: 18\n",
      "2023-06-21 20:40:25,512 | INFO: Finished jobs. Took 15.886230299998715s\n",
      "2023-06-21 20:40:25,519 | INFO: Jobs to do: 18\n",
      "2023-06-21 20:40:38,749 | INFO: Finished jobs. Took 13.225645200000145s\n",
      "2023-06-21 20:40:38,756 | INFO: Jobs to do: 18\n",
      "2023-06-21 20:41:05,823 | INFO: Finished jobs. Took 27.065017400003853s\n",
      "2023-06-21 20:41:06,654 | INFO: Calculating thermochemical properties\n",
      "2023-06-21 20:41:06,657 | INFO: Jobs to do: 3\n",
      "2023-06-21 20:41:35,537 | INFO: Finished jobs. Took 28.879356099998404s\n",
      "2023-06-21 20:41:35,544 | INFO: Evaluation Took 99.68703300000197s\n",
      "2023-06-21 20:41:35,546 | INFO: Preparing substrate\n"
     ]
    },
    {
     "name": "stdout",
     "output_type": "stream",
     "text": [
      "#######################\n",
      "iter 7\n",
      "Number of rotatable bonds: 5, C1=CCC(C=Cc2cc(C3=COCO3)cc(C=CC3=CC=CC3)n2)=C1\n",
      "1) Embedding conformers (50). Using 2 processes\n",
      "Took: 1.3682477474212646 s\n",
      "2) Minimizing 50 conformers (mmff94)\n",
      "Took: 2.0964269638061523 s\n",
      "3) Pruning conformers (RMSD threshold: 0.35 Ang)\n",
      "Took: 1.2049729824066162 s\n",
      "Number of conformers found: 18\n"
     ]
    },
    {
     "name": "stderr",
     "output_type": "stream",
     "text": [
      "2023-06-21 20:41:47,668 | INFO: Building and relaxing configurations\n",
      "2023-06-21 20:41:47,752 | INFO: Jobs to do: 24\n",
      "2023-06-21 20:42:09,495 | INFO: Finished jobs. Took 21.741887700001826s\n",
      "2023-06-21 20:42:09,502 | INFO: Jobs to do: 24\n",
      "2023-06-21 20:42:23,628 | INFO: Finished jobs. Took 14.121482900001865s\n",
      "2023-06-21 20:42:23,635 | INFO: Jobs to do: 24\n",
      "2023-06-21 20:42:49,492 | INFO: Finished jobs. Took 25.852571300005366s\n",
      "2023-06-21 20:42:50,564 | INFO: Calculating thermochemical properties\n",
      "2023-06-21 20:42:50,565 | INFO: Jobs to do: 3\n",
      "2023-06-21 20:43:14,715 | INFO: Finished jobs. Took 24.148698299999523s\n",
      "2023-06-21 20:43:14,722 | INFO: Evaluation Took 99.17475349999586s\n",
      "2023-06-21 20:43:14,726 | INFO: Preparing substrate\n"
     ]
    },
    {
     "name": "stdout",
     "output_type": "stream",
     "text": [
      "#######################\n",
      "iter 8\n",
      "Number of rotatable bonds: 5, C(=Cc1cccc(C=Cc2ccccc2)c1-c1cnco1)c1ccccc1\n",
      "1) Embedding conformers (50). Using 2 processes\n",
      "Took: 0.9953842163085938 s\n",
      "2) Minimizing 50 conformers (mmff94)\n",
      "Took: 2.1589159965515137 s\n",
      "3) Pruning conformers (RMSD threshold: 0.35 Ang)\n",
      "Took: 1.1059153079986572 s\n",
      "Number of conformers found: 22\n"
     ]
    },
    {
     "name": "stderr",
     "output_type": "stream",
     "text": [
      "2023-06-21 20:43:28,621 | INFO: Building and relaxing configurations\n",
      "2023-06-21 20:43:28,806 | INFO: Jobs to do: 25\n",
      "2023-06-21 20:43:56,454 | INFO: Finished jobs. Took 27.646883699999307s\n",
      "2023-06-21 20:43:56,460 | INFO: Jobs to do: 25\n",
      "2023-06-21 20:44:14,352 | INFO: Finished jobs. Took 17.88802620000206s\n",
      "2023-06-21 20:44:14,360 | INFO: Jobs to do: 25\n",
      "2023-06-21 20:44:48,254 | INFO: Finished jobs. Took 33.89147519999824s\n",
      "2023-06-21 20:44:49,357 | INFO: Calculating thermochemical properties\n",
      "2023-06-21 20:44:49,358 | INFO: Jobs to do: 3\n",
      "2023-06-21 20:45:18,245 | INFO: Finished jobs. Took 28.886050300003262s\n",
      "2023-06-21 20:45:18,252 | INFO: Evaluation Took 123.52440809999825s\n",
      "2023-06-21 20:45:18,255 | INFO: Preparing substrate\n"
     ]
    },
    {
     "name": "stdout",
     "output_type": "stream",
     "text": [
      "#######################\n",
      "iter 9\n",
      "Number of rotatable bonds: 2, C1=CCC(C2=NC(=C3C=NC=N3)N=C2C2=CC=CC2)=C1\n",
      "1) Embedding conformers (50). Using 2 processes\n",
      "Took: 0.349395751953125 s\n",
      "2) Minimizing 50 conformers (mmff94)\n",
      "Took: 0.9812459945678711 s\n",
      "3) Pruning conformers (RMSD threshold: 0.35 Ang)\n",
      "Took: 1.161689281463623 s\n",
      "Number of conformers found: 8\n"
     ]
    },
    {
     "name": "stderr",
     "output_type": "stream",
     "text": [
      "2023-06-21 20:45:25,042 | INFO: Building and relaxing configurations\n",
      "2023-06-21 20:45:25,266 | INFO: Jobs to do: 19\n",
      "2023-06-21 20:45:38,162 | INFO: Finished jobs. Took 12.894733000000997s\n",
      "2023-06-21 20:45:38,170 | INFO: Jobs to do: 19\n",
      "2023-06-21 20:45:50,064 | INFO: Finished jobs. Took 11.89178869999887s\n",
      "2023-06-21 20:45:50,071 | INFO: Jobs to do: 19\n",
      "2023-06-21 20:46:06,487 | INFO: Finished jobs. Took 16.41157640000165s\n",
      "2023-06-21 20:46:07,130 | INFO: Calculating thermochemical properties\n",
      "2023-06-21 20:46:07,131 | INFO: Jobs to do: 3\n",
      "2023-06-21 20:46:19,583 | INFO: Finished jobs. Took 12.451221000002988s\n",
      "2023-06-21 20:46:19,591 | INFO: Evaluation Took 61.33467879999807s\n",
      "2023-06-21 20:46:19,593 | INFO: Preparing substrate\n"
     ]
    },
    {
     "name": "stdout",
     "output_type": "stream",
     "text": [
      "Substrate likely suitable for water oxidation\n",
      "Driving Potential (V) 1.9581 > Rate Determining Potential (V) 1.8860279572217848\n",
      "#######################\n",
      "iter 10\n",
      "Number of rotatable bonds: 0, C(#Cc1ncccn1)c1cccc(C#Cc2ncccn2)c1\n",
      "1) Embedding conformers (50). Using 2 processes\n",
      "Took: 0.8526129722595215 s\n",
      "2) Minimizing 50 conformers (mmff94)\n",
      "Took: 1.0481786727905273 s\n",
      "3) Pruning conformers (RMSD threshold: 0.35 Ang)\n",
      "Took: 1.0214927196502686 s\n",
      "Number of conformers found: 5\n"
     ]
    },
    {
     "name": "stderr",
     "output_type": "stream",
     "text": [
      "2023-06-21 20:46:25,649 | INFO: Building and relaxing configurations\n",
      "2023-06-21 20:46:25,693 | INFO: Jobs to do: 11\n",
      "2023-06-21 20:46:31,581 | INFO: Finished jobs. Took 5.887527200000477s\n",
      "2023-06-21 20:46:31,587 | INFO: Jobs to do: 11\n",
      "2023-06-21 20:46:38,211 | INFO: Finished jobs. Took 6.619244500005152s\n",
      "2023-06-21 20:46:38,220 | INFO: Jobs to do: 11\n",
      "2023-06-21 20:46:49,302 | INFO: Finished jobs. Took 11.080679400001827s\n",
      "2023-06-21 20:46:49,672 | INFO: Calculating thermochemical properties\n",
      "2023-06-21 20:46:49,673 | INFO: Jobs to do: 3\n",
      "2023-06-21 20:47:05,957 | INFO: Finished jobs. Took 16.282713100001274s\n",
      "2023-06-21 20:47:05,964 | INFO: Evaluation Took 46.368580700000166s\n",
      "2023-06-21 20:47:05,966 | INFO: Preparing substrate\n"
     ]
    },
    {
     "name": "stdout",
     "output_type": "stream",
     "text": [
      "#######################\n",
      "iter 11\n",
      "Number of rotatable bonds: 0, C1=c2cc3ccccc3cc2=CC1=C1N=NN=N1\n",
      "1) Embedding conformers (50). Using 2 processes\n",
      "Took: 0.19937801361083984 s\n",
      "2) Minimizing 50 conformers (mmff94)\n",
      "Took: 0.3594529628753662 s\n",
      "3) Pruning conformers (RMSD threshold: 0.35 Ang)\n",
      "Took: 1.0043773651123047 s\n",
      "Number of conformers found: 1\n"
     ]
    },
    {
     "name": "stderr",
     "output_type": "stream",
     "text": [
      "2023-06-21 20:47:09,969 | INFO: Building and relaxing configurations\n",
      "2023-06-21 20:47:10,104 | INFO: Jobs to do: 12\n",
      "2023-06-21 20:47:15,423 | INFO: Finished jobs. Took 5.317482300000847s\n",
      "2023-06-21 20:47:15,429 | INFO: Jobs to do: 12\n",
      "2023-06-21 20:47:23,835 | INFO: Finished jobs. Took 8.402866399999766s\n",
      "2023-06-21 20:47:23,843 | INFO: Jobs to do: 12\n",
      "2023-06-21 20:47:31,456 | INFO: Finished jobs. Took 7.611226799999713s\n",
      "2023-06-21 20:47:31,791 | INFO: Calculating thermochemical properties\n",
      "2023-06-21 20:47:31,792 | INFO: Jobs to do: 3\n",
      "2023-06-21 20:47:40,982 | INFO: Finished jobs. Took 9.188338699997985s\n",
      "2023-06-21 20:47:40,989 | INFO: Evaluation Took 35.02058599999873s\n",
      "2023-06-21 20:47:40,991 | INFO: Preparing substrate\n"
     ]
    },
    {
     "name": "stdout",
     "output_type": "stream",
     "text": [
      "#######################\n",
      "iter 12\n",
      "Number of rotatable bonds: 1, C(#Cc1cc(C2=CC=NC2)cc(C#Cc2cc[nH]c2)n1)c1cc[nH]c1\n",
      "1) Embedding conformers (50). Using 2 processes\n",
      "Took: 0.8893532752990723 s\n",
      "2) Minimizing 50 conformers (mmff94)\n",
      "Took: 1.5941271781921387 s\n",
      "3) Pruning conformers (RMSD threshold: 0.35 Ang)\n",
      "Took: 1.0639166831970215 s\n",
      "Number of conformers found: 25\n"
     ]
    },
    {
     "name": "stderr",
     "output_type": "stream",
     "text": [
      "2023-06-21 20:47:51,456 | INFO: Building and relaxing configurations\n",
      "2023-06-21 20:47:51,518 | INFO: Jobs to do: 16\n",
      "2023-06-21 20:48:05,445 | INFO: Finished jobs. Took 13.92616960000305s\n",
      "2023-06-21 20:48:05,452 | INFO: Jobs to do: 16\n",
      "2023-06-21 20:48:17,706 | INFO: Finished jobs. Took 12.249789099994814s\n",
      "2023-06-21 20:48:17,713 | INFO: Jobs to do: 16\n",
      "2023-06-21 20:48:36,740 | INFO: Finished jobs. Took 19.024517099998775s\n",
      "2023-06-21 20:48:37,377 | INFO: Calculating thermochemical properties\n",
      "2023-06-21 20:48:37,378 | INFO: Jobs to do: 3\n",
      "2023-06-21 20:48:58,637 | INFO: Finished jobs. Took 21.25750899999548s\n",
      "2023-06-21 20:48:58,644 | INFO: Evaluation Took 77.6514462999985s\n",
      "2023-06-21 20:48:58,647 | INFO: Preparing substrate\n"
     ]
    },
    {
     "name": "stdout",
     "output_type": "stream",
     "text": [
      "#######################\n",
      "iter 13\n",
      "Number of rotatable bonds: 0, C1=CC(=C2c3cnccc3-c3ncccc32)C=C1\n",
      "1) Embedding conformers (50). Using 2 processes\n",
      "Took: 0.3039546012878418 s\n",
      "2) Minimizing 50 conformers (mmff94)\n",
      "Took: 0.5128989219665527 s\n",
      "3) Pruning conformers (RMSD threshold: 0.35 Ang)\n",
      "Took: 1.0775837898254395 s\n",
      "Number of conformers found: 1\n"
     ]
    },
    {
     "name": "stderr",
     "output_type": "stream",
     "text": [
      "2023-06-21 20:49:04,144 | INFO: Building and relaxing configurations\n",
      "2023-06-21 20:49:04,233 | INFO: Jobs to do: 18\n",
      "2023-06-21 20:49:11,905 | INFO: Finished jobs. Took 7.671300899994094s\n",
      "2023-06-21 20:49:11,913 | INFO: Jobs to do: 18\n",
      "2023-06-21 20:49:19,040 | INFO: Finished jobs. Took 7.124625900003593s\n",
      "2023-06-21 20:49:19,047 | INFO: Jobs to do: 18\n",
      "2023-06-21 20:49:30,533 | INFO: Finished jobs. Took 11.483000500003982s\n",
      "2023-06-21 20:49:31,073 | INFO: Calculating thermochemical properties\n",
      "2023-06-21 20:49:31,074 | INFO: Jobs to do: 3\n",
      "2023-06-21 20:49:41,764 | INFO: Finished jobs. Took 10.689356900002167s\n",
      "2023-06-21 20:49:41,772 | INFO: Evaluation Took 43.122831900000165s\n",
      "2023-06-21 20:49:41,775 | INFO: Preparing substrate\n"
     ]
    },
    {
     "name": "stdout",
     "output_type": "stream",
     "text": [
      "#######################\n",
      "iter 14\n",
      "Number of rotatable bonds: 5, C(=Cc1cccc(C=Cc2ccco2)c1C1=CCN=N1)c1ccco1\n",
      "1) Embedding conformers (50). Using 2 processes\n",
      "Took: 0.7062661647796631 s\n",
      "2) Minimizing 50 conformers (mmff94)\n",
      "Took: 1.759472370147705 s\n",
      "3) Pruning conformers (RMSD threshold: 0.35 Ang)\n",
      "Took: 1.0944247245788574 s\n",
      "Number of conformers found: 35\n"
     ]
    },
    {
     "name": "stderr",
     "output_type": "stream",
     "text": [
      "2023-06-21 20:49:53,086 | INFO: Building and relaxing configurations\n",
      "2023-06-21 20:49:53,293 | INFO: Jobs to do: 27\n",
      "2023-06-21 20:50:18,069 | INFO: Finished jobs. Took 24.77547649999906s\n",
      "2023-06-21 20:50:18,076 | INFO: Jobs to do: 27\n",
      "2023-06-21 20:50:31,414 | INFO: Finished jobs. Took 13.33370410000498s\n",
      "2023-06-21 20:50:31,424 | INFO: Jobs to do: 27\n",
      "2023-06-21 20:51:11,124 | INFO: Finished jobs. Took 39.69847180000215s\n",
      "2023-06-21 20:51:12,243 | INFO: Calculating thermochemical properties\n",
      "2023-06-21 20:51:12,244 | INFO: Jobs to do: 3\n",
      "2023-06-21 20:51:36,884 | INFO: Finished jobs. Took 24.638046799998847s\n",
      "2023-06-21 20:51:36,890 | INFO: Evaluation Took 115.11429330000101s\n"
     ]
    },
    {
     "name": "stdout",
     "output_type": "stream",
     "text": [
      "#######################\n"
     ]
    }
   ],
   "source": [
    "props = []\n",
    "for j, s in enumerate(smile_strings):\n",
    "    print(f'iter {j}')\n",
    "    props.append(evaluate_substrate(s, calc_params))"
   ]
  },
  {
   "cell_type": "code",
   "execution_count": 20,
   "id": "09ed4523",
   "metadata": {},
   "outputs": [],
   "source": [
    "ips = [p[0] for p in props]\n",
    "rdgs = [p[1] for p in props]"
   ]
  },
  {
   "cell_type": "code",
   "execution_count": 23,
   "id": "51fd73ab",
   "metadata": {},
   "outputs": [
    {
     "data": {
      "text/plain": [
       "<matplotlib.collections.PathCollection at 0x7f20726a7d10>"
      ]
     },
     "execution_count": 23,
     "metadata": {},
     "output_type": "execute_result"
    },
    {
     "data": {
      "image/png": "[encoded data removed]",
      "text/plain": [
       "<Figure size 640x480 with 1 Axes>"
      ]
     },
     "metadata": {},
     "output_type": "display_data"
    }
   ],
   "source": [
    "plt.scatter(ips, rdgs)"
   ]
  }
 ],
 "metadata": {
  "kernelspec": {
   "display_name": "Python 3 (ipykernel)",
   "language": "python",
   "name": "python3"
  },
  "language_info": {
   "codemirror_mode": {
    "name": "ipython",
    "version": 3
   },
   "file_extension": ".py",
   "mimetype": "text/x-python",
   "name": "python",
   "nbconvert_exporter": "python",
   "pygments_lexer": "ipython3",
   "version": "3.11.3"
  }
 },
 "nbformat": 4,
 "nbformat_minor": 5
}
