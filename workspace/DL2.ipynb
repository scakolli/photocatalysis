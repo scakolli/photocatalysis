{
 "cells": [
  {
   "cell_type": "code",
   "execution_count": 1,
   "metadata": {},
   "outputs": [],
   "source": [
    "### For automatically reloading import modules... allows you to run changes to code in jupyter without having to reload\n",
    "%load_ext autoreload\n",
    "%autoreload 2"
   ]
  },
  {
   "cell_type": "code",
   "execution_count": 2,
   "metadata": {},
   "outputs": [],
   "source": [
    "# import zipfile\n",
    "# import h5py\n",
    "import os\n",
    "import sys\n",
    "import time\n",
    "import timeit\n",
    "import pickle\n",
    "\n",
    "import numpy as np\n",
    "import matplotlib.pyplot as plt\n",
    "import pandas as pd\n",
    "\n",
    "from sklearn.model_selection import train_test_split\n",
    "\n",
    "from tqdm import tqdm\n",
    "\n",
    "from rdkit import Chem\n",
    "from rdkit.Chem.Draw import IPythonConsole\n",
    "IPythonConsole.drawOptions.addAtomIndices = True\n",
    "\n",
    "from photocatalysis.learners_treesearch import get_population_completed\n",
    "from photocatalysis.deeplearning.helpers import get_charset, smiles_to_onehot"
   ]
  },
  {
   "cell_type": "code",
   "execution_count": 33,
   "metadata": {},
   "outputs": [],
   "source": [
    "import torch\n",
    "import torch.optim as optim\n",
    "import torchinfo\n",
    "\n",
    "print(f'CUDA GPU Available: {torch.cuda.is_available()}')"
   ]
  },
  {
   "cell_type": "code",
   "execution_count": 4,
   "metadata": {},
   "outputs": [],
   "source": [
    "df = pd.read_json('/home/btpq/bt308495/Thesis/frames/DF_COMPLETE.json', orient='split')\n",
    "df = get_population_completed(df)"
   ]
  },
  {
   "cell_type": "code",
   "execution_count": 5,
   "metadata": {},
   "outputs": [],
   "source": [
    "input_size = 80\n",
    "char_list, max_smi_len = get_charset(df.molecule_smiles)\n",
    "data = smiles_to_onehot(df.molecule_smiles, char_list, input_size)"
   ]
  },
  {
   "cell_type": "code",
   "execution_count": 6,
   "metadata": {},
   "outputs": [],
   "source": [
    "# 80/5/15 Train/Val/Test Split\n",
    "data_train, data_test = train_test_split(data, test_size=0.2, shuffle=False)\n",
    "data_valid, data_test = train_test_split(data_test, test_size=0.75, shuffle=False)"
   ]
  },
  {
   "cell_type": "code",
   "execution_count": 7,
   "metadata": {},
   "outputs": [],
   "source": [
    "data_train_tensor = torch.from_numpy(data_train)\n",
    "data_valid_tensor = torch.from_numpy(data_valid)\n",
    "data_test_tensor = torch.from_numpy(data_test)\n",
    "\n",
    "# data_train_tensor_loader = torch.utils.data.TensorDataset(data_train_tensor)\n",
    "train_loader = torch.utils.data.DataLoader(data_train_tensor, batch_size=250, shuffle=True)\n",
    "valid_loader = torch.utils.data.DataLoader(data_valid_tensor, batch_size=250, shuffle=False)\n",
    "test_loader = torch.utils.data.DataLoader(data_test_tensor, batch_size=250, shuffle=False)"
   ]
  },
  {
   "cell_type": "markdown",
   "metadata": {},
   "source": [
    "-----"
   ]
  },
  {
   "cell_type": "code",
   "execution_count": 34,
   "metadata": {},
   "outputs": [],
   "source": [
    "from photocatalysis.deeplearning.models import VAE, train_epoch"
   ]
  },
  {
   "cell_type": "code",
   "execution_count": 35,
   "metadata": {},
   "outputs": [],
   "source": [
    "# Model and training definitions\n",
    "torch.manual_seed(42)\n",
    "device = 'cuda' if torch.cuda.is_available() else 'cpu'\n",
    "epochs = 120\n",
    "\n",
    "# NEW MODEL\n",
    "model = VAE(INPUT_SIZE=input_size,\n",
    "            CHARSET_LEN=len(char_list),\n",
    "            LATENT_DIM=292,\n",
    "            filter_sizes=(5,5,6),\n",
    "            kernel_sizes=(5,5,7)).to(device)\n",
    "\n",
    "# LOAD PREV MODEL\n",
    "# LOAD PREV MODEL\n",
    "# model = VAE()\n",
    "# model.load_state_dict(torch.load('/content/drive/MyDrive/VAE_model_parmas.pt', map_location=torch.device(device)))\n",
    "# model.to(device)\n",
    "\n",
    "optimizer = optim.Adam(model.parameters())"
   ]
  },
  {
   "cell_type": "code",
   "execution_count": 39,
   "metadata": {},
   "outputs": [],
   "source": [
    "# batch_size = 1\n",
    "# torchinfo.summary(VAE(), input_size=(batch_size, 120, 33))\n",
    "# torchinfo.summary(model, input_size=(batch_size, input_size, len(char_list)))"
   ]
  },
  {
   "cell_type": "code",
   "execution_count": 38,
   "metadata": {},
   "outputs": [
    {
     "name": "stdout",
     "output_type": "stream",
     "text": [
      "################ epoch 1 ################\n",
      "TRAINING\n"
     ]
    },
    {
     "name": "stderr",
     "output_type": "stream",
     "text": [
      "  0%|          | 0/4 [00:00<?, ?it/s]"
     ]
    },
    {
     "name": "stderr",
     "output_type": "stream",
     "text": [
      "100%|██████████| 4/4 [00:17<00:00,  4.47s/it]\n"
     ]
    },
    {
     "name": "stdout",
     "output_type": "stream",
     "text": [
      "VALIDATING\n"
     ]
    },
    {
     "name": "stderr",
     "output_type": "stream",
     "text": [
      "100%|██████████| 4/4 [00:06<00:00,  1.60s/it]"
     ]
    },
    {
     "name": "stdout",
     "output_type": "stream",
     "text": [
      "SUMARRY\n",
      "Epoch took: 0.40474824571671586 mins\n",
      "Mean Training Loss: 286.23353125\n",
      "Mean Validation Loss: 288.2697265625\n",
      "---------------------\n",
      "Random Sampled Input, Ouput Smiles:\n",
      "c1ccc(-c2cnc3ncc(-c4ccccc4)cc3c2)cc1                                            \n",
      "                                                                                \n"
     ]
    },
    {
     "name": "stderr",
     "output_type": "stream",
     "text": [
      "\n"
     ]
    }
   ],
   "source": [
    "# Training\n",
    "tls, vls = [], []\n",
    "for epoch in range(1, epochs+1):\n",
    "    training_losses, validation_loss = train_epoch(train_loader,\n",
    "                                                   model,\n",
    "                                                   optimizer,\n",
    "                                                   validation_data_loader=valid_loader,\n",
    "                                                   device=device,\n",
    "                                                   charset=char_list,\n",
    "                                                   epoch=epoch)\n",
    "    \n",
    "    tls.append(training_losses), vls.append(validation_loss)\n",
    "    break"
   ]
  },
  {
   "cell_type": "code",
   "execution_count": null,
   "metadata": {},
   "outputs": [],
   "source": []
  }
 ],
 "metadata": {
  "kernelspec": {
   "display_name": "osc",
   "language": "python",
   "name": "python3"
  },
  "language_info": {
   "codemirror_mode": {
    "name": "ipython",
    "version": 3
   },
   "file_extension": ".py",
   "mimetype": "text/x-python",
   "name": "python",
   "nbconvert_exporter": "python",
   "pygments_lexer": "ipython3",
   "version": "3.11.4"
  },
  "orig_nbformat": 4
 },
 "nbformat": 4,
 "nbformat_minor": 2
}
