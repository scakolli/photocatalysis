{
 "cells": [
  {
   "cell_type": "code",
   "execution_count": 1,
   "metadata": {},
   "outputs": [],
   "source": [
    "# import os\n",
    "# os.environ['MKL_NUM_THREADS'] = '1'\n",
    "# os.environ['OMP_NUM_THREADS'] = '1'"
   ]
  },
  {
   "cell_type": "code",
   "execution_count": 2,
   "metadata": {},
   "outputs": [],
   "source": [
    "### For automatically reloading import modules... allows you to run changes to code in jupyter without having to reload\n",
    "%load_ext autoreload\n",
    "%autoreload 2"
   ]
  },
  {
   "cell_type": "code",
   "execution_count": 3,
   "metadata": {},
   "outputs": [],
   "source": [
    "# import zipfile\n",
    "# import h5py\n",
    "import os\n",
    "import sys\n",
    "import time\n",
    "import timeit\n",
    "import pickle\n",
    "from copy import deepcopy\n",
    "\n",
    "import numpy as np\n",
    "import matplotlib.pyplot as plt\n",
    "import pandas as pd\n",
    "\n",
    "from sklearn.model_selection import train_test_split\n",
    "\n",
    "from tqdm import tqdm\n",
    "\n",
    "from rdkit import Chem\n",
    "from rdkit.Chem.Draw import IPythonConsole\n",
    "IPythonConsole.drawOptions.addAtomIndices = True\n",
    "\n",
    "from photocatalysis.learners_treesearch import get_population_completed\n",
    "from photocatalysis.deeplearning.helpers import get_charset, smiles_to_onehot, one_hot_to_smile, plot_model_performance, verify_smile\n",
    "\n",
    "from photocatalysis.deeplearning.models import VAE, train_epoch"
   ]
  },
  {
   "cell_type": "code",
   "execution_count": 4,
   "metadata": {},
   "outputs": [],
   "source": [
    "from rdkit import RDLogger\n",
    "\n",
    "lg = RDLogger.logger()\n",
    "lg.setLevel(RDLogger.CRITICAL)"
   ]
  },
  {
   "cell_type": "code",
   "execution_count": 5,
   "metadata": {},
   "outputs": [
    {
     "name": "stdout",
     "output_type": "stream",
     "text": [
      "CUDA GPU Available: False\n"
     ]
    }
   ],
   "source": [
    "import torch\n",
    "import torch.optim as optim\n",
    "import torchinfo\n",
    "\n",
    "from torch import nn as nn\n",
    "import torch.nn.functional as F\n",
    "torch.manual_seed(42)\n",
    "\n",
    "print(f'CUDA GPU Available: {torch.cuda.is_available()}')"
   ]
  },
  {
   "cell_type": "code",
   "execution_count": 6,
   "metadata": {},
   "outputs": [],
   "source": [
    "df = pd.read_json('/home/btpq/bt308495/Thesis/frames/DF_COMPLETE.json', orient='split')\n",
    "df = get_population_completed(df)"
   ]
  },
  {
   "cell_type": "code",
   "execution_count": 7,
   "metadata": {},
   "outputs": [],
   "source": [
    "input_size = 80\n",
    "sos_token = 'X'\n",
    "\n",
    "char_list, max_smi_len = get_charset(df.molecule_smiles, sos_token=sos_token)\n",
    "X = smiles_to_onehot(df.molecule_smiles, char_list, input_size)\n",
    "y = df.utility_function.values.astype(np.float32)[:, None]"
   ]
  },
  {
   "cell_type": "code",
   "execution_count": 8,
   "metadata": {},
   "outputs": [],
   "source": [
    "# 80/5/15 Train/Val/Test Split\n",
    "X_train, X_test, y_train, y_test = train_test_split(X, y, test_size=0.2, shuffle=False)\n",
    "X_valid, X_test, y_valid, y_test = train_test_split(X_test, y_test, test_size=0.75, shuffle=False)"
   ]
  },
  {
   "cell_type": "code",
   "execution_count": 9,
   "metadata": {},
   "outputs": [],
   "source": [
    "# Convert to Torch Tensor\n",
    "X_tensor = torch.from_numpy(X)\n",
    "X_train_tensor = torch.from_numpy(X_train)\n",
    "y_train_tensor = torch.from_numpy(y_train)\n",
    "\n",
    "X_valid_tensor = torch.from_numpy(X_valid)\n",
    "y_valid_tensor = torch.from_numpy(y_valid)\n",
    "\n",
    "X_test_tensor = torch.from_numpy(X_test)\n",
    "y_test_tensor = torch.from_numpy(y_test)\n",
    "\n",
    "# Create Dataset/Dataloader for model training\n",
    "data_train = torch.utils.data.TensorDataset(X_train_tensor, y_train_tensor)\n",
    "data_valid = torch.utils.data.TensorDataset(X_valid_tensor, y_valid_tensor)\n",
    "data_test = torch.utils.data.TensorDataset(X_test_tensor, y_test_tensor)\n",
    "\n",
    "train_loader = torch.utils.data.DataLoader(data_train, batch_size=250, shuffle=True)\n",
    "valid_loader = torch.utils.data.DataLoader(data_valid, batch_size=250, shuffle=True)\n",
    "test_loader = torch.utils.data.DataLoader(data_test, batch_size=250, shuffle=True)\n",
    "\n",
    "# D = torch.utils.data.DataLoader(torch.utils.data.TensorDataset(X_train_tensor[:250], y_train_tensor[:250]), batch_size=250, shuffle=True)"
   ]
  },
  {
   "cell_type": "code",
   "execution_count": 10,
   "metadata": {},
   "outputs": [],
   "source": [
    "goindex = np.where(char_list == 'X')[0][0]\n",
    "gotoken = torch.FloatTensor(len(char_list)).zero_()\n",
    "gotoken[goindex] = 1"
   ]
  },
  {
   "cell_type": "markdown",
   "metadata": {},
   "source": [
    "## Load Model"
   ]
  },
  {
   "cell_type": "code",
   "execution_count": 11,
   "metadata": {},
   "outputs": [],
   "source": [
    "def load_model_from_params(params_file, model_training_file, model_weights_file, device='cpu', assert_prob_sample=True):\n",
    "    # Load Model definition parameters\n",
    "    with open(params_file, 'rb') as f:\n",
    "        params = pickle.load(f)\n",
    "\n",
    "    # Load Training Losses\n",
    "    with open(model_training_file, 'rb') as f:\n",
    "        tls, vls = pickle.load(f)\n",
    "\n",
    "    if assert_prob_sample: params['probabilistic_sampling'] = True\n",
    "    \n",
    "    MODEL = VAE(**params).to(device)\n",
    "    MODEL.load_state_dict(torch.load(model_weights_file, map_location=torch.device(device)))\n",
    "    MODEL.eval()\n",
    "\n",
    "    return MODEL, tls, vls"
   ]
  },
  {
   "cell_type": "code",
   "execution_count": 12,
   "metadata": {},
   "outputs": [],
   "source": [
    "def encode_latent(X_tensor, MODEL):\n",
    "    with torch.no_grad():\n",
    "        X = deepcopy(X_tensor)\n",
    "        X = X.to(device)\n",
    "\n",
    "        mu_z, logvar_z = MODEL.encode(X)\n",
    "        z = MODEL.reparameterize(mu_z, logvar_z)\n",
    "\n",
    "    return z"
   ]
  },
  {
   "cell_type": "code",
   "execution_count": 13,
   "metadata": {},
   "outputs": [],
   "source": [
    "device = 'cuda' if torch.cuda.is_available() else 'cpu'\n",
    "params_file = '/home/btpq/bt308495/Thesis/photocatalysis/workspace/train_teacher_prop/VAE_model_params.pckl'\n",
    "training_file = '/home/btpq/bt308495/Thesis/photocatalysis/workspace/train_teacher_prop/VAE_losses_epoch60.pckl'\n",
    "weights_file = '/home/btpq/bt308495/Thesis/photocatalysis/workspace/train_teacher_prop/VAE_model_params_epoch60.pt'\n",
    "\n",
    "model, tls, vls = load_model_from_params(params_file, training_file, weights_file, device=device)"
   ]
  },
  {
   "cell_type": "code",
   "execution_count": 14,
   "metadata": {},
   "outputs": [
    {
     "data": {
      "image/png": "[encoded data removed]",
      "text/plain": [
       "<Figure size 1200x500 with 4 Axes>"
      ]
     },
     "metadata": {},
     "output_type": "display_data"
    }
   ],
   "source": [
    "tls, vls = plot_model_performance(tls, vls, name='k')"
   ]
  },
  {
   "cell_type": "markdown",
   "metadata": {},
   "source": [
    "# GPR"
   ]
  },
  {
   "cell_type": "code",
   "execution_count": null,
   "metadata": {},
   "outputs": [],
   "source": [
    "from sklearn import gaussian_process as gp"
   ]
  },
  {
   "cell_type": "code",
   "execution_count": null,
   "metadata": {},
   "outputs": [],
   "source": [
    "z_train_tensor = encode_latent(X_train_tensor, model)"
   ]
  },
  {
   "cell_type": "code",
   "execution_count": null,
   "metadata": {},
   "outputs": [],
   "source": [
    "# Select a maximally diverse set of initial molecules\n",
    "# For now, just sample randomly\n",
    "ri = np.random.randint(z_train_tensor.shape[0], size=2000)\n",
    "Z, Y = z_train_tensor[ri].numpy(), y_train[ri]"
   ]
  },
  {
   "cell_type": "code",
   "execution_count": null,
   "metadata": {},
   "outputs": [],
   "source": [
    "alpha = 1e-5\n",
    "n_restarts_optimizer = 10\n",
    "normalize_y = True\n",
    "random_state = 42\n",
    "\n",
    "gpr_prop = gp.GaussianProcessRegressor(alpha=alpha,\n",
    "                                       n_restarts_optimizer=n_restarts_optimizer,\n",
    "                                       normalize_y=normalize_y,\n",
    "                                       random_state=random_state).fit(Z, Y)"
   ]
  },
  {
   "cell_type": "code",
   "execution_count": null,
   "metadata": {},
   "outputs": [],
   "source": [
    "gpr_prop.score(z_train_tensor.numpy(), y_train)"
   ]
  },
  {
   "cell_type": "code",
   "execution_count": null,
   "metadata": {},
   "outputs": [],
   "source": [
    "y_train_pred = gpr_prop.predict(z_train_tensor.numpy())"
   ]
  },
  {
   "cell_type": "code",
   "execution_count": null,
   "metadata": {},
   "outputs": [],
   "source": [
    "plt.scatter(y_train, y_train_pred, alpha=0.5)\n",
    "plt.plot(y_train, y_train, 'k')"
   ]
  },
  {
   "cell_type": "markdown",
   "metadata": {},
   "source": [
    "In Bayesian Optimization, we'd like to use a surrogate model (GPR for example) to approximate the utility of unknown regions in the latent space Z, then subsequently optimize an aqcuisition function over the surrogate model to sample regions of this space most likely to contain high performing molecules (i.e. molecules that maximize utility). A candidate molecule is chosen that is expected to have high utility (according to the model), the molecule is evaluated in some black-box fashion (an expensive simulation of the molecules IP/dGmax), and the surrogate model is subsequently retrained on the points it had surveyed before as well as the newly determined point. Re-training 'updates the prior' of the model to incorporate new simulation results."
   ]
  },
  {
   "cell_type": "markdown",
   "metadata": {},
   "source": [
    "As a start, instead of optimizing the black box function property=F(molecule), we'll use another surrogate model as a placeholder!"
   ]
  },
  {
   "cell_type": "markdown",
   "metadata": {},
   "source": [
    "# Bayesian Optimization"
   ]
  },
  {
   "cell_type": "code",
   "execution_count": 15,
   "metadata": {},
   "outputs": [],
   "source": [
    "from scipy.optimize import minimize\n",
    "from scipy.stats import norm\n",
    "from sklearn import gaussian_process as gp\n",
    "from photocatalysis.evaluate import evaluate_substrate"
   ]
  },
  {
   "cell_type": "code",
   "execution_count": null,
   "metadata": {},
   "outputs": [],
   "source": [
    "def F(zz):\n",
    "    # Black-box objective function to maximize\n",
    "    # Normally, would be Utility = F(latent_code)... to do later\n",
    "    return gpr_prop.predict(zz)"
   ]
  },
  {
   "cell_type": "code",
   "execution_count": 16,
   "metadata": {},
   "outputs": [],
   "source": [
    "def expected_improvement(X, Y_sampled, surrogate_model, xi=0.01):\n",
    "    '''\n",
    "    Computes the EI at points X based on existing samples X_sample\n",
    "    and Y_sample using a Gaussian process surrogate model.\n",
    "    \n",
    "    Args:\n",
    "        X: Points at which EI shall be computed (m x d).\n",
    "        Y_sample: Sample values (n x 1).\n",
    "        surrogate_model: A GaussianProcessRegressor fitted to samples.\n",
    "        xi: Exploitation-exploration trade-off parameter.\n",
    "    \n",
    "    Returns:\n",
    "        Expected improvements at points X.\n",
    "    '''\n",
    "    Y, sigma = surrogate_model.predict(X, return_std=True)\n",
    "    sigma = sigma.reshape(-1, 1)\n",
    "    \n",
    "    best_sampled_Y = np.max(Y_sampled)\n",
    "\n",
    "    with np.errstate(divide='warn'):\n",
    "        # EI equation.... where Y (predictions) represents the mean of the surrogate gpr model, and sigma represents the std/uncertainty estimate of the prediction\n",
    "        imp = Y - best_sampled_Y - xi\n",
    "        Z = imp / sigma\n",
    "        ei = imp * norm.cdf(Z) + sigma * norm.pdf(Z)\n",
    "        ei[sigma == 0.0] = 0.0\n",
    "\n",
    "    return ei"
   ]
  },
  {
   "cell_type": "code",
   "execution_count": 17,
   "metadata": {},
   "outputs": [],
   "source": [
    "def propose_location(acquisition_function, Y_sampled, surrogate_model, bounds, n_restarts=25):\n",
    "    '''\n",
    "    Proposes the next sampling point by optimizing the acquisition function over the surrogate model.\n",
    "    In practice, optimizing this function is much cheaper than directly optimizing an expensive black-box function.\n",
    "    \n",
    "    Args:\n",
    "        acquisition: Acquisition function.\n",
    "        X_sample: Sample locations (n x d).\n",
    "        Y_sample: Sample values (n x 1).\n",
    "        surrogate_model: A GaussianProcessRegressor fitted to samples.\n",
    "\n",
    "    Returns:\n",
    "        Location of the acquisition function maximum.\n",
    "    '''\n",
    "    dim = surrogate_model.n_features_in_\n",
    "    min_val = 1\n",
    "    min_x = None\n",
    "    \n",
    "    def min_obj(X):\n",
    "        # Minimization objective is the negative acquisition function\n",
    "        return -acquisition_function(X.reshape(-1, dim), Y_sampled, surrogate_model)\n",
    "    \n",
    "    # Find the best optimum by starting from n_restart different random points.\n",
    "    print(f'Optimizing Acquisition Function: {acquisition_function.__name__} w/ {n_restarts} restarts')\n",
    "\n",
    "    mins_x, mins_val = [], []\n",
    "    start_locations = np.random.uniform(bounds[:, 0], bounds[:, 1], size=(n_restarts, dim))\n",
    "    for x0 in tqdm(start_locations):\n",
    "        res = minimize(min_obj, x0=x0, bounds=bounds, method='L-BFGS-B') \n",
    "\n",
    "        # Log each opt result to have multiple latent vectors to choose from,\n",
    "        # incase the min_val latent vector decodes to garbage\n",
    "        min_val = res.fun\n",
    "        min_x = res.x.reshape(1,-1)\n",
    "\n",
    "        mins_x.append(min_x)\n",
    "        mins_val.append(min_val)\n",
    "\n",
    "        # if res.fun < min_val:\n",
    "        #     # If choosing the best optimization\n",
    "        #     min_val = res.fun\n",
    "        #     min_x = res.x\n",
    "\n",
    "    print(f'Best Expected Improvement in Utility: {min(mins_val)}')           \n",
    "            \n",
    "    return np.array(mins_x), np.array(mins_val)"
   ]
  },
  {
   "cell_type": "code",
   "execution_count": 35,
   "metadata": {},
   "outputs": [],
   "source": [
    "def decode_logits(Logits, character_list, num_decode_attempts=100):\n",
    "    # Probabilistic multinomial sampling of softmax output logist\n",
    "    # and subsequent bare smile string decoding w/o validation\n",
    "    assert Logits.shape[1] == character_list.size, 'Logit length doesnt match character_set length'\n",
    "    decoded_smiles = []\n",
    "\n",
    "    for _ in range(num_decode_attempts):\n",
    "        indx = torch.multinomial(Logits, 1)\n",
    "        one_hot = torch.zeros_like(Logits)\n",
    "        one_hot.scatter_(1, indx, 1)\n",
    "        \n",
    "        smile = one_hot_to_smile(one_hot, character_list)\n",
    "        decoded_smiles.append(smile)\n",
    "    \n",
    "    return decoded_smiles\n",
    "\n",
    "def find_valid_smiles_from_logits(logits_batch, character_list, num_decode_attempts=100):\n",
    "    # Look through logits batch, decode probabilistically, and return a list of valid smile strings\n",
    "\n",
    "    valid_smiles = []\n",
    "    for l in logits_batch:\n",
    "        smiles = decode_logits(l, character_list, num_decode_attempts=num_decode_attempts)\n",
    "\n",
    "        for s in smiles:\n",
    "            if verify_smile(s):\n",
    "                valid_smiles.append(s)\n",
    "\n",
    "    return valid_smiles"
   ]
  },
  {
   "cell_type": "code",
   "execution_count": 36,
   "metadata": {},
   "outputs": [],
   "source": [
    "def run_evaluation(smile, CALC_PARAMS, scratch_dir=None):\n",
    "    base = os.getcwd()\n",
    "\n",
    "    if scratch_dir is not None:\n",
    "        os.mkdir(scratch_dir)\n",
    "\n",
    "    try:\n",
    "        # ip, rdg, asites, rds, essi = output\n",
    "        output = evaluate_substrate(smile, CALC_PARAMS, scratch_dir=scratch_dir) # scratch_dir=SCRATCH_DIR)\n",
    "        print('Success!')\n",
    "        return output\n",
    "    \n",
    "    except Exception as e:\n",
    "        output = None\n",
    "\n",
    "        print('Error Encountered!')\n",
    "        print(e)\n",
    "        os.system('echo \"{}\" >> errors.txt'.format(e))\n",
    "        os.chdir(base)\n",
    "        return None\n",
    "    \n",
    "def evaluate_latent(z, CALC_PARAMS, num_run_throughs=10, num_decode_attempts=100):\n",
    "    # Given a latent vector, return its valid smile and associated utility\n",
    "    \n",
    "    # The VAE is probabilistic in decoding (i.e. a softmax is sampled to determine which character is fed next into the RNN-decoder)\n",
    "    # and probabilistic in sampling the output (i.e. the output logits define a probability distb. over the possible characters,\n",
    "    # and multiple smiles can be sampled)\n",
    "\n",
    "    # So we can sample multiple model calls (num_run_throughs) and multiple smiles from the resulting logits (num_decode_attempts)\n",
    "\n",
    "    z = torch.from_numpy(z.astype(np.float32))\n",
    "    z_repeat = z.repeat(num_run_throughs, 1)\n",
    "\n",
    "    logits_batch, _ = model.decode(z_repeat)\n",
    "\n",
    "    print('Decoding latent representation into valid smiles')\n",
    "    smiles = find_valid_smiles_from_logits(logits_batch, char_list, num_decode_attempts=num_decode_attempts)\n",
    "\n",
    "    # print('Premature Breaking before simulation/evaluation')\n",
    "    # return smiles\n",
    "\n",
    "    if smiles:\n",
    "        print('Success!')\n",
    "        # atleast one valid smile exists\n",
    "        # evaluate until first successful evaluation occurs and return results\n",
    "        for j, smile in enumerate(smiles):\n",
    "            print(f'Evaluating candidate {j}')\n",
    "            print('--------------------')\n",
    "\n",
    "            smile = smile.strip(' ') # remove any trailing whitespaces\n",
    "            output = run_evaluation(smile, CALC_PARAMS, scratch_dir=f'eval{j}')\n",
    "\n",
    "            if output is not None:\n",
    "                return (smile, output)\n",
    "        \n",
    "        # No Succesful run (highly unlikely we get here, but just in case)\n",
    "        print('No Successful evaluation :(')\n",
    "        return None\n",
    "    else:\n",
    "        # No valid smiles\n",
    "        print('Fail!')\n",
    "        return None"
   ]
  },
  {
   "cell_type": "code",
   "execution_count": 21,
   "metadata": {},
   "outputs": [],
   "source": [
    "n_bo_iter = 10 # number of function evaluations used to update GPR surrogate prior\n",
    "n_init = 2000 # number of initial representations to train the surrogate model\n",
    "\n",
    "num_run_throughs = 50\n",
    "num_decode_attempts = 500\n",
    "calc_params = {'gfn':2, 'acc':0.2, 'etemp':298.15, 'gbsa':'water'}\n",
    "\n",
    "run_dir = '/home/btpq/bt308495/Thesis/run/'\n",
    "os.chdir(run_dir)"
   ]
  },
  {
   "cell_type": "code",
   "execution_count": 23,
   "metadata": {},
   "outputs": [],
   "source": [
    "# Encode training set\n",
    "z_train_tensor = encode_latent(X_train_tensor, model)\n",
    "\n",
    "# Select initial data points to start optimization\n",
    "ri = np.random.randint(z_train_tensor.shape[0], size=n_init)\n",
    "Z_sampled, Y_sampled = z_train_tensor[ri].numpy(), y_train[ri]\n",
    "\n",
    "# Sequence of min-max pairs for each latent dim\n",
    "bounds = np.vstack([z_train_tensor.numpy().min(axis=0), z_train_tensor.numpy().max(axis=0)]).T"
   ]
  },
  {
   "cell_type": "markdown",
   "metadata": {},
   "source": [
    "Bayesian Optimization Run"
   ]
  },
  {
   "cell_type": "code",
   "execution_count": 45,
   "metadata": {},
   "outputs": [
    {
     "name": "stdout",
     "output_type": "stream",
     "text": [
      "###############################\n",
      "Bayesian Optimization iter 0\n",
      "\n",
      "Fitting Surrogate Model\n",
      "Optimizing Acquisition Function: expected_improvement w/ 25 restarts\n"
     ]
    },
    {
     "name": "stderr",
     "output_type": "stream",
     "text": [
      "  0%|          | 0/25 [00:40<?, ?it/s]\n"
     ]
    },
    {
     "ename": "KeyboardInterrupt",
     "evalue": "",
     "output_type": "error",
     "traceback": [
      "\u001b[0;31m---------------------------------------------------------------------------\u001b[0m",
      "\u001b[0;31mKeyboardInterrupt\u001b[0m                         Traceback (most recent call last)",
      "\u001b[1;32m/home/btpq/bt308495/Thesis/photocatalysis/workspace/BO.ipynb Cell 36\u001b[0m line \u001b[0;36m1\n\u001b[1;32m     <a href='vscode-notebook-cell://ssh-remote%2Bvetinari.phy.uni-bayreuth.de/home/btpq/bt308495/Thesis/photocatalysis/workspace/BO.ipynb#X50sdnNjb2RlLXJlbW90ZQ%3D%3D?line=13'>14</a>\u001b[0m gpr\u001b[39m.\u001b[39mfit(Z_sampled, Y_sampled)\n\u001b[1;32m     <a href='vscode-notebook-cell://ssh-remote%2Bvetinari.phy.uni-bayreuth.de/home/btpq/bt308495/Thesis/photocatalysis/workspace/BO.ipynb#X50sdnNjb2RlLXJlbW90ZQ%3D%3D?line=15'>16</a>\u001b[0m \u001b[39m# Obtain next sampling point from the acquisition function (expected_improvement)\u001b[39;00m\n\u001b[0;32m---> <a href='vscode-notebook-cell://ssh-remote%2Bvetinari.phy.uni-bayreuth.de/home/btpq/bt308495/Thesis/photocatalysis/workspace/BO.ipynb#X50sdnNjb2RlLXJlbW90ZQ%3D%3D?line=16'>17</a>\u001b[0m Z_candidates, U_candidates \u001b[39m=\u001b[39m propose_location(expected_improvement, Y_sampled, gpr, bounds, n_restarts\u001b[39m=\u001b[39;49m\u001b[39m25\u001b[39;49m)\n\u001b[1;32m     <a href='vscode-notebook-cell://ssh-remote%2Bvetinari.phy.uni-bayreuth.de/home/btpq/bt308495/Thesis/photocatalysis/workspace/BO.ipynb#X50sdnNjb2RlLXJlbW90ZQ%3D%3D?line=18'>19</a>\u001b[0m \u001b[39m# Decode and evaluate smiles for their utility\u001b[39;00m\n\u001b[1;32m     <a href='vscode-notebook-cell://ssh-remote%2Bvetinari.phy.uni-bayreuth.de/home/btpq/bt308495/Thesis/photocatalysis/workspace/BO.ipynb#X50sdnNjb2RlLXJlbW90ZQ%3D%3D?line=19'>20</a>\u001b[0m Z_candidates_sorted \u001b[39m=\u001b[39m Z_candidates[np\u001b[39m.\u001b[39margsort(U_candidates)]\n",
      "\u001b[1;32m/home/btpq/bt308495/Thesis/photocatalysis/workspace/BO.ipynb Cell 36\u001b[0m line \u001b[0;36m2\n\u001b[1;32m     <a href='vscode-notebook-cell://ssh-remote%2Bvetinari.phy.uni-bayreuth.de/home/btpq/bt308495/Thesis/photocatalysis/workspace/BO.ipynb#X50sdnNjb2RlLXJlbW90ZQ%3D%3D?line=26'>27</a>\u001b[0m start_locations \u001b[39m=\u001b[39m np\u001b[39m.\u001b[39mrandom\u001b[39m.\u001b[39muniform(bounds[:, \u001b[39m0\u001b[39m], bounds[:, \u001b[39m1\u001b[39m], size\u001b[39m=\u001b[39m(n_restarts, dim))\n\u001b[1;32m     <a href='vscode-notebook-cell://ssh-remote%2Bvetinari.phy.uni-bayreuth.de/home/btpq/bt308495/Thesis/photocatalysis/workspace/BO.ipynb#X50sdnNjb2RlLXJlbW90ZQ%3D%3D?line=27'>28</a>\u001b[0m \u001b[39mfor\u001b[39;00m x0 \u001b[39min\u001b[39;00m tqdm(start_locations):\n\u001b[0;32m---> <a href='vscode-notebook-cell://ssh-remote%2Bvetinari.phy.uni-bayreuth.de/home/btpq/bt308495/Thesis/photocatalysis/workspace/BO.ipynb#X50sdnNjb2RlLXJlbW90ZQ%3D%3D?line=28'>29</a>\u001b[0m     res \u001b[39m=\u001b[39m minimize(min_obj, x0\u001b[39m=\u001b[39;49mx0, bounds\u001b[39m=\u001b[39;49mbounds, method\u001b[39m=\u001b[39;49m\u001b[39m'\u001b[39;49m\u001b[39mL-BFGS-B\u001b[39;49m\u001b[39m'\u001b[39;49m) \n\u001b[1;32m     <a href='vscode-notebook-cell://ssh-remote%2Bvetinari.phy.uni-bayreuth.de/home/btpq/bt308495/Thesis/photocatalysis/workspace/BO.ipynb#X50sdnNjb2RlLXJlbW90ZQ%3D%3D?line=30'>31</a>\u001b[0m     \u001b[39m# Log each opt result to have multiple latent vectors to choose from,\u001b[39;00m\n\u001b[1;32m     <a href='vscode-notebook-cell://ssh-remote%2Bvetinari.phy.uni-bayreuth.de/home/btpq/bt308495/Thesis/photocatalysis/workspace/BO.ipynb#X50sdnNjb2RlLXJlbW90ZQ%3D%3D?line=31'>32</a>\u001b[0m     \u001b[39m# incase the min_val latent vector decodes to garbage\u001b[39;00m\n\u001b[1;32m     <a href='vscode-notebook-cell://ssh-remote%2Bvetinari.phy.uni-bayreuth.de/home/btpq/bt308495/Thesis/photocatalysis/workspace/BO.ipynb#X50sdnNjb2RlLXJlbW90ZQ%3D%3D?line=32'>33</a>\u001b[0m     min_val \u001b[39m=\u001b[39m res\u001b[39m.\u001b[39mfun\n",
      "File \u001b[0;32m~/miniconda3/envs/osc/lib/python3.11/site-packages/scipy/optimize/_minimize.py:696\u001b[0m, in \u001b[0;36mminimize\u001b[0;34m(fun, x0, args, method, jac, hess, hessp, bounds, constraints, tol, callback, options)\u001b[0m\n\u001b[1;32m    693\u001b[0m     res \u001b[39m=\u001b[39m _minimize_newtoncg(fun, x0, args, jac, hess, hessp, callback,\n\u001b[1;32m    694\u001b[0m                              \u001b[39m*\u001b[39m\u001b[39m*\u001b[39moptions)\n\u001b[1;32m    695\u001b[0m \u001b[39melif\u001b[39;00m meth \u001b[39m==\u001b[39m \u001b[39m'\u001b[39m\u001b[39ml-bfgs-b\u001b[39m\u001b[39m'\u001b[39m:\n\u001b[0;32m--> 696\u001b[0m     res \u001b[39m=\u001b[39m _minimize_lbfgsb(fun, x0, args, jac, bounds,\n\u001b[1;32m    697\u001b[0m                            callback\u001b[39m=\u001b[39;49mcallback, \u001b[39m*\u001b[39;49m\u001b[39m*\u001b[39;49moptions)\n\u001b[1;32m    698\u001b[0m \u001b[39melif\u001b[39;00m meth \u001b[39m==\u001b[39m \u001b[39m'\u001b[39m\u001b[39mtnc\u001b[39m\u001b[39m'\u001b[39m:\n\u001b[1;32m    699\u001b[0m     res \u001b[39m=\u001b[39m _minimize_tnc(fun, x0, args, jac, bounds, callback\u001b[39m=\u001b[39mcallback,\n\u001b[1;32m    700\u001b[0m                         \u001b[39m*\u001b[39m\u001b[39m*\u001b[39moptions)\n",
      "File \u001b[0;32m~/miniconda3/envs/osc/lib/python3.11/site-packages/scipy/optimize/_lbfgsb_py.py:359\u001b[0m, in \u001b[0;36m_minimize_lbfgsb\u001b[0;34m(fun, x0, args, jac, bounds, disp, maxcor, ftol, gtol, eps, maxfun, maxiter, iprint, callback, maxls, finite_diff_rel_step, **unknown_options)\u001b[0m\n\u001b[1;32m    353\u001b[0m task_str \u001b[39m=\u001b[39m task\u001b[39m.\u001b[39mtobytes()\n\u001b[1;32m    354\u001b[0m \u001b[39mif\u001b[39;00m task_str\u001b[39m.\u001b[39mstartswith(\u001b[39mb\u001b[39m\u001b[39m'\u001b[39m\u001b[39mFG\u001b[39m\u001b[39m'\u001b[39m):\n\u001b[1;32m    355\u001b[0m     \u001b[39m# The minimization routine wants f and g at the current x.\u001b[39;00m\n\u001b[1;32m    356\u001b[0m     \u001b[39m# Note that interruptions due to maxfun are postponed\u001b[39;00m\n\u001b[1;32m    357\u001b[0m     \u001b[39m# until the completion of the current minimization iteration.\u001b[39;00m\n\u001b[1;32m    358\u001b[0m     \u001b[39m# Overwrite f and g:\u001b[39;00m\n\u001b[0;32m--> 359\u001b[0m     f, g \u001b[39m=\u001b[39m func_and_grad(x)\n\u001b[1;32m    360\u001b[0m \u001b[39melif\u001b[39;00m task_str\u001b[39m.\u001b[39mstartswith(\u001b[39mb\u001b[39m\u001b[39m'\u001b[39m\u001b[39mNEW_X\u001b[39m\u001b[39m'\u001b[39m):\n\u001b[1;32m    361\u001b[0m     \u001b[39m# new iteration\u001b[39;00m\n\u001b[1;32m    362\u001b[0m     n_iterations \u001b[39m+\u001b[39m\u001b[39m=\u001b[39m \u001b[39m1\u001b[39m\n",
      "File \u001b[0;32m~/miniconda3/envs/osc/lib/python3.11/site-packages/scipy/optimize/_differentiable_functions.py:286\u001b[0m, in \u001b[0;36mScalarFunction.fun_and_grad\u001b[0;34m(self, x)\u001b[0m\n\u001b[1;32m    284\u001b[0m     \u001b[39mself\u001b[39m\u001b[39m.\u001b[39m_update_x_impl(x)\n\u001b[1;32m    285\u001b[0m \u001b[39mself\u001b[39m\u001b[39m.\u001b[39m_update_fun()\n\u001b[0;32m--> 286\u001b[0m \u001b[39mself\u001b[39;49m\u001b[39m.\u001b[39;49m_update_grad()\n\u001b[1;32m    287\u001b[0m \u001b[39mreturn\u001b[39;00m \u001b[39mself\u001b[39m\u001b[39m.\u001b[39mf, \u001b[39mself\u001b[39m\u001b[39m.\u001b[39mg\n",
      "File \u001b[0;32m~/miniconda3/envs/osc/lib/python3.11/site-packages/scipy/optimize/_differentiable_functions.py:256\u001b[0m, in \u001b[0;36mScalarFunction._update_grad\u001b[0;34m(self)\u001b[0m\n\u001b[1;32m    254\u001b[0m \u001b[39mdef\u001b[39;00m \u001b[39m_update_grad\u001b[39m(\u001b[39mself\u001b[39m):\n\u001b[1;32m    255\u001b[0m     \u001b[39mif\u001b[39;00m \u001b[39mnot\u001b[39;00m \u001b[39mself\u001b[39m\u001b[39m.\u001b[39mg_updated:\n\u001b[0;32m--> 256\u001b[0m         \u001b[39mself\u001b[39;49m\u001b[39m.\u001b[39;49m_update_grad_impl()\n\u001b[1;32m    257\u001b[0m         \u001b[39mself\u001b[39m\u001b[39m.\u001b[39mg_updated \u001b[39m=\u001b[39m \u001b[39mTrue\u001b[39;00m\n",
      "File \u001b[0;32m~/miniconda3/envs/osc/lib/python3.11/site-packages/scipy/optimize/_differentiable_functions.py:173\u001b[0m, in \u001b[0;36mScalarFunction.__init__.<locals>.update_grad\u001b[0;34m()\u001b[0m\n\u001b[1;32m    171\u001b[0m \u001b[39mself\u001b[39m\u001b[39m.\u001b[39m_update_fun()\n\u001b[1;32m    172\u001b[0m \u001b[39mself\u001b[39m\u001b[39m.\u001b[39mngev \u001b[39m+\u001b[39m\u001b[39m=\u001b[39m \u001b[39m1\u001b[39m\n\u001b[0;32m--> 173\u001b[0m \u001b[39mself\u001b[39m\u001b[39m.\u001b[39mg \u001b[39m=\u001b[39m approx_derivative(fun_wrapped, \u001b[39mself\u001b[39;49m\u001b[39m.\u001b[39;49mx, f0\u001b[39m=\u001b[39;49m\u001b[39mself\u001b[39;49m\u001b[39m.\u001b[39;49mf,\n\u001b[1;32m    174\u001b[0m                            \u001b[39m*\u001b[39;49m\u001b[39m*\u001b[39;49mfinite_diff_options)\n",
      "File \u001b[0;32m~/miniconda3/envs/osc/lib/python3.11/site-packages/scipy/optimize/_numdiff.py:505\u001b[0m, in \u001b[0;36mapprox_derivative\u001b[0;34m(fun, x0, method, rel_step, abs_step, f0, bounds, sparsity, as_linear_operator, args, kwargs)\u001b[0m\n\u001b[1;32m    502\u001b[0m     use_one_sided \u001b[39m=\u001b[39m \u001b[39mFalse\u001b[39;00m\n\u001b[1;32m    504\u001b[0m \u001b[39mif\u001b[39;00m sparsity \u001b[39mis\u001b[39;00m \u001b[39mNone\u001b[39;00m:\n\u001b[0;32m--> 505\u001b[0m     \u001b[39mreturn\u001b[39;00m _dense_difference(fun_wrapped, x0, f0, h,\n\u001b[1;32m    506\u001b[0m                              use_one_sided, method)\n\u001b[1;32m    507\u001b[0m \u001b[39melse\u001b[39;00m:\n\u001b[1;32m    508\u001b[0m     \u001b[39mif\u001b[39;00m \u001b[39mnot\u001b[39;00m issparse(sparsity) \u001b[39mand\u001b[39;00m \u001b[39mlen\u001b[39m(sparsity) \u001b[39m==\u001b[39m \u001b[39m2\u001b[39m:\n",
      "File \u001b[0;32m~/miniconda3/envs/osc/lib/python3.11/site-packages/scipy/optimize/_numdiff.py:576\u001b[0m, in \u001b[0;36m_dense_difference\u001b[0;34m(fun, x0, f0, h, use_one_sided, method)\u001b[0m\n\u001b[1;32m    574\u001b[0m     x \u001b[39m=\u001b[39m x0 \u001b[39m+\u001b[39m h_vecs[i]\n\u001b[1;32m    575\u001b[0m     dx \u001b[39m=\u001b[39m x[i] \u001b[39m-\u001b[39m x0[i]  \u001b[39m# Recompute dx as exactly representable number.\u001b[39;00m\n\u001b[0;32m--> 576\u001b[0m     df \u001b[39m=\u001b[39m fun(x) \u001b[39m-\u001b[39m f0\n\u001b[1;32m    577\u001b[0m \u001b[39melif\u001b[39;00m method \u001b[39m==\u001b[39m \u001b[39m'\u001b[39m\u001b[39m3-point\u001b[39m\u001b[39m'\u001b[39m \u001b[39mand\u001b[39;00m use_one_sided[i]:\n\u001b[1;32m    578\u001b[0m     x1 \u001b[39m=\u001b[39m x0 \u001b[39m+\u001b[39m h_vecs[i]\n",
      "File \u001b[0;32m~/miniconda3/envs/osc/lib/python3.11/site-packages/scipy/optimize/_numdiff.py:456\u001b[0m, in \u001b[0;36mapprox_derivative.<locals>.fun_wrapped\u001b[0;34m(x)\u001b[0m\n\u001b[1;32m    455\u001b[0m \u001b[39mdef\u001b[39;00m \u001b[39mfun_wrapped\u001b[39m(x):\n\u001b[0;32m--> 456\u001b[0m     f \u001b[39m=\u001b[39m np\u001b[39m.\u001b[39matleast_1d(fun(x, \u001b[39m*\u001b[39;49margs, \u001b[39m*\u001b[39;49m\u001b[39m*\u001b[39;49mkwargs))\n\u001b[1;32m    457\u001b[0m     \u001b[39mif\u001b[39;00m f\u001b[39m.\u001b[39mndim \u001b[39m>\u001b[39m \u001b[39m1\u001b[39m:\n\u001b[1;32m    458\u001b[0m         \u001b[39mraise\u001b[39;00m \u001b[39mRuntimeError\u001b[39;00m(\u001b[39m\"\u001b[39m\u001b[39m`fun` return value has \u001b[39m\u001b[39m\"\u001b[39m\n\u001b[1;32m    459\u001b[0m                            \u001b[39m\"\u001b[39m\u001b[39mmore than 1 dimension.\u001b[39m\u001b[39m\"\u001b[39m)\n",
      "File \u001b[0;32m~/miniconda3/envs/osc/lib/python3.11/site-packages/scipy/optimize/_differentiable_functions.py:137\u001b[0m, in \u001b[0;36mScalarFunction.__init__.<locals>.fun_wrapped\u001b[0;34m(x)\u001b[0m\n\u001b[1;32m    133\u001b[0m \u001b[39mself\u001b[39m\u001b[39m.\u001b[39mnfev \u001b[39m+\u001b[39m\u001b[39m=\u001b[39m \u001b[39m1\u001b[39m\n\u001b[1;32m    134\u001b[0m \u001b[39m# Send a copy because the user may overwrite it.\u001b[39;00m\n\u001b[1;32m    135\u001b[0m \u001b[39m# Overwriting results in undefined behaviour because\u001b[39;00m\n\u001b[1;32m    136\u001b[0m \u001b[39m# fun(self.x) will change self.x, with the two no longer linked.\u001b[39;00m\n\u001b[0;32m--> 137\u001b[0m fx \u001b[39m=\u001b[39m fun(np\u001b[39m.\u001b[39;49mcopy(x), \u001b[39m*\u001b[39;49margs)\n\u001b[1;32m    138\u001b[0m \u001b[39m# Make sure the function returns a true scalar\u001b[39;00m\n\u001b[1;32m    139\u001b[0m \u001b[39mif\u001b[39;00m \u001b[39mnot\u001b[39;00m np\u001b[39m.\u001b[39misscalar(fx):\n",
      "\u001b[1;32m/home/btpq/bt308495/Thesis/photocatalysis/workspace/BO.ipynb Cell 36\u001b[0m line \u001b[0;36m2\n\u001b[1;32m     <a href='vscode-notebook-cell://ssh-remote%2Bvetinari.phy.uni-bayreuth.de/home/btpq/bt308495/Thesis/photocatalysis/workspace/BO.ipynb#X50sdnNjb2RlLXJlbW90ZQ%3D%3D?line=18'>19</a>\u001b[0m \u001b[39mdef\u001b[39;00m \u001b[39mmin_obj\u001b[39m(X):\n\u001b[1;32m     <a href='vscode-notebook-cell://ssh-remote%2Bvetinari.phy.uni-bayreuth.de/home/btpq/bt308495/Thesis/photocatalysis/workspace/BO.ipynb#X50sdnNjb2RlLXJlbW90ZQ%3D%3D?line=19'>20</a>\u001b[0m     \u001b[39m# Minimization objective is the negative acquisition function\u001b[39;00m\n\u001b[0;32m---> <a href='vscode-notebook-cell://ssh-remote%2Bvetinari.phy.uni-bayreuth.de/home/btpq/bt308495/Thesis/photocatalysis/workspace/BO.ipynb#X50sdnNjb2RlLXJlbW90ZQ%3D%3D?line=20'>21</a>\u001b[0m     \u001b[39mreturn\u001b[39;00m \u001b[39m-\u001b[39macquisition_function(X\u001b[39m.\u001b[39;49mreshape(\u001b[39m-\u001b[39;49m\u001b[39m1\u001b[39;49m, dim), Y_sampled, surrogate_model)\n",
      "\u001b[1;32m/home/btpq/bt308495/Thesis/photocatalysis/workspace/BO.ipynb Cell 36\u001b[0m line \u001b[0;36m1\n\u001b[1;32m      <a href='vscode-notebook-cell://ssh-remote%2Bvetinari.phy.uni-bayreuth.de/home/btpq/bt308495/Thesis/photocatalysis/workspace/BO.ipynb#X50sdnNjb2RlLXJlbW90ZQ%3D%3D?line=0'>1</a>\u001b[0m \u001b[39mdef\u001b[39;00m \u001b[39mexpected_improvement\u001b[39m(X, Y_sampled, surrogate_model, xi\u001b[39m=\u001b[39m\u001b[39m0.01\u001b[39m):\n\u001b[1;32m      <a href='vscode-notebook-cell://ssh-remote%2Bvetinari.phy.uni-bayreuth.de/home/btpq/bt308495/Thesis/photocatalysis/workspace/BO.ipynb#X50sdnNjb2RlLXJlbW90ZQ%3D%3D?line=1'>2</a>\u001b[0m \u001b[39m    \u001b[39m\u001b[39m'''\u001b[39;00m\n\u001b[1;32m      <a href='vscode-notebook-cell://ssh-remote%2Bvetinari.phy.uni-bayreuth.de/home/btpq/bt308495/Thesis/photocatalysis/workspace/BO.ipynb#X50sdnNjb2RlLXJlbW90ZQ%3D%3D?line=2'>3</a>\u001b[0m \u001b[39m    Computes the EI at points X based on existing samples X_sample\u001b[39;00m\n\u001b[1;32m      <a href='vscode-notebook-cell://ssh-remote%2Bvetinari.phy.uni-bayreuth.de/home/btpq/bt308495/Thesis/photocatalysis/workspace/BO.ipynb#X50sdnNjb2RlLXJlbW90ZQ%3D%3D?line=3'>4</a>\u001b[0m \u001b[39m    and Y_sample using a Gaussian process surrogate model.\u001b[39;00m\n\u001b[0;32m   (...)\u001b[0m\n\u001b[1;32m     <a href='vscode-notebook-cell://ssh-remote%2Bvetinari.phy.uni-bayreuth.de/home/btpq/bt308495/Thesis/photocatalysis/workspace/BO.ipynb#X50sdnNjb2RlLXJlbW90ZQ%3D%3D?line=12'>13</a>\u001b[0m \u001b[39m        Expected improvements at points X.\u001b[39;00m\n\u001b[1;32m     <a href='vscode-notebook-cell://ssh-remote%2Bvetinari.phy.uni-bayreuth.de/home/btpq/bt308495/Thesis/photocatalysis/workspace/BO.ipynb#X50sdnNjb2RlLXJlbW90ZQ%3D%3D?line=13'>14</a>\u001b[0m \u001b[39m    '''\u001b[39;00m\n\u001b[0;32m---> <a href='vscode-notebook-cell://ssh-remote%2Bvetinari.phy.uni-bayreuth.de/home/btpq/bt308495/Thesis/photocatalysis/workspace/BO.ipynb#X50sdnNjb2RlLXJlbW90ZQ%3D%3D?line=14'>15</a>\u001b[0m     Y, sigma \u001b[39m=\u001b[39m surrogate_model\u001b[39m.\u001b[39;49mpredict(X, return_std\u001b[39m=\u001b[39;49m\u001b[39mTrue\u001b[39;49;00m)\n\u001b[1;32m     <a href='vscode-notebook-cell://ssh-remote%2Bvetinari.phy.uni-bayreuth.de/home/btpq/bt308495/Thesis/photocatalysis/workspace/BO.ipynb#X50sdnNjb2RlLXJlbW90ZQ%3D%3D?line=15'>16</a>\u001b[0m     sigma \u001b[39m=\u001b[39m sigma\u001b[39m.\u001b[39mreshape(\u001b[39m-\u001b[39m\u001b[39m1\u001b[39m, \u001b[39m1\u001b[39m)\n\u001b[1;32m     <a href='vscode-notebook-cell://ssh-remote%2Bvetinari.phy.uni-bayreuth.de/home/btpq/bt308495/Thesis/photocatalysis/workspace/BO.ipynb#X50sdnNjb2RlLXJlbW90ZQ%3D%3D?line=17'>18</a>\u001b[0m     best_sampled_Y \u001b[39m=\u001b[39m np\u001b[39m.\u001b[39mmax(Y_sampled)\n",
      "File \u001b[0;32m~/miniconda3/envs/osc/lib/python3.11/site-packages/sklearn/gaussian_process/_gpr.py:405\u001b[0m, in \u001b[0;36mGaussianProcessRegressor.predict\u001b[0;34m(self, X, return_std, return_cov)\u001b[0m\n\u001b[1;32m    402\u001b[0m         \u001b[39mreturn\u001b[39;00m y_mean\n\u001b[1;32m    403\u001b[0m \u001b[39melse\u001b[39;00m:  \u001b[39m# Predict based on GP posterior\u001b[39;00m\n\u001b[1;32m    404\u001b[0m     \u001b[39m# Alg 2.1, page 19, line 4 -> f*_bar = K(X_test, X_train) . alpha\u001b[39;00m\n\u001b[0;32m--> 405\u001b[0m     K_trans \u001b[39m=\u001b[39m \u001b[39mself\u001b[39;49m\u001b[39m.\u001b[39;49mkernel_(X, \u001b[39mself\u001b[39;49m\u001b[39m.\u001b[39;49mX_train_)\n\u001b[1;32m    406\u001b[0m     y_mean \u001b[39m=\u001b[39m K_trans \u001b[39m@\u001b[39m \u001b[39mself\u001b[39m\u001b[39m.\u001b[39malpha_\n\u001b[1;32m    408\u001b[0m     \u001b[39m# undo normalisation\u001b[39;00m\n",
      "File \u001b[0;32m~/miniconda3/envs/osc/lib/python3.11/site-packages/sklearn/gaussian_process/kernels.py:946\u001b[0m, in \u001b[0;36mProduct.__call__\u001b[0;34m(self, X, Y, eval_gradient)\u001b[0m\n\u001b[1;32m    942\u001b[0m     \u001b[39mreturn\u001b[39;00m K1 \u001b[39m*\u001b[39m K2, np\u001b[39m.\u001b[39mdstack(\n\u001b[1;32m    943\u001b[0m         (K1_gradient \u001b[39m*\u001b[39m K2[:, :, np\u001b[39m.\u001b[39mnewaxis], K2_gradient \u001b[39m*\u001b[39m K1[:, :, np\u001b[39m.\u001b[39mnewaxis])\n\u001b[1;32m    944\u001b[0m     )\n\u001b[1;32m    945\u001b[0m \u001b[39melse\u001b[39;00m:\n\u001b[0;32m--> 946\u001b[0m     \u001b[39mreturn\u001b[39;00m \u001b[39mself\u001b[39m\u001b[39m.\u001b[39mk1(X, Y) \u001b[39m*\u001b[39m \u001b[39mself\u001b[39;49m\u001b[39m.\u001b[39;49mk2(X, Y)\n",
      "File \u001b[0;32m~/miniconda3/envs/osc/lib/python3.11/site-packages/sklearn/gaussian_process/kernels.py:1545\u001b[0m, in \u001b[0;36mRBF.__call__\u001b[0;34m(self, X, Y, eval_gradient)\u001b[0m\n\u001b[1;32m   1543\u001b[0m         \u001b[39mraise\u001b[39;00m \u001b[39mValueError\u001b[39;00m(\u001b[39m\"\u001b[39m\u001b[39mGradient can only be evaluated when Y is None.\u001b[39m\u001b[39m\"\u001b[39m)\n\u001b[1;32m   1544\u001b[0m     dists \u001b[39m=\u001b[39m cdist(X \u001b[39m/\u001b[39m length_scale, Y \u001b[39m/\u001b[39m length_scale, metric\u001b[39m=\u001b[39m\u001b[39m\"\u001b[39m\u001b[39msqeuclidean\u001b[39m\u001b[39m\"\u001b[39m)\n\u001b[0;32m-> 1545\u001b[0m     K \u001b[39m=\u001b[39m np\u001b[39m.\u001b[39;49mexp(\u001b[39m-\u001b[39;49m\u001b[39m0.5\u001b[39;49m \u001b[39m*\u001b[39;49m dists)\n\u001b[1;32m   1547\u001b[0m \u001b[39mif\u001b[39;00m eval_gradient:\n\u001b[1;32m   1548\u001b[0m     \u001b[39mif\u001b[39;00m \u001b[39mself\u001b[39m\u001b[39m.\u001b[39mhyperparameter_length_scale\u001b[39m.\u001b[39mfixed:\n\u001b[1;32m   1549\u001b[0m         \u001b[39m# Hyperparameter l kept fixed\u001b[39;00m\n",
      "\u001b[0;31mKeyboardInterrupt\u001b[0m: "
     ]
    }
   ],
   "source": [
    "gpr = gp.GaussianProcessRegressor(alpha=1e-5,\n",
    "                                  n_restarts_optimizer=10,\n",
    "                                  normalize_y=True,\n",
    "                                  random_state=42)\n",
    "\n",
    "fresh_evaluated_smiles = [] # saving newly created smiles and their associated properties\n",
    "\n",
    "for i in range(n_bo_iter):\n",
    "    print('###############################')\n",
    "    print(f'Bayesian Optimization iter {i}')\n",
    "    \n",
    "    # Update Gaussian process with existing samples\n",
    "    print('\\nFitting Surrogate Model')\n",
    "    gpr.fit(Z_sampled, Y_sampled)\n",
    "\n",
    "    # Obtain next sampling point from the acquisition function (expected_improvement)\n",
    "    Z_candidates, U_candidates = propose_location(expected_improvement, Y_sampled, gpr, bounds, n_restarts=25)\n",
    "\n",
    "    # Decode and evaluate smiles for their utility\n",
    "    Z_candidates_sorted = Z_candidates[np.argsort(U_candidates)]\n",
    "    for j, Z_candidate in enumerate(Z_candidates_sorted):\n",
    "        # Try decoding the best candidate\n",
    "        output = evaluate_latent(Z_candidate, calc_params, num_run_throughs=num_run_throughs, num_decode_attempts=num_decode_attempts)\n",
    "        \n",
    "        if output is not None:\n",
    "            s, o = output\n",
    "            ip, rdg, _, _, _ = o\n",
    "            Y_candidate = ip - rdg\n",
    "            fresh_evaluated_smiles.append((s, ip, rdg))\n",
    "            break\n",
    "\n",
    "        else:\n",
    "            # Try next best candidate\n",
    "            print('Attempting to decode/evaluate next best candidate')\n",
    "            continue\n",
    "    \n",
    "    if len(fresh_evaluated_smiles)-1 != i:\n",
    "        raise ValueError(f'Non Successful smiles evaluated in BO iter {i}')\n",
    "    \n",
    "    # Add sample to previous samples\n",
    "    Z_sampled = np.vstack((Z_sampled, Z_candidate))\n",
    "    Y_sampled = np.vstack((Y_sampled, Y_candidate))"
   ]
  },
  {
   "cell_type": "code",
   "execution_count": null,
   "metadata": {},
   "outputs": [],
   "source": []
  }
 ],
 "metadata": {
  "kernelspec": {
   "display_name": "osc",
   "language": "python",
   "name": "python3"
  },
  "language_info": {
   "codemirror_mode": {
    "name": "ipython",
    "version": 3
   },
   "file_extension": ".py",
   "mimetype": "text/x-python",
   "name": "python",
   "nbconvert_exporter": "python",
   "pygments_lexer": "ipython3",
   "version": "3.11.4"
  },
  "orig_nbformat": 4
 },
 "nbformat": 4,
 "nbformat_minor": 2
}
