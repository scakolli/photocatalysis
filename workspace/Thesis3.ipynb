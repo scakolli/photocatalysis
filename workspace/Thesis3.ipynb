{
 "cells": [
  {
   "cell_type": "code",
   "execution_count": 1,
   "id": "36b7d104",
   "metadata": {},
   "outputs": [],
   "source": [
    "import numpy as np\n",
    "import pandas as pd\n",
    "import os\n",
    "import subprocess\n",
    "import time\n",
    "import matplotlib.pyplot as plt\n",
    "import itertools\n",
    "from copy import deepcopy\n",
    "\n",
    "from rdkit import Chem\n",
    "import ase\n",
    "from ase.io import read, write\n",
    "from ase.units import Hartree\n",
    "from ase.visualize import view\n",
    "\n",
    "from ase.io.trajectory import Trajectory\n",
    "import glob\n",
    "import pickle"
   ]
  },
  {
   "cell_type": "code",
   "execution_count": 2,
   "id": "1cd38e7b",
   "metadata": {},
   "outputs": [],
   "source": [
    "### For automatically reloading import modules... allows you to run changes to code in jupyter without having to reload\n",
    "%load_ext autoreload\n",
    "%autoreload 2"
   ]
  },
  {
   "cell_type": "code",
   "execution_count": 3,
   "id": "8bbd0f05",
   "metadata": {},
   "outputs": [],
   "source": [
    "# Read Dataframe containing entire chemical space\n",
    "path = os.getcwd() + '/data/'\n",
    "file = 'df_chemical_space_chons_4rings.json'\n",
    "p = pd.read_json(path+file, orient='split')"
   ]
  },
  {
   "cell_type": "code",
   "execution_count": 195,
   "id": "afc8210c",
   "metadata": {},
   "outputs": [
    {
     "data": {
      "image/png": "[encoded data removed]",
      "text/plain": [
       "<rdkit.Chem.rdchem.Mol at 0x7f63bec353f0>"
      ]
     },
     "execution_count": 195,
     "metadata": {},
     "output_type": "execute_result"
    }
   ],
   "source": [
    "# Pick a random molecule in the space and get its smile string\n",
    "rand_i = np.random.randint(315451)\n",
    "# rand_i = 308345\n",
    "# rand_i = 183692 # Debug Error....\n",
    "# rand_i = 48234 # No heteroatoms\n",
    "# smi = p.iloc[rand_i]['molecule_smiles']\n",
    "\n",
    "# Draw chem\n",
    "rdkit_smi = Chem.AddHs(Chem.MolFromSmiles(smi))\n",
    "rdkit_smi"
   ]
  },
  {
   "cell_type": "code",
   "execution_count": null,
   "id": "fde2db59",
   "metadata": {
    "scrolled": true
   },
   "outputs": [],
   "source": [
    "p.iloc[rand_i]"
   ]
  },
  {
   "cell_type": "markdown",
   "id": "875ab9e5",
   "metadata": {},
   "source": [
    "------"
   ]
  },
  {
   "cell_type": "code",
   "execution_count": 4,
   "id": "b514184e",
   "metadata": {},
   "outputs": [],
   "source": [
    "os.chdir('run')"
   ]
  },
  {
   "cell_type": "code",
   "execution_count": 5,
   "id": "6c3d5894",
   "metadata": {},
   "outputs": [],
   "source": [
    "from osc_discovery.photocatalysis.adsorption.tools import prepare_substrate\n",
    "from osc_discovery.photocatalysis.adsorption.optimal_configurations import find_optimal_adsorbate_configurations_sequential, relax_all_adsorbate_configurations, check_site_identity_volatilization\n",
    "from osc_discovery.photocatalysis.thermodynamics.tools import single_run, multi_run\n",
    "from osc_discovery.photocatalysis.thermodynamics.tools import calculate_free_energies, free_energy_diagram\n",
    "from osc_discovery.photocatalysis.thermodynamics.constants import WATER_OXIDATION_POTENTIAL, SHE_VACUUM_POTENTIAL, IPEA_EMPIRICAL_SHIFT"
   ]
  },
  {
   "cell_type": "code",
   "execution_count": null,
   "id": "bbda23f0",
   "metadata": {},
   "outputs": [],
   "source": [
    "def calculate_single_molecule_properties(smile_string):\n",
    "    # Generate conformers, optimize with FF, and then optimize geometry of lowest energy conf with xTB\n",
    "    substrate, substrate_confs = prepare_substrate(smile_string)\n",
    "    \n",
    "    ### 1. Suitability as a photocatalyst and absorber\n",
    "    \n",
    "    # Determine IP/EA/HOMO/LUMO of the substrate\n",
    "    IP, EA, ehomo, elumo = ipea(substrate, substrate.info['calc_params'])\n",
    "    \n",
    "    # Implicit Solvation? \n",
    "    \n",
    "    # Potentially do a cheap TDDFT calculation with sTDA\n",
    "    EA_excited, IP_excited, optical_gap\n",
    "    \n",
    "    # Correct these values to B3LYP level using calibration curve\n",
    "    \n",
    "    # Properties of interest\n",
    "    fund_gap = (IP - EA) # Fundamental gap = optical + exciton binding energy\n",
    "    hole_redox_potential = IP / 1. - SHE_VACUUM_POTENTIAL\n",
    "    \n",
    "    ### 2. Suitability as an electrocatalyst\n",
    "    \n",
    "    intermediate_configs = find_optimal_adsorbate_configurations(substrate)\n",
    "    dGs = calculate_free_energies(substrate, *intermediate_configs)\n",
    "    theoretical_water_redox_potential = dGs.max() + WATER_OXIDATION_POTENTIAL\n",
    "    \n",
    "    driving_potential = (hole_redox_potential - theoretical_water_oxidation_potential)\n",
    "    \n",
    "    print(\"E°(H2O/O2) + η (V):\", theoretical_water_redox_potential)\n",
    "    print(\"Hole redox potential (V):\", hole_redox_potential)\n",
    "    print(\"Photocatalyst capable water oxidation?\", driving_potential > 0)\n",
    "    #free_energy_diagram(dGs)"
   ]
  },
  {
   "cell_type": "markdown",
   "id": "89952e1f",
   "metadata": {},
   "source": [
    "-----"
   ]
  },
  {
   "cell_type": "markdown",
   "id": "3c812fcf",
   "metadata": {},
   "source": [
    "#### Sequential active site search"
   ]
  },
  {
   "cell_type": "code",
   "execution_count": null,
   "id": "02aad96b",
   "metadata": {
    "scrolled": false
   },
   "outputs": [],
   "source": [
    "cs = find_optimal_adsorbate_configurations_sequential(sub, optlevel_low='normal', optlevel_high='vtight', keep_folders=True, multi_process=6)"
   ]
  },
  {
   "cell_type": "code",
   "execution_count": null,
   "id": "c03b62dc",
   "metadata": {
    "scrolled": false
   },
   "outputs": [],
   "source": [
    "cs = multi_run(cs, runtype='hess', calc_kwargs=calc_params, multi_process=3)\n",
    "gs = calculate_free_energies(sub, *cs)\n",
    "gs"
   ]
  },
  {
   "cell_type": "code",
   "execution_count": null,
   "id": "f95fdcc2",
   "metadata": {},
   "outputs": [],
   "source": [
    "free_energy_diagram(gs)"
   ]
  },
  {
   "cell_type": "markdown",
   "id": "4ee4d170",
   "metadata": {},
   "source": [
    "----\n"
   ]
  },
  {
   "cell_type": "markdown",
   "id": "30c74804",
   "metadata": {},
   "source": [
    "Testing with ASE and LFBGS"
   ]
  },
  {
   "cell_type": "code",
   "execution_count": null,
   "id": "b7aa82db",
   "metadata": {},
   "outputs": [],
   "source": [
    "from osc_discovery.photocatalysis.adsorption.constants import OH, O, OOH\n",
    "from osc_discovery.photocatalysis.adsorption.building import build_configuration_from_site\n",
    "from xtb.ase.calculator import XTB\n",
    "from ase.optimize import LBFGS"
   ]
  },
  {
   "cell_type": "code",
   "execution_count": null,
   "id": "f9a93c2d",
   "metadata": {
    "scrolled": true
   },
   "outputs": [],
   "source": [
    "configsO = []\n",
    "for site in range(sub.info['nonH_count']):\n",
    "    configsO += build_configuration_from_site(O, sub, site, f=1.4)\n",
    "    \n",
    "for j, config in enumerate(configsO):\n",
    "    config.calc = XTB(accuracy=0.2, electronic_temp=298.15)\n",
    "    dyn = LBFGS(config, trajectory=f'opt_{j}.traj')\n",
    "    dyn.run(fmax=0.05)"
   ]
  },
  {
   "cell_type": "markdown",
   "id": "fa1be22c",
   "metadata": {},
   "source": [
    "-----"
   ]
  },
  {
   "cell_type": "markdown",
   "id": "c9d362d0",
   "metadata": {},
   "source": [
    "Radical Thermochemistry"
   ]
  },
  {
   "cell_type": "code",
   "execution_count": null,
   "id": "e8f77503",
   "metadata": {},
   "outputs": [],
   "source": [
    "# OH.write('OH.xyz'), O.write('O.xyz'), OOH.write('OOH.xyz')"
   ]
  },
  {
   "cell_type": "code",
   "execution_count": null,
   "id": "84c4edd6",
   "metadata": {},
   "outputs": [],
   "source": [
    "# gfn=2, acc=0.2, uhf=1, etemp=298.15\n",
    "eoh_radical = -4.428374966658 * Hartree\n",
    "eo_radical = -3.769421097051 * Hartree\n",
    "eooh_radical = -8.459628268501 * Hartree"
   ]
  },
  {
   "cell_type": "code",
   "execution_count": null,
   "id": "ab3c2fd4",
   "metadata": {},
   "outputs": [],
   "source": [
    "# Standard entropies taken from NIST (orginally in J/mol/K, converted to eV/atom)\n",
    "soh_radical = 183.71 * 298.15 / 1.60217e-19 / 6.02214e23 \n",
    "so_radical = 161.059 * 298.15 / 1.60217e-19 / 6.02214e23\n",
    "sooh_radical = 229.09 * 298.15 / 1.60217e-19 / 6.02214e23"
   ]
  },
  {
   "cell_type": "code",
   "execution_count": null,
   "id": "01cfd053",
   "metadata": {},
   "outputs": [],
   "source": [
    "TS_H2_g = 0.41\n",
    "TS_H2O_g = 0.67\n",
    "\n",
    "TS1 = (0.5 * TS_H2_g - TS_H2O_g)\n",
    "TS2 = 0.5 * TS_H2_g\n",
    "TS3 = (0.5 * TS_H2_g - TS_H2O_g)\n",
    "TS4 = (2 * TS_H2O_g - 3/2 * TS_H2_g)"
   ]
  },
  {
   "cell_type": "code",
   "execution_count": null,
   "id": "d2f05998",
   "metadata": {},
   "outputs": [],
   "source": [
    "deoh = eoh - eoh_radical - es\n",
    "dsoh = soh - soh_radical - ss\n",
    "dgoh = deoh - dsoh"
   ]
  },
  {
   "cell_type": "code",
   "execution_count": null,
   "id": "8580f240",
   "metadata": {},
   "outputs": [],
   "source": [
    "deo = eo - eo_radical - es\n",
    "dso = so - so_radical - ss\n",
    "dgo = deo - dso"
   ]
  },
  {
   "cell_type": "code",
   "execution_count": null,
   "id": "4a02368e",
   "metadata": {},
   "outputs": [],
   "source": [
    "deooh = eooh - eooh_radical - es\n",
    "dsooh = sooh - sooh_radical - ss\n",
    "dgooh = deooh - dsooh"
   ]
  },
  {
   "cell_type": "code",
   "execution_count": null,
   "id": "671b8bd4",
   "metadata": {},
   "outputs": [],
   "source": [
    "abs(dgoh).argmin(), abs(dgo).argmin(), abs(dgooh).argmin()"
   ]
  },
  {
   "cell_type": "markdown",
   "id": "f3ca0ff3",
   "metadata": {},
   "source": [
    "If were simply looking for the optimal active sites of OH, O, and OOH radical adsorption on the substrate, they would be the near zero free energy changes given above... neither too strongly, nor too weakly. The situation above is completely analogous to the HER mechanism:\n",
    "\n",
    "H+ + e- + * -> *H     OR     1/2 H2 + * -- *H\n",
    "\n",
    "The optimal catalyst for this step in the HER, is the one where ΔGads = G(*H) - G(1/2 H2) - G(*) ~ 0!\n",
    "\n",
    "But in the context of water splitting, there are other reactants/products during each step in the mechanism that changes the calculus of what makes a good active site... ΔGads (bimolecular or dissociative adsorption) has to balance the ΔG of formation of 1/2 H2 gas and the consumption H2O gas, such that the resulting free energy change of the entire step, is as close to the ideal value (in this case 1.23eV)"
   ]
  },
  {
   "cell_type": "code",
   "execution_count": null,
   "id": "a651cbd3",
   "metadata": {},
   "outputs": [],
   "source": [
    "def pairwise_differences(a, b, k=0, flatten=False):\n",
    "    assert len(b) == len(a), 'Arrays must be of equal length! fill with nans'\n",
    "    # Unique Pair wise differences of two vectors (b-a) given by the Upper triangular matrix\n",
    "    # of the difference of (N, 1) and (1, N) vectors with numpy broadcasting\n",
    "    pwd_square = b[:, None] - a\n",
    "    \n",
    "    if not flatten:\n",
    "        # Upper triangle\n",
    "        # Fill lower triangle (made of 0's) with nans\n",
    "        # k=0, includes diagonal | k=1 disregards it\n",
    "        pwd = np.triu(pwd_square, k=k)\n",
    "        pwd[pwd==0.] = np.nan\n",
    "    \n",
    "    else:\n",
    "        # Return upper triangular part in flattened array\n",
    "        uniq_diff_matrix = np.triu_indices(len(a), k=k)\n",
    "        pwd = pwd_square[uniq_diff_matrix]\n",
    "    \n",
    "    return pwd"
   ]
  },
  {
   "cell_type": "code",
   "execution_count": null,
   "id": "ccb5e57a",
   "metadata": {},
   "outputs": [],
   "source": [
    "def fill_na(a, b):\n",
    "    len_diff = len(a) - len(b)\n",
    "    if len_diff > 0:\n",
    "        new_b = np.append(b, len_diff * [np.nan])\n",
    "        return a, new_b\n",
    "    elif len_diff < 0:\n",
    "        new_a = np.append(a, -len_diff * [np.nan])\n",
    "        return new_a, b\n",
    "    else:\n",
    "        return a, b"
   ]
  },
  {
   "cell_type": "code",
   "execution_count": null,
   "id": "9cd53a54",
   "metadata": {},
   "outputs": [],
   "source": [
    "def clean_configs(configs):\n",
    "    # Take a list of configs and resort them according to active\n",
    "    # Also remove duplicate active sites, keeping lowest energy ones\n",
    "    # d = dict.fromkeys([i for i in range(sub.info['nonH_count'])], np.nan)\n",
    "    cs = deepcopy(configs)\n",
    "\n",
    "    for config in cs:\n",
    "        actv = config.info['active_site']\n",
    "        if actv in d and d[actv]:\n",
    "            if config.info['energy'] < d[actv].info['energy']:\n",
    "                d[actv] = config\n",
    "        else:\n",
    "            d[actv] = config\n",
    "\n",
    "    return list(d.values())"
   ]
  },
  {
   "cell_type": "code",
   "execution_count": null,
   "id": "1430d18d",
   "metadata": {},
   "outputs": [],
   "source": [
    "def clean_configs_with_nans(configs):\n",
    "    # Take a list of configs and resort them according to active\n",
    "    d = dict.fromkeys([i for i in range(sub.info['nonH_count'])], np.nan)\n",
    "    cs = deepcopy(configs)\n",
    "\n",
    "    for config in cs:\n",
    "        actv = config.info['active_site']\n",
    "        d[actv] = config\n",
    "\n",
    "    return list(d.values())"
   ]
  },
  {
   "cell_type": "markdown",
   "id": "40449cc0",
   "metadata": {},
   "source": [
    "------------"
   ]
  },
  {
   "cell_type": "code",
   "execution_count": null,
   "id": "141affc3",
   "metadata": {},
   "outputs": [],
   "source": [
    "from osc_discovery.photocatalysis.adsorption.optimal_configurations import filter_configurations\n",
    "from osc_discovery.photocatalysis.thermodynamics.constants import dG1_CORRf, dG2_CORRf, dG3_CORRf, dG4_CORRf"
   ]
  },
  {
   "cell_type": "code",
   "execution_count": 16,
   "id": "ba4d22fa",
   "metadata": {
    "scrolled": true
   },
   "outputs": [
    {
     "name": "stdout",
     "output_type": "stream",
     "text": [
      "Number of rotatable bonds: 0, C(#Cc1cc2c(cc1C#Cc1ccncc1)=CCC=2)c1ccncc1\n",
      "1) Embedding conformers (50). Using 1 processes\n",
      "Took: 2.203059196472168 s\n",
      "2) Minimizing 50 conformers (mmff94)\n",
      "Took: 1.705512285232544 s\n",
      "3) Pruning conformers (RMSD threshold: 0.35 Ang)\n",
      "Took: 0.3326101303100586 s\n",
      "Number of conformers found: 4\n"
     ]
    }
   ],
   "source": [
    "calc_params_new = {'gfnff':'', 'acc':0.2, 'etemp':298.15}\n",
    "subf, sub_confsf = prepare_substrate(smi, calc_params_new)"
   ]
  },
  {
   "cell_type": "code",
   "execution_count": 17,
   "id": "8f8298c0",
   "metadata": {
    "scrolled": true
   },
   "outputs": [
    {
     "data": {
      "text/plain": [
       "2.8359999999999994"
      ]
     },
     "execution_count": 17,
     "metadata": {},
     "output_type": "execute_result"
    }
   ],
   "source": [
    "sub_newf = single_run(subf, runtype='vipea')\n",
    "ipshef = sub_newf.info['ip'] / 1. - SHE_VACUUM_POTENTIAL\n",
    "ipshef"
   ]
  },
  {
   "cell_type": "markdown",
   "id": "0f0755d0",
   "metadata": {},
   "source": [
    "----"
   ]
  },
  {
   "cell_type": "code",
   "execution_count": 21,
   "id": "f1ebe291",
   "metadata": {},
   "outputs": [],
   "source": [
    "def group_by_activesite(egfn, agfn, eff, aff):\n",
    "    Es_grouped = []\n",
    "    for e, a in zip(egfn, agfn):\n",
    "        if a in aff:\n",
    "            indx = aff.tolist().index(a)\n",
    "            Es_grouped.append([e, eff[indx]])\n",
    "            \n",
    "    return np.array(Es_grouped)"
   ]
  },
  {
   "cell_type": "markdown",
   "id": "ebc91b1b",
   "metadata": {},
   "source": [
    "#### Brute active site search"
   ]
  },
  {
   "cell_type": "code",
   "execution_count": 13,
   "id": "16fc1626",
   "metadata": {},
   "outputs": [],
   "source": [
    "from scipy.spatial.distance import pdist, squareform\n",
    "from itertools import product, repeat\n",
    "from collections import OrderedDict\n",
    "from math import prod"
   ]
  },
  {
   "cell_type": "code",
   "execution_count": 7,
   "id": "c4874b3f",
   "metadata": {
    "scrolled": true
   },
   "outputs": [
    {
     "name": "stdout",
     "output_type": "stream",
     "text": [
      "Number of rotatable bonds: 0, C(#Cc1cc2c(cc1C#Cc1ccncc1)=CCC=2)c1ccncc1\n",
      "1) Embedding conformers (50). Using 1 processes\n",
      "Took: 2.2168304920196533 s\n",
      "2) Minimizing 50 conformers (mmff94)\n",
      "Took: 1.7244970798492432 s\n",
      "3) Pruning conformers (RMSD threshold: 0.35 Ang)\n",
      "Took: 0.36763477325439453 s\n",
      "Number of conformers found: 4\n"
     ]
    }
   ],
   "source": [
    "calc_params = {'gfn':2, 'acc':0.2, 'etemp':298.15, 'strict':''}\n",
    "sub, sub_confs = prepare_substrate(smi, calc_params)"
   ]
  },
  {
   "cell_type": "code",
   "execution_count": 8,
   "id": "eab91cdc",
   "metadata": {},
   "outputs": [],
   "source": [
    "sub_new = single_run(sub, runtype='vipea', **calc_params)"
   ]
  },
  {
   "cell_type": "code",
   "execution_count": 9,
   "id": "eb55b03f",
   "metadata": {},
   "outputs": [
    {
     "data": {
      "text/plain": [
       "2.7695999999999996"
      ]
     },
     "execution_count": 9,
     "metadata": {},
     "output_type": "execute_result"
    }
   ],
   "source": [
    "ipshe = sub_new.info['ip'] / 1. - SHE_VACUUM_POTENTIAL\n",
    "ipshe"
   ]
  },
  {
   "cell_type": "code",
   "execution_count": null,
   "id": "242f3e09",
   "metadata": {},
   "outputs": [],
   "source": [
    "rc = relax_all_adsorbate_configurations(sub, calc_params, optlevel='vtight', keep_folders=False, multi_process=6)"
   ]
  },
  {
   "cell_type": "code",
   "execution_count": null,
   "id": "cb88031a",
   "metadata": {
    "scrolled": false
   },
   "outputs": [],
   "source": [
    "rc_vib = []\n",
    "for intermediate in rc:\n",
    "    rc_vib.append(multi_run(intermediate, runtype='hess', calc_kwargs=calc_params, multi_process=6))"
   ]
  },
  {
   "cell_type": "code",
   "execution_count": 6,
   "id": "6ec575ee",
   "metadata": {},
   "outputs": [],
   "source": [
    "# with open('complete_run5.pckl', 'wb') as f:\n",
    "#     pickle.dump([smi, rc_vib[0], rc_vib[1], rc_vib[2]], f)\n",
    "\n",
    "rc_vib = 3*[np.nan]\n",
    "with open('complete_run5.pckl', 'rb') as f:\n",
    "    smi, rc_vib[0], rc_vib[1], rc_vib[2]  = pickle.load(f)"
   ]
  },
  {
   "cell_type": "code",
   "execution_count": 10,
   "id": "f3cf44a9",
   "metadata": {},
   "outputs": [],
   "source": [
    "oh = deepcopy(rc_vib[0])\n",
    "o = deepcopy(rc_vib[1])\n",
    "ooh = deepcopy(rc_vib[2])"
   ]
  },
  {
   "cell_type": "code",
   "execution_count": 11,
   "id": "df424717",
   "metadata": {},
   "outputs": [],
   "source": [
    "es = sub.info['energy']\n",
    "zpes = sub.info['zpe']\n",
    "hs = sub.info['enthalpy']\n",
    "ss = sub.info['entropy']\n",
    "fs = sub.info['free_energy']\n",
    "\n",
    "asoh = np.array([config.info['active_site'] if config is not np.nan else np.nan for config in oh])\n",
    "aso = np.array([config.info['active_site'] if config is not np.nan else np.nan for config in o])\n",
    "asooh = np.array([config.info['active_site'] if config is not np.nan else np.nan for config in ooh])\n",
    "\n",
    "eoh = np.array([config.info['energy'] if config is not np.nan else np.nan for config in oh])\n",
    "eo = np.array([config.info['energy'] if config is not np.nan else np.nan for config in o])\n",
    "eooh = np.array([config.info['energy'] if config is not np.nan else np.nan for config in ooh])\n",
    "\n",
    "zpeoh = np.array([config.info['zpe'] if config is not np.nan else np.nan for config in oh])\n",
    "zpeo = np.array([config.info['zpe'] if config is not np.nan else np.nan for config in o])\n",
    "zpeooh = np.array([config.info['zpe'] if config is not np.nan else np.nan for config in ooh])\n",
    "\n",
    "soh = np.array([config.info['entropy'] if config is not np.nan else np.nan for config in oh])\n",
    "so = np.array([config.info['entropy'] if config is not np.nan else np.nan for config in o])\n",
    "sooh = np.array([config.info['entropy'] if config is not np.nan else np.nan for config in ooh])\n",
    "\n",
    "hoh = np.array([config.info['enthalpy'] if config is not np.nan else np.nan for config in oh])\n",
    "ho = np.array([config.info['enthalpy'] if config is not np.nan else np.nan for config in o])\n",
    "hooh = np.array([config.info['enthalpy'] if config is not np.nan else np.nan for config in ooh])\n",
    "\n",
    "# goh = np.array([config.info['free_energy'] if config is not np.nan else np.nan for config in oh])\n",
    "# go = np.array([config.info['free_energy'] if config is not np.nan else np.nan for config in o])\n",
    "# gooh = np.array([config.info['free_energy'] if config is not np.nan else np.nan for config in ooh])"
   ]
  },
  {
   "cell_type": "code",
   "execution_count": 14,
   "id": "514b1e79",
   "metadata": {},
   "outputs": [],
   "source": [
    "activesites = [[i, j, k] for i, j, k in product(asoh, aso, asooh)]\n",
    "activesites = np.array(activesites).reshape(len(asoh), len(aso), len(asooh), 3)"
   ]
  },
  {
   "cell_type": "code",
   "execution_count": 15,
   "id": "5b1fac5f",
   "metadata": {},
   "outputs": [],
   "source": [
    "def free_energy_multidim(Gs, GOH, GO, GOOH, explicitly_broadcast=True):\n",
    "    # Vectorized free energy expressions with numpy broadcasting\n",
    "    # Gs : scalar, G*: arbitrary length numpy array\n",
    "    # (OH_index, O_index, OOH_index)\n",
    "    \n",
    "    g1 = GOH[:, None, None] - Gs + dG1_CORR\n",
    "    g2 = GO[None, :, None] - GOH[:, None, None] + dG2_CORR\n",
    "    g3 = GOOH[None, None, :] - GO[None, :, None] + dG3_CORR\n",
    "    g4 = Gs - GOOH[None, None, :] + dG4_CORR\n",
    "    \n",
    "    if explicitly_broadcast:\n",
    "        tot_shape = len(GOH), len(GO), len(GOOH)\n",
    "        g1b, g2b, g3b, g4b = explicitly_broadcast_to(tot_shape, g1, g2, g3, g4)\n",
    "        G = np.moveaxis(np.array((g1b, g2b, g3b, g4b)), 0,3)\n",
    "        return G\n",
    "    else:\n",
    "        return g1, g2, g3, g4\n",
    "\n",
    "def explicitly_broadcast_to(shape, *gs_expres):\n",
    "    # Fillout arrays\n",
    "    out = []\n",
    "    for g in gs_expres:\n",
    "        out.append(np.broadcast_to(g, shape))\n",
    "    return tuple(out)"
   ]
  },
  {
   "cell_type": "markdown",
   "id": "18600545",
   "metadata": {},
   "source": [
    "LOOP"
   ]
  },
  {
   "cell_type": "code",
   "execution_count": null,
   "id": "87bd0e1b",
   "metadata": {},
   "outputs": [],
   "source": [
    "dG1_CORR, dG2_CORR, dG3_CORR, dG4_CORR = 124.64641585996927, -13.44012642161362, 124.64641585996927, -230.93270529832492"
   ]
  },
  {
   "cell_type": "code",
   "execution_count": null,
   "id": "88654fef",
   "metadata": {
    "scrolled": true
   },
   "outputs": [],
   "source": [
    "min_overpot = []\n",
    "last_opt_config_indx = None\n",
    "\n",
    "gs = deepcopy(es)\n",
    "goh = deepcopy(eoh)\n",
    "go = deepcopy(eo)\n",
    "gooh = deepcopy(eooh)\n",
    "\n",
    "d0_list, d1_list, d2_list = [], [], []\n",
    "oc0_list, oc1_list, oc2_list = [], [], []\n",
    "\n",
    "run_once_flag = False\n",
    "\n",
    "for i in range(5):\n",
    "    \n",
    "    if last_opt_config_indx is not None:\n",
    "        i0, i1, i2 = last_opt_config_indx\n",
    "        \n",
    "        if run_once_flag:\n",
    "            goh[~completedoh] -= goh_corr\n",
    "            go[~completedo] -= go_corr\n",
    "            gooh[~completedooh] -= gooh_corr\n",
    "        else:\n",
    "            gs += zpes - ss\n",
    "        \n",
    "        # Perform frequency calc here, to obtain corrections di\n",
    "        d0 = (zpeoh - soh)[i0]\n",
    "        d1 = (zpeo - so)[i1]\n",
    "        d2 = (zpeooh - sooh)[i2]\n",
    "        \n",
    "        # Running Mean\n",
    "        d0_list.append(d0)\n",
    "        d1_list.append(d1)\n",
    "        d2_list.append(d2)\n",
    "        \n",
    "        goh_corr = np.mean(d0_list)\n",
    "        go_corr = np.mean(d1_list)\n",
    "        gooh_corr = np.mean(d2_list)\n",
    "        \n",
    "        # Update free energies by setting newly found d's\n",
    "        # and setting other corrections to the mean of previously found corrections\n",
    "        if i0 not in oc0_list:\n",
    "            goh[i0] += d0\n",
    "        if i1 not in oc1_list:\n",
    "            go[i1] += d1\n",
    "        if i2 not in oc2_list:\n",
    "            gooh[i2] += d2\n",
    "            \n",
    "        oc0_list.append(i0)\n",
    "        oc1_list.append(i1)\n",
    "        oc2_list.append(i2)\n",
    "        \n",
    "        # Already completed\n",
    "        completedoh = np.isin(np.arange(len(goh)), oc0_list)\n",
    "        completedo = np.isin(np.arange(len(go)), oc1_list)\n",
    "        completedooh = np.isin(np.arange(len(gooh)), oc2_list)\n",
    "        \n",
    "        goh[~completedoh] += goh_corr\n",
    "        go[~completedo] += go_corr\n",
    "        gooh[~completedooh] += gooh_corr\n",
    "        run_once_flag = True\n",
    "\n",
    "    G = free_energy_multidim(gs, goh, go, gooh)\n",
    "    overpot = G.max(axis=3) - 1.23\n",
    "    \n",
    "    last_opt_config_indx = np.unravel_index(overpot.argmin(), overpot.shape)\n",
    "    \n",
    "    min_overpot.append(overpot.min())\n",
    "    print(i, last_opt_config_indx, overpot.min())\n",
    "    "
   ]
  },
  {
   "cell_type": "code",
   "execution_count": null,
   "id": "89a86357",
   "metadata": {},
   "outputs": [],
   "source": [
    "sum([len(set(oc0_list)), len(set(oc1_list)), len(set(oc2_list))]), last_opt_config_indx, min_overpot[-1]"
   ]
  },
  {
   "cell_type": "markdown",
   "id": "e557d78b",
   "metadata": {},
   "source": [
    "#### no zpe, entropy"
   ]
  },
  {
   "cell_type": "code",
   "execution_count": null,
   "id": "83d16891",
   "metadata": {},
   "outputs": [],
   "source": [
    "# randi = np.random.randint((eoh.size, eo.size, eooh.size), size=3)\n",
    "randi = [12,4,0]"
   ]
  },
  {
   "cell_type": "code",
   "execution_count": null,
   "id": "92b24bbc",
   "metadata": {},
   "outputs": [],
   "source": [
    "# dE1_CORR, dE2_CORR, dE3_CORR, dE4_CORR\n",
    "dG1_CORR, dG2_CORR, dG3_CORR, dG4_CORR = 124.64641585996927, -13.44012642161362, 124.64641585996927, -230.93270529832492\n",
    "\n",
    "# gs = es + zpes - ss\n",
    "# goh = eoh + zpeoh[randi[0]] - soh[randi[0]]\n",
    "# go = eo + zpeo[randi[1]] - so[randi[1]]\n",
    "# gooh = eooh + zpeooh[randi[2]] - sooh[randi[2]]\n",
    "\n",
    "gs, goh, go, gooh = es, eoh, eo, eooh\n",
    "\n",
    "G = free_energy_multidim(gs, goh, go, gooh)\n",
    "\n",
    "# Mean absolute error difference as well as the overpotential\n",
    "mad = abs(G-1.23).sum(axis=3)\n",
    "overpot = G.max(axis=3) - 1.23\n",
    "\n",
    "argsorted_mad = mad.argsort(axis=None, kind='stable')\n",
    "argsorted_overpot = overpot.argsort(axis=None, kind='stable')\n",
    "unravled_argsorted_overpot = np.unravel_index(argsorted_overpot, overpot.shape)\n",
    "\n",
    "lexargsorted_overpot_then_mad = np.lexsort((mad.flatten()[argsorted_overpot], overpot.flatten()[argsorted_overpot]))\n",
    "\n",
    "argsorted_overpot_then_mad = argsorted_overpot[lexargsorted_overpot_then_mad]\n",
    "unraveled_argsorted_overpot_then_mad = np.unravel_index(argsorted_overpot_then_mad, overpot.shape)"
   ]
  },
  {
   "cell_type": "code",
   "execution_count": null,
   "id": "15673ae5",
   "metadata": {},
   "outputs": [],
   "source": [
    "rds = G.argmax(axis=3)\n",
    "# [np.count_nonzero(rds == step) for step in range(4)]"
   ]
  },
  {
   "cell_type": "code",
   "execution_count": null,
   "id": "e6fe81cc",
   "metadata": {},
   "outputs": [],
   "source": [
    "# overpot.argsort(axis=0)[:, 0, 0]\n",
    "# overpot.argsort(axis=1)[0, :, 0]\n",
    "# overpot.argsort(axis=2)[0, 0, :]"
   ]
  },
  {
   "cell_type": "code",
   "execution_count": null,
   "id": "f104ae51",
   "metadata": {},
   "outputs": [],
   "source": [
    "## Rate determining Intermediate\n",
    "# Average minimum overpotential for each intermediate\n",
    "avg_min_overpot = [overpot.min(axis=0).mean(), overpot.min(axis=1).mean(), overpot.min(axis=2).mean()]\n",
    "\n",
    "print(\"Intermediate: \" ,avg_min_overpot.index(min(avg_min_overpot)),\"influences overpot most positively\")"
   ]
  },
  {
   "cell_type": "code",
   "execution_count": null,
   "id": "686aba4b",
   "metadata": {},
   "outputs": [],
   "source": [
    "for l in np.dstack(unravled_argsorted_overpot)[0]:\n",
    "    print(l, overpot[*l], rds[*l])"
   ]
  },
  {
   "cell_type": "markdown",
   "id": "ba6627fb",
   "metadata": {},
   "source": [
    "#### zpe, entropy"
   ]
  },
  {
   "cell_type": "code",
   "execution_count": 47,
   "id": "a42aa6d2",
   "metadata": {},
   "outputs": [],
   "source": [
    "# dG1_CORR, dG2_CORR, dG3_CORR, dG4_CORR = 124.64641585996927, -13.44012642161362, 124.64641585996927, -230.93270529832492\n",
    "Gf = free_energy_multidim(es + zpes - ss, eoh + zpeoh - soh, eo + zpeo - so, eooh + zpeooh - sooh)\n",
    "\n",
    "overpotf = Gf.max(axis=3) - 1.23\n",
    "madf = abs(Gf-1.23).sum(axis=3)\n",
    "\n",
    "argsorted_madf = madf.argsort(axis=None, kind='stable')\n",
    "argsorted_overpotf = overpotf.argsort(axis=None, kind='stable')\n",
    "unravled_argsorted_overpotf = np.unravel_index(argsorted_overpotf, overpotf.shape)\n",
    "\n",
    "lexargsorted_overpot_then_madf = np.lexsort((madf.flatten()[argsorted_overpotf], overpotf.flatten()[argsorted_overpotf]))\n",
    "\n",
    "argsorted_overpot_then_madf = argsorted_overpotf[lexargsorted_overpot_then_madf]\n",
    "unraveled_argsorted_overpot_then_madf = np.unravel_index(argsorted_overpot_then_madf, overpotf.shape)"
   ]
  },
  {
   "cell_type": "code",
   "execution_count": 48,
   "id": "20c3b330",
   "metadata": {},
   "outputs": [],
   "source": [
    "rdsf = Gf.argmax(axis=3)\n",
    "# [np.count_nonzero(rdsf == step) for step in range(4)]"
   ]
  },
  {
   "cell_type": "code",
   "execution_count": null,
   "id": "133567b2",
   "metadata": {
    "scrolled": true
   },
   "outputs": [],
   "source": [
    "for l in np.dstack(unraveled_argsorted_overpot_then_madf)[0]:\n",
    "    print(l, overpotf[*l], rdsf[*l])"
   ]
  },
  {
   "cell_type": "code",
   "execution_count": null,
   "id": "b57a1338",
   "metadata": {},
   "outputs": [],
   "source": [
    "test = np.dstack(unraveled_argsorted_overpot_then_madf)[0]\n",
    "nu, idx = np.unique(test[:, 1], return_index=True)\n",
    "unique_ordered = test[:, 1][np.sort(idx)]"
   ]
  },
  {
   "cell_type": "code",
   "execution_count": null,
   "id": "d4db7e2c",
   "metadata": {
    "scrolled": true
   },
   "outputs": [],
   "source": [
    "for i in test[np.sort(idx)]:\n",
    "    print(i, overpotf[*i])"
   ]
  },
  {
   "cell_type": "code",
   "execution_count": null,
   "id": "e0f99cb6",
   "metadata": {
    "scrolled": false
   },
   "outputs": [],
   "source": [
    "corr1 = (zpeoh - soh) - (zpes - ss)\n",
    "corr2 = (zpeo - so) - (zpeoh - soh)[:, None]\n",
    "corr3 = (zpeooh - sooh) - (zpeo - so)[:, None]\n",
    "corr4 = (zpes - ss) - (zpeooh - sooh)"
   ]
  },
  {
   "cell_type": "code",
   "execution_count": null,
   "id": "bf7ddcf8",
   "metadata": {},
   "outputs": [],
   "source": [
    "plt.hist(corr1)\n",
    "plt.hist(corr2.flatten())\n",
    "plt.hist(corr3.flatten())\n",
    "plt.hist(corr4)"
   ]
  },
  {
   "cell_type": "code",
   "execution_count": null,
   "id": "b97172ec",
   "metadata": {
    "scrolled": false
   },
   "outputs": [],
   "source": [
    "corr1.mean(), corr2.mean(), corr3.mean(), corr4.mean()"
   ]
  },
  {
   "cell_type": "code",
   "execution_count": null,
   "id": "04032a73",
   "metadata": {},
   "outputs": [],
   "source": [
    "corr3.mean()-corr1.mean()"
   ]
  },
  {
   "cell_type": "code",
   "execution_count": null,
   "id": "623294a8",
   "metadata": {
    "scrolled": true
   },
   "outputs": [],
   "source": [
    "(zpeoh - zpes).mean(), (zpeooh-zpeo[:, None]).mean()"
   ]
  },
  {
   "cell_type": "code",
   "execution_count": null,
   "id": "4c0bc900",
   "metadata": {},
   "outputs": [],
   "source": [
    "G[:, :, :, 2].min()  - G[:, :, :, 0].max()"
   ]
  },
  {
   "cell_type": "code",
   "execution_count": null,
   "id": "adf10b7a",
   "metadata": {},
   "outputs": [],
   "source": [
    "_, idx = np.unique(overpotf[unravled_argsorted_overpotf], return_index=True)\n",
    "# uniqueoh_ordered = test[:, 0][np.sort(idx)]"
   ]
  },
  {
   "cell_type": "code",
   "execution_count": null,
   "id": "5c6da784",
   "metadata": {},
   "outputs": [],
   "source": [
    "u_list = []\n",
    "for u, r in zip(unravled_argsorted_overpotf_stacked[idx], rdsf_sorted[idx]):\n",
    "    if r == 3:\n",
    "        u_list.append([np.nan, np.nan, u[2]])\n",
    "    elif r == 2:\n",
    "        u_list.append([np.nan, *u[1:3]])\n",
    "    elif r == 1:\n",
    "        u_list.append([*u[0:2], np.nan])\n",
    "    else:\n",
    "        u_list.append([u[0], np.nan, np.nan])"
   ]
  },
  {
   "cell_type": "markdown",
   "id": "d9449a49",
   "metadata": {},
   "source": [
    "#### ZPE and TS corrections for species that require hessian calc.\n",
    "other ZPE, TS contributions related to H2O and H2 already factored into dGi_CORR\n",
    "\n",
    "Δ1(ZPE-TS) = (ZPEOH - ZPEs) - (TSOH - TSs)\n",
    "\n",
    "Δ2(ZPE-TS) = (ZPEO - ZPEOH) - (TSO - TSOH)\n",
    "\n",
    "Δ3(ZPE-TS) = (ZPEOOH - ZPEO) - (TSOOH - TSO)\n",
    "\n",
    "Δ4(ZPE-TS) = (ZPEs - ZPEOOh) - (TSs - TSOOH)\n",
    "\n",
    "\n",
    "##### Δ1 > 0\n",
    "Bound OH has more zpe and entropy than just the substrate, thus Δ1 > 0 if zpe change is larger than entropy change.\n",
    "This is a very good approximation to make.\n",
    "\n",
    "##### Δ2 < 0 \n",
    "Bound O has less zpe and entropy than bound OH.\n",
    "\n",
    "##### Δ3 > 0\n",
    "Bound OOH has more zpe and entropy than bound O.\n",
    "\n",
    "##### Δ4 < 0\n",
    "Substrate has less zpe and entropy than bound OOH.\n",
    "\n",
    "If step 3 is the rate determining step (which seems to be the case, atleast for a handful of samples), then it will c"
   ]
  },
  {
   "cell_type": "code",
   "execution_count": null,
   "id": "a22d138c",
   "metadata": {},
   "outputs": [],
   "source": [
    "# Rate determining step\n",
    "# rdsf = Gf.argmax(axis=3)\n",
    "# rds_counts = [np.count_nonzero(rdsf == step) for step in range(4)]\n",
    "# rds_counts"
   ]
  },
  {
   "cell_type": "code",
   "execution_count": null,
   "id": "e10b364c",
   "metadata": {},
   "outputs": [],
   "source": [
    "# Single site overpotentials\n",
    "# [overpot[(activesites == [i, i, i]).all(-1)] for i in range(sub.info['nonH_count'])]"
   ]
  },
  {
   "cell_type": "code",
   "execution_count": null,
   "id": "325a48a8",
   "metadata": {},
   "outputs": [],
   "source": [
    "# Find unique configs and perform freq calc on only those?\n",
    "# np.unique(np.dstack(unraveled_argsorted_overpot_then_mad)[0][:50][:, 2])"
   ]
  },
  {
   "cell_type": "markdown",
   "id": "869d3388",
   "metadata": {},
   "source": [
    "-----"
   ]
  },
  {
   "cell_type": "code",
   "execution_count": null,
   "id": "0899c6b2",
   "metadata": {
    "scrolled": false
   },
   "outputs": [],
   "source": [
    "test = np.dstack(unravled_argsorted_overpot)[0]\n",
    "testf = np.dstack(unravled_argsorted_overpotf)[0]"
   ]
  },
  {
   "cell_type": "code",
   "execution_count": null,
   "id": "e51846d0",
   "metadata": {},
   "outputs": [],
   "source": [
    "test, testf"
   ]
  },
  {
   "cell_type": "code",
   "execution_count": null,
   "id": "cf849ead",
   "metadata": {},
   "outputs": [],
   "source": [
    "_, idx = np.unique(test[:, 0], return_index=True)\n",
    "uniqueoh_ordered = test[:, 0][np.sort(idx)]\n",
    "\n",
    "_, idx = np.unique(test[:, 1], return_index=True)\n",
    "uniqueo_ordered = test[:, 1][np.sort(idx)]\n",
    "\n",
    "_, idx = np.unique(test[:, 2], return_index=True)\n",
    "uniqueooh_ordered = test[:, 2][np.sort(idx)]"
   ]
  },
  {
   "cell_type": "code",
   "execution_count": null,
   "id": "70b19ffe",
   "metadata": {},
   "outputs": [],
   "source": [
    "uniqueoh_ordered[:5], uniqueo_ordered[:5], uniqueooh_ordered[:5]"
   ]
  },
  {
   "cell_type": "code",
   "execution_count": null,
   "id": "8fca94ce",
   "metadata": {},
   "outputs": [],
   "source": [
    "_, idx = np.unique(testf[:, 0], return_index=True)\n",
    "uniqueohf_ordered = testf[:, 0][np.sort(idx)]\n",
    "\n",
    "_, idx = np.unique(testf[:, 1], return_index=True)\n",
    "uniqueof_ordered = testf[:, 1][np.sort(idx)]\n",
    "\n",
    "_, idx = np.unique(testf[:, 2], return_index=True)\n",
    "uniqueoohf_ordered = testf[:, 2][np.sort(idx)]"
   ]
  },
  {
   "cell_type": "code",
   "execution_count": null,
   "id": "6a9f8169",
   "metadata": {},
   "outputs": [],
   "source": [
    "uniqueohf_ordered[:5], uniqueof_ordered[:5], uniqueoohf_ordered[:5]"
   ]
  },
  {
   "cell_type": "markdown",
   "id": "a6247d36",
   "metadata": {},
   "source": [
    "-----"
   ]
  },
  {
   "cell_type": "code",
   "execution_count": null,
   "id": "13b06067",
   "metadata": {},
   "outputs": [],
   "source": [
    "N = 100 # activesites.size // 100\n",
    "actvs = activesites[unraveled_argsorted_overpot_then_mad][:N]\n",
    "uactvs = np.unique(actvs)\n",
    "counts = [np.count_nonzero(actvs == a)  for a in uactvs]"
   ]
  },
  {
   "cell_type": "code",
   "execution_count": null,
   "id": "5a2d78dc",
   "metadata": {},
   "outputs": [],
   "source": [
    "d = dict()\n",
    "m = deepcopy(rdkit_smi)\n",
    "\n",
    "for atom in m.GetAtoms():\n",
    "    indx = atom.GetIdx()\n",
    "    if indx in uactvs:\n",
    "        counts = np.count_nonzero(actvs == indx)\n",
    "        d[indx] = counts\n",
    "    else:\n",
    "        d[indx] = 0\n",
    "        \n",
    "counts_total = list(d.values())\n",
    "counts_total[22] = 0\n",
    "# counts_total = np.array(counts_total) / sum(counts_total)"
   ]
  },
  {
   "cell_type": "code",
   "execution_count": null,
   "id": "58d3db1c",
   "metadata": {},
   "outputs": [],
   "source": [
    "from rdkit.Chem.Draw import SimilarityMaps\n",
    "import io\n",
    "from PIL import Image"
   ]
  },
  {
   "cell_type": "code",
   "execution_count": null,
   "id": "b795e7f8",
   "metadata": {},
   "outputs": [],
   "source": [
    "def show_png(data):\n",
    "    bio = io.BytesIO(data)\n",
    "    img = Image.open(bio)\n",
    "    return img"
   ]
  },
  {
   "cell_type": "code",
   "execution_count": null,
   "id": "c873cfbf",
   "metadata": {
    "scrolled": true
   },
   "outputs": [],
   "source": [
    "m = deepcopy(rdkit_smi)\n",
    "dr = Draw.MolDraw2DCairo(400, 400)\n",
    "SimilarityMaps.GetSimilarityMapFromWeights(m, counts_total, draw2d=dr, colorMap='bwr')\n",
    "dr.FinishDrawing()\n",
    "show_png(dr.GetDrawingText())"
   ]
  },
  {
   "cell_type": "code",
   "execution_count": null,
   "id": "bd73834b",
   "metadata": {},
   "outputs": [],
   "source": [
    "d = dict()\n",
    "m = deepcopy(rdkit_smi)\n",
    "m = Chem.RemoveHs(m)\n",
    "\n",
    "for atom in m.GetAtoms():\n",
    "    indx = atom.GetIdx()\n",
    "    if indx in aso.tolist():\n",
    "        config_indx = aso.tolist().index(indx)\n",
    "        mo = overpot[:, config_indx, :].mean()\n",
    "        d[indx] = mo\n",
    "    else:\n",
    "        d[indx] = 0\n",
    "        \n",
    "counts_total = list(d.values())\n",
    "# counts_total[22] = 0\n",
    "# counts_total = np.array(counts_total) / sum(counts_total)"
   ]
  },
  {
   "cell_type": "code",
   "execution_count": null,
   "id": "37c9f822",
   "metadata": {
    "scrolled": true
   },
   "outputs": [],
   "source": [
    "dr = Draw.MolDraw2DCairo(400, 400)\n",
    "SimilarityMaps.GetSimilarityMapFromWeights(m, counts_total, draw2d=dr, colorMap='tab20b')\n",
    "dr.FinishDrawing()\n",
    "show_png(dr.GetDrawingText())"
   ]
  },
  {
   "cell_type": "code",
   "execution_count": null,
   "id": "7b5b8a1d",
   "metadata": {},
   "outputs": [],
   "source": [
    "cand0 = np.array([overpot[i, :, :].mean() for i in range(G.shape[0])]).argsort()[:5]"
   ]
  },
  {
   "cell_type": "code",
   "execution_count": null,
   "id": "7bd5081a",
   "metadata": {},
   "outputs": [],
   "source": [
    "cand1 = np.array([overpot[:, i, :].mean() for i in range(G.shape[1])]).argsort()[:5]"
   ]
  },
  {
   "cell_type": "code",
   "execution_count": null,
   "id": "b8d51615",
   "metadata": {},
   "outputs": [],
   "source": [
    "cand2 = np.array([overpot[:, :, i].mean() for i in range(G.shape[2])]).argsort()[:5]"
   ]
  },
  {
   "cell_type": "code",
   "execution_count": null,
   "id": "5dcdb293",
   "metadata": {},
   "outputs": [],
   "source": [
    "set((*cand0, *cand1, *cand2))"
   ]
  },
  {
   "cell_type": "markdown",
   "id": "2587211c",
   "metadata": {},
   "source": [
    "#### Drawing"
   ]
  },
  {
   "cell_type": "code",
   "execution_count": 192,
   "id": "4d07b347",
   "metadata": {},
   "outputs": [],
   "source": [
    "def mol_with_specific_atom_index(mol, indices=None):\n",
    "    if indices is not None:\n",
    "        for atom in mol.GetAtoms():\n",
    "            if atom.GetIdx() in indices:\n",
    "                atom.SetAtomMapNum(atom.GetIdx())\n",
    "    else:\n",
    "        for atom in mol.GetAtoms():\n",
    "            atom.SetAtomMapNum(atom.GetIdx())\n",
    "    return mol"
   ]
  },
  {
   "cell_type": "code",
   "execution_count": 193,
   "id": "38a24058",
   "metadata": {},
   "outputs": [],
   "source": [
    "from rdkit.Chem import Draw\n",
    "from rdkit.Chem.Draw import IPythonConsole\n",
    "# IPythonConsole.drawOptions.useBWAtomPalette()\n",
    "# IPythonConsole.drawOptions.useDefaultAtomPalette()\n",
    "IPythonConsole.drawOptions.useCDKAtomPalette()"
   ]
  },
  {
   "cell_type": "code",
   "execution_count": null,
   "id": "f2a52f2c",
   "metadata": {
    "scrolled": true
   },
   "outputs": [],
   "source": [
    "N = 300\n",
    "\n",
    "args = np.dstack(unraveled_argsorted_overpot_then_mad)[0][:N:20]\n",
    "# args = activesites[argsorted_overpot][:N]\n",
    "# args = argsorted_overpot_then_mad[:N:20]\n",
    "\n",
    "l = []\n",
    "ms = []\n",
    "for arg in args:\n",
    "    overpotential = overpot[*arg]\n",
    "    meanabsdiff = mad[*arg]\n",
    "#     overpotential = overpot.flatten()[arg]\n",
    "#     meanabsdiff = mad.flatten()[arg]\n",
    "    \n",
    "    # |as:{arg[0], arg[1], arg[2]}, \n",
    "    l.append(f'|over:{round(overpotential, 4)}eV, mad:{round(meanabsdiff, 4)}|')\n",
    "    \n",
    "    m = deepcopy(rdkit_smi)\n",
    "    #m.GetAtomWithIdx(int(arg[0])).SetProp('atomNote', 'OH')\n",
    "    #m.GetAtomWithIdx(int(arg[1])).SetProp('atomNote', 'O')\n",
    "    #m.GetAtomWithIdx(int(arg[2])).SetProp('atomNote', 'OOH')\n",
    "    m = Chem.RemoveHs(m)\n",
    "#     asite = activesites[np.unravel_index(arg, overpot.shape)].astype(int)\n",
    "    asite = activesites[*arg].astype(int)\n",
    "    m = mol_with_specific_atom_index(m, indices=[*asite])\n",
    "    ms.append(m)"
   ]
  },
  {
   "cell_type": "code",
   "execution_count": 196,
   "id": "98d88972",
   "metadata": {},
   "outputs": [],
   "source": [
    "N = 30\n",
    "\n",
    "args = np.dstack(unraveled_argsorted_overpot_then_madf)[0][:N]\n",
    "# args = activesites[argsorted_overpotf][:N]\n",
    "# args = argsorted_overpot_then_madf[:N:20]\n",
    "\n",
    "l = []\n",
    "ms = []\n",
    "for arg in args:\n",
    "    overpotential = overpotf[*arg]\n",
    "    meanabsdiff = madf[*arg]\n",
    "#     overpotential = overpotf.flatten()[arg]\n",
    "#     meanabsdiff = madf.flatten()[arg]\n",
    "    \n",
    "    # |as:{arg[0], arg[1], arg[2]}, \n",
    "    l.append(f'|over:{round(overpotential, 4)}eV, mad:{round(meanabsdiff, 4)}|')\n",
    "    \n",
    "    m = deepcopy(rdkit_smi)\n",
    "    #m.GetAtomWithIdx(int(arg[0])).SetProp('atomNote', 'OH')\n",
    "    #m.GetAtomWithIdx(int(arg[1])).SetProp('atomNote', 'O')\n",
    "    #m.GetAtomWithIdx(int(arg[2])).SetProp('atomNote', 'OOH')\n",
    "    m = Chem.RemoveHs(m)\n",
    "#     asite = activesites[np.unravel_index(arg, overpot.shape)].astype(int)\n",
    "    asite = activesites[*arg].astype(int)\n",
    "    m = mol_with_specific_atom_index(m, indices=[*asite])\n",
    "    ms.append(m)"
   ]
  },
  {
   "cell_type": "code",
   "execution_count": 197,
   "id": "8fc6bd49",
   "metadata": {
    "scrolled": false
   },
   "outputs": [
    {
     "data": {
      "image/png": "[encoded data removed]",
      "text/plain": [
       "<IPython.core.display.Image object>"
      ]
     },
     "execution_count": 197,
     "metadata": {},
     "output_type": "execute_result"
    }
   ],
   "source": [
    "Draw.MolsToGridImage(ms, legends=l, highlightAtomLists=activesites[unraveled_argsorted_overpot_then_madf].tolist(), subImgSize=(250,250))"
   ]
  },
  {
   "cell_type": "markdown",
   "id": "2090fb6d",
   "metadata": {},
   "source": [
    "----"
   ]
  },
  {
   "cell_type": "code",
   "execution_count": null,
   "id": "2b1b5c2e",
   "metadata": {},
   "outputs": [],
   "source": [
    "def free_energy(es_i, eoh_i, eo_i, eooh_i):\n",
    "    dg1 = (eoh_i - es_i) + dG1_CORR\n",
    "    dg2 = (eo_i - eoh_i) + dG2_CORR\n",
    "    dg3 = (eooh_i - eo_i) + dG3_CORR\n",
    "    dg4 = (es_i - eooh_i) + dG4_CORR\n",
    "\n",
    "    return np.array((dg1, dg2, dg3, dg4))"
   ]
  },
  {
   "cell_type": "code",
   "execution_count": null,
   "id": "4bac2e5a",
   "metadata": {},
   "outputs": [],
   "source": [
    "def enumerated_product(*args):\n",
    "    yield from zip(product(*(range(len(x)) for x in args)), product(*args))\n",
    "\n",
    "mads = []\n",
    "indxs = []\n",
    "\n",
    "for config_indx, energies in enumerated_product(eoh, eo, eooh):\n",
    "    eoh_i, eo_i, eooh_i = energies\n",
    "    gs = free_energy(es, eoh_i, eo_i, eooh_i)\n",
    "    mad_ = (abs(gs-1.23)).sum() #mean absolute diff\n",
    "    #msd = np.linalg.norm(gs-1.23) #mean squared diff\n",
    "    mads.append(mad_)\n",
    "    indxs.append(config_indx)"
   ]
  },
  {
   "cell_type": "code",
   "execution_count": null,
   "id": "a8740add",
   "metadata": {
    "scrolled": true
   },
   "outputs": [],
   "source": [
    "# iis = indxs[mads.index(min(mads))]\n",
    "# iis_as = int(oh[iis[0]].info['active_sites'][0]), int(o[iis[1]].info['active_sites'][0]), int(ooh[iis[2]].info['active_sites'][0])"
   ]
  },
  {
   "cell_type": "code",
   "execution_count": null,
   "id": "3fb61196",
   "metadata": {},
   "outputs": [],
   "source": [
    "free_energy(es, oh[iis[0]].info['energy'], o[iis[1]].info['energy'], ooh[iis[2]].info['energy'])"
   ]
  },
  {
   "cell_type": "code",
   "execution_count": null,
   "id": "7fe8f050",
   "metadata": {},
   "outputs": [],
   "source": [
    "mol.GetAtomWithIdx(oh[iis[0]].info['active_sites'][0]).SetProp('atomNote', 'OH')\n",
    "mol.GetAtomWithIdx(2).SetProp('atomNote', 'O')\n",
    "mol.GetAtomWithIdx(2).SetProp('atomNote', 'OOH')"
   ]
  },
  {
   "cell_type": "code",
   "execution_count": null,
   "id": "224f7f63",
   "metadata": {},
   "outputs": [],
   "source": [
    "def mol_with_atom_index(mol, indices=None):\n",
    "    if indices is not None:\n",
    "        \n",
    "    \n",
    "    for atom in mol.GetAtoms():\n",
    "        atom.SetAtomMapNum(atom.GetIdx())\n",
    "    return mol"
   ]
  },
  {
   "cell_type": "code",
   "execution_count": null,
   "id": "a290c6b9",
   "metadata": {},
   "outputs": [],
   "source": [
    "oh[iis[0]].info['active_sites'][0]"
   ]
  },
  {
   "cell_type": "code",
   "execution_count": null,
   "id": "d629db20",
   "metadata": {},
   "outputs": [],
   "source": [
    "m = deepcopy(rdkit_smi)\n",
    "m.GetAtomWithIdx(iis_as[0]).SetProp('atomNote', 'OH')\n",
    "m.GetAtomWithIdx(iis_as[1]).SetProp('atomNote', 'O')\n",
    "m.GetAtomWithIdx(iis_as[2]).SetProp('atomNote', 'OOH')\n",
    "m.__sssAtoms = [*iis_as]\n",
    "m"
   ]
  },
  {
   "cell_type": "markdown",
   "id": "b47eacfa",
   "metadata": {},
   "source": [
    "-----"
   ]
  },
  {
   "cell_type": "code",
   "execution_count": null,
   "id": "785ca209",
   "metadata": {},
   "outputs": [],
   "source": [
    "eoh, eo = fill_na(eoh, eo)\n",
    "eo, eooh = fill_na(eo, eooh)\n",
    "\n",
    "so, soh = fill_na(so, soh)\n",
    "sooh, so = fill_na(sooh, so)\n",
    "\n",
    "ho, hoh = fill_na(ho, hoh)\n",
    "hooh, ho = fill_na(hooh, ho)\n",
    "\n",
    "go, goh = fill_na(go, goh)\n",
    "gooh, go = fill_na(gooh, go)"
   ]
  },
  {
   "cell_type": "code",
   "execution_count": null,
   "id": "4e22dd03",
   "metadata": {},
   "outputs": [],
   "source": [
    "e1 = eoh - sub.info['energy']\n",
    "e2 = pairwise_differences(eoh, eo)\n",
    "e3 = pairwise_differences(eo, eooh)\n",
    "e4 = sub.info['energy'] - eooh"
   ]
  },
  {
   "cell_type": "code",
   "execution_count": null,
   "id": "0aab7d9f",
   "metadata": {},
   "outputs": [],
   "source": [
    "e1_min_indx = np.unravel_index(np.nanargmin(e1), e1.shape)\n",
    "e2_min_indx = np.unravel_index(np.nanargmin(e2), e2.shape)\n",
    "e3_min_indx = np.unravel_index(np.nanargmin(e3), e3.shape)\n",
    "e4_min_indx = np.unravel_index(np.nanargmin(e4), e4.shape)"
   ]
  },
  {
   "cell_type": "code",
   "execution_count": null,
   "id": "36291ad6",
   "metadata": {},
   "outputs": [],
   "source": [
    "# active_sites_configsOH[e1_min_indx], active_sites_configsO[e2_min_indx[0]], active_sites_configsOOH[e3_min_indx[0]]"
   ]
  },
  {
   "cell_type": "markdown",
   "id": "d01fcd60",
   "metadata": {},
   "source": [
    "Pairwise Energy Differences"
   ]
  },
  {
   "cell_type": "code",
   "execution_count": null,
   "id": "548ad42b",
   "metadata": {},
   "outputs": [],
   "source": [
    "# abs()\n",
    "pwed_OH = pdist(energiesOH[:, None])\n",
    "pwed_O = pdist(energiesO[:, None])\n",
    "pwed_OOH = pdist(energiesOOH[:, None])\n",
    "\n",
    "# diff\n",
    "pwed_OH_d = pairwise_differences(eoh, eoh, k=1, flatten=True)\n",
    "pwed_O_d = pairwise_differences(eo, eo, k=1, flatten=True)\n",
    "pwed_OOH_d = pairwise_differences(eooh, eooh, k=1, flatten=True)"
   ]
  },
  {
   "cell_type": "code",
   "execution_count": null,
   "id": "2f4c86e0",
   "metadata": {
    "scrolled": false
   },
   "outputs": [],
   "source": [
    "b = 20\n",
    "a = 0.5\n",
    "\n",
    "plt.hist(pwed_OH, bins=b, color='r', alpha=a, label='OH', density=True)\n",
    "plt.hist(pwed_O, bins=b, color='b', alpha=a, label='O', density=True)\n",
    "plt.hist(pwed_OOH, bins=b, color='g', alpha=a, label='OOH', density=True)\n",
    "plt.legend()"
   ]
  },
  {
   "cell_type": "code",
   "execution_count": null,
   "id": "1b87fcf1",
   "metadata": {},
   "outputs": [],
   "source": [
    "b = 20\n",
    "a = 0.5\n",
    "\n",
    "plt.hist(pwed_OH_d, bins=b, color='r', alpha=a, label='OH', density=True)\n",
    "plt.hist(pwed_O_d, bins=b, color='b', alpha=a, label='O', density=True)\n",
    "plt.hist(pwed_OOH_d, bins=b, color='g', alpha=a, label='OOH', density=True)\n",
    "plt.legend()"
   ]
  },
  {
   "cell_type": "markdown",
   "id": "30739001",
   "metadata": {},
   "source": [
    "Once bound, its unlikely that the intermediates migrate to other sites (especially the case for the strongly bound O intermediate). But they don't necessarily have to migrate to another site BEFORE participating in the next OER step; going from OH* -> O** + 0.5 H2 could happen in presumable one concerted step (a step along the saddle point seam of the PES)."
   ]
  },
  {
   "cell_type": "markdown",
   "id": "e0cdbd50",
   "metadata": {},
   "source": [
    "Also, its probably not enough to find optimal configurations sequentially and piece them together as done in the past.\n",
    "One O* intermediate might be suitable for dG2 but not for dG3...you might just have to enumerate all possibilities and pick the combos that minimize the total free energy (sum of dGi, for i=1...4). Something to look into: perhaps pairwise energy differences could be informative, especially if we need to calculate ZPE for each adsorbate which would be expensive. See how zpe changes"
   ]
  },
  {
   "cell_type": "markdown",
   "id": "94b8077e",
   "metadata": {},
   "source": [
    "Before analyzing free energy differences, we should include the entropy of intermediates into the free energy expressions"
   ]
  },
  {
   "cell_type": "code",
   "execution_count": null,
   "id": "0fdf8c80",
   "metadata": {},
   "outputs": [],
   "source": [
    "so, soh = fill_na(so, soh)\n",
    "sooh, so = fill_na(sooh, so)\n",
    "\n",
    "ho, hoh = fill_na(ho, hoh)\n",
    "hooh, ho = fill_na(hooh, ho)\n",
    "\n",
    "go, goh = fill_na(go, goh)\n",
    "gooh, go = fill_na(gooh, go)"
   ]
  },
  {
   "cell_type": "code",
   "execution_count": null,
   "id": "5c190f79",
   "metadata": {},
   "outputs": [],
   "source": [
    "s1 = soh - sub.info['entropy']\n",
    "s2 = pairwise_differences(soh, so)\n",
    "s3 = pairwise_differences(so, sooh)\n",
    "s4 = sub.info['entropy'] - sooh\n",
    "\n",
    "h1 = hoh - sub.info['enthalpy']\n",
    "h2 = pairwise_differences(hoh, ho)\n",
    "h3 = pairwise_differences(ho, hooh)\n",
    "h4 = sub.info['enthalpy'] - hooh\n",
    "\n",
    "g1 = hoh - sub.info['free_energy']\n",
    "g2 = pairwise_differences(goh, go)\n",
    "g3 = pairwise_differences(go, gooh)\n",
    "g4 = sub.info['free_energy'] - gooh"
   ]
  },
  {
   "cell_type": "code",
   "execution_count": null,
   "id": "db478a86",
   "metadata": {
    "scrolled": false
   },
   "outputs": [],
   "source": [
    "fig, ax = plt.subplots(1, 2)\n",
    "\n",
    "ax[0].hist(s1, bins=b//2, label='dS1', alpha=a, density=True, color='red')\n",
    "# ax[1].hist(s2, bins=b, label='dS2', alpha=a, density=True, color='blue')\n",
    "ax[1].hist(s3, bins=b, label='dS3', alpha=a, density=True, color='green')\n",
    "# ax[0].hist(s4, bins=b, label='dS4', alpha=a, density=True, color='orange')\n",
    "ax[0].legend()\n",
    "ax[1].legend()"
   ]
  },
  {
   "cell_type": "code",
   "execution_count": null,
   "id": "7b37dc03",
   "metadata": {
    "scrolled": false
   },
   "outputs": [],
   "source": [
    "fig, ax = plt.subplots(1, 2)\n",
    "\n",
    "ax[0].hist(h1, bins=b//2, label='dH1', alpha=a, density=True, color='red')\n",
    "ax[1].hist(h2, bins=b, label='dH2', alpha=a, density=True, color='blue')\n",
    "ax[0].hist(h2, bins=b, label='dH3', alpha=a, density=True, color='green')\n",
    "ax[1].hist(h3, bins=b, label='dH4', alpha=a, density=True, color='orange')\n",
    "ax[0].legend()\n",
    "ax[1].legend()"
   ]
  },
  {
   "cell_type": "code",
   "execution_count": null,
   "id": "96e14b0f",
   "metadata": {},
   "outputs": [],
   "source": [
    "fig, ax = plt.subplots(1, 2)\n",
    "\n",
    "ax[0].hist(g1, bins=b//2, label='dG1', alpha=a, density=True, color='red')\n",
    "ax[1].hist(g2, bins=b, label='dG2', alpha=a, density=True, color='blue')\n",
    "ax[1].hist(g3, bins=b, label='dG3', alpha=a, density=True, color='green')\n",
    "ax[0].hist(g4, bins=b, label='dG4', alpha=a, density=True, color='orange')\n",
    "ax[0].legend()\n",
    "ax[1].legend()"
   ]
  },
  {
   "cell_type": "markdown",
   "id": "b4c20500",
   "metadata": {},
   "source": [
    "#### Sequential active site search"
   ]
  },
  {
   "cell_type": "code",
   "execution_count": null,
   "id": "1e0b0b7b",
   "metadata": {
    "scrolled": false
   },
   "outputs": [],
   "source": [
    "cs = find_optimal_adsorbate_configurations_sequential(sub, optlevel_low='normal', optlevel_high='vtight', keep_folders=True, multi_process=6)"
   ]
  },
  {
   "cell_type": "code",
   "execution_count": null,
   "id": "b45bba37",
   "metadata": {
    "scrolled": false
   },
   "outputs": [],
   "source": [
    "cs = multi_run(cs, runtype='hess', calc_kwargs=calc_params, multi_process=3)\n",
    "gs = calculate_free_energies(sub, *cs)\n",
    "gs"
   ]
  },
  {
   "cell_type": "code",
   "execution_count": null,
   "id": "930af0b8",
   "metadata": {},
   "outputs": [],
   "source": [
    "free_energy_diagram(gs)"
   ]
  },
  {
   "cell_type": "markdown",
   "id": "b9daab20",
   "metadata": {},
   "source": [
    "-----"
   ]
  },
  {
   "cell_type": "code",
   "execution_count": null,
   "id": "8a794fc8",
   "metadata": {},
   "outputs": [],
   "source": [
    "# as_combos = [[[sub[ai].symbol, sub[av].symbol] for ai in active_sites_configsOH] for av in active_sites_configsOH]"
   ]
  },
  {
   "cell_type": "code",
   "execution_count": null,
   "id": "3929ae7a",
   "metadata": {},
   "outputs": [],
   "source": [
    "# unique_symbols = sorted(list(set(sub.get_chemical_symbols())))\n",
    "# unique_symbols.remove('H')"
   ]
  },
  {
   "cell_type": "code",
   "execution_count": null,
   "id": "decd011a",
   "metadata": {},
   "outputs": [],
   "source": [
    "# migration_combos = [(us, us) for us in unique_symbols] + [p for p in itertools.combinations(unique_symbols, 2)]\n",
    "# migration_perms = [[us, us] for us in unique_symbols] + [p for p in itertools.permutations(unique_symbols, 2)]"
   ]
  },
  {
   "cell_type": "markdown",
   "id": "fce2e3db",
   "metadata": {},
   "source": [
    "# Fukui"
   ]
  },
  {
   "cell_type": "code",
   "execution_count": null,
   "id": "000cd300",
   "metadata": {},
   "outputs": [],
   "source": [
    "# r_sub_confs = relax_configurations(sub_confs, sub.info['calc_params'], {\"trajectory\":None, \"fmax\":0.0005}, multi_process=8)\n",
    "\n",
    "# for i, c in enumerate(cs):\n",
    "#     c.write(f'{i}.xyz')\n",
    "    \n",
    "# sub.write('s.xyz')\n",
    "\n",
    "# c0 = read('0.xyz')\n",
    "# c1 = read('1.xyz')\n",
    "# c2 = read('2.xyz')"
   ]
  },
  {
   "cell_type": "code",
   "execution_count": null,
   "id": "365eab24",
   "metadata": {},
   "outputs": [],
   "source": [
    "from osc_discovery.photocatalysis.adsorption.constants import OH\n",
    "from osc_discovery.photocatalysis.adsorption.building import build_configuration_from_site"
   ]
  },
  {
   "cell_type": "code",
   "execution_count": null,
   "id": "e88f44a3",
   "metadata": {
    "scrolled": true
   },
   "outputs": [],
   "source": [
    "configsOH = []\n",
    "for site in range(sub.info['nonH_count']):\n",
    "    configsOH += build_configuration_from_site(OH, sub, site, [], f=1.4)\n",
    "\n",
    "configsOH_relaxed = relax_configurations(configsOH, sub.info['calc_params'], {\n",
    "    'trajectory':None, \"fmax\":0.5}, multi_process=2)\n",
    "\n",
    "configsOH_filtered = filter_configurations(configsOH_relaxed, sub)"
   ]
  },
  {
   "cell_type": "code",
   "execution_count": null,
   "id": "e90f5d54",
   "metadata": {},
   "outputs": [],
   "source": [
    "energies = np.array([config.info['energy'] for config in configsOH_filtered])\n",
    "active_sites_configsOH = np.array([config.info['active_sites'][0] for config in configsOH_filtered])\n",
    "indx_sorted = energies.argsort()\n",
    "active_sites_ranked = active_sites_configsOH[indx_sorted]"
   ]
  },
  {
   "cell_type": "code",
   "execution_count": null,
   "id": "7d213889",
   "metadata": {},
   "outputs": [],
   "source": [
    "def mol_with_atom_index(mol):\n",
    "    for atom in mol.GetAtoms():\n",
    "        atom.SetAtomMapNum(atom.GetIdx())\n",
    "    return mol"
   ]
  },
  {
   "cell_type": "code",
   "execution_count": null,
   "id": "ee076f11",
   "metadata": {},
   "outputs": [],
   "source": [
    "from xtb.ase.calculator import XTB"
   ]
  },
  {
   "cell_type": "code",
   "execution_count": null,
   "id": "63db920e",
   "metadata": {},
   "outputs": [],
   "source": [
    "sub.calc = XTB(**sub.info['calc_params'])"
   ]
  },
  {
   "cell_type": "code",
   "execution_count": null,
   "id": "83c5d79c",
   "metadata": {},
   "outputs": [],
   "source": [
    "qs = sub.get_charges()"
   ]
  },
  {
   "cell_type": "code",
   "execution_count": null,
   "id": "e17c1f4f",
   "metadata": {},
   "outputs": [],
   "source": [
    "from ase.visualize.plot import plot_atoms"
   ]
  },
  {
   "cell_type": "code",
   "execution_count": null,
   "id": "4933f481",
   "metadata": {},
   "outputs": [],
   "source": [
    "qs_norm = (qs - qs.min()) / (qs.max() - qs.min())\n",
    "cmap = plt.get_cmap('Greys')\n",
    "colors = cmap(qs_norm)"
   ]
  },
  {
   "cell_type": "code",
   "execution_count": null,
   "id": "20e2723b",
   "metadata": {
    "scrolled": false
   },
   "outputs": [],
   "source": [
    "plot_atoms(sub, colors=colors)"
   ]
  },
  {
   "cell_type": "code",
   "execution_count": null,
   "id": "4eb2ce86",
   "metadata": {
    "scrolled": true
   },
   "outputs": [],
   "source": [
    "mol_with_atom_index(rdkit_smi)"
   ]
  },
  {
   "cell_type": "code",
   "execution_count": null,
   "id": "68000884",
   "metadata": {},
   "outputs": [],
   "source": [
    "active_sites_ranked"
   ]
  },
  {
   "cell_type": "code",
   "execution_count": null,
   "id": "f8612fe2",
   "metadata": {},
   "outputs": [],
   "source": []
  }
 ],
 "metadata": {
  "kernelspec": {
   "display_name": "Python 3 (ipykernel)",
   "language": "python",
   "name": "python3"
  },
  "language_info": {
   "codemirror_mode": {
    "name": "ipython",
    "version": 3
   },
   "file_extension": ".py",
   "mimetype": "text/x-python",
   "name": "python",
   "nbconvert_exporter": "python",
   "pygments_lexer": "ipython3",
   "version": "3.11.3"
  }
 },
 "nbformat": 4,
 "nbformat_minor": 5
}
